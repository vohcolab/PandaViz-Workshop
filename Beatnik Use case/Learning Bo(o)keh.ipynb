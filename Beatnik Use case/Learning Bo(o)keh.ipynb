{
 "cells": [
  {
   "cell_type": "markdown",
   "metadata": {},
   "source": [
    "# Learning Module - Bokeh\n",
    "\n",
    "### Here we will show you how to use some of the basic functionalities of Bokeh, a python visualization library.\n",
    "Keep in mind that there are several other libraries, each one with their own pros and cons, and, as of now, none of them can be classified as the best overall.\n",
    "\n",
    "Bokeh, Plotly and Matplotlib are the most well known in data visualization but there's more.\n",
    "\n",
    "Some of these can be used to create rich and interactive visualizations that can be server directly to the end-user in a web-page (Bokeh is one of them)\n",
    "\n",
    "[Bokeh](https://docs.bokeh.org/en/latest/index.html) is open-source, which means that you can see how it is built, and you can also help built it!\n",
    "\n",
    "Bookmark [this](https://docs.bokeh.org/en/latest/docs/user_guide/plotting.html)."
   ]
  },
  {
   "cell_type": "markdown",
   "metadata": {},
   "source": [
    "## Data !\n",
    "\n",
    "Let's use some covid data taken from the Jonh Hopkin's University."
   ]
  },
  {
   "cell_type": "code",
   "execution_count": 1,
   "metadata": {},
   "outputs": [],
   "source": [
    "import pandas as pd"
   ]
  },
  {
   "cell_type": "code",
   "execution_count": 2,
   "metadata": {},
   "outputs": [],
   "source": [
    "df = pd.read_csv(\"covid19data_cleaned.csv\")"
   ]
  },
  {
   "cell_type": "code",
   "execution_count": 3,
   "metadata": {},
   "outputs": [],
   "source": [
    "total = df.groupby(\"Country\").sum()"
   ]
  },
  {
   "cell_type": "code",
   "execution_count": 4,
   "metadata": {},
   "outputs": [],
   "source": [
    "from bokeh.io import output_file, show\n",
    "from bokeh.palettes import Category20c,Turbo256\n",
    "from bokeh.plotting import figure\n",
    "from bokeh.transform import cumsum\n",
    "from bokeh.io import output_notebook\n",
    "\n",
    "from math import pi\n",
    "\n"
   ]
  },
  {
   "cell_type": "markdown",
   "metadata": {},
   "source": [
    "Run this so that the plots are shown here"
   ]
  },
  {
   "cell_type": "code",
   "execution_count": 5,
   "metadata": {},
   "outputs": [
    {
     "data": {
      "text/html": [
       "\n",
       "    <div class=\"bk-root\">\n",
       "        <a href=\"https://bokeh.org\" target=\"_blank\" class=\"bk-logo bk-logo-small bk-logo-notebook\"></a>\n",
       "        <span id=\"1001\">Loading BokehJS ...</span>\n",
       "    </div>"
      ]
     },
     "metadata": {},
     "output_type": "display_data"
    },
    {
     "data": {
      "application/javascript": [
       "\n",
       "(function(root) {\n",
       "  function now() {\n",
       "    return new Date();\n",
       "  }\n",
       "\n",
       "  var force = true;\n",
       "\n",
       "  if (typeof root._bokeh_onload_callbacks === \"undefined\" || force === true) {\n",
       "    root._bokeh_onload_callbacks = [];\n",
       "    root._bokeh_is_loading = undefined;\n",
       "  }\n",
       "\n",
       "  var JS_MIME_TYPE = 'application/javascript';\n",
       "  var HTML_MIME_TYPE = 'text/html';\n",
       "  var EXEC_MIME_TYPE = 'application/vnd.bokehjs_exec.v0+json';\n",
       "  var CLASS_NAME = 'output_bokeh rendered_html';\n",
       "\n",
       "  /**\n",
       "   * Render data to the DOM node\n",
       "   */\n",
       "  function render(props, node) {\n",
       "    var script = document.createElement(\"script\");\n",
       "    node.appendChild(script);\n",
       "  }\n",
       "\n",
       "  /**\n",
       "   * Handle when an output is cleared or removed\n",
       "   */\n",
       "  function handleClearOutput(event, handle) {\n",
       "    var cell = handle.cell;\n",
       "\n",
       "    var id = cell.output_area._bokeh_element_id;\n",
       "    var server_id = cell.output_area._bokeh_server_id;\n",
       "    // Clean up Bokeh references\n",
       "    if (id != null && id in Bokeh.index) {\n",
       "      Bokeh.index[id].model.document.clear();\n",
       "      delete Bokeh.index[id];\n",
       "    }\n",
       "\n",
       "    if (server_id !== undefined) {\n",
       "      // Clean up Bokeh references\n",
       "      var cmd = \"from bokeh.io.state import curstate; print(curstate().uuid_to_server['\" + server_id + \"'].get_sessions()[0].document.roots[0]._id)\";\n",
       "      cell.notebook.kernel.execute(cmd, {\n",
       "        iopub: {\n",
       "          output: function(msg) {\n",
       "            var id = msg.content.text.trim();\n",
       "            if (id in Bokeh.index) {\n",
       "              Bokeh.index[id].model.document.clear();\n",
       "              delete Bokeh.index[id];\n",
       "            }\n",
       "          }\n",
       "        }\n",
       "      });\n",
       "      // Destroy server and session\n",
       "      var cmd = \"import bokeh.io.notebook as ion; ion.destroy_server('\" + server_id + \"')\";\n",
       "      cell.notebook.kernel.execute(cmd);\n",
       "    }\n",
       "  }\n",
       "\n",
       "  /**\n",
       "   * Handle when a new output is added\n",
       "   */\n",
       "  function handleAddOutput(event, handle) {\n",
       "    var output_area = handle.output_area;\n",
       "    var output = handle.output;\n",
       "\n",
       "    // limit handleAddOutput to display_data with EXEC_MIME_TYPE content only\n",
       "    if ((output.output_type != \"display_data\") || (!output.data.hasOwnProperty(EXEC_MIME_TYPE))) {\n",
       "      return\n",
       "    }\n",
       "\n",
       "    var toinsert = output_area.element.find(\".\" + CLASS_NAME.split(' ')[0]);\n",
       "\n",
       "    if (output.metadata[EXEC_MIME_TYPE][\"id\"] !== undefined) {\n",
       "      toinsert[toinsert.length - 1].firstChild.textContent = output.data[JS_MIME_TYPE];\n",
       "      // store reference to embed id on output_area\n",
       "      output_area._bokeh_element_id = output.metadata[EXEC_MIME_TYPE][\"id\"];\n",
       "    }\n",
       "    if (output.metadata[EXEC_MIME_TYPE][\"server_id\"] !== undefined) {\n",
       "      var bk_div = document.createElement(\"div\");\n",
       "      bk_div.innerHTML = output.data[HTML_MIME_TYPE];\n",
       "      var script_attrs = bk_div.children[0].attributes;\n",
       "      for (var i = 0; i < script_attrs.length; i++) {\n",
       "        toinsert[toinsert.length - 1].firstChild.setAttribute(script_attrs[i].name, script_attrs[i].value);\n",
       "        toinsert[toinsert.length - 1].firstChild.textContent = bk_div.children[0].textContent\n",
       "      }\n",
       "      // store reference to server id on output_area\n",
       "      output_area._bokeh_server_id = output.metadata[EXEC_MIME_TYPE][\"server_id\"];\n",
       "    }\n",
       "  }\n",
       "\n",
       "  function register_renderer(events, OutputArea) {\n",
       "\n",
       "    function append_mime(data, metadata, element) {\n",
       "      // create a DOM node to render to\n",
       "      var toinsert = this.create_output_subarea(\n",
       "        metadata,\n",
       "        CLASS_NAME,\n",
       "        EXEC_MIME_TYPE\n",
       "      );\n",
       "      this.keyboard_manager.register_events(toinsert);\n",
       "      // Render to node\n",
       "      var props = {data: data, metadata: metadata[EXEC_MIME_TYPE]};\n",
       "      render(props, toinsert[toinsert.length - 1]);\n",
       "      element.append(toinsert);\n",
       "      return toinsert\n",
       "    }\n",
       "\n",
       "    /* Handle when an output is cleared or removed */\n",
       "    events.on('clear_output.CodeCell', handleClearOutput);\n",
       "    events.on('delete.Cell', handleClearOutput);\n",
       "\n",
       "    /* Handle when a new output is added */\n",
       "    events.on('output_added.OutputArea', handleAddOutput);\n",
       "\n",
       "    /**\n",
       "     * Register the mime type and append_mime function with output_area\n",
       "     */\n",
       "    OutputArea.prototype.register_mime_type(EXEC_MIME_TYPE, append_mime, {\n",
       "      /* Is output safe? */\n",
       "      safe: true,\n",
       "      /* Index of renderer in `output_area.display_order` */\n",
       "      index: 0\n",
       "    });\n",
       "  }\n",
       "\n",
       "  // register the mime type if in Jupyter Notebook environment and previously unregistered\n",
       "  if (root.Jupyter !== undefined) {\n",
       "    var events = require('base/js/events');\n",
       "    var OutputArea = require('notebook/js/outputarea').OutputArea;\n",
       "\n",
       "    if (OutputArea.prototype.mime_types().indexOf(EXEC_MIME_TYPE) == -1) {\n",
       "      register_renderer(events, OutputArea);\n",
       "    }\n",
       "  }\n",
       "\n",
       "  \n",
       "  if (typeof (root._bokeh_timeout) === \"undefined\" || force === true) {\n",
       "    root._bokeh_timeout = Date.now() + 5000;\n",
       "    root._bokeh_failed_load = false;\n",
       "  }\n",
       "\n",
       "  var NB_LOAD_WARNING = {'data': {'text/html':\n",
       "     \"<div style='background-color: #fdd'>\\n\"+\n",
       "     \"<p>\\n\"+\n",
       "     \"BokehJS does not appear to have successfully loaded. If loading BokehJS from CDN, this \\n\"+\n",
       "     \"may be due to a slow or bad network connection. Possible fixes:\\n\"+\n",
       "     \"</p>\\n\"+\n",
       "     \"<ul>\\n\"+\n",
       "     \"<li>re-rerun `output_notebook()` to attempt to load from CDN again, or</li>\\n\"+\n",
       "     \"<li>use INLINE resources instead, as so:</li>\\n\"+\n",
       "     \"</ul>\\n\"+\n",
       "     \"<code>\\n\"+\n",
       "     \"from bokeh.resources import INLINE\\n\"+\n",
       "     \"output_notebook(resources=INLINE)\\n\"+\n",
       "     \"</code>\\n\"+\n",
       "     \"</div>\"}};\n",
       "\n",
       "  function display_loaded() {\n",
       "    var el = document.getElementById(\"1001\");\n",
       "    if (el != null) {\n",
       "      el.textContent = \"BokehJS is loading...\";\n",
       "    }\n",
       "    if (root.Bokeh !== undefined) {\n",
       "      if (el != null) {\n",
       "        el.textContent = \"BokehJS \" + root.Bokeh.version + \" successfully loaded.\";\n",
       "      }\n",
       "    } else if (Date.now() < root._bokeh_timeout) {\n",
       "      setTimeout(display_loaded, 100)\n",
       "    }\n",
       "  }\n",
       "\n",
       "\n",
       "  function run_callbacks() {\n",
       "    try {\n",
       "      root._bokeh_onload_callbacks.forEach(function(callback) {\n",
       "        if (callback != null)\n",
       "          callback();\n",
       "      });\n",
       "    } finally {\n",
       "      delete root._bokeh_onload_callbacks\n",
       "    }\n",
       "    console.debug(\"Bokeh: all callbacks have finished\");\n",
       "  }\n",
       "\n",
       "  function load_libs(css_urls, js_urls, callback) {\n",
       "    if (css_urls == null) css_urls = [];\n",
       "    if (js_urls == null) js_urls = [];\n",
       "\n",
       "    root._bokeh_onload_callbacks.push(callback);\n",
       "    if (root._bokeh_is_loading > 0) {\n",
       "      console.debug(\"Bokeh: BokehJS is being loaded, scheduling callback at\", now());\n",
       "      return null;\n",
       "    }\n",
       "    if (js_urls == null || js_urls.length === 0) {\n",
       "      run_callbacks();\n",
       "      return null;\n",
       "    }\n",
       "    console.debug(\"Bokeh: BokehJS not loaded, scheduling load and callback at\", now());\n",
       "    root._bokeh_is_loading = css_urls.length + js_urls.length;\n",
       "\n",
       "    function on_load() {\n",
       "      root._bokeh_is_loading--;\n",
       "      if (root._bokeh_is_loading === 0) {\n",
       "        console.debug(\"Bokeh: all BokehJS libraries/stylesheets loaded\");\n",
       "        run_callbacks()\n",
       "      }\n",
       "    }\n",
       "\n",
       "    function on_error() {\n",
       "      console.error(\"failed to load \" + url);\n",
       "    }\n",
       "\n",
       "    for (var i = 0; i < css_urls.length; i++) {\n",
       "      var url = css_urls[i];\n",
       "      const element = document.createElement(\"link\");\n",
       "      element.onload = on_load;\n",
       "      element.onerror = on_error;\n",
       "      element.rel = \"stylesheet\";\n",
       "      element.type = \"text/css\";\n",
       "      element.href = url;\n",
       "      console.debug(\"Bokeh: injecting link tag for BokehJS stylesheet: \", url);\n",
       "      document.body.appendChild(element);\n",
       "    }\n",
       "\n",
       "    const hashes = {\"https://cdn.bokeh.org/bokeh/release/bokeh-2.2.3.min.js\": \"T2yuo9Oe71Cz/I4X9Ac5+gpEa5a8PpJCDlqKYO0CfAuEszu1JrXLl8YugMqYe3sM\", \"https://cdn.bokeh.org/bokeh/release/bokeh-widgets-2.2.3.min.js\": \"98GDGJ0kOMCUMUePhksaQ/GYgB3+NH9h996V88sh3aOiUNX3N+fLXAtry6xctSZ6\", \"https://cdn.bokeh.org/bokeh/release/bokeh-tables-2.2.3.min.js\": \"89bArO+nlbP3sgakeHjCo1JYxYR5wufVgA3IbUvDY+K7w4zyxJqssu7wVnfeKCq8\"};\n",
       "\n",
       "    for (var i = 0; i < js_urls.length; i++) {\n",
       "      var url = js_urls[i];\n",
       "      var element = document.createElement('script');\n",
       "      element.onload = on_load;\n",
       "      element.onerror = on_error;\n",
       "      element.async = false;\n",
       "      element.src = url;\n",
       "      if (url in hashes) {\n",
       "        element.crossOrigin = \"anonymous\";\n",
       "        element.integrity = \"sha384-\" + hashes[url];\n",
       "      }\n",
       "      console.debug(\"Bokeh: injecting script tag for BokehJS library: \", url);\n",
       "      document.head.appendChild(element);\n",
       "    }\n",
       "  };\n",
       "\n",
       "  function inject_raw_css(css) {\n",
       "    const element = document.createElement(\"style\");\n",
       "    element.appendChild(document.createTextNode(css));\n",
       "    document.body.appendChild(element);\n",
       "  }\n",
       "\n",
       "  \n",
       "  var js_urls = [\"https://cdn.bokeh.org/bokeh/release/bokeh-2.2.3.min.js\", \"https://cdn.bokeh.org/bokeh/release/bokeh-widgets-2.2.3.min.js\", \"https://cdn.bokeh.org/bokeh/release/bokeh-tables-2.2.3.min.js\"];\n",
       "  var css_urls = [];\n",
       "  \n",
       "\n",
       "  var inline_js = [\n",
       "    function(Bokeh) {\n",
       "      Bokeh.set_log_level(\"info\");\n",
       "    },\n",
       "    function(Bokeh) {\n",
       "    \n",
       "    \n",
       "    }\n",
       "  ];\n",
       "\n",
       "  function run_inline_js() {\n",
       "    \n",
       "    if (root.Bokeh !== undefined || force === true) {\n",
       "      \n",
       "    for (var i = 0; i < inline_js.length; i++) {\n",
       "      inline_js[i].call(root, root.Bokeh);\n",
       "    }\n",
       "    if (force === true) {\n",
       "        display_loaded();\n",
       "      }} else if (Date.now() < root._bokeh_timeout) {\n",
       "      setTimeout(run_inline_js, 100);\n",
       "    } else if (!root._bokeh_failed_load) {\n",
       "      console.log(\"Bokeh: BokehJS failed to load within specified timeout.\");\n",
       "      root._bokeh_failed_load = true;\n",
       "    } else if (force !== true) {\n",
       "      var cell = $(document.getElementById(\"1001\")).parents('.cell').data().cell;\n",
       "      cell.output_area.append_execute_result(NB_LOAD_WARNING)\n",
       "    }\n",
       "\n",
       "  }\n",
       "\n",
       "  if (root._bokeh_is_loading === 0) {\n",
       "    console.debug(\"Bokeh: BokehJS loaded, going straight to plotting\");\n",
       "    run_inline_js();\n",
       "  } else {\n",
       "    load_libs(css_urls, js_urls, function() {\n",
       "      console.debug(\"Bokeh: BokehJS plotting callback run at\", now());\n",
       "      run_inline_js();\n",
       "    });\n",
       "  }\n",
       "}(window));"
      ],
      "application/vnd.bokehjs_load.v0+json": "\n(function(root) {\n  function now() {\n    return new Date();\n  }\n\n  var force = true;\n\n  if (typeof root._bokeh_onload_callbacks === \"undefined\" || force === true) {\n    root._bokeh_onload_callbacks = [];\n    root._bokeh_is_loading = undefined;\n  }\n\n  \n\n  \n  if (typeof (root._bokeh_timeout) === \"undefined\" || force === true) {\n    root._bokeh_timeout = Date.now() + 5000;\n    root._bokeh_failed_load = false;\n  }\n\n  var NB_LOAD_WARNING = {'data': {'text/html':\n     \"<div style='background-color: #fdd'>\\n\"+\n     \"<p>\\n\"+\n     \"BokehJS does not appear to have successfully loaded. If loading BokehJS from CDN, this \\n\"+\n     \"may be due to a slow or bad network connection. Possible fixes:\\n\"+\n     \"</p>\\n\"+\n     \"<ul>\\n\"+\n     \"<li>re-rerun `output_notebook()` to attempt to load from CDN again, or</li>\\n\"+\n     \"<li>use INLINE resources instead, as so:</li>\\n\"+\n     \"</ul>\\n\"+\n     \"<code>\\n\"+\n     \"from bokeh.resources import INLINE\\n\"+\n     \"output_notebook(resources=INLINE)\\n\"+\n     \"</code>\\n\"+\n     \"</div>\"}};\n\n  function display_loaded() {\n    var el = document.getElementById(\"1001\");\n    if (el != null) {\n      el.textContent = \"BokehJS is loading...\";\n    }\n    if (root.Bokeh !== undefined) {\n      if (el != null) {\n        el.textContent = \"BokehJS \" + root.Bokeh.version + \" successfully loaded.\";\n      }\n    } else if (Date.now() < root._bokeh_timeout) {\n      setTimeout(display_loaded, 100)\n    }\n  }\n\n\n  function run_callbacks() {\n    try {\n      root._bokeh_onload_callbacks.forEach(function(callback) {\n        if (callback != null)\n          callback();\n      });\n    } finally {\n      delete root._bokeh_onload_callbacks\n    }\n    console.debug(\"Bokeh: all callbacks have finished\");\n  }\n\n  function load_libs(css_urls, js_urls, callback) {\n    if (css_urls == null) css_urls = [];\n    if (js_urls == null) js_urls = [];\n\n    root._bokeh_onload_callbacks.push(callback);\n    if (root._bokeh_is_loading > 0) {\n      console.debug(\"Bokeh: BokehJS is being loaded, scheduling callback at\", now());\n      return null;\n    }\n    if (js_urls == null || js_urls.length === 0) {\n      run_callbacks();\n      return null;\n    }\n    console.debug(\"Bokeh: BokehJS not loaded, scheduling load and callback at\", now());\n    root._bokeh_is_loading = css_urls.length + js_urls.length;\n\n    function on_load() {\n      root._bokeh_is_loading--;\n      if (root._bokeh_is_loading === 0) {\n        console.debug(\"Bokeh: all BokehJS libraries/stylesheets loaded\");\n        run_callbacks()\n      }\n    }\n\n    function on_error() {\n      console.error(\"failed to load \" + url);\n    }\n\n    for (var i = 0; i < css_urls.length; i++) {\n      var url = css_urls[i];\n      const element = document.createElement(\"link\");\n      element.onload = on_load;\n      element.onerror = on_error;\n      element.rel = \"stylesheet\";\n      element.type = \"text/css\";\n      element.href = url;\n      console.debug(\"Bokeh: injecting link tag for BokehJS stylesheet: \", url);\n      document.body.appendChild(element);\n    }\n\n    const hashes = {\"https://cdn.bokeh.org/bokeh/release/bokeh-2.2.3.min.js\": \"T2yuo9Oe71Cz/I4X9Ac5+gpEa5a8PpJCDlqKYO0CfAuEszu1JrXLl8YugMqYe3sM\", \"https://cdn.bokeh.org/bokeh/release/bokeh-widgets-2.2.3.min.js\": \"98GDGJ0kOMCUMUePhksaQ/GYgB3+NH9h996V88sh3aOiUNX3N+fLXAtry6xctSZ6\", \"https://cdn.bokeh.org/bokeh/release/bokeh-tables-2.2.3.min.js\": \"89bArO+nlbP3sgakeHjCo1JYxYR5wufVgA3IbUvDY+K7w4zyxJqssu7wVnfeKCq8\"};\n\n    for (var i = 0; i < js_urls.length; i++) {\n      var url = js_urls[i];\n      var element = document.createElement('script');\n      element.onload = on_load;\n      element.onerror = on_error;\n      element.async = false;\n      element.src = url;\n      if (url in hashes) {\n        element.crossOrigin = \"anonymous\";\n        element.integrity = \"sha384-\" + hashes[url];\n      }\n      console.debug(\"Bokeh: injecting script tag for BokehJS library: \", url);\n      document.head.appendChild(element);\n    }\n  };\n\n  function inject_raw_css(css) {\n    const element = document.createElement(\"style\");\n    element.appendChild(document.createTextNode(css));\n    document.body.appendChild(element);\n  }\n\n  \n  var js_urls = [\"https://cdn.bokeh.org/bokeh/release/bokeh-2.2.3.min.js\", \"https://cdn.bokeh.org/bokeh/release/bokeh-widgets-2.2.3.min.js\", \"https://cdn.bokeh.org/bokeh/release/bokeh-tables-2.2.3.min.js\"];\n  var css_urls = [];\n  \n\n  var inline_js = [\n    function(Bokeh) {\n      Bokeh.set_log_level(\"info\");\n    },\n    function(Bokeh) {\n    \n    \n    }\n  ];\n\n  function run_inline_js() {\n    \n    if (root.Bokeh !== undefined || force === true) {\n      \n    for (var i = 0; i < inline_js.length; i++) {\n      inline_js[i].call(root, root.Bokeh);\n    }\n    if (force === true) {\n        display_loaded();\n      }} else if (Date.now() < root._bokeh_timeout) {\n      setTimeout(run_inline_js, 100);\n    } else if (!root._bokeh_failed_load) {\n      console.log(\"Bokeh: BokehJS failed to load within specified timeout.\");\n      root._bokeh_failed_load = true;\n    } else if (force !== true) {\n      var cell = $(document.getElementById(\"1001\")).parents('.cell').data().cell;\n      cell.output_area.append_execute_result(NB_LOAD_WARNING)\n    }\n\n  }\n\n  if (root._bokeh_is_loading === 0) {\n    console.debug(\"Bokeh: BokehJS loaded, going straight to plotting\");\n    run_inline_js();\n  } else {\n    load_libs(css_urls, js_urls, function() {\n      console.debug(\"Bokeh: BokehJS plotting callback run at\", now());\n      run_inline_js();\n    });\n  }\n}(window));"
     },
     "metadata": {},
     "output_type": "display_data"
    }
   ],
   "source": [
    "output_notebook()"
   ]
  },
  {
   "cell_type": "markdown",
   "metadata": {},
   "source": [
    "## Ya'll like pies?\n",
    "#### Everybody likes pies. That was retorical.\n",
    "*I dont remember the last time I had one thou*"
   ]
  },
  {
   "cell_type": "code",
   "execution_count": 6,
   "metadata": {},
   "outputs": [],
   "source": [
    "n = 15"
   ]
  },
  {
   "cell_type": "code",
   "execution_count": 7,
   "metadata": {},
   "outputs": [],
   "source": [
    "n_largest = total[\"confirmed_cases\"].nlargest(n)"
   ]
  },
  {
   "cell_type": "markdown",
   "metadata": {},
   "source": [
    "We need data for the pie. \n",
    "\n",
    "Let us setup the recipe first."
   ]
  },
  {
   "cell_type": "code",
   "execution_count": 8,
   "metadata": {},
   "outputs": [],
   "source": [
    "data = pd.Series(n_largest).reset_index(name='value').rename(columns={'index':'Country'})\n",
    "data['angle'] = data['value']/data['value'].sum() * 2*pi\n",
    "data['color'] = Category20c[n]"
   ]
  },
  {
   "cell_type": "code",
   "execution_count": 9,
   "metadata": {},
   "outputs": [
    {
     "data": {
      "text/html": [
       "<div>\n",
       "<style scoped>\n",
       "    .dataframe tbody tr th:only-of-type {\n",
       "        vertical-align: middle;\n",
       "    }\n",
       "\n",
       "    .dataframe tbody tr th {\n",
       "        vertical-align: top;\n",
       "    }\n",
       "\n",
       "    .dataframe thead th {\n",
       "        text-align: right;\n",
       "    }\n",
       "</style>\n",
       "<table border=\"1\" class=\"dataframe\">\n",
       "  <thead>\n",
       "    <tr style=\"text-align: right;\">\n",
       "      <th></th>\n",
       "      <th>Country</th>\n",
       "      <th>value</th>\n",
       "      <th>angle</th>\n",
       "      <th>color</th>\n",
       "    </tr>\n",
       "  </thead>\n",
       "  <tbody>\n",
       "    <tr>\n",
       "      <th>0</th>\n",
       "      <td>US</td>\n",
       "      <td>11202979.0</td>\n",
       "      <td>1.723609</td>\n",
       "      <td>#3182bd</td>\n",
       "    </tr>\n",
       "    <tr>\n",
       "      <th>1</th>\n",
       "      <td>India</td>\n",
       "      <td>8873541.0</td>\n",
       "      <td>1.365219</td>\n",
       "      <td>#6baed6</td>\n",
       "    </tr>\n",
       "    <tr>\n",
       "      <th>2</th>\n",
       "      <td>Brazil</td>\n",
       "      <td>5876464.0</td>\n",
       "      <td>0.904110</td>\n",
       "      <td>#9ecae1</td>\n",
       "    </tr>\n",
       "    <tr>\n",
       "      <th>3</th>\n",
       "      <td>France</td>\n",
       "      <td>2041293.0</td>\n",
       "      <td>0.314059</td>\n",
       "      <td>#c6dbef</td>\n",
       "    </tr>\n",
       "    <tr>\n",
       "      <th>4</th>\n",
       "      <td>Russia</td>\n",
       "      <td>1932711.0</td>\n",
       "      <td>0.297353</td>\n",
       "      <td>#e6550d</td>\n",
       "    </tr>\n",
       "    <tr>\n",
       "      <th>5</th>\n",
       "      <td>Spain</td>\n",
       "      <td>1496864.0</td>\n",
       "      <td>0.230297</td>\n",
       "      <td>#fd8d3c</td>\n",
       "    </tr>\n",
       "    <tr>\n",
       "      <th>6</th>\n",
       "      <td>United Kingdom</td>\n",
       "      <td>1394299.0</td>\n",
       "      <td>0.214517</td>\n",
       "      <td>#fdae6b</td>\n",
       "    </tr>\n",
       "    <tr>\n",
       "      <th>7</th>\n",
       "      <td>Argentina</td>\n",
       "      <td>1318384.0</td>\n",
       "      <td>0.202837</td>\n",
       "      <td>#fdd0a2</td>\n",
       "    </tr>\n",
       "    <tr>\n",
       "      <th>8</th>\n",
       "      <td>Italy</td>\n",
       "      <td>1205881.0</td>\n",
       "      <td>0.185528</td>\n",
       "      <td>#31a354</td>\n",
       "    </tr>\n",
       "    <tr>\n",
       "      <th>9</th>\n",
       "      <td>Colombia</td>\n",
       "      <td>1205217.0</td>\n",
       "      <td>0.185426</td>\n",
       "      <td>#74c476</td>\n",
       "    </tr>\n",
       "    <tr>\n",
       "      <th>10</th>\n",
       "      <td>Mexico</td>\n",
       "      <td>1009396.0</td>\n",
       "      <td>0.155298</td>\n",
       "      <td>#a1d99b</td>\n",
       "    </tr>\n",
       "    <tr>\n",
       "      <th>11</th>\n",
       "      <td>Peru</td>\n",
       "      <td>937011.0</td>\n",
       "      <td>0.144162</td>\n",
       "      <td>#c7e9c0</td>\n",
       "    </tr>\n",
       "    <tr>\n",
       "      <th>12</th>\n",
       "      <td>Germany</td>\n",
       "      <td>817526.0</td>\n",
       "      <td>0.125779</td>\n",
       "      <td>#756bb1</td>\n",
       "    </tr>\n",
       "    <tr>\n",
       "      <th>13</th>\n",
       "      <td>Iran</td>\n",
       "      <td>775121.0</td>\n",
       "      <td>0.119254</td>\n",
       "      <td>#9e9ac8</td>\n",
       "    </tr>\n",
       "    <tr>\n",
       "      <th>14</th>\n",
       "      <td>South Africa</td>\n",
       "      <td>752269.0</td>\n",
       "      <td>0.115739</td>\n",
       "      <td>#bcbddc</td>\n",
       "    </tr>\n",
       "  </tbody>\n",
       "</table>\n",
       "</div>"
      ],
      "text/plain": [
       "           Country       value     angle    color\n",
       "0               US  11202979.0  1.723609  #3182bd\n",
       "1            India   8873541.0  1.365219  #6baed6\n",
       "2           Brazil   5876464.0  0.904110  #9ecae1\n",
       "3           France   2041293.0  0.314059  #c6dbef\n",
       "4           Russia   1932711.0  0.297353  #e6550d\n",
       "5            Spain   1496864.0  0.230297  #fd8d3c\n",
       "6   United Kingdom   1394299.0  0.214517  #fdae6b\n",
       "7        Argentina   1318384.0  0.202837  #fdd0a2\n",
       "8            Italy   1205881.0  0.185528  #31a354\n",
       "9         Colombia   1205217.0  0.185426  #74c476\n",
       "10          Mexico   1009396.0  0.155298  #a1d99b\n",
       "11            Peru    937011.0  0.144162  #c7e9c0\n",
       "12         Germany    817526.0  0.125779  #756bb1\n",
       "13            Iran    775121.0  0.119254  #9e9ac8\n",
       "14    South Africa    752269.0  0.115739  #bcbddc"
      ]
     },
     "execution_count": 9,
     "metadata": {},
     "output_type": "execute_result"
    }
   ],
   "source": [
    "data"
   ]
  },
  {
   "cell_type": "markdown",
   "metadata": {},
   "source": [
    "### Pie Chart!\n",
    "\n",
    "#### Not an actual pie, I am sorry."
   ]
  },
  {
   "cell_type": "markdown",
   "metadata": {},
   "source": [
    "#### Let's see the confirmed cases"
   ]
  },
  {
   "cell_type": "code",
   "execution_count": 10,
   "metadata": {},
   "outputs": [
    {
     "data": {
      "text/html": [
       "\n",
       "\n",
       "\n",
       "\n",
       "\n",
       "\n",
       "  <div class=\"bk-root\" id=\"722a1683-cb8f-4d14-865d-a463a122a893\" data-root-id=\"1002\"></div>\n"
      ]
     },
     "metadata": {},
     "output_type": "display_data"
    },
    {
     "data": {
      "application/javascript": [
       "(function(root) {\n",
       "  function embed_document(root) {\n",
       "    \n",
       "  var docs_json = {\"b2239995-9d53-4c94-9cb1-aca3f080bcd0\":{\"roots\":{\"references\":[{\"attributes\":{\"below\":[{\"id\":\"1013\"}],\"center\":[{\"id\":\"1016\"},{\"id\":\"1020\"},{\"id\":\"1039\"}],\"left\":[{\"id\":\"1017\"}],\"plot_height\":350,\"renderers\":[{\"id\":\"1030\"}],\"title\":{\"id\":\"1003\"},\"toolbar\":{\"id\":\"1022\"},\"toolbar_location\":null,\"x_range\":{\"id\":\"1005\"},\"x_scale\":{\"id\":\"1009\"},\"y_range\":{\"id\":\"1007\"},\"y_scale\":{\"id\":\"1011\"}},\"id\":\"1002\",\"subtype\":\"Figure\",\"type\":\"Plot\"},{\"attributes\":{\"callback\":null,\"tooltips\":\"@Country: @value\"},\"id\":\"1021\",\"type\":\"HoverTool\"},{\"attributes\":{},\"id\":\"1038\",\"type\":\"UnionRenderers\"},{\"attributes\":{\"items\":[{\"id\":\"1040\"}]},\"id\":\"1039\",\"type\":\"Legend\"},{\"attributes\":{\"data_source\":{\"id\":\"1026\"},\"glyph\":{\"id\":\"1028\"},\"hover_glyph\":null,\"muted_glyph\":null,\"nonselection_glyph\":{\"id\":\"1029\"},\"selection_glyph\":null,\"view\":{\"id\":\"1031\"}},\"id\":\"1030\",\"type\":\"GlyphRenderer\"},{\"attributes\":{\"field\":\"angle\",\"include_zero\":true},\"id\":\"1024\",\"type\":\"CumSum\"},{\"attributes\":{\"end_angle\":{\"expr\":{\"id\":\"1025\"},\"units\":\"rad\"},\"fill_color\":{\"field\":\"color\"},\"line_color\":{\"value\":\"white\"},\"radius\":{\"units\":\"data\",\"value\":0.4},\"start_angle\":{\"expr\":{\"id\":\"1024\"},\"units\":\"rad\"},\"x\":{\"value\":0},\"y\":{\"value\":1}},\"id\":\"1028\",\"type\":\"Wedge\"},{\"attributes\":{\"label\":{\"field\":\"Country\"},\"renderers\":[{\"id\":\"1030\"}]},\"id\":\"1040\",\"type\":\"LegendItem\"},{\"attributes\":{\"active_drag\":\"auto\",\"active_inspect\":\"auto\",\"active_multi\":null,\"active_scroll\":\"auto\",\"active_tap\":\"auto\",\"tools\":[{\"id\":\"1021\"}]},\"id\":\"1022\",\"type\":\"Toolbar\"},{\"attributes\":{\"text\":\"Top 15 Confirmed cases\"},\"id\":\"1003\",\"type\":\"Title\"},{\"attributes\":{\"start\":-0.5},\"id\":\"1005\",\"type\":\"Range1d\"},{\"attributes\":{\"field\":\"angle\"},\"id\":\"1025\",\"type\":\"CumSum\"},{\"attributes\":{\"data\":{\"Country\":[\"US\",\"India\",\"Brazil\",\"France\",\"Russia\",\"Spain\",\"United Kingdom\",\"Argentina\",\"Italy\",\"Colombia\",\"Mexico\",\"Peru\",\"Germany\",\"Iran\",\"South Africa\"],\"angle\":{\"__ndarray__\":\"WIsKDueT+z97SBN279f1PyaZmEl47uw/auvh6ogZ1D869Vpk1AfTPxHhmCRces0/j3K/sUh1yz9uotICkPbJP0KtF3piv8c/+mX8ggm8xz/WIu7n0ODDPyjWvxPkc8I/fxFwgIMZwD89VVpXdoe+Pz5AYUkMob0/\",\"dtype\":\"float64\",\"order\":\"little\",\"shape\":[15]},\"color\":[\"#3182bd\",\"#6baed6\",\"#9ecae1\",\"#c6dbef\",\"#e6550d\",\"#fd8d3c\",\"#fdae6b\",\"#fdd0a2\",\"#31a354\",\"#74c476\",\"#a1d99b\",\"#c7e9c0\",\"#756bb1\",\"#9e9ac8\",\"#bcbddc\"],\"index\":[0,1,2,3,4,5,6,7,8,9,10,11,12,13,14],\"value\":{\"__ndarray__\":\"AAAAYDReZUEAAACgyOxgQQAAAAC8alZBAAAAAM0lP0EAAAAAp309QQAAAAAg1zZBAAAAAHtGNUEAAAAA8B00QQAAAAB5ZjJBAAAAAOFjMkEAAAAA6M0uQQAAAABmmCxBAAAAAOzyKEEAAAAAoqcnQQAAAAAa9SZB\",\"dtype\":\"float64\",\"order\":\"little\",\"shape\":[15]}},\"selected\":{\"id\":\"1037\"},\"selection_policy\":{\"id\":\"1038\"}},\"id\":\"1026\",\"type\":\"ColumnDataSource\"},{\"attributes\":{},\"id\":\"1033\",\"type\":\"BasicTickFormatter\"},{\"attributes\":{},\"id\":\"1007\",\"type\":\"DataRange1d\"},{\"attributes\":{},\"id\":\"1035\",\"type\":\"BasicTickFormatter\"},{\"attributes\":{},\"id\":\"1009\",\"type\":\"LinearScale\"},{\"attributes\":{\"end_angle\":{\"expr\":{\"id\":\"1025\"},\"units\":\"rad\"},\"fill_alpha\":{\"value\":0.1},\"fill_color\":{\"field\":\"color\"},\"line_alpha\":{\"value\":0.1},\"line_color\":{\"value\":\"white\"},\"radius\":{\"units\":\"data\",\"value\":0.4},\"start_angle\":{\"expr\":{\"id\":\"1024\"},\"units\":\"rad\"},\"x\":{\"value\":0},\"y\":{\"value\":1}},\"id\":\"1029\",\"type\":\"Wedge\"},{\"attributes\":{},\"id\":\"1011\",\"type\":\"LinearScale\"},{\"attributes\":{\"axis_label\":null,\"formatter\":{\"id\":\"1035\"},\"ticker\":{\"id\":\"1014\"},\"visible\":false},\"id\":\"1013\",\"type\":\"LinearAxis\"},{\"attributes\":{},\"id\":\"1014\",\"type\":\"BasicTicker\"},{\"attributes\":{\"axis\":{\"id\":\"1013\"},\"grid_line_color\":null,\"ticker\":null},\"id\":\"1016\",\"type\":\"Grid\"},{\"attributes\":{\"source\":{\"id\":\"1026\"}},\"id\":\"1031\",\"type\":\"CDSView\"},{\"attributes\":{\"axis_label\":null,\"formatter\":{\"id\":\"1033\"},\"ticker\":{\"id\":\"1018\"},\"visible\":false},\"id\":\"1017\",\"type\":\"LinearAxis\"},{\"attributes\":{},\"id\":\"1018\",\"type\":\"BasicTicker\"},{\"attributes\":{\"axis\":{\"id\":\"1017\"},\"dimension\":1,\"grid_line_color\":null,\"ticker\":null},\"id\":\"1020\",\"type\":\"Grid\"},{\"attributes\":{},\"id\":\"1037\",\"type\":\"Selection\"}],\"root_ids\":[\"1002\"]},\"title\":\"Bokeh Application\",\"version\":\"2.2.3\"}};\n",
       "  var render_items = [{\"docid\":\"b2239995-9d53-4c94-9cb1-aca3f080bcd0\",\"root_ids\":[\"1002\"],\"roots\":{\"1002\":\"722a1683-cb8f-4d14-865d-a463a122a893\"}}];\n",
       "  root.Bokeh.embed.embed_items_notebook(docs_json, render_items);\n",
       "\n",
       "  }\n",
       "  if (root.Bokeh !== undefined) {\n",
       "    embed_document(root);\n",
       "  } else {\n",
       "    var attempts = 0;\n",
       "    var timer = setInterval(function(root) {\n",
       "      if (root.Bokeh !== undefined) {\n",
       "        clearInterval(timer);\n",
       "        embed_document(root);\n",
       "      } else {\n",
       "        attempts++;\n",
       "        if (attempts > 100) {\n",
       "          clearInterval(timer);\n",
       "          console.log(\"Bokeh: ERROR: Unable to run BokehJS code because BokehJS library is missing\");\n",
       "        }\n",
       "      }\n",
       "    }, 10, root)\n",
       "  }\n",
       "})(window);"
      ],
      "application/vnd.bokehjs_exec.v0+json": ""
     },
     "metadata": {
      "application/vnd.bokehjs_exec.v0+json": {
       "id": "1002"
      }
     },
     "output_type": "display_data"
    }
   ],
   "source": [
    "p = figure(plot_height=350, title=\"Top {} Confirmed cases\".format(n), toolbar_location=None,\n",
    "           tools=\"hover\", tooltips=\"@Country: @value\", x_range=(-0.5, 1.0))\n",
    "\n",
    "p.wedge(x=0, y=1, radius=0.4,\n",
    "        start_angle=cumsum('angle', include_zero=True), end_angle=cumsum('angle'),\n",
    "        line_color=\"white\", fill_color='color', legend_field='Country', source=data)\n",
    "\n",
    "p.axis.axis_label=None\n",
    "p.axis.visible=False\n",
    "p.grid.grid_line_color = None\n",
    "show(p)"
   ]
  },
  {
   "cell_type": "markdown",
   "metadata": {},
   "source": [
    "## What about deaths?"
   ]
  },
  {
   "cell_type": "code",
   "execution_count": 11,
   "metadata": {},
   "outputs": [],
   "source": [
    "n_largest = total[\"deaths\"].nlargest(n)\n",
    "data = pd.Series(n_largest).reset_index(name='value').rename(columns={'index':'Country'})\n",
    "data['angle'] = data['value']/data['value'].sum() * 2*pi\n",
    "data['color'] = Category20c[n] #Picking n colors from this palette"
   ]
  },
  {
   "cell_type": "code",
   "execution_count": 12,
   "metadata": {},
   "outputs": [
    {
     "data": {
      "text/html": [
       "\n",
       "\n",
       "\n",
       "\n",
       "\n",
       "\n",
       "  <div class=\"bk-root\" id=\"6640fcbb-a6c1-4328-9947-f50a4298af85\" data-root-id=\"1083\"></div>\n"
      ]
     },
     "metadata": {},
     "output_type": "display_data"
    },
    {
     "data": {
      "application/javascript": [
       "(function(root) {\n",
       "  function embed_document(root) {\n",
       "    \n",
       "  var docs_json = {\"4b3e0335-72dc-43be-8ed8-ee740275987b\":{\"roots\":{\"references\":[{\"attributes\":{\"below\":[{\"id\":\"1094\"}],\"center\":[{\"id\":\"1097\"},{\"id\":\"1101\"},{\"id\":\"1120\"}],\"left\":[{\"id\":\"1098\"}],\"plot_height\":350,\"renderers\":[{\"id\":\"1111\"}],\"title\":{\"id\":\"1084\"},\"toolbar\":{\"id\":\"1103\"},\"toolbar_location\":null,\"x_range\":{\"id\":\"1086\"},\"x_scale\":{\"id\":\"1090\"},\"y_range\":{\"id\":\"1088\"},\"y_scale\":{\"id\":\"1092\"}},\"id\":\"1083\",\"subtype\":\"Figure\",\"type\":\"Plot\"},{\"attributes\":{\"end_angle\":{\"expr\":{\"id\":\"1106\"},\"units\":\"rad\"},\"fill_color\":{\"field\":\"color\"},\"line_color\":{\"value\":\"white\"},\"radius\":{\"units\":\"data\",\"value\":0.4},\"start_angle\":{\"expr\":{\"id\":\"1105\"},\"units\":\"rad\"},\"x\":{\"value\":0},\"y\":{\"value\":1}},\"id\":\"1109\",\"type\":\"Wedge\"},{\"attributes\":{},\"id\":\"1118\",\"type\":\"Selection\"},{\"attributes\":{\"axis_label\":null,\"formatter\":{\"id\":\"1116\"},\"ticker\":{\"id\":\"1095\"},\"visible\":false},\"id\":\"1094\",\"type\":\"LinearAxis\"},{\"attributes\":{\"data_source\":{\"id\":\"1107\"},\"glyph\":{\"id\":\"1109\"},\"hover_glyph\":null,\"muted_glyph\":null,\"nonselection_glyph\":{\"id\":\"1110\"},\"selection_glyph\":null,\"view\":{\"id\":\"1112\"}},\"id\":\"1111\",\"type\":\"GlyphRenderer\"},{\"attributes\":{\"axis\":{\"id\":\"1098\"},\"dimension\":1,\"grid_line_color\":null,\"ticker\":null},\"id\":\"1101\",\"type\":\"Grid\"},{\"attributes\":{\"label\":{\"field\":\"Country\"},\"renderers\":[{\"id\":\"1111\"}]},\"id\":\"1121\",\"type\":\"LegendItem\"},{\"attributes\":{},\"id\":\"1095\",\"type\":\"BasicTicker\"},{\"attributes\":{\"active_drag\":\"auto\",\"active_inspect\":\"auto\",\"active_multi\":null,\"active_scroll\":\"auto\",\"active_tap\":\"auto\",\"tools\":[{\"id\":\"1102\"}]},\"id\":\"1103\",\"type\":\"Toolbar\"},{\"attributes\":{\"axis\":{\"id\":\"1094\"},\"grid_line_color\":null,\"ticker\":null},\"id\":\"1097\",\"type\":\"Grid\"},{\"attributes\":{},\"id\":\"1119\",\"type\":\"UnionRenderers\"},{\"attributes\":{\"source\":{\"id\":\"1107\"}},\"id\":\"1112\",\"type\":\"CDSView\"},{\"attributes\":{},\"id\":\"1092\",\"type\":\"LinearScale\"},{\"attributes\":{},\"id\":\"1099\",\"type\":\"BasicTicker\"},{\"attributes\":{\"end_angle\":{\"expr\":{\"id\":\"1106\"},\"units\":\"rad\"},\"fill_alpha\":{\"value\":0.1},\"fill_color\":{\"field\":\"color\"},\"line_alpha\":{\"value\":0.1},\"line_color\":{\"value\":\"white\"},\"radius\":{\"units\":\"data\",\"value\":0.4},\"start_angle\":{\"expr\":{\"id\":\"1105\"},\"units\":\"rad\"},\"x\":{\"value\":0},\"y\":{\"value\":1}},\"id\":\"1110\",\"type\":\"Wedge\"},{\"attributes\":{},\"id\":\"1090\",\"type\":\"LinearScale\"},{\"attributes\":{},\"id\":\"1114\",\"type\":\"BasicTickFormatter\"},{\"attributes\":{},\"id\":\"1116\",\"type\":\"BasicTickFormatter\"},{\"attributes\":{\"data\":{\"Country\":[\"US\",\"Brazil\",\"India\",\"Mexico\",\"United Kingdom\",\"Italy\",\"France\",\"Iran\",\"Spain\",\"Argentina\",\"Peru\",\"Colombia\",\"Russia\",\"South Africa\",\"Indonesia\"],\"angle\":{\"__ndarray__\":\"SgPWVGDU9z+psuDl1wDwPy91BvkGKek/n6p55FIP4z/SUU7apiTUP3TnjjRXotE/v5ARQgdm0T+We+bDxy/QPymLaos70M8/Jnuj6keNyz9VjBAdXCvLP0rQYd5bZMo/UuXZ4jyXyT8jG1gX2FS/P1smPWaFl7c/\",\"dtype\":\"float64\",\"order\":\"little\",\"shape\":[15]},\"color\":[\"#3182bd\",\"#6baed6\",\"#9ecae1\",\"#c6dbef\",\"#e6550d\",\"#fd8d3c\",\"#fdae6b\",\"#fdd0a2\",\"#31a354\",\"#74c476\",\"#a1d99b\",\"#c7e9c0\",\"#756bb1\",\"#9e9ac8\",\"#bcbddc\"],\"index\":[0,1,2,3,4,5,6,7,8,9,10,11,12,13,14],\"value\":{\"__ndarray__\":\"AAAAABAtDkEAAAAA8EMEQQAAAABw3P9AAAAAANAi+EAAAAAAAILpQAAAAACgVOZAAAAAAEAI5kAAAAAAYH/kQAAAAACgJORAAAAAAOBx4UAAAAAA4DPhQAAAAADgteBAAAAAAAA04EAAAAAAgNbTQAAAAAAA4M1A\",\"dtype\":\"float64\",\"order\":\"little\",\"shape\":[15]}},\"selected\":{\"id\":\"1118\"},\"selection_policy\":{\"id\":\"1119\"}},\"id\":\"1107\",\"type\":\"ColumnDataSource\"},{\"attributes\":{\"field\":\"angle\"},\"id\":\"1106\",\"type\":\"CumSum\"},{\"attributes\":{\"field\":\"angle\",\"include_zero\":true},\"id\":\"1105\",\"type\":\"CumSum\"},{\"attributes\":{\"callback\":null,\"tooltips\":\"@Country: @value\"},\"id\":\"1102\",\"type\":\"HoverTool\"},{\"attributes\":{},\"id\":\"1088\",\"type\":\"DataRange1d\"},{\"attributes\":{\"axis_label\":null,\"formatter\":{\"id\":\"1114\"},\"ticker\":{\"id\":\"1099\"},\"visible\":false},\"id\":\"1098\",\"type\":\"LinearAxis\"},{\"attributes\":{\"start\":-0.5},\"id\":\"1086\",\"type\":\"Range1d\"},{\"attributes\":{\"text\":\"Top 15 Deaths\"},\"id\":\"1084\",\"type\":\"Title\"},{\"attributes\":{\"items\":[{\"id\":\"1121\"}]},\"id\":\"1120\",\"type\":\"Legend\"}],\"root_ids\":[\"1083\"]},\"title\":\"Bokeh Application\",\"version\":\"2.2.3\"}};\n",
       "  var render_items = [{\"docid\":\"4b3e0335-72dc-43be-8ed8-ee740275987b\",\"root_ids\":[\"1083\"],\"roots\":{\"1083\":\"6640fcbb-a6c1-4328-9947-f50a4298af85\"}}];\n",
       "  root.Bokeh.embed.embed_items_notebook(docs_json, render_items);\n",
       "\n",
       "  }\n",
       "  if (root.Bokeh !== undefined) {\n",
       "    embed_document(root);\n",
       "  } else {\n",
       "    var attempts = 0;\n",
       "    var timer = setInterval(function(root) {\n",
       "      if (root.Bokeh !== undefined) {\n",
       "        clearInterval(timer);\n",
       "        embed_document(root);\n",
       "      } else {\n",
       "        attempts++;\n",
       "        if (attempts > 100) {\n",
       "          clearInterval(timer);\n",
       "          console.log(\"Bokeh: ERROR: Unable to run BokehJS code because BokehJS library is missing\");\n",
       "        }\n",
       "      }\n",
       "    }, 10, root)\n",
       "  }\n",
       "})(window);"
      ],
      "application/vnd.bokehjs_exec.v0+json": ""
     },
     "metadata": {
      "application/vnd.bokehjs_exec.v0+json": {
       "id": "1083"
      }
     },
     "output_type": "display_data"
    }
   ],
   "source": [
    "p = figure(plot_height=350, title=\"Top {} Deaths\".format(n), toolbar_location=None,\n",
    "           tools=\"hover\", tooltips=\"@Country: @value\", x_range=(-0.5, 1.0))\n",
    "\n",
    "p.wedge(x=0, y=1, radius=0.4,\n",
    "        start_angle=cumsum('angle', include_zero=True), end_angle=cumsum('angle'),\n",
    "        line_color=\"white\", fill_color='color', legend_field='Country', source=data)\n",
    "\n",
    "p.axis.axis_label=None\n",
    "p.axis.visible=False\n",
    "p.grid.grid_line_color = None\n",
    "\n",
    "show(p)"
   ]
  },
  {
   "cell_type": "markdown",
   "metadata": {},
   "source": [
    "### Apparently the countries with most confirmed cases are not always the ones with the most deaths...\n",
    "#### Why would that be?"
   ]
  },
  {
   "cell_type": "markdown",
   "metadata": {},
   "source": [
    "___"
   ]
  },
  {
   "cell_type": "markdown",
   "metadata": {},
   "source": [
    "## Now, since we got the basics of pie charts and data sources out of the way, let us just do a regular line."
   ]
  },
  {
   "cell_type": "markdown",
   "metadata": {},
   "source": [
    "### First lets pick a country to see the evolution of cases throughout time!"
   ]
  },
  {
   "cell_type": "code",
   "execution_count": 13,
   "metadata": {},
   "outputs": [],
   "source": [
    "country = \"Portugal\""
   ]
  },
  {
   "cell_type": "code",
   "execution_count": 14,
   "metadata": {},
   "outputs": [],
   "source": [
    "mask = df[\"Country\"] ==country"
   ]
  },
  {
   "cell_type": "code",
   "execution_count": 15,
   "metadata": {},
   "outputs": [],
   "source": [
    "selected_country = df[mask]"
   ]
  },
  {
   "cell_type": "code",
   "execution_count": 16,
   "metadata": {},
   "outputs": [],
   "source": [
    "fig = figure(width= 600,height=500,tools=\"hover,pan,wheel_zoom,box_zoom,reset\",title=\"{} cases evolution\".format(country),x_axis_type=\"datetime\",tooltips=\"value: @y\")"
   ]
  },
  {
   "cell_type": "code",
   "execution_count": 17,
   "metadata": {},
   "outputs": [],
   "source": [
    "x = pd.to_datetime(selected_country[\"date\"])\n",
    "y = selected_country[\"confirmed_cases\"].astype(int)"
   ]
  },
  {
   "cell_type": "code",
   "execution_count": 18,
   "metadata": {},
   "outputs": [
    {
     "data": {
      "text/html": [
       "<div style=\"display: table;\"><div style=\"display: table-row;\"><div style=\"display: table-cell;\"><b title=\"bokeh.models.renderers.GlyphRenderer\">GlyphRenderer</b>(</div><div style=\"display: table-cell;\">id&nbsp;=&nbsp;'1205', <span id=\"1230\" style=\"cursor: pointer;\">&hellip;)</span></div></div><div class=\"1229\" style=\"display: none;\"><div style=\"display: table-cell;\"></div><div style=\"display: table-cell;\">data_source&nbsp;=&nbsp;ColumnDataSource(id='1202', ...),</div></div><div class=\"1229\" style=\"display: none;\"><div style=\"display: table-cell;\"></div><div style=\"display: table-cell;\">glyph&nbsp;=&nbsp;Line(id='1203', ...),</div></div><div class=\"1229\" style=\"display: none;\"><div style=\"display: table-cell;\"></div><div style=\"display: table-cell;\">hover_glyph&nbsp;=&nbsp;None,</div></div><div class=\"1229\" style=\"display: none;\"><div style=\"display: table-cell;\"></div><div style=\"display: table-cell;\">js_event_callbacks&nbsp;=&nbsp;{},</div></div><div class=\"1229\" style=\"display: none;\"><div style=\"display: table-cell;\"></div><div style=\"display: table-cell;\">js_property_callbacks&nbsp;=&nbsp;{},</div></div><div class=\"1229\" style=\"display: none;\"><div style=\"display: table-cell;\"></div><div style=\"display: table-cell;\">level&nbsp;=&nbsp;'glyph',</div></div><div class=\"1229\" style=\"display: none;\"><div style=\"display: table-cell;\"></div><div style=\"display: table-cell;\">muted&nbsp;=&nbsp;False,</div></div><div class=\"1229\" style=\"display: none;\"><div style=\"display: table-cell;\"></div><div style=\"display: table-cell;\">muted_glyph&nbsp;=&nbsp;None,</div></div><div class=\"1229\" style=\"display: none;\"><div style=\"display: table-cell;\"></div><div style=\"display: table-cell;\">name&nbsp;=&nbsp;None,</div></div><div class=\"1229\" style=\"display: none;\"><div style=\"display: table-cell;\"></div><div style=\"display: table-cell;\">nonselection_glyph&nbsp;=&nbsp;Line(id='1204', ...),</div></div><div class=\"1229\" style=\"display: none;\"><div style=\"display: table-cell;\"></div><div style=\"display: table-cell;\">selection_glyph&nbsp;=&nbsp;None,</div></div><div class=\"1229\" style=\"display: none;\"><div style=\"display: table-cell;\"></div><div style=\"display: table-cell;\">subscribed_events&nbsp;=&nbsp;[],</div></div><div class=\"1229\" style=\"display: none;\"><div style=\"display: table-cell;\"></div><div style=\"display: table-cell;\">tags&nbsp;=&nbsp;[],</div></div><div class=\"1229\" style=\"display: none;\"><div style=\"display: table-cell;\"></div><div style=\"display: table-cell;\">view&nbsp;=&nbsp;CDSView(id='1206', ...),</div></div><div class=\"1229\" style=\"display: none;\"><div style=\"display: table-cell;\"></div><div style=\"display: table-cell;\">visible&nbsp;=&nbsp;True,</div></div><div class=\"1229\" style=\"display: none;\"><div style=\"display: table-cell;\"></div><div style=\"display: table-cell;\">x_range_name&nbsp;=&nbsp;'default',</div></div><div class=\"1229\" style=\"display: none;\"><div style=\"display: table-cell;\"></div><div style=\"display: table-cell;\">y_range_name&nbsp;=&nbsp;'default')</div></div></div>\n",
       "<script>\n",
       "(function() {\n",
       "  var expanded = false;\n",
       "  var ellipsis = document.getElementById(\"1230\");\n",
       "  ellipsis.addEventListener(\"click\", function() {\n",
       "    var rows = document.getElementsByClassName(\"1229\");\n",
       "    for (var i = 0; i < rows.length; i++) {\n",
       "      var el = rows[i];\n",
       "      el.style.display = expanded ? \"none\" : \"table-row\";\n",
       "    }\n",
       "    ellipsis.innerHTML = expanded ? \"&hellip;)\" : \"&lsaquo;&lsaquo;&lsaquo;\";\n",
       "    expanded = !expanded;\n",
       "  });\n",
       "})();\n",
       "</script>\n"
      ],
      "text/plain": [
       "GlyphRenderer(id='1205', ...)"
      ]
     },
     "execution_count": 18,
     "metadata": {},
     "output_type": "execute_result"
    }
   ],
   "source": [
    "fig.line(x = x,y = y,legend_label=\"Confirmed by Day\")"
   ]
  },
  {
   "cell_type": "code",
   "execution_count": 19,
   "metadata": {},
   "outputs": [
    {
     "data": {
      "text/html": [
       "\n",
       "\n",
       "\n",
       "\n",
       "\n",
       "\n",
       "  <div class=\"bk-root\" id=\"21b4a0b9-f44c-46d7-aeea-95c493501500\" data-root-id=\"1171\"></div>\n"
      ]
     },
     "metadata": {},
     "output_type": "display_data"
    },
    {
     "data": {
      "application/javascript": [
       "(function(root) {\n",
       "  function embed_document(root) {\n",
       "    \n",
       "  var docs_json = {\"5306ad6e-4910-4a09-abf9-9fbe8919aeb6\":{\"roots\":{\"references\":[{\"attributes\":{\"below\":[{\"id\":\"1182\"}],\"center\":[{\"id\":\"1185\"},{\"id\":\"1189\"},{\"id\":\"1227\"}],\"left\":[{\"id\":\"1186\"}],\"plot_height\":500,\"renderers\":[{\"id\":\"1205\"}],\"title\":{\"id\":\"1172\"},\"toolbar\":{\"id\":\"1196\"},\"x_range\":{\"id\":\"1174\"},\"x_scale\":{\"id\":\"1178\"},\"y_range\":{\"id\":\"1176\"},\"y_scale\":{\"id\":\"1180\"}},\"id\":\"1171\",\"subtype\":\"Figure\",\"type\":\"Plot\"},{\"attributes\":{\"days\":[1,2,3,4,5,6,7,8,9,10,11,12,13,14,15,16,17,18,19,20,21,22,23,24,25,26,27,28,29,30,31]},\"id\":\"1216\",\"type\":\"DaysTicker\"},{\"attributes\":{\"days\":[1,4,7,10,13,16,19,22,25,28]},\"id\":\"1217\",\"type\":\"DaysTicker\"},{\"attributes\":{},\"id\":\"1225\",\"type\":\"Selection\"},{\"attributes\":{\"text\":\"Portugal cases evolution\"},\"id\":\"1172\",\"type\":\"Title\"},{\"attributes\":{\"days\":[1,8,15,22]},\"id\":\"1218\",\"type\":\"DaysTicker\"},{\"attributes\":{\"data\":{\"x\":{\"__ndarray__\":\"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\",\"dtype\":\"float64\",\"order\":\"little\",\"shape\":[300]},\"y\":{\"__ndarray__\":\"AAAAAAAAAAAAAAAAAAAAAAAAAAAAAAAAAAAAAAAAAAAAAAAAAAAAAAAAAAAAAAAAAAAAAAAAAAAAAAAAAAAAAAAAAAAAAAAAAAAAAAAAAAAAAAAAAAAAAAAAAAAAAAAAAAAAAAAAAAAAAAAAAAAAAAAAAAAAAAAAAAAAAAAAAAAAAAAAAAAAAAAAAAAAAAAAAAAAAAAAAAAAAAAAAAAAAAIAAAAAAAAAAwAAAAMAAAAFAAAABwAAAAoAAAAAAAAACwAAABIAAAAAAAAANQAAADkAAABMAAAAVgAAAHUAAAAAAAAAUQEAAOsAAAAEAQAAQAEAAMwBAAAuAQAAeQIAACUCAADUAgAAhgMAABgDAAC+AQAACwQAACgDAAAPAwAAVAMAAH4CAADyAgAAxAEAAMgCAAC7AgAALwMAAOwFAAADAgAAVgIAAF0BAAACAgAAgwIAAO4CAAC1AAAAlwIAAAkCAACRAgAABAIAAFsCAABzAQAAvAEAAFMCAADYAQAAowAAACcBAAC3AAAAHAIAADIBAABf////XAAAAPIAAACyAAAA4AEAABUCAAApAgAAigAAAK8AAABiAAAA6gAAANsAAAC7AAAACAEAAOMAAADiAAAArQAAAN8AAADkAAAA/AAAACABAAAPAQAAmAAAAKUAAADbAAAAHQEAADABAABeAQAAAQEAACkBAADIAAAAwwAAAG4BAABLAQAAeQEAAH4BAABWAQAAwAAAAKUBAAAmAQAANgEAAA4BAAAbAQAA4wAAAFoBAAAsAQAAUAEAAKEBAAB3AQAAeQEAACQBAAADAQAAWQEAAG8BAAA3AQAAwwEAAEMBAADJAQAACgEAAOUAAAA5AQAASAEAAHYBAACdAQAASAEAAOgAAAAfAQAAuwEAAKIBAACSAQAAHgIAACMBAAAyAQAA6QAAAHcBAABTAQAAOAEAADkBAAD2AAAAhwAAAH8AAAD8AAAA5QAAADkBAAAHAQAA0QAAAIcAAABvAAAAywAAAP8AAADMAAAA7gAAAJkAAABqAAAAcAAAAKcAAADVAAAAIgEAALoAAACDAAAAnQAAAHgAAAAWAQAARQEAAOsAAADGAAAAeQAAAIQAAADWAAAA/QAAACMBAADbAAAA8QAAAJEAAAB7AAAAwAAAAGoBAACPAQAAkQEAAHYBAABAAQAA9AAAAOcAAACGAQAAogEAAJYBAADmAQAAOwEAAPkAAACEAQAAhgIAAEkCAACvAgAA8QEAAKECAABlAgAAqQEAAF0CAAACAwAADAMAAFEDAAAoAgAAbwIAAM8BAAAiAwAAswIAAIMDAAB0AwAAmQIAAKkBAACwAgAAOQMAAFYDAAB4AwAAwwMAAIgDAADeAgAAqwEAALADAAD+BAAAcgUAAG4GAABCBAAA4QQAALgEAAAYCAAANQgAADAKAABpCAAAQAcAAJ0HAABUBwAA5wkAAMYMAABTCwAAVQ4AABEKAACPCQAA4wwAAHgPAACAEAAAMBIAAKcPAAD2CwAAygkAACQKAABJHQAAOhEAAK4VAADwGQAAmBYAAAAQAADpDgAARxMAAM8WAAD9GQAAyhkAAJMXAACzIAAA\",\"dtype\":\"int32\",\"order\":\"little\",\"shape\":[300]}},\"selected\":{\"id\":\"1225\"},\"selection_policy\":{\"id\":\"1226\"}},\"id\":\"1202\",\"type\":\"ColumnDataSource\"},{\"attributes\":{},\"id\":\"1174\",\"type\":\"DataRange1d\"},{\"attributes\":{\"label\":{\"value\":\"Confirmed by Day\"},\"renderers\":[{\"id\":\"1205\"}]},\"id\":\"1228\",\"type\":\"LegendItem\"},{\"attributes\":{},\"id\":\"1176\",\"type\":\"DataRange1d\"},{\"attributes\":{\"line_color\":\"#1f77b4\",\"x\":{\"field\":\"x\"},\"y\":{\"field\":\"y\"}},\"id\":\"1203\",\"type\":\"Line\"},{\"attributes\":{},\"id\":\"1178\",\"type\":\"LinearScale\"},{\"attributes\":{},\"id\":\"1191\",\"type\":\"PanTool\"},{\"attributes\":{},\"id\":\"1180\",\"type\":\"LinearScale\"},{\"attributes\":{\"months\":[0,1,2,3,4,5,6,7,8,9,10,11]},\"id\":\"1220\",\"type\":\"MonthsTicker\"},{\"attributes\":{},\"id\":\"1226\",\"type\":\"UnionRenderers\"},{\"attributes\":{\"formatter\":{\"id\":\"1210\"},\"ticker\":{\"id\":\"1183\"}},\"id\":\"1182\",\"type\":\"DatetimeAxis\"},{\"attributes\":{},\"id\":\"1187\",\"type\":\"BasicTicker\"},{\"attributes\":{},\"id\":\"1224\",\"type\":\"YearsTicker\"},{\"attributes\":{\"axis\":{\"id\":\"1186\"},\"dimension\":1,\"ticker\":null},\"id\":\"1189\",\"type\":\"Grid\"},{\"attributes\":{\"line_alpha\":0.1,\"line_color\":\"#1f77b4\",\"x\":{\"field\":\"x\"},\"y\":{\"field\":\"y\"}},\"id\":\"1204\",\"type\":\"Line\"},{\"attributes\":{\"num_minor_ticks\":5,\"tickers\":[{\"id\":\"1213\"},{\"id\":\"1214\"},{\"id\":\"1215\"},{\"id\":\"1216\"},{\"id\":\"1217\"},{\"id\":\"1218\"},{\"id\":\"1219\"},{\"id\":\"1220\"},{\"id\":\"1221\"},{\"id\":\"1222\"},{\"id\":\"1223\"},{\"id\":\"1224\"}]},\"id\":\"1183\",\"type\":\"DatetimeTicker\"},{\"attributes\":{\"data_source\":{\"id\":\"1202\"},\"glyph\":{\"id\":\"1203\"},\"hover_glyph\":null,\"muted_glyph\":null,\"nonselection_glyph\":{\"id\":\"1204\"},\"selection_glyph\":null,\"view\":{\"id\":\"1206\"}},\"id\":\"1205\",\"type\":\"GlyphRenderer\"},{\"attributes\":{\"active_drag\":\"auto\",\"active_inspect\":\"auto\",\"active_multi\":null,\"active_scroll\":\"auto\",\"active_tap\":\"auto\",\"tools\":[{\"id\":\"1190\"},{\"id\":\"1191\"},{\"id\":\"1192\"},{\"id\":\"1193\"},{\"id\":\"1194\"}]},\"id\":\"1196\",\"type\":\"Toolbar\"},{\"attributes\":{\"source\":{\"id\":\"1202\"}},\"id\":\"1206\",\"type\":\"CDSView\"},{\"attributes\":{},\"id\":\"1194\",\"type\":\"ResetTool\"},{\"attributes\":{\"bottom_units\":\"screen\",\"fill_alpha\":0.5,\"fill_color\":\"lightgrey\",\"left_units\":\"screen\",\"level\":\"overlay\",\"line_alpha\":1.0,\"line_color\":\"black\",\"line_dash\":[4,4],\"line_width\":2,\"right_units\":\"screen\",\"top_units\":\"screen\"},\"id\":\"1195\",\"type\":\"BoxAnnotation\"},{\"attributes\":{},\"id\":\"1208\",\"type\":\"BasicTickFormatter\"},{\"attributes\":{\"days\":[1,15]},\"id\":\"1219\",\"type\":\"DaysTicker\"},{\"attributes\":{\"callback\":null,\"tooltips\":\"value: @y\"},\"id\":\"1190\",\"type\":\"HoverTool\"},{\"attributes\":{\"months\":[0,4,8]},\"id\":\"1222\",\"type\":\"MonthsTicker\"},{\"attributes\":{},\"id\":\"1210\",\"type\":\"DatetimeTickFormatter\"},{\"attributes\":{\"formatter\":{\"id\":\"1208\"},\"ticker\":{\"id\":\"1187\"}},\"id\":\"1186\",\"type\":\"LinearAxis\"},{\"attributes\":{\"mantissas\":[1,2,5],\"max_interval\":500.0,\"num_minor_ticks\":0},\"id\":\"1213\",\"type\":\"AdaptiveTicker\"},{\"attributes\":{\"overlay\":{\"id\":\"1195\"}},\"id\":\"1193\",\"type\":\"BoxZoomTool\"},{\"attributes\":{\"months\":[0,6]},\"id\":\"1223\",\"type\":\"MonthsTicker\"},{\"attributes\":{\"axis\":{\"id\":\"1182\"},\"ticker\":null},\"id\":\"1185\",\"type\":\"Grid\"},{\"attributes\":{\"base\":60,\"mantissas\":[1,2,5,10,15,20,30],\"max_interval\":1800000.0,\"min_interval\":1000.0,\"num_minor_ticks\":0},\"id\":\"1214\",\"type\":\"AdaptiveTicker\"},{\"attributes\":{},\"id\":\"1192\",\"type\":\"WheelZoomTool\"},{\"attributes\":{\"months\":[0,2,4,6,8,10]},\"id\":\"1221\",\"type\":\"MonthsTicker\"},{\"attributes\":{\"items\":[{\"id\":\"1228\"}]},\"id\":\"1227\",\"type\":\"Legend\"},{\"attributes\":{\"base\":24,\"mantissas\":[1,2,4,6,8,12],\"max_interval\":43200000.0,\"min_interval\":3600000.0,\"num_minor_ticks\":0},\"id\":\"1215\",\"type\":\"AdaptiveTicker\"}],\"root_ids\":[\"1171\"]},\"title\":\"Bokeh Application\",\"version\":\"2.2.3\"}};\n",
       "  var render_items = [{\"docid\":\"5306ad6e-4910-4a09-abf9-9fbe8919aeb6\",\"root_ids\":[\"1171\"],\"roots\":{\"1171\":\"21b4a0b9-f44c-46d7-aeea-95c493501500\"}}];\n",
       "  root.Bokeh.embed.embed_items_notebook(docs_json, render_items);\n",
       "\n",
       "  }\n",
       "  if (root.Bokeh !== undefined) {\n",
       "    embed_document(root);\n",
       "  } else {\n",
       "    var attempts = 0;\n",
       "    var timer = setInterval(function(root) {\n",
       "      if (root.Bokeh !== undefined) {\n",
       "        clearInterval(timer);\n",
       "        embed_document(root);\n",
       "      } else {\n",
       "        attempts++;\n",
       "        if (attempts > 100) {\n",
       "          clearInterval(timer);\n",
       "          console.log(\"Bokeh: ERROR: Unable to run BokehJS code because BokehJS library is missing\");\n",
       "        }\n",
       "      }\n",
       "    }, 10, root)\n",
       "  }\n",
       "})(window);"
      ],
      "application/vnd.bokehjs_exec.v0+json": ""
     },
     "metadata": {
      "application/vnd.bokehjs_exec.v0+json": {
       "id": "1171"
      }
     },
     "output_type": "display_data"
    }
   ],
   "source": [
    "show(fig)"
   ]
  },
  {
   "cell_type": "markdown",
   "metadata": {},
   "source": [
    "## Feels a bit empty no?\n",
    "\n",
    "#### Lets correlate the cases to the deaths."
   ]
  },
  {
   "cell_type": "code",
   "execution_count": 20,
   "metadata": {},
   "outputs": [],
   "source": [
    "y = selected_country[\"deaths\"].astype(int)"
   ]
  },
  {
   "cell_type": "code",
   "execution_count": 21,
   "metadata": {},
   "outputs": [
    {
     "data": {
      "text/html": [
       "<div style=\"display: table;\"><div style=\"display: table-row;\"><div style=\"display: table-cell;\"><b title=\"bokeh.models.renderers.GlyphRenderer\">GlyphRenderer</b>(</div><div style=\"display: table-cell;\">id&nbsp;=&nbsp;'1368', <span id=\"1466\" style=\"cursor: pointer;\">&hellip;)</span></div></div><div class=\"1465\" style=\"display: none;\"><div style=\"display: table-cell;\"></div><div style=\"display: table-cell;\">data_source&nbsp;=&nbsp;ColumnDataSource(id='1365', ...),</div></div><div class=\"1465\" style=\"display: none;\"><div style=\"display: table-cell;\"></div><div style=\"display: table-cell;\">glyph&nbsp;=&nbsp;Line(id='1366', ...),</div></div><div class=\"1465\" style=\"display: none;\"><div style=\"display: table-cell;\"></div><div style=\"display: table-cell;\">hover_glyph&nbsp;=&nbsp;None,</div></div><div class=\"1465\" style=\"display: none;\"><div style=\"display: table-cell;\"></div><div style=\"display: table-cell;\">js_event_callbacks&nbsp;=&nbsp;{},</div></div><div class=\"1465\" style=\"display: none;\"><div style=\"display: table-cell;\"></div><div style=\"display: table-cell;\">js_property_callbacks&nbsp;=&nbsp;{},</div></div><div class=\"1465\" style=\"display: none;\"><div style=\"display: table-cell;\"></div><div style=\"display: table-cell;\">level&nbsp;=&nbsp;'glyph',</div></div><div class=\"1465\" style=\"display: none;\"><div style=\"display: table-cell;\"></div><div style=\"display: table-cell;\">muted&nbsp;=&nbsp;False,</div></div><div class=\"1465\" style=\"display: none;\"><div style=\"display: table-cell;\"></div><div style=\"display: table-cell;\">muted_glyph&nbsp;=&nbsp;None,</div></div><div class=\"1465\" style=\"display: none;\"><div style=\"display: table-cell;\"></div><div style=\"display: table-cell;\">name&nbsp;=&nbsp;None,</div></div><div class=\"1465\" style=\"display: none;\"><div style=\"display: table-cell;\"></div><div style=\"display: table-cell;\">nonselection_glyph&nbsp;=&nbsp;Line(id='1367', ...),</div></div><div class=\"1465\" style=\"display: none;\"><div style=\"display: table-cell;\"></div><div style=\"display: table-cell;\">selection_glyph&nbsp;=&nbsp;None,</div></div><div class=\"1465\" style=\"display: none;\"><div style=\"display: table-cell;\"></div><div style=\"display: table-cell;\">subscribed_events&nbsp;=&nbsp;[],</div></div><div class=\"1465\" style=\"display: none;\"><div style=\"display: table-cell;\"></div><div style=\"display: table-cell;\">tags&nbsp;=&nbsp;[],</div></div><div class=\"1465\" style=\"display: none;\"><div style=\"display: table-cell;\"></div><div style=\"display: table-cell;\">view&nbsp;=&nbsp;CDSView(id='1369', ...),</div></div><div class=\"1465\" style=\"display: none;\"><div style=\"display: table-cell;\"></div><div style=\"display: table-cell;\">visible&nbsp;=&nbsp;True,</div></div><div class=\"1465\" style=\"display: none;\"><div style=\"display: table-cell;\"></div><div style=\"display: table-cell;\">x_range_name&nbsp;=&nbsp;'default',</div></div><div class=\"1465\" style=\"display: none;\"><div style=\"display: table-cell;\"></div><div style=\"display: table-cell;\">y_range_name&nbsp;=&nbsp;'default')</div></div></div>\n",
       "<script>\n",
       "(function() {\n",
       "  var expanded = false;\n",
       "  var ellipsis = document.getElementById(\"1466\");\n",
       "  ellipsis.addEventListener(\"click\", function() {\n",
       "    var rows = document.getElementsByClassName(\"1465\");\n",
       "    for (var i = 0; i < rows.length; i++) {\n",
       "      var el = rows[i];\n",
       "      el.style.display = expanded ? \"none\" : \"table-row\";\n",
       "    }\n",
       "    ellipsis.innerHTML = expanded ? \"&hellip;)\" : \"&lsaquo;&lsaquo;&lsaquo;\";\n",
       "    expanded = !expanded;\n",
       "  });\n",
       "})();\n",
       "</script>\n"
      ],
      "text/plain": [
       "GlyphRenderer(id='1368', ...)"
      ]
     },
     "execution_count": 21,
     "metadata": {},
     "output_type": "execute_result"
    }
   ],
   "source": [
    "fig.line(x = x,y = y,legend_label=\"Death by Day\",color=\"red\")"
   ]
  },
  {
   "cell_type": "code",
   "execution_count": 22,
   "metadata": {},
   "outputs": [
    {
     "data": {
      "text/html": [
       "\n",
       "\n",
       "\n",
       "\n",
       "\n",
       "\n",
       "  <div class=\"bk-root\" id=\"efaa202e-cf56-4fd6-adae-91463fc42885\" data-root-id=\"1171\"></div>\n"
      ]
     },
     "metadata": {},
     "output_type": "display_data"
    },
    {
     "data": {
      "application/javascript": [
       "(function(root) {\n",
       "  function embed_document(root) {\n",
       "    \n",
       "  var docs_json = {\"a7886166-791e-4eaa-aa6a-1dfa10c697e6\":{\"roots\":{\"references\":[{\"attributes\":{\"below\":[{\"id\":\"1182\"}],\"center\":[{\"id\":\"1185\"},{\"id\":\"1189\"},{\"id\":\"1227\"}],\"left\":[{\"id\":\"1186\"}],\"plot_height\":500,\"renderers\":[{\"id\":\"1205\"},{\"id\":\"1368\"}],\"title\":{\"id\":\"1172\"},\"toolbar\":{\"id\":\"1196\"},\"x_range\":{\"id\":\"1174\"},\"x_scale\":{\"id\":\"1178\"},\"y_range\":{\"id\":\"1176\"},\"y_scale\":{\"id\":\"1180\"}},\"id\":\"1171\",\"subtype\":\"Figure\",\"type\":\"Plot\"},{\"attributes\":{\"days\":[1,2,3,4,5,6,7,8,9,10,11,12,13,14,15,16,17,18,19,20,21,22,23,24,25,26,27,28,29,30,31]},\"id\":\"1216\",\"type\":\"DaysTicker\"},{\"attributes\":{\"days\":[1,4,7,10,13,16,19,22,25,28]},\"id\":\"1217\",\"type\":\"DaysTicker\"},{\"attributes\":{\"label\":{\"value\":\"Death by Day\"},\"renderers\":[{\"id\":\"1368\"}]},\"id\":\"1428\",\"type\":\"LegendItem\"},{\"attributes\":{},\"id\":\"1225\",\"type\":\"Selection\"},{\"attributes\":{\"text\":\"Portugal cases evolution\"},\"id\":\"1172\",\"type\":\"Title\"},{\"attributes\":{\"days\":[1,8,15,22]},\"id\":\"1218\",\"type\":\"DaysTicker\"},{\"attributes\":{\"data\":{\"x\":{\"__ndarray__\":\"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\",\"dtype\":\"float64\",\"order\":\"little\",\"shape\":[300]},\"y\":{\"__ndarray__\":\"AAAAAAAAAAAAAAAAAAAAAAAAAAAAAAAAAAAAAAAAAAAAAAAAAAAAAAAAAAAAAAAAAAAAAAAAAAAAAAAAAAAAAAAAAAAAAAAAAAAAAAAAAAAAAAAAAAAAAAAAAAAAAAAAAAAAAAAAAAAAAAAAAAAAAAAAAAAAAAAAAAAAAAAAAAAAAAAAAAAAAAAAAAAAAAAAAAAAAAAAAAAAAAAAAAAAAAIAAAAAAAAAAwAAAAMAAAAFAAAABwAAAAoAAAAAAAAACwAAABIAAAAAAAAANQAAADkAAABMAAAAVgAAAHUAAAAAAAAAUQEAAOsAAAAEAQAAQAEAAMwBAAAuAQAAeQIAACUCAADUAgAAhgMAABgDAAC+AQAACwQAACgDAAAPAwAAVAMAAH4CAADyAgAAxAEAAMgCAAC7AgAALwMAAOwFAAADAgAAVgIAAF0BAAACAgAAgwIAAO4CAAC1AAAAlwIAAAkCAACRAgAABAIAAFsCAABzAQAAvAEAAFMCAADYAQAAowAAACcBAAC3AAAAHAIAADIBAABf////XAAAAPIAAACyAAAA4AEAABUCAAApAgAAigAAAK8AAABiAAAA6gAAANsAAAC7AAAACAEAAOMAAADiAAAArQAAAN8AAADkAAAA/AAAACABAAAPAQAAmAAAAKUAAADbAAAAHQEAADABAABeAQAAAQEAACkBAADIAAAAwwAAAG4BAABLAQAAeQEAAH4BAABWAQAAwAAAAKUBAAAmAQAANgEAAA4BAAAbAQAA4wAAAFoBAAAsAQAAUAEAAKEBAAB3AQAAeQEAACQBAAADAQAAWQEAAG8BAAA3AQAAwwEAAEMBAADJAQAACgEAAOUAAAA5AQAASAEAAHYBAACdAQAASAEAAOgAAAAfAQAAuwEAAKIBAACSAQAAHgIAACMBAAAyAQAA6QAAAHcBAABTAQAAOAEAADkBAAD2AAAAhwAAAH8AAAD8AAAA5QAAADkBAAAHAQAA0QAAAIcAAABvAAAAywAAAP8AAADMAAAA7gAAAJkAAABqAAAAcAAAAKcAAADVAAAAIgEAALoAAACDAAAAnQAAAHgAAAAWAQAARQEAAOsAAADGAAAAeQAAAIQAAADWAAAA/QAAACMBAADbAAAA8QAAAJEAAAB7AAAAwAAAAGoBAACPAQAAkQEAAHYBAABAAQAA9AAAAOcAAACGAQAAogEAAJYBAADmAQAAOwEAAPkAAACEAQAAhgIAAEkCAACvAgAA8QEAAKECAABlAgAAqQEAAF0CAAACAwAADAMAAFEDAAAoAgAAbwIAAM8BAAAiAwAAswIAAIMDAAB0AwAAmQIAAKkBAACwAgAAOQMAAFYDAAB4AwAAwwMAAIgDAADeAgAAqwEAALADAAD+BAAAcgUAAG4GAABCBAAA4QQAALgEAAAYCAAANQgAADAKAABpCAAAQAcAAJ0HAABUBwAA5wkAAMYMAABTCwAAVQ4AABEKAACPCQAA4wwAAHgPAACAEAAAMBIAAKcPAAD2CwAAygkAACQKAABJHQAAOhEAAK4VAADwGQAAmBYAAAAQAADpDgAARxMAAM8WAAD9GQAAyhkAAJMXAACzIAAA\",\"dtype\":\"int32\",\"order\":\"little\",\"shape\":[300]}},\"selected\":{\"id\":\"1225\"},\"selection_policy\":{\"id\":\"1226\"}},\"id\":\"1202\",\"type\":\"ColumnDataSource\"},{\"attributes\":{},\"id\":\"1174\",\"type\":\"DataRange1d\"},{\"attributes\":{\"line_alpha\":0.1,\"line_color\":\"red\",\"x\":{\"field\":\"x\"},\"y\":{\"field\":\"y\"}},\"id\":\"1367\",\"type\":\"Line\"},{\"attributes\":{\"line_color\":\"red\",\"x\":{\"field\":\"x\"},\"y\":{\"field\":\"y\"}},\"id\":\"1366\",\"type\":\"Line\"},{\"attributes\":{\"label\":{\"value\":\"Confirmed by Day\"},\"renderers\":[{\"id\":\"1205\"}]},\"id\":\"1228\",\"type\":\"LegendItem\"},{\"attributes\":{\"data_source\":{\"id\":\"1365\"},\"glyph\":{\"id\":\"1366\"},\"hover_glyph\":null,\"muted_glyph\":null,\"nonselection_glyph\":{\"id\":\"1367\"},\"selection_glyph\":null,\"view\":{\"id\":\"1369\"}},\"id\":\"1368\",\"type\":\"GlyphRenderer\"},{\"attributes\":{},\"id\":\"1176\",\"type\":\"DataRange1d\"},{\"attributes\":{\"line_color\":\"#1f77b4\",\"x\":{\"field\":\"x\"},\"y\":{\"field\":\"y\"}},\"id\":\"1203\",\"type\":\"Line\"},{\"attributes\":{},\"id\":\"1178\",\"type\":\"LinearScale\"},{\"attributes\":{\"source\":{\"id\":\"1365\"}},\"id\":\"1369\",\"type\":\"CDSView\"},{\"attributes\":{},\"id\":\"1191\",\"type\":\"PanTool\"},{\"attributes\":{},\"id\":\"1180\",\"type\":\"LinearScale\"},{\"attributes\":{\"months\":[0,1,2,3,4,5,6,7,8,9,10,11]},\"id\":\"1220\",\"type\":\"MonthsTicker\"},{\"attributes\":{},\"id\":\"1226\",\"type\":\"UnionRenderers\"},{\"attributes\":{\"formatter\":{\"id\":\"1210\"},\"ticker\":{\"id\":\"1183\"}},\"id\":\"1182\",\"type\":\"DatetimeAxis\"},{\"attributes\":{},\"id\":\"1187\",\"type\":\"BasicTicker\"},{\"attributes\":{},\"id\":\"1224\",\"type\":\"YearsTicker\"},{\"attributes\":{\"axis\":{\"id\":\"1186\"},\"dimension\":1,\"ticker\":null},\"id\":\"1189\",\"type\":\"Grid\"},{\"attributes\":{\"line_alpha\":0.1,\"line_color\":\"#1f77b4\",\"x\":{\"field\":\"x\"},\"y\":{\"field\":\"y\"}},\"id\":\"1204\",\"type\":\"Line\"},{\"attributes\":{\"num_minor_ticks\":5,\"tickers\":[{\"id\":\"1213\"},{\"id\":\"1214\"},{\"id\":\"1215\"},{\"id\":\"1216\"},{\"id\":\"1217\"},{\"id\":\"1218\"},{\"id\":\"1219\"},{\"id\":\"1220\"},{\"id\":\"1221\"},{\"id\":\"1222\"},{\"id\":\"1223\"},{\"id\":\"1224\"}]},\"id\":\"1183\",\"type\":\"DatetimeTicker\"},{\"attributes\":{\"data_source\":{\"id\":\"1202\"},\"glyph\":{\"id\":\"1203\"},\"hover_glyph\":null,\"muted_glyph\":null,\"nonselection_glyph\":{\"id\":\"1204\"},\"selection_glyph\":null,\"view\":{\"id\":\"1206\"}},\"id\":\"1205\",\"type\":\"GlyphRenderer\"},{\"attributes\":{\"active_drag\":\"auto\",\"active_inspect\":\"auto\",\"active_multi\":null,\"active_scroll\":\"auto\",\"active_tap\":\"auto\",\"tools\":[{\"id\":\"1190\"},{\"id\":\"1191\"},{\"id\":\"1192\"},{\"id\":\"1193\"},{\"id\":\"1194\"}]},\"id\":\"1196\",\"type\":\"Toolbar\"},{\"attributes\":{\"source\":{\"id\":\"1202\"}},\"id\":\"1206\",\"type\":\"CDSView\"},{\"attributes\":{},\"id\":\"1194\",\"type\":\"ResetTool\"},{\"attributes\":{\"bottom_units\":\"screen\",\"fill_alpha\":0.5,\"fill_color\":\"lightgrey\",\"left_units\":\"screen\",\"level\":\"overlay\",\"line_alpha\":1.0,\"line_color\":\"black\",\"line_dash\":[4,4],\"line_width\":2,\"right_units\":\"screen\",\"top_units\":\"screen\"},\"id\":\"1195\",\"type\":\"BoxAnnotation\"},{\"attributes\":{\"data\":{\"x\":{\"__ndarray__\":\"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\",\"dtype\":\"float64\",\"order\":\"little\",\"shape\":[300]},\"y\":{\"__ndarray__\":\"AAAAAAAAAAAAAAAAAAAAAAAAAAAAAAAAAAAAAAAAAAAAAAAAAAAAAAAAAAAAAAAAAAAAAAAAAAAAAAAAAAAAAAAAAAAAAAAAAAAAAAAAAAAAAAAAAAAAAAAAAAAAAAAAAAAAAAAAAAAAAAAAAAAAAAAAAAAAAAAAAAAAAAAAAAAAAAAAAAAAAAAAAAAAAAAAAAAAAAAAAAAAAAAAAAAAAAAAAAAAAAAAAAAAAAAAAAAAAAAAAAAAAAAAAAAAAAAAAAAAAAAAAAAAAAAAAAAAAAAAAAAAAAAAAAAAAAEAAAABAAAAAQAAAAMAAAAGAAAAAgAAAAkAAAAKAAAACgAAABEAAAAQAAAAGAAAABMAAAAVAAAAFAAAABsAAAAWAAAAJQAAABQAAAAdAAAAEAAAACIAAAAjAAAAHQAAABoAAAAjAAAAIgAAAB8AAAAgAAAAIAAAAB4AAAAcAAAAHgAAABsAAAAVAAAAGwAAABcAAAAjAAAAIgAAABoAAAAXAAAAGQAAABQAAAAZAAAAEAAAABIAAAAQAAAAFAAAABQAAAALAAAADwAAABAAAAAJAAAADAAAAAkAAAAJAAAAEwAAAAwAAAAJAAAABgAAAA0AAAAPAAAADQAAABAAAAAQAAAADgAAAAwAAAANAAAADgAAAA4AAAAMAAAADgAAAA0AAAAOAAAADQAAAA4AAAAOAAAADAAAAAsAAAAIAAAACgAAAAkAAAAFAAAABgAAAAcAAAAFAAAABwAAAAEAAAAHAAAABQAAAAMAAAACAAAAAQAAAAEAAAADAAAAAQAAAAIAAAAEAAAABgAAAAMAAAAGAAAABgAAAAYAAAADAAAABAAAAAgAAAADAAAACAAAAAsAAAAHAAAACQAAAAYAAAAJAAAAAgAAAA0AAAACAAAACAAAAAYAAAACAAAABgAAAAgAAAADAAAAAwAAAAIAAAAFAAAAAgAAAAYAAAAFAAAAAwAAAAcAAAAEAAAAAQAAAAIAAAADAAAAAwAAAAIAAAAIAAAAAgAAAAEAAAAAAAAAAQAAAAEAAAADAAAAAwAAAAQAAAAGAAAAAwAAAAIAAAADAAAABgAAAAIAAAADAAAAAwAAAAEAAAAFAAAAAgAAAAIAAAAEAAAAAgAAAAIAAAAFAAAABAAAAAIAAAACAAAABgAAAAMAAAABAAAAAwAAAAIAAAADAAAAAgAAAAQAAAAFAAAAAgAAAAMAAAADAAAAAwAAAAMAAAADAAAABQAAAAcAAAAEAAAABAAAAAMAAAAKAAAABgAAAAUAAAANAAAACAAAAAUAAAADAAAAAwAAAAUAAAAIAAAACQAAAAQAAAAGAAAACAAAAAYAAAAGAAAADAAAAAoAAAANAAAADgAAAAgAAAAKAAAADAAAAAUAAAANAAAADgAAABAAAAAHAAAACwAAABUAAAANAAAAEwAAABEAAAAPAAAAEAAAABAAAAAfAAAAFQAAABMAAAAbAAAAHAAAABgAAAAhAAAAKAAAACcAAAAlAAAALgAAAC0AAAA7AAAALgAAADQAAAA4AAAAMAAAAD8AAAA+AAAAUgAAAE4AAABFAAAANwAAAEwAAABbAAAA\",\"dtype\":\"int32\",\"order\":\"little\",\"shape\":[300]}},\"selected\":{\"id\":\"1404\"},\"selection_policy\":{\"id\":\"1405\"}},\"id\":\"1365\",\"type\":\"ColumnDataSource\"},{\"attributes\":{},\"id\":\"1404\",\"type\":\"Selection\"},{\"attributes\":{},\"id\":\"1208\",\"type\":\"BasicTickFormatter\"},{\"attributes\":{\"days\":[1,15]},\"id\":\"1219\",\"type\":\"DaysTicker\"},{\"attributes\":{\"callback\":null,\"tooltips\":\"value: @y\"},\"id\":\"1190\",\"type\":\"HoverTool\"},{\"attributes\":{\"months\":[0,4,8]},\"id\":\"1222\",\"type\":\"MonthsTicker\"},{\"attributes\":{},\"id\":\"1405\",\"type\":\"UnionRenderers\"},{\"attributes\":{},\"id\":\"1210\",\"type\":\"DatetimeTickFormatter\"},{\"attributes\":{\"formatter\":{\"id\":\"1208\"},\"ticker\":{\"id\":\"1187\"}},\"id\":\"1186\",\"type\":\"LinearAxis\"},{\"attributes\":{\"mantissas\":[1,2,5],\"max_interval\":500.0,\"num_minor_ticks\":0},\"id\":\"1213\",\"type\":\"AdaptiveTicker\"},{\"attributes\":{\"overlay\":{\"id\":\"1195\"}},\"id\":\"1193\",\"type\":\"BoxZoomTool\"},{\"attributes\":{\"months\":[0,6]},\"id\":\"1223\",\"type\":\"MonthsTicker\"},{\"attributes\":{\"axis\":{\"id\":\"1182\"},\"ticker\":null},\"id\":\"1185\",\"type\":\"Grid\"},{\"attributes\":{\"base\":60,\"mantissas\":[1,2,5,10,15,20,30],\"max_interval\":1800000.0,\"min_interval\":1000.0,\"num_minor_ticks\":0},\"id\":\"1214\",\"type\":\"AdaptiveTicker\"},{\"attributes\":{},\"id\":\"1192\",\"type\":\"WheelZoomTool\"},{\"attributes\":{\"months\":[0,2,4,6,8,10]},\"id\":\"1221\",\"type\":\"MonthsTicker\"},{\"attributes\":{\"items\":[{\"id\":\"1228\"},{\"id\":\"1428\"}]},\"id\":\"1227\",\"type\":\"Legend\"},{\"attributes\":{\"base\":24,\"mantissas\":[1,2,4,6,8,12],\"max_interval\":43200000.0,\"min_interval\":3600000.0,\"num_minor_ticks\":0},\"id\":\"1215\",\"type\":\"AdaptiveTicker\"}],\"root_ids\":[\"1171\"]},\"title\":\"Bokeh Application\",\"version\":\"2.2.3\"}};\n",
       "  var render_items = [{\"docid\":\"a7886166-791e-4eaa-aa6a-1dfa10c697e6\",\"root_ids\":[\"1171\"],\"roots\":{\"1171\":\"efaa202e-cf56-4fd6-adae-91463fc42885\"}}];\n",
       "  root.Bokeh.embed.embed_items_notebook(docs_json, render_items);\n",
       "\n",
       "  }\n",
       "  if (root.Bokeh !== undefined) {\n",
       "    embed_document(root);\n",
       "  } else {\n",
       "    var attempts = 0;\n",
       "    var timer = setInterval(function(root) {\n",
       "      if (root.Bokeh !== undefined) {\n",
       "        clearInterval(timer);\n",
       "        embed_document(root);\n",
       "      } else {\n",
       "        attempts++;\n",
       "        if (attempts > 100) {\n",
       "          clearInterval(timer);\n",
       "          console.log(\"Bokeh: ERROR: Unable to run BokehJS code because BokehJS library is missing\");\n",
       "        }\n",
       "      }\n",
       "    }, 10, root)\n",
       "  }\n",
       "})(window);"
      ],
      "application/vnd.bokehjs_exec.v0+json": ""
     },
     "metadata": {
      "application/vnd.bokehjs_exec.v0+json": {
       "id": "1171"
      }
     },
     "output_type": "display_data"
    }
   ],
   "source": [
    "show(fig)"
   ]
  },
  {
   "cell_type": "markdown",
   "metadata": {},
   "source": [
    "### Yet again, we still have space for more!\n",
    "#### Now let us add the cumulative data for both cases and deaths."
   ]
  },
  {
   "cell_type": "markdown",
   "metadata": {},
   "source": [
    "These lines share the same x, with bokeh we can simplify the way we do this.\n",
    "And this time we want to be able to zoom, but only on the x axis."
   ]
  },
  {
   "cell_type": "code",
   "execution_count": 23,
   "metadata": {},
   "outputs": [],
   "source": [
    "total = selected_country[[\"confirmed_cases\",\"deaths\"]].cumsum()"
   ]
  },
  {
   "cell_type": "code",
   "execution_count": 24,
   "metadata": {},
   "outputs": [
    {
     "data": {
      "text/html": [
       "\n",
       "\n",
       "\n",
       "\n",
       "\n",
       "\n",
       "  <div class=\"bk-root\" id=\"96dab21e-5feb-4648-b19c-26acc5e9176b\" data-root-id=\"1171\"></div>\n"
      ]
     },
     "metadata": {},
     "output_type": "display_data"
    },
    {
     "data": {
      "application/javascript": [
       "(function(root) {\n",
       "  function embed_document(root) {\n",
       "    \n",
       "  var docs_json = {\"82aeb5a8-e8bd-4c47-85f8-1219ed0b98d7\":{\"roots\":{\"references\":[{\"attributes\":{\"below\":[{\"id\":\"1182\"}],\"center\":[{\"id\":\"1185\"},{\"id\":\"1189\"},{\"id\":\"1227\"}],\"left\":[{\"id\":\"1186\"}],\"plot_height\":500,\"renderers\":[{\"id\":\"1205\"},{\"id\":\"1368\"},{\"id\":\"1580\"},{\"id\":\"1686\"}],\"title\":{\"id\":\"1172\"},\"toolbar\":{\"id\":\"1196\"},\"x_range\":{\"id\":\"1174\"},\"x_scale\":{\"id\":\"1178\"},\"y_range\":{\"id\":\"1176\"},\"y_scale\":{\"id\":\"1180\"}},\"id\":\"1171\",\"subtype\":\"Figure\",\"type\":\"Plot\"},{\"attributes\":{},\"id\":\"1619\",\"type\":\"UnionRenderers\"},{\"attributes\":{\"days\":[1,2,3,4,5,6,7,8,9,10,11,12,13,14,15,16,17,18,19,20,21,22,23,24,25,26,27,28,29,30,31]},\"id\":\"1216\",\"type\":\"DaysTicker\"},{\"attributes\":{\"days\":[1,4,7,10,13,16,19,22,25,28]},\"id\":\"1217\",\"type\":\"DaysTicker\"},{\"attributes\":{\"label\":{\"value\":\"Death by Day\"},\"renderers\":[{\"id\":\"1368\"}]},\"id\":\"1428\",\"type\":\"LegendItem\"},{\"attributes\":{\"label\":{\"value\":\"Cumulative Cases\"},\"renderers\":[{\"id\":\"1686\"}]},\"id\":\"1754\",\"type\":\"LegendItem\"},{\"attributes\":{\"text\":\"Portugal cases evolution\"},\"id\":\"1172\",\"type\":\"Title\"},{\"attributes\":{},\"id\":\"1225\",\"type\":\"Selection\"},{\"attributes\":{\"days\":[1,8,15,22]},\"id\":\"1218\",\"type\":\"DaysTicker\"},{\"attributes\":{\"data\":{\"x\":{\"__ndarray__\":\"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\",\"dtype\":\"float64\",\"order\":\"little\",\"shape\":[300]},\"y\":{\"__ndarray__\":\"AAAAAAAAAAAAAAAAAAAAAAAAAAAAAAAAAAAAAAAAAAAAAAAAAAAAAAAAAAAAAAAAAAAAAAAAAAAAAAAAAAAAAAAAAAAAAAAAAAAAAAAAAAAAAAAAAAAAAAAAAAAAAAAAAAAAAAAAAAAAAAAAAAAAAAAAAAAAAAAAAAAAAAAAAAAAAAAAAAAAAAAAAAAAAAAAAAAAAAAAAAAAAAAAAAAAAAIAAAAAAAAAAwAAAAMAAAAFAAAABwAAAAoAAAAAAAAACwAAABIAAAAAAAAANQAAADkAAABMAAAAVgAAAHUAAAAAAAAAUQEAAOsAAAAEAQAAQAEAAMwBAAAuAQAAeQIAACUCAADUAgAAhgMAABgDAAC+AQAACwQAACgDAAAPAwAAVAMAAH4CAADyAgAAxAEAAMgCAAC7AgAALwMAAOwFAAADAgAAVgIAAF0BAAACAgAAgwIAAO4CAAC1AAAAlwIAAAkCAACRAgAABAIAAFsCAABzAQAAvAEAAFMCAADYAQAAowAAACcBAAC3AAAAHAIAADIBAABf////XAAAAPIAAACyAAAA4AEAABUCAAApAgAAigAAAK8AAABiAAAA6gAAANsAAAC7AAAACAEAAOMAAADiAAAArQAAAN8AAADkAAAA/AAAACABAAAPAQAAmAAAAKUAAADbAAAAHQEAADABAABeAQAAAQEAACkBAADIAAAAwwAAAG4BAABLAQAAeQEAAH4BAABWAQAAwAAAAKUBAAAmAQAANgEAAA4BAAAbAQAA4wAAAFoBAAAsAQAAUAEAAKEBAAB3AQAAeQEAACQBAAADAQAAWQEAAG8BAAA3AQAAwwEAAEMBAADJAQAACgEAAOUAAAA5AQAASAEAAHYBAACdAQAASAEAAOgAAAAfAQAAuwEAAKIBAACSAQAAHgIAACMBAAAyAQAA6QAAAHcBAABTAQAAOAEAADkBAAD2AAAAhwAAAH8AAAD8AAAA5QAAADkBAAAHAQAA0QAAAIcAAABvAAAAywAAAP8AAADMAAAA7gAAAJkAAABqAAAAcAAAAKcAAADVAAAAIgEAALoAAACDAAAAnQAAAHgAAAAWAQAARQEAAOsAAADGAAAAeQAAAIQAAADWAAAA/QAAACMBAADbAAAA8QAAAJEAAAB7AAAAwAAAAGoBAACPAQAAkQEAAHYBAABAAQAA9AAAAOcAAACGAQAAogEAAJYBAADmAQAAOwEAAPkAAACEAQAAhgIAAEkCAACvAgAA8QEAAKECAABlAgAAqQEAAF0CAAACAwAADAMAAFEDAAAoAgAAbwIAAM8BAAAiAwAAswIAAIMDAAB0AwAAmQIAAKkBAACwAgAAOQMAAFYDAAB4AwAAwwMAAIgDAADeAgAAqwEAALADAAD+BAAAcgUAAG4GAABCBAAA4QQAALgEAAAYCAAANQgAADAKAABpCAAAQAcAAJ0HAABUBwAA5wkAAMYMAABTCwAAVQ4AABEKAACPCQAA4wwAAHgPAACAEAAAMBIAAKcPAAD2CwAAygkAACQKAABJHQAAOhEAAK4VAADwGQAAmBYAAAAQAADpDgAARxMAAM8WAAD9GQAAyhkAAJMXAACzIAAA\",\"dtype\":\"int32\",\"order\":\"little\",\"shape\":[300]}},\"selected\":{\"id\":\"1225\"},\"selection_policy\":{\"id\":\"1226\"}},\"id\":\"1202\",\"type\":\"ColumnDataSource\"},{\"attributes\":{\"source\":{\"id\":\"1683\"}},\"id\":\"1687\",\"type\":\"CDSView\"},{\"attributes\":{},\"id\":\"1174\",\"type\":\"DataRange1d\"},{\"attributes\":{\"line_alpha\":0.1,\"line_color\":\"red\",\"x\":{\"field\":\"x\"},\"y\":{\"field\":\"y\"}},\"id\":\"1367\",\"type\":\"Line\"},{\"attributes\":{\"line_color\":\"red\",\"x\":{\"field\":\"x\"},\"y\":{\"field\":\"y\"}},\"id\":\"1366\",\"type\":\"Line\"},{\"attributes\":{\"label\":{\"value\":\"Confirmed by Day\"},\"renderers\":[{\"id\":\"1205\"}]},\"id\":\"1228\",\"type\":\"LegendItem\"},{\"attributes\":{},\"id\":\"1618\",\"type\":\"Selection\"},{\"attributes\":{\"data_source\":{\"id\":\"1365\"},\"glyph\":{\"id\":\"1366\"},\"hover_glyph\":null,\"muted_glyph\":null,\"nonselection_glyph\":{\"id\":\"1367\"},\"selection_glyph\":null,\"view\":{\"id\":\"1369\"}},\"id\":\"1368\",\"type\":\"GlyphRenderer\"},{\"attributes\":{},\"id\":\"1176\",\"type\":\"DataRange1d\"},{\"attributes\":{\"data\":{\"x\":{\"__ndarray__\":\"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\",\"dtype\":\"float64\",\"order\":\"little\",\"shape\":[300]},\"y\":{\"__ndarray__\":\"AAAAAAAAAAAAAAAAAAAAAAAAAAAAAAAAAAAAAAAAAAAAAAAAAAAAAAAAAAAAAAAAAAAAAAAAAAAAAAAAAAAAAAAAAAAAAAAAAAAAAAAAAAAAAAAAAAAAAAAAAAAAAAAAAAAAAAAAAAAAAAAAAAAAAAAAAAAAAAAAAAAAAAAAAAAAAAAAAAAAAAAAAAAAAAAAAAAAAAAAAAAAAAAAAAAAAAAAAAAAAAAAAAAAAAAAAAAAAAAAAAAAAAAAAAAAAAAAAAAAAAAAAAAAAAAAAAAAAAAAAAAAAAAAAAAAAAAAAAAAAAAAAAAAAAAAAAAAAAAAAAAAAAAAAAAAAAAAAAAAAAAAAAAAAAAAAAAAAAAAAAAAAAAAAAAAAAAAAAAAAAAAAAAAAAAAAAAAAAAAAAAAAAAAAAAAAAAAAAAAAAAAAAAAAAAAAAAAAAAAAAAAAAAAAAAAAAAAAAAAAAAAAAAAAAAAAAAAAAAAAAAAAAAAAAAAAAAAAAAAAAAAAAAAAAAAAAAAAAAAAAAAAAAAAAAAAAAAAAAAAAAAAAAAAAAAAAAAAAAAAAAAAAAAAAAAAAAAAAAAAAAAAAAAAAAAAADwPwAAAAAAAABAAAAAAAAACEAAAAAAAAAYQAAAAAAAAChAAAAAAAAALEAAAAAAAAA3QAAAAAAAgEBAAAAAAACARUAAAAAAAABOQAAAAAAAAFNAAAAAAAAAWUAAAAAAAMBdQAAAAAAAgGFAAAAAAAAAZEAAAAAAAGBnQAAAAAAAIGpAAAAAAADAbkAAAAAAAKBwQAAAAAAAcHJAAAAAAABwc0AAAAAAAJB1QAAAAAAAwHdAAAAAAACQeUAAAAAAADB7QAAAAAAAYH1AAAAAAACAf0AAAAAAALiAQAAAAAAAuIFAAAAAAAC4gkAAAAAAAKiDQAAAAAAAiIRAAAAAAAB4hUAAAAAAAFCGQAAAAAAA+IZAAAAAAADQh0AAAAAAAIiIQAAAAAAAoIlAAAAAAACwikAAAAAAAICLQAAAAAAAOIxAAAAAAAAAjUAAAAAAAKCNQAAAAAAAaI5AAAAAAADojkAAAAAAAHiPQAAAAAAA+I9AAAAAAABMkEAAAAAAAJyQQAAAAAAAyJBAAAAAAAAEkUAAAAAAAESRQAAAAAAAaJFAAAAAAACYkUAAAAAAALyRQAAAAAAA4JFAAAAAAAAskkAAAAAAAFySQAAAAAAAgJJAAAAAAACYkkAAAAAAAMySQAAAAAAACJNAAAAAAAA8k0AAAAAAAHyTQAAAAAAAvJNAAAAAAAD0k0AAAAAAACSUQAAAAAAAWJRAAAAAAACQlEAAAAAAAMiUQAAAAAAA+JRAAAAAAAAwlUAAAAAAAGSVQAAAAAAAnJVAAAAAAADQlUAAAAAAAAiWQAAAAAAAQJZAAAAAAABwlkAAAAAAAJyWQAAAAAAAvJZAAAAAAADklkAAAAAAAAiXQAAAAAAAHJdAAAAAAAA0l0AAAAAAAFCXQAAAAAAAZJdAAAAAAACAl0AAAAAAAISXQAAAAAAAoJdAAAAAAAC0l0AAAAAAAMCXQAAAAAAAyJdAAAAAAADMl0AAAAAAANCXQAAAAAAA3JdAAAAAAADgl0AAAAAAAOiXQAAAAAAA+JdAAAAAAAAQmEAAAAAAAByYQAAAAAAANJhAAAAAAABMmEAAAAAAAGSYQAAAAAAAcJhAAAAAAACAmEAAAAAAAKCYQAAAAAAArJhAAAAAAADMmEAAAAAAAPiYQAAAAAAAFJlAAAAAAAA4mUAAAAAAAFCZQAAAAAAAdJlAAAAAAAB8mUAAAAAAALCZQAAAAAAAuJlAAAAAAADYmUAAAAAAAPCZQAAAAAAA+JlAAAAAAAAQmkAAAAAAADCaQAAAAAAAPJpAAAAAAABImkAAAAAAAFCaQAAAAAAAZJpAAAAAAABsmkAAAAAAAISaQAAAAAAAmJpAAAAAAACkmkAAAAAAAMCaQAAAAAAA0JpAAAAAAADUmkAAAAAAANyaQAAAAAAA6JpAAAAAAAD0mkAAAAAAAPyaQAAAAAAAHJtAAAAAAAAkm0AAAAAAACibQAAAAAAAKJtAAAAAAAAsm0AAAAAAADCbQAAAAAAAPJtAAAAAAABIm0AAAAAAAFibQAAAAAAAcJtAAAAAAAB8m0AAAAAAAISbQAAAAAAAkJtAAAAAAACom0AAAAAAALCbQAAAAAAAvJtAAAAAAADIm0AAAAAAAMybQAAAAAAA4JtAAAAAAADom0AAAAAAAPCbQAAAAAAAAJxAAAAAAAAInEAAAAAAABCcQAAAAAAAJJxAAAAAAAA0nEAAAAAAADycQAAAAAAARJxAAAAAAABcnEAAAAAAAGicQAAAAAAAbJxAAAAAAAB4nEAAAAAAAICcQAAAAAAAjJxAAAAAAACUnEAAAAAAAKScQAAAAAAAuJxAAAAAAADAnEAAAAAAAMycQAAAAAAA2JxAAAAAAADknEAAAAAAAPCcQAAAAAAA/JxAAAAAAAAQnUAAAAAAACydQAAAAAAAPJ1AAAAAAABMnUAAAAAAAFidQAAAAAAAgJ1AAAAAAACYnUAAAAAAAKydQAAAAAAA4J1AAAAAAAAAnkAAAAAAABSeQAAAAAAAIJ5AAAAAAAAsnkAAAAAAAECeQAAAAAAAYJ5AAAAAAACEnkAAAAAAAJSeQAAAAAAArJ5AAAAAAADMnkAAAAAAAOSeQAAAAAAA/J5AAAAAAAAsn0AAAAAAAFSfQAAAAAAAiJ9AAAAAAADAn0AAAAAAAOCfQAAAAAAABKBAAAAAAAAcoEAAAAAAACagQAAAAAAAQKBAAAAAAABcoEAAAAAAAHygQAAAAAAAiqBAAAAAAACgoEAAAAAAAMqgQAAAAAAA5KBAAAAAAAAKoUAAAAAAACyhQAAAAAAASqFAAAAAAABqoUAAAAAAAIqhQAAAAAAAyKFAAAAAAADyoUAAAAAAABiiQAAAAAAATqJAAAAAAACGokAAAAAAALaiQAAAAAAA+KJAAAAAAABIo0AAAAAAAJajQAAAAAAA4KNAAAAAAAA8pEAAAAAAAJakQAAAAAAADKVAAAAAAABopUAAAAAAANClQAAAAAAAQKZAAAAAAACgpkAAAAAAAB6nQAAAAAAAmqdAAAAAAAA+qEAAAAAAANqoQAAAAAAAZKlAAAAAAADSqUAAAAAAAGqqQAAAAAAAIKtA\",\"dtype\":\"float64\",\"order\":\"little\",\"shape\":[300]}},\"selected\":{\"id\":\"1618\"},\"selection_policy\":{\"id\":\"1619\"}},\"id\":\"1577\",\"type\":\"ColumnDataSource\"},{\"attributes\":{\"data_source\":{\"id\":\"1683\"},\"glyph\":{\"id\":\"1684\"},\"hover_glyph\":null,\"muted_glyph\":null,\"nonselection_glyph\":{\"id\":\"1685\"},\"selection_glyph\":null,\"view\":{\"id\":\"1687\"}},\"id\":\"1686\",\"type\":\"GlyphRenderer\"},{\"attributes\":{\"line_color\":\"#1f77b4\",\"x\":{\"field\":\"x\"},\"y\":{\"field\":\"y\"}},\"id\":\"1203\",\"type\":\"Line\"},{\"attributes\":{},\"id\":\"1178\",\"type\":\"LinearScale\"},{\"attributes\":{\"source\":{\"id\":\"1365\"}},\"id\":\"1369\",\"type\":\"CDSView\"},{\"attributes\":{\"line_alpha\":0.1,\"line_color\":\"orange\",\"x\":{\"field\":\"x\"},\"y\":{\"field\":\"y\"}},\"id\":\"1685\",\"type\":\"Line\"},{\"attributes\":{},\"id\":\"1191\",\"type\":\"PanTool\"},{\"attributes\":{},\"id\":\"1726\",\"type\":\"Selection\"},{\"attributes\":{},\"id\":\"1180\",\"type\":\"LinearScale\"},{\"attributes\":{\"label\":{\"value\":\"Cumulative Death\"},\"renderers\":[{\"id\":\"1580\"}]},\"id\":\"1644\",\"type\":\"LegendItem\"},{\"attributes\":{\"months\":[0,1,2,3,4,5,6,7,8,9,10,11]},\"id\":\"1220\",\"type\":\"MonthsTicker\"},{\"attributes\":{},\"id\":\"1226\",\"type\":\"UnionRenderers\"},{\"attributes\":{},\"id\":\"1727\",\"type\":\"UnionRenderers\"},{\"attributes\":{\"formatter\":{\"id\":\"1210\"},\"ticker\":{\"id\":\"1183\"}},\"id\":\"1182\",\"type\":\"DatetimeAxis\"},{\"attributes\":{},\"id\":\"1187\",\"type\":\"BasicTicker\"},{\"attributes\":{\"line_color\":\"orange\",\"x\":{\"field\":\"x\"},\"y\":{\"field\":\"y\"}},\"id\":\"1684\",\"type\":\"Line\"},{\"attributes\":{},\"id\":\"1224\",\"type\":\"YearsTicker\"},{\"attributes\":{\"axis\":{\"id\":\"1186\"},\"dimension\":1,\"ticker\":null},\"id\":\"1189\",\"type\":\"Grid\"},{\"attributes\":{\"line_alpha\":0.1,\"line_color\":\"#1f77b4\",\"x\":{\"field\":\"x\"},\"y\":{\"field\":\"y\"}},\"id\":\"1204\",\"type\":\"Line\"},{\"attributes\":{\"num_minor_ticks\":5,\"tickers\":[{\"id\":\"1213\"},{\"id\":\"1214\"},{\"id\":\"1215\"},{\"id\":\"1216\"},{\"id\":\"1217\"},{\"id\":\"1218\"},{\"id\":\"1219\"},{\"id\":\"1220\"},{\"id\":\"1221\"},{\"id\":\"1222\"},{\"id\":\"1223\"},{\"id\":\"1224\"}]},\"id\":\"1183\",\"type\":\"DatetimeTicker\"},{\"attributes\":{\"data_source\":{\"id\":\"1202\"},\"glyph\":{\"id\":\"1203\"},\"hover_glyph\":null,\"muted_glyph\":null,\"nonselection_glyph\":{\"id\":\"1204\"},\"selection_glyph\":null,\"view\":{\"id\":\"1206\"}},\"id\":\"1205\",\"type\":\"GlyphRenderer\"},{\"attributes\":{\"line_color\":\"yellow\",\"x\":{\"field\":\"x\"},\"y\":{\"field\":\"y\"}},\"id\":\"1578\",\"type\":\"Line\"},{\"attributes\":{\"active_drag\":\"auto\",\"active_inspect\":\"auto\",\"active_multi\":null,\"active_scroll\":\"auto\",\"active_tap\":\"auto\",\"tools\":[{\"id\":\"1190\"},{\"id\":\"1191\"},{\"id\":\"1192\"},{\"id\":\"1193\"},{\"id\":\"1194\"}]},\"id\":\"1196\",\"type\":\"Toolbar\"},{\"attributes\":{\"source\":{\"id\":\"1202\"}},\"id\":\"1206\",\"type\":\"CDSView\"},{\"attributes\":{},\"id\":\"1194\",\"type\":\"ResetTool\"},{\"attributes\":{\"bottom_units\":\"screen\",\"fill_alpha\":0.5,\"fill_color\":\"lightgrey\",\"left_units\":\"screen\",\"level\":\"overlay\",\"line_alpha\":1.0,\"line_color\":\"black\",\"line_dash\":[4,4],\"line_width\":2,\"right_units\":\"screen\",\"top_units\":\"screen\"},\"id\":\"1195\",\"type\":\"BoxAnnotation\"},{\"attributes\":{\"data\":{\"x\":{\"__ndarray__\":\"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\",\"dtype\":\"float64\",\"order\":\"little\",\"shape\":[300]},\"y\":{\"__ndarray__\":\"AAAAAAAAAAAAAAAAAAAAAAAAAAAAAAAAAAAAAAAAAAAAAAAAAAAAAAAAAAAAAAAAAAAAAAAAAAAAAAAAAAAAAAAAAAAAAAAAAAAAAAAAAAAAAAAAAAAAAAAAAAAAAAAAAAAAAAAAAAAAAAAAAAAAAAAAAAAAAAAAAAAAAAAAAAAAAAAAAAAAAAAAAAAAAAAAAAAAAAAAAAAAAAAAAAAAAAAAAAAAAAAAAAAAAAAAAAAAAAAAAAAAAAAAAAAAAAAAAAAAAAAAAAAAAAAAAAAAAAAAAAAAAAAAAAAAAAEAAAABAAAAAQAAAAMAAAAGAAAAAgAAAAkAAAAKAAAACgAAABEAAAAQAAAAGAAAABMAAAAVAAAAFAAAABsAAAAWAAAAJQAAABQAAAAdAAAAEAAAACIAAAAjAAAAHQAAABoAAAAjAAAAIgAAAB8AAAAgAAAAIAAAAB4AAAAcAAAAHgAAABsAAAAVAAAAGwAAABcAAAAjAAAAIgAAABoAAAAXAAAAGQAAABQAAAAZAAAAEAAAABIAAAAQAAAAFAAAABQAAAALAAAADwAAABAAAAAJAAAADAAAAAkAAAAJAAAAEwAAAAwAAAAJAAAABgAAAA0AAAAPAAAADQAAABAAAAAQAAAADgAAAAwAAAANAAAADgAAAA4AAAAMAAAADgAAAA0AAAAOAAAADQAAAA4AAAAOAAAADAAAAAsAAAAIAAAACgAAAAkAAAAFAAAABgAAAAcAAAAFAAAABwAAAAEAAAAHAAAABQAAAAMAAAACAAAAAQAAAAEAAAADAAAAAQAAAAIAAAAEAAAABgAAAAMAAAAGAAAABgAAAAYAAAADAAAABAAAAAgAAAADAAAACAAAAAsAAAAHAAAACQAAAAYAAAAJAAAAAgAAAA0AAAACAAAACAAAAAYAAAACAAAABgAAAAgAAAADAAAAAwAAAAIAAAAFAAAAAgAAAAYAAAAFAAAAAwAAAAcAAAAEAAAAAQAAAAIAAAADAAAAAwAAAAIAAAAIAAAAAgAAAAEAAAAAAAAAAQAAAAEAAAADAAAAAwAAAAQAAAAGAAAAAwAAAAIAAAADAAAABgAAAAIAAAADAAAAAwAAAAEAAAAFAAAAAgAAAAIAAAAEAAAAAgAAAAIAAAAFAAAABAAAAAIAAAACAAAABgAAAAMAAAABAAAAAwAAAAIAAAADAAAAAgAAAAQAAAAFAAAAAgAAAAMAAAADAAAAAwAAAAMAAAADAAAABQAAAAcAAAAEAAAABAAAAAMAAAAKAAAABgAAAAUAAAANAAAACAAAAAUAAAADAAAAAwAAAAUAAAAIAAAACQAAAAQAAAAGAAAACAAAAAYAAAAGAAAADAAAAAoAAAANAAAADgAAAAgAAAAKAAAADAAAAAUAAAANAAAADgAAABAAAAAHAAAACwAAABUAAAANAAAAEwAAABEAAAAPAAAAEAAAABAAAAAfAAAAFQAAABMAAAAbAAAAHAAAABgAAAAhAAAAKAAAACcAAAAlAAAALgAAAC0AAAA7AAAALgAAADQAAAA4AAAAMAAAAD8AAAA+AAAAUgAAAE4AAABFAAAANwAAAEwAAABbAAAA\",\"dtype\":\"int32\",\"order\":\"little\",\"shape\":[300]}},\"selected\":{\"id\":\"1404\"},\"selection_policy\":{\"id\":\"1405\"}},\"id\":\"1365\",\"type\":\"ColumnDataSource\"},{\"attributes\":{},\"id\":\"1404\",\"type\":\"Selection\"},{\"attributes\":{},\"id\":\"1208\",\"type\":\"BasicTickFormatter\"},{\"attributes\":{\"days\":[1,15]},\"id\":\"1219\",\"type\":\"DaysTicker\"},{\"attributes\":{\"data_source\":{\"id\":\"1577\"},\"glyph\":{\"id\":\"1578\"},\"hover_glyph\":null,\"muted_glyph\":null,\"nonselection_glyph\":{\"id\":\"1579\"},\"selection_glyph\":null,\"view\":{\"id\":\"1581\"}},\"id\":\"1580\",\"type\":\"GlyphRenderer\"},{\"attributes\":{\"callback\":null,\"tooltips\":\"value: @y\"},\"id\":\"1190\",\"type\":\"HoverTool\"},{\"attributes\":{\"months\":[0,4,8]},\"id\":\"1222\",\"type\":\"MonthsTicker\"},{\"attributes\":{\"line_alpha\":0.1,\"line_color\":\"yellow\",\"x\":{\"field\":\"x\"},\"y\":{\"field\":\"y\"}},\"id\":\"1579\",\"type\":\"Line\"},{\"attributes\":{},\"id\":\"1210\",\"type\":\"DatetimeTickFormatter\"},{\"attributes\":{},\"id\":\"1405\",\"type\":\"UnionRenderers\"},{\"attributes\":{\"formatter\":{\"id\":\"1208\"},\"ticker\":{\"id\":\"1187\"}},\"id\":\"1186\",\"type\":\"LinearAxis\"},{\"attributes\":{\"source\":{\"id\":\"1577\"}},\"id\":\"1581\",\"type\":\"CDSView\"},{\"attributes\":{\"mantissas\":[1,2,5],\"max_interval\":500.0,\"num_minor_ticks\":0},\"id\":\"1213\",\"type\":\"AdaptiveTicker\"},{\"attributes\":{\"overlay\":{\"id\":\"1195\"}},\"id\":\"1193\",\"type\":\"BoxZoomTool\"},{\"attributes\":{\"data\":{\"x\":{\"__ndarray__\":\"AABAx6j8dkIAAAAt+/x2QgAAwJJN/XZCAACA+J/9dkIAAEBe8v12QgAAAMRE/nZCAADAKZf+dkIAAICP6f52QgAAQPU7/3ZCAAAAW47/dkIAAMDA4P92QgAAgCYzAHdCAABAjIUAd0IAAADy1wB3QgAAwFcqAXdCAACAvXwBd0IAAEAjzwF3QgAAAIkhAndCAADA7nMCd0IAAIBUxgJ3QgAAQLoYA3dCAAAAIGsDd0IAAMCFvQN3QgAAgOsPBHdCAABAUWIEd0IAAAC3tAR3QgAAwBwHBXdCAACAglkFd0IAAEDoqwV3QgAAAE7+BXdCAADAs1AGd0IAAIAZowZ3QgAAQH/1BndCAAAA5UcHd0IAAMBKmgd3QgAAgLDsB3dCAABAFj8Id0IAAAB8kQh3QgAAwOHjCHdCAACARzYJd0IAAECtiAl3QgAAABPbCXdCAADAeC0Kd0IAAIDefwp3QgAAQETSCndCAAAAqiQLd0IAAMAPdwt3QgAAgHXJC3dCAABA2xsMd0IAAABBbgx3QgAAwKbADHdCAACADBMNd0IAAEByZQ13QgAAANi3DXdCAADAPQoOd0IAAICjXA53QgAAQAmvDndCAAAAbwEPd0IAAMDUUw93QgAAgDqmD3dCAABAoPgPd0IAAAAGSxB3QgAAwGudEHdCAACA0e8Qd0IAAEA3QhF3QgAAAJ2UEXdCAADAAucRd0IAAIBoORJ3QgAAQM6LEndCAAAANN4Sd0IAAMCZMBN3QgAAgP+CE3dCAABAZdUTd0IAAADLJxR3QgAAwDB6FHdCAACAlswUd0IAAED8HhV3QgAAAGJxFXdCAADAx8MVd0IAAIAtFhZ3QgAAQJNoFndCAAAA+boWd0IAAMBeDRd3QgAAgMRfF3dCAABAKrIXd0IAAACQBBh3QgAAwPVWGHdCAACAW6kYd0IAAEDB+xh3QgAAACdOGXdCAADAjKAZd0IAAIDy8hl3QgAAQFhFGndCAAAAvpcad0IAAMAj6hp3QgAAgIk8G3dCAABA744bd0IAAABV4Rt3QgAAwLozHHdCAACAIIYcd0IAAECG2Bx3QgAAAOwqHXdCAADAUX0dd0IAAIC3zx13QgAAQB0iHndCAAAAg3Qed0IAAMDoxh53QgAAgE4ZH3dCAABAtGsfd0IAAAAavh93QgAAwH8QIHdCAACA5WIgd0IAAEBLtSB3QgAAALEHIXdCAADAFlohd0IAAIB8rCF3QgAAQOL+IXdCAAAASFEid0IAAMCtoyJ3QgAAgBP2IndCAABAeUgjd0IAAADfmiN3QgAAwETtI3dCAACAqj8kd0IAAEAQkiR3QgAAAHbkJHdCAADA2zYld0IAAIBBiSV3QgAAQKfbJXdCAAAADS4md0IAAMBygCZ3QgAAgNjSJndCAABAPiUnd0IAAACkdyd3QgAAwAnKJ3dCAACAbxwod0IAAEDVbih3QgAAADvBKHdCAADAoBMpd0IAAIAGZil3QgAAQGy4KXdCAAAA0goqd0IAAMA3XSp3QgAAgJ2vKndCAABAAwIrd0IAAABpVCt3QgAAwM6mK3dCAACANPkrd0IAAECaSyx3QgAAAACeLHdCAADAZfAsd0IAAIDLQi13QgAAQDGVLXdCAAAAl+ctd0IAAMD8OS53QgAAgGKMLndCAABAyN4ud0IAAAAuMS93QgAAwJODL3dCAACA+dUvd0IAAEBfKDB3QgAAAMV6MHdCAADAKs0wd0IAAICQHzF3QgAAQPZxMXdCAAAAXMQxd0IAAMDBFjJ3QgAAgCdpMndCAABAjbsyd0IAAADzDTN3QgAAwFhgM3dCAACAvrIzd0IAAEAkBTR3QgAAAIpXNHdCAADA76k0d0IAAIBV/DR3QgAAQLtONXdCAAAAIaE1d0IAAMCG8zV3QgAAgOxFNndCAABAUpg2d0IAAAC46jZ3QgAAwB09N3dCAACAg483d0IAAEDp4Td3QgAAAE80OHdCAADAtIY4d0IAAIAa2Th3QgAAQIArOXdCAAAA5n05d0IAAMBL0Dl3QgAAgLEiOndCAABAF3U6d0IAAAB9xzp3QgAAwOIZO3dCAACASGw7d0IAAECuvjt3QgAAABQRPHdCAADAeWM8d0IAAIDftTx3QgAAQEUIPXdCAAAAq1o9d0IAAMAQrT13QgAAgHb/PXdCAABA3FE+d0IAAABCpD53QgAAwKf2PndCAACADUk/d0IAAEBzmz93QgAAANntP3dCAADAPkBAd0IAAICkkkB3QgAAQArlQHdCAAAAcDdBd0IAAMDViUF3QgAAgDvcQXdCAABAoS5Cd0IAAAAHgUJ3QgAAwGzTQndCAACA0iVDd0IAAEA4eEN3QgAAAJ7KQ3dCAADAAx1Ed0IAAIBpb0R3QgAAQM/BRHdCAAAANRRFd0IAAMCaZkV3QgAAgAC5RXdCAABAZgtGd0IAAADMXUZ3QgAAwDGwRndCAACAlwJHd0IAAED9VEd3QgAAAGOnR3dCAADAyPlHd0IAAIAuTEh3QgAAQJSeSHdCAAAA+vBId0IAAMBfQ0l3QgAAgMWVSXdCAABAK+hJd0IAAACROkp3QgAAwPaMSndCAACAXN9Kd0IAAEDCMUt3QgAAACiES3dCAADAjdZLd0IAAIDzKEx3QgAAQFl7THdCAAAAv81Md0IAAMAkIE13QgAAgIpyTXdCAABA8MRNd0IAAABWF053QgAAwLtpTndCAACAIbxOd0IAAECHDk93QgAAAO1gT3dCAADAUrNPd0IAAIC4BVB3QgAAQB5YUHdCAAAAhKpQd0IAAMDp/FB3QgAAgE9PUXdCAABAtaFRd0IAAAAb9FF3QgAAwIBGUndCAACA5phSd0IAAEBM61J3QgAAALI9U3dCAADAF5BTd0IAAIB94lN3QgAAQOM0VHdCAAAASYdUd0IAAMCu2VR3QgAAgBQsVXdCAABAen5Vd0IAAADg0FV3QgAAwEUjVndCAACAq3VWd0IAAEARyFZ3QgAAAHcaV3dCAADA3GxXd0IAAIBCv1d3QgAAQKgRWHdCAAAADmRYd0IAAMBztlh3QgAAgNkIWXdCAABAP1tZd0IAAAClrVl3QgAAwAoAWndCAACAcFJad0IAAEDWpFp3QgAAADz3WndCAADAoUlbd0IAAIAHnFt3QgAAQG3uW3dCAAAA00Bcd0IAAMA4k1x3QgAAgJ7lXHdC\",\"dtype\":\"float64\",\"order\":\"little\",\"shape\":[300]},\"y\":{\"__ndarray__\":\"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\",\"dtype\":\"float64\",\"order\":\"little\",\"shape\":[300]}},\"selected\":{\"id\":\"1726\"},\"selection_policy\":{\"id\":\"1727\"}},\"id\":\"1683\",\"type\":\"ColumnDataSource\"},{\"attributes\":{\"months\":[0,6]},\"id\":\"1223\",\"type\":\"MonthsTicker\"},{\"attributes\":{\"axis\":{\"id\":\"1182\"},\"ticker\":null},\"id\":\"1185\",\"type\":\"Grid\"},{\"attributes\":{\"base\":60,\"mantissas\":[1,2,5,10,15,20,30],\"max_interval\":1800000.0,\"min_interval\":1000.0,\"num_minor_ticks\":0},\"id\":\"1214\",\"type\":\"AdaptiveTicker\"},{\"attributes\":{},\"id\":\"1192\",\"type\":\"WheelZoomTool\"},{\"attributes\":{\"months\":[0,2,4,6,8,10]},\"id\":\"1221\",\"type\":\"MonthsTicker\"},{\"attributes\":{\"items\":[{\"id\":\"1228\"},{\"id\":\"1428\"},{\"id\":\"1644\"},{\"id\":\"1754\"}]},\"id\":\"1227\",\"type\":\"Legend\"},{\"attributes\":{\"base\":24,\"mantissas\":[1,2,4,6,8,12],\"max_interval\":43200000.0,\"min_interval\":3600000.0,\"num_minor_ticks\":0},\"id\":\"1215\",\"type\":\"AdaptiveTicker\"}],\"root_ids\":[\"1171\"]},\"title\":\"Bokeh Application\",\"version\":\"2.2.3\"}};\n",
       "  var render_items = [{\"docid\":\"82aeb5a8-e8bd-4c47-85f8-1219ed0b98d7\",\"root_ids\":[\"1171\"],\"roots\":{\"1171\":\"96dab21e-5feb-4648-b19c-26acc5e9176b\"}}];\n",
       "  root.Bokeh.embed.embed_items_notebook(docs_json, render_items);\n",
       "\n",
       "  }\n",
       "  if (root.Bokeh !== undefined) {\n",
       "    embed_document(root);\n",
       "  } else {\n",
       "    var attempts = 0;\n",
       "    var timer = setInterval(function(root) {\n",
       "      if (root.Bokeh !== undefined) {\n",
       "        clearInterval(timer);\n",
       "        embed_document(root);\n",
       "      } else {\n",
       "        attempts++;\n",
       "        if (attempts > 100) {\n",
       "          clearInterval(timer);\n",
       "          console.log(\"Bokeh: ERROR: Unable to run BokehJS code because BokehJS library is missing\");\n",
       "        }\n",
       "      }\n",
       "    }, 10, root)\n",
       "  }\n",
       "})(window);"
      ],
      "application/vnd.bokehjs_exec.v0+json": ""
     },
     "metadata": {
      "application/vnd.bokehjs_exec.v0+json": {
       "id": "1171"
      }
     },
     "output_type": "display_data"
    }
   ],
   "source": [
    "y = total[\"deaths\"]\n",
    "\n",
    "fig.line(x = x,y = y,legend_label=\"Cumulative Death\",color=\"yellow\")\n",
    "\n",
    "y = total[\"confirmed_cases\"]\n",
    "fig.line(x = x,y = y,legend_label=\"Cumulative Cases\",color=\"orange\")\n",
    "\n",
    "show(fig)"
   ]
  },
  {
   "cell_type": "markdown",
   "metadata": {},
   "source": [
    "### Ok. Now it is to hard to make sense out of this.\n",
    "\n",
    "Lets keep thing neat and tidy, so that we dont overwhelm our end-users with a lot of information."
   ]
  },
  {
   "cell_type": "markdown",
   "metadata": {},
   "source": [
    "### As an alternative, lets try to plot both the deaths and confirmed cases, but as % variances of the day before."
   ]
  },
  {
   "cell_type": "code",
   "execution_count": 25,
   "metadata": {},
   "outputs": [
    {
     "data": {
      "text/html": [
       "\n",
       "\n",
       "\n",
       "\n",
       "\n",
       "\n",
       "  <div class=\"bk-root\" id=\"b82475d6-4f87-4338-baff-ce6fa15c01c2\" data-root-id=\"1925\"></div>\n"
      ]
     },
     "metadata": {},
     "output_type": "display_data"
    },
    {
     "data": {
      "application/javascript": [
       "(function(root) {\n",
       "  function embed_document(root) {\n",
       "    \n",
       "  var docs_json = {\"d22ff669-6090-4f1e-b068-c1ce8d00d51a\":{\"roots\":{\"references\":[{\"attributes\":{\"below\":[{\"id\":\"1936\"}],\"center\":[{\"id\":\"1939\"},{\"id\":\"1943\"},{\"id\":\"1977\"}],\"left\":[{\"id\":\"1940\"}],\"plot_height\":500,\"renderers\":[{\"id\":\"1956\"},{\"id\":\"1982\"}],\"title\":{\"id\":\"1926\"},\"toolbar\":{\"id\":\"1948\"},\"x_range\":{\"id\":\"1928\"},\"x_scale\":{\"id\":\"1932\"},\"y_range\":{\"id\":\"1930\"},\"y_scale\":{\"id\":\"1934\"}},\"id\":\"1925\",\"subtype\":\"Figure\",\"type\":\"Plot\"},{\"attributes\":{\"base\":60,\"mantissas\":[1,2,5,10,15,20,30],\"max_interval\":1800000.0,\"min_interval\":1000.0,\"num_minor_ticks\":0},\"id\":\"1964\",\"type\":\"AdaptiveTicker\"},{\"attributes\":{},\"id\":\"1932\",\"type\":\"LinearScale\"},{\"attributes\":{\"source\":{\"id\":\"1979\"}},\"id\":\"1983\",\"type\":\"CDSView\"},{\"attributes\":{\"base\":24,\"mantissas\":[1,2,4,6,8,12],\"max_interval\":43200000.0,\"min_interval\":3600000.0,\"num_minor_ticks\":0},\"id\":\"1965\",\"type\":\"AdaptiveTicker\"},{\"attributes\":{},\"id\":\"1934\",\"type\":\"LinearScale\"},{\"attributes\":{},\"id\":\"2004\",\"type\":\"UnionRenderers\"},{\"attributes\":{\"days\":[1,2,3,4,5,6,7,8,9,10,11,12,13,14,15,16,17,18,19,20,21,22,23,24,25,26,27,28,29,30,31]},\"id\":\"1966\",\"type\":\"DaysTicker\"},{\"attributes\":{\"text\":\"Portugal cases evolution\"},\"id\":\"1926\",\"type\":\"Title\"},{\"attributes\":{\"formatter\":{\"id\":\"1961\"},\"ticker\":{\"id\":\"1937\"}},\"id\":\"1936\",\"type\":\"DatetimeAxis\"},{\"attributes\":{\"days\":[1,4,7,10,13,16,19,22,25,28]},\"id\":\"1967\",\"type\":\"DaysTicker\"},{\"attributes\":{\"num_minor_ticks\":5,\"tickers\":[{\"id\":\"1963\"},{\"id\":\"1964\"},{\"id\":\"1965\"},{\"id\":\"1966\"},{\"id\":\"1967\"},{\"id\":\"1968\"},{\"id\":\"1969\"},{\"id\":\"1970\"},{\"id\":\"1971\"},{\"id\":\"1972\"},{\"id\":\"1973\"},{\"id\":\"1974\"}]},\"id\":\"1937\",\"type\":\"DatetimeTicker\"},{\"attributes\":{\"days\":[1,8,15,22]},\"id\":\"1968\",\"type\":\"DaysTicker\"},{\"attributes\":{\"axis\":{\"id\":\"1936\"},\"ticker\":null},\"id\":\"1939\",\"type\":\"Grid\"},{\"attributes\":{\"months\":[0,4,8]},\"id\":\"1972\",\"type\":\"MonthsTicker\"},{\"attributes\":{\"days\":[1,15]},\"id\":\"1969\",\"type\":\"DaysTicker\"},{\"attributes\":{\"line_alpha\":0.1,\"line_color\":\"orange\",\"x\":{\"field\":\"x\"},\"y\":{\"field\":\"y\"}},\"id\":\"1955\",\"type\":\"Line\"},{\"attributes\":{},\"id\":\"1941\",\"type\":\"BasicTicker\"},{\"attributes\":{\"months\":[0,1,2,3,4,5,6,7,8,9,10,11]},\"id\":\"1970\",\"type\":\"MonthsTicker\"},{\"attributes\":{\"axis\":{\"id\":\"1940\"},\"dimension\":1,\"ticker\":null},\"id\":\"1943\",\"type\":\"Grid\"},{\"attributes\":{\"months\":[0,2,4,6,8,10]},\"id\":\"1971\",\"type\":\"MonthsTicker\"},{\"attributes\":{\"line_color\":\"orange\",\"x\":{\"field\":\"x\"},\"y\":{\"field\":\"y\"}},\"id\":\"1954\",\"type\":\"Line\"},{\"attributes\":{\"months\":[0,6]},\"id\":\"1973\",\"type\":\"MonthsTicker\"},{\"attributes\":{\"source\":{\"id\":\"1953\"}},\"id\":\"1957\",\"type\":\"CDSView\"},{\"attributes\":{\"data_source\":{\"id\":\"1953\"},\"glyph\":{\"id\":\"1954\"},\"hover_glyph\":null,\"muted_glyph\":null,\"nonselection_glyph\":{\"id\":\"1955\"},\"selection_glyph\":null,\"view\":{\"id\":\"1957\"}},\"id\":\"1956\",\"type\":\"GlyphRenderer\"},{\"attributes\":{},\"id\":\"1974\",\"type\":\"YearsTicker\"},{\"attributes\":{\"callback\":null,\"tooltips\":\"value: @y\"},\"id\":\"1944\",\"type\":\"HoverTool\"},{\"attributes\":{},\"id\":\"1975\",\"type\":\"Selection\"},{\"attributes\":{},\"id\":\"1945\",\"type\":\"PanTool\"},{\"attributes\":{},\"id\":\"1976\",\"type\":\"UnionRenderers\"},{\"attributes\":{},\"id\":\"1946\",\"type\":\"WheelZoomTool\"},{\"attributes\":{\"items\":[{\"id\":\"1978\"}]},\"id\":\"1977\",\"type\":\"Legend\"},{\"attributes\":{},\"id\":\"1930\",\"type\":\"DataRange1d\"},{\"attributes\":{},\"id\":\"1947\",\"type\":\"ResetTool\"},{\"attributes\":{},\"id\":\"1928\",\"type\":\"DataRange1d\"},{\"attributes\":{\"active_drag\":\"auto\",\"active_inspect\":\"auto\",\"active_multi\":null,\"active_scroll\":\"auto\",\"active_tap\":\"auto\",\"tools\":[{\"id\":\"1944\"},{\"id\":\"1945\"},{\"id\":\"1946\"},{\"id\":\"1947\"}]},\"id\":\"1948\",\"type\":\"Toolbar\"},{\"attributes\":{\"label\":{\"value\":\"% difference per day\"},\"renderers\":[{\"id\":\"1956\"},{\"id\":\"1982\"}]},\"id\":\"1978\",\"type\":\"LegendItem\"},{\"attributes\":{\"formatter\":{\"id\":\"1959\"},\"ticker\":{\"id\":\"1941\"}},\"id\":\"1940\",\"type\":\"LinearAxis\"},{\"attributes\":{\"data\":{\"x\":[138,329,520,711,902,1093,1284,1475,1666,1857,2048,2239,2430,2621,2812,3003,3194,3385,3576,3767,3958,4149,4340,4531,4722,4913,5104,5295,5486,5677,5868,6059,6250,6441,6632,6823,7014,7205,7396,7587,7778,7969,8160,8351,8542,8733,8924,9115,9306,9497,9688,9879,10070,10261,10452,10643,10834,11025,11216,11407,11598,11789,11980,12171,12362,12553,12744,12935,13126,13317,13508,13699,13890,14081,14272,14463,14654,14845,15036,15227,15418,15609,15800,15991,16182,16373,16564,16755,16946,17137,17328,17519,17710,17901,18092,18283,18474,18665,18856,19047,19238,19429,19620,19811,20002,20193,20384,20575,20766,20957,21148,21339,21530,21721,21912,22103,22294,22485,22676,22867,23058,23249,23440,23631,23822,24013,24204,24395,24586,24777,24968,25159,25350,25541,25732,25923,26114,26305,26496,26687,26878,27069,27260,27451,27642,27833,28024,28215,28406,28597,28788,28979,29170,29361,29552,29743,29934,30125,30316,30507,30698,30889,31080,31271,31462,31653,31844,32035,32226,32417,32608,32799,32990,33181,33372,33563,33754,33945,34136,34327,34518,34709,34900,35091,35282,35473,35664,35855,36046,36237,36428,36619,36810,37001,37192,37383,37574,37765,37956,38147,38338,38529,38720,38911,39102,39293,39484,39675,39866,40057,40248,40439,40630,40821,41012,41203,41394,41585,41776,41967,42158,42349,42540,42731,42922,43113,43304,43495,43686,43877,44068,44259,44450,44641,44832,45023,45214,45405,45596,45787,45978,46169,46360,46551,46742,46933,47124,47315,47506,47697,47888,48079,48270,48461,48652,48843,49034,49225,49416,49607,49798,49989,50180,50371,50562,50753,50944,51135,51326,51517,51708,51899,52090,52281,52472,52663,52854,53045,53236,53427,53618,53809,54000,54191,54382,54573,54764,54955,55146,55337,55528,55719,55910,56101,56292,56483,56674,56865,57056,57247],\"y\":{\"__ndarray__\":\"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\",\"dtype\":\"float64\",\"order\":\"little\",\"shape\":[300]}},\"selected\":{\"id\":\"2003\"},\"selection_policy\":{\"id\":\"2004\"}},\"id\":\"1979\",\"type\":\"ColumnDataSource\"},{\"attributes\":{},\"id\":\"1961\",\"type\":\"DatetimeTickFormatter\"},{\"attributes\":{},\"id\":\"2003\",\"type\":\"Selection\"},{\"attributes\":{},\"id\":\"1959\",\"type\":\"BasicTickFormatter\"},{\"attributes\":{\"data\":{\"x\":[138,329,520,711,902,1093,1284,1475,1666,1857,2048,2239,2430,2621,2812,3003,3194,3385,3576,3767,3958,4149,4340,4531,4722,4913,5104,5295,5486,5677,5868,6059,6250,6441,6632,6823,7014,7205,7396,7587,7778,7969,8160,8351,8542,8733,8924,9115,9306,9497,9688,9879,10070,10261,10452,10643,10834,11025,11216,11407,11598,11789,11980,12171,12362,12553,12744,12935,13126,13317,13508,13699,13890,14081,14272,14463,14654,14845,15036,15227,15418,15609,15800,15991,16182,16373,16564,16755,16946,17137,17328,17519,17710,17901,18092,18283,18474,18665,18856,19047,19238,19429,19620,19811,20002,20193,20384,20575,20766,20957,21148,21339,21530,21721,21912,22103,22294,22485,22676,22867,23058,23249,23440,23631,23822,24013,24204,24395,24586,24777,24968,25159,25350,25541,25732,25923,26114,26305,26496,26687,26878,27069,27260,27451,27642,27833,28024,28215,28406,28597,28788,28979,29170,29361,29552,29743,29934,30125,30316,30507,30698,30889,31080,31271,31462,31653,31844,32035,32226,32417,32608,32799,32990,33181,33372,33563,33754,33945,34136,34327,34518,34709,34900,35091,35282,35473,35664,35855,36046,36237,36428,36619,36810,37001,37192,37383,37574,37765,37956,38147,38338,38529,38720,38911,39102,39293,39484,39675,39866,40057,40248,40439,40630,40821,41012,41203,41394,41585,41776,41967,42158,42349,42540,42731,42922,43113,43304,43495,43686,43877,44068,44259,44450,44641,44832,45023,45214,45405,45596,45787,45978,46169,46360,46551,46742,46933,47124,47315,47506,47697,47888,48079,48270,48461,48652,48843,49034,49225,49416,49607,49798,49989,50180,50371,50562,50753,50944,51135,51326,51517,51708,51899,52090,52281,52472,52663,52854,53045,53236,53427,53618,53809,54000,54191,54382,54573,54764,54955,55146,55337,55528,55719,55910,56101,56292,56483,56674,56865,57056,57247],\"y\":{\"__ndarray__\":\"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\",\"dtype\":\"float64\",\"order\":\"little\",\"shape\":[300]}},\"selected\":{\"id\":\"1975\"},\"selection_policy\":{\"id\":\"1976\"}},\"id\":\"1953\",\"type\":\"ColumnDataSource\"},{\"attributes\":{\"line_alpha\":0.1,\"line_color\":\"red\",\"x\":{\"field\":\"x\"},\"y\":{\"field\":\"y\"}},\"id\":\"1981\",\"type\":\"Line\"},{\"attributes\":{\"mantissas\":[1,2,5],\"max_interval\":500.0,\"num_minor_ticks\":0},\"id\":\"1963\",\"type\":\"AdaptiveTicker\"},{\"attributes\":{\"line_color\":\"red\",\"x\":{\"field\":\"x\"},\"y\":{\"field\":\"y\"}},\"id\":\"1980\",\"type\":\"Line\"},{\"attributes\":{\"data_source\":{\"id\":\"1979\"},\"glyph\":{\"id\":\"1980\"},\"hover_glyph\":null,\"muted_glyph\":null,\"nonselection_glyph\":{\"id\":\"1981\"},\"selection_glyph\":null,\"view\":{\"id\":\"1983\"}},\"id\":\"1982\",\"type\":\"GlyphRenderer\"}],\"root_ids\":[\"1925\"]},\"title\":\"Bokeh Application\",\"version\":\"2.2.3\"}};\n",
       "  var render_items = [{\"docid\":\"d22ff669-6090-4f1e-b068-c1ce8d00d51a\",\"root_ids\":[\"1925\"],\"roots\":{\"1925\":\"b82475d6-4f87-4338-baff-ce6fa15c01c2\"}}];\n",
       "  root.Bokeh.embed.embed_items_notebook(docs_json, render_items);\n",
       "\n",
       "  }\n",
       "  if (root.Bokeh !== undefined) {\n",
       "    embed_document(root);\n",
       "  } else {\n",
       "    var attempts = 0;\n",
       "    var timer = setInterval(function(root) {\n",
       "      if (root.Bokeh !== undefined) {\n",
       "        clearInterval(timer);\n",
       "        embed_document(root);\n",
       "      } else {\n",
       "        attempts++;\n",
       "        if (attempts > 100) {\n",
       "          clearInterval(timer);\n",
       "          console.log(\"Bokeh: ERROR: Unable to run BokehJS code because BokehJS library is missing\");\n",
       "        }\n",
       "      }\n",
       "    }, 10, root)\n",
       "  }\n",
       "})(window);"
      ],
      "application/vnd.bokehjs_exec.v0+json": ""
     },
     "metadata": {
      "application/vnd.bokehjs_exec.v0+json": {
       "id": "1925"
      }
     },
     "output_type": "display_data"
    }
   ],
   "source": [
    "country = \"Portugal\"\n",
    "mask = df[\"Country\"] ==country\n",
    "selected_country = df[mask][[\"confirmed_cases\",\"deaths\"]].pct_change()\n",
    "fig = figure(width= 600,height=500,tools=\"hover,pan,wheel_zoom,reset\",title=\"{} cases evolution\".format(country),x_axis_type=\"datetime\",tooltips=\"value: @y\")\n",
    "x = selected_country.index\n",
    "y =selected_country[\"confirmed_cases\"]\n",
    "fig.line(x = x,y = y,legend_label=\"% difference per day\",color=\"orange\")\n",
    "y =selected_country[\"deaths\"]\n",
    "\n",
    "fig.line(x = x,y = y,legend_label=\"% difference per day\",color=\"red\")\n",
    "\n",
    "show(fig)\n"
   ]
  },
  {
   "cell_type": "markdown",
   "metadata": {},
   "source": [
    "### Might be an interesting view of the data. What do you think?\n",
    "\n",
    "___\n",
    "\n",
    "#### Lets use the absolute values. However, with less granularity. Let us see how Covid was increasing by week. (7D)"
   ]
  },
  {
   "cell_type": "code",
   "execution_count": 147,
   "metadata": {},
   "outputs": [],
   "source": [
    "df.index = pd.to_datetime(df[\"date\"]) #Why do we need to do this ?"
   ]
  },
  {
   "cell_type": "code",
   "execution_count": 148,
   "metadata": {},
   "outputs": [],
   "source": [
    "country = \"Portugal\"\n",
    "mask = df[\"Country\"] ==country\n",
    "selected_country = df[mask]"
   ]
  },
  {
   "cell_type": "code",
   "execution_count": 149,
   "metadata": {},
   "outputs": [],
   "source": [
    "import numpy as np"
   ]
  },
  {
   "cell_type": "code",
   "execution_count": 150,
   "metadata": {},
   "outputs": [
    {
     "data": {
      "text/html": [
       "<div>\n",
       "<style scoped>\n",
       "    .dataframe tbody tr th:only-of-type {\n",
       "        vertical-align: middle;\n",
       "    }\n",
       "\n",
       "    .dataframe tbody tr th {\n",
       "        vertical-align: top;\n",
       "    }\n",
       "\n",
       "    .dataframe thead th {\n",
       "        text-align: right;\n",
       "    }\n",
       "</style>\n",
       "<table border=\"1\" class=\"dataframe\">\n",
       "  <thead>\n",
       "    <tr style=\"text-align: right;\">\n",
       "      <th></th>\n",
       "      <th>date</th>\n",
       "      <th>Country</th>\n",
       "      <th>deaths</th>\n",
       "      <th>confirmed_cases</th>\n",
       "    </tr>\n",
       "    <tr>\n",
       "      <th>date</th>\n",
       "      <th></th>\n",
       "      <th></th>\n",
       "      <th></th>\n",
       "      <th></th>\n",
       "    </tr>\n",
       "  </thead>\n",
       "  <tbody>\n",
       "    <tr>\n",
       "      <th>2020-01-22</th>\n",
       "      <td>2020-01-22</td>\n",
       "      <td>Portugal</td>\n",
       "      <td>0.0</td>\n",
       "      <td>0.0</td>\n",
       "    </tr>\n",
       "    <tr>\n",
       "      <th>2020-01-23</th>\n",
       "      <td>2020-01-23</td>\n",
       "      <td>Portugal</td>\n",
       "      <td>0.0</td>\n",
       "      <td>0.0</td>\n",
       "    </tr>\n",
       "    <tr>\n",
       "      <th>2020-01-24</th>\n",
       "      <td>2020-01-24</td>\n",
       "      <td>Portugal</td>\n",
       "      <td>0.0</td>\n",
       "      <td>0.0</td>\n",
       "    </tr>\n",
       "    <tr>\n",
       "      <th>2020-01-25</th>\n",
       "      <td>2020-01-25</td>\n",
       "      <td>Portugal</td>\n",
       "      <td>0.0</td>\n",
       "      <td>0.0</td>\n",
       "    </tr>\n",
       "    <tr>\n",
       "      <th>2020-01-26</th>\n",
       "      <td>2020-01-26</td>\n",
       "      <td>Portugal</td>\n",
       "      <td>0.0</td>\n",
       "      <td>0.0</td>\n",
       "    </tr>\n",
       "    <tr>\n",
       "      <th>...</th>\n",
       "      <td>...</td>\n",
       "      <td>...</td>\n",
       "      <td>...</td>\n",
       "      <td>...</td>\n",
       "    </tr>\n",
       "    <tr>\n",
       "      <th>2020-11-12</th>\n",
       "      <td>2020-11-12</td>\n",
       "      <td>Portugal</td>\n",
       "      <td>78.0</td>\n",
       "      <td>5839.0</td>\n",
       "    </tr>\n",
       "    <tr>\n",
       "      <th>2020-11-13</th>\n",
       "      <td>2020-11-13</td>\n",
       "      <td>Portugal</td>\n",
       "      <td>69.0</td>\n",
       "      <td>6653.0</td>\n",
       "    </tr>\n",
       "    <tr>\n",
       "      <th>2020-11-14</th>\n",
       "      <td>2020-11-14</td>\n",
       "      <td>Portugal</td>\n",
       "      <td>55.0</td>\n",
       "      <td>6602.0</td>\n",
       "    </tr>\n",
       "    <tr>\n",
       "      <th>2020-11-15</th>\n",
       "      <td>2020-11-15</td>\n",
       "      <td>Portugal</td>\n",
       "      <td>76.0</td>\n",
       "      <td>6035.0</td>\n",
       "    </tr>\n",
       "    <tr>\n",
       "      <th>2020-11-16</th>\n",
       "      <td>2020-11-16</td>\n",
       "      <td>Portugal</td>\n",
       "      <td>91.0</td>\n",
       "      <td>8371.0</td>\n",
       "    </tr>\n",
       "  </tbody>\n",
       "</table>\n",
       "<p>300 rows × 4 columns</p>\n",
       "</div>"
      ],
      "text/plain": [
       "                  date   Country  deaths  confirmed_cases\n",
       "date                                                     \n",
       "2020-01-22  2020-01-22  Portugal     0.0              0.0\n",
       "2020-01-23  2020-01-23  Portugal     0.0              0.0\n",
       "2020-01-24  2020-01-24  Portugal     0.0              0.0\n",
       "2020-01-25  2020-01-25  Portugal     0.0              0.0\n",
       "2020-01-26  2020-01-26  Portugal     0.0              0.0\n",
       "...                ...       ...     ...              ...\n",
       "2020-11-12  2020-11-12  Portugal    78.0           5839.0\n",
       "2020-11-13  2020-11-13  Portugal    69.0           6653.0\n",
       "2020-11-14  2020-11-14  Portugal    55.0           6602.0\n",
       "2020-11-15  2020-11-15  Portugal    76.0           6035.0\n",
       "2020-11-16  2020-11-16  Portugal    91.0           8371.0\n",
       "\n",
       "[300 rows x 4 columns]"
      ]
     },
     "execution_count": 150,
     "metadata": {},
     "output_type": "execute_result"
    }
   ],
   "source": [
    "selected_country"
   ]
  },
  {
   "cell_type": "code",
   "execution_count": 151,
   "metadata": {},
   "outputs": [],
   "source": [
    "selected_country = selected_country.resample(\"7D\").agg([np.mean,np.sum,np.std])"
   ]
  },
  {
   "cell_type": "code",
   "execution_count": 152,
   "metadata": {},
   "outputs": [],
   "source": [
    "x = selected_country.index\n",
    "y = selected_country[\"confirmed_cases\"][\"mean\"]"
   ]
  },
  {
   "cell_type": "code",
   "execution_count": 153,
   "metadata": {},
   "outputs": [
    {
     "data": {
      "text/html": [
       "\n",
       "\n",
       "\n",
       "\n",
       "\n",
       "\n",
       "  <div class=\"bk-root\" id=\"d1928378-9282-4293-9d20-7bc470a9d12f\" data-root-id=\"26166\"></div>\n"
      ]
     },
     "metadata": {},
     "output_type": "display_data"
    },
    {
     "data": {
      "application/javascript": [
       "(function(root) {\n",
       "  function embed_document(root) {\n",
       "    \n",
       "  var docs_json = {\"7919dc7a-4ef6-4521-8e62-2c6830e60ea5\":{\"roots\":{\"references\":[{\"attributes\":{\"below\":[{\"id\":\"26177\"}],\"center\":[{\"id\":\"26180\"},{\"id\":\"26184\"},{\"id\":\"26222\"}],\"left\":[{\"id\":\"26181\"}],\"plot_height\":500,\"renderers\":[{\"id\":\"26200\"}],\"title\":{\"id\":\"26167\"},\"toolbar\":{\"id\":\"26191\"},\"x_range\":{\"id\":\"26169\"},\"x_scale\":{\"id\":\"26173\"},\"y_range\":{\"id\":\"26171\"},\"y_scale\":{\"id\":\"26175\"}},\"id\":\"26166\",\"subtype\":\"Figure\",\"type\":\"Plot\"},{\"attributes\":{},\"id\":\"26182\",\"type\":\"BasicTicker\"},{\"attributes\":{},\"id\":\"26221\",\"type\":\"UnionRenderers\"},{\"attributes\":{},\"id\":\"26169\",\"type\":\"DataRange1d\"},{\"attributes\":{\"axis\":{\"id\":\"26181\"},\"dimension\":1,\"ticker\":null},\"id\":\"26184\",\"type\":\"Grid\"},{\"attributes\":{},\"id\":\"26205\",\"type\":\"DatetimeTickFormatter\"},{\"attributes\":{\"base\":60,\"mantissas\":[1,2,5,10,15,20,30],\"max_interval\":1800000.0,\"min_interval\":1000.0,\"num_minor_ticks\":0},\"id\":\"26209\",\"type\":\"AdaptiveTicker\"},{\"attributes\":{\"days\":[1,15]},\"id\":\"26214\",\"type\":\"DaysTicker\"},{\"attributes\":{\"days\":[1,2,3,4,5,6,7,8,9,10,11,12,13,14,15,16,17,18,19,20,21,22,23,24,25,26,27,28,29,30,31]},\"id\":\"26211\",\"type\":\"DaysTicker\"},{\"attributes\":{\"line_color\":\"orange\",\"x\":{\"field\":\"x\"},\"y\":{\"field\":\"y\"}},\"id\":\"26198\",\"type\":\"Line\"},{\"attributes\":{\"days\":[1,8,15,22]},\"id\":\"26213\",\"type\":\"DaysTicker\"},{\"attributes\":{\"months\":[0,1,2,3,4,5,6,7,8,9,10,11]},\"id\":\"26215\",\"type\":\"MonthsTicker\"},{\"attributes\":{\"callback\":null,\"tooltips\":\"value: @y\"},\"id\":\"26185\",\"type\":\"HoverTool\"},{\"attributes\":{\"data_source\":{\"id\":\"26197\"},\"glyph\":{\"id\":\"26198\"},\"hover_glyph\":null,\"muted_glyph\":null,\"nonselection_glyph\":{\"id\":\"26199\"},\"selection_glyph\":null,\"view\":{\"id\":\"26201\"}},\"id\":\"26200\",\"type\":\"GlyphRenderer\"},{\"attributes\":{},\"id\":\"26186\",\"type\":\"PanTool\"},{\"attributes\":{\"items\":[{\"id\":\"26223\"}]},\"id\":\"26222\",\"type\":\"Legend\"},{\"attributes\":{\"data\":{\"x\":{\"__ndarray__\":\"AABAx6j8dkIAAICP6f52QgAAwFcqAXdCAAAAIGsDd0IAAEDoqwV3QgAAgLDsB3dCAADAeC0Kd0IAAABBbgx3QgAAQAmvDndCAACA0e8Qd0IAAMCZMBN3QgAAAGJxFXdCAABAKrIXd0IAAIDy8hl3QgAAwLozHHdCAAAAg3Qed0IAAEBLtSB3QgAAgBP2IndCAADA2zYld0IAAACkdyd3QgAAQGy4KXdCAACANPkrd0IAAMD8OS53QgAAAMV6MHdCAABAjbsyd0IAAIBV/DR3QgAAwB09N3dCAAAA5n05d0IAAECuvjt3QgAAgHb/PXdCAADAPkBAd0IAAAAHgUJ3QgAAQM/BRHdCAACAlwJHd0IAAMBfQ0l3QgAAACiES3dCAABA8MRNd0IAAIC4BVB3QgAAwIBGUndCAAAASYdUd0IAAEARyFZ3QgAAgNkIWXdCAADAoUlbd0I=\",\"dtype\":\"float64\",\"order\":\"little\",\"shape\":[43]},\"y\":{\"__ndarray__\":\"AAAAAAAAAAAAAAAAAAAAAAAAAAAAAAAAAAAAAAAAAAAAAAAAAAAAAJIkSZIkSdI/kiRJkiRJFkAlSZIkSRJNQG7btm3bFnFAbtu2bduuhkCSJEmSJFGGQJIkSZIkWYZASZIkSZKMgUBu27Zt20Z6QEmSJEmSpGhA27Zt27a9c0AAAAAAACBrQAAAAAAAIGxAt23btm3bcEBu27Zt24Z1QAAAAAAAIHJAAAAAAABwdUBu27Zt23Z1QAAAAAAAUHRAbtu2bduGd0Dbtm3btn1wQAAAAAAAAGtAJUmSJEmyZkAlSZIkSZJmQG7btm3b1mpASZIkSZIkakAAAAAAANB0QNu2bdu2rXdAt23btm1rgkCSJEmSJLmEQAAAAAAAkIZAJUmSJEn6iEDbtm3btqmTQNu2bdu2T6BAkiRJkiQZp0AAAAAAAOqrQJIkSZIkF7VAVVVVVdUFuUA=\",\"dtype\":\"float64\",\"order\":\"little\",\"shape\":[43]}},\"selected\":{\"id\":\"26220\"},\"selection_policy\":{\"id\":\"26221\"}},\"id\":\"26197\",\"type\":\"ColumnDataSource\"},{\"attributes\":{},\"id\":\"26187\",\"type\":\"WheelZoomTool\"},{\"attributes\":{\"months\":[0,4,8]},\"id\":\"26217\",\"type\":\"MonthsTicker\"},{\"attributes\":{\"source\":{\"id\":\"26197\"}},\"id\":\"26201\",\"type\":\"CDSView\"},{\"attributes\":{\"overlay\":{\"id\":\"26190\"}},\"id\":\"26188\",\"type\":\"BoxZoomTool\"},{\"attributes\":{\"label\":{\"value\":\"Mean confirmed by week\"},\"renderers\":[{\"id\":\"26200\"}]},\"id\":\"26223\",\"type\":\"LegendItem\"},{\"attributes\":{},\"id\":\"26189\",\"type\":\"ResetTool\"},{\"attributes\":{\"text\":\"Portugal cases evolution\"},\"id\":\"26167\",\"type\":\"Title\"},{\"attributes\":{\"formatter\":{\"id\":\"26203\"},\"ticker\":{\"id\":\"26182\"}},\"id\":\"26181\",\"type\":\"LinearAxis\"},{\"attributes\":{\"days\":[1,4,7,10,13,16,19,22,25,28]},\"id\":\"26212\",\"type\":\"DaysTicker\"},{\"attributes\":{\"months\":[0,2,4,6,8,10]},\"id\":\"26216\",\"type\":\"MonthsTicker\"},{\"attributes\":{\"months\":[0,6]},\"id\":\"26218\",\"type\":\"MonthsTicker\"},{\"attributes\":{},\"id\":\"26203\",\"type\":\"BasicTickFormatter\"},{\"attributes\":{\"mantissas\":[1,2,5],\"max_interval\":500.0,\"num_minor_ticks\":0},\"id\":\"26208\",\"type\":\"AdaptiveTicker\"},{\"attributes\":{},\"id\":\"26171\",\"type\":\"DataRange1d\"},{\"attributes\":{\"bottom_units\":\"screen\",\"fill_alpha\":0.5,\"fill_color\":\"lightgrey\",\"left_units\":\"screen\",\"level\":\"overlay\",\"line_alpha\":1.0,\"line_color\":\"black\",\"line_dash\":[4,4],\"line_width\":2,\"right_units\":\"screen\",\"top_units\":\"screen\"},\"id\":\"26190\",\"type\":\"BoxAnnotation\"},{\"attributes\":{},\"id\":\"26173\",\"type\":\"LinearScale\"},{\"attributes\":{\"line_alpha\":0.1,\"line_color\":\"orange\",\"x\":{\"field\":\"x\"},\"y\":{\"field\":\"y\"}},\"id\":\"26199\",\"type\":\"Line\"},{\"attributes\":{},\"id\":\"26175\",\"type\":\"LinearScale\"},{\"attributes\":{\"active_drag\":\"auto\",\"active_inspect\":\"auto\",\"active_multi\":null,\"active_scroll\":\"auto\",\"active_tap\":\"auto\",\"tools\":[{\"id\":\"26185\"},{\"id\":\"26186\"},{\"id\":\"26187\"},{\"id\":\"26188\"},{\"id\":\"26189\"}]},\"id\":\"26191\",\"type\":\"Toolbar\"},{\"attributes\":{},\"id\":\"26219\",\"type\":\"YearsTicker\"},{\"attributes\":{\"formatter\":{\"id\":\"26205\"},\"ticker\":{\"id\":\"26178\"}},\"id\":\"26177\",\"type\":\"DatetimeAxis\"},{\"attributes\":{\"base\":24,\"mantissas\":[1,2,4,6,8,12],\"max_interval\":43200000.0,\"min_interval\":3600000.0,\"num_minor_ticks\":0},\"id\":\"26210\",\"type\":\"AdaptiveTicker\"},{\"attributes\":{},\"id\":\"26220\",\"type\":\"Selection\"},{\"attributes\":{\"num_minor_ticks\":5,\"tickers\":[{\"id\":\"26208\"},{\"id\":\"26209\"},{\"id\":\"26210\"},{\"id\":\"26211\"},{\"id\":\"26212\"},{\"id\":\"26213\"},{\"id\":\"26214\"},{\"id\":\"26215\"},{\"id\":\"26216\"},{\"id\":\"26217\"},{\"id\":\"26218\"},{\"id\":\"26219\"}]},\"id\":\"26178\",\"type\":\"DatetimeTicker\"},{\"attributes\":{\"axis\":{\"id\":\"26177\"},\"ticker\":null},\"id\":\"26180\",\"type\":\"Grid\"}],\"root_ids\":[\"26166\"]},\"title\":\"Bokeh Application\",\"version\":\"2.2.3\"}};\n",
       "  var render_items = [{\"docid\":\"7919dc7a-4ef6-4521-8e62-2c6830e60ea5\",\"root_ids\":[\"26166\"],\"roots\":{\"26166\":\"d1928378-9282-4293-9d20-7bc470a9d12f\"}}];\n",
       "  root.Bokeh.embed.embed_items_notebook(docs_json, render_items);\n",
       "\n",
       "  }\n",
       "  if (root.Bokeh !== undefined) {\n",
       "    embed_document(root);\n",
       "  } else {\n",
       "    var attempts = 0;\n",
       "    var timer = setInterval(function(root) {\n",
       "      if (root.Bokeh !== undefined) {\n",
       "        clearInterval(timer);\n",
       "        embed_document(root);\n",
       "      } else {\n",
       "        attempts++;\n",
       "        if (attempts > 100) {\n",
       "          clearInterval(timer);\n",
       "          console.log(\"Bokeh: ERROR: Unable to run BokehJS code because BokehJS library is missing\");\n",
       "        }\n",
       "      }\n",
       "    }, 10, root)\n",
       "  }\n",
       "})(window);"
      ],
      "application/vnd.bokehjs_exec.v0+json": ""
     },
     "metadata": {
      "application/vnd.bokehjs_exec.v0+json": {
       "id": "26166"
      }
     },
     "output_type": "display_data"
    }
   ],
   "source": [
    "fig = figure(width= 600,height=500,tools=\"hover,pan,wheel_zoom,box_zoom,reset\",title=\"{} cases evolution\".format(country),x_axis_type=\"datetime\",tooltips=\"value: @y\")\n",
    "fig.line(x = x,y = y,legend_label=\"Mean confirmed by week\",color=\"orange\")\n",
    "show(fig)"
   ]
  },
  {
   "cell_type": "code",
   "execution_count": 154,
   "metadata": {},
   "outputs": [],
   "source": [
    "conf_cases = selected_country[\"confirmed_cases\"]\n",
    "upper = conf_cases[\"mean\"] + conf_cases[\"std\"]\n",
    "lower = conf_cases[\"mean\"] - conf_cases[\"std\"]"
   ]
  },
  {
   "cell_type": "code",
   "execution_count": 155,
   "metadata": {},
   "outputs": [],
   "source": [
    "source = { \"x\": x, \"upper\" :upper,\"lower\":lower}"
   ]
  },
  {
   "cell_type": "code",
   "execution_count": 156,
   "metadata": {},
   "outputs": [],
   "source": [
    "from bokeh.models import Band, ColumnDataSource"
   ]
  },
  {
   "cell_type": "code",
   "execution_count": 157,
   "metadata": {},
   "outputs": [
    {
     "data": {
      "text/html": [
       "\n",
       "\n",
       "\n",
       "\n",
       "\n",
       "\n",
       "  <div class=\"bk-root\" id=\"b98987b5-eba1-410e-9572-b4b646c7b2c2\" data-root-id=\"26166\"></div>\n"
      ]
     },
     "metadata": {},
     "output_type": "display_data"
    },
    {
     "data": {
      "application/javascript": [
       "(function(root) {\n",
       "  function embed_document(root) {\n",
       "    \n",
       "  var docs_json = {\"ad6b1d9e-9743-4263-a1cc-8992b9dec6f1\":{\"roots\":{\"references\":[{\"attributes\":{\"below\":[{\"id\":\"26177\"}],\"center\":[{\"id\":\"26180\"},{\"id\":\"26184\"},{\"id\":\"26222\"},{\"id\":\"26883\"}],\"left\":[{\"id\":\"26181\"}],\"plot_height\":500,\"renderers\":[{\"id\":\"26200\"}],\"title\":{\"id\":\"26167\"},\"toolbar\":{\"id\":\"26191\"},\"x_range\":{\"id\":\"26169\"},\"x_scale\":{\"id\":\"26173\"},\"y_range\":{\"id\":\"26171\"},\"y_scale\":{\"id\":\"26175\"}},\"id\":\"26166\",\"subtype\":\"Figure\",\"type\":\"Plot\"},{\"attributes\":{},\"id\":\"26182\",\"type\":\"BasicTicker\"},{\"attributes\":{},\"id\":\"26221\",\"type\":\"UnionRenderers\"},{\"attributes\":{},\"id\":\"26169\",\"type\":\"DataRange1d\"},{\"attributes\":{\"axis\":{\"id\":\"26181\"},\"dimension\":1,\"ticker\":null},\"id\":\"26184\",\"type\":\"Grid\"},{\"attributes\":{},\"id\":\"26205\",\"type\":\"DatetimeTickFormatter\"},{\"attributes\":{\"base\":60,\"mantissas\":[1,2,5,10,15,20,30],\"max_interval\":1800000.0,\"min_interval\":1000.0,\"num_minor_ticks\":0},\"id\":\"26209\",\"type\":\"AdaptiveTicker\"},{\"attributes\":{\"days\":[1,15]},\"id\":\"26214\",\"type\":\"DaysTicker\"},{\"attributes\":{\"days\":[1,2,3,4,5,6,7,8,9,10,11,12,13,14,15,16,17,18,19,20,21,22,23,24,25,26,27,28,29,30,31]},\"id\":\"26211\",\"type\":\"DaysTicker\"},{\"attributes\":{\"line_color\":\"orange\",\"x\":{\"field\":\"x\"},\"y\":{\"field\":\"y\"}},\"id\":\"26198\",\"type\":\"Line\"},{\"attributes\":{\"days\":[1,8,15,22]},\"id\":\"26213\",\"type\":\"DaysTicker\"},{\"attributes\":{\"months\":[0,1,2,3,4,5,6,7,8,9,10,11]},\"id\":\"26215\",\"type\":\"MonthsTicker\"},{\"attributes\":{\"callback\":null,\"tooltips\":\"value: @y\"},\"id\":\"26185\",\"type\":\"HoverTool\"},{\"attributes\":{\"data_source\":{\"id\":\"26197\"},\"glyph\":{\"id\":\"26198\"},\"hover_glyph\":null,\"muted_glyph\":null,\"nonselection_glyph\":{\"id\":\"26199\"},\"selection_glyph\":null,\"view\":{\"id\":\"26201\"}},\"id\":\"26200\",\"type\":\"GlyphRenderer\"},{\"attributes\":{},\"id\":\"26186\",\"type\":\"PanTool\"},{\"attributes\":{\"items\":[{\"id\":\"26223\"}]},\"id\":\"26222\",\"type\":\"Legend\"},{\"attributes\":{\"data\":{\"x\":{\"__ndarray__\":\"AABAx6j8dkIAAICP6f52QgAAwFcqAXdCAAAAIGsDd0IAAEDoqwV3QgAAgLDsB3dCAADAeC0Kd0IAAABBbgx3QgAAQAmvDndCAACA0e8Qd0IAAMCZMBN3QgAAAGJxFXdCAABAKrIXd0IAAIDy8hl3QgAAwLozHHdCAAAAg3Qed0IAAEBLtSB3QgAAgBP2IndCAADA2zYld0IAAACkdyd3QgAAQGy4KXdCAACANPkrd0IAAMD8OS53QgAAAMV6MHdCAABAjbsyd0IAAIBV/DR3QgAAwB09N3dCAAAA5n05d0IAAECuvjt3QgAAgHb/PXdCAADAPkBAd0IAAAAHgUJ3QgAAQM/BRHdCAACAlwJHd0IAAMBfQ0l3QgAAACiES3dCAABA8MRNd0IAAIC4BVB3QgAAwIBGUndCAAAASYdUd0IAAEARyFZ3QgAAgNkIWXdCAADAoUlbd0I=\",\"dtype\":\"float64\",\"order\":\"little\",\"shape\":[43]},\"y\":{\"__ndarray__\":\"AAAAAAAAAAAAAAAAAAAAAAAAAAAAAAAAAAAAAAAAAAAAAAAAAAAAAJIkSZIkSdI/kiRJkiRJFkAlSZIkSRJNQG7btm3bFnFAbtu2bduuhkCSJEmSJFGGQJIkSZIkWYZASZIkSZKMgUBu27Zt20Z6QEmSJEmSpGhA27Zt27a9c0AAAAAAACBrQAAAAAAAIGxAt23btm3bcEBu27Zt24Z1QAAAAAAAIHJAAAAAAABwdUBu27Zt23Z1QAAAAAAAUHRAbtu2bduGd0Dbtm3btn1wQAAAAAAAAGtAJUmSJEmyZkAlSZIkSZJmQG7btm3b1mpASZIkSZIkakAAAAAAANB0QNu2bdu2rXdAt23btm1rgkCSJEmSJLmEQAAAAAAAkIZAJUmSJEn6iEDbtm3btqmTQNu2bdu2T6BAkiRJkiQZp0AAAAAAAOqrQJIkSZIkF7VAVVVVVdUFuUA=\",\"dtype\":\"float64\",\"order\":\"little\",\"shape\":[43]}},\"selected\":{\"id\":\"26220\"},\"selection_policy\":{\"id\":\"26221\"}},\"id\":\"26197\",\"type\":\"ColumnDataSource\"},{\"attributes\":{},\"id\":\"26187\",\"type\":\"WheelZoomTool\"},{\"attributes\":{\"data\":{\"lower\":{\"__ndarray__\":\"AAAAAAAAAAAAAAAAAAAAAAAAAAAAAAAAAAAAAAAAAAAAAAAAAAAAADzLBjv/F96/Kknfdfg8+T+gA+aU2i8yQOg//Ok9oWBA97da5X5QgEBxFJ4WiByCQKPpNCcXw3RAVLrMHjFnd0Br0MYzsFhwQNDhUQPK/y7AiuT2AN1iXUDYR0Nm/GtnQFMG8eCCtmVA7IzwjYCkakDaCqxmV/JwQObdypxsqm9A2quwQjcTckDpo4AyQgRwQG/u2zUMq3BAp7HLsF7rcEBq/4T5yqZkQG05DEdXDmJAXGwkLsqiXkAWZ8m9xLxeQBZ2f0hSpGFAolrNSyKmYkBDNS5ftGRwQOb5XPx+6XJAXDCIMQzPfkCHUb/j6VuAQN3ImYSnf4FAwKCWUqNig0AK+1C3BC2QQLCECW6Hn5xACjxreWVzo0DKvcZ/DU+lQA4A/Iykdq9AGaOC6ViKtEA=\",\"dtype\":\"float64\",\"order\":\"little\",\"shape\":[43]},\"upper\":{\"__ndarray__\":\"AAAAAAAAAAAAAAAAAAAAAAAAAAAAAAAAAAAAAAAAAAAAAAAAAAAAABhF5heSqvA/bTuNg4UhI0A9yFh/UoZYQOiWb+YX3XlA5f4S9jcNjUCzNPQNwYWKQCnqe8heKJFAaMfiAoxlh0A4c9NTgxqCQFghP5mQnHlAStpOO1sRgEAouLyZA9RuQNd8h4++RHFA+JS+JptkdEACrMF0Xxt6QA2RmrHJanRAJlRPvcjMeEDzEu2odOl6QJERJMrz9HdANQWiKlgifkAB7hg6CKh2QErjeVzU+HFAHFwSMi0TbkC/3j/qL8ZtQGMgd0myBHJA+OQ9I4HRcEC9ytGgSzt5QNBzfrrucXxAQMPyVFVvhUCd99JAXxaJQCM3ZntYoItAivGN9u6RjkCscor/aCaXQF6r1v+pT6JAGg0nq+O+qkAboRxAeUKxQB1JFN72crpAkQcowVGBvUA=\",\"dtype\":\"float64\",\"order\":\"little\",\"shape\":[43]},\"x\":{\"__ndarray__\":\"AABAx6j8dkIAAICP6f52QgAAwFcqAXdCAAAAIGsDd0IAAEDoqwV3QgAAgLDsB3dCAADAeC0Kd0IAAABBbgx3QgAAQAmvDndCAACA0e8Qd0IAAMCZMBN3QgAAAGJxFXdCAABAKrIXd0IAAIDy8hl3QgAAwLozHHdCAAAAg3Qed0IAAEBLtSB3QgAAgBP2IndCAADA2zYld0IAAACkdyd3QgAAQGy4KXdCAACANPkrd0IAAMD8OS53QgAAAMV6MHdCAABAjbsyd0IAAIBV/DR3QgAAwB09N3dCAAAA5n05d0IAAECuvjt3QgAAgHb/PXdCAADAPkBAd0IAAAAHgUJ3QgAAQM/BRHdCAACAlwJHd0IAAMBfQ0l3QgAAACiES3dCAABA8MRNd0IAAIC4BVB3QgAAwIBGUndCAAAASYdUd0IAAEARyFZ3QgAAgNkIWXdCAADAoUlbd0I=\",\"dtype\":\"float64\",\"order\":\"little\",\"shape\":[43]}},\"selected\":{\"id\":\"27443\"},\"selection_policy\":{\"id\":\"27444\"}},\"id\":\"26882\",\"type\":\"ColumnDataSource\"},{\"attributes\":{\"months\":[0,4,8]},\"id\":\"26217\",\"type\":\"MonthsTicker\"},{\"attributes\":{\"source\":{\"id\":\"26197\"}},\"id\":\"26201\",\"type\":\"CDSView\"},{\"attributes\":{\"overlay\":{\"id\":\"26190\"}},\"id\":\"26188\",\"type\":\"BoxZoomTool\"},{\"attributes\":{},\"id\":\"27443\",\"type\":\"Selection\"},{\"attributes\":{\"base\":{\"field\":\"x\",\"units\":\"data\"},\"fill_alpha\":0.2,\"fill_color\":\"orange\",\"level\":\"underlay\",\"line_color\":\"orange\",\"lower\":{\"field\":\"lower\",\"units\":\"data\"},\"source\":{\"id\":\"26882\"},\"upper\":{\"field\":\"upper\",\"units\":\"data\"}},\"id\":\"26883\",\"type\":\"Band\"},{\"attributes\":{\"label\":{\"value\":\"Mean confirmed by week\"},\"renderers\":[{\"id\":\"26200\"}]},\"id\":\"26223\",\"type\":\"LegendItem\"},{\"attributes\":{},\"id\":\"26189\",\"type\":\"ResetTool\"},{\"attributes\":{\"text\":\"Portugal cases evolution\"},\"id\":\"26167\",\"type\":\"Title\"},{\"attributes\":{\"formatter\":{\"id\":\"26203\"},\"ticker\":{\"id\":\"26182\"}},\"id\":\"26181\",\"type\":\"LinearAxis\"},{\"attributes\":{\"days\":[1,4,7,10,13,16,19,22,25,28]},\"id\":\"26212\",\"type\":\"DaysTicker\"},{\"attributes\":{\"months\":[0,2,4,6,8,10]},\"id\":\"26216\",\"type\":\"MonthsTicker\"},{\"attributes\":{\"months\":[0,6]},\"id\":\"26218\",\"type\":\"MonthsTicker\"},{\"attributes\":{},\"id\":\"26203\",\"type\":\"BasicTickFormatter\"},{\"attributes\":{\"mantissas\":[1,2,5],\"max_interval\":500.0,\"num_minor_ticks\":0},\"id\":\"26208\",\"type\":\"AdaptiveTicker\"},{\"attributes\":{},\"id\":\"26171\",\"type\":\"DataRange1d\"},{\"attributes\":{\"bottom_units\":\"screen\",\"fill_alpha\":0.5,\"fill_color\":\"lightgrey\",\"left_units\":\"screen\",\"level\":\"overlay\",\"line_alpha\":1.0,\"line_color\":\"black\",\"line_dash\":[4,4],\"line_width\":2,\"right_units\":\"screen\",\"top_units\":\"screen\"},\"id\":\"26190\",\"type\":\"BoxAnnotation\"},{\"attributes\":{},\"id\":\"26173\",\"type\":\"LinearScale\"},{\"attributes\":{\"line_alpha\":0.1,\"line_color\":\"orange\",\"x\":{\"field\":\"x\"},\"y\":{\"field\":\"y\"}},\"id\":\"26199\",\"type\":\"Line\"},{\"attributes\":{},\"id\":\"26175\",\"type\":\"LinearScale\"},{\"attributes\":{\"active_drag\":\"auto\",\"active_inspect\":\"auto\",\"active_multi\":null,\"active_scroll\":\"auto\",\"active_tap\":\"auto\",\"tools\":[{\"id\":\"26185\"},{\"id\":\"26186\"},{\"id\":\"26187\"},{\"id\":\"26188\"},{\"id\":\"26189\"}]},\"id\":\"26191\",\"type\":\"Toolbar\"},{\"attributes\":{},\"id\":\"26219\",\"type\":\"YearsTicker\"},{\"attributes\":{\"formatter\":{\"id\":\"26205\"},\"ticker\":{\"id\":\"26178\"}},\"id\":\"26177\",\"type\":\"DatetimeAxis\"},{\"attributes\":{\"base\":24,\"mantissas\":[1,2,4,6,8,12],\"max_interval\":43200000.0,\"min_interval\":3600000.0,\"num_minor_ticks\":0},\"id\":\"26210\",\"type\":\"AdaptiveTicker\"},{\"attributes\":{},\"id\":\"26220\",\"type\":\"Selection\"},{\"attributes\":{},\"id\":\"27444\",\"type\":\"UnionRenderers\"},{\"attributes\":{\"num_minor_ticks\":5,\"tickers\":[{\"id\":\"26208\"},{\"id\":\"26209\"},{\"id\":\"26210\"},{\"id\":\"26211\"},{\"id\":\"26212\"},{\"id\":\"26213\"},{\"id\":\"26214\"},{\"id\":\"26215\"},{\"id\":\"26216\"},{\"id\":\"26217\"},{\"id\":\"26218\"},{\"id\":\"26219\"}]},\"id\":\"26178\",\"type\":\"DatetimeTicker\"},{\"attributes\":{\"axis\":{\"id\":\"26177\"},\"ticker\":null},\"id\":\"26180\",\"type\":\"Grid\"}],\"root_ids\":[\"26166\"]},\"title\":\"Bokeh Application\",\"version\":\"2.2.3\"}};\n",
       "  var render_items = [{\"docid\":\"ad6b1d9e-9743-4263-a1cc-8992b9dec6f1\",\"root_ids\":[\"26166\"],\"roots\":{\"26166\":\"b98987b5-eba1-410e-9572-b4b646c7b2c2\"}}];\n",
       "  root.Bokeh.embed.embed_items_notebook(docs_json, render_items);\n",
       "\n",
       "  }\n",
       "  if (root.Bokeh !== undefined) {\n",
       "    embed_document(root);\n",
       "  } else {\n",
       "    var attempts = 0;\n",
       "    var timer = setInterval(function(root) {\n",
       "      if (root.Bokeh !== undefined) {\n",
       "        clearInterval(timer);\n",
       "        embed_document(root);\n",
       "      } else {\n",
       "        attempts++;\n",
       "        if (attempts > 100) {\n",
       "          clearInterval(timer);\n",
       "          console.log(\"Bokeh: ERROR: Unable to run BokehJS code because BokehJS library is missing\");\n",
       "        }\n",
       "      }\n",
       "    }, 10, root)\n",
       "  }\n",
       "})(window);"
      ],
      "application/vnd.bokehjs_exec.v0+json": ""
     },
     "metadata": {
      "application/vnd.bokehjs_exec.v0+json": {
       "id": "26166"
      }
     },
     "output_type": "display_data"
    }
   ],
   "source": [
    "band = Band(base=\"x\", lower=\"lower\", upper=\"upper\", source=ColumnDataSource(data=source), level='underlay',\n",
    "            fill_alpha=0.2, line_width=1, line_color='orange',fill_color=\"orange\")\n",
    "\n",
    "fig.add_layout(band) #we need to add this one explicitly..\n",
    "show(fig)"
   ]
  },
  {
   "cell_type": "code",
   "execution_count": 158,
   "metadata": {},
   "outputs": [
    {
     "data": {
      "text/html": [
       "<div style=\"display: table;\"><div style=\"display: table-row;\"><div style=\"display: table-cell;\"><b title=\"bokeh.models.renderers.GlyphRenderer\">GlyphRenderer</b>(</div><div style=\"display: table-cell;\">id&nbsp;=&nbsp;'27559', <span id=\"28711\" style=\"cursor: pointer;\">&hellip;)</span></div></div><div class=\"28710\" style=\"display: none;\"><div style=\"display: table-cell;\"></div><div style=\"display: table-cell;\">data_source&nbsp;=&nbsp;ColumnDataSource(id='27555', ...),</div></div><div class=\"28710\" style=\"display: none;\"><div style=\"display: table-cell;\"></div><div style=\"display: table-cell;\">glyph&nbsp;=&nbsp;VArea(id='27557', ...),</div></div><div class=\"28710\" style=\"display: none;\"><div style=\"display: table-cell;\"></div><div style=\"display: table-cell;\">hover_glyph&nbsp;=&nbsp;None,</div></div><div class=\"28710\" style=\"display: none;\"><div style=\"display: table-cell;\"></div><div style=\"display: table-cell;\">js_event_callbacks&nbsp;=&nbsp;{},</div></div><div class=\"28710\" style=\"display: none;\"><div style=\"display: table-cell;\"></div><div style=\"display: table-cell;\">js_property_callbacks&nbsp;=&nbsp;{},</div></div><div class=\"28710\" style=\"display: none;\"><div style=\"display: table-cell;\"></div><div style=\"display: table-cell;\">level&nbsp;=&nbsp;'glyph',</div></div><div class=\"28710\" style=\"display: none;\"><div style=\"display: table-cell;\"></div><div style=\"display: table-cell;\">muted&nbsp;=&nbsp;False,</div></div><div class=\"28710\" style=\"display: none;\"><div style=\"display: table-cell;\"></div><div style=\"display: table-cell;\">muted_glyph&nbsp;=&nbsp;None,</div></div><div class=\"28710\" style=\"display: none;\"><div style=\"display: table-cell;\"></div><div style=\"display: table-cell;\">name&nbsp;=&nbsp;None,</div></div><div class=\"28710\" style=\"display: none;\"><div style=\"display: table-cell;\"></div><div style=\"display: table-cell;\">nonselection_glyph&nbsp;=&nbsp;VArea(id='27558', ...),</div></div><div class=\"28710\" style=\"display: none;\"><div style=\"display: table-cell;\"></div><div style=\"display: table-cell;\">selection_glyph&nbsp;=&nbsp;None,</div></div><div class=\"28710\" style=\"display: none;\"><div style=\"display: table-cell;\"></div><div style=\"display: table-cell;\">subscribed_events&nbsp;=&nbsp;[],</div></div><div class=\"28710\" style=\"display: none;\"><div style=\"display: table-cell;\"></div><div style=\"display: table-cell;\">tags&nbsp;=&nbsp;[],</div></div><div class=\"28710\" style=\"display: none;\"><div style=\"display: table-cell;\"></div><div style=\"display: table-cell;\">view&nbsp;=&nbsp;CDSView(id='27560', ...),</div></div><div class=\"28710\" style=\"display: none;\"><div style=\"display: table-cell;\"></div><div style=\"display: table-cell;\">visible&nbsp;=&nbsp;True,</div></div><div class=\"28710\" style=\"display: none;\"><div style=\"display: table-cell;\"></div><div style=\"display: table-cell;\">x_range_name&nbsp;=&nbsp;'default',</div></div><div class=\"28710\" style=\"display: none;\"><div style=\"display: table-cell;\"></div><div style=\"display: table-cell;\">y_range_name&nbsp;=&nbsp;'default')</div></div></div>\n",
       "<script>\n",
       "(function() {\n",
       "  var expanded = false;\n",
       "  var ellipsis = document.getElementById(\"28711\");\n",
       "  ellipsis.addEventListener(\"click\", function() {\n",
       "    var rows = document.getElementsByClassName(\"28710\");\n",
       "    for (var i = 0; i < rows.length; i++) {\n",
       "      var el = rows[i];\n",
       "      el.style.display = expanded ? \"none\" : \"table-row\";\n",
       "    }\n",
       "    ellipsis.innerHTML = expanded ? \"&hellip;)\" : \"&lsaquo;&lsaquo;&lsaquo;\";\n",
       "    expanded = !expanded;\n",
       "  });\n",
       "})();\n",
       "</script>\n"
      ],
      "text/plain": [
       "GlyphRenderer(id='27559', ...)"
      ]
     },
     "execution_count": 158,
     "metadata": {},
     "output_type": "execute_result"
    }
   ],
   "source": [
    "fig.varea(x=\"x\",y1= \"upper\", y2= \"lower\",legend_label=\"std\",color=\"orange\",fill_alpha=0.2,source=source) #This also works, but then I wouldnt be able to make a pun with bands."
   ]
  },
  {
   "cell_type": "markdown",
   "metadata": {},
   "source": [
    "### Lets do the same, but now, lets separate the data per season."
   ]
  },
  {
   "cell_type": "code",
   "execution_count": 159,
   "metadata": {},
   "outputs": [],
   "source": [
    "winter = pd.date_range(start='21/12/2019', end='20/03/2020')\n",
    "spring =pd.date_range(start='20/03/2020', end='20/06/2020')\n",
    "summer =pd.date_range(start='20/06/2020', end='22/10/2020')\n",
    "autumn = pd.date_range(start='22/10/2020', end='21/12/2020')\n"
   ]
  },
  {
   "cell_type": "code",
   "execution_count": 160,
   "metadata": {},
   "outputs": [],
   "source": [
    "country = \"Portugal\"\n",
    "mask = df[\"Country\"] ==country\n",
    "selected_country = df[mask]\n"
   ]
  },
  {
   "cell_type": "code",
   "execution_count": 161,
   "metadata": {},
   "outputs": [],
   "source": [
    "selected_country = selected_country.resample(\"7D\").agg([np.mean,np.sum,np.std])"
   ]
  },
  {
   "cell_type": "code",
   "execution_count": 162,
   "metadata": {},
   "outputs": [],
   "source": [
    "fig = figure(width= 600,height=500,tools=\"hover,pan,wheel_zoom,box_zoom,reset\",title=\"{} cases evolution\".format(country),x_axis_type=\"datetime\",tooltips=\"value: @y\")\n"
   ]
  },
  {
   "cell_type": "code",
   "execution_count": 163,
   "metadata": {},
   "outputs": [
    {
     "data": {
      "text/html": [
       "<div style=\"display: table;\"><div style=\"display: table-row;\"><div style=\"display: table-cell;\"><b title=\"bokeh.models.renderers.GlyphRenderer\">GlyphRenderer</b>(</div><div style=\"display: table-cell;\">id&nbsp;=&nbsp;'28752', <span id=\"28779\" style=\"cursor: pointer;\">&hellip;)</span></div></div><div class=\"28778\" style=\"display: none;\"><div style=\"display: table-cell;\"></div><div style=\"display: table-cell;\">data_source&nbsp;=&nbsp;ColumnDataSource(id='28749', ...),</div></div><div class=\"28778\" style=\"display: none;\"><div style=\"display: table-cell;\"></div><div style=\"display: table-cell;\">glyph&nbsp;=&nbsp;Line(id='28750', ...),</div></div><div class=\"28778\" style=\"display: none;\"><div style=\"display: table-cell;\"></div><div style=\"display: table-cell;\">hover_glyph&nbsp;=&nbsp;None,</div></div><div class=\"28778\" style=\"display: none;\"><div style=\"display: table-cell;\"></div><div style=\"display: table-cell;\">js_event_callbacks&nbsp;=&nbsp;{},</div></div><div class=\"28778\" style=\"display: none;\"><div style=\"display: table-cell;\"></div><div style=\"display: table-cell;\">js_property_callbacks&nbsp;=&nbsp;{},</div></div><div class=\"28778\" style=\"display: none;\"><div style=\"display: table-cell;\"></div><div style=\"display: table-cell;\">level&nbsp;=&nbsp;'glyph',</div></div><div class=\"28778\" style=\"display: none;\"><div style=\"display: table-cell;\"></div><div style=\"display: table-cell;\">muted&nbsp;=&nbsp;False,</div></div><div class=\"28778\" style=\"display: none;\"><div style=\"display: table-cell;\"></div><div style=\"display: table-cell;\">muted_glyph&nbsp;=&nbsp;None,</div></div><div class=\"28778\" style=\"display: none;\"><div style=\"display: table-cell;\"></div><div style=\"display: table-cell;\">name&nbsp;=&nbsp;None,</div></div><div class=\"28778\" style=\"display: none;\"><div style=\"display: table-cell;\"></div><div style=\"display: table-cell;\">nonselection_glyph&nbsp;=&nbsp;Line(id='28751', ...),</div></div><div class=\"28778\" style=\"display: none;\"><div style=\"display: table-cell;\"></div><div style=\"display: table-cell;\">selection_glyph&nbsp;=&nbsp;None,</div></div><div class=\"28778\" style=\"display: none;\"><div style=\"display: table-cell;\"></div><div style=\"display: table-cell;\">subscribed_events&nbsp;=&nbsp;[],</div></div><div class=\"28778\" style=\"display: none;\"><div style=\"display: table-cell;\"></div><div style=\"display: table-cell;\">tags&nbsp;=&nbsp;[],</div></div><div class=\"28778\" style=\"display: none;\"><div style=\"display: table-cell;\"></div><div style=\"display: table-cell;\">view&nbsp;=&nbsp;CDSView(id='28753', ...),</div></div><div class=\"28778\" style=\"display: none;\"><div style=\"display: table-cell;\"></div><div style=\"display: table-cell;\">visible&nbsp;=&nbsp;True,</div></div><div class=\"28778\" style=\"display: none;\"><div style=\"display: table-cell;\"></div><div style=\"display: table-cell;\">x_range_name&nbsp;=&nbsp;'default',</div></div><div class=\"28778\" style=\"display: none;\"><div style=\"display: table-cell;\"></div><div style=\"display: table-cell;\">y_range_name&nbsp;=&nbsp;'default')</div></div></div>\n",
       "<script>\n",
       "(function() {\n",
       "  var expanded = false;\n",
       "  var ellipsis = document.getElementById(\"28779\");\n",
       "  ellipsis.addEventListener(\"click\", function() {\n",
       "    var rows = document.getElementsByClassName(\"28778\");\n",
       "    for (var i = 0; i < rows.length; i++) {\n",
       "      var el = rows[i];\n",
       "      el.style.display = expanded ? \"none\" : \"table-row\";\n",
       "    }\n",
       "    ellipsis.innerHTML = expanded ? \"&hellip;)\" : \"&lsaquo;&lsaquo;&lsaquo;\";\n",
       "    expanded = !expanded;\n",
       "  });\n",
       "})();\n",
       "</script>\n"
      ],
      "text/plain": [
       "GlyphRenderer(id='28752', ...)"
      ]
     },
     "execution_count": 163,
     "metadata": {},
     "output_type": "execute_result"
    }
   ],
   "source": [
    "mask = selected_country.index.isin(winter)\n",
    "\n",
    "winter = selected_country[mask]\n",
    "x = winter.index\n",
    "y = winter[\"confirmed_cases\"][\"mean\"]\n",
    "source = {\n",
    "    \"x\":x,\n",
    "    \"upper\":y + winter[\"confirmed_cases\"][\"std\"],\n",
    "    \"lower\":y - winter[\"confirmed_cases\"][\"std\"],\n",
    "}\n",
    "fig.varea(x=\"x\",y1= \"upper\", y2= \"lower\",color=\"blue\",fill_alpha=0.2,source=source)\n",
    "fig.line(x = x,y = y,legend_label=\"Winter cases\",color=\"blue\")\n"
   ]
  },
  {
   "cell_type": "code",
   "execution_count": 164,
   "metadata": {},
   "outputs": [
    {
     "data": {
      "text/html": [
       "<div style=\"display: table;\"><div style=\"display: table-row;\"><div style=\"display: table-cell;\"><b title=\"bokeh.models.renderers.GlyphRenderer\">GlyphRenderer</b>(</div><div style=\"display: table-cell;\">id&nbsp;=&nbsp;'28789', <span id=\"28819\" style=\"cursor: pointer;\">&hellip;)</span></div></div><div class=\"28818\" style=\"display: none;\"><div style=\"display: table-cell;\"></div><div style=\"display: table-cell;\">data_source&nbsp;=&nbsp;ColumnDataSource(id='28786', ...),</div></div><div class=\"28818\" style=\"display: none;\"><div style=\"display: table-cell;\"></div><div style=\"display: table-cell;\">glyph&nbsp;=&nbsp;Line(id='28787', ...),</div></div><div class=\"28818\" style=\"display: none;\"><div style=\"display: table-cell;\"></div><div style=\"display: table-cell;\">hover_glyph&nbsp;=&nbsp;None,</div></div><div class=\"28818\" style=\"display: none;\"><div style=\"display: table-cell;\"></div><div style=\"display: table-cell;\">js_event_callbacks&nbsp;=&nbsp;{},</div></div><div class=\"28818\" style=\"display: none;\"><div style=\"display: table-cell;\"></div><div style=\"display: table-cell;\">js_property_callbacks&nbsp;=&nbsp;{},</div></div><div class=\"28818\" style=\"display: none;\"><div style=\"display: table-cell;\"></div><div style=\"display: table-cell;\">level&nbsp;=&nbsp;'glyph',</div></div><div class=\"28818\" style=\"display: none;\"><div style=\"display: table-cell;\"></div><div style=\"display: table-cell;\">muted&nbsp;=&nbsp;False,</div></div><div class=\"28818\" style=\"display: none;\"><div style=\"display: table-cell;\"></div><div style=\"display: table-cell;\">muted_glyph&nbsp;=&nbsp;None,</div></div><div class=\"28818\" style=\"display: none;\"><div style=\"display: table-cell;\"></div><div style=\"display: table-cell;\">name&nbsp;=&nbsp;None,</div></div><div class=\"28818\" style=\"display: none;\"><div style=\"display: table-cell;\"></div><div style=\"display: table-cell;\">nonselection_glyph&nbsp;=&nbsp;Line(id='28788', ...),</div></div><div class=\"28818\" style=\"display: none;\"><div style=\"display: table-cell;\"></div><div style=\"display: table-cell;\">selection_glyph&nbsp;=&nbsp;None,</div></div><div class=\"28818\" style=\"display: none;\"><div style=\"display: table-cell;\"></div><div style=\"display: table-cell;\">subscribed_events&nbsp;=&nbsp;[],</div></div><div class=\"28818\" style=\"display: none;\"><div style=\"display: table-cell;\"></div><div style=\"display: table-cell;\">tags&nbsp;=&nbsp;[],</div></div><div class=\"28818\" style=\"display: none;\"><div style=\"display: table-cell;\"></div><div style=\"display: table-cell;\">view&nbsp;=&nbsp;CDSView(id='28790', ...),</div></div><div class=\"28818\" style=\"display: none;\"><div style=\"display: table-cell;\"></div><div style=\"display: table-cell;\">visible&nbsp;=&nbsp;True,</div></div><div class=\"28818\" style=\"display: none;\"><div style=\"display: table-cell;\"></div><div style=\"display: table-cell;\">x_range_name&nbsp;=&nbsp;'default',</div></div><div class=\"28818\" style=\"display: none;\"><div style=\"display: table-cell;\"></div><div style=\"display: table-cell;\">y_range_name&nbsp;=&nbsp;'default')</div></div></div>\n",
       "<script>\n",
       "(function() {\n",
       "  var expanded = false;\n",
       "  var ellipsis = document.getElementById(\"28819\");\n",
       "  ellipsis.addEventListener(\"click\", function() {\n",
       "    var rows = document.getElementsByClassName(\"28818\");\n",
       "    for (var i = 0; i < rows.length; i++) {\n",
       "      var el = rows[i];\n",
       "      el.style.display = expanded ? \"none\" : \"table-row\";\n",
       "    }\n",
       "    ellipsis.innerHTML = expanded ? \"&hellip;)\" : \"&lsaquo;&lsaquo;&lsaquo;\";\n",
       "    expanded = !expanded;\n",
       "  });\n",
       "})();\n",
       "</script>\n"
      ],
      "text/plain": [
       "GlyphRenderer(id='28789', ...)"
      ]
     },
     "execution_count": 164,
     "metadata": {},
     "output_type": "execute_result"
    }
   ],
   "source": [
    "mask = selected_country.index.isin(spring)\n",
    "\n",
    "spring = selected_country[mask]\n",
    "x = spring.index\n",
    "y = spring[\"confirmed_cases\"][\"mean\"]\n",
    "source = {\n",
    "    \"x\":x,\n",
    "    \"upper\":y + spring[\"confirmed_cases\"][\"std\"],\n",
    "    \"lower\":y - spring[\"confirmed_cases\"][\"std\"],\n",
    "}\n",
    "fig.varea(x=\"x\",y1= \"upper\", y2= \"lower\",color=\"orange\",fill_alpha=0.2,source=source)\n",
    "fig.line(x = x,y = y,legend_label=\"Spring cases\",color=\"orange\")\n"
   ]
  },
  {
   "cell_type": "code",
   "execution_count": 165,
   "metadata": {},
   "outputs": [
    {
     "data": {
      "text/html": [
       "<div style=\"display: table;\"><div style=\"display: table-row;\"><div style=\"display: table-cell;\"><b title=\"bokeh.models.renderers.GlyphRenderer\">GlyphRenderer</b>(</div><div style=\"display: table-cell;\">id&nbsp;=&nbsp;'28829', <span id=\"28863\" style=\"cursor: pointer;\">&hellip;)</span></div></div><div class=\"28862\" style=\"display: none;\"><div style=\"display: table-cell;\"></div><div style=\"display: table-cell;\">data_source&nbsp;=&nbsp;ColumnDataSource(id='28826', ...),</div></div><div class=\"28862\" style=\"display: none;\"><div style=\"display: table-cell;\"></div><div style=\"display: table-cell;\">glyph&nbsp;=&nbsp;Line(id='28827', ...),</div></div><div class=\"28862\" style=\"display: none;\"><div style=\"display: table-cell;\"></div><div style=\"display: table-cell;\">hover_glyph&nbsp;=&nbsp;None,</div></div><div class=\"28862\" style=\"display: none;\"><div style=\"display: table-cell;\"></div><div style=\"display: table-cell;\">js_event_callbacks&nbsp;=&nbsp;{},</div></div><div class=\"28862\" style=\"display: none;\"><div style=\"display: table-cell;\"></div><div style=\"display: table-cell;\">js_property_callbacks&nbsp;=&nbsp;{},</div></div><div class=\"28862\" style=\"display: none;\"><div style=\"display: table-cell;\"></div><div style=\"display: table-cell;\">level&nbsp;=&nbsp;'glyph',</div></div><div class=\"28862\" style=\"display: none;\"><div style=\"display: table-cell;\"></div><div style=\"display: table-cell;\">muted&nbsp;=&nbsp;False,</div></div><div class=\"28862\" style=\"display: none;\"><div style=\"display: table-cell;\"></div><div style=\"display: table-cell;\">muted_glyph&nbsp;=&nbsp;None,</div></div><div class=\"28862\" style=\"display: none;\"><div style=\"display: table-cell;\"></div><div style=\"display: table-cell;\">name&nbsp;=&nbsp;None,</div></div><div class=\"28862\" style=\"display: none;\"><div style=\"display: table-cell;\"></div><div style=\"display: table-cell;\">nonselection_glyph&nbsp;=&nbsp;Line(id='28828', ...),</div></div><div class=\"28862\" style=\"display: none;\"><div style=\"display: table-cell;\"></div><div style=\"display: table-cell;\">selection_glyph&nbsp;=&nbsp;None,</div></div><div class=\"28862\" style=\"display: none;\"><div style=\"display: table-cell;\"></div><div style=\"display: table-cell;\">subscribed_events&nbsp;=&nbsp;[],</div></div><div class=\"28862\" style=\"display: none;\"><div style=\"display: table-cell;\"></div><div style=\"display: table-cell;\">tags&nbsp;=&nbsp;[],</div></div><div class=\"28862\" style=\"display: none;\"><div style=\"display: table-cell;\"></div><div style=\"display: table-cell;\">view&nbsp;=&nbsp;CDSView(id='28830', ...),</div></div><div class=\"28862\" style=\"display: none;\"><div style=\"display: table-cell;\"></div><div style=\"display: table-cell;\">visible&nbsp;=&nbsp;True,</div></div><div class=\"28862\" style=\"display: none;\"><div style=\"display: table-cell;\"></div><div style=\"display: table-cell;\">x_range_name&nbsp;=&nbsp;'default',</div></div><div class=\"28862\" style=\"display: none;\"><div style=\"display: table-cell;\"></div><div style=\"display: table-cell;\">y_range_name&nbsp;=&nbsp;'default')</div></div></div>\n",
       "<script>\n",
       "(function() {\n",
       "  var expanded = false;\n",
       "  var ellipsis = document.getElementById(\"28863\");\n",
       "  ellipsis.addEventListener(\"click\", function() {\n",
       "    var rows = document.getElementsByClassName(\"28862\");\n",
       "    for (var i = 0; i < rows.length; i++) {\n",
       "      var el = rows[i];\n",
       "      el.style.display = expanded ? \"none\" : \"table-row\";\n",
       "    }\n",
       "    ellipsis.innerHTML = expanded ? \"&hellip;)\" : \"&lsaquo;&lsaquo;&lsaquo;\";\n",
       "    expanded = !expanded;\n",
       "  });\n",
       "})();\n",
       "</script>\n"
      ],
      "text/plain": [
       "GlyphRenderer(id='28829', ...)"
      ]
     },
     "execution_count": 165,
     "metadata": {},
     "output_type": "execute_result"
    }
   ],
   "source": [
    "mask = selected_country.index.isin(autumn)\n",
    "\n",
    "autumn = selected_country[mask]\n",
    "x = autumn.index\n",
    "y = autumn[\"confirmed_cases\"][\"mean\"]\n",
    "source = {\n",
    "    \"x\":x,\n",
    "    \"upper\":y + autumn[\"confirmed_cases\"][\"std\"],\n",
    "    \"lower\":y - autumn[\"confirmed_cases\"][\"std\"],\n",
    "}\n",
    "fig.varea(x=\"x\",y1= \"upper\", y2= \"lower\",color=\"yellow\",fill_alpha=0.2,source=source) \n",
    "fig.line(x = x,y = y,legend_label=\"Autumn cases\",color=\"yellow\")\n"
   ]
  },
  {
   "cell_type": "code",
   "execution_count": 166,
   "metadata": {},
   "outputs": [
    {
     "data": {
      "text/html": [
       "<div style=\"display: table;\"><div style=\"display: table-row;\"><div style=\"display: table-cell;\"><b title=\"bokeh.models.renderers.GlyphRenderer\">GlyphRenderer</b>(</div><div style=\"display: table-cell;\">id&nbsp;=&nbsp;'28873', <span id=\"28911\" style=\"cursor: pointer;\">&hellip;)</span></div></div><div class=\"28910\" style=\"display: none;\"><div style=\"display: table-cell;\"></div><div style=\"display: table-cell;\">data_source&nbsp;=&nbsp;ColumnDataSource(id='28870', ...),</div></div><div class=\"28910\" style=\"display: none;\"><div style=\"display: table-cell;\"></div><div style=\"display: table-cell;\">glyph&nbsp;=&nbsp;Line(id='28871', ...),</div></div><div class=\"28910\" style=\"display: none;\"><div style=\"display: table-cell;\"></div><div style=\"display: table-cell;\">hover_glyph&nbsp;=&nbsp;None,</div></div><div class=\"28910\" style=\"display: none;\"><div style=\"display: table-cell;\"></div><div style=\"display: table-cell;\">js_event_callbacks&nbsp;=&nbsp;{},</div></div><div class=\"28910\" style=\"display: none;\"><div style=\"display: table-cell;\"></div><div style=\"display: table-cell;\">js_property_callbacks&nbsp;=&nbsp;{},</div></div><div class=\"28910\" style=\"display: none;\"><div style=\"display: table-cell;\"></div><div style=\"display: table-cell;\">level&nbsp;=&nbsp;'glyph',</div></div><div class=\"28910\" style=\"display: none;\"><div style=\"display: table-cell;\"></div><div style=\"display: table-cell;\">muted&nbsp;=&nbsp;False,</div></div><div class=\"28910\" style=\"display: none;\"><div style=\"display: table-cell;\"></div><div style=\"display: table-cell;\">muted_glyph&nbsp;=&nbsp;None,</div></div><div class=\"28910\" style=\"display: none;\"><div style=\"display: table-cell;\"></div><div style=\"display: table-cell;\">name&nbsp;=&nbsp;None,</div></div><div class=\"28910\" style=\"display: none;\"><div style=\"display: table-cell;\"></div><div style=\"display: table-cell;\">nonselection_glyph&nbsp;=&nbsp;Line(id='28872', ...),</div></div><div class=\"28910\" style=\"display: none;\"><div style=\"display: table-cell;\"></div><div style=\"display: table-cell;\">selection_glyph&nbsp;=&nbsp;None,</div></div><div class=\"28910\" style=\"display: none;\"><div style=\"display: table-cell;\"></div><div style=\"display: table-cell;\">subscribed_events&nbsp;=&nbsp;[],</div></div><div class=\"28910\" style=\"display: none;\"><div style=\"display: table-cell;\"></div><div style=\"display: table-cell;\">tags&nbsp;=&nbsp;[],</div></div><div class=\"28910\" style=\"display: none;\"><div style=\"display: table-cell;\"></div><div style=\"display: table-cell;\">view&nbsp;=&nbsp;CDSView(id='28874', ...),</div></div><div class=\"28910\" style=\"display: none;\"><div style=\"display: table-cell;\"></div><div style=\"display: table-cell;\">visible&nbsp;=&nbsp;True,</div></div><div class=\"28910\" style=\"display: none;\"><div style=\"display: table-cell;\"></div><div style=\"display: table-cell;\">x_range_name&nbsp;=&nbsp;'default',</div></div><div class=\"28910\" style=\"display: none;\"><div style=\"display: table-cell;\"></div><div style=\"display: table-cell;\">y_range_name&nbsp;=&nbsp;'default')</div></div></div>\n",
       "<script>\n",
       "(function() {\n",
       "  var expanded = false;\n",
       "  var ellipsis = document.getElementById(\"28911\");\n",
       "  ellipsis.addEventListener(\"click\", function() {\n",
       "    var rows = document.getElementsByClassName(\"28910\");\n",
       "    for (var i = 0; i < rows.length; i++) {\n",
       "      var el = rows[i];\n",
       "      el.style.display = expanded ? \"none\" : \"table-row\";\n",
       "    }\n",
       "    ellipsis.innerHTML = expanded ? \"&hellip;)\" : \"&lsaquo;&lsaquo;&lsaquo;\";\n",
       "    expanded = !expanded;\n",
       "  });\n",
       "})();\n",
       "</script>\n"
      ],
      "text/plain": [
       "GlyphRenderer(id='28873', ...)"
      ]
     },
     "execution_count": 166,
     "metadata": {},
     "output_type": "execute_result"
    }
   ],
   "source": [
    "mask = selected_country.index.isin(summer)\n",
    "\n",
    "summer = selected_country[mask]\n",
    "x = summer.index\n",
    "y = summer[\"confirmed_cases\"][\"mean\"]\n",
    "source = {\n",
    "    \"x\":x,\n",
    "    \"upper\":y + summer[\"confirmed_cases\"][\"std\"],\n",
    "    \"lower\":y - summer[\"confirmed_cases\"][\"std\"],\n",
    "}\n",
    "fig.varea(x=\"x\",y1= \"upper\", y2= \"lower\",color=\"red\",fill_alpha=0.2,source=source)\n",
    "fig.line(x = x,y = y,legend_label=\"Summer cases\",color=\"red\")\n"
   ]
  },
  {
   "cell_type": "code",
   "execution_count": 167,
   "metadata": {},
   "outputs": [
    {
     "data": {
      "text/html": [
       "\n",
       "\n",
       "\n",
       "\n",
       "\n",
       "\n",
       "  <div class=\"bk-root\" id=\"0ee6f747-42a9-4d8b-8768-922f96e6ed8c\" data-root-id=\"28712\"></div>\n"
      ]
     },
     "metadata": {},
     "output_type": "display_data"
    },
    {
     "data": {
      "application/javascript": [
       "(function(root) {\n",
       "  function embed_document(root) {\n",
       "    \n",
       "  var docs_json = {\"3478b5c5-b42f-46dd-baf1-3e6dff8a376c\":{\"roots\":{\"references\":[{\"attributes\":{\"below\":[{\"id\":\"28723\"}],\"center\":[{\"id\":\"28726\"},{\"id\":\"28730\"},{\"id\":\"28776\"}],\"left\":[{\"id\":\"28727\"}],\"plot_height\":500,\"renderers\":[{\"id\":\"28747\"},{\"id\":\"28752\"},{\"id\":\"28784\"},{\"id\":\"28789\"},{\"id\":\"28824\"},{\"id\":\"28829\"},{\"id\":\"28868\"},{\"id\":\"28873\"}],\"title\":{\"id\":\"28713\"},\"toolbar\":{\"id\":\"28737\"},\"x_range\":{\"id\":\"28715\"},\"x_scale\":{\"id\":\"28719\"},\"y_range\":{\"id\":\"28717\"},\"y_scale\":{\"id\":\"28721\"}},\"id\":\"28712\",\"subtype\":\"Figure\",\"type\":\"Plot\"},{\"attributes\":{\"fill_alpha\":0.1,\"fill_color\":\"red\",\"x\":{\"field\":\"x\"},\"y1\":{\"field\":\"upper\"},\"y2\":{\"field\":\"lower\"}},\"id\":\"28867\",\"type\":\"VArea\"},{\"attributes\":{\"data_source\":{\"id\":\"28864\"},\"glyph\":{\"id\":\"28866\"},\"hover_glyph\":null,\"muted_glyph\":null,\"nonselection_glyph\":{\"id\":\"28867\"},\"selection_glyph\":null,\"view\":{\"id\":\"28869\"}},\"id\":\"28868\",\"type\":\"GlyphRenderer\"},{\"attributes\":{},\"id\":\"28859\",\"type\":\"Selection\"},{\"attributes\":{\"fill_alpha\":0.2,\"fill_color\":\"red\",\"x\":{\"field\":\"x\"},\"y1\":{\"field\":\"upper\"},\"y2\":{\"field\":\"lower\"}},\"id\":\"28866\",\"type\":\"VArea\"},{\"attributes\":{\"fill_alpha\":0.1,\"fill_color\":\"blue\",\"x\":{\"field\":\"x\"},\"y1\":{\"field\":\"upper\"},\"y2\":{\"field\":\"lower\"}},\"id\":\"28746\",\"type\":\"VArea\"},{\"attributes\":{\"source\":{\"id\":\"28864\"}},\"id\":\"28869\",\"type\":\"CDSView\"},{\"attributes\":{\"source\":{\"id\":\"28870\"}},\"id\":\"28874\",\"type\":\"CDSView\"},{\"attributes\":{\"line_alpha\":0.1,\"line_color\":\"red\",\"x\":{\"field\":\"x\"},\"y\":{\"field\":\"y\"}},\"id\":\"28872\",\"type\":\"Line\"},{\"attributes\":{\"data_source\":{\"id\":\"28870\"},\"glyph\":{\"id\":\"28871\"},\"hover_glyph\":null,\"muted_glyph\":null,\"nonselection_glyph\":{\"id\":\"28872\"},\"selection_glyph\":null,\"view\":{\"id\":\"28874\"}},\"id\":\"28873\",\"type\":\"GlyphRenderer\"},{\"attributes\":{},\"id\":\"28906\",\"type\":\"UnionRenderers\"},{\"attributes\":{},\"id\":\"28907\",\"type\":\"Selection\"},{\"attributes\":{},\"id\":\"28908\",\"type\":\"UnionRenderers\"},{\"attributes\":{},\"id\":\"28733\",\"type\":\"WheelZoomTool\"},{\"attributes\":{\"label\":{\"value\":\"Summer cases\"},\"renderers\":[{\"id\":\"28873\"}]},\"id\":\"28909\",\"type\":\"LegendItem\"},{\"attributes\":{\"base\":24,\"mantissas\":[1,2,4,6,8,12],\"max_interval\":43200000.0,\"min_interval\":3600000.0,\"num_minor_ticks\":0},\"id\":\"28762\",\"type\":\"AdaptiveTicker\"},{\"attributes\":{\"base\":60,\"mantissas\":[1,2,5,10,15,20,30],\"max_interval\":1800000.0,\"min_interval\":1000.0,\"num_minor_ticks\":0},\"id\":\"28761\",\"type\":\"AdaptiveTicker\"},{\"attributes\":{\"mantissas\":[1,2,5],\"max_interval\":500.0,\"num_minor_ticks\":0},\"id\":\"28760\",\"type\":\"AdaptiveTicker\"},{\"attributes\":{},\"id\":\"28757\",\"type\":\"DatetimeTickFormatter\"},{\"attributes\":{},\"id\":\"28755\",\"type\":\"BasicTickFormatter\"},{\"attributes\":{\"line_color\":\"blue\",\"x\":{\"field\":\"x\"},\"y\":{\"field\":\"y\"}},\"id\":\"28750\",\"type\":\"Line\"},{\"attributes\":{\"line_alpha\":0.1,\"line_color\":\"blue\",\"x\":{\"field\":\"x\"},\"y\":{\"field\":\"y\"}},\"id\":\"28751\",\"type\":\"Line\"},{\"attributes\":{},\"id\":\"28858\",\"type\":\"UnionRenderers\"},{\"attributes\":{\"data_source\":{\"id\":\"28749\"},\"glyph\":{\"id\":\"28750\"},\"hover_glyph\":null,\"muted_glyph\":null,\"nonselection_glyph\":{\"id\":\"28751\"},\"selection_glyph\":null,\"view\":{\"id\":\"28753\"}},\"id\":\"28752\",\"type\":\"GlyphRenderer\"},{\"attributes\":{\"source\":{\"id\":\"28743\"}},\"id\":\"28748\",\"type\":\"CDSView\"},{\"attributes\":{\"source\":{\"id\":\"28749\"}},\"id\":\"28753\",\"type\":\"CDSView\"},{\"attributes\":{},\"id\":\"28732\",\"type\":\"PanTool\"},{\"attributes\":{\"data\":{\"lower\":{\"__ndarray__\":\"AAAAAAAAAAAAAAAAAAAAAAAAAAAAAAAAAAAAAAAAAAAAAAAAAAAAADzLBjv/F96/Kknfdfg8+T+gA+aU2i8yQOg//Ok9oWBA\",\"dtype\":\"float64\",\"order\":\"little\",\"shape\":[9]},\"upper\":{\"__ndarray__\":\"AAAAAAAAAAAAAAAAAAAAAAAAAAAAAAAAAAAAAAAAAAAAAAAAAAAAABhF5heSqvA/bTuNg4UhI0A9yFh/UoZYQOiWb+YX3XlA\",\"dtype\":\"float64\",\"order\":\"little\",\"shape\":[9]},\"x\":{\"__ndarray__\":\"AABAx6j8dkIAAICP6f52QgAAwFcqAXdCAAAAIGsDd0IAAEDoqwV3QgAAgLDsB3dCAADAeC0Kd0IAAABBbgx3QgAAQAmvDndC\",\"dtype\":\"float64\",\"order\":\"little\",\"shape\":[9]}},\"selected\":{\"id\":\"28772\"},\"selection_policy\":{\"id\":\"28773\"}},\"id\":\"28743\",\"type\":\"ColumnDataSource\"},{\"attributes\":{\"fill_alpha\":0.2,\"fill_color\":\"blue\",\"x\":{\"field\":\"x\"},\"y1\":{\"field\":\"upper\"},\"y2\":{\"field\":\"lower\"}},\"id\":\"28745\",\"type\":\"VArea\"},{\"attributes\":{\"label\":{\"value\":\"Autumn cases\"},\"renderers\":[{\"id\":\"28829\"}]},\"id\":\"28861\",\"type\":\"LegendItem\"},{\"attributes\":{\"data_source\":{\"id\":\"28743\"},\"glyph\":{\"id\":\"28745\"},\"hover_glyph\":null,\"muted_glyph\":null,\"nonselection_glyph\":{\"id\":\"28746\"},\"selection_glyph\":null,\"view\":{\"id\":\"28748\"}},\"id\":\"28747\",\"type\":\"GlyphRenderer\"},{\"attributes\":{},\"id\":\"28860\",\"type\":\"UnionRenderers\"},{\"attributes\":{},\"id\":\"28735\",\"type\":\"ResetTool\"},{\"attributes\":{\"fill_alpha\":0.1,\"fill_color\":\"yellow\",\"x\":{\"field\":\"x\"},\"y1\":{\"field\":\"upper\"},\"y2\":{\"field\":\"lower\"}},\"id\":\"28823\",\"type\":\"VArea\"},{\"attributes\":{},\"id\":\"28771\",\"type\":\"YearsTicker\"},{\"attributes\":{\"data\":{\"lower\":{\"__ndarray__\":\"yr3Gfw1PpUAOAPyMpHavQBmjgulYirRA\",\"dtype\":\"float64\",\"order\":\"little\",\"shape\":[3]},\"upper\":{\"__ndarray__\":\"G6EcQHlCsUAdSRTe9nK6QJEHKMFRgb1A\",\"dtype\":\"float64\",\"order\":\"little\",\"shape\":[3]},\"x\":{\"__ndarray__\":\"AABAEchWd0IAAIDZCFl3QgAAwKFJW3dC\",\"dtype\":\"float64\",\"order\":\"little\",\"shape\":[3]}},\"selected\":{\"id\":\"28857\"},\"selection_policy\":{\"id\":\"28858\"}},\"id\":\"28820\",\"type\":\"ColumnDataSource\"},{\"attributes\":{\"fill_alpha\":0.1,\"fill_color\":\"orange\",\"x\":{\"field\":\"x\"},\"y1\":{\"field\":\"upper\"},\"y2\":{\"field\":\"lower\"}},\"id\":\"28783\",\"type\":\"VArea\"},{\"attributes\":{\"data_source\":{\"id\":\"28780\"},\"glyph\":{\"id\":\"28782\"},\"hover_glyph\":null,\"muted_glyph\":null,\"nonselection_glyph\":{\"id\":\"28783\"},\"selection_glyph\":null,\"view\":{\"id\":\"28785\"}},\"id\":\"28784\",\"type\":\"GlyphRenderer\"},{\"attributes\":{\"overlay\":{\"id\":\"28736\"}},\"id\":\"28734\",\"type\":\"BoxZoomTool\"},{\"attributes\":{\"source\":{\"id\":\"28780\"}},\"id\":\"28785\",\"type\":\"CDSView\"},{\"attributes\":{\"data\":{\"lower\":{\"__ndarray__\":\"6aOAMkIEcEBv7ts1DKtwQKexy7Be63BAav+E+cqmZEBtOQxHVw5iQFxsJC7Kol5AFmfJvcS8XkAWdn9IUqRhQKJazUsipmJAQzUuX7RkcEDm+Vz8fulyQFwwiDEMz35Ah1G/4+lbgEDdyJmEp3+BQMCgllKjYoNACvtQtwQtkECwhAluh5+cQAo8a3llc6NA\",\"dtype\":\"float64\",\"order\":\"little\",\"shape\":[18]},\"upper\":{\"__ndarray__\":\"8xLtqHTpekCRESTK8/R3QDUFoipYIn5AAe4YOgiodkBK43lc1PhxQBxcEjItE25Av94/6i/GbUBjIHdJsgRyQPjkPSOB0XBAvcrRoEs7eUDQc3667nF8QEDD8lRVb4VAnffSQF8WiUAjN2Z7WKCLQIrxjfbukY5ArHKK/2gml0Beq9b/qU+iQBoNJ6vjvqpA\",\"dtype\":\"float64\",\"order\":\"little\",\"shape\":[18]},\"x\":{\"__ndarray__\":\"AADA/Dkud0IAAADFejB3QgAAQI27MndCAACAVfw0d0IAAMAdPTd3QgAAAOZ9OXdCAABArr47d0IAAIB2/z13QgAAwD5AQHdCAAAAB4FCd0IAAEDPwUR3QgAAgJcCR3dCAADAX0NJd0IAAAAohEt3QgAAQPDETXdCAACAuAVQd0IAAMCARlJ3QgAAAEmHVHdC\",\"dtype\":\"float64\",\"order\":\"little\",\"shape\":[18]}},\"selected\":{\"id\":\"28905\"},\"selection_policy\":{\"id\":\"28906\"}},\"id\":\"28864\",\"type\":\"ColumnDataSource\"},{\"attributes\":{\"data\":{\"x\":{\"__ndarray__\":\"AADA/Dkud0IAAADFejB3QgAAQI27MndCAACAVfw0d0IAAMAdPTd3QgAAAOZ9OXdCAABArr47d0IAAIB2/z13QgAAwD5AQHdCAAAAB4FCd0IAAEDPwUR3QgAAgJcCR3dCAADAX0NJd0IAAAAohEt3QgAAQPDETXdCAACAuAVQd0IAAMCARlJ3QgAAAEmHVHdC\",\"dtype\":\"float64\",\"order\":\"little\",\"shape\":[18]},\"y\":{\"__ndarray__\":\"btu2bdt2dUAAAAAAAFB0QG7btm3bhndA27Zt27Z9cEAAAAAAAABrQCVJkiRJsmZAJUmSJEmSZkBu27Zt29ZqQEmSJEmSJGpAAAAAAADQdEDbtm3btq13QLdt27Zta4JAkiRJkiS5hEAAAAAAAJCGQCVJkiRJ+ohA27Zt27apk0Dbtm3btk+gQJIkSZIkGadA\",\"dtype\":\"float64\",\"order\":\"little\",\"shape\":[18]}},\"selected\":{\"id\":\"28907\"},\"selection_policy\":{\"id\":\"28908\"}},\"id\":\"28870\",\"type\":\"ColumnDataSource\"},{\"attributes\":{},\"id\":\"28813\",\"type\":\"Selection\"},{\"attributes\":{\"data\":{\"x\":{\"__ndarray__\":\"AABAEchWd0IAAIDZCFl3QgAAwKFJW3dC\",\"dtype\":\"float64\",\"order\":\"little\",\"shape\":[3]},\"y\":{\"__ndarray__\":\"AAAAAADqq0CSJEmSJBe1QFVVVVXVBblA\",\"dtype\":\"float64\",\"order\":\"little\",\"shape\":[3]}},\"selected\":{\"id\":\"28859\"},\"selection_policy\":{\"id\":\"28860\"}},\"id\":\"28826\",\"type\":\"ColumnDataSource\"},{\"attributes\":{},\"id\":\"28772\",\"type\":\"Selection\"},{\"attributes\":{},\"id\":\"28721\",\"type\":\"LinearScale\"},{\"attributes\":{\"active_drag\":\"auto\",\"active_inspect\":\"auto\",\"active_multi\":null,\"active_scroll\":\"auto\",\"active_tap\":\"auto\",\"tools\":[{\"id\":\"28731\"},{\"id\":\"28732\"},{\"id\":\"28733\"},{\"id\":\"28734\"},{\"id\":\"28735\"}]},\"id\":\"28737\",\"type\":\"Toolbar\"},{\"attributes\":{\"source\":{\"id\":\"28786\"}},\"id\":\"28790\",\"type\":\"CDSView\"},{\"attributes\":{\"line_alpha\":0.1,\"line_color\":\"orange\",\"x\":{\"field\":\"x\"},\"y\":{\"field\":\"y\"}},\"id\":\"28788\",\"type\":\"Line\"},{\"attributes\":{\"data_source\":{\"id\":\"28786\"},\"glyph\":{\"id\":\"28787\"},\"hover_glyph\":null,\"muted_glyph\":null,\"nonselection_glyph\":{\"id\":\"28788\"},\"selection_glyph\":null,\"view\":{\"id\":\"28790\"}},\"id\":\"28789\",\"type\":\"GlyphRenderer\"},{\"attributes\":{},\"id\":\"28814\",\"type\":\"UnionRenderers\"},{\"attributes\":{},\"id\":\"28815\",\"type\":\"Selection\"},{\"attributes\":{\"months\":[0,6]},\"id\":\"28770\",\"type\":\"MonthsTicker\"},{\"attributes\":{},\"id\":\"28816\",\"type\":\"UnionRenderers\"},{\"attributes\":{},\"id\":\"28773\",\"type\":\"UnionRenderers\"},{\"attributes\":{\"label\":{\"value\":\"Spring cases\"},\"renderers\":[{\"id\":\"28789\"}]},\"id\":\"28817\",\"type\":\"LegendItem\"},{\"attributes\":{\"bottom_units\":\"screen\",\"fill_alpha\":0.5,\"fill_color\":\"lightgrey\",\"left_units\":\"screen\",\"level\":\"overlay\",\"line_alpha\":1.0,\"line_color\":\"black\",\"line_dash\":[4,4],\"line_width\":2,\"right_units\":\"screen\",\"top_units\":\"screen\"},\"id\":\"28736\",\"type\":\"BoxAnnotation\"},{\"attributes\":{},\"id\":\"28719\",\"type\":\"LinearScale\"},{\"attributes\":{\"items\":[{\"id\":\"28777\"},{\"id\":\"28817\"},{\"id\":\"28861\"},{\"id\":\"28909\"}]},\"id\":\"28776\",\"type\":\"Legend\"},{\"attributes\":{\"text\":\"Portugal cases evolution\"},\"id\":\"28713\",\"type\":\"Title\"},{\"attributes\":{\"formatter\":{\"id\":\"28757\"},\"ticker\":{\"id\":\"28724\"}},\"id\":\"28723\",\"type\":\"DatetimeAxis\"},{\"attributes\":{},\"id\":\"28715\",\"type\":\"DataRange1d\"},{\"attributes\":{\"data\":{\"x\":{\"__ndarray__\":\"AACA0e8Qd0IAAMCZMBN3QgAAAGJxFXdCAABAKrIXd0IAAIDy8hl3QgAAwLozHHdCAAAAg3Qed0IAAEBLtSB3QgAAgBP2IndCAADA2zYld0IAAACkdyd3QgAAQGy4KXdCAACANPkrd0I=\",\"dtype\":\"float64\",\"order\":\"little\",\"shape\":[13]},\"y\":{\"__ndarray__\":\"btu2bduuhkCSJEmSJFGGQJIkSZIkWYZASZIkSZKMgUBu27Zt20Z6QEmSJEmSpGhA27Zt27a9c0AAAAAAACBrQAAAAAAAIGxAt23btm3bcEBu27Zt24Z1QAAAAAAAIHJAAAAAAABwdUA=\",\"dtype\":\"float64\",\"order\":\"little\",\"shape\":[13]}},\"selected\":{\"id\":\"28815\"},\"selection_policy\":{\"id\":\"28816\"}},\"id\":\"28786\",\"type\":\"ColumnDataSource\"},{\"attributes\":{},\"id\":\"28717\",\"type\":\"DataRange1d\"},{\"attributes\":{\"label\":{\"value\":\"Winter cases\"},\"renderers\":[{\"id\":\"28752\"}]},\"id\":\"28777\",\"type\":\"LegendItem\"},{\"attributes\":{\"line_color\":\"red\",\"x\":{\"field\":\"x\"},\"y\":{\"field\":\"y\"}},\"id\":\"28871\",\"type\":\"Line\"},{\"attributes\":{},\"id\":\"28775\",\"type\":\"UnionRenderers\"},{\"attributes\":{\"days\":[1,15]},\"id\":\"28766\",\"type\":\"DaysTicker\"},{\"attributes\":{\"formatter\":{\"id\":\"28755\"},\"ticker\":{\"id\":\"28728\"}},\"id\":\"28727\",\"type\":\"LinearAxis\"},{\"attributes\":{\"num_minor_ticks\":5,\"tickers\":[{\"id\":\"28760\"},{\"id\":\"28761\"},{\"id\":\"28762\"},{\"id\":\"28763\"},{\"id\":\"28764\"},{\"id\":\"28765\"},{\"id\":\"28766\"},{\"id\":\"28767\"},{\"id\":\"28768\"},{\"id\":\"28769\"},{\"id\":\"28770\"},{\"id\":\"28771\"}]},\"id\":\"28724\",\"type\":\"DatetimeTicker\"},{\"attributes\":{\"days\":[1,4,7,10,13,16,19,22,25,28]},\"id\":\"28764\",\"type\":\"DaysTicker\"},{\"attributes\":{\"data_source\":{\"id\":\"28820\"},\"glyph\":{\"id\":\"28822\"},\"hover_glyph\":null,\"muted_glyph\":null,\"nonselection_glyph\":{\"id\":\"28823\"},\"selection_glyph\":null,\"view\":{\"id\":\"28825\"}},\"id\":\"28824\",\"type\":\"GlyphRenderer\"},{\"attributes\":{\"months\":[0,4,8]},\"id\":\"28769\",\"type\":\"MonthsTicker\"},{\"attributes\":{\"months\":[0,2,4,6,8,10]},\"id\":\"28768\",\"type\":\"MonthsTicker\"},{\"attributes\":{\"fill_alpha\":0.2,\"fill_color\":\"yellow\",\"x\":{\"field\":\"x\"},\"y1\":{\"field\":\"upper\"},\"y2\":{\"field\":\"lower\"}},\"id\":\"28822\",\"type\":\"VArea\"},{\"attributes\":{\"axis\":{\"id\":\"28723\"},\"ticker\":null},\"id\":\"28726\",\"type\":\"Grid\"},{\"attributes\":{\"source\":{\"id\":\"28820\"}},\"id\":\"28825\",\"type\":\"CDSView\"},{\"attributes\":{\"days\":[1,2,3,4,5,6,7,8,9,10,11,12,13,14,15,16,17,18,19,20,21,22,23,24,25,26,27,28,29,30,31]},\"id\":\"28763\",\"type\":\"DaysTicker\"},{\"attributes\":{},\"id\":\"28728\",\"type\":\"BasicTicker\"},{\"attributes\":{\"axis\":{\"id\":\"28727\"},\"dimension\":1,\"ticker\":null},\"id\":\"28730\",\"type\":\"Grid\"},{\"attributes\":{},\"id\":\"28905\",\"type\":\"Selection\"},{\"attributes\":{\"data\":{\"lower\":{\"__ndarray__\":\"97da5X5QgEBxFJ4WiByCQKPpNCcXw3RAVLrMHjFnd0Br0MYzsFhwQNDhUQPK/y7AiuT2AN1iXUDYR0Nm/GtnQFMG8eCCtmVA7IzwjYCkakDaCqxmV/JwQObdypxsqm9A2quwQjcTckA=\",\"dtype\":\"float64\",\"order\":\"little\",\"shape\":[13]},\"upper\":{\"__ndarray__\":\"5f4S9jcNjUCzNPQNwYWKQCnqe8heKJFAaMfiAoxlh0A4c9NTgxqCQFghP5mQnHlAStpOO1sRgEAouLyZA9RuQNd8h4++RHFA+JS+JptkdEACrMF0Xxt6QA2RmrHJanRAJlRPvcjMeEA=\",\"dtype\":\"float64\",\"order\":\"little\",\"shape\":[13]},\"x\":{\"__ndarray__\":\"AACA0e8Qd0IAAMCZMBN3QgAAAGJxFXdCAABAKrIXd0IAAIDy8hl3QgAAwLozHHdCAAAAg3Qed0IAAEBLtSB3QgAAgBP2IndCAADA2zYld0IAAACkdyd3QgAAQGy4KXdCAACANPkrd0I=\",\"dtype\":\"float64\",\"order\":\"little\",\"shape\":[13]}},\"selected\":{\"id\":\"28813\"},\"selection_policy\":{\"id\":\"28814\"}},\"id\":\"28780\",\"type\":\"ColumnDataSource\"},{\"attributes\":{\"line_alpha\":0.1,\"line_color\":\"yellow\",\"x\":{\"field\":\"x\"},\"y\":{\"field\":\"y\"}},\"id\":\"28828\",\"type\":\"Line\"},{\"attributes\":{\"line_color\":\"yellow\",\"x\":{\"field\":\"x\"},\"y\":{\"field\":\"y\"}},\"id\":\"28827\",\"type\":\"Line\"},{\"attributes\":{\"data_source\":{\"id\":\"28826\"},\"glyph\":{\"id\":\"28827\"},\"hover_glyph\":null,\"muted_glyph\":null,\"nonselection_glyph\":{\"id\":\"28828\"},\"selection_glyph\":null,\"view\":{\"id\":\"28830\"}},\"id\":\"28829\",\"type\":\"GlyphRenderer\"},{\"attributes\":{},\"id\":\"28857\",\"type\":\"Selection\"},{\"attributes\":{\"callback\":null,\"tooltips\":\"value: @y\"},\"id\":\"28731\",\"type\":\"HoverTool\"},{\"attributes\":{\"source\":{\"id\":\"28826\"}},\"id\":\"28830\",\"type\":\"CDSView\"},{\"attributes\":{\"months\":[0,1,2,3,4,5,6,7,8,9,10,11]},\"id\":\"28767\",\"type\":\"MonthsTicker\"},{\"attributes\":{\"line_color\":\"orange\",\"x\":{\"field\":\"x\"},\"y\":{\"field\":\"y\"}},\"id\":\"28787\",\"type\":\"Line\"},{\"attributes\":{\"days\":[1,8,15,22]},\"id\":\"28765\",\"type\":\"DaysTicker\"},{\"attributes\":{\"data\":{\"x\":{\"__ndarray__\":\"AABAx6j8dkIAAICP6f52QgAAwFcqAXdCAAAAIGsDd0IAAEDoqwV3QgAAgLDsB3dCAADAeC0Kd0IAAABBbgx3QgAAQAmvDndC\",\"dtype\":\"float64\",\"order\":\"little\",\"shape\":[9]},\"y\":{\"__ndarray__\":\"AAAAAAAAAAAAAAAAAAAAAAAAAAAAAAAAAAAAAAAAAAAAAAAAAAAAAJIkSZIkSdI/kiRJkiRJFkAlSZIkSRJNQG7btm3bFnFA\",\"dtype\":\"float64\",\"order\":\"little\",\"shape\":[9]}},\"selected\":{\"id\":\"28774\"},\"selection_policy\":{\"id\":\"28775\"}},\"id\":\"28749\",\"type\":\"ColumnDataSource\"},{\"attributes\":{\"fill_alpha\":0.2,\"fill_color\":\"orange\",\"x\":{\"field\":\"x\"},\"y1\":{\"field\":\"upper\"},\"y2\":{\"field\":\"lower\"}},\"id\":\"28782\",\"type\":\"VArea\"},{\"attributes\":{},\"id\":\"28774\",\"type\":\"Selection\"}],\"root_ids\":[\"28712\"]},\"title\":\"Bokeh Application\",\"version\":\"2.2.3\"}};\n",
       "  var render_items = [{\"docid\":\"3478b5c5-b42f-46dd-baf1-3e6dff8a376c\",\"root_ids\":[\"28712\"],\"roots\":{\"28712\":\"0ee6f747-42a9-4d8b-8768-922f96e6ed8c\"}}];\n",
       "  root.Bokeh.embed.embed_items_notebook(docs_json, render_items);\n",
       "\n",
       "  }\n",
       "  if (root.Bokeh !== undefined) {\n",
       "    embed_document(root);\n",
       "  } else {\n",
       "    var attempts = 0;\n",
       "    var timer = setInterval(function(root) {\n",
       "      if (root.Bokeh !== undefined) {\n",
       "        clearInterval(timer);\n",
       "        embed_document(root);\n",
       "      } else {\n",
       "        attempts++;\n",
       "        if (attempts > 100) {\n",
       "          clearInterval(timer);\n",
       "          console.log(\"Bokeh: ERROR: Unable to run BokehJS code because BokehJS library is missing\");\n",
       "        }\n",
       "      }\n",
       "    }, 10, root)\n",
       "  }\n",
       "})(window);"
      ],
      "application/vnd.bokehjs_exec.v0+json": ""
     },
     "metadata": {
      "application/vnd.bokehjs_exec.v0+json": {
       "id": "28712"
      }
     },
     "output_type": "display_data"
    }
   ],
   "source": [
    "show(fig)"
   ]
  },
  {
   "cell_type": "markdown",
   "metadata": {},
   "source": [
    "### Lets just organize that code"
   ]
  },
  {
   "cell_type": "code",
   "execution_count": 168,
   "metadata": {},
   "outputs": [],
   "source": [
    "winter = pd.date_range(start='21/12/2019', end='20/03/2020')\n",
    "spring =pd.date_range(start='20/03/2020', end='20/06/2020')\n",
    "summer =pd.date_range(start='20/06/2020', end='22/10/2020')\n",
    "autumn = pd.date_range(start='22/10/2020', end='21/12/2020')\n",
    "\n",
    "colors = [\"blue\",\"orange\",\"red\",\"yellow\"]\n",
    "seasons = [winter,spring,summer,autumn]\n",
    "labels = [\"Winter\",\"Spring\",\"Summer\",\"Autumn\"]\n",
    "\n"
   ]
  },
  {
   "cell_type": "code",
   "execution_count": 169,
   "metadata": {},
   "outputs": [
    {
     "data": {
      "text/html": [
       "\n",
       "\n",
       "\n",
       "\n",
       "\n",
       "\n",
       "  <div class=\"bk-root\" id=\"09baae6b-8b27-44f3-a12d-62a9d319632e\" data-root-id=\"29678\"></div>\n"
      ]
     },
     "metadata": {},
     "output_type": "display_data"
    },
    {
     "data": {
      "application/javascript": [
       "(function(root) {\n",
       "  function embed_document(root) {\n",
       "    \n",
       "  var docs_json = {\"da114aee-d632-4298-beb8-c29902981750\":{\"roots\":{\"references\":[{\"attributes\":{\"below\":[{\"id\":\"29689\"}],\"center\":[{\"id\":\"29692\"},{\"id\":\"29696\"},{\"id\":\"29738\"}],\"left\":[{\"id\":\"29693\"}],\"plot_height\":500,\"renderers\":[{\"id\":\"29710\"},{\"id\":\"29715\"},{\"id\":\"29744\"},{\"id\":\"29749\"},{\"id\":\"29781\"},{\"id\":\"29786\"},{\"id\":\"29822\"},{\"id\":\"29827\"}],\"title\":{\"id\":\"29679\"},\"toolbar\":{\"id\":\"29701\"},\"x_range\":{\"id\":\"29681\"},\"x_scale\":{\"id\":\"29685\"},\"y_range\":{\"id\":\"29683\"},\"y_scale\":{\"id\":\"29687\"}},\"id\":\"29678\",\"subtype\":\"Figure\",\"type\":\"Plot\"},{\"attributes\":{\"days\":[1,15]},\"id\":\"29728\",\"type\":\"DaysTicker\"},{\"attributes\":{\"data\":{\"lower\":{\"__ndarray__\":\"AAAAAAAAAAAAAAAAAAAAAAAAAAAAAAAAAAAAAAAAAAAAAAAAAAAAADzLBjv/F96/Kknfdfg8+T+gA+aU2i8yQOg//Ok9oWBA\",\"dtype\":\"float64\",\"order\":\"little\",\"shape\":[9]},\"upper\":{\"__ndarray__\":\"AAAAAAAAAAAAAAAAAAAAAAAAAAAAAAAAAAAAAAAAAAAAAAAAAAAAABhF5heSqvA/bTuNg4UhI0A9yFh/UoZYQOiWb+YX3XlA\",\"dtype\":\"float64\",\"order\":\"little\",\"shape\":[9]},\"x\":{\"__ndarray__\":\"AABAx6j8dkIAAICP6f52QgAAwFcqAXdCAAAAIGsDd0IAAEDoqwV3QgAAgLDsB3dCAADAeC0Kd0IAAABBbgx3QgAAQAmvDndC\",\"dtype\":\"float64\",\"order\":\"little\",\"shape\":[9]}},\"selected\":{\"id\":\"29734\"},\"selection_policy\":{\"id\":\"29735\"}},\"id\":\"29706\",\"type\":\"ColumnDataSource\"},{\"attributes\":{\"days\":[1,2,3,4,5,6,7,8,9,10,11,12,13,14,15,16,17,18,19,20,21,22,23,24,25,26,27,28,29,30,31]},\"id\":\"29725\",\"type\":\"DaysTicker\"},{\"attributes\":{\"months\":[0,1,2,3,4,5,6,7,8,9,10,11]},\"id\":\"29729\",\"type\":\"MonthsTicker\"},{\"attributes\":{\"months\":[0,2,4,6,8,10]},\"id\":\"29730\",\"type\":\"MonthsTicker\"},{\"attributes\":{\"months\":[0,4,8]},\"id\":\"29731\",\"type\":\"MonthsTicker\"},{\"attributes\":{\"months\":[0,6]},\"id\":\"29732\",\"type\":\"MonthsTicker\"},{\"attributes\":{\"base\":24,\"mantissas\":[1,2,4,6,8,12],\"max_interval\":43200000.0,\"min_interval\":3600000.0,\"num_minor_ticks\":0},\"id\":\"29724\",\"type\":\"AdaptiveTicker\"},{\"attributes\":{},\"id\":\"29733\",\"type\":\"YearsTicker\"},{\"attributes\":{},\"id\":\"29734\",\"type\":\"Selection\"},{\"attributes\":{},\"id\":\"29735\",\"type\":\"UnionRenderers\"},{\"attributes\":{},\"id\":\"29736\",\"type\":\"Selection\"},{\"attributes\":{},\"id\":\"29737\",\"type\":\"UnionRenderers\"},{\"attributes\":{\"fill_alpha\":0.1,\"fill_color\":\"orange\",\"x\":{\"field\":\"x\"},\"y1\":{\"field\":\"upper\"},\"y2\":{\"field\":\"lower\"}},\"id\":\"29743\",\"type\":\"VArea\"},{\"attributes\":{\"fill_alpha\":0.2,\"fill_color\":\"orange\",\"x\":{\"field\":\"x\"},\"y1\":{\"field\":\"upper\"},\"y2\":{\"field\":\"lower\"}},\"id\":\"29742\",\"type\":\"VArea\"},{\"attributes\":{\"data\":{\"lower\":{\"__ndarray__\":\"97da5X5QgEBxFJ4WiByCQKPpNCcXw3RAVLrMHjFnd0Br0MYzsFhwQNDhUQPK/y7AiuT2AN1iXUDYR0Nm/GtnQFMG8eCCtmVA7IzwjYCkakDaCqxmV/JwQObdypxsqm9A2quwQjcTckA=\",\"dtype\":\"float64\",\"order\":\"little\",\"shape\":[13]},\"upper\":{\"__ndarray__\":\"5f4S9jcNjUCzNPQNwYWKQCnqe8heKJFAaMfiAoxlh0A4c9NTgxqCQFghP5mQnHlAStpOO1sRgEAouLyZA9RuQNd8h4++RHFA+JS+JptkdEACrMF0Xxt6QA2RmrHJanRAJlRPvcjMeEA=\",\"dtype\":\"float64\",\"order\":\"little\",\"shape\":[13]},\"x\":{\"__ndarray__\":\"AACA0e8Qd0IAAMCZMBN3QgAAAGJxFXdCAABAKrIXd0IAAIDy8hl3QgAAwLozHHdCAAAAg3Qed0IAAEBLtSB3QgAAgBP2IndCAADA2zYld0IAAACkdyd3QgAAQGy4KXdCAACANPkrd0I=\",\"dtype\":\"float64\",\"order\":\"little\",\"shape\":[13]}},\"selected\":{\"id\":\"29772\"},\"selection_policy\":{\"id\":\"29773\"}},\"id\":\"29740\",\"type\":\"ColumnDataSource\"},{\"attributes\":{\"items\":[{\"id\":\"29739\"},{\"id\":\"29776\"},{\"id\":\"29817\"},{\"id\":\"29862\"}]},\"id\":\"29738\",\"type\":\"Legend\"},{\"attributes\":{\"data_source\":{\"id\":\"29740\"},\"glyph\":{\"id\":\"29742\"},\"hover_glyph\":null,\"muted_glyph\":null,\"nonselection_glyph\":{\"id\":\"29743\"},\"selection_glyph\":null,\"view\":{\"id\":\"29745\"}},\"id\":\"29744\",\"type\":\"GlyphRenderer\"},{\"attributes\":{\"source\":{\"id\":\"29740\"}},\"id\":\"29745\",\"type\":\"CDSView\"},{\"attributes\":{\"data\":{\"x\":{\"__ndarray__\":\"AACA0e8Qd0IAAMCZMBN3QgAAAGJxFXdCAABAKrIXd0IAAIDy8hl3QgAAwLozHHdCAAAAg3Qed0IAAEBLtSB3QgAAgBP2IndCAADA2zYld0IAAACkdyd3QgAAQGy4KXdCAACANPkrd0I=\",\"dtype\":\"float64\",\"order\":\"little\",\"shape\":[13]},\"y\":{\"__ndarray__\":\"btu2bduuhkCSJEmSJFGGQJIkSZIkWYZASZIkSZKMgUBu27Zt20Z6QEmSJEmSpGhA27Zt27a9c0AAAAAAACBrQAAAAAAAIGxAt23btm3bcEBu27Zt24Z1QAAAAAAAIHJAAAAAAABwdUA=\",\"dtype\":\"float64\",\"order\":\"little\",\"shape\":[13]}},\"selected\":{\"id\":\"29774\"},\"selection_policy\":{\"id\":\"29775\"}},\"id\":\"29746\",\"type\":\"ColumnDataSource\"},{\"attributes\":{\"line_alpha\":0.1,\"line_color\":\"orange\",\"x\":{\"field\":\"x\"},\"y\":{\"field\":\"y\"}},\"id\":\"29748\",\"type\":\"Line\"},{\"attributes\":{\"line_color\":\"orange\",\"x\":{\"field\":\"x\"},\"y\":{\"field\":\"y\"}},\"id\":\"29747\",\"type\":\"Line\"},{\"attributes\":{\"data_source\":{\"id\":\"29746\"},\"glyph\":{\"id\":\"29747\"},\"hover_glyph\":null,\"muted_glyph\":null,\"nonselection_glyph\":{\"id\":\"29748\"},\"selection_glyph\":null,\"view\":{\"id\":\"29750\"}},\"id\":\"29749\",\"type\":\"GlyphRenderer\"},{\"attributes\":{\"source\":{\"id\":\"29746\"}},\"id\":\"29750\",\"type\":\"CDSView\"},{\"attributes\":{},\"id\":\"29773\",\"type\":\"UnionRenderers\"},{\"attributes\":{},\"id\":\"29774\",\"type\":\"Selection\"},{\"attributes\":{\"days\":[1,4,7,10,13,16,19,22,25,28]},\"id\":\"29726\",\"type\":\"DaysTicker\"},{\"attributes\":{},\"id\":\"29775\",\"type\":\"UnionRenderers\"},{\"attributes\":{\"label\":{\"value\":\"Spring cases\"},\"renderers\":[{\"id\":\"29749\"}]},\"id\":\"29776\",\"type\":\"LegendItem\"},{\"attributes\":{\"fill_alpha\":0.2,\"fill_color\":\"red\",\"x\":{\"field\":\"x\"},\"y1\":{\"field\":\"upper\"},\"y2\":{\"field\":\"lower\"}},\"id\":\"29779\",\"type\":\"VArea\"},{\"attributes\":{\"data\":{\"lower\":{\"__ndarray__\":\"6aOAMkIEcEBv7ts1DKtwQKexy7Be63BAav+E+cqmZEBtOQxHVw5iQFxsJC7Kol5AFmfJvcS8XkAWdn9IUqRhQKJazUsipmJAQzUuX7RkcEDm+Vz8fulyQFwwiDEMz35Ah1G/4+lbgEDdyJmEp3+BQMCgllKjYoNACvtQtwQtkECwhAluh5+cQAo8a3llc6NA\",\"dtype\":\"float64\",\"order\":\"little\",\"shape\":[18]},\"upper\":{\"__ndarray__\":\"8xLtqHTpekCRESTK8/R3QDUFoipYIn5AAe4YOgiodkBK43lc1PhxQBxcEjItE25Av94/6i/GbUBjIHdJsgRyQPjkPSOB0XBAvcrRoEs7eUDQc3667nF8QEDD8lRVb4VAnffSQF8WiUAjN2Z7WKCLQIrxjfbukY5ArHKK/2gml0Beq9b/qU+iQBoNJ6vjvqpA\",\"dtype\":\"float64\",\"order\":\"little\",\"shape\":[18]},\"x\":{\"__ndarray__\":\"AADA/Dkud0IAAADFejB3QgAAQI27MndCAACAVfw0d0IAAMAdPTd3QgAAAOZ9OXdCAABArr47d0IAAIB2/z13QgAAwD5AQHdCAAAAB4FCd0IAAEDPwUR3QgAAgJcCR3dCAADAX0NJd0IAAAAohEt3QgAAQPDETXdCAACAuAVQd0IAAMCARlJ3QgAAAEmHVHdC\",\"dtype\":\"float64\",\"order\":\"little\",\"shape\":[18]}},\"selected\":{\"id\":\"29813\"},\"selection_policy\":{\"id\":\"29814\"}},\"id\":\"29777\",\"type\":\"ColumnDataSource\"},{\"attributes\":{\"days\":[1,8,15,22]},\"id\":\"29727\",\"type\":\"DaysTicker\"},{\"attributes\":{\"fill_alpha\":0.1,\"fill_color\":\"red\",\"x\":{\"field\":\"x\"},\"y1\":{\"field\":\"upper\"},\"y2\":{\"field\":\"lower\"}},\"id\":\"29780\",\"type\":\"VArea\"},{\"attributes\":{\"line_color\":\"red\",\"x\":{\"field\":\"x\"},\"y\":{\"field\":\"y\"}},\"id\":\"29784\",\"type\":\"Line\"},{\"attributes\":{\"data_source\":{\"id\":\"29777\"},\"glyph\":{\"id\":\"29779\"},\"hover_glyph\":null,\"muted_glyph\":null,\"nonselection_glyph\":{\"id\":\"29780\"},\"selection_glyph\":null,\"view\":{\"id\":\"29782\"}},\"id\":\"29781\",\"type\":\"GlyphRenderer\"},{\"attributes\":{\"source\":{\"id\":\"29777\"}},\"id\":\"29782\",\"type\":\"CDSView\"},{\"attributes\":{\"data\":{\"x\":{\"__ndarray__\":\"AADA/Dkud0IAAADFejB3QgAAQI27MndCAACAVfw0d0IAAMAdPTd3QgAAAOZ9OXdCAABArr47d0IAAIB2/z13QgAAwD5AQHdCAAAAB4FCd0IAAEDPwUR3QgAAgJcCR3dCAADAX0NJd0IAAAAohEt3QgAAQPDETXdCAACAuAVQd0IAAMCARlJ3QgAAAEmHVHdC\",\"dtype\":\"float64\",\"order\":\"little\",\"shape\":[18]},\"y\":{\"__ndarray__\":\"btu2bdt2dUAAAAAAAFB0QG7btm3bhndA27Zt27Z9cEAAAAAAAABrQCVJkiRJsmZAJUmSJEmSZkBu27Zt29ZqQEmSJEmSJGpAAAAAAADQdEDbtm3btq13QLdt27Zta4JAkiRJkiS5hEAAAAAAAJCGQCVJkiRJ+ohA27Zt27apk0Dbtm3btk+gQJIkSZIkGadA\",\"dtype\":\"float64\",\"order\":\"little\",\"shape\":[18]}},\"selected\":{\"id\":\"29815\"},\"selection_policy\":{\"id\":\"29816\"}},\"id\":\"29783\",\"type\":\"ColumnDataSource\"},{\"attributes\":{\"text\":\"Portugal cases evolution\"},\"id\":\"29679\",\"type\":\"Title\"},{\"attributes\":{\"source\":{\"id\":\"29783\"}},\"id\":\"29787\",\"type\":\"CDSView\"},{\"attributes\":{},\"id\":\"29681\",\"type\":\"DataRange1d\"},{\"attributes\":{\"line_alpha\":0.1,\"line_color\":\"red\",\"x\":{\"field\":\"x\"},\"y\":{\"field\":\"y\"}},\"id\":\"29785\",\"type\":\"Line\"},{\"attributes\":{\"data_source\":{\"id\":\"29783\"},\"glyph\":{\"id\":\"29784\"},\"hover_glyph\":null,\"muted_glyph\":null,\"nonselection_glyph\":{\"id\":\"29785\"},\"selection_glyph\":null,\"view\":{\"id\":\"29787\"}},\"id\":\"29786\",\"type\":\"GlyphRenderer\"},{\"attributes\":{},\"id\":\"29683\",\"type\":\"DataRange1d\"},{\"attributes\":{},\"id\":\"29814\",\"type\":\"UnionRenderers\"},{\"attributes\":{},\"id\":\"29815\",\"type\":\"Selection\"},{\"attributes\":{},\"id\":\"29685\",\"type\":\"LinearScale\"},{\"attributes\":{},\"id\":\"29687\",\"type\":\"LinearScale\"},{\"attributes\":{},\"id\":\"29816\",\"type\":\"UnionRenderers\"},{\"attributes\":{\"formatter\":{\"id\":\"29720\"},\"ticker\":{\"id\":\"29690\"}},\"id\":\"29689\",\"type\":\"DatetimeAxis\"},{\"attributes\":{\"label\":{\"value\":\"Summer cases\"},\"renderers\":[{\"id\":\"29786\"}]},\"id\":\"29817\",\"type\":\"LegendItem\"},{\"attributes\":{\"num_minor_ticks\":5,\"tickers\":[{\"id\":\"29722\"},{\"id\":\"29723\"},{\"id\":\"29724\"},{\"id\":\"29725\"},{\"id\":\"29726\"},{\"id\":\"29727\"},{\"id\":\"29728\"},{\"id\":\"29729\"},{\"id\":\"29730\"},{\"id\":\"29731\"},{\"id\":\"29732\"},{\"id\":\"29733\"}]},\"id\":\"29690\",\"type\":\"DatetimeTicker\"},{\"attributes\":{\"axis\":{\"id\":\"29689\"},\"ticker\":null},\"id\":\"29692\",\"type\":\"Grid\"},{\"attributes\":{\"fill_alpha\":0.1,\"fill_color\":\"yellow\",\"x\":{\"field\":\"x\"},\"y1\":{\"field\":\"upper\"},\"y2\":{\"field\":\"lower\"}},\"id\":\"29821\",\"type\":\"VArea\"},{\"attributes\":{\"formatter\":{\"id\":\"29718\"},\"ticker\":{\"id\":\"29694\"}},\"id\":\"29693\",\"type\":\"LinearAxis\"},{\"attributes\":{\"fill_alpha\":0.2,\"fill_color\":\"yellow\",\"x\":{\"field\":\"x\"},\"y1\":{\"field\":\"upper\"},\"y2\":{\"field\":\"lower\"}},\"id\":\"29820\",\"type\":\"VArea\"},{\"attributes\":{\"data\":{\"lower\":{\"__ndarray__\":\"yr3Gfw1PpUAOAPyMpHavQBmjgulYirRA\",\"dtype\":\"float64\",\"order\":\"little\",\"shape\":[3]},\"upper\":{\"__ndarray__\":\"G6EcQHlCsUAdSRTe9nK6QJEHKMFRgb1A\",\"dtype\":\"float64\",\"order\":\"little\",\"shape\":[3]},\"x\":{\"__ndarray__\":\"AABAEchWd0IAAIDZCFl3QgAAwKFJW3dC\",\"dtype\":\"float64\",\"order\":\"little\",\"shape\":[3]}},\"selected\":{\"id\":\"29858\"},\"selection_policy\":{\"id\":\"29859\"}},\"id\":\"29818\",\"type\":\"ColumnDataSource\"},{\"attributes\":{\"label\":{\"value\":\"Winter cases\"},\"renderers\":[{\"id\":\"29715\"}]},\"id\":\"29739\",\"type\":\"LegendItem\"},{\"attributes\":{},\"id\":\"29772\",\"type\":\"Selection\"},{\"attributes\":{},\"id\":\"29813\",\"type\":\"Selection\"},{\"attributes\":{},\"id\":\"29694\",\"type\":\"BasicTicker\"},{\"attributes\":{\"axis\":{\"id\":\"29693\"},\"dimension\":1,\"ticker\":null},\"id\":\"29696\",\"type\":\"Grid\"},{\"attributes\":{\"data_source\":{\"id\":\"29712\"},\"glyph\":{\"id\":\"29713\"},\"hover_glyph\":null,\"muted_glyph\":null,\"nonselection_glyph\":{\"id\":\"29714\"},\"selection_glyph\":null,\"view\":{\"id\":\"29716\"}},\"id\":\"29715\",\"type\":\"GlyphRenderer\"},{\"attributes\":{\"data_source\":{\"id\":\"29818\"},\"glyph\":{\"id\":\"29820\"},\"hover_glyph\":null,\"muted_glyph\":null,\"nonselection_glyph\":{\"id\":\"29821\"},\"selection_glyph\":null,\"view\":{\"id\":\"29823\"}},\"id\":\"29822\",\"type\":\"GlyphRenderer\"},{\"attributes\":{\"source\":{\"id\":\"29818\"}},\"id\":\"29823\",\"type\":\"CDSView\"},{\"attributes\":{\"callback\":null,\"tooltips\":\"value: @y\"},\"id\":\"29697\",\"type\":\"HoverTool\"},{\"attributes\":{\"data\":{\"x\":{\"__ndarray__\":\"AABAEchWd0IAAIDZCFl3QgAAwKFJW3dC\",\"dtype\":\"float64\",\"order\":\"little\",\"shape\":[3]},\"y\":{\"__ndarray__\":\"AAAAAADqq0CSJEmSJBe1QFVVVVXVBblA\",\"dtype\":\"float64\",\"order\":\"little\",\"shape\":[3]}},\"selected\":{\"id\":\"29860\"},\"selection_policy\":{\"id\":\"29861\"}},\"id\":\"29824\",\"type\":\"ColumnDataSource\"},{\"attributes\":{},\"id\":\"29698\",\"type\":\"PanTool\"},{\"attributes\":{},\"id\":\"29858\",\"type\":\"Selection\"},{\"attributes\":{\"dimensions\":\"width\"},\"id\":\"29699\",\"type\":\"WheelZoomTool\"},{\"attributes\":{\"line_alpha\":0.1,\"line_color\":\"yellow\",\"x\":{\"field\":\"x\"},\"y\":{\"field\":\"y\"}},\"id\":\"29826\",\"type\":\"Line\"},{\"attributes\":{\"line_color\":\"yellow\",\"x\":{\"field\":\"x\"},\"y\":{\"field\":\"y\"}},\"id\":\"29825\",\"type\":\"Line\"},{\"attributes\":{\"data_source\":{\"id\":\"29824\"},\"glyph\":{\"id\":\"29825\"},\"hover_glyph\":null,\"muted_glyph\":null,\"nonselection_glyph\":{\"id\":\"29826\"},\"selection_glyph\":null,\"view\":{\"id\":\"29828\"}},\"id\":\"29827\",\"type\":\"GlyphRenderer\"},{\"attributes\":{},\"id\":\"29700\",\"type\":\"ResetTool\"},{\"attributes\":{\"source\":{\"id\":\"29712\"}},\"id\":\"29716\",\"type\":\"CDSView\"},{\"attributes\":{\"source\":{\"id\":\"29824\"}},\"id\":\"29828\",\"type\":\"CDSView\"},{\"attributes\":{\"active_drag\":\"auto\",\"active_inspect\":\"auto\",\"active_multi\":null,\"active_scroll\":\"auto\",\"active_tap\":\"auto\",\"tools\":[{\"id\":\"29697\"},{\"id\":\"29698\"},{\"id\":\"29699\"},{\"id\":\"29700\"}]},\"id\":\"29701\",\"type\":\"Toolbar\"},{\"attributes\":{\"fill_alpha\":0.2,\"fill_color\":\"blue\",\"x\":{\"field\":\"x\"},\"y1\":{\"field\":\"upper\"},\"y2\":{\"field\":\"lower\"}},\"id\":\"29708\",\"type\":\"VArea\"},{\"attributes\":{\"fill_alpha\":0.1,\"fill_color\":\"blue\",\"x\":{\"field\":\"x\"},\"y1\":{\"field\":\"upper\"},\"y2\":{\"field\":\"lower\"}},\"id\":\"29709\",\"type\":\"VArea\"},{\"attributes\":{},\"id\":\"29859\",\"type\":\"UnionRenderers\"},{\"attributes\":{},\"id\":\"29860\",\"type\":\"Selection\"},{\"attributes\":{\"mantissas\":[1,2,5],\"max_interval\":500.0,\"num_minor_ticks\":0},\"id\":\"29722\",\"type\":\"AdaptiveTicker\"},{\"attributes\":{},\"id\":\"29861\",\"type\":\"UnionRenderers\"},{\"attributes\":{},\"id\":\"29720\",\"type\":\"DatetimeTickFormatter\"},{\"attributes\":{\"label\":{\"value\":\"Autumn cases\"},\"renderers\":[{\"id\":\"29827\"}]},\"id\":\"29862\",\"type\":\"LegendItem\"},{\"attributes\":{\"base\":60,\"mantissas\":[1,2,5,10,15,20,30],\"max_interval\":1800000.0,\"min_interval\":1000.0,\"num_minor_ticks\":0},\"id\":\"29723\",\"type\":\"AdaptiveTicker\"},{\"attributes\":{\"data_source\":{\"id\":\"29706\"},\"glyph\":{\"id\":\"29708\"},\"hover_glyph\":null,\"muted_glyph\":null,\"nonselection_glyph\":{\"id\":\"29709\"},\"selection_glyph\":null,\"view\":{\"id\":\"29711\"}},\"id\":\"29710\",\"type\":\"GlyphRenderer\"},{\"attributes\":{\"source\":{\"id\":\"29706\"}},\"id\":\"29711\",\"type\":\"CDSView\"},{\"attributes\":{\"data\":{\"x\":{\"__ndarray__\":\"AABAx6j8dkIAAICP6f52QgAAwFcqAXdCAAAAIGsDd0IAAEDoqwV3QgAAgLDsB3dCAADAeC0Kd0IAAABBbgx3QgAAQAmvDndC\",\"dtype\":\"float64\",\"order\":\"little\",\"shape\":[9]},\"y\":{\"__ndarray__\":\"AAAAAAAAAAAAAAAAAAAAAAAAAAAAAAAAAAAAAAAAAAAAAAAAAAAAAJIkSZIkSdI/kiRJkiRJFkAlSZIkSRJNQG7btm3bFnFA\",\"dtype\":\"float64\",\"order\":\"little\",\"shape\":[9]}},\"selected\":{\"id\":\"29736\"},\"selection_policy\":{\"id\":\"29737\"}},\"id\":\"29712\",\"type\":\"ColumnDataSource\"},{\"attributes\":{},\"id\":\"29718\",\"type\":\"BasicTickFormatter\"},{\"attributes\":{\"line_alpha\":0.1,\"line_color\":\"blue\",\"x\":{\"field\":\"x\"},\"y\":{\"field\":\"y\"}},\"id\":\"29714\",\"type\":\"Line\"},{\"attributes\":{\"line_color\":\"blue\",\"x\":{\"field\":\"x\"},\"y\":{\"field\":\"y\"}},\"id\":\"29713\",\"type\":\"Line\"}],\"root_ids\":[\"29678\"]},\"title\":\"Bokeh Application\",\"version\":\"2.2.3\"}};\n",
       "  var render_items = [{\"docid\":\"da114aee-d632-4298-beb8-c29902981750\",\"root_ids\":[\"29678\"],\"roots\":{\"29678\":\"09baae6b-8b27-44f3-a12d-62a9d319632e\"}}];\n",
       "  root.Bokeh.embed.embed_items_notebook(docs_json, render_items);\n",
       "\n",
       "  }\n",
       "  if (root.Bokeh !== undefined) {\n",
       "    embed_document(root);\n",
       "  } else {\n",
       "    var attempts = 0;\n",
       "    var timer = setInterval(function(root) {\n",
       "      if (root.Bokeh !== undefined) {\n",
       "        clearInterval(timer);\n",
       "        embed_document(root);\n",
       "      } else {\n",
       "        attempts++;\n",
       "        if (attempts > 100) {\n",
       "          clearInterval(timer);\n",
       "          console.log(\"Bokeh: ERROR: Unable to run BokehJS code because BokehJS library is missing\");\n",
       "        }\n",
       "      }\n",
       "    }, 10, root)\n",
       "  }\n",
       "})(window);"
      ],
      "application/vnd.bokehjs_exec.v0+json": ""
     },
     "metadata": {
      "application/vnd.bokehjs_exec.v0+json": {
       "id": "29678"
      }
     },
     "output_type": "display_data"
    }
   ],
   "source": [
    "fig = figure(width= 600,height=500,tools=\"hover,pan,xwheel_zoom,reset\",title=\"{} cases evolution\".format(country),x_axis_type=\"datetime\",tooltips=\"value: @y\")\n",
    "\n",
    "for i in range(4):\n",
    "    mask = selected_country.index.isin(seasons[i])\n",
    "\n",
    "    season = selected_country[mask]\n",
    "    x = season.index\n",
    "    y = season[\"confirmed_cases\"][\"mean\"]\n",
    "    source = {\n",
    "        \"x\":x,\n",
    "        \"upper\":y + season[\"confirmed_cases\"][\"std\"],\n",
    "        \"lower\":y - season[\"confirmed_cases\"][\"std\"],\n",
    "    }\n",
    "    fig.varea(x=\"x\",y1= \"upper\", y2= \"lower\",color=colors[i],fill_alpha=0.2,source=source)\n",
    "    fig.line(x = x,y = y,legend_label=\"{} cases\".format(labels[i]),color=colors[i])\n",
    "\n",
    "\n",
    "show(fig)"
   ]
  },
  {
   "cell_type": "markdown",
   "metadata": {},
   "source": [
    "## The line should be continuous, right? How could we do this?\n",
    "* Change data\n",
    "* Add data\n"
   ]
  },
  {
   "cell_type": "code",
   "execution_count": 178,
   "metadata": {},
   "outputs": [],
   "source": [
    "winter = pd.date_range(start='21/12/2019', end='20/03/2020')\n",
    "spring =pd.date_range(start='20/03/2020', end='20/06/2020')\n",
    "summer =pd.date_range(start='20/06/2020', end='22/10/2020')\n",
    "autumn = pd.date_range(start='22/10/2020', end='21/12/2020')\n",
    "\n",
    "\n",
    "colors = [\"blue\",\"orange\",\"red\",\"yellow\"]\n",
    "seasons = [winter,spring,summer,autumn]\n",
    "labels = [\"Winter\",\"Spring\",\"Summer\",\"Autumn\"]\n",
    "\n"
   ]
  },
  {
   "cell_type": "code",
   "execution_count": 179,
   "metadata": {},
   "outputs": [
    {
     "data": {
      "text/html": [
       "\n",
       "\n",
       "\n",
       "\n",
       "\n",
       "\n",
       "  <div class=\"bk-root\" id=\"5c16414f-6223-4bc0-a026-9039d1854323\" data-root-id=\"31669\"></div>\n"
      ]
     },
     "metadata": {},
     "output_type": "display_data"
    },
    {
     "data": {
      "application/javascript": [
       "(function(root) {\n",
       "  function embed_document(root) {\n",
       "    \n",
       "  var docs_json = {\"caadb9cf-ef6a-406b-bacc-a2b89490d6b3\":{\"roots\":{\"references\":[{\"attributes\":{\"below\":[{\"id\":\"31680\"}],\"center\":[{\"id\":\"31683\"},{\"id\":\"31687\"},{\"id\":\"31729\"}],\"left\":[{\"id\":\"31684\"}],\"plot_height\":500,\"renderers\":[{\"id\":\"31701\"},{\"id\":\"31706\"},{\"id\":\"31735\"},{\"id\":\"31740\"},{\"id\":\"31772\"},{\"id\":\"31777\"},{\"id\":\"31813\"},{\"id\":\"31818\"}],\"title\":{\"id\":\"31670\"},\"toolbar\":{\"id\":\"31692\"},\"x_range\":{\"id\":\"31672\"},\"x_scale\":{\"id\":\"31676\"},\"y_range\":{\"id\":\"31674\"},\"y_scale\":{\"id\":\"31678\"}},\"id\":\"31669\",\"subtype\":\"Figure\",\"type\":\"Plot\"},{\"attributes\":{\"days\":[1,15]},\"id\":\"31719\",\"type\":\"DaysTicker\"},{\"attributes\":{\"label\":{\"value\":\"Summer cases\"},\"renderers\":[{\"id\":\"31777\"}]},\"id\":\"31808\",\"type\":\"LegendItem\"},{\"attributes\":{},\"id\":\"31852\",\"type\":\"UnionRenderers\"},{\"attributes\":{\"fill_alpha\":0.1,\"fill_color\":\"yellow\",\"x\":{\"field\":\"x\"},\"y1\":{\"field\":\"upper\"},\"y2\":{\"field\":\"lower\"}},\"id\":\"31812\",\"type\":\"VArea\"},{\"attributes\":{\"days\":[1,2,3,4,5,6,7,8,9,10,11,12,13,14,15,16,17,18,19,20,21,22,23,24,25,26,27,28,29,30,31]},\"id\":\"31716\",\"type\":\"DaysTicker\"},{\"attributes\":{\"fill_alpha\":0.2,\"fill_color\":\"yellow\",\"x\":{\"field\":\"x\"},\"y1\":{\"field\":\"upper\"},\"y2\":{\"field\":\"lower\"}},\"id\":\"31811\",\"type\":\"VArea\"},{\"attributes\":{\"data\":{\"lower\":{\"__ndarray__\":\"yr3Gfw1PpUAOAPyMpHavQBmjgulYirRA\",\"dtype\":\"float64\",\"order\":\"little\",\"shape\":[3]},\"upper\":{\"__ndarray__\":\"G6EcQHlCsUAdSRTe9nK6QJEHKMFRgb1A\",\"dtype\":\"float64\",\"order\":\"little\",\"shape\":[3]},\"x\":{\"__ndarray__\":\"AABAEchWd0IAAIDZCFl3QgAAwKFJW3dC\",\"dtype\":\"float64\",\"order\":\"little\",\"shape\":[3]}},\"selected\":{\"id\":\"31849\"},\"selection_policy\":{\"id\":\"31850\"}},\"id\":\"31809\",\"type\":\"ColumnDataSource\"},{\"attributes\":{\"days\":[1,8,15,22]},\"id\":\"31718\",\"type\":\"DaysTicker\"},{\"attributes\":{\"base\":60,\"mantissas\":[1,2,5,10,15,20,30],\"max_interval\":1800000.0,\"min_interval\":1000.0,\"num_minor_ticks\":0},\"id\":\"31714\",\"type\":\"AdaptiveTicker\"},{\"attributes\":{\"base\":24,\"mantissas\":[1,2,4,6,8,12],\"max_interval\":43200000.0,\"min_interval\":3600000.0,\"num_minor_ticks\":0},\"id\":\"31715\",\"type\":\"AdaptiveTicker\"},{\"attributes\":{\"days\":[1,4,7,10,13,16,19,22,25,28]},\"id\":\"31717\",\"type\":\"DaysTicker\"},{\"attributes\":{\"data_source\":{\"id\":\"31809\"},\"glyph\":{\"id\":\"31811\"},\"hover_glyph\":null,\"muted_glyph\":null,\"nonselection_glyph\":{\"id\":\"31812\"},\"selection_glyph\":null,\"view\":{\"id\":\"31814\"}},\"id\":\"31813\",\"type\":\"GlyphRenderer\"},{\"attributes\":{\"source\":{\"id\":\"31809\"}},\"id\":\"31814\",\"type\":\"CDSView\"},{\"attributes\":{\"data\":{\"x\":{\"__ndarray__\":\"AABAEchWd0IAAIDZCFl3QgAAwKFJW3dC\",\"dtype\":\"float64\",\"order\":\"little\",\"shape\":[3]},\"y\":{\"__ndarray__\":\"AAAAAADqq0CSJEmSJBe1QFVVVVXVBblA\",\"dtype\":\"float64\",\"order\":\"little\",\"shape\":[3]}},\"selected\":{\"id\":\"31851\"},\"selection_policy\":{\"id\":\"31852\"}},\"id\":\"31815\",\"type\":\"ColumnDataSource\"},{\"attributes\":{\"line_alpha\":0.1,\"line_color\":\"yellow\",\"x\":{\"field\":\"x\"},\"y\":{\"field\":\"y\"}},\"id\":\"31817\",\"type\":\"Line\"},{\"attributes\":{\"line_color\":\"yellow\",\"x\":{\"field\":\"x\"},\"y\":{\"field\":\"y\"}},\"id\":\"31816\",\"type\":\"Line\"},{\"attributes\":{\"data_source\":{\"id\":\"31815\"},\"glyph\":{\"id\":\"31816\"},\"hover_glyph\":null,\"muted_glyph\":null,\"nonselection_glyph\":{\"id\":\"31817\"},\"selection_glyph\":null,\"view\":{\"id\":\"31819\"}},\"id\":\"31818\",\"type\":\"GlyphRenderer\"},{\"attributes\":{\"source\":{\"id\":\"31815\"}},\"id\":\"31819\",\"type\":\"CDSView\"},{\"attributes\":{\"label\":{\"value\":\"Autumn cases\"},\"renderers\":[{\"id\":\"31818\"}]},\"id\":\"31853\",\"type\":\"LegendItem\"},{\"attributes\":{\"line_color\":\"orange\",\"x\":{\"field\":\"x\"},\"y\":{\"field\":\"y\"}},\"id\":\"31738\",\"type\":\"Line\"},{\"attributes\":{\"data_source\":{\"id\":\"31697\"},\"glyph\":{\"id\":\"31699\"},\"hover_glyph\":null,\"muted_glyph\":null,\"nonselection_glyph\":{\"id\":\"31700\"},\"selection_glyph\":null,\"view\":{\"id\":\"31702\"}},\"id\":\"31701\",\"type\":\"GlyphRenderer\"},{\"attributes\":{\"fill_alpha\":0.1,\"fill_color\":\"orange\",\"x\":{\"field\":\"x\"},\"y1\":{\"field\":\"upper\"},\"y2\":{\"field\":\"lower\"}},\"id\":\"31734\",\"type\":\"VArea\"},{\"attributes\":{\"line_color\":\"blue\",\"x\":{\"field\":\"x\"},\"y\":{\"field\":\"y\"}},\"id\":\"31704\",\"type\":\"Line\"},{\"attributes\":{\"data\":{\"x\":{\"__ndarray__\":\"AABAx6j8dkIAAICP6f52QgAAwFcqAXdCAAAAIGsDd0IAAEDoqwV3QgAAgLDsB3dCAADAeC0Kd0IAAABBbgx3QgAAQAmvDndCAACA0e8Qd0I=\",\"dtype\":\"float64\",\"order\":\"little\",\"shape\":[10]},\"y\":{\"__ndarray__\":\"AAAAAAAAAAAAAAAAAAAAAAAAAAAAAAAAAAAAAAAAAAAAAAAAAAAAAJIkSZIkSdI/kiRJkiRJFkAlSZIkSRJNQG7btm3bFnFAbtu2bduuhkA=\",\"dtype\":\"float64\",\"order\":\"little\",\"shape\":[10]}},\"selected\":{\"id\":\"31727\"},\"selection_policy\":{\"id\":\"31728\"}},\"id\":\"31703\",\"type\":\"ColumnDataSource\"},{\"attributes\":{\"source\":{\"id\":\"31697\"}},\"id\":\"31702\",\"type\":\"CDSView\"},{\"attributes\":{},\"id\":\"31763\",\"type\":\"Selection\"},{\"attributes\":{\"fill_alpha\":0.2,\"fill_color\":\"orange\",\"x\":{\"field\":\"x\"},\"y1\":{\"field\":\"upper\"},\"y2\":{\"field\":\"lower\"}},\"id\":\"31733\",\"type\":\"VArea\"},{\"attributes\":{},\"id\":\"31727\",\"type\":\"Selection\"},{\"attributes\":{},\"id\":\"31728\",\"type\":\"UnionRenderers\"},{\"attributes\":{},\"id\":\"31724\",\"type\":\"YearsTicker\"},{\"attributes\":{\"items\":[{\"id\":\"31730\"},{\"id\":\"31767\"},{\"id\":\"31808\"},{\"id\":\"31853\"}]},\"id\":\"31729\",\"type\":\"Legend\"},{\"attributes\":{\"label\":{\"value\":\"Winter cases\"},\"renderers\":[{\"id\":\"31706\"}]},\"id\":\"31730\",\"type\":\"LegendItem\"},{\"attributes\":{},\"id\":\"31851\",\"type\":\"Selection\"},{\"attributes\":{},\"id\":\"31807\",\"type\":\"UnionRenderers\"},{\"attributes\":{\"data_source\":{\"id\":\"31731\"},\"glyph\":{\"id\":\"31733\"},\"hover_glyph\":null,\"muted_glyph\":null,\"nonselection_glyph\":{\"id\":\"31734\"},\"selection_glyph\":null,\"view\":{\"id\":\"31736\"}},\"id\":\"31735\",\"type\":\"GlyphRenderer\"},{\"attributes\":{\"source\":{\"id\":\"31731\"}},\"id\":\"31736\",\"type\":\"CDSView\"},{\"attributes\":{\"data\":{\"x\":{\"__ndarray__\":\"AACA0e8Qd0IAAMCZMBN3QgAAAGJxFXdCAABAKrIXd0IAAIDy8hl3QgAAwLozHHdCAAAAg3Qed0IAAEBLtSB3QgAAgBP2IndCAADA2zYld0IAAACkdyd3QgAAQGy4KXdCAACANPkrd0IAAMD8OS53Qg==\",\"dtype\":\"float64\",\"order\":\"little\",\"shape\":[14]},\"y\":{\"__ndarray__\":\"btu2bduuhkCSJEmSJFGGQJIkSZIkWYZASZIkSZKMgUBu27Zt20Z6QEmSJEmSpGhA27Zt27a9c0AAAAAAACBrQAAAAAAAIGxAt23btm3bcEBu27Zt24Z1QAAAAAAAIHJAAAAAAABwdUBu27Zt23Z1QA==\",\"dtype\":\"float64\",\"order\":\"little\",\"shape\":[14]}},\"selected\":{\"id\":\"31765\"},\"selection_policy\":{\"id\":\"31766\"}},\"id\":\"31737\",\"type\":\"ColumnDataSource\"},{\"attributes\":{\"fill_alpha\":0.1,\"fill_color\":\"blue\",\"x\":{\"field\":\"x\"},\"y1\":{\"field\":\"upper\"},\"y2\":{\"field\":\"lower\"}},\"id\":\"31700\",\"type\":\"VArea\"},{\"attributes\":{\"source\":{\"id\":\"31737\"}},\"id\":\"31741\",\"type\":\"CDSView\"},{\"attributes\":{\"line_alpha\":0.1,\"line_color\":\"orange\",\"x\":{\"field\":\"x\"},\"y\":{\"field\":\"y\"}},\"id\":\"31739\",\"type\":\"Line\"},{\"attributes\":{\"data_source\":{\"id\":\"31737\"},\"glyph\":{\"id\":\"31738\"},\"hover_glyph\":null,\"muted_glyph\":null,\"nonselection_glyph\":{\"id\":\"31739\"},\"selection_glyph\":null,\"view\":{\"id\":\"31741\"}},\"id\":\"31740\",\"type\":\"GlyphRenderer\"},{\"attributes\":{},\"id\":\"31764\",\"type\":\"UnionRenderers\"},{\"attributes\":{},\"id\":\"31765\",\"type\":\"Selection\"},{\"attributes\":{\"data\":{\"lower\":{\"__ndarray__\":\"AAAAAAAAAAAAAAAAAAAAAAAAAAAAAAAAAAAAAAAAAAAAAAAAAAAAADzLBjv/F96/Kknfdfg8+T+gA+aU2i8yQOg//Ok9oWBA97da5X5QgEA=\",\"dtype\":\"float64\",\"order\":\"little\",\"shape\":[10]},\"upper\":{\"__ndarray__\":\"AAAAAAAAAAAAAAAAAAAAAAAAAAAAAAAAAAAAAAAAAAAAAAAAAAAAABhF5heSqvA/bTuNg4UhI0A9yFh/UoZYQOiWb+YX3XlA5f4S9jcNjUA=\",\"dtype\":\"float64\",\"order\":\"little\",\"shape\":[10]},\"x\":{\"__ndarray__\":\"AABAx6j8dkIAAICP6f52QgAAwFcqAXdCAAAAIGsDd0IAAEDoqwV3QgAAgLDsB3dCAADAeC0Kd0IAAABBbgx3QgAAQAmvDndCAACA0e8Qd0I=\",\"dtype\":\"float64\",\"order\":\"little\",\"shape\":[10]}},\"selected\":{\"id\":\"31725\"},\"selection_policy\":{\"id\":\"31726\"}},\"id\":\"31697\",\"type\":\"ColumnDataSource\"},{\"attributes\":{\"data_source\":{\"id\":\"31703\"},\"glyph\":{\"id\":\"31704\"},\"hover_glyph\":null,\"muted_glyph\":null,\"nonselection_glyph\":{\"id\":\"31705\"},\"selection_glyph\":null,\"view\":{\"id\":\"31707\"}},\"id\":\"31706\",\"type\":\"GlyphRenderer\"},{\"attributes\":{},\"id\":\"31766\",\"type\":\"UnionRenderers\"},{\"attributes\":{\"label\":{\"value\":\"Spring cases\"},\"renderers\":[{\"id\":\"31740\"}]},\"id\":\"31767\",\"type\":\"LegendItem\"},{\"attributes\":{},\"id\":\"31850\",\"type\":\"UnionRenderers\"},{\"attributes\":{},\"id\":\"31711\",\"type\":\"DatetimeTickFormatter\"},{\"attributes\":{},\"id\":\"31709\",\"type\":\"BasicTickFormatter\"},{\"attributes\":{\"fill_alpha\":0.2,\"fill_color\":\"red\",\"x\":{\"field\":\"x\"},\"y1\":{\"field\":\"upper\"},\"y2\":{\"field\":\"lower\"}},\"id\":\"31770\",\"type\":\"VArea\"},{\"attributes\":{\"months\":[0,2,4,6,8,10]},\"id\":\"31721\",\"type\":\"MonthsTicker\"},{\"attributes\":{\"text\":\"Portugal cases evolution\"},\"id\":\"31670\",\"type\":\"Title\"},{\"attributes\":{\"data\":{\"lower\":{\"__ndarray__\":\"97da5X5QgEBxFJ4WiByCQKPpNCcXw3RAVLrMHjFnd0Br0MYzsFhwQNDhUQPK/y7AiuT2AN1iXUDYR0Nm/GtnQFMG8eCCtmVA7IzwjYCkakDaCqxmV/JwQObdypxsqm9A2quwQjcTckDpo4AyQgRwQA==\",\"dtype\":\"float64\",\"order\":\"little\",\"shape\":[14]},\"upper\":{\"__ndarray__\":\"5f4S9jcNjUCzNPQNwYWKQCnqe8heKJFAaMfiAoxlh0A4c9NTgxqCQFghP5mQnHlAStpOO1sRgEAouLyZA9RuQNd8h4++RHFA+JS+JptkdEACrMF0Xxt6QA2RmrHJanRAJlRPvcjMeEDzEu2odOl6QA==\",\"dtype\":\"float64\",\"order\":\"little\",\"shape\":[14]},\"x\":{\"__ndarray__\":\"AACA0e8Qd0IAAMCZMBN3QgAAAGJxFXdCAABAKrIXd0IAAIDy8hl3QgAAwLozHHdCAAAAg3Qed0IAAEBLtSB3QgAAgBP2IndCAADA2zYld0IAAACkdyd3QgAAQGy4KXdCAACANPkrd0IAAMD8OS53Qg==\",\"dtype\":\"float64\",\"order\":\"little\",\"shape\":[14]}},\"selected\":{\"id\":\"31763\"},\"selection_policy\":{\"id\":\"31764\"}},\"id\":\"31731\",\"type\":\"ColumnDataSource\"},{\"attributes\":{\"fill_alpha\":0.1,\"fill_color\":\"red\",\"x\":{\"field\":\"x\"},\"y1\":{\"field\":\"upper\"},\"y2\":{\"field\":\"lower\"}},\"id\":\"31771\",\"type\":\"VArea\"},{\"attributes\":{\"data\":{\"lower\":{\"__ndarray__\":\"6aOAMkIEcEBv7ts1DKtwQKexy7Be63BAav+E+cqmZEBtOQxHVw5iQFxsJC7Kol5AFmfJvcS8XkAWdn9IUqRhQKJazUsipmJAQzUuX7RkcEDm+Vz8fulyQFwwiDEMz35Ah1G/4+lbgEDdyJmEp3+BQMCgllKjYoNACvtQtwQtkECwhAluh5+cQAo8a3llc6NAyr3Gfw1PpUA=\",\"dtype\":\"float64\",\"order\":\"little\",\"shape\":[19]},\"upper\":{\"__ndarray__\":\"8xLtqHTpekCRESTK8/R3QDUFoipYIn5AAe4YOgiodkBK43lc1PhxQBxcEjItE25Av94/6i/GbUBjIHdJsgRyQPjkPSOB0XBAvcrRoEs7eUDQc3667nF8QEDD8lRVb4VAnffSQF8WiUAjN2Z7WKCLQIrxjfbukY5ArHKK/2gml0Beq9b/qU+iQBoNJ6vjvqpAG6EcQHlCsUA=\",\"dtype\":\"float64\",\"order\":\"little\",\"shape\":[19]},\"x\":{\"__ndarray__\":\"AADA/Dkud0IAAADFejB3QgAAQI27MndCAACAVfw0d0IAAMAdPTd3QgAAAOZ9OXdCAABArr47d0IAAIB2/z13QgAAwD5AQHdCAAAAB4FCd0IAAEDPwUR3QgAAgJcCR3dCAADAX0NJd0IAAAAohEt3QgAAQPDETXdCAACAuAVQd0IAAMCARlJ3QgAAAEmHVHdCAABAEchWd0I=\",\"dtype\":\"float64\",\"order\":\"little\",\"shape\":[19]}},\"selected\":{\"id\":\"31804\"},\"selection_policy\":{\"id\":\"31805\"}},\"id\":\"31768\",\"type\":\"ColumnDataSource\"},{\"attributes\":{},\"id\":\"31672\",\"type\":\"DataRange1d\"},{\"attributes\":{},\"id\":\"31691\",\"type\":\"ResetTool\"},{\"attributes\":{},\"id\":\"31674\",\"type\":\"DataRange1d\"},{\"attributes\":{\"dimensions\":\"width\"},\"id\":\"31690\",\"type\":\"WheelZoomTool\"},{\"attributes\":{\"fill_alpha\":0.2,\"fill_color\":\"blue\",\"x\":{\"field\":\"x\"},\"y1\":{\"field\":\"upper\"},\"y2\":{\"field\":\"lower\"}},\"id\":\"31699\",\"type\":\"VArea\"},{\"attributes\":{\"source\":{\"id\":\"31703\"}},\"id\":\"31707\",\"type\":\"CDSView\"},{\"attributes\":{},\"id\":\"31676\",\"type\":\"LinearScale\"},{\"attributes\":{},\"id\":\"31678\",\"type\":\"LinearScale\"},{\"attributes\":{},\"id\":\"31849\",\"type\":\"Selection\"},{\"attributes\":{\"data_source\":{\"id\":\"31768\"},\"glyph\":{\"id\":\"31770\"},\"hover_glyph\":null,\"muted_glyph\":null,\"nonselection_glyph\":{\"id\":\"31771\"},\"selection_glyph\":null,\"view\":{\"id\":\"31773\"}},\"id\":\"31772\",\"type\":\"GlyphRenderer\"},{\"attributes\":{\"formatter\":{\"id\":\"31711\"},\"ticker\":{\"id\":\"31681\"}},\"id\":\"31680\",\"type\":\"DatetimeAxis\"},{\"attributes\":{\"source\":{\"id\":\"31768\"}},\"id\":\"31773\",\"type\":\"CDSView\"},{\"attributes\":{\"num_minor_ticks\":5,\"tickers\":[{\"id\":\"31713\"},{\"id\":\"31714\"},{\"id\":\"31715\"},{\"id\":\"31716\"},{\"id\":\"31717\"},{\"id\":\"31718\"},{\"id\":\"31719\"},{\"id\":\"31720\"},{\"id\":\"31721\"},{\"id\":\"31722\"},{\"id\":\"31723\"},{\"id\":\"31724\"}]},\"id\":\"31681\",\"type\":\"DatetimeTicker\"},{\"attributes\":{\"axis\":{\"id\":\"31680\"},\"ticker\":null},\"id\":\"31683\",\"type\":\"Grid\"},{\"attributes\":{\"line_alpha\":0.1,\"line_color\":\"blue\",\"x\":{\"field\":\"x\"},\"y\":{\"field\":\"y\"}},\"id\":\"31705\",\"type\":\"Line\"},{\"attributes\":{\"data\":{\"x\":{\"__ndarray__\":\"AADA/Dkud0IAAADFejB3QgAAQI27MndCAACAVfw0d0IAAMAdPTd3QgAAAOZ9OXdCAABArr47d0IAAIB2/z13QgAAwD5AQHdCAAAAB4FCd0IAAEDPwUR3QgAAgJcCR3dCAADAX0NJd0IAAAAohEt3QgAAQPDETXdCAACAuAVQd0IAAMCARlJ3QgAAAEmHVHdCAABAEchWd0I=\",\"dtype\":\"float64\",\"order\":\"little\",\"shape\":[19]},\"y\":{\"__ndarray__\":\"btu2bdt2dUAAAAAAAFB0QG7btm3bhndA27Zt27Z9cEAAAAAAAABrQCVJkiRJsmZAJUmSJEmSZkBu27Zt29ZqQEmSJEmSJGpAAAAAAADQdEDbtm3btq13QLdt27Zta4JAkiRJkiS5hEAAAAAAAJCGQCVJkiRJ+ohA27Zt27apk0Dbtm3btk+gQJIkSZIkGadAAAAAAADqq0A=\",\"dtype\":\"float64\",\"order\":\"little\",\"shape\":[19]}},\"selected\":{\"id\":\"31806\"},\"selection_policy\":{\"id\":\"31807\"}},\"id\":\"31774\",\"type\":\"ColumnDataSource\"},{\"attributes\":{\"mantissas\":[1,2,5],\"max_interval\":500.0,\"num_minor_ticks\":0},\"id\":\"31713\",\"type\":\"AdaptiveTicker\"},{\"attributes\":{\"line_alpha\":0.1,\"line_color\":\"red\",\"x\":{\"field\":\"x\"},\"y\":{\"field\":\"y\"}},\"id\":\"31776\",\"type\":\"Line\"},{\"attributes\":{\"line_color\":\"red\",\"x\":{\"field\":\"x\"},\"y\":{\"field\":\"y\"}},\"id\":\"31775\",\"type\":\"Line\"},{\"attributes\":{\"months\":[0,1,2,3,4,5,6,7,8,9,10,11]},\"id\":\"31720\",\"type\":\"MonthsTicker\"},{\"attributes\":{\"data_source\":{\"id\":\"31774\"},\"glyph\":{\"id\":\"31775\"},\"hover_glyph\":null,\"muted_glyph\":null,\"nonselection_glyph\":{\"id\":\"31776\"},\"selection_glyph\":null,\"view\":{\"id\":\"31778\"}},\"id\":\"31777\",\"type\":\"GlyphRenderer\"},{\"attributes\":{},\"id\":\"31725\",\"type\":\"Selection\"},{\"attributes\":{},\"id\":\"31804\",\"type\":\"Selection\"},{\"attributes\":{\"formatter\":{\"id\":\"31709\"},\"ticker\":{\"id\":\"31685\"}},\"id\":\"31684\",\"type\":\"LinearAxis\"},{\"attributes\":{\"source\":{\"id\":\"31774\"}},\"id\":\"31778\",\"type\":\"CDSView\"},{\"attributes\":{},\"id\":\"31685\",\"type\":\"BasicTicker\"},{\"attributes\":{\"axis\":{\"id\":\"31684\"},\"dimension\":1,\"ticker\":null},\"id\":\"31687\",\"type\":\"Grid\"},{\"attributes\":{\"months\":[0,4,8]},\"id\":\"31722\",\"type\":\"MonthsTicker\"},{\"attributes\":{\"active_drag\":\"auto\",\"active_inspect\":\"auto\",\"active_multi\":null,\"active_scroll\":\"auto\",\"active_tap\":\"auto\",\"tools\":[{\"id\":\"31688\"},{\"id\":\"31689\"},{\"id\":\"31690\"},{\"id\":\"31691\"}]},\"id\":\"31692\",\"type\":\"Toolbar\"},{\"attributes\":{\"callback\":null,\"tooltips\":\"value: @y\"},\"id\":\"31688\",\"type\":\"HoverTool\"},{\"attributes\":{\"months\":[0,6]},\"id\":\"31723\",\"type\":\"MonthsTicker\"},{\"attributes\":{},\"id\":\"31805\",\"type\":\"UnionRenderers\"},{\"attributes\":{},\"id\":\"31806\",\"type\":\"Selection\"},{\"attributes\":{},\"id\":\"31689\",\"type\":\"PanTool\"},{\"attributes\":{},\"id\":\"31726\",\"type\":\"UnionRenderers\"}],\"root_ids\":[\"31669\"]},\"title\":\"Bokeh Application\",\"version\":\"2.2.3\"}};\n",
       "  var render_items = [{\"docid\":\"caadb9cf-ef6a-406b-bacc-a2b89490d6b3\",\"root_ids\":[\"31669\"],\"roots\":{\"31669\":\"5c16414f-6223-4bc0-a026-9039d1854323\"}}];\n",
       "  root.Bokeh.embed.embed_items_notebook(docs_json, render_items);\n",
       "\n",
       "  }\n",
       "  if (root.Bokeh !== undefined) {\n",
       "    embed_document(root);\n",
       "  } else {\n",
       "    var attempts = 0;\n",
       "    var timer = setInterval(function(root) {\n",
       "      if (root.Bokeh !== undefined) {\n",
       "        clearInterval(timer);\n",
       "        embed_document(root);\n",
       "      } else {\n",
       "        attempts++;\n",
       "        if (attempts > 100) {\n",
       "          clearInterval(timer);\n",
       "          console.log(\"Bokeh: ERROR: Unable to run BokehJS code because BokehJS library is missing\");\n",
       "        }\n",
       "      }\n",
       "    }, 10, root)\n",
       "  }\n",
       "})(window);"
      ],
      "application/vnd.bokehjs_exec.v0+json": ""
     },
     "metadata": {
      "application/vnd.bokehjs_exec.v0+json": {
       "id": "31669"
      }
     },
     "output_type": "display_data"
    }
   ],
   "source": [
    "fig = figure(width= 600,height=500,tools=\"hover,pan,xwheel_zoom,reset\",title=\"{} cases evolution\".format(country),x_axis_type=\"datetime\",tooltips=\"value: @y\")\n",
    "\n",
    "for i in range(4):\n",
    "    mask = selected_country.index.isin(seasons[i])\n",
    "\n",
    "    season = selected_country[mask]\n",
    "    x = season.index\n",
    "    y = season[\"confirmed_cases\"][\"mean\"]\n",
    "    source = {\n",
    "        \"x\":x,\n",
    "        \"upper\":y + season[\"confirmed_cases\"][\"std\"],\n",
    "        \"lower\":y - season[\"confirmed_cases\"][\"std\"],\n",
    "    }\n",
    "    fig.varea(x=\"x\",y1= \"upper\", y2= \"lower\",color=colors[i],fill_alpha=0.2,source=source)\n",
    "    fig.line(x = x,y = y,legend_label=\"{} cases\".format(labels[i]),color=colors[i])\n",
    "\n",
    "\n",
    "show(fig)"
   ]
  },
  {
   "cell_type": "markdown",
   "metadata": {},
   "source": [
    "#### Uhm, since now we have 4 groups, 4 categories, what type of plots can we explore ?"
   ]
  },
  {
   "cell_type": "code",
   "execution_count": 139,
   "metadata": {},
   "outputs": [],
   "source": [
    "country = \"Portugal\"\n",
    "mask = df[\"Country\"] ==country\n",
    "selected_country = df[mask]\n",
    "#No need to resample at this point."
   ]
  },
  {
   "cell_type": "code",
   "execution_count": 140,
   "metadata": {},
   "outputs": [],
   "source": [
    "cases = []\n",
    "deaths = []\n",
    "for i in seasons:\n",
    "    mask = selected_country.index.isin(i)\n",
    "\n",
    "    season = selected_country[mask]\n",
    "    cases.append(season[\"confirmed_cases\"].sum())\n",
    "    deaths.append(season[\"deaths\"].sum())"
   ]
  },
  {
   "cell_type": "code",
   "execution_count": 141,
   "metadata": {},
   "outputs": [
    {
     "data": {
      "text/html": [
       "\n",
       "\n",
       "\n",
       "\n",
       "\n",
       "\n",
       "  <div class=\"bk-root\" id=\"1b46b5e6-0c84-424e-83d1-f93e570ce13e\" data-root-id=\"24883\"></div>\n"
      ]
     },
     "metadata": {},
     "output_type": "display_data"
    },
    {
     "data": {
      "application/javascript": [
       "(function(root) {\n",
       "  function embed_document(root) {\n",
       "    \n",
       "  var docs_json = {\"8b8460de-dcef-4d0b-9059-8176abfe8e8e\":{\"roots\":{\"references\":[{\"attributes\":{\"below\":[{\"id\":\"24894\"}],\"center\":[{\"id\":\"24896\"},{\"id\":\"24900\"},{\"id\":\"24916\"}],\"left\":[{\"id\":\"24897\"}],\"plot_height\":450,\"renderers\":[{\"id\":\"24907\"}],\"title\":{\"id\":\"24884\"},\"toolbar\":{\"id\":\"24902\"},\"toolbar_location\":null,\"x_range\":{\"id\":\"24886\"},\"x_scale\":{\"id\":\"24890\"},\"y_range\":{\"id\":\"24888\"},\"y_scale\":{\"id\":\"24892\"}},\"id\":\"24883\",\"subtype\":\"Figure\",\"type\":\"Plot\"},{\"attributes\":{},\"id\":\"24915\",\"type\":\"UnionRenderers\"},{\"attributes\":{\"formatter\":{\"id\":\"24912\"},\"ticker\":{\"id\":\"24895\"}},\"id\":\"24894\",\"type\":\"CategoricalAxis\"},{\"attributes\":{},\"id\":\"24895\",\"type\":\"CategoricalTicker\"},{\"attributes\":{\"items\":[{\"id\":\"24917\"}]},\"id\":\"24916\",\"type\":\"Legend\"},{\"attributes\":{\"start\":0},\"id\":\"24888\",\"type\":\"DataRange1d\"},{\"attributes\":{\"data\":{\"cases\":[1020.0,38056.0,71077.0,119401.0],\"color\":[\"blue\",\"orange\",\"red\",\"yellow\"],\"deaths\":[6.0,1525.0,718.0,1243.0],\"seasons\":[\"Winter\",\"Spring\",\"Summer\",\"Autumn\"]},\"selected\":{\"id\":\"24914\"},\"selection_policy\":{\"id\":\"24915\"}},\"id\":\"24882\",\"type\":\"ColumnDataSource\"},{\"attributes\":{\"axis\":{\"id\":\"24894\"},\"grid_line_color\":null,\"ticker\":null},\"id\":\"24896\",\"type\":\"Grid\"},{\"attributes\":{\"label\":{\"field\":\"seasons\"},\"renderers\":[{\"id\":\"24907\"}]},\"id\":\"24917\",\"type\":\"LegendItem\"},{\"attributes\":{\"formatter\":{\"id\":\"24910\"},\"ticker\":{\"id\":\"24898\"}},\"id\":\"24897\",\"type\":\"LinearAxis\"},{\"attributes\":{\"text\":\"Cases by season\"},\"id\":\"24884\",\"type\":\"Title\"},{\"attributes\":{},\"id\":\"24898\",\"type\":\"BasicTicker\"},{\"attributes\":{\"factors\":[\"Winter\",\"Spring\",\"Summer\",\"Autumn\"]},\"id\":\"24886\",\"type\":\"FactorRange\"},{\"attributes\":{\"axis\":{\"id\":\"24897\"},\"dimension\":1,\"ticker\":null},\"id\":\"24900\",\"type\":\"Grid\"},{\"attributes\":{\"callback\":null,\"tooltips\":\"@deaths| @cases\"},\"id\":\"24901\",\"type\":\"HoverTool\"},{\"attributes\":{\"active_drag\":\"auto\",\"active_inspect\":\"auto\",\"active_multi\":null,\"active_scroll\":\"auto\",\"active_tap\":\"auto\",\"tools\":[{\"id\":\"24901\"}]},\"id\":\"24902\",\"type\":\"Toolbar\"},{\"attributes\":{\"fill_color\":{\"field\":\"color\"},\"line_color\":{\"field\":\"color\"},\"top\":{\"field\":\"cases\"},\"width\":{\"value\":0.9},\"x\":{\"field\":\"seasons\"}},\"id\":\"24905\",\"type\":\"VBar\"},{\"attributes\":{},\"id\":\"24892\",\"type\":\"LinearScale\"},{\"attributes\":{\"source\":{\"id\":\"24882\"}},\"id\":\"24908\",\"type\":\"CDSView\"},{\"attributes\":{},\"id\":\"24910\",\"type\":\"BasicTickFormatter\"},{\"attributes\":{\"data_source\":{\"id\":\"24882\"},\"glyph\":{\"id\":\"24905\"},\"hover_glyph\":null,\"muted_glyph\":null,\"nonselection_glyph\":{\"id\":\"24906\"},\"selection_glyph\":null,\"view\":{\"id\":\"24908\"}},\"id\":\"24907\",\"type\":\"GlyphRenderer\"},{\"attributes\":{\"fill_alpha\":{\"value\":0.1},\"fill_color\":{\"field\":\"color\"},\"line_alpha\":{\"value\":0.1},\"line_color\":{\"field\":\"color\"},\"top\":{\"field\":\"cases\"},\"width\":{\"value\":0.9},\"x\":{\"field\":\"seasons\"}},\"id\":\"24906\",\"type\":\"VBar\"},{\"attributes\":{},\"id\":\"24890\",\"type\":\"CategoricalScale\"},{\"attributes\":{},\"id\":\"24912\",\"type\":\"CategoricalTickFormatter\"},{\"attributes\":{},\"id\":\"24914\",\"type\":\"Selection\"}],\"root_ids\":[\"24883\"]},\"title\":\"Bokeh Application\",\"version\":\"2.2.3\"}};\n",
       "  var render_items = [{\"docid\":\"8b8460de-dcef-4d0b-9059-8176abfe8e8e\",\"root_ids\":[\"24883\"],\"roots\":{\"24883\":\"1b46b5e6-0c84-424e-83d1-f93e570ce13e\"}}];\n",
       "  root.Bokeh.embed.embed_items_notebook(docs_json, render_items);\n",
       "\n",
       "  }\n",
       "  if (root.Bokeh !== undefined) {\n",
       "    embed_document(root);\n",
       "  } else {\n",
       "    var attempts = 0;\n",
       "    var timer = setInterval(function(root) {\n",
       "      if (root.Bokeh !== undefined) {\n",
       "        clearInterval(timer);\n",
       "        embed_document(root);\n",
       "      } else {\n",
       "        attempts++;\n",
       "        if (attempts > 100) {\n",
       "          clearInterval(timer);\n",
       "          console.log(\"Bokeh: ERROR: Unable to run BokehJS code because BokehJS library is missing\");\n",
       "        }\n",
       "      }\n",
       "    }, 10, root)\n",
       "  }\n",
       "})(window);"
      ],
      "application/vnd.bokehjs_exec.v0+json": ""
     },
     "metadata": {
      "application/vnd.bokehjs_exec.v0+json": {
       "id": "24883"
      }
     },
     "output_type": "display_data"
    }
   ],
   "source": [
    "source = ColumnDataSource(data=dict(seasons=labels, cases=cases, color=colors,deaths=deaths))\n",
    "\n",
    "p = figure(x_range=labels, plot_height=450, title=\"Cases by season\",\n",
    "           toolbar_location=None, tools=\"hover\",tooltips=\"@deaths | @cases\")\n",
    "\n",
    "p.vbar(x=\"seasons\", top=\"cases\", width=0.9,color=\"color\",legend_field=\"seasons\",source=source)\n",
    "\n",
    "p.xgrid.grid_line_color = None\n",
    "p.y_range.start = 0\n",
    "\n",
    "show(p)"
   ]
  },
  {
   "cell_type": "markdown",
   "metadata": {},
   "source": [
    "### These colors, yikes. \n",
    "\n",
    "### Cases are simply increasing, can we correlate them too seasons ?\n",
    "\n",
    "\n",
    "### No bueno, we can do better."
   ]
  },
  {
   "cell_type": "code",
   "execution_count": 142,
   "metadata": {},
   "outputs": [
    {
     "data": {
      "text/html": [
       "\n",
       "\n",
       "\n",
       "\n",
       "\n",
       "\n",
       "  <div class=\"bk-root\" id=\"56bfc729-01b6-4ff6-9fd0-9baace6ca419\" data-root-id=\"25485\"></div>\n"
      ]
     },
     "metadata": {},
     "output_type": "display_data"
    },
    {
     "data": {
      "application/javascript": [
       "(function(root) {\n",
       "  function embed_document(root) {\n",
       "    \n",
       "  var docs_json = {\"ad3ce69f-5a4c-4905-8d77-7ebfa764cab4\":{\"roots\":{\"references\":[{\"attributes\":{\"below\":[{\"id\":\"25496\"}],\"center\":[{\"id\":\"25498\"},{\"id\":\"25502\"},{\"id\":\"25522\"}],\"left\":[{\"id\":\"25499\"}],\"outline_line_color\":null,\"plot_height\":450,\"renderers\":[{\"id\":\"25513\"},{\"id\":\"25527\"}],\"title\":{\"id\":\"25486\"},\"toolbar\":{\"id\":\"25504\"},\"toolbar_location\":null,\"x_range\":{\"id\":\"25488\"},\"x_scale\":{\"id\":\"25492\"},\"y_range\":{\"id\":\"25490\"},\"y_scale\":{\"id\":\"25494\"}},\"id\":\"25485\",\"subtype\":\"Figure\",\"type\":\"Plot\"},{\"attributes\":{\"data_source\":{\"id\":\"25484\"},\"glyph\":{\"id\":\"25511\"},\"hover_glyph\":null,\"muted_glyph\":null,\"name\":\"cases\",\"nonselection_glyph\":{\"id\":\"25512\"},\"selection_glyph\":null,\"view\":{\"id\":\"25514\"}},\"id\":\"25513\",\"type\":\"GlyphRenderer\"},{\"attributes\":{},\"id\":\"25497\",\"type\":\"CategoricalTicker\"},{\"attributes\":{\"bottom\":{\"expr\":{\"id\":\"25506\"}},\"fill_alpha\":{\"value\":0.1},\"fill_color\":{\"value\":\"blue\"},\"line_alpha\":{\"value\":0.1},\"line_color\":{\"value\":\"blue\"},\"top\":{\"expr\":{\"id\":\"25507\"}},\"width\":{\"value\":0.9},\"x\":{\"field\":\"seasons\"}},\"id\":\"25512\",\"type\":\"VBar\"},{\"attributes\":{\"data\":{\"cases\":[1020.0,38056.0,71077.0,119401.0],\"deaths\":[6.0,1525.0,718.0,1243.0],\"seasons\":[\"Winter\",\"Spring\",\"Summer\",\"Autumn\"]},\"selected\":{\"id\":\"25520\"},\"selection_policy\":{\"id\":\"25521\"}},\"id\":\"25484\",\"type\":\"ColumnDataSource\"},{\"attributes\":{\"axis\":{\"id\":\"25496\"},\"grid_line_color\":null,\"ticker\":null},\"id\":\"25498\",\"type\":\"Grid\"},{\"attributes\":{},\"id\":\"25518\",\"type\":\"CategoricalTickFormatter\"},{\"attributes\":{\"formatter\":{\"id\":\"25516\"},\"minor_tick_line_color\":null,\"ticker\":{\"id\":\"25500\"}},\"id\":\"25499\",\"type\":\"LinearAxis\"},{\"attributes\":{},\"id\":\"25520\",\"type\":\"Selection\"},{\"attributes\":{},\"id\":\"25500\",\"type\":\"BasicTicker\"},{\"attributes\":{\"formatter\":{\"id\":\"25518\"},\"minor_tick_line_color\":null,\"ticker\":{\"id\":\"25497\"}},\"id\":\"25496\",\"type\":\"CategoricalAxis\"},{\"attributes\":{},\"id\":\"25521\",\"type\":\"UnionRenderers\"},{\"attributes\":{\"axis\":{\"id\":\"25499\"},\"dimension\":1,\"ticker\":null},\"id\":\"25502\",\"type\":\"Grid\"},{\"attributes\":{\"items\":[{\"id\":\"25523\"},{\"id\":\"25536\"}],\"location\":\"top_left\",\"orientation\":\"horizontal\"},\"id\":\"25522\",\"type\":\"Legend\"},{\"attributes\":{\"bottom\":{\"expr\":{\"id\":\"25508\"}},\"fill_alpha\":{\"value\":0.1},\"fill_color\":{\"value\":\"red\"},\"line_alpha\":{\"value\":0.1},\"line_color\":{\"value\":\"red\"},\"top\":{\"expr\":{\"id\":\"25509\"}},\"width\":{\"value\":0.9},\"x\":{\"field\":\"seasons\"}},\"id\":\"25526\",\"type\":\"VBar\"},{\"attributes\":{\"source\":{\"id\":\"25484\"}},\"id\":\"25528\",\"type\":\"CDSView\"},{\"attributes\":{\"text\":\"Cases by season\"},\"id\":\"25486\",\"type\":\"Title\"},{\"attributes\":{\"data_source\":{\"id\":\"25484\"},\"glyph\":{\"id\":\"25525\"},\"hover_glyph\":null,\"muted_glyph\":null,\"name\":\"deaths\",\"nonselection_glyph\":{\"id\":\"25526\"},\"selection_glyph\":null,\"view\":{\"id\":\"25528\"}},\"id\":\"25527\",\"type\":\"GlyphRenderer\"},{\"attributes\":{\"callback\":null,\"tooltips\":\"$y\"},\"id\":\"25503\",\"type\":\"HoverTool\"},{\"attributes\":{\"active_drag\":\"auto\",\"active_inspect\":\"auto\",\"active_multi\":null,\"active_scroll\":\"auto\",\"active_tap\":\"auto\",\"tools\":[{\"id\":\"25503\"}]},\"id\":\"25504\",\"type\":\"Toolbar\"},{\"attributes\":{\"fields\":[]},\"id\":\"25506\",\"type\":\"Stack\"},{\"attributes\":{},\"id\":\"25492\",\"type\":\"CategoricalScale\"},{\"attributes\":{},\"id\":\"25494\",\"type\":\"LinearScale\"},{\"attributes\":{\"fields\":[\"cases\"]},\"id\":\"25507\",\"type\":\"Stack\"},{\"attributes\":{\"fields\":[\"cases\"]},\"id\":\"25508\",\"type\":\"Stack\"},{\"attributes\":{\"label\":{\"value\":\"cases\"},\"renderers\":[{\"id\":\"25513\"}]},\"id\":\"25523\",\"type\":\"LegendItem\"},{\"attributes\":{\"factors\":[\"Winter\",\"Spring\",\"Summer\",\"Autumn\"],\"range_padding\":0.1},\"id\":\"25488\",\"type\":\"FactorRange\"},{\"attributes\":{\"bottom\":{\"expr\":{\"id\":\"25508\"}},\"fill_color\":{\"value\":\"red\"},\"line_color\":{\"value\":\"red\"},\"top\":{\"expr\":{\"id\":\"25509\"}},\"width\":{\"value\":0.9},\"x\":{\"field\":\"seasons\"}},\"id\":\"25525\",\"type\":\"VBar\"},{\"attributes\":{\"fields\":[\"cases\",\"deaths\"]},\"id\":\"25509\",\"type\":\"Stack\"},{\"attributes\":{\"label\":{\"value\":\"deaths\"},\"renderers\":[{\"id\":\"25527\"}]},\"id\":\"25536\",\"type\":\"LegendItem\"},{\"attributes\":{\"bottom\":{\"expr\":{\"id\":\"25506\"}},\"fill_color\":{\"value\":\"blue\"},\"line_color\":{\"value\":\"blue\"},\"top\":{\"expr\":{\"id\":\"25507\"}},\"width\":{\"value\":0.9},\"x\":{\"field\":\"seasons\"}},\"id\":\"25511\",\"type\":\"VBar\"},{\"attributes\":{\"start\":0},\"id\":\"25490\",\"type\":\"DataRange1d\"},{\"attributes\":{\"source\":{\"id\":\"25484\"}},\"id\":\"25514\",\"type\":\"CDSView\"},{\"attributes\":{},\"id\":\"25516\",\"type\":\"BasicTickFormatter\"}],\"root_ids\":[\"25485\"]},\"title\":\"Bokeh Application\",\"version\":\"2.2.3\"}};\n",
       "  var render_items = [{\"docid\":\"ad3ce69f-5a4c-4905-8d77-7ebfa764cab4\",\"root_ids\":[\"25485\"],\"roots\":{\"25485\":\"56bfc729-01b6-4ff6-9fd0-9baace6ca419\"}}];\n",
       "  root.Bokeh.embed.embed_items_notebook(docs_json, render_items);\n",
       "\n",
       "  }\n",
       "  if (root.Bokeh !== undefined) {\n",
       "    embed_document(root);\n",
       "  } else {\n",
       "    var attempts = 0;\n",
       "    var timer = setInterval(function(root) {\n",
       "      if (root.Bokeh !== undefined) {\n",
       "        clearInterval(timer);\n",
       "        embed_document(root);\n",
       "      } else {\n",
       "        attempts++;\n",
       "        if (attempts > 100) {\n",
       "          clearInterval(timer);\n",
       "          console.log(\"Bokeh: ERROR: Unable to run BokehJS code because BokehJS library is missing\");\n",
       "        }\n",
       "      }\n",
       "    }, 10, root)\n",
       "  }\n",
       "})(window);"
      ],
      "application/vnd.bokehjs_exec.v0+json": ""
     },
     "metadata": {
      "application/vnd.bokehjs_exec.v0+json": {
       "id": "25485"
      }
     },
     "output_type": "display_data"
    }
   ],
   "source": [
    "source = ColumnDataSource(data= {\n",
    "    \n",
    " \"seasons\":labels,\n",
    " \"cases\":cases,\n",
    " \"deaths\":deaths\n",
    "    \n",
    "})\n",
    "\n",
    "\n",
    "categories = [\"cases\",\"deaths\"]\n",
    "\n",
    "p = figure(x_range=labels, plot_height=450, title=\"Cases by season\",\n",
    "           toolbar_location=None, tools=\"hover\",tooltips=\"$y\")\n",
    "\n",
    "p.vbar_stack(categories,x=\"seasons\", width=0.9,legend_label=categories,source=source,color=[\"blue\",\"red\"])\n",
    "\n",
    "p.y_range.start = 0\n",
    "p.x_range.range_padding = 0.1\n",
    "p.xgrid.grid_line_color = None\n",
    "p.axis.minor_tick_line_color = None\n",
    "p.outline_line_color = None\n",
    "p.legend.location = \"top_left\"\n",
    "p.legend.orientation = \"horizontal\"\n",
    "show(p)"
   ]
  },
  {
   "cell_type": "markdown",
   "metadata": {},
   "source": [
    "### These colors are awful. I'll let you fix that if you want."
   ]
  }
 ],
 "metadata": {
  "kernelspec": {
   "display_name": "Python 3",
   "language": "python",
   "name": "python3"
  },
  "language_info": {
   "codemirror_mode": {
    "name": "ipython",
    "version": 3
   },
   "file_extension": ".py",
   "mimetype": "text/x-python",
   "name": "python",
   "nbconvert_exporter": "python",
   "pygments_lexer": "ipython3",
   "version": "3.7.3"
  }
 },
 "nbformat": 4,
 "nbformat_minor": 4
}
