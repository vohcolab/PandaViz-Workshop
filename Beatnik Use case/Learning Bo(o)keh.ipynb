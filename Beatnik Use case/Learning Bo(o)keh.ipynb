{
 "cells": [
  {
   "cell_type": "markdown",
   "metadata": {},
   "source": [
    "# Learning Module - Bokeh\n",
    "\n",
    "### Here we will show you how to use some of the basic functionalities of Bokeh, a python visualization library.\n",
    "Keep in mind that there are several other libraries, each one with their own pros and cons, and, as of now, none of them can be classified as the best overall.\n",
    "\n",
    "Bokeh, Plotly and Matplotlib are the most well known in data visualization but there's more.\n",
    "\n",
    "Some of these can be used to create rich and interactive visualizations that can be server directly to the end-user in a web-page (Bokeh is one of them)\n",
    "\n",
    "[Bokeh](https://docs.bokeh.org/en/latest/index.html) is open-source, which means that you can see how it is built, and you can also help built it!\n",
    "\n",
    "Bookmark [this](https://docs.bokeh.org/en/latest/docs/user_guide/plotting.html)."
   ]
  },
  {
   "source": [
    "In this module we will cover:\n",
    "* Basic data manipulation\n",
    "* Data Visualization with Bokeh\n",
    "    * Piecharts\n",
    "    * Scatter plots\n",
    "    * Line and Multi-Line plots\n",
    "    * Areas\n",
    "    * Annotations"
   ],
   "cell_type": "markdown",
   "metadata": {}
  },
  {
   "cell_type": "markdown",
   "metadata": {},
   "source": [
    "## Data !\n",
    "\n",
    "Let's use some covid data taken from Jonh Hopkin's University."
   ]
  },
  {
   "cell_type": "code",
   "execution_count": 1,
   "metadata": {},
   "outputs": [],
   "source": [
    "import pandas as pd"
   ]
  },
  {
   "cell_type": "code",
   "execution_count": 2,
   "metadata": {},
   "outputs": [],
   "source": [
    "df = pd.read_csv(\"covid19data_cleaned.csv\")"
   ]
  },
  {
   "cell_type": "code",
   "execution_count": 3,
   "metadata": {},
   "outputs": [],
   "source": [
    "total = df.groupby(\"Country\").sum()"
   ]
  },
  {
   "cell_type": "code",
   "execution_count": 4,
   "metadata": {},
   "outputs": [],
   "source": [
    "from bokeh.io import output_file, show\n",
    "from bokeh.palettes import Category20c,Turbo256\n",
    "from bokeh.plotting import figure\n",
    "from bokeh.transform import cumsum\n",
    "from bokeh.io import output_notebook\n",
    "\n",
    "from math import pi\n",
    "\n"
   ]
  },
  {
   "cell_type": "markdown",
   "metadata": {},
   "source": [
    "Run this so that the plots are shown here"
   ]
  },
  {
   "cell_type": "code",
   "execution_count": 5,
   "metadata": {},
   "outputs": [
    {
     "data": {
      "text/html": [
       "\n",
       "    <div class=\"bk-root\">\n",
       "        <a href=\"https://bokeh.org\" target=\"_blank\" class=\"bk-logo bk-logo-small bk-logo-notebook\"></a>\n",
       "        <span id=\"1001\">Loading BokehJS ...</span>\n",
       "    </div>"
      ]
     },
     "metadata": {},
     "output_type": "display_data"
    },
    {
     "data": {
      "application/javascript": [
       "\n",
       "(function(root) {\n",
       "  function now() {\n",
       "    return new Date();\n",
       "  }\n",
       "\n",
       "  var force = true;\n",
       "\n",
       "  if (typeof root._bokeh_onload_callbacks === \"undefined\" || force === true) {\n",
       "    root._bokeh_onload_callbacks = [];\n",
       "    root._bokeh_is_loading = undefined;\n",
       "  }\n",
       "\n",
       "  var JS_MIME_TYPE = 'application/javascript';\n",
       "  var HTML_MIME_TYPE = 'text/html';\n",
       "  var EXEC_MIME_TYPE = 'application/vnd.bokehjs_exec.v0+json';\n",
       "  var CLASS_NAME = 'output_bokeh rendered_html';\n",
       "\n",
       "  /**\n",
       "   * Render data to the DOM node\n",
       "   */\n",
       "  function render(props, node) {\n",
       "    var script = document.createElement(\"script\");\n",
       "    node.appendChild(script);\n",
       "  }\n",
       "\n",
       "  /**\n",
       "   * Handle when an output is cleared or removed\n",
       "   */\n",
       "  function handleClearOutput(event, handle) {\n",
       "    var cell = handle.cell;\n",
       "\n",
       "    var id = cell.output_area._bokeh_element_id;\n",
       "    var server_id = cell.output_area._bokeh_server_id;\n",
       "    // Clean up Bokeh references\n",
       "    if (id != null && id in Bokeh.index) {\n",
       "      Bokeh.index[id].model.document.clear();\n",
       "      delete Bokeh.index[id];\n",
       "    }\n",
       "\n",
       "    if (server_id !== undefined) {\n",
       "      // Clean up Bokeh references\n",
       "      var cmd = \"from bokeh.io.state import curstate; print(curstate().uuid_to_server['\" + server_id + \"'].get_sessions()[0].document.roots[0]._id)\";\n",
       "      cell.notebook.kernel.execute(cmd, {\n",
       "        iopub: {\n",
       "          output: function(msg) {\n",
       "            var id = msg.content.text.trim();\n",
       "            if (id in Bokeh.index) {\n",
       "              Bokeh.index[id].model.document.clear();\n",
       "              delete Bokeh.index[id];\n",
       "            }\n",
       "          }\n",
       "        }\n",
       "      });\n",
       "      // Destroy server and session\n",
       "      var cmd = \"import bokeh.io.notebook as ion; ion.destroy_server('\" + server_id + \"')\";\n",
       "      cell.notebook.kernel.execute(cmd);\n",
       "    }\n",
       "  }\n",
       "\n",
       "  /**\n",
       "   * Handle when a new output is added\n",
       "   */\n",
       "  function handleAddOutput(event, handle) {\n",
       "    var output_area = handle.output_area;\n",
       "    var output = handle.output;\n",
       "\n",
       "    // limit handleAddOutput to display_data with EXEC_MIME_TYPE content only\n",
       "    if ((output.output_type != \"display_data\") || (!output.data.hasOwnProperty(EXEC_MIME_TYPE))) {\n",
       "      return\n",
       "    }\n",
       "\n",
       "    var toinsert = output_area.element.find(\".\" + CLASS_NAME.split(' ')[0]);\n",
       "\n",
       "    if (output.metadata[EXEC_MIME_TYPE][\"id\"] !== undefined) {\n",
       "      toinsert[toinsert.length - 1].firstChild.textContent = output.data[JS_MIME_TYPE];\n",
       "      // store reference to embed id on output_area\n",
       "      output_area._bokeh_element_id = output.metadata[EXEC_MIME_TYPE][\"id\"];\n",
       "    }\n",
       "    if (output.metadata[EXEC_MIME_TYPE][\"server_id\"] !== undefined) {\n",
       "      var bk_div = document.createElement(\"div\");\n",
       "      bk_div.innerHTML = output.data[HTML_MIME_TYPE];\n",
       "      var script_attrs = bk_div.children[0].attributes;\n",
       "      for (var i = 0; i < script_attrs.length; i++) {\n",
       "        toinsert[toinsert.length - 1].firstChild.setAttribute(script_attrs[i].name, script_attrs[i].value);\n",
       "        toinsert[toinsert.length - 1].firstChild.textContent = bk_div.children[0].textContent\n",
       "      }\n",
       "      // store reference to server id on output_area\n",
       "      output_area._bokeh_server_id = output.metadata[EXEC_MIME_TYPE][\"server_id\"];\n",
       "    }\n",
       "  }\n",
       "\n",
       "  function register_renderer(events, OutputArea) {\n",
       "\n",
       "    function append_mime(data, metadata, element) {\n",
       "      // create a DOM node to render to\n",
       "      var toinsert = this.create_output_subarea(\n",
       "        metadata,\n",
       "        CLASS_NAME,\n",
       "        EXEC_MIME_TYPE\n",
       "      );\n",
       "      this.keyboard_manager.register_events(toinsert);\n",
       "      // Render to node\n",
       "      var props = {data: data, metadata: metadata[EXEC_MIME_TYPE]};\n",
       "      render(props, toinsert[toinsert.length - 1]);\n",
       "      element.append(toinsert);\n",
       "      return toinsert\n",
       "    }\n",
       "\n",
       "    /* Handle when an output is cleared or removed */\n",
       "    events.on('clear_output.CodeCell', handleClearOutput);\n",
       "    events.on('delete.Cell', handleClearOutput);\n",
       "\n",
       "    /* Handle when a new output is added */\n",
       "    events.on('output_added.OutputArea', handleAddOutput);\n",
       "\n",
       "    /**\n",
       "     * Register the mime type and append_mime function with output_area\n",
       "     */\n",
       "    OutputArea.prototype.register_mime_type(EXEC_MIME_TYPE, append_mime, {\n",
       "      /* Is output safe? */\n",
       "      safe: true,\n",
       "      /* Index of renderer in `output_area.display_order` */\n",
       "      index: 0\n",
       "    });\n",
       "  }\n",
       "\n",
       "  // register the mime type if in Jupyter Notebook environment and previously unregistered\n",
       "  if (root.Jupyter !== undefined) {\n",
       "    var events = require('base/js/events');\n",
       "    var OutputArea = require('notebook/js/outputarea').OutputArea;\n",
       "\n",
       "    if (OutputArea.prototype.mime_types().indexOf(EXEC_MIME_TYPE) == -1) {\n",
       "      register_renderer(events, OutputArea);\n",
       "    }\n",
       "  }\n",
       "\n",
       "  \n",
       "  if (typeof (root._bokeh_timeout) === \"undefined\" || force === true) {\n",
       "    root._bokeh_timeout = Date.now() + 5000;\n",
       "    root._bokeh_failed_load = false;\n",
       "  }\n",
       "\n",
       "  var NB_LOAD_WARNING = {'data': {'text/html':\n",
       "     \"<div style='background-color: #fdd'>\\n\"+\n",
       "     \"<p>\\n\"+\n",
       "     \"BokehJS does not appear to have successfully loaded. If loading BokehJS from CDN, this \\n\"+\n",
       "     \"may be due to a slow or bad network connection. Possible fixes:\\n\"+\n",
       "     \"</p>\\n\"+\n",
       "     \"<ul>\\n\"+\n",
       "     \"<li>re-rerun `output_notebook()` to attempt to load from CDN again, or</li>\\n\"+\n",
       "     \"<li>use INLINE resources instead, as so:</li>\\n\"+\n",
       "     \"</ul>\\n\"+\n",
       "     \"<code>\\n\"+\n",
       "     \"from bokeh.resources import INLINE\\n\"+\n",
       "     \"output_notebook(resources=INLINE)\\n\"+\n",
       "     \"</code>\\n\"+\n",
       "     \"</div>\"}};\n",
       "\n",
       "  function display_loaded() {\n",
       "    var el = document.getElementById(\"1001\");\n",
       "    if (el != null) {\n",
       "      el.textContent = \"BokehJS is loading...\";\n",
       "    }\n",
       "    if (root.Bokeh !== undefined) {\n",
       "      if (el != null) {\n",
       "        el.textContent = \"BokehJS \" + root.Bokeh.version + \" successfully loaded.\";\n",
       "      }\n",
       "    } else if (Date.now() < root._bokeh_timeout) {\n",
       "      setTimeout(display_loaded, 100)\n",
       "    }\n",
       "  }\n",
       "\n",
       "\n",
       "  function run_callbacks() {\n",
       "    try {\n",
       "      root._bokeh_onload_callbacks.forEach(function(callback) {\n",
       "        if (callback != null)\n",
       "          callback();\n",
       "      });\n",
       "    } finally {\n",
       "      delete root._bokeh_onload_callbacks\n",
       "    }\n",
       "    console.debug(\"Bokeh: all callbacks have finished\");\n",
       "  }\n",
       "\n",
       "  function load_libs(css_urls, js_urls, callback) {\n",
       "    if (css_urls == null) css_urls = [];\n",
       "    if (js_urls == null) js_urls = [];\n",
       "\n",
       "    root._bokeh_onload_callbacks.push(callback);\n",
       "    if (root._bokeh_is_loading > 0) {\n",
       "      console.debug(\"Bokeh: BokehJS is being loaded, scheduling callback at\", now());\n",
       "      return null;\n",
       "    }\n",
       "    if (js_urls == null || js_urls.length === 0) {\n",
       "      run_callbacks();\n",
       "      return null;\n",
       "    }\n",
       "    console.debug(\"Bokeh: BokehJS not loaded, scheduling load and callback at\", now());\n",
       "    root._bokeh_is_loading = css_urls.length + js_urls.length;\n",
       "\n",
       "    function on_load() {\n",
       "      root._bokeh_is_loading--;\n",
       "      if (root._bokeh_is_loading === 0) {\n",
       "        console.debug(\"Bokeh: all BokehJS libraries/stylesheets loaded\");\n",
       "        run_callbacks()\n",
       "      }\n",
       "    }\n",
       "\n",
       "    function on_error() {\n",
       "      console.error(\"failed to load \" + url);\n",
       "    }\n",
       "\n",
       "    for (var i = 0; i < css_urls.length; i++) {\n",
       "      var url = css_urls[i];\n",
       "      const element = document.createElement(\"link\");\n",
       "      element.onload = on_load;\n",
       "      element.onerror = on_error;\n",
       "      element.rel = \"stylesheet\";\n",
       "      element.type = \"text/css\";\n",
       "      element.href = url;\n",
       "      console.debug(\"Bokeh: injecting link tag for BokehJS stylesheet: \", url);\n",
       "      document.body.appendChild(element);\n",
       "    }\n",
       "\n",
       "    const hashes = {\"https://cdn.bokeh.org/bokeh/release/bokeh-2.2.3.min.js\": \"T2yuo9Oe71Cz/I4X9Ac5+gpEa5a8PpJCDlqKYO0CfAuEszu1JrXLl8YugMqYe3sM\", \"https://cdn.bokeh.org/bokeh/release/bokeh-widgets-2.2.3.min.js\": \"98GDGJ0kOMCUMUePhksaQ/GYgB3+NH9h996V88sh3aOiUNX3N+fLXAtry6xctSZ6\", \"https://cdn.bokeh.org/bokeh/release/bokeh-tables-2.2.3.min.js\": \"89bArO+nlbP3sgakeHjCo1JYxYR5wufVgA3IbUvDY+K7w4zyxJqssu7wVnfeKCq8\"};\n",
       "\n",
       "    for (var i = 0; i < js_urls.length; i++) {\n",
       "      var url = js_urls[i];\n",
       "      var element = document.createElement('script');\n",
       "      element.onload = on_load;\n",
       "      element.onerror = on_error;\n",
       "      element.async = false;\n",
       "      element.src = url;\n",
       "      if (url in hashes) {\n",
       "        element.crossOrigin = \"anonymous\";\n",
       "        element.integrity = \"sha384-\" + hashes[url];\n",
       "      }\n",
       "      console.debug(\"Bokeh: injecting script tag for BokehJS library: \", url);\n",
       "      document.head.appendChild(element);\n",
       "    }\n",
       "  };\n",
       "\n",
       "  function inject_raw_css(css) {\n",
       "    const element = document.createElement(\"style\");\n",
       "    element.appendChild(document.createTextNode(css));\n",
       "    document.body.appendChild(element);\n",
       "  }\n",
       "\n",
       "  \n",
       "  var js_urls = [\"https://cdn.bokeh.org/bokeh/release/bokeh-2.2.3.min.js\", \"https://cdn.bokeh.org/bokeh/release/bokeh-widgets-2.2.3.min.js\", \"https://cdn.bokeh.org/bokeh/release/bokeh-tables-2.2.3.min.js\"];\n",
       "  var css_urls = [];\n",
       "  \n",
       "\n",
       "  var inline_js = [\n",
       "    function(Bokeh) {\n",
       "      Bokeh.set_log_level(\"info\");\n",
       "    },\n",
       "    function(Bokeh) {\n",
       "    \n",
       "    \n",
       "    }\n",
       "  ];\n",
       "\n",
       "  function run_inline_js() {\n",
       "    \n",
       "    if (root.Bokeh !== undefined || force === true) {\n",
       "      \n",
       "    for (var i = 0; i < inline_js.length; i++) {\n",
       "      inline_js[i].call(root, root.Bokeh);\n",
       "    }\n",
       "    if (force === true) {\n",
       "        display_loaded();\n",
       "      }} else if (Date.now() < root._bokeh_timeout) {\n",
       "      setTimeout(run_inline_js, 100);\n",
       "    } else if (!root._bokeh_failed_load) {\n",
       "      console.log(\"Bokeh: BokehJS failed to load within specified timeout.\");\n",
       "      root._bokeh_failed_load = true;\n",
       "    } else if (force !== true) {\n",
       "      var cell = $(document.getElementById(\"1001\")).parents('.cell').data().cell;\n",
       "      cell.output_area.append_execute_result(NB_LOAD_WARNING)\n",
       "    }\n",
       "\n",
       "  }\n",
       "\n",
       "  if (root._bokeh_is_loading === 0) {\n",
       "    console.debug(\"Bokeh: BokehJS loaded, going straight to plotting\");\n",
       "    run_inline_js();\n",
       "  } else {\n",
       "    load_libs(css_urls, js_urls, function() {\n",
       "      console.debug(\"Bokeh: BokehJS plotting callback run at\", now());\n",
       "      run_inline_js();\n",
       "    });\n",
       "  }\n",
       "}(window));"
      ],
      "application/vnd.bokehjs_load.v0+json": "\n(function(root) {\n  function now() {\n    return new Date();\n  }\n\n  var force = true;\n\n  if (typeof root._bokeh_onload_callbacks === \"undefined\" || force === true) {\n    root._bokeh_onload_callbacks = [];\n    root._bokeh_is_loading = undefined;\n  }\n\n  \n\n  \n  if (typeof (root._bokeh_timeout) === \"undefined\" || force === true) {\n    root._bokeh_timeout = Date.now() + 5000;\n    root._bokeh_failed_load = false;\n  }\n\n  var NB_LOAD_WARNING = {'data': {'text/html':\n     \"<div style='background-color: #fdd'>\\n\"+\n     \"<p>\\n\"+\n     \"BokehJS does not appear to have successfully loaded. If loading BokehJS from CDN, this \\n\"+\n     \"may be due to a slow or bad network connection. Possible fixes:\\n\"+\n     \"</p>\\n\"+\n     \"<ul>\\n\"+\n     \"<li>re-rerun `output_notebook()` to attempt to load from CDN again, or</li>\\n\"+\n     \"<li>use INLINE resources instead, as so:</li>\\n\"+\n     \"</ul>\\n\"+\n     \"<code>\\n\"+\n     \"from bokeh.resources import INLINE\\n\"+\n     \"output_notebook(resources=INLINE)\\n\"+\n     \"</code>\\n\"+\n     \"</div>\"}};\n\n  function display_loaded() {\n    var el = document.getElementById(\"1001\");\n    if (el != null) {\n      el.textContent = \"BokehJS is loading...\";\n    }\n    if (root.Bokeh !== undefined) {\n      if (el != null) {\n        el.textContent = \"BokehJS \" + root.Bokeh.version + \" successfully loaded.\";\n      }\n    } else if (Date.now() < root._bokeh_timeout) {\n      setTimeout(display_loaded, 100)\n    }\n  }\n\n\n  function run_callbacks() {\n    try {\n      root._bokeh_onload_callbacks.forEach(function(callback) {\n        if (callback != null)\n          callback();\n      });\n    } finally {\n      delete root._bokeh_onload_callbacks\n    }\n    console.debug(\"Bokeh: all callbacks have finished\");\n  }\n\n  function load_libs(css_urls, js_urls, callback) {\n    if (css_urls == null) css_urls = [];\n    if (js_urls == null) js_urls = [];\n\n    root._bokeh_onload_callbacks.push(callback);\n    if (root._bokeh_is_loading > 0) {\n      console.debug(\"Bokeh: BokehJS is being loaded, scheduling callback at\", now());\n      return null;\n    }\n    if (js_urls == null || js_urls.length === 0) {\n      run_callbacks();\n      return null;\n    }\n    console.debug(\"Bokeh: BokehJS not loaded, scheduling load and callback at\", now());\n    root._bokeh_is_loading = css_urls.length + js_urls.length;\n\n    function on_load() {\n      root._bokeh_is_loading--;\n      if (root._bokeh_is_loading === 0) {\n        console.debug(\"Bokeh: all BokehJS libraries/stylesheets loaded\");\n        run_callbacks()\n      }\n    }\n\n    function on_error() {\n      console.error(\"failed to load \" + url);\n    }\n\n    for (var i = 0; i < css_urls.length; i++) {\n      var url = css_urls[i];\n      const element = document.createElement(\"link\");\n      element.onload = on_load;\n      element.onerror = on_error;\n      element.rel = \"stylesheet\";\n      element.type = \"text/css\";\n      element.href = url;\n      console.debug(\"Bokeh: injecting link tag for BokehJS stylesheet: \", url);\n      document.body.appendChild(element);\n    }\n\n    const hashes = {\"https://cdn.bokeh.org/bokeh/release/bokeh-2.2.3.min.js\": \"T2yuo9Oe71Cz/I4X9Ac5+gpEa5a8PpJCDlqKYO0CfAuEszu1JrXLl8YugMqYe3sM\", \"https://cdn.bokeh.org/bokeh/release/bokeh-widgets-2.2.3.min.js\": \"98GDGJ0kOMCUMUePhksaQ/GYgB3+NH9h996V88sh3aOiUNX3N+fLXAtry6xctSZ6\", \"https://cdn.bokeh.org/bokeh/release/bokeh-tables-2.2.3.min.js\": \"89bArO+nlbP3sgakeHjCo1JYxYR5wufVgA3IbUvDY+K7w4zyxJqssu7wVnfeKCq8\"};\n\n    for (var i = 0; i < js_urls.length; i++) {\n      var url = js_urls[i];\n      var element = document.createElement('script');\n      element.onload = on_load;\n      element.onerror = on_error;\n      element.async = false;\n      element.src = url;\n      if (url in hashes) {\n        element.crossOrigin = \"anonymous\";\n        element.integrity = \"sha384-\" + hashes[url];\n      }\n      console.debug(\"Bokeh: injecting script tag for BokehJS library: \", url);\n      document.head.appendChild(element);\n    }\n  };\n\n  function inject_raw_css(css) {\n    const element = document.createElement(\"style\");\n    element.appendChild(document.createTextNode(css));\n    document.body.appendChild(element);\n  }\n\n  \n  var js_urls = [\"https://cdn.bokeh.org/bokeh/release/bokeh-2.2.3.min.js\", \"https://cdn.bokeh.org/bokeh/release/bokeh-widgets-2.2.3.min.js\", \"https://cdn.bokeh.org/bokeh/release/bokeh-tables-2.2.3.min.js\"];\n  var css_urls = [];\n  \n\n  var inline_js = [\n    function(Bokeh) {\n      Bokeh.set_log_level(\"info\");\n    },\n    function(Bokeh) {\n    \n    \n    }\n  ];\n\n  function run_inline_js() {\n    \n    if (root.Bokeh !== undefined || force === true) {\n      \n    for (var i = 0; i < inline_js.length; i++) {\n      inline_js[i].call(root, root.Bokeh);\n    }\n    if (force === true) {\n        display_loaded();\n      }} else if (Date.now() < root._bokeh_timeout) {\n      setTimeout(run_inline_js, 100);\n    } else if (!root._bokeh_failed_load) {\n      console.log(\"Bokeh: BokehJS failed to load within specified timeout.\");\n      root._bokeh_failed_load = true;\n    } else if (force !== true) {\n      var cell = $(document.getElementById(\"1001\")).parents('.cell').data().cell;\n      cell.output_area.append_execute_result(NB_LOAD_WARNING)\n    }\n\n  }\n\n  if (root._bokeh_is_loading === 0) {\n    console.debug(\"Bokeh: BokehJS loaded, going straight to plotting\");\n    run_inline_js();\n  } else {\n    load_libs(css_urls, js_urls, function() {\n      console.debug(\"Bokeh: BokehJS plotting callback run at\", now());\n      run_inline_js();\n    });\n  }\n}(window));"
     },
     "metadata": {},
     "output_type": "display_data"
    }
   ],
   "source": [
    "output_notebook()"
   ]
  },
  {
   "cell_type": "markdown",
   "metadata": {},
   "source": [
    "## Ya'll like pies?\n",
    "#### Everybody likes pies. That was retorical.\n",
    "*I dont remember the last time I had one thou*"
   ]
  },
  {
   "cell_type": "code",
   "execution_count": 6,
   "metadata": {},
   "outputs": [],
   "source": [
    "n = 15"
   ]
  },
  {
   "cell_type": "code",
   "execution_count": 7,
   "metadata": {},
   "outputs": [],
   "source": [
    "n_largest = total[\"confirmed_cases\"].nlargest(n)"
   ]
  },
  {
   "cell_type": "markdown",
   "metadata": {},
   "source": [
    "We need data for the pie. \n",
    "\n",
    "Let us setup the recipe first."
   ]
  },
  {
   "cell_type": "code",
   "execution_count": 8,
   "metadata": {},
   "outputs": [],
   "source": [
    "data = pd.Series(n_largest).reset_index(name='value').rename(columns={'index':'Country'})\n",
    "data['angle'] = data['value']/data['value'].sum() * 2*pi\n",
    "data['color'] = Category20c[n] #pick n colors from this pallete"
   ]
  },
  {
   "cell_type": "code",
   "execution_count": 9,
   "metadata": {},
   "outputs": [
    {
     "data": {
      "text/html": [
       "<div>\n",
       "<style scoped>\n",
       "    .dataframe tbody tr th:only-of-type {\n",
       "        vertical-align: middle;\n",
       "    }\n",
       "\n",
       "    .dataframe tbody tr th {\n",
       "        vertical-align: top;\n",
       "    }\n",
       "\n",
       "    .dataframe thead th {\n",
       "        text-align: right;\n",
       "    }\n",
       "</style>\n",
       "<table border=\"1\" class=\"dataframe\">\n",
       "  <thead>\n",
       "    <tr style=\"text-align: right;\">\n",
       "      <th></th>\n",
       "      <th>Country</th>\n",
       "      <th>value</th>\n",
       "      <th>angle</th>\n",
       "      <th>color</th>\n",
       "    </tr>\n",
       "  </thead>\n",
       "  <tbody>\n",
       "    <tr>\n",
       "      <th>0</th>\n",
       "      <td>US</td>\n",
       "      <td>11202979.0</td>\n",
       "      <td>1.723609</td>\n",
       "      <td>#3182bd</td>\n",
       "    </tr>\n",
       "    <tr>\n",
       "      <th>1</th>\n",
       "      <td>India</td>\n",
       "      <td>8873541.0</td>\n",
       "      <td>1.365219</td>\n",
       "      <td>#6baed6</td>\n",
       "    </tr>\n",
       "    <tr>\n",
       "      <th>2</th>\n",
       "      <td>Brazil</td>\n",
       "      <td>5876464.0</td>\n",
       "      <td>0.904110</td>\n",
       "      <td>#9ecae1</td>\n",
       "    </tr>\n",
       "    <tr>\n",
       "      <th>3</th>\n",
       "      <td>France</td>\n",
       "      <td>2041293.0</td>\n",
       "      <td>0.314059</td>\n",
       "      <td>#c6dbef</td>\n",
       "    </tr>\n",
       "    <tr>\n",
       "      <th>4</th>\n",
       "      <td>Russia</td>\n",
       "      <td>1932711.0</td>\n",
       "      <td>0.297353</td>\n",
       "      <td>#e6550d</td>\n",
       "    </tr>\n",
       "    <tr>\n",
       "      <th>5</th>\n",
       "      <td>Spain</td>\n",
       "      <td>1496864.0</td>\n",
       "      <td>0.230297</td>\n",
       "      <td>#fd8d3c</td>\n",
       "    </tr>\n",
       "    <tr>\n",
       "      <th>6</th>\n",
       "      <td>United Kingdom</td>\n",
       "      <td>1394299.0</td>\n",
       "      <td>0.214517</td>\n",
       "      <td>#fdae6b</td>\n",
       "    </tr>\n",
       "    <tr>\n",
       "      <th>7</th>\n",
       "      <td>Argentina</td>\n",
       "      <td>1318384.0</td>\n",
       "      <td>0.202837</td>\n",
       "      <td>#fdd0a2</td>\n",
       "    </tr>\n",
       "    <tr>\n",
       "      <th>8</th>\n",
       "      <td>Italy</td>\n",
       "      <td>1205881.0</td>\n",
       "      <td>0.185528</td>\n",
       "      <td>#31a354</td>\n",
       "    </tr>\n",
       "    <tr>\n",
       "      <th>9</th>\n",
       "      <td>Colombia</td>\n",
       "      <td>1205217.0</td>\n",
       "      <td>0.185426</td>\n",
       "      <td>#74c476</td>\n",
       "    </tr>\n",
       "    <tr>\n",
       "      <th>10</th>\n",
       "      <td>Mexico</td>\n",
       "      <td>1009396.0</td>\n",
       "      <td>0.155298</td>\n",
       "      <td>#a1d99b</td>\n",
       "    </tr>\n",
       "    <tr>\n",
       "      <th>11</th>\n",
       "      <td>Peru</td>\n",
       "      <td>937011.0</td>\n",
       "      <td>0.144162</td>\n",
       "      <td>#c7e9c0</td>\n",
       "    </tr>\n",
       "    <tr>\n",
       "      <th>12</th>\n",
       "      <td>Germany</td>\n",
       "      <td>817526.0</td>\n",
       "      <td>0.125779</td>\n",
       "      <td>#756bb1</td>\n",
       "    </tr>\n",
       "    <tr>\n",
       "      <th>13</th>\n",
       "      <td>Iran</td>\n",
       "      <td>775121.0</td>\n",
       "      <td>0.119254</td>\n",
       "      <td>#9e9ac8</td>\n",
       "    </tr>\n",
       "    <tr>\n",
       "      <th>14</th>\n",
       "      <td>South Africa</td>\n",
       "      <td>752269.0</td>\n",
       "      <td>0.115739</td>\n",
       "      <td>#bcbddc</td>\n",
       "    </tr>\n",
       "  </tbody>\n",
       "</table>\n",
       "</div>"
      ],
      "text/plain": [
       "           Country       value     angle    color\n",
       "0               US  11202979.0  1.723609  #3182bd\n",
       "1            India   8873541.0  1.365219  #6baed6\n",
       "2           Brazil   5876464.0  0.904110  #9ecae1\n",
       "3           France   2041293.0  0.314059  #c6dbef\n",
       "4           Russia   1932711.0  0.297353  #e6550d\n",
       "5            Spain   1496864.0  0.230297  #fd8d3c\n",
       "6   United Kingdom   1394299.0  0.214517  #fdae6b\n",
       "7        Argentina   1318384.0  0.202837  #fdd0a2\n",
       "8            Italy   1205881.0  0.185528  #31a354\n",
       "9         Colombia   1205217.0  0.185426  #74c476\n",
       "10          Mexico   1009396.0  0.155298  #a1d99b\n",
       "11            Peru    937011.0  0.144162  #c7e9c0\n",
       "12         Germany    817526.0  0.125779  #756bb1\n",
       "13            Iran    775121.0  0.119254  #9e9ac8\n",
       "14    South Africa    752269.0  0.115739  #bcbddc"
      ]
     },
     "execution_count": 9,
     "metadata": {},
     "output_type": "execute_result"
    }
   ],
   "source": [
    "data"
   ]
  },
  {
   "cell_type": "markdown",
   "metadata": {},
   "source": [
    "### Pie Chart!\n",
    "\n",
    "#### Not an actual pie, I am sorry."
   ]
  },
  {
   "cell_type": "markdown",
   "metadata": {},
   "source": [
    "#### Let's see the confirmed cases"
   ]
  },
  {
   "cell_type": "code",
   "execution_count": 10,
   "metadata": {},
   "outputs": [
    {
     "data": {
      "text/html": [
       "\n",
       "\n",
       "\n",
       "\n",
       "\n",
       "\n",
       "  <div class=\"bk-root\" id=\"6059c046-706c-4c3d-a050-4315ffc38b63\" data-root-id=\"1002\"></div>\n"
      ]
     },
     "metadata": {},
     "output_type": "display_data"
    },
    {
     "data": {
      "application/javascript": [
       "(function(root) {\n",
       "  function embed_document(root) {\n",
       "    \n",
       "  var docs_json = {\"9e7ba003-63f5-4172-b0a3-afdc234998fa\":{\"roots\":{\"references\":[{\"attributes\":{\"below\":[{\"id\":\"1013\"}],\"center\":[{\"id\":\"1016\"},{\"id\":\"1020\"},{\"id\":\"1039\"}],\"left\":[{\"id\":\"1017\"}],\"plot_height\":350,\"renderers\":[{\"id\":\"1030\"}],\"title\":{\"id\":\"1003\"},\"toolbar\":{\"id\":\"1022\"},\"toolbar_location\":null,\"x_range\":{\"id\":\"1005\"},\"x_scale\":{\"id\":\"1009\"},\"y_range\":{\"id\":\"1007\"},\"y_scale\":{\"id\":\"1011\"}},\"id\":\"1002\",\"subtype\":\"Figure\",\"type\":\"Plot\"},{\"attributes\":{\"callback\":null,\"tooltips\":\"@Country: @value\"},\"id\":\"1021\",\"type\":\"HoverTool\"},{\"attributes\":{},\"id\":\"1035\",\"type\":\"BasicTickFormatter\"},{\"attributes\":{\"end_angle\":{\"expr\":{\"id\":\"1025\"},\"units\":\"rad\"},\"fill_alpha\":{\"value\":0.1},\"fill_color\":{\"field\":\"color\"},\"line_alpha\":{\"value\":0.1},\"line_color\":{\"value\":\"white\"},\"radius\":{\"units\":\"data\",\"value\":0.4},\"start_angle\":{\"expr\":{\"id\":\"1024\"},\"units\":\"rad\"},\"x\":{\"value\":0},\"y\":{\"value\":1}},\"id\":\"1029\",\"type\":\"Wedge\"},{\"attributes\":{\"active_drag\":\"auto\",\"active_inspect\":\"auto\",\"active_multi\":null,\"active_scroll\":\"auto\",\"active_tap\":\"auto\",\"tools\":[{\"id\":\"1021\"}]},\"id\":\"1022\",\"type\":\"Toolbar\"},{\"attributes\":{},\"id\":\"1038\",\"type\":\"UnionRenderers\"},{\"attributes\":{\"items\":[{\"id\":\"1040\"}]},\"id\":\"1039\",\"type\":\"Legend\"},{\"attributes\":{\"field\":\"angle\",\"include_zero\":true},\"id\":\"1024\",\"type\":\"CumSum\"},{\"attributes\":{\"label\":{\"field\":\"Country\"},\"renderers\":[{\"id\":\"1030\"}]},\"id\":\"1040\",\"type\":\"LegendItem\"},{\"attributes\":{\"text\":\"Top 15 Confirmed cases\"},\"id\":\"1003\",\"type\":\"Title\"},{\"attributes\":{\"start\":-0.5},\"id\":\"1005\",\"type\":\"Range1d\"},{\"attributes\":{},\"id\":\"1007\",\"type\":\"DataRange1d\"},{\"attributes\":{\"field\":\"angle\"},\"id\":\"1025\",\"type\":\"CumSum\"},{\"attributes\":{},\"id\":\"1037\",\"type\":\"Selection\"},{\"attributes\":{},\"id\":\"1009\",\"type\":\"LinearScale\"},{\"attributes\":{},\"id\":\"1011\",\"type\":\"LinearScale\"},{\"attributes\":{\"data\":{\"Country\":[\"US\",\"India\",\"Brazil\",\"France\",\"Russia\",\"Spain\",\"United Kingdom\",\"Argentina\",\"Italy\",\"Colombia\",\"Mexico\",\"Peru\",\"Germany\",\"Iran\",\"South Africa\"],\"angle\":{\"__ndarray__\":\"WIsKDueT+z97SBN279f1PyaZmEl47uw/auvh6ogZ1D869Vpk1AfTPxHhmCRces0/j3K/sUh1yz9uotICkPbJP0KtF3piv8c/+mX8ggm8xz/WIu7n0ODDPyjWvxPkc8I/fxFwgIMZwD89VVpXdoe+Pz5AYUkMob0/\",\"dtype\":\"float64\",\"order\":\"little\",\"shape\":[15]},\"color\":[\"#3182bd\",\"#6baed6\",\"#9ecae1\",\"#c6dbef\",\"#e6550d\",\"#fd8d3c\",\"#fdae6b\",\"#fdd0a2\",\"#31a354\",\"#74c476\",\"#a1d99b\",\"#c7e9c0\",\"#756bb1\",\"#9e9ac8\",\"#bcbddc\"],\"index\":[0,1,2,3,4,5,6,7,8,9,10,11,12,13,14],\"value\":{\"__ndarray__\":\"AAAAYDReZUEAAACgyOxgQQAAAAC8alZBAAAAAM0lP0EAAAAAp309QQAAAAAg1zZBAAAAAHtGNUEAAAAA8B00QQAAAAB5ZjJBAAAAAOFjMkEAAAAA6M0uQQAAAABmmCxBAAAAAOzyKEEAAAAAoqcnQQAAAAAa9SZB\",\"dtype\":\"float64\",\"order\":\"little\",\"shape\":[15]}},\"selected\":{\"id\":\"1037\"},\"selection_policy\":{\"id\":\"1038\"}},\"id\":\"1026\",\"type\":\"ColumnDataSource\"},{\"attributes\":{\"axis_label\":null,\"formatter\":{\"id\":\"1035\"},\"ticker\":{\"id\":\"1014\"},\"visible\":false},\"id\":\"1013\",\"type\":\"LinearAxis\"},{\"attributes\":{},\"id\":\"1033\",\"type\":\"BasicTickFormatter\"},{\"attributes\":{},\"id\":\"1014\",\"type\":\"BasicTicker\"},{\"attributes\":{\"axis\":{\"id\":\"1013\"},\"grid_line_color\":null,\"ticker\":null},\"id\":\"1016\",\"type\":\"Grid\"},{\"attributes\":{\"end_angle\":{\"expr\":{\"id\":\"1025\"},\"units\":\"rad\"},\"fill_color\":{\"field\":\"color\"},\"line_color\":{\"value\":\"white\"},\"radius\":{\"units\":\"data\",\"value\":0.4},\"start_angle\":{\"expr\":{\"id\":\"1024\"},\"units\":\"rad\"},\"x\":{\"value\":0},\"y\":{\"value\":1}},\"id\":\"1028\",\"type\":\"Wedge\"},{\"attributes\":{\"axis_label\":null,\"formatter\":{\"id\":\"1033\"},\"ticker\":{\"id\":\"1018\"},\"visible\":false},\"id\":\"1017\",\"type\":\"LinearAxis\"},{\"attributes\":{},\"id\":\"1018\",\"type\":\"BasicTicker\"},{\"attributes\":{\"data_source\":{\"id\":\"1026\"},\"glyph\":{\"id\":\"1028\"},\"hover_glyph\":null,\"muted_glyph\":null,\"nonselection_glyph\":{\"id\":\"1029\"},\"selection_glyph\":null,\"view\":{\"id\":\"1031\"}},\"id\":\"1030\",\"type\":\"GlyphRenderer\"},{\"attributes\":{\"source\":{\"id\":\"1026\"}},\"id\":\"1031\",\"type\":\"CDSView\"},{\"attributes\":{\"axis\":{\"id\":\"1017\"},\"dimension\":1,\"grid_line_color\":null,\"ticker\":null},\"id\":\"1020\",\"type\":\"Grid\"}],\"root_ids\":[\"1002\"]},\"title\":\"Bokeh Application\",\"version\":\"2.2.3\"}};\n",
       "  var render_items = [{\"docid\":\"9e7ba003-63f5-4172-b0a3-afdc234998fa\",\"root_ids\":[\"1002\"],\"roots\":{\"1002\":\"6059c046-706c-4c3d-a050-4315ffc38b63\"}}];\n",
       "  root.Bokeh.embed.embed_items_notebook(docs_json, render_items);\n",
       "\n",
       "  }\n",
       "  if (root.Bokeh !== undefined) {\n",
       "    embed_document(root);\n",
       "  } else {\n",
       "    var attempts = 0;\n",
       "    var timer = setInterval(function(root) {\n",
       "      if (root.Bokeh !== undefined) {\n",
       "        clearInterval(timer);\n",
       "        embed_document(root);\n",
       "      } else {\n",
       "        attempts++;\n",
       "        if (attempts > 100) {\n",
       "          clearInterval(timer);\n",
       "          console.log(\"Bokeh: ERROR: Unable to run BokehJS code because BokehJS library is missing\");\n",
       "        }\n",
       "      }\n",
       "    }, 10, root)\n",
       "  }\n",
       "})(window);"
      ],
      "application/vnd.bokehjs_exec.v0+json": ""
     },
     "metadata": {
      "application/vnd.bokehjs_exec.v0+json": {
       "id": "1002"
      }
     },
     "output_type": "display_data"
    }
   ],
   "source": [
    "p = figure(plot_height=350, title=\"Top {} Confirmed cases\".format(n), toolbar_location=None,\n",
    "           tools=\"hover\", tooltips=\"@Country: @value\", x_range=(-0.5, 1.0))\n",
    "\n",
    "p.wedge(x=0, y=1, radius=0.4,\n",
    "        start_angle=cumsum('angle', include_zero=True), end_angle=cumsum('angle'),\n",
    "        line_color=\"white\", fill_color='color', legend_field='Country', source=data)\n",
    "\n",
    "p.axis.axis_label=None\n",
    "p.axis.visible=False\n",
    "p.grid.grid_line_color = None\n",
    "show(p)"
   ]
  },
  {
   "cell_type": "markdown",
   "metadata": {},
   "source": [
    "## What about deaths?"
   ]
  },
  {
   "cell_type": "code",
   "execution_count": 11,
   "metadata": {},
   "outputs": [],
   "source": [
    "n_largest = total[\"deaths\"].nlargest(n)\n",
    "data = pd.Series(n_largest).reset_index(name='value').rename(columns={'index':'Country'})\n",
    "data['angle'] = data['value']/data['value'].sum() * 2*pi\n",
    "data['color'] = Category20c[n] #Picking n colors from this palette"
   ]
  },
  {
   "cell_type": "code",
   "execution_count": 12,
   "metadata": {},
   "outputs": [
    {
     "data": {
      "text/html": [
       "\n",
       "\n",
       "\n",
       "\n",
       "\n",
       "\n",
       "  <div class=\"bk-root\" id=\"4a68747c-c3c9-4b7d-a967-9dbe8f7bb0dc\" data-root-id=\"1083\"></div>\n"
      ]
     },
     "metadata": {},
     "output_type": "display_data"
    },
    {
     "data": {
      "application/javascript": [
       "(function(root) {\n",
       "  function embed_document(root) {\n",
       "    \n",
       "  var docs_json = {\"da69ead7-99ba-470e-9dc7-a2aa15af58ba\":{\"roots\":{\"references\":[{\"attributes\":{\"below\":[{\"id\":\"1094\"}],\"center\":[{\"id\":\"1097\"},{\"id\":\"1101\"},{\"id\":\"1120\"}],\"left\":[{\"id\":\"1098\"}],\"plot_height\":350,\"renderers\":[{\"id\":\"1111\"}],\"title\":{\"id\":\"1084\"},\"toolbar\":{\"id\":\"1103\"},\"toolbar_location\":null,\"x_range\":{\"id\":\"1086\"},\"x_scale\":{\"id\":\"1090\"},\"y_range\":{\"id\":\"1088\"},\"y_scale\":{\"id\":\"1092\"}},\"id\":\"1083\",\"subtype\":\"Figure\",\"type\":\"Plot\"},{\"attributes\":{\"field\":\"angle\"},\"id\":\"1106\",\"type\":\"CumSum\"},{\"attributes\":{\"active_drag\":\"auto\",\"active_inspect\":\"auto\",\"active_multi\":null,\"active_scroll\":\"auto\",\"active_tap\":\"auto\",\"tools\":[{\"id\":\"1102\"}]},\"id\":\"1103\",\"type\":\"Toolbar\"},{\"attributes\":{\"text\":\"Top 15 Deaths\"},\"id\":\"1084\",\"type\":\"Title\"},{\"attributes\":{\"callback\":null,\"tooltips\":\"@Country: @value\"},\"id\":\"1102\",\"type\":\"HoverTool\"},{\"attributes\":{\"items\":[{\"id\":\"1121\"}]},\"id\":\"1120\",\"type\":\"Legend\"},{\"attributes\":{\"start\":-0.5},\"id\":\"1086\",\"type\":\"Range1d\"},{\"attributes\":{\"data\":{\"Country\":[\"US\",\"Brazil\",\"India\",\"Mexico\",\"United Kingdom\",\"Italy\",\"France\",\"Iran\",\"Spain\",\"Argentina\",\"Peru\",\"Colombia\",\"Russia\",\"South Africa\",\"Indonesia\"],\"angle\":{\"__ndarray__\":\"SgPWVGDU9z+psuDl1wDwPy91BvkGKek/n6p55FIP4z/SUU7apiTUP3TnjjRXotE/v5ARQgdm0T+We+bDxy/QPymLaos70M8/Jnuj6keNyz9VjBAdXCvLP0rQYd5bZMo/UuXZ4jyXyT8jG1gX2FS/P1smPWaFl7c/\",\"dtype\":\"float64\",\"order\":\"little\",\"shape\":[15]},\"color\":[\"#3182bd\",\"#6baed6\",\"#9ecae1\",\"#c6dbef\",\"#e6550d\",\"#fd8d3c\",\"#fdae6b\",\"#fdd0a2\",\"#31a354\",\"#74c476\",\"#a1d99b\",\"#c7e9c0\",\"#756bb1\",\"#9e9ac8\",\"#bcbddc\"],\"index\":[0,1,2,3,4,5,6,7,8,9,10,11,12,13,14],\"value\":{\"__ndarray__\":\"AAAAABAtDkEAAAAA8EMEQQAAAABw3P9AAAAAANAi+EAAAAAAAILpQAAAAACgVOZAAAAAAEAI5kAAAAAAYH/kQAAAAACgJORAAAAAAOBx4UAAAAAA4DPhQAAAAADgteBAAAAAAAA04EAAAAAAgNbTQAAAAAAA4M1A\",\"dtype\":\"float64\",\"order\":\"little\",\"shape\":[15]}},\"selected\":{\"id\":\"1118\"},\"selection_policy\":{\"id\":\"1119\"}},\"id\":\"1107\",\"type\":\"ColumnDataSource\"},{\"attributes\":{},\"id\":\"1099\",\"type\":\"BasicTicker\"},{\"attributes\":{\"end_angle\":{\"expr\":{\"id\":\"1106\"},\"units\":\"rad\"},\"fill_alpha\":{\"value\":0.1},\"fill_color\":{\"field\":\"color\"},\"line_alpha\":{\"value\":0.1},\"line_color\":{\"value\":\"white\"},\"radius\":{\"units\":\"data\",\"value\":0.4},\"start_angle\":{\"expr\":{\"id\":\"1105\"},\"units\":\"rad\"},\"x\":{\"value\":0},\"y\":{\"value\":1}},\"id\":\"1110\",\"type\":\"Wedge\"},{\"attributes\":{\"axis\":{\"id\":\"1098\"},\"dimension\":1,\"grid_line_color\":null,\"ticker\":null},\"id\":\"1101\",\"type\":\"Grid\"},{\"attributes\":{},\"id\":\"1118\",\"type\":\"Selection\"},{\"attributes\":{\"source\":{\"id\":\"1107\"}},\"id\":\"1112\",\"type\":\"CDSView\"},{\"attributes\":{},\"id\":\"1092\",\"type\":\"LinearScale\"},{\"attributes\":{},\"id\":\"1119\",\"type\":\"UnionRenderers\"},{\"attributes\":{\"axis\":{\"id\":\"1094\"},\"grid_line_color\":null,\"ticker\":null},\"id\":\"1097\",\"type\":\"Grid\"},{\"attributes\":{\"label\":{\"field\":\"Country\"},\"renderers\":[{\"id\":\"1111\"}]},\"id\":\"1121\",\"type\":\"LegendItem\"},{\"attributes\":{\"field\":\"angle\",\"include_zero\":true},\"id\":\"1105\",\"type\":\"CumSum\"},{\"attributes\":{\"axis_label\":null,\"formatter\":{\"id\":\"1116\"},\"ticker\":{\"id\":\"1095\"},\"visible\":false},\"id\":\"1094\",\"type\":\"LinearAxis\"},{\"attributes\":{},\"id\":\"1114\",\"type\":\"BasicTickFormatter\"},{\"attributes\":{\"axis_label\":null,\"formatter\":{\"id\":\"1114\"},\"ticker\":{\"id\":\"1099\"},\"visible\":false},\"id\":\"1098\",\"type\":\"LinearAxis\"},{\"attributes\":{},\"id\":\"1090\",\"type\":\"LinearScale\"},{\"attributes\":{},\"id\":\"1088\",\"type\":\"DataRange1d\"},{\"attributes\":{\"end_angle\":{\"expr\":{\"id\":\"1106\"},\"units\":\"rad\"},\"fill_color\":{\"field\":\"color\"},\"line_color\":{\"value\":\"white\"},\"radius\":{\"units\":\"data\",\"value\":0.4},\"start_angle\":{\"expr\":{\"id\":\"1105\"},\"units\":\"rad\"},\"x\":{\"value\":0},\"y\":{\"value\":1}},\"id\":\"1109\",\"type\":\"Wedge\"},{\"attributes\":{},\"id\":\"1116\",\"type\":\"BasicTickFormatter\"},{\"attributes\":{},\"id\":\"1095\",\"type\":\"BasicTicker\"},{\"attributes\":{\"data_source\":{\"id\":\"1107\"},\"glyph\":{\"id\":\"1109\"},\"hover_glyph\":null,\"muted_glyph\":null,\"nonselection_glyph\":{\"id\":\"1110\"},\"selection_glyph\":null,\"view\":{\"id\":\"1112\"}},\"id\":\"1111\",\"type\":\"GlyphRenderer\"}],\"root_ids\":[\"1083\"]},\"title\":\"Bokeh Application\",\"version\":\"2.2.3\"}};\n",
       "  var render_items = [{\"docid\":\"da69ead7-99ba-470e-9dc7-a2aa15af58ba\",\"root_ids\":[\"1083\"],\"roots\":{\"1083\":\"4a68747c-c3c9-4b7d-a967-9dbe8f7bb0dc\"}}];\n",
       "  root.Bokeh.embed.embed_items_notebook(docs_json, render_items);\n",
       "\n",
       "  }\n",
       "  if (root.Bokeh !== undefined) {\n",
       "    embed_document(root);\n",
       "  } else {\n",
       "    var attempts = 0;\n",
       "    var timer = setInterval(function(root) {\n",
       "      if (root.Bokeh !== undefined) {\n",
       "        clearInterval(timer);\n",
       "        embed_document(root);\n",
       "      } else {\n",
       "        attempts++;\n",
       "        if (attempts > 100) {\n",
       "          clearInterval(timer);\n",
       "          console.log(\"Bokeh: ERROR: Unable to run BokehJS code because BokehJS library is missing\");\n",
       "        }\n",
       "      }\n",
       "    }, 10, root)\n",
       "  }\n",
       "})(window);"
      ],
      "application/vnd.bokehjs_exec.v0+json": ""
     },
     "metadata": {
      "application/vnd.bokehjs_exec.v0+json": {
       "id": "1083"
      }
     },
     "output_type": "display_data"
    }
   ],
   "source": [
    "p = figure(plot_height=350, title=\"Top {} Deaths\".format(n), toolbar_location=None,\n",
    "           tools=\"hover\", tooltips=\"@Country: @value\", x_range=(-0.5, 1.0))\n",
    "\n",
    "p.wedge(x=0, y=1, radius=0.4,\n",
    "        start_angle=cumsum('angle', include_zero=True), end_angle=cumsum('angle'),\n",
    "        line_color=\"white\", fill_color='color', legend_field='Country', source=data)\n",
    "\n",
    "p.axis.axis_label=None\n",
    "p.axis.visible=False\n",
    "p.grid.grid_line_color = None\n",
    "\n",
    "show(p)"
   ]
  },
  {
   "cell_type": "markdown",
   "metadata": {},
   "source": [
    "### Apparently the countries with most confirmed cases are not always the ones with the most deaths...\n",
    "#### Why would that be?"
   ]
  },
  {
   "cell_type": "markdown",
   "metadata": {},
   "source": [
    "___"
   ]
  },
  {
   "cell_type": "markdown",
   "metadata": {},
   "source": [
    "## Now, since we got the basics of pie charts and data sources out of the way, let us just do a regular line."
   ]
  },
  {
   "cell_type": "markdown",
   "metadata": {},
   "source": [
    "### First lets pick a country to see the evolution of cases throughout time!"
   ]
  },
  {
   "cell_type": "code",
   "execution_count": 13,
   "metadata": {},
   "outputs": [],
   "source": [
    "country = \"Portugal\""
   ]
  },
  {
   "cell_type": "code",
   "execution_count": 14,
   "metadata": {},
   "outputs": [],
   "source": [
    "mask = df[\"Country\"] ==country"
   ]
  },
  {
   "cell_type": "code",
   "execution_count": 15,
   "metadata": {},
   "outputs": [],
   "source": [
    "selected_country = df[mask]"
   ]
  },
  {
   "cell_type": "code",
   "execution_count": 16,
   "metadata": {},
   "outputs": [],
   "source": [
    "fig = figure(width= 600,height=500,tools=\"hover,pan,wheel_zoom,box_zoom,reset\",title=\"{} cases evolution\".format(country),x_axis_type=\"datetime\",tooltips=\"value: @y\")"
   ]
  },
  {
   "cell_type": "code",
   "execution_count": 17,
   "metadata": {},
   "outputs": [],
   "source": [
    "x = pd.to_datetime(selected_country[\"date\"])\n",
    "y = selected_country[\"confirmed_cases\"].astype(int)"
   ]
  },
  {
   "cell_type": "code",
   "execution_count": 18,
   "metadata": {},
   "outputs": [
    {
     "data": {
      "text/html": [
       "<div style=\"display: table;\"><div style=\"display: table-row;\"><div style=\"display: table-cell;\"><b title=\"bokeh.models.renderers.GlyphRenderer\">GlyphRenderer</b>(</div><div style=\"display: table-cell;\">id&nbsp;=&nbsp;'1205', <span id=\"1230\" style=\"cursor: pointer;\">&hellip;)</span></div></div><div class=\"1229\" style=\"display: none;\"><div style=\"display: table-cell;\"></div><div style=\"display: table-cell;\">data_source&nbsp;=&nbsp;ColumnDataSource(id='1202', ...),</div></div><div class=\"1229\" style=\"display: none;\"><div style=\"display: table-cell;\"></div><div style=\"display: table-cell;\">glyph&nbsp;=&nbsp;Line(id='1203', ...),</div></div><div class=\"1229\" style=\"display: none;\"><div style=\"display: table-cell;\"></div><div style=\"display: table-cell;\">hover_glyph&nbsp;=&nbsp;None,</div></div><div class=\"1229\" style=\"display: none;\"><div style=\"display: table-cell;\"></div><div style=\"display: table-cell;\">js_event_callbacks&nbsp;=&nbsp;{},</div></div><div class=\"1229\" style=\"display: none;\"><div style=\"display: table-cell;\"></div><div style=\"display: table-cell;\">js_property_callbacks&nbsp;=&nbsp;{},</div></div><div class=\"1229\" style=\"display: none;\"><div style=\"display: table-cell;\"></div><div style=\"display: table-cell;\">level&nbsp;=&nbsp;'glyph',</div></div><div class=\"1229\" style=\"display: none;\"><div style=\"display: table-cell;\"></div><div style=\"display: table-cell;\">muted&nbsp;=&nbsp;False,</div></div><div class=\"1229\" style=\"display: none;\"><div style=\"display: table-cell;\"></div><div style=\"display: table-cell;\">muted_glyph&nbsp;=&nbsp;None,</div></div><div class=\"1229\" style=\"display: none;\"><div style=\"display: table-cell;\"></div><div style=\"display: table-cell;\">name&nbsp;=&nbsp;None,</div></div><div class=\"1229\" style=\"display: none;\"><div style=\"display: table-cell;\"></div><div style=\"display: table-cell;\">nonselection_glyph&nbsp;=&nbsp;Line(id='1204', ...),</div></div><div class=\"1229\" style=\"display: none;\"><div style=\"display: table-cell;\"></div><div style=\"display: table-cell;\">selection_glyph&nbsp;=&nbsp;None,</div></div><div class=\"1229\" style=\"display: none;\"><div style=\"display: table-cell;\"></div><div style=\"display: table-cell;\">subscribed_events&nbsp;=&nbsp;[],</div></div><div class=\"1229\" style=\"display: none;\"><div style=\"display: table-cell;\"></div><div style=\"display: table-cell;\">tags&nbsp;=&nbsp;[],</div></div><div class=\"1229\" style=\"display: none;\"><div style=\"display: table-cell;\"></div><div style=\"display: table-cell;\">view&nbsp;=&nbsp;CDSView(id='1206', ...),</div></div><div class=\"1229\" style=\"display: none;\"><div style=\"display: table-cell;\"></div><div style=\"display: table-cell;\">visible&nbsp;=&nbsp;True,</div></div><div class=\"1229\" style=\"display: none;\"><div style=\"display: table-cell;\"></div><div style=\"display: table-cell;\">x_range_name&nbsp;=&nbsp;'default',</div></div><div class=\"1229\" style=\"display: none;\"><div style=\"display: table-cell;\"></div><div style=\"display: table-cell;\">y_range_name&nbsp;=&nbsp;'default')</div></div></div>\n",
       "<script>\n",
       "(function() {\n",
       "  var expanded = false;\n",
       "  var ellipsis = document.getElementById(\"1230\");\n",
       "  ellipsis.addEventListener(\"click\", function() {\n",
       "    var rows = document.getElementsByClassName(\"1229\");\n",
       "    for (var i = 0; i < rows.length; i++) {\n",
       "      var el = rows[i];\n",
       "      el.style.display = expanded ? \"none\" : \"table-row\";\n",
       "    }\n",
       "    ellipsis.innerHTML = expanded ? \"&hellip;)\" : \"&lsaquo;&lsaquo;&lsaquo;\";\n",
       "    expanded = !expanded;\n",
       "  });\n",
       "})();\n",
       "</script>\n"
      ],
      "text/plain": [
       "GlyphRenderer(id='1205', ...)"
      ]
     },
     "execution_count": 18,
     "metadata": {},
     "output_type": "execute_result"
    }
   ],
   "source": [
    "fig.line(x = x,y = y,legend_label=\"Confirmed by Day\")"
   ]
  },
  {
   "cell_type": "code",
   "execution_count": 19,
   "metadata": {},
   "outputs": [
    {
     "data": {
      "text/html": [
       "\n",
       "\n",
       "\n",
       "\n",
       "\n",
       "\n",
       "  <div class=\"bk-root\" id=\"23606ae1-5251-4c9c-94c6-d8f0af756096\" data-root-id=\"1171\"></div>\n"
      ]
     },
     "metadata": {},
     "output_type": "display_data"
    },
    {
     "data": {
      "application/javascript": [
       "(function(root) {\n",
       "  function embed_document(root) {\n",
       "    \n",
       "  var docs_json = {\"8831a064-9213-49c6-bf3a-84e874fa5280\":{\"roots\":{\"references\":[{\"attributes\":{\"below\":[{\"id\":\"1182\"}],\"center\":[{\"id\":\"1185\"},{\"id\":\"1189\"},{\"id\":\"1227\"}],\"left\":[{\"id\":\"1186\"}],\"plot_height\":500,\"renderers\":[{\"id\":\"1205\"}],\"title\":{\"id\":\"1172\"},\"toolbar\":{\"id\":\"1196\"},\"x_range\":{\"id\":\"1174\"},\"x_scale\":{\"id\":\"1178\"},\"y_range\":{\"id\":\"1176\"},\"y_scale\":{\"id\":\"1180\"}},\"id\":\"1171\",\"subtype\":\"Figure\",\"type\":\"Plot\"},{\"attributes\":{\"axis\":{\"id\":\"1182\"},\"ticker\":null},\"id\":\"1185\",\"type\":\"Grid\"},{\"attributes\":{\"base\":60,\"mantissas\":[1,2,5,10,15,20,30],\"max_interval\":1800000.0,\"min_interval\":1000.0,\"num_minor_ticks\":0},\"id\":\"1214\",\"type\":\"AdaptiveTicker\"},{\"attributes\":{},\"id\":\"1225\",\"type\":\"Selection\"},{\"attributes\":{\"base\":24,\"mantissas\":[1,2,4,6,8,12],\"max_interval\":43200000.0,\"min_interval\":3600000.0,\"num_minor_ticks\":0},\"id\":\"1215\",\"type\":\"AdaptiveTicker\"},{\"attributes\":{\"days\":[1,2,3,4,5,6,7,8,9,10,11,12,13,14,15,16,17,18,19,20,21,22,23,24,25,26,27,28,29,30,31]},\"id\":\"1216\",\"type\":\"DaysTicker\"},{\"attributes\":{},\"id\":\"1191\",\"type\":\"PanTool\"},{\"attributes\":{},\"id\":\"1187\",\"type\":\"BasicTicker\"},{\"attributes\":{\"months\":[0,4,8]},\"id\":\"1222\",\"type\":\"MonthsTicker\"},{\"attributes\":{\"text\":\"Portugal cases evolution\"},\"id\":\"1172\",\"type\":\"Title\"},{\"attributes\":{\"days\":[1,4,7,10,13,16,19,22,25,28]},\"id\":\"1217\",\"type\":\"DaysTicker\"},{\"attributes\":{},\"id\":\"1174\",\"type\":\"DataRange1d\"},{\"attributes\":{\"days\":[1,8,15,22]},\"id\":\"1218\",\"type\":\"DaysTicker\"},{\"attributes\":{},\"id\":\"1226\",\"type\":\"UnionRenderers\"},{\"attributes\":{\"label\":{\"value\":\"Confirmed by Day\"},\"renderers\":[{\"id\":\"1205\"}]},\"id\":\"1228\",\"type\":\"LegendItem\"},{\"attributes\":{\"items\":[{\"id\":\"1228\"}]},\"id\":\"1227\",\"type\":\"Legend\"},{\"attributes\":{},\"id\":\"1176\",\"type\":\"DataRange1d\"},{\"attributes\":{\"months\":[0,2,4,6,8,10]},\"id\":\"1221\",\"type\":\"MonthsTicker\"},{\"attributes\":{},\"id\":\"1178\",\"type\":\"LinearScale\"},{\"attributes\":{\"formatter\":{\"id\":\"1208\"},\"ticker\":{\"id\":\"1187\"}},\"id\":\"1186\",\"type\":\"LinearAxis\"},{\"attributes\":{\"overlay\":{\"id\":\"1195\"}},\"id\":\"1193\",\"type\":\"BoxZoomTool\"},{\"attributes\":{},\"id\":\"1180\",\"type\":\"LinearScale\"},{\"attributes\":{\"bottom_units\":\"screen\",\"fill_alpha\":0.5,\"fill_color\":\"lightgrey\",\"left_units\":\"screen\",\"level\":\"overlay\",\"line_alpha\":1.0,\"line_color\":\"black\",\"line_dash\":[4,4],\"line_width\":2,\"right_units\":\"screen\",\"top_units\":\"screen\"},\"id\":\"1195\",\"type\":\"BoxAnnotation\"},{\"attributes\":{\"axis\":{\"id\":\"1186\"},\"dimension\":1,\"ticker\":null},\"id\":\"1189\",\"type\":\"Grid\"},{\"attributes\":{\"formatter\":{\"id\":\"1210\"},\"ticker\":{\"id\":\"1183\"}},\"id\":\"1182\",\"type\":\"DatetimeAxis\"},{\"attributes\":{\"data_source\":{\"id\":\"1202\"},\"glyph\":{\"id\":\"1203\"},\"hover_glyph\":null,\"muted_glyph\":null,\"nonselection_glyph\":{\"id\":\"1204\"},\"selection_glyph\":null,\"view\":{\"id\":\"1206\"}},\"id\":\"1205\",\"type\":\"GlyphRenderer\"},{\"attributes\":{\"callback\":null,\"tooltips\":\"value: @y\"},\"id\":\"1190\",\"type\":\"HoverTool\"},{\"attributes\":{\"num_minor_ticks\":5,\"tickers\":[{\"id\":\"1213\"},{\"id\":\"1214\"},{\"id\":\"1215\"},{\"id\":\"1216\"},{\"id\":\"1217\"},{\"id\":\"1218\"},{\"id\":\"1219\"},{\"id\":\"1220\"},{\"id\":\"1221\"},{\"id\":\"1222\"},{\"id\":\"1223\"},{\"id\":\"1224\"}]},\"id\":\"1183\",\"type\":\"DatetimeTicker\"},{\"attributes\":{\"data\":{\"x\":{\"__ndarray__\":\"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\",\"dtype\":\"float64\",\"order\":\"little\",\"shape\":[300]},\"y\":{\"__ndarray__\":\"AAAAAAAAAAAAAAAAAAAAAAAAAAAAAAAAAAAAAAAAAAAAAAAAAAAAAAAAAAAAAAAAAAAAAAAAAAAAAAAAAAAAAAAAAAAAAAAAAAAAAAAAAAAAAAAAAAAAAAAAAAAAAAAAAAAAAAAAAAAAAAAAAAAAAAAAAAAAAAAAAAAAAAAAAAAAAAAAAAAAAAAAAAAAAAAAAAAAAAAAAAAAAAAAAAAAAAIAAAAAAAAAAwAAAAMAAAAFAAAABwAAAAoAAAAAAAAACwAAABIAAAAAAAAANQAAADkAAABMAAAAVgAAAHUAAAAAAAAAUQEAAOsAAAAEAQAAQAEAAMwBAAAuAQAAeQIAACUCAADUAgAAhgMAABgDAAC+AQAACwQAACgDAAAPAwAAVAMAAH4CAADyAgAAxAEAAMgCAAC7AgAALwMAAOwFAAADAgAAVgIAAF0BAAACAgAAgwIAAO4CAAC1AAAAlwIAAAkCAACRAgAABAIAAFsCAABzAQAAvAEAAFMCAADYAQAAowAAACcBAAC3AAAAHAIAADIBAABf////XAAAAPIAAACyAAAA4AEAABUCAAApAgAAigAAAK8AAABiAAAA6gAAANsAAAC7AAAACAEAAOMAAADiAAAArQAAAN8AAADkAAAA/AAAACABAAAPAQAAmAAAAKUAAADbAAAAHQEAADABAABeAQAAAQEAACkBAADIAAAAwwAAAG4BAABLAQAAeQEAAH4BAABWAQAAwAAAAKUBAAAmAQAANgEAAA4BAAAbAQAA4wAAAFoBAAAsAQAAUAEAAKEBAAB3AQAAeQEAACQBAAADAQAAWQEAAG8BAAA3AQAAwwEAAEMBAADJAQAACgEAAOUAAAA5AQAASAEAAHYBAACdAQAASAEAAOgAAAAfAQAAuwEAAKIBAACSAQAAHgIAACMBAAAyAQAA6QAAAHcBAABTAQAAOAEAADkBAAD2AAAAhwAAAH8AAAD8AAAA5QAAADkBAAAHAQAA0QAAAIcAAABvAAAAywAAAP8AAADMAAAA7gAAAJkAAABqAAAAcAAAAKcAAADVAAAAIgEAALoAAACDAAAAnQAAAHgAAAAWAQAARQEAAOsAAADGAAAAeQAAAIQAAADWAAAA/QAAACMBAADbAAAA8QAAAJEAAAB7AAAAwAAAAGoBAACPAQAAkQEAAHYBAABAAQAA9AAAAOcAAACGAQAAogEAAJYBAADmAQAAOwEAAPkAAACEAQAAhgIAAEkCAACvAgAA8QEAAKECAABlAgAAqQEAAF0CAAACAwAADAMAAFEDAAAoAgAAbwIAAM8BAAAiAwAAswIAAIMDAAB0AwAAmQIAAKkBAACwAgAAOQMAAFYDAAB4AwAAwwMAAIgDAADeAgAAqwEAALADAAD+BAAAcgUAAG4GAABCBAAA4QQAALgEAAAYCAAANQgAADAKAABpCAAAQAcAAJ0HAABUBwAA5wkAAMYMAABTCwAAVQ4AABEKAACPCQAA4wwAAHgPAACAEAAAMBIAAKcPAAD2CwAAygkAACQKAABJHQAAOhEAAK4VAADwGQAAmBYAAAAQAADpDgAARxMAAM8WAAD9GQAAyhkAAJMXAACzIAAA\",\"dtype\":\"int32\",\"order\":\"little\",\"shape\":[300]}},\"selected\":{\"id\":\"1225\"},\"selection_policy\":{\"id\":\"1226\"}},\"id\":\"1202\",\"type\":\"ColumnDataSource\"},{\"attributes\":{\"source\":{\"id\":\"1202\"}},\"id\":\"1206\",\"type\":\"CDSView\"},{\"attributes\":{\"line_color\":\"#1f77b4\",\"x\":{\"field\":\"x\"},\"y\":{\"field\":\"y\"}},\"id\":\"1203\",\"type\":\"Line\"},{\"attributes\":{\"active_drag\":\"auto\",\"active_inspect\":\"auto\",\"active_multi\":null,\"active_scroll\":\"auto\",\"active_tap\":\"auto\",\"tools\":[{\"id\":\"1190\"},{\"id\":\"1191\"},{\"id\":\"1192\"},{\"id\":\"1193\"},{\"id\":\"1194\"}]},\"id\":\"1196\",\"type\":\"Toolbar\"},{\"attributes\":{\"line_alpha\":0.1,\"line_color\":\"#1f77b4\",\"x\":{\"field\":\"x\"},\"y\":{\"field\":\"y\"}},\"id\":\"1204\",\"type\":\"Line\"},{\"attributes\":{\"months\":[0,6]},\"id\":\"1223\",\"type\":\"MonthsTicker\"},{\"attributes\":{\"days\":[1,15]},\"id\":\"1219\",\"type\":\"DaysTicker\"},{\"attributes\":{},\"id\":\"1224\",\"type\":\"YearsTicker\"},{\"attributes\":{},\"id\":\"1208\",\"type\":\"BasicTickFormatter\"},{\"attributes\":{},\"id\":\"1210\",\"type\":\"DatetimeTickFormatter\"},{\"attributes\":{},\"id\":\"1194\",\"type\":\"ResetTool\"},{\"attributes\":{\"mantissas\":[1,2,5],\"max_interval\":500.0,\"num_minor_ticks\":0},\"id\":\"1213\",\"type\":\"AdaptiveTicker\"},{\"attributes\":{\"months\":[0,1,2,3,4,5,6,7,8,9,10,11]},\"id\":\"1220\",\"type\":\"MonthsTicker\"},{\"attributes\":{},\"id\":\"1192\",\"type\":\"WheelZoomTool\"}],\"root_ids\":[\"1171\"]},\"title\":\"Bokeh Application\",\"version\":\"2.2.3\"}};\n",
       "  var render_items = [{\"docid\":\"8831a064-9213-49c6-bf3a-84e874fa5280\",\"root_ids\":[\"1171\"],\"roots\":{\"1171\":\"23606ae1-5251-4c9c-94c6-d8f0af756096\"}}];\n",
       "  root.Bokeh.embed.embed_items_notebook(docs_json, render_items);\n",
       "\n",
       "  }\n",
       "  if (root.Bokeh !== undefined) {\n",
       "    embed_document(root);\n",
       "  } else {\n",
       "    var attempts = 0;\n",
       "    var timer = setInterval(function(root) {\n",
       "      if (root.Bokeh !== undefined) {\n",
       "        clearInterval(timer);\n",
       "        embed_document(root);\n",
       "      } else {\n",
       "        attempts++;\n",
       "        if (attempts > 100) {\n",
       "          clearInterval(timer);\n",
       "          console.log(\"Bokeh: ERROR: Unable to run BokehJS code because BokehJS library is missing\");\n",
       "        }\n",
       "      }\n",
       "    }, 10, root)\n",
       "  }\n",
       "})(window);"
      ],
      "application/vnd.bokehjs_exec.v0+json": ""
     },
     "metadata": {
      "application/vnd.bokehjs_exec.v0+json": {
       "id": "1171"
      }
     },
     "output_type": "display_data"
    }
   ],
   "source": [
    "show(fig)"
   ]
  },
  {
   "cell_type": "markdown",
   "metadata": {},
   "source": [
    "## Feels a bit empty no?\n",
    "\n",
    "#### Lets correlate the cases to the deaths."
   ]
  },
  {
   "cell_type": "code",
   "execution_count": 20,
   "metadata": {},
   "outputs": [],
   "source": [
    "y = selected_country[\"deaths\"].astype(int)"
   ]
  },
  {
   "cell_type": "code",
   "execution_count": 21,
   "metadata": {},
   "outputs": [
    {
     "data": {
      "text/html": [
       "<div style=\"display: table;\"><div style=\"display: table-row;\"><div style=\"display: table-cell;\"><b title=\"bokeh.models.renderers.GlyphRenderer\">GlyphRenderer</b>(</div><div style=\"display: table-cell;\">id&nbsp;=&nbsp;'1368', <span id=\"1466\" style=\"cursor: pointer;\">&hellip;)</span></div></div><div class=\"1465\" style=\"display: none;\"><div style=\"display: table-cell;\"></div><div style=\"display: table-cell;\">data_source&nbsp;=&nbsp;ColumnDataSource(id='1365', ...),</div></div><div class=\"1465\" style=\"display: none;\"><div style=\"display: table-cell;\"></div><div style=\"display: table-cell;\">glyph&nbsp;=&nbsp;Line(id='1366', ...),</div></div><div class=\"1465\" style=\"display: none;\"><div style=\"display: table-cell;\"></div><div style=\"display: table-cell;\">hover_glyph&nbsp;=&nbsp;None,</div></div><div class=\"1465\" style=\"display: none;\"><div style=\"display: table-cell;\"></div><div style=\"display: table-cell;\">js_event_callbacks&nbsp;=&nbsp;{},</div></div><div class=\"1465\" style=\"display: none;\"><div style=\"display: table-cell;\"></div><div style=\"display: table-cell;\">js_property_callbacks&nbsp;=&nbsp;{},</div></div><div class=\"1465\" style=\"display: none;\"><div style=\"display: table-cell;\"></div><div style=\"display: table-cell;\">level&nbsp;=&nbsp;'glyph',</div></div><div class=\"1465\" style=\"display: none;\"><div style=\"display: table-cell;\"></div><div style=\"display: table-cell;\">muted&nbsp;=&nbsp;False,</div></div><div class=\"1465\" style=\"display: none;\"><div style=\"display: table-cell;\"></div><div style=\"display: table-cell;\">muted_glyph&nbsp;=&nbsp;None,</div></div><div class=\"1465\" style=\"display: none;\"><div style=\"display: table-cell;\"></div><div style=\"display: table-cell;\">name&nbsp;=&nbsp;None,</div></div><div class=\"1465\" style=\"display: none;\"><div style=\"display: table-cell;\"></div><div style=\"display: table-cell;\">nonselection_glyph&nbsp;=&nbsp;Line(id='1367', ...),</div></div><div class=\"1465\" style=\"display: none;\"><div style=\"display: table-cell;\"></div><div style=\"display: table-cell;\">selection_glyph&nbsp;=&nbsp;None,</div></div><div class=\"1465\" style=\"display: none;\"><div style=\"display: table-cell;\"></div><div style=\"display: table-cell;\">subscribed_events&nbsp;=&nbsp;[],</div></div><div class=\"1465\" style=\"display: none;\"><div style=\"display: table-cell;\"></div><div style=\"display: table-cell;\">tags&nbsp;=&nbsp;[],</div></div><div class=\"1465\" style=\"display: none;\"><div style=\"display: table-cell;\"></div><div style=\"display: table-cell;\">view&nbsp;=&nbsp;CDSView(id='1369', ...),</div></div><div class=\"1465\" style=\"display: none;\"><div style=\"display: table-cell;\"></div><div style=\"display: table-cell;\">visible&nbsp;=&nbsp;True,</div></div><div class=\"1465\" style=\"display: none;\"><div style=\"display: table-cell;\"></div><div style=\"display: table-cell;\">x_range_name&nbsp;=&nbsp;'default',</div></div><div class=\"1465\" style=\"display: none;\"><div style=\"display: table-cell;\"></div><div style=\"display: table-cell;\">y_range_name&nbsp;=&nbsp;'default')</div></div></div>\n",
       "<script>\n",
       "(function() {\n",
       "  var expanded = false;\n",
       "  var ellipsis = document.getElementById(\"1466\");\n",
       "  ellipsis.addEventListener(\"click\", function() {\n",
       "    var rows = document.getElementsByClassName(\"1465\");\n",
       "    for (var i = 0; i < rows.length; i++) {\n",
       "      var el = rows[i];\n",
       "      el.style.display = expanded ? \"none\" : \"table-row\";\n",
       "    }\n",
       "    ellipsis.innerHTML = expanded ? \"&hellip;)\" : \"&lsaquo;&lsaquo;&lsaquo;\";\n",
       "    expanded = !expanded;\n",
       "  });\n",
       "})();\n",
       "</script>\n"
      ],
      "text/plain": [
       "GlyphRenderer(id='1368', ...)"
      ]
     },
     "execution_count": 21,
     "metadata": {},
     "output_type": "execute_result"
    }
   ],
   "source": [
    "fig.line(x = x,y = y,legend_label=\"Death by Day\",color=\"red\")"
   ]
  },
  {
   "cell_type": "code",
   "execution_count": 22,
   "metadata": {},
   "outputs": [
    {
     "data": {
      "text/html": [
       "\n",
       "\n",
       "\n",
       "\n",
       "\n",
       "\n",
       "  <div class=\"bk-root\" id=\"22f16e8f-cfe9-46c7-966c-55fed36746f3\" data-root-id=\"1171\"></div>\n"
      ]
     },
     "metadata": {},
     "output_type": "display_data"
    },
    {
     "data": {
      "application/javascript": [
       "(function(root) {\n",
       "  function embed_document(root) {\n",
       "    \n",
       "  var docs_json = {\"6b36de3d-5ec4-4699-b921-e25fbc540712\":{\"roots\":{\"references\":[{\"attributes\":{\"below\":[{\"id\":\"1182\"}],\"center\":[{\"id\":\"1185\"},{\"id\":\"1189\"},{\"id\":\"1227\"}],\"left\":[{\"id\":\"1186\"}],\"plot_height\":500,\"renderers\":[{\"id\":\"1205\"},{\"id\":\"1368\"}],\"title\":{\"id\":\"1172\"},\"toolbar\":{\"id\":\"1196\"},\"x_range\":{\"id\":\"1174\"},\"x_scale\":{\"id\":\"1178\"},\"y_range\":{\"id\":\"1176\"},\"y_scale\":{\"id\":\"1180\"}},\"id\":\"1171\",\"subtype\":\"Figure\",\"type\":\"Plot\"},{\"attributes\":{\"axis\":{\"id\":\"1182\"},\"ticker\":null},\"id\":\"1185\",\"type\":\"Grid\"},{\"attributes\":{\"base\":60,\"mantissas\":[1,2,5,10,15,20,30],\"max_interval\":1800000.0,\"min_interval\":1000.0,\"num_minor_ticks\":0},\"id\":\"1214\",\"type\":\"AdaptiveTicker\"},{\"attributes\":{},\"id\":\"1225\",\"type\":\"Selection\"},{\"attributes\":{\"base\":24,\"mantissas\":[1,2,4,6,8,12],\"max_interval\":43200000.0,\"min_interval\":3600000.0,\"num_minor_ticks\":0},\"id\":\"1215\",\"type\":\"AdaptiveTicker\"},{\"attributes\":{\"days\":[1,2,3,4,5,6,7,8,9,10,11,12,13,14,15,16,17,18,19,20,21,22,23,24,25,26,27,28,29,30,31]},\"id\":\"1216\",\"type\":\"DaysTicker\"},{\"attributes\":{},\"id\":\"1191\",\"type\":\"PanTool\"},{\"attributes\":{},\"id\":\"1187\",\"type\":\"BasicTicker\"},{\"attributes\":{\"source\":{\"id\":\"1365\"}},\"id\":\"1369\",\"type\":\"CDSView\"},{\"attributes\":{\"months\":[0,4,8]},\"id\":\"1222\",\"type\":\"MonthsTicker\"},{\"attributes\":{\"text\":\"Portugal cases evolution\"},\"id\":\"1172\",\"type\":\"Title\"},{\"attributes\":{\"line_color\":\"red\",\"x\":{\"field\":\"x\"},\"y\":{\"field\":\"y\"}},\"id\":\"1366\",\"type\":\"Line\"},{\"attributes\":{\"days\":[1,4,7,10,13,16,19,22,25,28]},\"id\":\"1217\",\"type\":\"DaysTicker\"},{\"attributes\":{\"months\":[0,1,2,3,4,5,6,7,8,9,10,11]},\"id\":\"1220\",\"type\":\"MonthsTicker\"},{\"attributes\":{},\"id\":\"1174\",\"type\":\"DataRange1d\"},{\"attributes\":{\"line_alpha\":0.1,\"line_color\":\"red\",\"x\":{\"field\":\"x\"},\"y\":{\"field\":\"y\"}},\"id\":\"1367\",\"type\":\"Line\"},{\"attributes\":{\"days\":[1,8,15,22]},\"id\":\"1218\",\"type\":\"DaysTicker\"},{\"attributes\":{},\"id\":\"1226\",\"type\":\"UnionRenderers\"},{\"attributes\":{\"label\":{\"value\":\"Confirmed by Day\"},\"renderers\":[{\"id\":\"1205\"}]},\"id\":\"1228\",\"type\":\"LegendItem\"},{\"attributes\":{\"items\":[{\"id\":\"1228\"},{\"id\":\"1428\"}]},\"id\":\"1227\",\"type\":\"Legend\"},{\"attributes\":{},\"id\":\"1176\",\"type\":\"DataRange1d\"},{\"attributes\":{\"months\":[0,2,4,6,8,10]},\"id\":\"1221\",\"type\":\"MonthsTicker\"},{\"attributes\":{\"data_source\":{\"id\":\"1365\"},\"glyph\":{\"id\":\"1366\"},\"hover_glyph\":null,\"muted_glyph\":null,\"nonselection_glyph\":{\"id\":\"1367\"},\"selection_glyph\":null,\"view\":{\"id\":\"1369\"}},\"id\":\"1368\",\"type\":\"GlyphRenderer\"},{\"attributes\":{},\"id\":\"1178\",\"type\":\"LinearScale\"},{\"attributes\":{\"formatter\":{\"id\":\"1208\"},\"ticker\":{\"id\":\"1187\"}},\"id\":\"1186\",\"type\":\"LinearAxis\"},{\"attributes\":{\"overlay\":{\"id\":\"1195\"}},\"id\":\"1193\",\"type\":\"BoxZoomTool\"},{\"attributes\":{},\"id\":\"1180\",\"type\":\"LinearScale\"},{\"attributes\":{\"bottom_units\":\"screen\",\"fill_alpha\":0.5,\"fill_color\":\"lightgrey\",\"left_units\":\"screen\",\"level\":\"overlay\",\"line_alpha\":1.0,\"line_color\":\"black\",\"line_dash\":[4,4],\"line_width\":2,\"right_units\":\"screen\",\"top_units\":\"screen\"},\"id\":\"1195\",\"type\":\"BoxAnnotation\"},{\"attributes\":{\"axis\":{\"id\":\"1186\"},\"dimension\":1,\"ticker\":null},\"id\":\"1189\",\"type\":\"Grid\"},{\"attributes\":{\"formatter\":{\"id\":\"1210\"},\"ticker\":{\"id\":\"1183\"}},\"id\":\"1182\",\"type\":\"DatetimeAxis\"},{\"attributes\":{},\"id\":\"1404\",\"type\":\"Selection\"},{\"attributes\":{\"data_source\":{\"id\":\"1202\"},\"glyph\":{\"id\":\"1203\"},\"hover_glyph\":null,\"muted_glyph\":null,\"nonselection_glyph\":{\"id\":\"1204\"},\"selection_glyph\":null,\"view\":{\"id\":\"1206\"}},\"id\":\"1205\",\"type\":\"GlyphRenderer\"},{\"attributes\":{\"callback\":null,\"tooltips\":\"value: @y\"},\"id\":\"1190\",\"type\":\"HoverTool\"},{\"attributes\":{\"num_minor_ticks\":5,\"tickers\":[{\"id\":\"1213\"},{\"id\":\"1214\"},{\"id\":\"1215\"},{\"id\":\"1216\"},{\"id\":\"1217\"},{\"id\":\"1218\"},{\"id\":\"1219\"},{\"id\":\"1220\"},{\"id\":\"1221\"},{\"id\":\"1222\"},{\"id\":\"1223\"},{\"id\":\"1224\"}]},\"id\":\"1183\",\"type\":\"DatetimeTicker\"},{\"attributes\":{\"data\":{\"x\":{\"__ndarray__\":\"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\",\"dtype\":\"float64\",\"order\":\"little\",\"shape\":[300]},\"y\":{\"__ndarray__\":\"AAAAAAAAAAAAAAAAAAAAAAAAAAAAAAAAAAAAAAAAAAAAAAAAAAAAAAAAAAAAAAAAAAAAAAAAAAAAAAAAAAAAAAAAAAAAAAAAAAAAAAAAAAAAAAAAAAAAAAAAAAAAAAAAAAAAAAAAAAAAAAAAAAAAAAAAAAAAAAAAAAAAAAAAAAAAAAAAAAAAAAAAAAAAAAAAAAAAAAAAAAAAAAAAAAAAAAAAAAAAAAAAAAAAAAAAAAAAAAAAAAAAAAAAAAAAAAAAAAAAAAAAAAAAAAAAAAAAAAAAAAAAAAAAAAAAAAEAAAABAAAAAQAAAAMAAAAGAAAAAgAAAAkAAAAKAAAACgAAABEAAAAQAAAAGAAAABMAAAAVAAAAFAAAABsAAAAWAAAAJQAAABQAAAAdAAAAEAAAACIAAAAjAAAAHQAAABoAAAAjAAAAIgAAAB8AAAAgAAAAIAAAAB4AAAAcAAAAHgAAABsAAAAVAAAAGwAAABcAAAAjAAAAIgAAABoAAAAXAAAAGQAAABQAAAAZAAAAEAAAABIAAAAQAAAAFAAAABQAAAALAAAADwAAABAAAAAJAAAADAAAAAkAAAAJAAAAEwAAAAwAAAAJAAAABgAAAA0AAAAPAAAADQAAABAAAAAQAAAADgAAAAwAAAANAAAADgAAAA4AAAAMAAAADgAAAA0AAAAOAAAADQAAAA4AAAAOAAAADAAAAAsAAAAIAAAACgAAAAkAAAAFAAAABgAAAAcAAAAFAAAABwAAAAEAAAAHAAAABQAAAAMAAAACAAAAAQAAAAEAAAADAAAAAQAAAAIAAAAEAAAABgAAAAMAAAAGAAAABgAAAAYAAAADAAAABAAAAAgAAAADAAAACAAAAAsAAAAHAAAACQAAAAYAAAAJAAAAAgAAAA0AAAACAAAACAAAAAYAAAACAAAABgAAAAgAAAADAAAAAwAAAAIAAAAFAAAAAgAAAAYAAAAFAAAAAwAAAAcAAAAEAAAAAQAAAAIAAAADAAAAAwAAAAIAAAAIAAAAAgAAAAEAAAAAAAAAAQAAAAEAAAADAAAAAwAAAAQAAAAGAAAAAwAAAAIAAAADAAAABgAAAAIAAAADAAAAAwAAAAEAAAAFAAAAAgAAAAIAAAAEAAAAAgAAAAIAAAAFAAAABAAAAAIAAAACAAAABgAAAAMAAAABAAAAAwAAAAIAAAADAAAAAgAAAAQAAAAFAAAAAgAAAAMAAAADAAAAAwAAAAMAAAADAAAABQAAAAcAAAAEAAAABAAAAAMAAAAKAAAABgAAAAUAAAANAAAACAAAAAUAAAADAAAAAwAAAAUAAAAIAAAACQAAAAQAAAAGAAAACAAAAAYAAAAGAAAADAAAAAoAAAANAAAADgAAAAgAAAAKAAAADAAAAAUAAAANAAAADgAAABAAAAAHAAAACwAAABUAAAANAAAAEwAAABEAAAAPAAAAEAAAABAAAAAfAAAAFQAAABMAAAAbAAAAHAAAABgAAAAhAAAAKAAAACcAAAAlAAAALgAAAC0AAAA7AAAALgAAADQAAAA4AAAAMAAAAD8AAAA+AAAAUgAAAE4AAABFAAAANwAAAEwAAABbAAAA\",\"dtype\":\"int32\",\"order\":\"little\",\"shape\":[300]}},\"selected\":{\"id\":\"1404\"},\"selection_policy\":{\"id\":\"1405\"}},\"id\":\"1365\",\"type\":\"ColumnDataSource\"},{\"attributes\":{},\"id\":\"1405\",\"type\":\"UnionRenderers\"},{\"attributes\":{\"data\":{\"x\":{\"__ndarray__\":\"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\",\"dtype\":\"float64\",\"order\":\"little\",\"shape\":[300]},\"y\":{\"__ndarray__\":\"AAAAAAAAAAAAAAAAAAAAAAAAAAAAAAAAAAAAAAAAAAAAAAAAAAAAAAAAAAAAAAAAAAAAAAAAAAAAAAAAAAAAAAAAAAAAAAAAAAAAAAAAAAAAAAAAAAAAAAAAAAAAAAAAAAAAAAAAAAAAAAAAAAAAAAAAAAAAAAAAAAAAAAAAAAAAAAAAAAAAAAAAAAAAAAAAAAAAAAAAAAAAAAAAAAAAAAIAAAAAAAAAAwAAAAMAAAAFAAAABwAAAAoAAAAAAAAACwAAABIAAAAAAAAANQAAADkAAABMAAAAVgAAAHUAAAAAAAAAUQEAAOsAAAAEAQAAQAEAAMwBAAAuAQAAeQIAACUCAADUAgAAhgMAABgDAAC+AQAACwQAACgDAAAPAwAAVAMAAH4CAADyAgAAxAEAAMgCAAC7AgAALwMAAOwFAAADAgAAVgIAAF0BAAACAgAAgwIAAO4CAAC1AAAAlwIAAAkCAACRAgAABAIAAFsCAABzAQAAvAEAAFMCAADYAQAAowAAACcBAAC3AAAAHAIAADIBAABf////XAAAAPIAAACyAAAA4AEAABUCAAApAgAAigAAAK8AAABiAAAA6gAAANsAAAC7AAAACAEAAOMAAADiAAAArQAAAN8AAADkAAAA/AAAACABAAAPAQAAmAAAAKUAAADbAAAAHQEAADABAABeAQAAAQEAACkBAADIAAAAwwAAAG4BAABLAQAAeQEAAH4BAABWAQAAwAAAAKUBAAAmAQAANgEAAA4BAAAbAQAA4wAAAFoBAAAsAQAAUAEAAKEBAAB3AQAAeQEAACQBAAADAQAAWQEAAG8BAAA3AQAAwwEAAEMBAADJAQAACgEAAOUAAAA5AQAASAEAAHYBAACdAQAASAEAAOgAAAAfAQAAuwEAAKIBAACSAQAAHgIAACMBAAAyAQAA6QAAAHcBAABTAQAAOAEAADkBAAD2AAAAhwAAAH8AAAD8AAAA5QAAADkBAAAHAQAA0QAAAIcAAABvAAAAywAAAP8AAADMAAAA7gAAAJkAAABqAAAAcAAAAKcAAADVAAAAIgEAALoAAACDAAAAnQAAAHgAAAAWAQAARQEAAOsAAADGAAAAeQAAAIQAAADWAAAA/QAAACMBAADbAAAA8QAAAJEAAAB7AAAAwAAAAGoBAACPAQAAkQEAAHYBAABAAQAA9AAAAOcAAACGAQAAogEAAJYBAADmAQAAOwEAAPkAAACEAQAAhgIAAEkCAACvAgAA8QEAAKECAABlAgAAqQEAAF0CAAACAwAADAMAAFEDAAAoAgAAbwIAAM8BAAAiAwAAswIAAIMDAAB0AwAAmQIAAKkBAACwAgAAOQMAAFYDAAB4AwAAwwMAAIgDAADeAgAAqwEAALADAAD+BAAAcgUAAG4GAABCBAAA4QQAALgEAAAYCAAANQgAADAKAABpCAAAQAcAAJ0HAABUBwAA5wkAAMYMAABTCwAAVQ4AABEKAACPCQAA4wwAAHgPAACAEAAAMBIAAKcPAAD2CwAAygkAACQKAABJHQAAOhEAAK4VAADwGQAAmBYAAAAQAADpDgAARxMAAM8WAAD9GQAAyhkAAJMXAACzIAAA\",\"dtype\":\"int32\",\"order\":\"little\",\"shape\":[300]}},\"selected\":{\"id\":\"1225\"},\"selection_policy\":{\"id\":\"1226\"}},\"id\":\"1202\",\"type\":\"ColumnDataSource\"},{\"attributes\":{\"source\":{\"id\":\"1202\"}},\"id\":\"1206\",\"type\":\"CDSView\"},{\"attributes\":{\"line_color\":\"#1f77b4\",\"x\":{\"field\":\"x\"},\"y\":{\"field\":\"y\"}},\"id\":\"1203\",\"type\":\"Line\"},{\"attributes\":{\"active_drag\":\"auto\",\"active_inspect\":\"auto\",\"active_multi\":null,\"active_scroll\":\"auto\",\"active_tap\":\"auto\",\"tools\":[{\"id\":\"1190\"},{\"id\":\"1191\"},{\"id\":\"1192\"},{\"id\":\"1193\"},{\"id\":\"1194\"}]},\"id\":\"1196\",\"type\":\"Toolbar\"},{\"attributes\":{\"line_alpha\":0.1,\"line_color\":\"#1f77b4\",\"x\":{\"field\":\"x\"},\"y\":{\"field\":\"y\"}},\"id\":\"1204\",\"type\":\"Line\"},{\"attributes\":{\"months\":[0,6]},\"id\":\"1223\",\"type\":\"MonthsTicker\"},{\"attributes\":{\"days\":[1,15]},\"id\":\"1219\",\"type\":\"DaysTicker\"},{\"attributes\":{},\"id\":\"1224\",\"type\":\"YearsTicker\"},{\"attributes\":{},\"id\":\"1208\",\"type\":\"BasicTickFormatter\"},{\"attributes\":{},\"id\":\"1210\",\"type\":\"DatetimeTickFormatter\"},{\"attributes\":{},\"id\":\"1194\",\"type\":\"ResetTool\"},{\"attributes\":{\"mantissas\":[1,2,5],\"max_interval\":500.0,\"num_minor_ticks\":0},\"id\":\"1213\",\"type\":\"AdaptiveTicker\"},{\"attributes\":{\"label\":{\"value\":\"Death by Day\"},\"renderers\":[{\"id\":\"1368\"}]},\"id\":\"1428\",\"type\":\"LegendItem\"},{\"attributes\":{},\"id\":\"1192\",\"type\":\"WheelZoomTool\"}],\"root_ids\":[\"1171\"]},\"title\":\"Bokeh Application\",\"version\":\"2.2.3\"}};\n",
       "  var render_items = [{\"docid\":\"6b36de3d-5ec4-4699-b921-e25fbc540712\",\"root_ids\":[\"1171\"],\"roots\":{\"1171\":\"22f16e8f-cfe9-46c7-966c-55fed36746f3\"}}];\n",
       "  root.Bokeh.embed.embed_items_notebook(docs_json, render_items);\n",
       "\n",
       "  }\n",
       "  if (root.Bokeh !== undefined) {\n",
       "    embed_document(root);\n",
       "  } else {\n",
       "    var attempts = 0;\n",
       "    var timer = setInterval(function(root) {\n",
       "      if (root.Bokeh !== undefined) {\n",
       "        clearInterval(timer);\n",
       "        embed_document(root);\n",
       "      } else {\n",
       "        attempts++;\n",
       "        if (attempts > 100) {\n",
       "          clearInterval(timer);\n",
       "          console.log(\"Bokeh: ERROR: Unable to run BokehJS code because BokehJS library is missing\");\n",
       "        }\n",
       "      }\n",
       "    }, 10, root)\n",
       "  }\n",
       "})(window);"
      ],
      "application/vnd.bokehjs_exec.v0+json": ""
     },
     "metadata": {
      "application/vnd.bokehjs_exec.v0+json": {
       "id": "1171"
      }
     },
     "output_type": "display_data"
    }
   ],
   "source": [
    "show(fig)"
   ]
  },
  {
   "cell_type": "markdown",
   "metadata": {},
   "source": [
    "### Yet again, we still have space for more!\n",
    "#### Now let us add the cumulative data for both cases and deaths."
   ]
  },
  {
   "cell_type": "markdown",
   "metadata": {},
   "source": [
    "These lines share the same x, with bokeh we can simplify the way we do this.\n",
    "And this time we want to be able to zoom, but only on the x axis."
   ]
  },
  {
   "cell_type": "code",
   "execution_count": 23,
   "metadata": {},
   "outputs": [],
   "source": [
    "total = selected_country[[\"confirmed_cases\",\"deaths\"]].cumsum()"
   ]
  },
  {
   "cell_type": "code",
   "execution_count": 24,
   "metadata": {},
   "outputs": [
    {
     "data": {
      "text/html": [
       "\n",
       "\n",
       "\n",
       "\n",
       "\n",
       "\n",
       "  <div class=\"bk-root\" id=\"eb9bfd46-5cd2-4d21-9b1c-6d1f63ddf690\" data-root-id=\"1171\"></div>\n"
      ]
     },
     "metadata": {},
     "output_type": "display_data"
    },
    {
     "data": {
      "application/javascript": [
       "(function(root) {\n",
       "  function embed_document(root) {\n",
       "    \n",
       "  var docs_json = {\"e96d2bed-1c89-47d3-989e-fd3ba056bc50\":{\"roots\":{\"references\":[{\"attributes\":{\"below\":[{\"id\":\"1182\"}],\"center\":[{\"id\":\"1185\"},{\"id\":\"1189\"},{\"id\":\"1227\"}],\"left\":[{\"id\":\"1186\"}],\"plot_height\":500,\"renderers\":[{\"id\":\"1205\"},{\"id\":\"1368\"},{\"id\":\"1580\"},{\"id\":\"1686\"}],\"title\":{\"id\":\"1172\"},\"toolbar\":{\"id\":\"1196\"},\"x_range\":{\"id\":\"1174\"},\"x_scale\":{\"id\":\"1178\"},\"y_range\":{\"id\":\"1176\"},\"y_scale\":{\"id\":\"1180\"}},\"id\":\"1171\",\"subtype\":\"Figure\",\"type\":\"Plot\"},{\"attributes\":{\"axis\":{\"id\":\"1182\"},\"ticker\":null},\"id\":\"1185\",\"type\":\"Grid\"},{\"attributes\":{\"base\":60,\"mantissas\":[1,2,5,10,15,20,30],\"max_interval\":1800000.0,\"min_interval\":1000.0,\"num_minor_ticks\":0},\"id\":\"1214\",\"type\":\"AdaptiveTicker\"},{\"attributes\":{},\"id\":\"1225\",\"type\":\"Selection\"},{\"attributes\":{\"base\":24,\"mantissas\":[1,2,4,6,8,12],\"max_interval\":43200000.0,\"min_interval\":3600000.0,\"num_minor_ticks\":0},\"id\":\"1215\",\"type\":\"AdaptiveTicker\"},{\"attributes\":{\"source\":{\"id\":\"1683\"}},\"id\":\"1687\",\"type\":\"CDSView\"},{\"attributes\":{\"days\":[1,2,3,4,5,6,7,8,9,10,11,12,13,14,15,16,17,18,19,20,21,22,23,24,25,26,27,28,29,30,31]},\"id\":\"1216\",\"type\":\"DaysTicker\"},{\"attributes\":{},\"id\":\"1191\",\"type\":\"PanTool\"},{\"attributes\":{\"line_alpha\":0.1,\"line_color\":\"orange\",\"x\":{\"field\":\"x\"},\"y\":{\"field\":\"y\"}},\"id\":\"1685\",\"type\":\"Line\"},{\"attributes\":{},\"id\":\"1187\",\"type\":\"BasicTicker\"},{\"attributes\":{\"source\":{\"id\":\"1365\"}},\"id\":\"1369\",\"type\":\"CDSView\"},{\"attributes\":{\"data_source\":{\"id\":\"1683\"},\"glyph\":{\"id\":\"1684\"},\"hover_glyph\":null,\"muted_glyph\":null,\"nonselection_glyph\":{\"id\":\"1685\"},\"selection_glyph\":null,\"view\":{\"id\":\"1687\"}},\"id\":\"1686\",\"type\":\"GlyphRenderer\"},{\"attributes\":{\"data\":{\"x\":{\"__ndarray__\":\"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\",\"dtype\":\"float64\",\"order\":\"little\",\"shape\":[300]},\"y\":{\"__ndarray__\":\"AAAAAAAAAAAAAAAAAAAAAAAAAAAAAAAAAAAAAAAAAAAAAAAAAAAAAAAAAAAAAAAAAAAAAAAAAAAAAAAAAAAAAAAAAAAAAAAAAAAAAAAAAAAAAAAAAAAAAAAAAAAAAAAAAAAAAAAAAAAAAAAAAAAAAAAAAAAAAAAAAAAAAAAAAAAAAAAAAAAAAAAAAAAAAAAAAAAAAAAAAAAAAAAAAAAAAAAAAAAAAAAAAAAAAAAAAAAAAAAAAAAAAAAAAAAAAAAAAAAAAAAAAAAAAAAAAAAAAAAAAAAAAAAAAAAAAAAAAAAAAAAAAAAAAAAAAAAAAAAAAAAAAAAAAAAAAAAAAAAAAAAAAAAAAAAAAAAAAAAAAAAAAAAAAAAAAAAAAAAAAAAAAAAAAAAAAAAAAAAAAAAAAAAAAAAAAAAAAAAAAAAAAAAAAAAAAAAAAAAAAAAAAAAAAAAAAAAAAAAAAAAAAAAAAAAAAAAAAAAAAAAAAAAAAAAAAAAAAAAAAAAAAAAAAAAAAAAAAAAAAAAAAAAAAAAAAAAAAAAAAAAAAAAAAAAAAAAAAAAAAAAAAAAAAAAAAAAAAAAAAAAAAAAAAAAAAADwPwAAAAAAAABAAAAAAAAACEAAAAAAAAAYQAAAAAAAAChAAAAAAAAALEAAAAAAAAA3QAAAAAAAgEBAAAAAAACARUAAAAAAAABOQAAAAAAAAFNAAAAAAAAAWUAAAAAAAMBdQAAAAAAAgGFAAAAAAAAAZEAAAAAAAGBnQAAAAAAAIGpAAAAAAADAbkAAAAAAAKBwQAAAAAAAcHJAAAAAAABwc0AAAAAAAJB1QAAAAAAAwHdAAAAAAACQeUAAAAAAADB7QAAAAAAAYH1AAAAAAACAf0AAAAAAALiAQAAAAAAAuIFAAAAAAAC4gkAAAAAAAKiDQAAAAAAAiIRAAAAAAAB4hUAAAAAAAFCGQAAAAAAA+IZAAAAAAADQh0AAAAAAAIiIQAAAAAAAoIlAAAAAAACwikAAAAAAAICLQAAAAAAAOIxAAAAAAAAAjUAAAAAAAKCNQAAAAAAAaI5AAAAAAADojkAAAAAAAHiPQAAAAAAA+I9AAAAAAABMkEAAAAAAAJyQQAAAAAAAyJBAAAAAAAAEkUAAAAAAAESRQAAAAAAAaJFAAAAAAACYkUAAAAAAALyRQAAAAAAA4JFAAAAAAAAskkAAAAAAAFySQAAAAAAAgJJAAAAAAACYkkAAAAAAAMySQAAAAAAACJNAAAAAAAA8k0AAAAAAAHyTQAAAAAAAvJNAAAAAAAD0k0AAAAAAACSUQAAAAAAAWJRAAAAAAACQlEAAAAAAAMiUQAAAAAAA+JRAAAAAAAAwlUAAAAAAAGSVQAAAAAAAnJVAAAAAAADQlUAAAAAAAAiWQAAAAAAAQJZAAAAAAABwlkAAAAAAAJyWQAAAAAAAvJZAAAAAAADklkAAAAAAAAiXQAAAAAAAHJdAAAAAAAA0l0AAAAAAAFCXQAAAAAAAZJdAAAAAAACAl0AAAAAAAISXQAAAAAAAoJdAAAAAAAC0l0AAAAAAAMCXQAAAAAAAyJdAAAAAAADMl0AAAAAAANCXQAAAAAAA3JdAAAAAAADgl0AAAAAAAOiXQAAAAAAA+JdAAAAAAAAQmEAAAAAAAByYQAAAAAAANJhAAAAAAABMmEAAAAAAAGSYQAAAAAAAcJhAAAAAAACAmEAAAAAAAKCYQAAAAAAArJhAAAAAAADMmEAAAAAAAPiYQAAAAAAAFJlAAAAAAAA4mUAAAAAAAFCZQAAAAAAAdJlAAAAAAAB8mUAAAAAAALCZQAAAAAAAuJlAAAAAAADYmUAAAAAAAPCZQAAAAAAA+JlAAAAAAAAQmkAAAAAAADCaQAAAAAAAPJpAAAAAAABImkAAAAAAAFCaQAAAAAAAZJpAAAAAAABsmkAAAAAAAISaQAAAAAAAmJpAAAAAAACkmkAAAAAAAMCaQAAAAAAA0JpAAAAAAADUmkAAAAAAANyaQAAAAAAA6JpAAAAAAAD0mkAAAAAAAPyaQAAAAAAAHJtAAAAAAAAkm0AAAAAAACibQAAAAAAAKJtAAAAAAAAsm0AAAAAAADCbQAAAAAAAPJtAAAAAAABIm0AAAAAAAFibQAAAAAAAcJtAAAAAAAB8m0AAAAAAAISbQAAAAAAAkJtAAAAAAACom0AAAAAAALCbQAAAAAAAvJtAAAAAAADIm0AAAAAAAMybQAAAAAAA4JtAAAAAAADom0AAAAAAAPCbQAAAAAAAAJxAAAAAAAAInEAAAAAAABCcQAAAAAAAJJxAAAAAAAA0nEAAAAAAADycQAAAAAAARJxAAAAAAABcnEAAAAAAAGicQAAAAAAAbJxAAAAAAAB4nEAAAAAAAICcQAAAAAAAjJxAAAAAAACUnEAAAAAAAKScQAAAAAAAuJxAAAAAAADAnEAAAAAAAMycQAAAAAAA2JxAAAAAAADknEAAAAAAAPCcQAAAAAAA/JxAAAAAAAAQnUAAAAAAACydQAAAAAAAPJ1AAAAAAABMnUAAAAAAAFidQAAAAAAAgJ1AAAAAAACYnUAAAAAAAKydQAAAAAAA4J1AAAAAAAAAnkAAAAAAABSeQAAAAAAAIJ5AAAAAAAAsnkAAAAAAAECeQAAAAAAAYJ5AAAAAAACEnkAAAAAAAJSeQAAAAAAArJ5AAAAAAADMnkAAAAAAAOSeQAAAAAAA/J5AAAAAAAAsn0AAAAAAAFSfQAAAAAAAiJ9AAAAAAADAn0AAAAAAAOCfQAAAAAAABKBAAAAAAAAcoEAAAAAAACagQAAAAAAAQKBAAAAAAABcoEAAAAAAAHygQAAAAAAAiqBAAAAAAACgoEAAAAAAAMqgQAAAAAAA5KBAAAAAAAAKoUAAAAAAACyhQAAAAAAASqFAAAAAAABqoUAAAAAAAIqhQAAAAAAAyKFAAAAAAADyoUAAAAAAABiiQAAAAAAATqJAAAAAAACGokAAAAAAALaiQAAAAAAA+KJAAAAAAABIo0AAAAAAAJajQAAAAAAA4KNAAAAAAAA8pEAAAAAAAJakQAAAAAAADKVAAAAAAABopUAAAAAAANClQAAAAAAAQKZAAAAAAACgpkAAAAAAAB6nQAAAAAAAmqdAAAAAAAA+qEAAAAAAANqoQAAAAAAAZKlAAAAAAADSqUAAAAAAAGqqQAAAAAAAIKtA\",\"dtype\":\"float64\",\"order\":\"little\",\"shape\":[300]}},\"selected\":{\"id\":\"1618\"},\"selection_policy\":{\"id\":\"1619\"}},\"id\":\"1577\",\"type\":\"ColumnDataSource\"},{\"attributes\":{\"text\":\"Portugal cases evolution\"},\"id\":\"1172\",\"type\":\"Title\"},{\"attributes\":{\"line_color\":\"red\",\"x\":{\"field\":\"x\"},\"y\":{\"field\":\"y\"}},\"id\":\"1366\",\"type\":\"Line\"},{\"attributes\":{\"days\":[1,4,7,10,13,16,19,22,25,28]},\"id\":\"1217\",\"type\":\"DaysTicker\"},{\"attributes\":{\"months\":[0,4,8]},\"id\":\"1222\",\"type\":\"MonthsTicker\"},{\"attributes\":{},\"id\":\"1726\",\"type\":\"Selection\"},{\"attributes\":{\"months\":[0,1,2,3,4,5,6,7,8,9,10,11]},\"id\":\"1220\",\"type\":\"MonthsTicker\"},{\"attributes\":{},\"id\":\"1174\",\"type\":\"DataRange1d\"},{\"attributes\":{\"line_alpha\":0.1,\"line_color\":\"red\",\"x\":{\"field\":\"x\"},\"y\":{\"field\":\"y\"}},\"id\":\"1367\",\"type\":\"Line\"},{\"attributes\":{\"days\":[1,8,15,22]},\"id\":\"1218\",\"type\":\"DaysTicker\"},{\"attributes\":{\"line_color\":\"orange\",\"x\":{\"field\":\"x\"},\"y\":{\"field\":\"y\"}},\"id\":\"1684\",\"type\":\"Line\"},{\"attributes\":{},\"id\":\"1226\",\"type\":\"UnionRenderers\"},{\"attributes\":{\"label\":{\"value\":\"Confirmed by Day\"},\"renderers\":[{\"id\":\"1205\"}]},\"id\":\"1228\",\"type\":\"LegendItem\"},{\"attributes\":{\"items\":[{\"id\":\"1228\"},{\"id\":\"1428\"},{\"id\":\"1644\"},{\"id\":\"1754\"}]},\"id\":\"1227\",\"type\":\"Legend\"},{\"attributes\":{},\"id\":\"1727\",\"type\":\"UnionRenderers\"},{\"attributes\":{},\"id\":\"1176\",\"type\":\"DataRange1d\"},{\"attributes\":{\"months\":[0,2,4,6,8,10]},\"id\":\"1221\",\"type\":\"MonthsTicker\"},{\"attributes\":{\"data_source\":{\"id\":\"1365\"},\"glyph\":{\"id\":\"1366\"},\"hover_glyph\":null,\"muted_glyph\":null,\"nonselection_glyph\":{\"id\":\"1367\"},\"selection_glyph\":null,\"view\":{\"id\":\"1369\"}},\"id\":\"1368\",\"type\":\"GlyphRenderer\"},{\"attributes\":{},\"id\":\"1618\",\"type\":\"Selection\"},{\"attributes\":{},\"id\":\"1178\",\"type\":\"LinearScale\"},{\"attributes\":{\"data\":{\"x\":{\"__ndarray__\":\"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\",\"dtype\":\"float64\",\"order\":\"little\",\"shape\":[300]},\"y\":{\"__ndarray__\":\"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\",\"dtype\":\"float64\",\"order\":\"little\",\"shape\":[300]}},\"selected\":{\"id\":\"1726\"},\"selection_policy\":{\"id\":\"1727\"}},\"id\":\"1683\",\"type\":\"ColumnDataSource\"},{\"attributes\":{\"formatter\":{\"id\":\"1208\"},\"ticker\":{\"id\":\"1187\"}},\"id\":\"1186\",\"type\":\"LinearAxis\"},{\"attributes\":{\"overlay\":{\"id\":\"1195\"}},\"id\":\"1193\",\"type\":\"BoxZoomTool\"},{\"attributes\":{},\"id\":\"1180\",\"type\":\"LinearScale\"},{\"attributes\":{\"source\":{\"id\":\"1577\"}},\"id\":\"1581\",\"type\":\"CDSView\"},{\"attributes\":{\"line_color\":\"yellow\",\"x\":{\"field\":\"x\"},\"y\":{\"field\":\"y\"}},\"id\":\"1578\",\"type\":\"Line\"},{\"attributes\":{\"bottom_units\":\"screen\",\"fill_alpha\":0.5,\"fill_color\":\"lightgrey\",\"left_units\":\"screen\",\"level\":\"overlay\",\"line_alpha\":1.0,\"line_color\":\"black\",\"line_dash\":[4,4],\"line_width\":2,\"right_units\":\"screen\",\"top_units\":\"screen\"},\"id\":\"1195\",\"type\":\"BoxAnnotation\"},{\"attributes\":{\"axis\":{\"id\":\"1186\"},\"dimension\":1,\"ticker\":null},\"id\":\"1189\",\"type\":\"Grid\"},{\"attributes\":{\"formatter\":{\"id\":\"1210\"},\"ticker\":{\"id\":\"1183\"}},\"id\":\"1182\",\"type\":\"DatetimeAxis\"},{\"attributes\":{\"line_alpha\":0.1,\"line_color\":\"yellow\",\"x\":{\"field\":\"x\"},\"y\":{\"field\":\"y\"}},\"id\":\"1579\",\"type\":\"Line\"},{\"attributes\":{\"data_source\":{\"id\":\"1202\"},\"glyph\":{\"id\":\"1203\"},\"hover_glyph\":null,\"muted_glyph\":null,\"nonselection_glyph\":{\"id\":\"1204\"},\"selection_glyph\":null,\"view\":{\"id\":\"1206\"}},\"id\":\"1205\",\"type\":\"GlyphRenderer\"},{\"attributes\":{\"callback\":null,\"tooltips\":\"value: @y\"},\"id\":\"1190\",\"type\":\"HoverTool\"},{\"attributes\":{\"label\":{\"value\":\"Cumulative Death\"},\"renderers\":[{\"id\":\"1580\"}]},\"id\":\"1644\",\"type\":\"LegendItem\"},{\"attributes\":{\"num_minor_ticks\":5,\"tickers\":[{\"id\":\"1213\"},{\"id\":\"1214\"},{\"id\":\"1215\"},{\"id\":\"1216\"},{\"id\":\"1217\"},{\"id\":\"1218\"},{\"id\":\"1219\"},{\"id\":\"1220\"},{\"id\":\"1221\"},{\"id\":\"1222\"},{\"id\":\"1223\"},{\"id\":\"1224\"}]},\"id\":\"1183\",\"type\":\"DatetimeTicker\"},{\"attributes\":{},\"id\":\"1404\",\"type\":\"Selection\"},{\"attributes\":{\"data\":{\"x\":{\"__ndarray__\":\"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\",\"dtype\":\"float64\",\"order\":\"little\",\"shape\":[300]},\"y\":{\"__ndarray__\":\"AAAAAAAAAAAAAAAAAAAAAAAAAAAAAAAAAAAAAAAAAAAAAAAAAAAAAAAAAAAAAAAAAAAAAAAAAAAAAAAAAAAAAAAAAAAAAAAAAAAAAAAAAAAAAAAAAAAAAAAAAAAAAAAAAAAAAAAAAAAAAAAAAAAAAAAAAAAAAAAAAAAAAAAAAAAAAAAAAAAAAAAAAAAAAAAAAAAAAAAAAAAAAAAAAAAAAAAAAAAAAAAAAAAAAAAAAAAAAAAAAAAAAAAAAAAAAAAAAAAAAAAAAAAAAAAAAAAAAAAAAAAAAAAAAAAAAAEAAAABAAAAAQAAAAMAAAAGAAAAAgAAAAkAAAAKAAAACgAAABEAAAAQAAAAGAAAABMAAAAVAAAAFAAAABsAAAAWAAAAJQAAABQAAAAdAAAAEAAAACIAAAAjAAAAHQAAABoAAAAjAAAAIgAAAB8AAAAgAAAAIAAAAB4AAAAcAAAAHgAAABsAAAAVAAAAGwAAABcAAAAjAAAAIgAAABoAAAAXAAAAGQAAABQAAAAZAAAAEAAAABIAAAAQAAAAFAAAABQAAAALAAAADwAAABAAAAAJAAAADAAAAAkAAAAJAAAAEwAAAAwAAAAJAAAABgAAAA0AAAAPAAAADQAAABAAAAAQAAAADgAAAAwAAAANAAAADgAAAA4AAAAMAAAADgAAAA0AAAAOAAAADQAAAA4AAAAOAAAADAAAAAsAAAAIAAAACgAAAAkAAAAFAAAABgAAAAcAAAAFAAAABwAAAAEAAAAHAAAABQAAAAMAAAACAAAAAQAAAAEAAAADAAAAAQAAAAIAAAAEAAAABgAAAAMAAAAGAAAABgAAAAYAAAADAAAABAAAAAgAAAADAAAACAAAAAsAAAAHAAAACQAAAAYAAAAJAAAAAgAAAA0AAAACAAAACAAAAAYAAAACAAAABgAAAAgAAAADAAAAAwAAAAIAAAAFAAAAAgAAAAYAAAAFAAAAAwAAAAcAAAAEAAAAAQAAAAIAAAADAAAAAwAAAAIAAAAIAAAAAgAAAAEAAAAAAAAAAQAAAAEAAAADAAAAAwAAAAQAAAAGAAAAAwAAAAIAAAADAAAABgAAAAIAAAADAAAAAwAAAAEAAAAFAAAAAgAAAAIAAAAEAAAAAgAAAAIAAAAFAAAABAAAAAIAAAACAAAABgAAAAMAAAABAAAAAwAAAAIAAAADAAAAAgAAAAQAAAAFAAAAAgAAAAMAAAADAAAAAwAAAAMAAAADAAAABQAAAAcAAAAEAAAABAAAAAMAAAAKAAAABgAAAAUAAAANAAAACAAAAAUAAAADAAAAAwAAAAUAAAAIAAAACQAAAAQAAAAGAAAACAAAAAYAAAAGAAAADAAAAAoAAAANAAAADgAAAAgAAAAKAAAADAAAAAUAAAANAAAADgAAABAAAAAHAAAACwAAABUAAAANAAAAEwAAABEAAAAPAAAAEAAAABAAAAAfAAAAFQAAABMAAAAbAAAAHAAAABgAAAAhAAAAKAAAACcAAAAlAAAALgAAAC0AAAA7AAAALgAAADQAAAA4AAAAMAAAAD8AAAA+AAAAUgAAAE4AAABFAAAANwAAAEwAAABbAAAA\",\"dtype\":\"int32\",\"order\":\"little\",\"shape\":[300]}},\"selected\":{\"id\":\"1404\"},\"selection_policy\":{\"id\":\"1405\"}},\"id\":\"1365\",\"type\":\"ColumnDataSource\"},{\"attributes\":{},\"id\":\"1405\",\"type\":\"UnionRenderers\"},{\"attributes\":{\"data\":{\"x\":{\"__ndarray__\":\"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\",\"dtype\":\"float64\",\"order\":\"little\",\"shape\":[300]},\"y\":{\"__ndarray__\":\"AAAAAAAAAAAAAAAAAAAAAAAAAAAAAAAAAAAAAAAAAAAAAAAAAAAAAAAAAAAAAAAAAAAAAAAAAAAAAAAAAAAAAAAAAAAAAAAAAAAAAAAAAAAAAAAAAAAAAAAAAAAAAAAAAAAAAAAAAAAAAAAAAAAAAAAAAAAAAAAAAAAAAAAAAAAAAAAAAAAAAAAAAAAAAAAAAAAAAAAAAAAAAAAAAAAAAAIAAAAAAAAAAwAAAAMAAAAFAAAABwAAAAoAAAAAAAAACwAAABIAAAAAAAAANQAAADkAAABMAAAAVgAAAHUAAAAAAAAAUQEAAOsAAAAEAQAAQAEAAMwBAAAuAQAAeQIAACUCAADUAgAAhgMAABgDAAC+AQAACwQAACgDAAAPAwAAVAMAAH4CAADyAgAAxAEAAMgCAAC7AgAALwMAAOwFAAADAgAAVgIAAF0BAAACAgAAgwIAAO4CAAC1AAAAlwIAAAkCAACRAgAABAIAAFsCAABzAQAAvAEAAFMCAADYAQAAowAAACcBAAC3AAAAHAIAADIBAABf////XAAAAPIAAACyAAAA4AEAABUCAAApAgAAigAAAK8AAABiAAAA6gAAANsAAAC7AAAACAEAAOMAAADiAAAArQAAAN8AAADkAAAA/AAAACABAAAPAQAAmAAAAKUAAADbAAAAHQEAADABAABeAQAAAQEAACkBAADIAAAAwwAAAG4BAABLAQAAeQEAAH4BAABWAQAAwAAAAKUBAAAmAQAANgEAAA4BAAAbAQAA4wAAAFoBAAAsAQAAUAEAAKEBAAB3AQAAeQEAACQBAAADAQAAWQEAAG8BAAA3AQAAwwEAAEMBAADJAQAACgEAAOUAAAA5AQAASAEAAHYBAACdAQAASAEAAOgAAAAfAQAAuwEAAKIBAACSAQAAHgIAACMBAAAyAQAA6QAAAHcBAABTAQAAOAEAADkBAAD2AAAAhwAAAH8AAAD8AAAA5QAAADkBAAAHAQAA0QAAAIcAAABvAAAAywAAAP8AAADMAAAA7gAAAJkAAABqAAAAcAAAAKcAAADVAAAAIgEAALoAAACDAAAAnQAAAHgAAAAWAQAARQEAAOsAAADGAAAAeQAAAIQAAADWAAAA/QAAACMBAADbAAAA8QAAAJEAAAB7AAAAwAAAAGoBAACPAQAAkQEAAHYBAABAAQAA9AAAAOcAAACGAQAAogEAAJYBAADmAQAAOwEAAPkAAACEAQAAhgIAAEkCAACvAgAA8QEAAKECAABlAgAAqQEAAF0CAAACAwAADAMAAFEDAAAoAgAAbwIAAM8BAAAiAwAAswIAAIMDAAB0AwAAmQIAAKkBAACwAgAAOQMAAFYDAAB4AwAAwwMAAIgDAADeAgAAqwEAALADAAD+BAAAcgUAAG4GAABCBAAA4QQAALgEAAAYCAAANQgAADAKAABpCAAAQAcAAJ0HAABUBwAA5wkAAMYMAABTCwAAVQ4AABEKAACPCQAA4wwAAHgPAACAEAAAMBIAAKcPAAD2CwAAygkAACQKAABJHQAAOhEAAK4VAADwGQAAmBYAAAAQAADpDgAARxMAAM8WAAD9GQAAyhkAAJMXAACzIAAA\",\"dtype\":\"int32\",\"order\":\"little\",\"shape\":[300]}},\"selected\":{\"id\":\"1225\"},\"selection_policy\":{\"id\":\"1226\"}},\"id\":\"1202\",\"type\":\"ColumnDataSource\"},{\"attributes\":{\"data_source\":{\"id\":\"1577\"},\"glyph\":{\"id\":\"1578\"},\"hover_glyph\":null,\"muted_glyph\":null,\"nonselection_glyph\":{\"id\":\"1579\"},\"selection_glyph\":null,\"view\":{\"id\":\"1581\"}},\"id\":\"1580\",\"type\":\"GlyphRenderer\"},{\"attributes\":{\"source\":{\"id\":\"1202\"}},\"id\":\"1206\",\"type\":\"CDSView\"},{\"attributes\":{\"label\":{\"value\":\"Cumulative Cases\"},\"renderers\":[{\"id\":\"1686\"}]},\"id\":\"1754\",\"type\":\"LegendItem\"},{\"attributes\":{\"line_color\":\"#1f77b4\",\"x\":{\"field\":\"x\"},\"y\":{\"field\":\"y\"}},\"id\":\"1203\",\"type\":\"Line\"},{\"attributes\":{\"active_drag\":\"auto\",\"active_inspect\":\"auto\",\"active_multi\":null,\"active_scroll\":\"auto\",\"active_tap\":\"auto\",\"tools\":[{\"id\":\"1190\"},{\"id\":\"1191\"},{\"id\":\"1192\"},{\"id\":\"1193\"},{\"id\":\"1194\"}]},\"id\":\"1196\",\"type\":\"Toolbar\"},{\"attributes\":{\"line_alpha\":0.1,\"line_color\":\"#1f77b4\",\"x\":{\"field\":\"x\"},\"y\":{\"field\":\"y\"}},\"id\":\"1204\",\"type\":\"Line\"},{\"attributes\":{\"months\":[0,6]},\"id\":\"1223\",\"type\":\"MonthsTicker\"},{\"attributes\":{\"days\":[1,15]},\"id\":\"1219\",\"type\":\"DaysTicker\"},{\"attributes\":{},\"id\":\"1224\",\"type\":\"YearsTicker\"},{\"attributes\":{},\"id\":\"1208\",\"type\":\"BasicTickFormatter\"},{\"attributes\":{},\"id\":\"1210\",\"type\":\"DatetimeTickFormatter\"},{\"attributes\":{},\"id\":\"1194\",\"type\":\"ResetTool\"},{\"attributes\":{},\"id\":\"1619\",\"type\":\"UnionRenderers\"},{\"attributes\":{\"mantissas\":[1,2,5],\"max_interval\":500.0,\"num_minor_ticks\":0},\"id\":\"1213\",\"type\":\"AdaptiveTicker\"},{\"attributes\":{\"label\":{\"value\":\"Death by Day\"},\"renderers\":[{\"id\":\"1368\"}]},\"id\":\"1428\",\"type\":\"LegendItem\"},{\"attributes\":{},\"id\":\"1192\",\"type\":\"WheelZoomTool\"}],\"root_ids\":[\"1171\"]},\"title\":\"Bokeh Application\",\"version\":\"2.2.3\"}};\n",
       "  var render_items = [{\"docid\":\"e96d2bed-1c89-47d3-989e-fd3ba056bc50\",\"root_ids\":[\"1171\"],\"roots\":{\"1171\":\"eb9bfd46-5cd2-4d21-9b1c-6d1f63ddf690\"}}];\n",
       "  root.Bokeh.embed.embed_items_notebook(docs_json, render_items);\n",
       "\n",
       "  }\n",
       "  if (root.Bokeh !== undefined) {\n",
       "    embed_document(root);\n",
       "  } else {\n",
       "    var attempts = 0;\n",
       "    var timer = setInterval(function(root) {\n",
       "      if (root.Bokeh !== undefined) {\n",
       "        clearInterval(timer);\n",
       "        embed_document(root);\n",
       "      } else {\n",
       "        attempts++;\n",
       "        if (attempts > 100) {\n",
       "          clearInterval(timer);\n",
       "          console.log(\"Bokeh: ERROR: Unable to run BokehJS code because BokehJS library is missing\");\n",
       "        }\n",
       "      }\n",
       "    }, 10, root)\n",
       "  }\n",
       "})(window);"
      ],
      "application/vnd.bokehjs_exec.v0+json": ""
     },
     "metadata": {
      "application/vnd.bokehjs_exec.v0+json": {
       "id": "1171"
      }
     },
     "output_type": "display_data"
    }
   ],
   "source": [
    "y = total[\"deaths\"]\n",
    "\n",
    "fig.line(x = x,y = y,legend_label=\"Cumulative Death\",color=\"yellow\")\n",
    "\n",
    "y = total[\"confirmed_cases\"]\n",
    "fig.line(x = x,y = y,legend_label=\"Cumulative Cases\",color=\"orange\")\n",
    "\n",
    "show(fig)"
   ]
  },
  {
   "cell_type": "markdown",
   "metadata": {},
   "source": [
    "### Ok. Now it is to hard to make sense out of this.\n",
    "\n",
    "Lets keep thing neat and tidy, so that we dont overwhelm our end-users with a lot of information."
   ]
  },
  {
   "cell_type": "markdown",
   "metadata": {},
   "source": [
    "### As an alternative, lets try to plot both the deaths and confirmed cases, but as % variances of the day before."
   ]
  },
  {
   "cell_type": "code",
   "execution_count": 25,
   "metadata": {},
   "outputs": [
    {
     "data": {
      "text/html": [
       "\n",
       "\n",
       "\n",
       "\n",
       "\n",
       "\n",
       "  <div class=\"bk-root\" id=\"b7e777fe-60b2-42fc-8796-b7ca2c1db336\" data-root-id=\"1925\"></div>\n"
      ]
     },
     "metadata": {},
     "output_type": "display_data"
    },
    {
     "data": {
      "application/javascript": [
       "(function(root) {\n",
       "  function embed_document(root) {\n",
       "    \n",
       "  var docs_json = {\"fe6f6b13-b28f-4560-9982-88cd360341bb\":{\"roots\":{\"references\":[{\"attributes\":{\"below\":[{\"id\":\"1936\"}],\"center\":[{\"id\":\"1939\"},{\"id\":\"1943\"},{\"id\":\"1977\"}],\"left\":[{\"id\":\"1940\"}],\"plot_height\":500,\"renderers\":[{\"id\":\"1956\"},{\"id\":\"1982\"}],\"title\":{\"id\":\"1926\"},\"toolbar\":{\"id\":\"1948\"},\"x_range\":{\"id\":\"1928\"},\"x_scale\":{\"id\":\"1932\"},\"y_range\":{\"id\":\"1930\"},\"y_scale\":{\"id\":\"1934\"}},\"id\":\"1925\",\"subtype\":\"Figure\",\"type\":\"Plot\"},{\"attributes\":{\"items\":[{\"id\":\"1978\"}]},\"id\":\"1977\",\"type\":\"Legend\"},{\"attributes\":{},\"id\":\"1928\",\"type\":\"DataRange1d\"},{\"attributes\":{},\"id\":\"1959\",\"type\":\"BasicTickFormatter\"},{\"attributes\":{\"label\":{\"value\":\"% difference per day\"},\"renderers\":[{\"id\":\"1956\"},{\"id\":\"1982\"}]},\"id\":\"1978\",\"type\":\"LegendItem\"},{\"attributes\":{},\"id\":\"1961\",\"type\":\"DatetimeTickFormatter\"},{\"attributes\":{\"data\":{\"x\":[138,329,520,711,902,1093,1284,1475,1666,1857,2048,2239,2430,2621,2812,3003,3194,3385,3576,3767,3958,4149,4340,4531,4722,4913,5104,5295,5486,5677,5868,6059,6250,6441,6632,6823,7014,7205,7396,7587,7778,7969,8160,8351,8542,8733,8924,9115,9306,9497,9688,9879,10070,10261,10452,10643,10834,11025,11216,11407,11598,11789,11980,12171,12362,12553,12744,12935,13126,13317,13508,13699,13890,14081,14272,14463,14654,14845,15036,15227,15418,15609,15800,15991,16182,16373,16564,16755,16946,17137,17328,17519,17710,17901,18092,18283,18474,18665,18856,19047,19238,19429,19620,19811,20002,20193,20384,20575,20766,20957,21148,21339,21530,21721,21912,22103,22294,22485,22676,22867,23058,23249,23440,23631,23822,24013,24204,24395,24586,24777,24968,25159,25350,25541,25732,25923,26114,26305,26496,26687,26878,27069,27260,27451,27642,27833,28024,28215,28406,28597,28788,28979,29170,29361,29552,29743,29934,30125,30316,30507,30698,30889,31080,31271,31462,31653,31844,32035,32226,32417,32608,32799,32990,33181,33372,33563,33754,33945,34136,34327,34518,34709,34900,35091,35282,35473,35664,35855,36046,36237,36428,36619,36810,37001,37192,37383,37574,37765,37956,38147,38338,38529,38720,38911,39102,39293,39484,39675,39866,40057,40248,40439,40630,40821,41012,41203,41394,41585,41776,41967,42158,42349,42540,42731,42922,43113,43304,43495,43686,43877,44068,44259,44450,44641,44832,45023,45214,45405,45596,45787,45978,46169,46360,46551,46742,46933,47124,47315,47506,47697,47888,48079,48270,48461,48652,48843,49034,49225,49416,49607,49798,49989,50180,50371,50562,50753,50944,51135,51326,51517,51708,51899,52090,52281,52472,52663,52854,53045,53236,53427,53618,53809,54000,54191,54382,54573,54764,54955,55146,55337,55528,55719,55910,56101,56292,56483,56674,56865,57056,57247],\"y\":{\"__ndarray__\":\"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\",\"dtype\":\"float64\",\"order\":\"little\",\"shape\":[300]}},\"selected\":{\"id\":\"2003\"},\"selection_policy\":{\"id\":\"2004\"}},\"id\":\"1979\",\"type\":\"ColumnDataSource\"},{\"attributes\":{\"mantissas\":[1,2,5],\"max_interval\":500.0,\"num_minor_ticks\":0},\"id\":\"1963\",\"type\":\"AdaptiveTicker\"},{\"attributes\":{},\"id\":\"1932\",\"type\":\"LinearScale\"},{\"attributes\":{\"source\":{\"id\":\"1979\"}},\"id\":\"1983\",\"type\":\"CDSView\"},{\"attributes\":{\"line_color\":\"red\",\"x\":{\"field\":\"x\"},\"y\":{\"field\":\"y\"}},\"id\":\"1980\",\"type\":\"Line\"},{\"attributes\":{\"base\":60,\"mantissas\":[1,2,5,10,15,20,30],\"max_interval\":1800000.0,\"min_interval\":1000.0,\"num_minor_ticks\":0},\"id\":\"1964\",\"type\":\"AdaptiveTicker\"},{\"attributes\":{},\"id\":\"1934\",\"type\":\"LinearScale\"},{\"attributes\":{\"line_alpha\":0.1,\"line_color\":\"red\",\"x\":{\"field\":\"x\"},\"y\":{\"field\":\"y\"}},\"id\":\"1981\",\"type\":\"Line\"},{\"attributes\":{\"base\":24,\"mantissas\":[1,2,4,6,8,12],\"max_interval\":43200000.0,\"min_interval\":3600000.0,\"num_minor_ticks\":0},\"id\":\"1965\",\"type\":\"AdaptiveTicker\"},{\"attributes\":{\"formatter\":{\"id\":\"1961\"},\"ticker\":{\"id\":\"1937\"}},\"id\":\"1936\",\"type\":\"DatetimeAxis\"},{\"attributes\":{\"data_source\":{\"id\":\"1953\"},\"glyph\":{\"id\":\"1954\"},\"hover_glyph\":null,\"muted_glyph\":null,\"nonselection_glyph\":{\"id\":\"1955\"},\"selection_glyph\":null,\"view\":{\"id\":\"1957\"}},\"id\":\"1956\",\"type\":\"GlyphRenderer\"},{\"attributes\":{\"num_minor_ticks\":5,\"tickers\":[{\"id\":\"1963\"},{\"id\":\"1964\"},{\"id\":\"1965\"},{\"id\":\"1966\"},{\"id\":\"1967\"},{\"id\":\"1968\"},{\"id\":\"1969\"},{\"id\":\"1970\"},{\"id\":\"1971\"},{\"id\":\"1972\"},{\"id\":\"1973\"},{\"id\":\"1974\"}]},\"id\":\"1937\",\"type\":\"DatetimeTicker\"},{\"attributes\":{\"source\":{\"id\":\"1953\"}},\"id\":\"1957\",\"type\":\"CDSView\"},{\"attributes\":{\"data_source\":{\"id\":\"1979\"},\"glyph\":{\"id\":\"1980\"},\"hover_glyph\":null,\"muted_glyph\":null,\"nonselection_glyph\":{\"id\":\"1981\"},\"selection_glyph\":null,\"view\":{\"id\":\"1983\"}},\"id\":\"1982\",\"type\":\"GlyphRenderer\"},{\"attributes\":{\"line_alpha\":0.1,\"line_color\":\"orange\",\"x\":{\"field\":\"x\"},\"y\":{\"field\":\"y\"}},\"id\":\"1955\",\"type\":\"Line\"},{\"attributes\":{\"days\":[1,2,3,4,5,6,7,8,9,10,11,12,13,14,15,16,17,18,19,20,21,22,23,24,25,26,27,28,29,30,31]},\"id\":\"1966\",\"type\":\"DaysTicker\"},{\"attributes\":{\"axis\":{\"id\":\"1936\"},\"ticker\":null},\"id\":\"1939\",\"type\":\"Grid\"},{\"attributes\":{},\"id\":\"2003\",\"type\":\"Selection\"},{\"attributes\":{\"active_drag\":\"auto\",\"active_inspect\":\"auto\",\"active_multi\":null,\"active_scroll\":\"auto\",\"active_tap\":\"auto\",\"tools\":[{\"id\":\"1944\"},{\"id\":\"1945\"},{\"id\":\"1946\"},{\"id\":\"1947\"}]},\"id\":\"1948\",\"type\":\"Toolbar\"},{\"attributes\":{\"days\":[1,4,7,10,13,16,19,22,25,28]},\"id\":\"1967\",\"type\":\"DaysTicker\"},{\"attributes\":{\"formatter\":{\"id\":\"1959\"},\"ticker\":{\"id\":\"1941\"}},\"id\":\"1940\",\"type\":\"LinearAxis\"},{\"attributes\":{},\"id\":\"2004\",\"type\":\"UnionRenderers\"},{\"attributes\":{\"days\":[1,8,15,22]},\"id\":\"1968\",\"type\":\"DaysTicker\"},{\"attributes\":{},\"id\":\"1941\",\"type\":\"BasicTicker\"},{\"attributes\":{\"days\":[1,15]},\"id\":\"1969\",\"type\":\"DaysTicker\"},{\"attributes\":{\"axis\":{\"id\":\"1940\"},\"dimension\":1,\"ticker\":null},\"id\":\"1943\",\"type\":\"Grid\"},{\"attributes\":{\"line_color\":\"orange\",\"x\":{\"field\":\"x\"},\"y\":{\"field\":\"y\"}},\"id\":\"1954\",\"type\":\"Line\"},{\"attributes\":{\"months\":[0,1,2,3,4,5,6,7,8,9,10,11]},\"id\":\"1970\",\"type\":\"MonthsTicker\"},{\"attributes\":{\"data\":{\"x\":[138,329,520,711,902,1093,1284,1475,1666,1857,2048,2239,2430,2621,2812,3003,3194,3385,3576,3767,3958,4149,4340,4531,4722,4913,5104,5295,5486,5677,5868,6059,6250,6441,6632,6823,7014,7205,7396,7587,7778,7969,8160,8351,8542,8733,8924,9115,9306,9497,9688,9879,10070,10261,10452,10643,10834,11025,11216,11407,11598,11789,11980,12171,12362,12553,12744,12935,13126,13317,13508,13699,13890,14081,14272,14463,14654,14845,15036,15227,15418,15609,15800,15991,16182,16373,16564,16755,16946,17137,17328,17519,17710,17901,18092,18283,18474,18665,18856,19047,19238,19429,19620,19811,20002,20193,20384,20575,20766,20957,21148,21339,21530,21721,21912,22103,22294,22485,22676,22867,23058,23249,23440,23631,23822,24013,24204,24395,24586,24777,24968,25159,25350,25541,25732,25923,26114,26305,26496,26687,26878,27069,27260,27451,27642,27833,28024,28215,28406,28597,28788,28979,29170,29361,29552,29743,29934,30125,30316,30507,30698,30889,31080,31271,31462,31653,31844,32035,32226,32417,32608,32799,32990,33181,33372,33563,33754,33945,34136,34327,34518,34709,34900,35091,35282,35473,35664,35855,36046,36237,36428,36619,36810,37001,37192,37383,37574,37765,37956,38147,38338,38529,38720,38911,39102,39293,39484,39675,39866,40057,40248,40439,40630,40821,41012,41203,41394,41585,41776,41967,42158,42349,42540,42731,42922,43113,43304,43495,43686,43877,44068,44259,44450,44641,44832,45023,45214,45405,45596,45787,45978,46169,46360,46551,46742,46933,47124,47315,47506,47697,47888,48079,48270,48461,48652,48843,49034,49225,49416,49607,49798,49989,50180,50371,50562,50753,50944,51135,51326,51517,51708,51899,52090,52281,52472,52663,52854,53045,53236,53427,53618,53809,54000,54191,54382,54573,54764,54955,55146,55337,55528,55719,55910,56101,56292,56483,56674,56865,57056,57247],\"y\":{\"__ndarray__\":\"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\",\"dtype\":\"float64\",\"order\":\"little\",\"shape\":[300]}},\"selected\":{\"id\":\"1975\"},\"selection_policy\":{\"id\":\"1976\"}},\"id\":\"1953\",\"type\":\"ColumnDataSource\"},{\"attributes\":{\"months\":[0,2,4,6,8,10]},\"id\":\"1971\",\"type\":\"MonthsTicker\"},{\"attributes\":{\"months\":[0,4,8]},\"id\":\"1972\",\"type\":\"MonthsTicker\"},{\"attributes\":{\"callback\":null,\"tooltips\":\"value: @y\"},\"id\":\"1944\",\"type\":\"HoverTool\"},{\"attributes\":{},\"id\":\"1930\",\"type\":\"DataRange1d\"},{\"attributes\":{\"months\":[0,6]},\"id\":\"1973\",\"type\":\"MonthsTicker\"},{\"attributes\":{},\"id\":\"1945\",\"type\":\"PanTool\"},{\"attributes\":{\"text\":\"Portugal cases evolution\"},\"id\":\"1926\",\"type\":\"Title\"},{\"attributes\":{},\"id\":\"1946\",\"type\":\"WheelZoomTool\"},{\"attributes\":{},\"id\":\"1974\",\"type\":\"YearsTicker\"},{\"attributes\":{},\"id\":\"1975\",\"type\":\"Selection\"},{\"attributes\":{},\"id\":\"1947\",\"type\":\"ResetTool\"},{\"attributes\":{},\"id\":\"1976\",\"type\":\"UnionRenderers\"}],\"root_ids\":[\"1925\"]},\"title\":\"Bokeh Application\",\"version\":\"2.2.3\"}};\n",
       "  var render_items = [{\"docid\":\"fe6f6b13-b28f-4560-9982-88cd360341bb\",\"root_ids\":[\"1925\"],\"roots\":{\"1925\":\"b7e777fe-60b2-42fc-8796-b7ca2c1db336\"}}];\n",
       "  root.Bokeh.embed.embed_items_notebook(docs_json, render_items);\n",
       "\n",
       "  }\n",
       "  if (root.Bokeh !== undefined) {\n",
       "    embed_document(root);\n",
       "  } else {\n",
       "    var attempts = 0;\n",
       "    var timer = setInterval(function(root) {\n",
       "      if (root.Bokeh !== undefined) {\n",
       "        clearInterval(timer);\n",
       "        embed_document(root);\n",
       "      } else {\n",
       "        attempts++;\n",
       "        if (attempts > 100) {\n",
       "          clearInterval(timer);\n",
       "          console.log(\"Bokeh: ERROR: Unable to run BokehJS code because BokehJS library is missing\");\n",
       "        }\n",
       "      }\n",
       "    }, 10, root)\n",
       "  }\n",
       "})(window);"
      ],
      "application/vnd.bokehjs_exec.v0+json": ""
     },
     "metadata": {
      "application/vnd.bokehjs_exec.v0+json": {
       "id": "1925"
      }
     },
     "output_type": "display_data"
    }
   ],
   "source": [
    "country = \"Portugal\"\n",
    "mask = df[\"Country\"] ==country\n",
    "selected_country = df[mask][[\"confirmed_cases\",\"deaths\"]].pct_change()\n",
    "fig = figure(width= 600,height=500,tools=\"hover,pan,wheel_zoom,reset\",title=\"{} cases evolution\".format(country),x_axis_type=\"datetime\",tooltips=\"value: @y\")\n",
    "x = selected_country.index\n",
    "y =selected_country[\"confirmed_cases\"]\n",
    "fig.line(x = x,y = y,legend_label=\"% difference per day\",color=\"orange\")\n",
    "y =selected_country[\"deaths\"]\n",
    "\n",
    "fig.line(x = x,y = y,legend_label=\"% difference per day\",color=\"red\")\n",
    "\n",
    "show(fig)\n"
   ]
  },
  {
   "cell_type": "markdown",
   "metadata": {},
   "source": [
    "### Might be an interesting view of the data. What do you think?\n",
    "\n",
    "___\n",
    "\n",
    "#### Lets use the absolute values. However, with less granularity. Let us see how Covid was increasing by week. (7D)"
   ]
  },
  {
   "cell_type": "code",
   "execution_count": 26,
   "metadata": {},
   "outputs": [],
   "source": [
    "df.index = pd.to_datetime(df[\"date\"]) #Why do we need to do this ?"
   ]
  },
  {
   "cell_type": "code",
   "execution_count": 27,
   "metadata": {},
   "outputs": [],
   "source": [
    "country = \"Portugal\"\n",
    "mask = df[\"Country\"] ==country\n",
    "selected_country = df[mask]"
   ]
  },
  {
   "cell_type": "code",
   "execution_count": 28,
   "metadata": {},
   "outputs": [],
   "source": [
    "import numpy as np"
   ]
  },
  {
   "cell_type": "code",
   "execution_count": 29,
   "metadata": {},
   "outputs": [
    {
     "data": {
      "text/html": [
       "<div>\n",
       "<style scoped>\n",
       "    .dataframe tbody tr th:only-of-type {\n",
       "        vertical-align: middle;\n",
       "    }\n",
       "\n",
       "    .dataframe tbody tr th {\n",
       "        vertical-align: top;\n",
       "    }\n",
       "\n",
       "    .dataframe thead th {\n",
       "        text-align: right;\n",
       "    }\n",
       "</style>\n",
       "<table border=\"1\" class=\"dataframe\">\n",
       "  <thead>\n",
       "    <tr style=\"text-align: right;\">\n",
       "      <th></th>\n",
       "      <th>date</th>\n",
       "      <th>Country</th>\n",
       "      <th>deaths</th>\n",
       "      <th>confirmed_cases</th>\n",
       "    </tr>\n",
       "    <tr>\n",
       "      <th>date</th>\n",
       "      <th></th>\n",
       "      <th></th>\n",
       "      <th></th>\n",
       "      <th></th>\n",
       "    </tr>\n",
       "  </thead>\n",
       "  <tbody>\n",
       "    <tr>\n",
       "      <th>2020-01-22</th>\n",
       "      <td>2020-01-22</td>\n",
       "      <td>Portugal</td>\n",
       "      <td>0.0</td>\n",
       "      <td>0.0</td>\n",
       "    </tr>\n",
       "    <tr>\n",
       "      <th>2020-01-23</th>\n",
       "      <td>2020-01-23</td>\n",
       "      <td>Portugal</td>\n",
       "      <td>0.0</td>\n",
       "      <td>0.0</td>\n",
       "    </tr>\n",
       "    <tr>\n",
       "      <th>2020-01-24</th>\n",
       "      <td>2020-01-24</td>\n",
       "      <td>Portugal</td>\n",
       "      <td>0.0</td>\n",
       "      <td>0.0</td>\n",
       "    </tr>\n",
       "    <tr>\n",
       "      <th>2020-01-25</th>\n",
       "      <td>2020-01-25</td>\n",
       "      <td>Portugal</td>\n",
       "      <td>0.0</td>\n",
       "      <td>0.0</td>\n",
       "    </tr>\n",
       "    <tr>\n",
       "      <th>2020-01-26</th>\n",
       "      <td>2020-01-26</td>\n",
       "      <td>Portugal</td>\n",
       "      <td>0.0</td>\n",
       "      <td>0.0</td>\n",
       "    </tr>\n",
       "    <tr>\n",
       "      <th>...</th>\n",
       "      <td>...</td>\n",
       "      <td>...</td>\n",
       "      <td>...</td>\n",
       "      <td>...</td>\n",
       "    </tr>\n",
       "    <tr>\n",
       "      <th>2020-11-12</th>\n",
       "      <td>2020-11-12</td>\n",
       "      <td>Portugal</td>\n",
       "      <td>78.0</td>\n",
       "      <td>5839.0</td>\n",
       "    </tr>\n",
       "    <tr>\n",
       "      <th>2020-11-13</th>\n",
       "      <td>2020-11-13</td>\n",
       "      <td>Portugal</td>\n",
       "      <td>69.0</td>\n",
       "      <td>6653.0</td>\n",
       "    </tr>\n",
       "    <tr>\n",
       "      <th>2020-11-14</th>\n",
       "      <td>2020-11-14</td>\n",
       "      <td>Portugal</td>\n",
       "      <td>55.0</td>\n",
       "      <td>6602.0</td>\n",
       "    </tr>\n",
       "    <tr>\n",
       "      <th>2020-11-15</th>\n",
       "      <td>2020-11-15</td>\n",
       "      <td>Portugal</td>\n",
       "      <td>76.0</td>\n",
       "      <td>6035.0</td>\n",
       "    </tr>\n",
       "    <tr>\n",
       "      <th>2020-11-16</th>\n",
       "      <td>2020-11-16</td>\n",
       "      <td>Portugal</td>\n",
       "      <td>91.0</td>\n",
       "      <td>8371.0</td>\n",
       "    </tr>\n",
       "  </tbody>\n",
       "</table>\n",
       "<p>300 rows × 4 columns</p>\n",
       "</div>"
      ],
      "text/plain": [
       "                  date   Country  deaths  confirmed_cases\n",
       "date                                                     \n",
       "2020-01-22  2020-01-22  Portugal     0.0              0.0\n",
       "2020-01-23  2020-01-23  Portugal     0.0              0.0\n",
       "2020-01-24  2020-01-24  Portugal     0.0              0.0\n",
       "2020-01-25  2020-01-25  Portugal     0.0              0.0\n",
       "2020-01-26  2020-01-26  Portugal     0.0              0.0\n",
       "...                ...       ...     ...              ...\n",
       "2020-11-12  2020-11-12  Portugal    78.0           5839.0\n",
       "2020-11-13  2020-11-13  Portugal    69.0           6653.0\n",
       "2020-11-14  2020-11-14  Portugal    55.0           6602.0\n",
       "2020-11-15  2020-11-15  Portugal    76.0           6035.0\n",
       "2020-11-16  2020-11-16  Portugal    91.0           8371.0\n",
       "\n",
       "[300 rows x 4 columns]"
      ]
     },
     "execution_count": 29,
     "metadata": {},
     "output_type": "execute_result"
    }
   ],
   "source": [
    "selected_country"
   ]
  },
  {
   "cell_type": "code",
   "execution_count": 30,
   "metadata": {},
   "outputs": [],
   "source": [
    "selected_country = selected_country.resample(\"7D\").agg([np.mean,np.sum,np.std])"
   ]
  },
  {
   "cell_type": "code",
   "execution_count": 31,
   "metadata": {},
   "outputs": [],
   "source": [
    "x = selected_country.index\n",
    "y = selected_country[\"confirmed_cases\"][\"mean\"]"
   ]
  },
  {
   "cell_type": "code",
   "execution_count": 32,
   "metadata": {},
   "outputs": [
    {
     "data": {
      "text/html": [
       "\n",
       "\n",
       "\n",
       "\n",
       "\n",
       "\n",
       "  <div class=\"bk-root\" id=\"e1ec00a5-cd85-49c5-8447-db7642a32c70\" data-root-id=\"2171\"></div>\n"
      ]
     },
     "metadata": {},
     "output_type": "display_data"
    },
    {
     "data": {
      "application/javascript": [
       "(function(root) {\n",
       "  function embed_document(root) {\n",
       "    \n",
       "  var docs_json = {\"a115d2d9-fdc7-4e86-8d67-6329d9a23a43\":{\"roots\":{\"references\":[{\"attributes\":{\"below\":[{\"id\":\"2182\"}],\"center\":[{\"id\":\"2185\"},{\"id\":\"2189\"},{\"id\":\"2227\"}],\"left\":[{\"id\":\"2186\"}],\"plot_height\":500,\"renderers\":[{\"id\":\"2205\"}],\"title\":{\"id\":\"2172\"},\"toolbar\":{\"id\":\"2196\"},\"x_range\":{\"id\":\"2174\"},\"x_scale\":{\"id\":\"2178\"},\"y_range\":{\"id\":\"2176\"},\"y_scale\":{\"id\":\"2180\"}},\"id\":\"2171\",\"subtype\":\"Figure\",\"type\":\"Plot\"},{\"attributes\":{\"days\":[1,2,3,4,5,6,7,8,9,10,11,12,13,14,15,16,17,18,19,20,21,22,23,24,25,26,27,28,29,30,31]},\"id\":\"2216\",\"type\":\"DaysTicker\"},{\"attributes\":{\"bottom_units\":\"screen\",\"fill_alpha\":0.5,\"fill_color\":\"lightgrey\",\"left_units\":\"screen\",\"level\":\"overlay\",\"line_alpha\":1.0,\"line_color\":\"black\",\"line_dash\":[4,4],\"line_width\":2,\"right_units\":\"screen\",\"top_units\":\"screen\"},\"id\":\"2195\",\"type\":\"BoxAnnotation\"},{\"attributes\":{\"callback\":null,\"tooltips\":\"value: @y\"},\"id\":\"2190\",\"type\":\"HoverTool\"},{\"attributes\":{\"days\":[1,4,7,10,13,16,19,22,25,28]},\"id\":\"2217\",\"type\":\"DaysTicker\"},{\"attributes\":{\"data_source\":{\"id\":\"2202\"},\"glyph\":{\"id\":\"2203\"},\"hover_glyph\":null,\"muted_glyph\":null,\"nonselection_glyph\":{\"id\":\"2204\"},\"selection_glyph\":null,\"view\":{\"id\":\"2206\"}},\"id\":\"2205\",\"type\":\"GlyphRenderer\"},{\"attributes\":{\"line_color\":\"orange\",\"x\":{\"field\":\"x\"},\"y\":{\"field\":\"y\"}},\"id\":\"2203\",\"type\":\"Line\"},{\"attributes\":{\"days\":[1,8,15,22]},\"id\":\"2218\",\"type\":\"DaysTicker\"},{\"attributes\":{\"days\":[1,15]},\"id\":\"2219\",\"type\":\"DaysTicker\"},{\"attributes\":{},\"id\":\"2208\",\"type\":\"BasicTickFormatter\"},{\"attributes\":{\"line_alpha\":0.1,\"line_color\":\"orange\",\"x\":{\"field\":\"x\"},\"y\":{\"field\":\"y\"}},\"id\":\"2204\",\"type\":\"Line\"},{\"attributes\":{\"base\":24,\"mantissas\":[1,2,4,6,8,12],\"max_interval\":43200000.0,\"min_interval\":3600000.0,\"num_minor_ticks\":0},\"id\":\"2215\",\"type\":\"AdaptiveTicker\"},{\"attributes\":{\"months\":[0,1,2,3,4,5,6,7,8,9,10,11]},\"id\":\"2220\",\"type\":\"MonthsTicker\"},{\"attributes\":{\"base\":60,\"mantissas\":[1,2,5,10,15,20,30],\"max_interval\":1800000.0,\"min_interval\":1000.0,\"num_minor_ticks\":0},\"id\":\"2214\",\"type\":\"AdaptiveTicker\"},{\"attributes\":{\"months\":[0,2,4,6,8,10]},\"id\":\"2221\",\"type\":\"MonthsTicker\"},{\"attributes\":{},\"id\":\"2180\",\"type\":\"LinearScale\"},{\"attributes\":{\"num_minor_ticks\":5,\"tickers\":[{\"id\":\"2213\"},{\"id\":\"2214\"},{\"id\":\"2215\"},{\"id\":\"2216\"},{\"id\":\"2217\"},{\"id\":\"2218\"},{\"id\":\"2219\"},{\"id\":\"2220\"},{\"id\":\"2221\"},{\"id\":\"2222\"},{\"id\":\"2223\"},{\"id\":\"2224\"}]},\"id\":\"2183\",\"type\":\"DatetimeTicker\"},{\"attributes\":{\"months\":[0,4,8]},\"id\":\"2222\",\"type\":\"MonthsTicker\"},{\"attributes\":{},\"id\":\"2191\",\"type\":\"PanTool\"},{\"attributes\":{\"months\":[0,6]},\"id\":\"2223\",\"type\":\"MonthsTicker\"},{\"attributes\":{\"formatter\":{\"id\":\"2210\"},\"ticker\":{\"id\":\"2183\"}},\"id\":\"2182\",\"type\":\"DatetimeAxis\"},{\"attributes\":{\"formatter\":{\"id\":\"2208\"},\"ticker\":{\"id\":\"2187\"}},\"id\":\"2186\",\"type\":\"LinearAxis\"},{\"attributes\":{},\"id\":\"2224\",\"type\":\"YearsTicker\"},{\"attributes\":{},\"id\":\"2178\",\"type\":\"LinearScale\"},{\"attributes\":{},\"id\":\"2225\",\"type\":\"Selection\"},{\"attributes\":{},\"id\":\"2226\",\"type\":\"UnionRenderers\"},{\"attributes\":{},\"id\":\"2192\",\"type\":\"WheelZoomTool\"},{\"attributes\":{\"mantissas\":[1,2,5],\"max_interval\":500.0,\"num_minor_ticks\":0},\"id\":\"2213\",\"type\":\"AdaptiveTicker\"},{\"attributes\":{\"items\":[{\"id\":\"2228\"}]},\"id\":\"2227\",\"type\":\"Legend\"},{\"attributes\":{\"axis\":{\"id\":\"2182\"},\"ticker\":null},\"id\":\"2185\",\"type\":\"Grid\"},{\"attributes\":{},\"id\":\"2210\",\"type\":\"DatetimeTickFormatter\"},{\"attributes\":{},\"id\":\"2187\",\"type\":\"BasicTicker\"},{\"attributes\":{\"label\":{\"value\":\"Mean confirmed by week\"},\"renderers\":[{\"id\":\"2205\"}]},\"id\":\"2228\",\"type\":\"LegendItem\"},{\"attributes\":{},\"id\":\"2174\",\"type\":\"DataRange1d\"},{\"attributes\":{\"overlay\":{\"id\":\"2195\"}},\"id\":\"2193\",\"type\":\"BoxZoomTool\"},{\"attributes\":{\"source\":{\"id\":\"2202\"}},\"id\":\"2206\",\"type\":\"CDSView\"},{\"attributes\":{\"active_drag\":\"auto\",\"active_inspect\":\"auto\",\"active_multi\":null,\"active_scroll\":\"auto\",\"active_tap\":\"auto\",\"tools\":[{\"id\":\"2190\"},{\"id\":\"2191\"},{\"id\":\"2192\"},{\"id\":\"2193\"},{\"id\":\"2194\"}]},\"id\":\"2196\",\"type\":\"Toolbar\"},{\"attributes\":{\"axis\":{\"id\":\"2186\"},\"dimension\":1,\"ticker\":null},\"id\":\"2189\",\"type\":\"Grid\"},{\"attributes\":{\"text\":\"Portugal cases evolution\"},\"id\":\"2172\",\"type\":\"Title\"},{\"attributes\":{},\"id\":\"2176\",\"type\":\"DataRange1d\"},{\"attributes\":{},\"id\":\"2194\",\"type\":\"ResetTool\"},{\"attributes\":{\"data\":{\"x\":{\"__ndarray__\":\"AABAx6j8dkIAAICP6f52QgAAwFcqAXdCAAAAIGsDd0IAAEDoqwV3QgAAgLDsB3dCAADAeC0Kd0IAAABBbgx3QgAAQAmvDndCAACA0e8Qd0IAAMCZMBN3QgAAAGJxFXdCAABAKrIXd0IAAIDy8hl3QgAAwLozHHdCAAAAg3Qed0IAAEBLtSB3QgAAgBP2IndCAADA2zYld0IAAACkdyd3QgAAQGy4KXdCAACANPkrd0IAAMD8OS53QgAAAMV6MHdCAABAjbsyd0IAAIBV/DR3QgAAwB09N3dCAAAA5n05d0IAAECuvjt3QgAAgHb/PXdCAADAPkBAd0IAAAAHgUJ3QgAAQM/BRHdCAACAlwJHd0IAAMBfQ0l3QgAAACiES3dCAABA8MRNd0IAAIC4BVB3QgAAwIBGUndCAAAASYdUd0IAAEARyFZ3QgAAgNkIWXdCAADAoUlbd0I=\",\"dtype\":\"float64\",\"order\":\"little\",\"shape\":[43]},\"y\":{\"__ndarray__\":\"AAAAAAAAAAAAAAAAAAAAAAAAAAAAAAAAAAAAAAAAAAAAAAAAAAAAAJIkSZIkSdI/kiRJkiRJFkAlSZIkSRJNQG7btm3bFnFAbtu2bduuhkCSJEmSJFGGQJIkSZIkWYZASZIkSZKMgUBu27Zt20Z6QEmSJEmSpGhA27Zt27a9c0AAAAAAACBrQAAAAAAAIGxAt23btm3bcEBu27Zt24Z1QAAAAAAAIHJAAAAAAABwdUBu27Zt23Z1QAAAAAAAUHRAbtu2bduGd0Dbtm3btn1wQAAAAAAAAGtAJUmSJEmyZkAlSZIkSZJmQG7btm3b1mpASZIkSZIkakAAAAAAANB0QNu2bdu2rXdAt23btm1rgkCSJEmSJLmEQAAAAAAAkIZAJUmSJEn6iEDbtm3btqmTQNu2bdu2T6BAkiRJkiQZp0AAAAAAAOqrQJIkSZIkF7VAVVVVVdUFuUA=\",\"dtype\":\"float64\",\"order\":\"little\",\"shape\":[43]}},\"selected\":{\"id\":\"2225\"},\"selection_policy\":{\"id\":\"2226\"}},\"id\":\"2202\",\"type\":\"ColumnDataSource\"}],\"root_ids\":[\"2171\"]},\"title\":\"Bokeh Application\",\"version\":\"2.2.3\"}};\n",
       "  var render_items = [{\"docid\":\"a115d2d9-fdc7-4e86-8d67-6329d9a23a43\",\"root_ids\":[\"2171\"],\"roots\":{\"2171\":\"e1ec00a5-cd85-49c5-8447-db7642a32c70\"}}];\n",
       "  root.Bokeh.embed.embed_items_notebook(docs_json, render_items);\n",
       "\n",
       "  }\n",
       "  if (root.Bokeh !== undefined) {\n",
       "    embed_document(root);\n",
       "  } else {\n",
       "    var attempts = 0;\n",
       "    var timer = setInterval(function(root) {\n",
       "      if (root.Bokeh !== undefined) {\n",
       "        clearInterval(timer);\n",
       "        embed_document(root);\n",
       "      } else {\n",
       "        attempts++;\n",
       "        if (attempts > 100) {\n",
       "          clearInterval(timer);\n",
       "          console.log(\"Bokeh: ERROR: Unable to run BokehJS code because BokehJS library is missing\");\n",
       "        }\n",
       "      }\n",
       "    }, 10, root)\n",
       "  }\n",
       "})(window);"
      ],
      "application/vnd.bokehjs_exec.v0+json": ""
     },
     "metadata": {
      "application/vnd.bokehjs_exec.v0+json": {
       "id": "2171"
      }
     },
     "output_type": "display_data"
    }
   ],
   "source": [
    "fig = figure(width= 600,height=500,tools=\"hover,pan,wheel_zoom,box_zoom,reset\",title=\"{} cases evolution\".format(country),x_axis_type=\"datetime\",tooltips=\"value: @y\")\n",
    "fig.line(x = x,y = y,legend_label=\"Mean confirmed by week\",color=\"orange\")\n",
    "show(fig)"
   ]
  },
  {
   "cell_type": "code",
   "execution_count": 33,
   "metadata": {},
   "outputs": [],
   "source": [
    "conf_cases = selected_country[\"confirmed_cases\"]\n",
    "upper = conf_cases[\"mean\"] + conf_cases[\"std\"]\n",
    "lower = conf_cases[\"mean\"] - conf_cases[\"std\"]"
   ]
  },
  {
   "cell_type": "code",
   "execution_count": 34,
   "metadata": {},
   "outputs": [],
   "source": [
    "source = { \"x\": x, \"upper\" :upper,\"lower\":lower}"
   ]
  },
  {
   "cell_type": "code",
   "execution_count": 35,
   "metadata": {},
   "outputs": [],
   "source": [
    "from bokeh.models import Band, ColumnDataSource"
   ]
  },
  {
   "cell_type": "code",
   "execution_count": 36,
   "metadata": {},
   "outputs": [
    {
     "data": {
      "text/html": [
       "\n",
       "\n",
       "\n",
       "\n",
       "\n",
       "\n",
       "  <div class=\"bk-root\" id=\"87cf0f62-4688-422e-8687-48a31a6c97bf\" data-root-id=\"2171\"></div>\n"
      ]
     },
     "metadata": {},
     "output_type": "display_data"
    },
    {
     "data": {
      "application/javascript": [
       "(function(root) {\n",
       "  function embed_document(root) {\n",
       "    \n",
       "  var docs_json = {\"e2a00bd9-9e6e-4162-9cbc-c9d3b79b8dd6\":{\"roots\":{\"references\":[{\"attributes\":{\"below\":[{\"id\":\"2182\"}],\"center\":[{\"id\":\"2185\"},{\"id\":\"2189\"},{\"id\":\"2227\"},{\"id\":\"2411\"}],\"left\":[{\"id\":\"2186\"}],\"plot_height\":500,\"renderers\":[{\"id\":\"2205\"}],\"title\":{\"id\":\"2172\"},\"toolbar\":{\"id\":\"2196\"},\"x_range\":{\"id\":\"2174\"},\"x_scale\":{\"id\":\"2178\"},\"y_range\":{\"id\":\"2176\"},\"y_scale\":{\"id\":\"2180\"}},\"id\":\"2171\",\"subtype\":\"Figure\",\"type\":\"Plot\"},{\"attributes\":{\"data\":{\"lower\":{\"__ndarray__\":\"AAAAAAAAAAAAAAAAAAAAAAAAAAAAAAAAAAAAAAAAAAAAAAAAAAAAADzLBjv/F96/Kknfdfg8+T+gA+aU2i8yQOg//Ok9oWBA97da5X5QgEBxFJ4WiByCQKPpNCcXw3RAVLrMHjFnd0Br0MYzsFhwQNDhUQPK/y7AiuT2AN1iXUDYR0Nm/GtnQFMG8eCCtmVA7IzwjYCkakDaCqxmV/JwQObdypxsqm9A2quwQjcTckDpo4AyQgRwQG/u2zUMq3BAp7HLsF7rcEBq/4T5yqZkQG05DEdXDmJAXGwkLsqiXkAWZ8m9xLxeQBZ2f0hSpGFAolrNSyKmYkBDNS5ftGRwQOb5XPx+6XJAXDCIMQzPfkCHUb/j6VuAQN3ImYSnf4FAwKCWUqNig0AK+1C3BC2QQLCECW6Hn5xACjxreWVzo0DKvcZ/DU+lQA4A/Iykdq9AGaOC6ViKtEA=\",\"dtype\":\"float64\",\"order\":\"little\",\"shape\":[43]},\"upper\":{\"__ndarray__\":\"AAAAAAAAAAAAAAAAAAAAAAAAAAAAAAAAAAAAAAAAAAAAAAAAAAAAABhF5heSqvA/bTuNg4UhI0A9yFh/UoZYQOiWb+YX3XlA5f4S9jcNjUCzNPQNwYWKQCnqe8heKJFAaMfiAoxlh0A4c9NTgxqCQFghP5mQnHlAStpOO1sRgEAouLyZA9RuQNd8h4++RHFA+JS+JptkdEACrMF0Xxt6QA2RmrHJanRAJlRPvcjMeEDzEu2odOl6QJERJMrz9HdANQWiKlgifkAB7hg6CKh2QErjeVzU+HFAHFwSMi0TbkC/3j/qL8ZtQGMgd0myBHJA+OQ9I4HRcEC9ytGgSzt5QNBzfrrucXxAQMPyVFVvhUCd99JAXxaJQCM3ZntYoItAivGN9u6RjkCscor/aCaXQF6r1v+pT6JAGg0nq+O+qkAboRxAeUKxQB1JFN72crpAkQcowVGBvUA=\",\"dtype\":\"float64\",\"order\":\"little\",\"shape\":[43]},\"x\":{\"__ndarray__\":\"AABAx6j8dkIAAICP6f52QgAAwFcqAXdCAAAAIGsDd0IAAEDoqwV3QgAAgLDsB3dCAADAeC0Kd0IAAABBbgx3QgAAQAmvDndCAACA0e8Qd0IAAMCZMBN3QgAAAGJxFXdCAABAKrIXd0IAAIDy8hl3QgAAwLozHHdCAAAAg3Qed0IAAEBLtSB3QgAAgBP2IndCAADA2zYld0IAAACkdyd3QgAAQGy4KXdCAACANPkrd0IAAMD8OS53QgAAAMV6MHdCAABAjbsyd0IAAIBV/DR3QgAAwB09N3dCAAAA5n05d0IAAECuvjt3QgAAgHb/PXdCAADAPkBAd0IAAAAHgUJ3QgAAQM/BRHdCAACAlwJHd0IAAMBfQ0l3QgAAACiES3dCAABA8MRNd0IAAIC4BVB3QgAAwIBGUndCAAAASYdUd0IAAEARyFZ3QgAAgNkIWXdCAADAoUlbd0I=\",\"dtype\":\"float64\",\"order\":\"little\",\"shape\":[43]}},\"selected\":{\"id\":\"2480\"},\"selection_policy\":{\"id\":\"2481\"}},\"id\":\"2410\",\"type\":\"ColumnDataSource\"},{\"attributes\":{\"days\":[1,2,3,4,5,6,7,8,9,10,11,12,13,14,15,16,17,18,19,20,21,22,23,24,25,26,27,28,29,30,31]},\"id\":\"2216\",\"type\":\"DaysTicker\"},{\"attributes\":{\"bottom_units\":\"screen\",\"fill_alpha\":0.5,\"fill_color\":\"lightgrey\",\"left_units\":\"screen\",\"level\":\"overlay\",\"line_alpha\":1.0,\"line_color\":\"black\",\"line_dash\":[4,4],\"line_width\":2,\"right_units\":\"screen\",\"top_units\":\"screen\"},\"id\":\"2195\",\"type\":\"BoxAnnotation\"},{\"attributes\":{\"callback\":null,\"tooltips\":\"value: @y\"},\"id\":\"2190\",\"type\":\"HoverTool\"},{\"attributes\":{\"base\":{\"field\":\"x\",\"units\":\"data\"},\"fill_alpha\":0.2,\"fill_color\":\"orange\",\"level\":\"underlay\",\"line_color\":\"orange\",\"lower\":{\"field\":\"lower\",\"units\":\"data\"},\"source\":{\"id\":\"2410\"},\"upper\":{\"field\":\"upper\",\"units\":\"data\"}},\"id\":\"2411\",\"type\":\"Band\"},{\"attributes\":{\"days\":[1,4,7,10,13,16,19,22,25,28]},\"id\":\"2217\",\"type\":\"DaysTicker\"},{\"attributes\":{\"data_source\":{\"id\":\"2202\"},\"glyph\":{\"id\":\"2203\"},\"hover_glyph\":null,\"muted_glyph\":null,\"nonselection_glyph\":{\"id\":\"2204\"},\"selection_glyph\":null,\"view\":{\"id\":\"2206\"}},\"id\":\"2205\",\"type\":\"GlyphRenderer\"},{\"attributes\":{\"line_color\":\"orange\",\"x\":{\"field\":\"x\"},\"y\":{\"field\":\"y\"}},\"id\":\"2203\",\"type\":\"Line\"},{\"attributes\":{\"days\":[1,8,15,22]},\"id\":\"2218\",\"type\":\"DaysTicker\"},{\"attributes\":{\"days\":[1,15]},\"id\":\"2219\",\"type\":\"DaysTicker\"},{\"attributes\":{},\"id\":\"2208\",\"type\":\"BasicTickFormatter\"},{\"attributes\":{\"line_alpha\":0.1,\"line_color\":\"orange\",\"x\":{\"field\":\"x\"},\"y\":{\"field\":\"y\"}},\"id\":\"2204\",\"type\":\"Line\"},{\"attributes\":{\"base\":24,\"mantissas\":[1,2,4,6,8,12],\"max_interval\":43200000.0,\"min_interval\":3600000.0,\"num_minor_ticks\":0},\"id\":\"2215\",\"type\":\"AdaptiveTicker\"},{\"attributes\":{\"months\":[0,1,2,3,4,5,6,7,8,9,10,11]},\"id\":\"2220\",\"type\":\"MonthsTicker\"},{\"attributes\":{\"base\":60,\"mantissas\":[1,2,5,10,15,20,30],\"max_interval\":1800000.0,\"min_interval\":1000.0,\"num_minor_ticks\":0},\"id\":\"2214\",\"type\":\"AdaptiveTicker\"},{\"attributes\":{\"months\":[0,2,4,6,8,10]},\"id\":\"2221\",\"type\":\"MonthsTicker\"},{\"attributes\":{},\"id\":\"2180\",\"type\":\"LinearScale\"},{\"attributes\":{\"num_minor_ticks\":5,\"tickers\":[{\"id\":\"2213\"},{\"id\":\"2214\"},{\"id\":\"2215\"},{\"id\":\"2216\"},{\"id\":\"2217\"},{\"id\":\"2218\"},{\"id\":\"2219\"},{\"id\":\"2220\"},{\"id\":\"2221\"},{\"id\":\"2222\"},{\"id\":\"2223\"},{\"id\":\"2224\"}]},\"id\":\"2183\",\"type\":\"DatetimeTicker\"},{\"attributes\":{},\"id\":\"2480\",\"type\":\"Selection\"},{\"attributes\":{\"months\":[0,4,8]},\"id\":\"2222\",\"type\":\"MonthsTicker\"},{\"attributes\":{},\"id\":\"2191\",\"type\":\"PanTool\"},{\"attributes\":{},\"id\":\"2481\",\"type\":\"UnionRenderers\"},{\"attributes\":{\"months\":[0,6]},\"id\":\"2223\",\"type\":\"MonthsTicker\"},{\"attributes\":{\"formatter\":{\"id\":\"2210\"},\"ticker\":{\"id\":\"2183\"}},\"id\":\"2182\",\"type\":\"DatetimeAxis\"},{\"attributes\":{\"formatter\":{\"id\":\"2208\"},\"ticker\":{\"id\":\"2187\"}},\"id\":\"2186\",\"type\":\"LinearAxis\"},{\"attributes\":{},\"id\":\"2224\",\"type\":\"YearsTicker\"},{\"attributes\":{},\"id\":\"2178\",\"type\":\"LinearScale\"},{\"attributes\":{},\"id\":\"2225\",\"type\":\"Selection\"},{\"attributes\":{},\"id\":\"2226\",\"type\":\"UnionRenderers\"},{\"attributes\":{},\"id\":\"2192\",\"type\":\"WheelZoomTool\"},{\"attributes\":{\"mantissas\":[1,2,5],\"max_interval\":500.0,\"num_minor_ticks\":0},\"id\":\"2213\",\"type\":\"AdaptiveTicker\"},{\"attributes\":{\"items\":[{\"id\":\"2228\"}]},\"id\":\"2227\",\"type\":\"Legend\"},{\"attributes\":{\"axis\":{\"id\":\"2182\"},\"ticker\":null},\"id\":\"2185\",\"type\":\"Grid\"},{\"attributes\":{},\"id\":\"2210\",\"type\":\"DatetimeTickFormatter\"},{\"attributes\":{},\"id\":\"2187\",\"type\":\"BasicTicker\"},{\"attributes\":{\"label\":{\"value\":\"Mean confirmed by week\"},\"renderers\":[{\"id\":\"2205\"}]},\"id\":\"2228\",\"type\":\"LegendItem\"},{\"attributes\":{},\"id\":\"2174\",\"type\":\"DataRange1d\"},{\"attributes\":{\"overlay\":{\"id\":\"2195\"}},\"id\":\"2193\",\"type\":\"BoxZoomTool\"},{\"attributes\":{\"source\":{\"id\":\"2202\"}},\"id\":\"2206\",\"type\":\"CDSView\"},{\"attributes\":{\"active_drag\":\"auto\",\"active_inspect\":\"auto\",\"active_multi\":null,\"active_scroll\":\"auto\",\"active_tap\":\"auto\",\"tools\":[{\"id\":\"2190\"},{\"id\":\"2191\"},{\"id\":\"2192\"},{\"id\":\"2193\"},{\"id\":\"2194\"}]},\"id\":\"2196\",\"type\":\"Toolbar\"},{\"attributes\":{\"axis\":{\"id\":\"2186\"},\"dimension\":1,\"ticker\":null},\"id\":\"2189\",\"type\":\"Grid\"},{\"attributes\":{\"text\":\"Portugal cases evolution\"},\"id\":\"2172\",\"type\":\"Title\"},{\"attributes\":{},\"id\":\"2176\",\"type\":\"DataRange1d\"},{\"attributes\":{},\"id\":\"2194\",\"type\":\"ResetTool\"},{\"attributes\":{\"data\":{\"x\":{\"__ndarray__\":\"AABAx6j8dkIAAICP6f52QgAAwFcqAXdCAAAAIGsDd0IAAEDoqwV3QgAAgLDsB3dCAADAeC0Kd0IAAABBbgx3QgAAQAmvDndCAACA0e8Qd0IAAMCZMBN3QgAAAGJxFXdCAABAKrIXd0IAAIDy8hl3QgAAwLozHHdCAAAAg3Qed0IAAEBLtSB3QgAAgBP2IndCAADA2zYld0IAAACkdyd3QgAAQGy4KXdCAACANPkrd0IAAMD8OS53QgAAAMV6MHdCAABAjbsyd0IAAIBV/DR3QgAAwB09N3dCAAAA5n05d0IAAECuvjt3QgAAgHb/PXdCAADAPkBAd0IAAAAHgUJ3QgAAQM/BRHdCAACAlwJHd0IAAMBfQ0l3QgAAACiES3dCAABA8MRNd0IAAIC4BVB3QgAAwIBGUndCAAAASYdUd0IAAEARyFZ3QgAAgNkIWXdCAADAoUlbd0I=\",\"dtype\":\"float64\",\"order\":\"little\",\"shape\":[43]},\"y\":{\"__ndarray__\":\"AAAAAAAAAAAAAAAAAAAAAAAAAAAAAAAAAAAAAAAAAAAAAAAAAAAAAJIkSZIkSdI/kiRJkiRJFkAlSZIkSRJNQG7btm3bFnFAbtu2bduuhkCSJEmSJFGGQJIkSZIkWYZASZIkSZKMgUBu27Zt20Z6QEmSJEmSpGhA27Zt27a9c0AAAAAAACBrQAAAAAAAIGxAt23btm3bcEBu27Zt24Z1QAAAAAAAIHJAAAAAAABwdUBu27Zt23Z1QAAAAAAAUHRAbtu2bduGd0Dbtm3btn1wQAAAAAAAAGtAJUmSJEmyZkAlSZIkSZJmQG7btm3b1mpASZIkSZIkakAAAAAAANB0QNu2bdu2rXdAt23btm1rgkCSJEmSJLmEQAAAAAAAkIZAJUmSJEn6iEDbtm3btqmTQNu2bdu2T6BAkiRJkiQZp0AAAAAAAOqrQJIkSZIkF7VAVVVVVdUFuUA=\",\"dtype\":\"float64\",\"order\":\"little\",\"shape\":[43]}},\"selected\":{\"id\":\"2225\"},\"selection_policy\":{\"id\":\"2226\"}},\"id\":\"2202\",\"type\":\"ColumnDataSource\"}],\"root_ids\":[\"2171\"]},\"title\":\"Bokeh Application\",\"version\":\"2.2.3\"}};\n",
       "  var render_items = [{\"docid\":\"e2a00bd9-9e6e-4162-9cbc-c9d3b79b8dd6\",\"root_ids\":[\"2171\"],\"roots\":{\"2171\":\"87cf0f62-4688-422e-8687-48a31a6c97bf\"}}];\n",
       "  root.Bokeh.embed.embed_items_notebook(docs_json, render_items);\n",
       "\n",
       "  }\n",
       "  if (root.Bokeh !== undefined) {\n",
       "    embed_document(root);\n",
       "  } else {\n",
       "    var attempts = 0;\n",
       "    var timer = setInterval(function(root) {\n",
       "      if (root.Bokeh !== undefined) {\n",
       "        clearInterval(timer);\n",
       "        embed_document(root);\n",
       "      } else {\n",
       "        attempts++;\n",
       "        if (attempts > 100) {\n",
       "          clearInterval(timer);\n",
       "          console.log(\"Bokeh: ERROR: Unable to run BokehJS code because BokehJS library is missing\");\n",
       "        }\n",
       "      }\n",
       "    }, 10, root)\n",
       "  }\n",
       "})(window);"
      ],
      "application/vnd.bokehjs_exec.v0+json": ""
     },
     "metadata": {
      "application/vnd.bokehjs_exec.v0+json": {
       "id": "2171"
      }
     },
     "output_type": "display_data"
    }
   ],
   "source": [
    "band = Band(base=\"x\", lower=\"lower\", upper=\"upper\", source=ColumnDataSource(data=source), level='underlay',\n",
    "            fill_alpha=0.2, line_width=1, line_color='orange',fill_color=\"orange\")\n",
    "\n",
    "fig.add_layout(band) #we need to add this one explicitly..\n",
    "show(fig)"
   ]
  },
  {
   "cell_type": "code",
   "execution_count": 37,
   "metadata": {},
   "outputs": [
    {
     "data": {
      "text/html": [
       "<div style=\"display: table;\"><div style=\"display: table-row;\"><div style=\"display: table-cell;\"><b title=\"bokeh.models.renderers.GlyphRenderer\">GlyphRenderer</b>(</div><div style=\"display: table-cell;\">id&nbsp;=&nbsp;'2610', <span id=\"2808\" style=\"cursor: pointer;\">&hellip;)</span></div></div><div class=\"2807\" style=\"display: none;\"><div style=\"display: table-cell;\"></div><div style=\"display: table-cell;\">data_source&nbsp;=&nbsp;ColumnDataSource(id='2606', ...),</div></div><div class=\"2807\" style=\"display: none;\"><div style=\"display: table-cell;\"></div><div style=\"display: table-cell;\">glyph&nbsp;=&nbsp;VArea(id='2608', ...),</div></div><div class=\"2807\" style=\"display: none;\"><div style=\"display: table-cell;\"></div><div style=\"display: table-cell;\">hover_glyph&nbsp;=&nbsp;None,</div></div><div class=\"2807\" style=\"display: none;\"><div style=\"display: table-cell;\"></div><div style=\"display: table-cell;\">js_event_callbacks&nbsp;=&nbsp;{},</div></div><div class=\"2807\" style=\"display: none;\"><div style=\"display: table-cell;\"></div><div style=\"display: table-cell;\">js_property_callbacks&nbsp;=&nbsp;{},</div></div><div class=\"2807\" style=\"display: none;\"><div style=\"display: table-cell;\"></div><div style=\"display: table-cell;\">level&nbsp;=&nbsp;'glyph',</div></div><div class=\"2807\" style=\"display: none;\"><div style=\"display: table-cell;\"></div><div style=\"display: table-cell;\">muted&nbsp;=&nbsp;False,</div></div><div class=\"2807\" style=\"display: none;\"><div style=\"display: table-cell;\"></div><div style=\"display: table-cell;\">muted_glyph&nbsp;=&nbsp;None,</div></div><div class=\"2807\" style=\"display: none;\"><div style=\"display: table-cell;\"></div><div style=\"display: table-cell;\">name&nbsp;=&nbsp;None,</div></div><div class=\"2807\" style=\"display: none;\"><div style=\"display: table-cell;\"></div><div style=\"display: table-cell;\">nonselection_glyph&nbsp;=&nbsp;VArea(id='2609', ...),</div></div><div class=\"2807\" style=\"display: none;\"><div style=\"display: table-cell;\"></div><div style=\"display: table-cell;\">selection_glyph&nbsp;=&nbsp;None,</div></div><div class=\"2807\" style=\"display: none;\"><div style=\"display: table-cell;\"></div><div style=\"display: table-cell;\">subscribed_events&nbsp;=&nbsp;[],</div></div><div class=\"2807\" style=\"display: none;\"><div style=\"display: table-cell;\"></div><div style=\"display: table-cell;\">tags&nbsp;=&nbsp;[],</div></div><div class=\"2807\" style=\"display: none;\"><div style=\"display: table-cell;\"></div><div style=\"display: table-cell;\">view&nbsp;=&nbsp;CDSView(id='2611', ...),</div></div><div class=\"2807\" style=\"display: none;\"><div style=\"display: table-cell;\"></div><div style=\"display: table-cell;\">visible&nbsp;=&nbsp;True,</div></div><div class=\"2807\" style=\"display: none;\"><div style=\"display: table-cell;\"></div><div style=\"display: table-cell;\">x_range_name&nbsp;=&nbsp;'default',</div></div><div class=\"2807\" style=\"display: none;\"><div style=\"display: table-cell;\"></div><div style=\"display: table-cell;\">y_range_name&nbsp;=&nbsp;'default')</div></div></div>\n",
       "<script>\n",
       "(function() {\n",
       "  var expanded = false;\n",
       "  var ellipsis = document.getElementById(\"2808\");\n",
       "  ellipsis.addEventListener(\"click\", function() {\n",
       "    var rows = document.getElementsByClassName(\"2807\");\n",
       "    for (var i = 0; i < rows.length; i++) {\n",
       "      var el = rows[i];\n",
       "      el.style.display = expanded ? \"none\" : \"table-row\";\n",
       "    }\n",
       "    ellipsis.innerHTML = expanded ? \"&hellip;)\" : \"&lsaquo;&lsaquo;&lsaquo;\";\n",
       "    expanded = !expanded;\n",
       "  });\n",
       "})();\n",
       "</script>\n"
      ],
      "text/plain": [
       "GlyphRenderer(id='2610', ...)"
      ]
     },
     "execution_count": 37,
     "metadata": {},
     "output_type": "execute_result"
    }
   ],
   "source": [
    "fig.varea(x=\"x\",y1= \"upper\", y2= \"lower\",legend_label=\"std\",color=\"orange\",fill_alpha=0.2,source=source) #This also works, but then I wouldnt be able to make a pun with bands."
   ]
  },
  {
   "cell_type": "markdown",
   "metadata": {},
   "source": [
    "### Lets do the same, but now, lets separate the data per season."
   ]
  },
  {
   "cell_type": "markdown",
   "metadata": {},
   "source": [
    "### Select seasons"
   ]
  },
  {
   "cell_type": "code",
   "execution_count": 38,
   "metadata": {},
   "outputs": [],
   "source": [
    "#some of the possible params: start,end,periods,frequency\n",
    "winter = pd.date_range(start='21/12/2019', end='20/03/2020')\n",
    "spring =pd.date_range(start='20/03/2020', end='20/06/2020')\n",
    "summer =pd.date_range(start='20/06/2020', end='22/10/2020')\n",
    "autumn = pd.date_range(start='22/10/2020', end='21/12/2020')\n"
   ]
  },
  {
   "cell_type": "markdown",
   "metadata": {},
   "source": [
    "### Select the country"
   ]
  },
  {
   "cell_type": "code",
   "execution_count": 39,
   "metadata": {},
   "outputs": [],
   "source": [
    "country = \"Portugal\"\n",
    "mask = df[\"Country\"] ==country\n",
    "selected_country = df[mask]"
   ]
  },
  {
   "cell_type": "code",
   "execution_count": 40,
   "metadata": {},
   "outputs": [],
   "source": [
    "selected_country = selected_country.resample(\"7D\").agg([np.mean,np.sum,np.std])"
   ]
  },
  {
   "cell_type": "code",
   "execution_count": 41,
   "metadata": {},
   "outputs": [],
   "source": [
    "fig = figure(width= 600,height=500,tools=\"hover,pan,wheel_zoom,box_zoom,reset\",title=\"{} cases evolution\".format(country),x_axis_type=\"datetime\",tooltips=\"value: @y\")"
   ]
  },
  {
   "cell_type": "code",
   "execution_count": 42,
   "metadata": {},
   "outputs": [
    {
     "data": {
      "text/html": [
       "<div style=\"display: table;\"><div style=\"display: table-row;\"><div style=\"display: table-cell;\"><b title=\"bokeh.models.renderers.GlyphRenderer\">GlyphRenderer</b>(</div><div style=\"display: table-cell;\">id&nbsp;=&nbsp;'2849', <span id=\"2876\" style=\"cursor: pointer;\">&hellip;)</span></div></div><div class=\"2875\" style=\"display: none;\"><div style=\"display: table-cell;\"></div><div style=\"display: table-cell;\">data_source&nbsp;=&nbsp;ColumnDataSource(id='2846', ...),</div></div><div class=\"2875\" style=\"display: none;\"><div style=\"display: table-cell;\"></div><div style=\"display: table-cell;\">glyph&nbsp;=&nbsp;Line(id='2847', ...),</div></div><div class=\"2875\" style=\"display: none;\"><div style=\"display: table-cell;\"></div><div style=\"display: table-cell;\">hover_glyph&nbsp;=&nbsp;None,</div></div><div class=\"2875\" style=\"display: none;\"><div style=\"display: table-cell;\"></div><div style=\"display: table-cell;\">js_event_callbacks&nbsp;=&nbsp;{},</div></div><div class=\"2875\" style=\"display: none;\"><div style=\"display: table-cell;\"></div><div style=\"display: table-cell;\">js_property_callbacks&nbsp;=&nbsp;{},</div></div><div class=\"2875\" style=\"display: none;\"><div style=\"display: table-cell;\"></div><div style=\"display: table-cell;\">level&nbsp;=&nbsp;'glyph',</div></div><div class=\"2875\" style=\"display: none;\"><div style=\"display: table-cell;\"></div><div style=\"display: table-cell;\">muted&nbsp;=&nbsp;False,</div></div><div class=\"2875\" style=\"display: none;\"><div style=\"display: table-cell;\"></div><div style=\"display: table-cell;\">muted_glyph&nbsp;=&nbsp;None,</div></div><div class=\"2875\" style=\"display: none;\"><div style=\"display: table-cell;\"></div><div style=\"display: table-cell;\">name&nbsp;=&nbsp;None,</div></div><div class=\"2875\" style=\"display: none;\"><div style=\"display: table-cell;\"></div><div style=\"display: table-cell;\">nonselection_glyph&nbsp;=&nbsp;Line(id='2848', ...),</div></div><div class=\"2875\" style=\"display: none;\"><div style=\"display: table-cell;\"></div><div style=\"display: table-cell;\">selection_glyph&nbsp;=&nbsp;None,</div></div><div class=\"2875\" style=\"display: none;\"><div style=\"display: table-cell;\"></div><div style=\"display: table-cell;\">subscribed_events&nbsp;=&nbsp;[],</div></div><div class=\"2875\" style=\"display: none;\"><div style=\"display: table-cell;\"></div><div style=\"display: table-cell;\">tags&nbsp;=&nbsp;[],</div></div><div class=\"2875\" style=\"display: none;\"><div style=\"display: table-cell;\"></div><div style=\"display: table-cell;\">view&nbsp;=&nbsp;CDSView(id='2850', ...),</div></div><div class=\"2875\" style=\"display: none;\"><div style=\"display: table-cell;\"></div><div style=\"display: table-cell;\">visible&nbsp;=&nbsp;True,</div></div><div class=\"2875\" style=\"display: none;\"><div style=\"display: table-cell;\"></div><div style=\"display: table-cell;\">x_range_name&nbsp;=&nbsp;'default',</div></div><div class=\"2875\" style=\"display: none;\"><div style=\"display: table-cell;\"></div><div style=\"display: table-cell;\">y_range_name&nbsp;=&nbsp;'default')</div></div></div>\n",
       "<script>\n",
       "(function() {\n",
       "  var expanded = false;\n",
       "  var ellipsis = document.getElementById(\"2876\");\n",
       "  ellipsis.addEventListener(\"click\", function() {\n",
       "    var rows = document.getElementsByClassName(\"2875\");\n",
       "    for (var i = 0; i < rows.length; i++) {\n",
       "      var el = rows[i];\n",
       "      el.style.display = expanded ? \"none\" : \"table-row\";\n",
       "    }\n",
       "    ellipsis.innerHTML = expanded ? \"&hellip;)\" : \"&lsaquo;&lsaquo;&lsaquo;\";\n",
       "    expanded = !expanded;\n",
       "  });\n",
       "})();\n",
       "</script>\n"
      ],
      "text/plain": [
       "GlyphRenderer(id='2849', ...)"
      ]
     },
     "execution_count": 42,
     "metadata": {},
     "output_type": "execute_result"
    }
   ],
   "source": [
    "mask = selected_country.index.isin(winter)\n",
    "\n",
    "winter = selected_country[mask]\n",
    "x = winter.index\n",
    "y = winter[\"confirmed_cases\"][\"mean\"]\n",
    "source = {\n",
    "    \"x\":x,\n",
    "    \"upper\":y + winter[\"confirmed_cases\"][\"std\"],\n",
    "    \"lower\":y - winter[\"confirmed_cases\"][\"std\"],\n",
    "}\n",
    "fig.varea(x=\"x\",y1= \"upper\", y2= \"lower\",color=\"blue\",fill_alpha=0.2,source=source)\n",
    "fig.line(x = x,y = y,legend_label=\"Winter cases\",color=\"blue\")\n"
   ]
  },
  {
   "cell_type": "code",
   "execution_count": 43,
   "metadata": {},
   "outputs": [
    {
     "data": {
      "text/html": [
       "<div style=\"display: table;\"><div style=\"display: table-row;\"><div style=\"display: table-cell;\"><b title=\"bokeh.models.renderers.GlyphRenderer\">GlyphRenderer</b>(</div><div style=\"display: table-cell;\">id&nbsp;=&nbsp;'2886', <span id=\"2916\" style=\"cursor: pointer;\">&hellip;)</span></div></div><div class=\"2915\" style=\"display: none;\"><div style=\"display: table-cell;\"></div><div style=\"display: table-cell;\">data_source&nbsp;=&nbsp;ColumnDataSource(id='2883', ...),</div></div><div class=\"2915\" style=\"display: none;\"><div style=\"display: table-cell;\"></div><div style=\"display: table-cell;\">glyph&nbsp;=&nbsp;Line(id='2884', ...),</div></div><div class=\"2915\" style=\"display: none;\"><div style=\"display: table-cell;\"></div><div style=\"display: table-cell;\">hover_glyph&nbsp;=&nbsp;None,</div></div><div class=\"2915\" style=\"display: none;\"><div style=\"display: table-cell;\"></div><div style=\"display: table-cell;\">js_event_callbacks&nbsp;=&nbsp;{},</div></div><div class=\"2915\" style=\"display: none;\"><div style=\"display: table-cell;\"></div><div style=\"display: table-cell;\">js_property_callbacks&nbsp;=&nbsp;{},</div></div><div class=\"2915\" style=\"display: none;\"><div style=\"display: table-cell;\"></div><div style=\"display: table-cell;\">level&nbsp;=&nbsp;'glyph',</div></div><div class=\"2915\" style=\"display: none;\"><div style=\"display: table-cell;\"></div><div style=\"display: table-cell;\">muted&nbsp;=&nbsp;False,</div></div><div class=\"2915\" style=\"display: none;\"><div style=\"display: table-cell;\"></div><div style=\"display: table-cell;\">muted_glyph&nbsp;=&nbsp;None,</div></div><div class=\"2915\" style=\"display: none;\"><div style=\"display: table-cell;\"></div><div style=\"display: table-cell;\">name&nbsp;=&nbsp;None,</div></div><div class=\"2915\" style=\"display: none;\"><div style=\"display: table-cell;\"></div><div style=\"display: table-cell;\">nonselection_glyph&nbsp;=&nbsp;Line(id='2885', ...),</div></div><div class=\"2915\" style=\"display: none;\"><div style=\"display: table-cell;\"></div><div style=\"display: table-cell;\">selection_glyph&nbsp;=&nbsp;None,</div></div><div class=\"2915\" style=\"display: none;\"><div style=\"display: table-cell;\"></div><div style=\"display: table-cell;\">subscribed_events&nbsp;=&nbsp;[],</div></div><div class=\"2915\" style=\"display: none;\"><div style=\"display: table-cell;\"></div><div style=\"display: table-cell;\">tags&nbsp;=&nbsp;[],</div></div><div class=\"2915\" style=\"display: none;\"><div style=\"display: table-cell;\"></div><div style=\"display: table-cell;\">view&nbsp;=&nbsp;CDSView(id='2887', ...),</div></div><div class=\"2915\" style=\"display: none;\"><div style=\"display: table-cell;\"></div><div style=\"display: table-cell;\">visible&nbsp;=&nbsp;True,</div></div><div class=\"2915\" style=\"display: none;\"><div style=\"display: table-cell;\"></div><div style=\"display: table-cell;\">x_range_name&nbsp;=&nbsp;'default',</div></div><div class=\"2915\" style=\"display: none;\"><div style=\"display: table-cell;\"></div><div style=\"display: table-cell;\">y_range_name&nbsp;=&nbsp;'default')</div></div></div>\n",
       "<script>\n",
       "(function() {\n",
       "  var expanded = false;\n",
       "  var ellipsis = document.getElementById(\"2916\");\n",
       "  ellipsis.addEventListener(\"click\", function() {\n",
       "    var rows = document.getElementsByClassName(\"2915\");\n",
       "    for (var i = 0; i < rows.length; i++) {\n",
       "      var el = rows[i];\n",
       "      el.style.display = expanded ? \"none\" : \"table-row\";\n",
       "    }\n",
       "    ellipsis.innerHTML = expanded ? \"&hellip;)\" : \"&lsaquo;&lsaquo;&lsaquo;\";\n",
       "    expanded = !expanded;\n",
       "  });\n",
       "})();\n",
       "</script>\n"
      ],
      "text/plain": [
       "GlyphRenderer(id='2886', ...)"
      ]
     },
     "execution_count": 43,
     "metadata": {},
     "output_type": "execute_result"
    }
   ],
   "source": [
    "mask = selected_country.index.isin(spring)\n",
    "\n",
    "spring = selected_country[mask]\n",
    "x = spring.index\n",
    "y = spring[\"confirmed_cases\"][\"mean\"]\n",
    "source = {\n",
    "    \"x\":x,\n",
    "    \"upper\":y + spring[\"confirmed_cases\"][\"std\"],\n",
    "    \"lower\":y - spring[\"confirmed_cases\"][\"std\"],\n",
    "}\n",
    "fig.varea(x=\"x\",y1= \"upper\", y2= \"lower\",color=\"orange\",fill_alpha=0.2,source=source)\n",
    "fig.line(x = x,y = y,legend_label=\"Spring cases\",color=\"orange\")\n"
   ]
  },
  {
   "cell_type": "code",
   "execution_count": 44,
   "metadata": {},
   "outputs": [
    {
     "data": {
      "text/html": [
       "<div style=\"display: table;\"><div style=\"display: table-row;\"><div style=\"display: table-cell;\"><b title=\"bokeh.models.renderers.GlyphRenderer\">GlyphRenderer</b>(</div><div style=\"display: table-cell;\">id&nbsp;=&nbsp;'2926', <span id=\"2960\" style=\"cursor: pointer;\">&hellip;)</span></div></div><div class=\"2959\" style=\"display: none;\"><div style=\"display: table-cell;\"></div><div style=\"display: table-cell;\">data_source&nbsp;=&nbsp;ColumnDataSource(id='2923', ...),</div></div><div class=\"2959\" style=\"display: none;\"><div style=\"display: table-cell;\"></div><div style=\"display: table-cell;\">glyph&nbsp;=&nbsp;Line(id='2924', ...),</div></div><div class=\"2959\" style=\"display: none;\"><div style=\"display: table-cell;\"></div><div style=\"display: table-cell;\">hover_glyph&nbsp;=&nbsp;None,</div></div><div class=\"2959\" style=\"display: none;\"><div style=\"display: table-cell;\"></div><div style=\"display: table-cell;\">js_event_callbacks&nbsp;=&nbsp;{},</div></div><div class=\"2959\" style=\"display: none;\"><div style=\"display: table-cell;\"></div><div style=\"display: table-cell;\">js_property_callbacks&nbsp;=&nbsp;{},</div></div><div class=\"2959\" style=\"display: none;\"><div style=\"display: table-cell;\"></div><div style=\"display: table-cell;\">level&nbsp;=&nbsp;'glyph',</div></div><div class=\"2959\" style=\"display: none;\"><div style=\"display: table-cell;\"></div><div style=\"display: table-cell;\">muted&nbsp;=&nbsp;False,</div></div><div class=\"2959\" style=\"display: none;\"><div style=\"display: table-cell;\"></div><div style=\"display: table-cell;\">muted_glyph&nbsp;=&nbsp;None,</div></div><div class=\"2959\" style=\"display: none;\"><div style=\"display: table-cell;\"></div><div style=\"display: table-cell;\">name&nbsp;=&nbsp;None,</div></div><div class=\"2959\" style=\"display: none;\"><div style=\"display: table-cell;\"></div><div style=\"display: table-cell;\">nonselection_glyph&nbsp;=&nbsp;Line(id='2925', ...),</div></div><div class=\"2959\" style=\"display: none;\"><div style=\"display: table-cell;\"></div><div style=\"display: table-cell;\">selection_glyph&nbsp;=&nbsp;None,</div></div><div class=\"2959\" style=\"display: none;\"><div style=\"display: table-cell;\"></div><div style=\"display: table-cell;\">subscribed_events&nbsp;=&nbsp;[],</div></div><div class=\"2959\" style=\"display: none;\"><div style=\"display: table-cell;\"></div><div style=\"display: table-cell;\">tags&nbsp;=&nbsp;[],</div></div><div class=\"2959\" style=\"display: none;\"><div style=\"display: table-cell;\"></div><div style=\"display: table-cell;\">view&nbsp;=&nbsp;CDSView(id='2927', ...),</div></div><div class=\"2959\" style=\"display: none;\"><div style=\"display: table-cell;\"></div><div style=\"display: table-cell;\">visible&nbsp;=&nbsp;True,</div></div><div class=\"2959\" style=\"display: none;\"><div style=\"display: table-cell;\"></div><div style=\"display: table-cell;\">x_range_name&nbsp;=&nbsp;'default',</div></div><div class=\"2959\" style=\"display: none;\"><div style=\"display: table-cell;\"></div><div style=\"display: table-cell;\">y_range_name&nbsp;=&nbsp;'default')</div></div></div>\n",
       "<script>\n",
       "(function() {\n",
       "  var expanded = false;\n",
       "  var ellipsis = document.getElementById(\"2960\");\n",
       "  ellipsis.addEventListener(\"click\", function() {\n",
       "    var rows = document.getElementsByClassName(\"2959\");\n",
       "    for (var i = 0; i < rows.length; i++) {\n",
       "      var el = rows[i];\n",
       "      el.style.display = expanded ? \"none\" : \"table-row\";\n",
       "    }\n",
       "    ellipsis.innerHTML = expanded ? \"&hellip;)\" : \"&lsaquo;&lsaquo;&lsaquo;\";\n",
       "    expanded = !expanded;\n",
       "  });\n",
       "})();\n",
       "</script>\n"
      ],
      "text/plain": [
       "GlyphRenderer(id='2926', ...)"
      ]
     },
     "execution_count": 44,
     "metadata": {},
     "output_type": "execute_result"
    }
   ],
   "source": [
    "mask = selected_country.index.isin(autumn)\n",
    "\n",
    "autumn = selected_country[mask]\n",
    "x = autumn.index\n",
    "y = autumn[\"confirmed_cases\"][\"mean\"]\n",
    "source = {\n",
    "    \"x\":x,\n",
    "    \"upper\":y + autumn[\"confirmed_cases\"][\"std\"],\n",
    "    \"lower\":y - autumn[\"confirmed_cases\"][\"std\"],\n",
    "}\n",
    "fig.varea(x=\"x\",y1= \"upper\", y2= \"lower\",color=\"yellow\",fill_alpha=0.2,source=source) \n",
    "fig.line(x = x,y = y,legend_label=\"Autumn cases\",color=\"yellow\")\n"
   ]
  },
  {
   "cell_type": "code",
   "execution_count": 45,
   "metadata": {},
   "outputs": [
    {
     "data": {
      "text/html": [
       "<div style=\"display: table;\"><div style=\"display: table-row;\"><div style=\"display: table-cell;\"><b title=\"bokeh.models.renderers.GlyphRenderer\">GlyphRenderer</b>(</div><div style=\"display: table-cell;\">id&nbsp;=&nbsp;'2970', <span id=\"3008\" style=\"cursor: pointer;\">&hellip;)</span></div></div><div class=\"3007\" style=\"display: none;\"><div style=\"display: table-cell;\"></div><div style=\"display: table-cell;\">data_source&nbsp;=&nbsp;ColumnDataSource(id='2967', ...),</div></div><div class=\"3007\" style=\"display: none;\"><div style=\"display: table-cell;\"></div><div style=\"display: table-cell;\">glyph&nbsp;=&nbsp;Line(id='2968', ...),</div></div><div class=\"3007\" style=\"display: none;\"><div style=\"display: table-cell;\"></div><div style=\"display: table-cell;\">hover_glyph&nbsp;=&nbsp;None,</div></div><div class=\"3007\" style=\"display: none;\"><div style=\"display: table-cell;\"></div><div style=\"display: table-cell;\">js_event_callbacks&nbsp;=&nbsp;{},</div></div><div class=\"3007\" style=\"display: none;\"><div style=\"display: table-cell;\"></div><div style=\"display: table-cell;\">js_property_callbacks&nbsp;=&nbsp;{},</div></div><div class=\"3007\" style=\"display: none;\"><div style=\"display: table-cell;\"></div><div style=\"display: table-cell;\">level&nbsp;=&nbsp;'glyph',</div></div><div class=\"3007\" style=\"display: none;\"><div style=\"display: table-cell;\"></div><div style=\"display: table-cell;\">muted&nbsp;=&nbsp;False,</div></div><div class=\"3007\" style=\"display: none;\"><div style=\"display: table-cell;\"></div><div style=\"display: table-cell;\">muted_glyph&nbsp;=&nbsp;None,</div></div><div class=\"3007\" style=\"display: none;\"><div style=\"display: table-cell;\"></div><div style=\"display: table-cell;\">name&nbsp;=&nbsp;None,</div></div><div class=\"3007\" style=\"display: none;\"><div style=\"display: table-cell;\"></div><div style=\"display: table-cell;\">nonselection_glyph&nbsp;=&nbsp;Line(id='2969', ...),</div></div><div class=\"3007\" style=\"display: none;\"><div style=\"display: table-cell;\"></div><div style=\"display: table-cell;\">selection_glyph&nbsp;=&nbsp;None,</div></div><div class=\"3007\" style=\"display: none;\"><div style=\"display: table-cell;\"></div><div style=\"display: table-cell;\">subscribed_events&nbsp;=&nbsp;[],</div></div><div class=\"3007\" style=\"display: none;\"><div style=\"display: table-cell;\"></div><div style=\"display: table-cell;\">tags&nbsp;=&nbsp;[],</div></div><div class=\"3007\" style=\"display: none;\"><div style=\"display: table-cell;\"></div><div style=\"display: table-cell;\">view&nbsp;=&nbsp;CDSView(id='2971', ...),</div></div><div class=\"3007\" style=\"display: none;\"><div style=\"display: table-cell;\"></div><div style=\"display: table-cell;\">visible&nbsp;=&nbsp;True,</div></div><div class=\"3007\" style=\"display: none;\"><div style=\"display: table-cell;\"></div><div style=\"display: table-cell;\">x_range_name&nbsp;=&nbsp;'default',</div></div><div class=\"3007\" style=\"display: none;\"><div style=\"display: table-cell;\"></div><div style=\"display: table-cell;\">y_range_name&nbsp;=&nbsp;'default')</div></div></div>\n",
       "<script>\n",
       "(function() {\n",
       "  var expanded = false;\n",
       "  var ellipsis = document.getElementById(\"3008\");\n",
       "  ellipsis.addEventListener(\"click\", function() {\n",
       "    var rows = document.getElementsByClassName(\"3007\");\n",
       "    for (var i = 0; i < rows.length; i++) {\n",
       "      var el = rows[i];\n",
       "      el.style.display = expanded ? \"none\" : \"table-row\";\n",
       "    }\n",
       "    ellipsis.innerHTML = expanded ? \"&hellip;)\" : \"&lsaquo;&lsaquo;&lsaquo;\";\n",
       "    expanded = !expanded;\n",
       "  });\n",
       "})();\n",
       "</script>\n"
      ],
      "text/plain": [
       "GlyphRenderer(id='2970', ...)"
      ]
     },
     "execution_count": 45,
     "metadata": {},
     "output_type": "execute_result"
    }
   ],
   "source": [
    "mask = selected_country.index.isin(summer)\n",
    "\n",
    "summer = selected_country[mask]\n",
    "x = summer.index\n",
    "y = summer[\"confirmed_cases\"][\"mean\"]\n",
    "source = {\n",
    "    \"x\":x,\n",
    "    \"upper\":y + summer[\"confirmed_cases\"][\"std\"],\n",
    "    \"lower\":y - summer[\"confirmed_cases\"][\"std\"],\n",
    "}\n",
    "fig.varea(x=\"x\",y1= \"upper\", y2= \"lower\",color=\"red\",fill_alpha=0.2,source=source)\n",
    "fig.line(x = x,y = y,legend_label=\"Summer cases\",color=\"red\")\n"
   ]
  },
  {
   "cell_type": "code",
   "execution_count": 46,
   "metadata": {},
   "outputs": [
    {
     "data": {
      "text/html": [
       "\n",
       "\n",
       "\n",
       "\n",
       "\n",
       "\n",
       "  <div class=\"bk-root\" id=\"0a4b764f-5e26-4f71-8d5b-8e7edd4bf98f\" data-root-id=\"2809\"></div>\n"
      ]
     },
     "metadata": {},
     "output_type": "display_data"
    },
    {
     "data": {
      "application/javascript": [
       "(function(root) {\n",
       "  function embed_document(root) {\n",
       "    \n",
       "  var docs_json = {\"3882fda1-4600-4c93-8a01-c70dac52b7a5\":{\"roots\":{\"references\":[{\"attributes\":{\"below\":[{\"id\":\"2820\"}],\"center\":[{\"id\":\"2823\"},{\"id\":\"2827\"},{\"id\":\"2873\"}],\"left\":[{\"id\":\"2824\"}],\"plot_height\":500,\"renderers\":[{\"id\":\"2844\"},{\"id\":\"2849\"},{\"id\":\"2881\"},{\"id\":\"2886\"},{\"id\":\"2921\"},{\"id\":\"2926\"},{\"id\":\"2965\"},{\"id\":\"2970\"}],\"title\":{\"id\":\"2810\"},\"toolbar\":{\"id\":\"2834\"},\"x_range\":{\"id\":\"2812\"},\"x_scale\":{\"id\":\"2816\"},\"y_range\":{\"id\":\"2814\"},\"y_scale\":{\"id\":\"2818\"}},\"id\":\"2809\",\"subtype\":\"Figure\",\"type\":\"Plot\"},{\"attributes\":{\"data\":{\"lower\":{\"__ndarray__\":\"97da5X5QgEBxFJ4WiByCQKPpNCcXw3RAVLrMHjFnd0Br0MYzsFhwQNDhUQPK/y7AiuT2AN1iXUDYR0Nm/GtnQFMG8eCCtmVA7IzwjYCkakDaCqxmV/JwQObdypxsqm9A2quwQjcTckA=\",\"dtype\":\"float64\",\"order\":\"little\",\"shape\":[13]},\"upper\":{\"__ndarray__\":\"5f4S9jcNjUCzNPQNwYWKQCnqe8heKJFAaMfiAoxlh0A4c9NTgxqCQFghP5mQnHlAStpOO1sRgEAouLyZA9RuQNd8h4++RHFA+JS+JptkdEACrMF0Xxt6QA2RmrHJanRAJlRPvcjMeEA=\",\"dtype\":\"float64\",\"order\":\"little\",\"shape\":[13]},\"x\":{\"__ndarray__\":\"AACA0e8Qd0IAAMCZMBN3QgAAAGJxFXdCAABAKrIXd0IAAIDy8hl3QgAAwLozHHdCAAAAg3Qed0IAAEBLtSB3QgAAgBP2IndCAADA2zYld0IAAACkdyd3QgAAQGy4KXdCAACANPkrd0I=\",\"dtype\":\"float64\",\"order\":\"little\",\"shape\":[13]}},\"selected\":{\"id\":\"2910\"},\"selection_policy\":{\"id\":\"2911\"}},\"id\":\"2877\",\"type\":\"ColumnDataSource\"},{\"attributes\":{\"data\":{\"x\":{\"__ndarray__\":\"AACA0e8Qd0IAAMCZMBN3QgAAAGJxFXdCAABAKrIXd0IAAIDy8hl3QgAAwLozHHdCAAAAg3Qed0IAAEBLtSB3QgAAgBP2IndCAADA2zYld0IAAACkdyd3QgAAQGy4KXdCAACANPkrd0I=\",\"dtype\":\"float64\",\"order\":\"little\",\"shape\":[13]},\"y\":{\"__ndarray__\":\"btu2bduuhkCSJEmSJFGGQJIkSZIkWYZASZIkSZKMgUBu27Zt20Z6QEmSJEmSpGhA27Zt27a9c0AAAAAAACBrQAAAAAAAIGxAt23btm3bcEBu27Zt24Z1QAAAAAAAIHJAAAAAAABwdUA=\",\"dtype\":\"float64\",\"order\":\"little\",\"shape\":[13]}},\"selected\":{\"id\":\"2912\"},\"selection_policy\":{\"id\":\"2913\"}},\"id\":\"2883\",\"type\":\"ColumnDataSource\"},{\"attributes\":{},\"id\":\"3003\",\"type\":\"UnionRenderers\"},{\"attributes\":{\"data_source\":{\"id\":\"2917\"},\"glyph\":{\"id\":\"2919\"},\"hover_glyph\":null,\"muted_glyph\":null,\"nonselection_glyph\":{\"id\":\"2920\"},\"selection_glyph\":null,\"view\":{\"id\":\"2922\"}},\"id\":\"2921\",\"type\":\"GlyphRenderer\"},{\"attributes\":{\"data\":{\"x\":{\"__ndarray__\":\"AADA/Dkud0IAAADFejB3QgAAQI27MndCAACAVfw0d0IAAMAdPTd3QgAAAOZ9OXdCAABArr47d0IAAIB2/z13QgAAwD5AQHdCAAAAB4FCd0IAAEDPwUR3QgAAgJcCR3dCAADAX0NJd0IAAAAohEt3QgAAQPDETXdCAACAuAVQd0IAAMCARlJ3QgAAAEmHVHdC\",\"dtype\":\"float64\",\"order\":\"little\",\"shape\":[18]},\"y\":{\"__ndarray__\":\"btu2bdt2dUAAAAAAAFB0QG7btm3bhndA27Zt27Z9cEAAAAAAAABrQCVJkiRJsmZAJUmSJEmSZkBu27Zt29ZqQEmSJEmSJGpAAAAAAADQdEDbtm3btq13QLdt27Zta4JAkiRJkiS5hEAAAAAAAJCGQCVJkiRJ+ohA27Zt27apk0Dbtm3btk+gQJIkSZIkGadA\",\"dtype\":\"float64\",\"order\":\"little\",\"shape\":[18]}},\"selected\":{\"id\":\"3004\"},\"selection_policy\":{\"id\":\"3005\"}},\"id\":\"2967\",\"type\":\"ColumnDataSource\"},{\"attributes\":{\"data\":{\"lower\":{\"__ndarray__\":\"yr3Gfw1PpUAOAPyMpHavQBmjgulYirRA\",\"dtype\":\"float64\",\"order\":\"little\",\"shape\":[3]},\"upper\":{\"__ndarray__\":\"G6EcQHlCsUAdSRTe9nK6QJEHKMFRgb1A\",\"dtype\":\"float64\",\"order\":\"little\",\"shape\":[3]},\"x\":{\"__ndarray__\":\"AABAEchWd0IAAIDZCFl3QgAAwKFJW3dC\",\"dtype\":\"float64\",\"order\":\"little\",\"shape\":[3]}},\"selected\":{\"id\":\"2954\"},\"selection_policy\":{\"id\":\"2955\"}},\"id\":\"2917\",\"type\":\"ColumnDataSource\"},{\"attributes\":{\"fill_alpha\":0.1,\"fill_color\":\"yellow\",\"x\":{\"field\":\"x\"},\"y1\":{\"field\":\"upper\"},\"y2\":{\"field\":\"lower\"}},\"id\":\"2920\",\"type\":\"VArea\"},{\"attributes\":{\"fill_alpha\":0.2,\"fill_color\":\"yellow\",\"x\":{\"field\":\"x\"},\"y1\":{\"field\":\"upper\"},\"y2\":{\"field\":\"lower\"}},\"id\":\"2919\",\"type\":\"VArea\"},{\"attributes\":{\"source\":{\"id\":\"2917\"}},\"id\":\"2922\",\"type\":\"CDSView\"},{\"attributes\":{\"source\":{\"id\":\"2923\"}},\"id\":\"2927\",\"type\":\"CDSView\"},{\"attributes\":{\"line_color\":\"yellow\",\"x\":{\"field\":\"x\"},\"y\":{\"field\":\"y\"}},\"id\":\"2924\",\"type\":\"Line\"},{\"attributes\":{\"line_alpha\":0.1,\"line_color\":\"yellow\",\"x\":{\"field\":\"x\"},\"y\":{\"field\":\"y\"}},\"id\":\"2925\",\"type\":\"Line\"},{\"attributes\":{\"data_source\":{\"id\":\"2877\"},\"glyph\":{\"id\":\"2879\"},\"hover_glyph\":null,\"muted_glyph\":null,\"nonselection_glyph\":{\"id\":\"2880\"},\"selection_glyph\":null,\"view\":{\"id\":\"2882\"}},\"id\":\"2881\",\"type\":\"GlyphRenderer\"},{\"attributes\":{\"data_source\":{\"id\":\"2923\"},\"glyph\":{\"id\":\"2924\"},\"hover_glyph\":null,\"muted_glyph\":null,\"nonselection_glyph\":{\"id\":\"2925\"},\"selection_glyph\":null,\"view\":{\"id\":\"2927\"}},\"id\":\"2926\",\"type\":\"GlyphRenderer\"},{\"attributes\":{\"fill_alpha\":0.1,\"fill_color\":\"orange\",\"x\":{\"field\":\"x\"},\"y1\":{\"field\":\"upper\"},\"y2\":{\"field\":\"lower\"}},\"id\":\"2880\",\"type\":\"VArea\"},{\"attributes\":{},\"id\":\"2954\",\"type\":\"Selection\"},{\"attributes\":{\"fill_alpha\":0.2,\"fill_color\":\"orange\",\"x\":{\"field\":\"x\"},\"y1\":{\"field\":\"upper\"},\"y2\":{\"field\":\"lower\"}},\"id\":\"2879\",\"type\":\"VArea\"},{\"attributes\":{\"source\":{\"id\":\"2877\"}},\"id\":\"2882\",\"type\":\"CDSView\"},{\"attributes\":{},\"id\":\"2955\",\"type\":\"UnionRenderers\"},{\"attributes\":{},\"id\":\"2854\",\"type\":\"DatetimeTickFormatter\"},{\"attributes\":{},\"id\":\"2956\",\"type\":\"Selection\"},{\"attributes\":{},\"id\":\"2957\",\"type\":\"UnionRenderers\"},{\"attributes\":{\"label\":{\"value\":\"Autumn cases\"},\"renderers\":[{\"id\":\"2926\"}]},\"id\":\"2958\",\"type\":\"LegendItem\"},{\"attributes\":{\"source\":{\"id\":\"2883\"}},\"id\":\"2887\",\"type\":\"CDSView\"},{\"attributes\":{\"line_color\":\"orange\",\"x\":{\"field\":\"x\"},\"y\":{\"field\":\"y\"}},\"id\":\"2884\",\"type\":\"Line\"},{\"attributes\":{\"line_alpha\":0.1,\"line_color\":\"orange\",\"x\":{\"field\":\"x\"},\"y\":{\"field\":\"y\"}},\"id\":\"2885\",\"type\":\"Line\"},{\"attributes\":{},\"id\":\"2812\",\"type\":\"DataRange1d\"},{\"attributes\":{\"data_source\":{\"id\":\"2883\"},\"glyph\":{\"id\":\"2884\"},\"hover_glyph\":null,\"muted_glyph\":null,\"nonselection_glyph\":{\"id\":\"2885\"},\"selection_glyph\":null,\"view\":{\"id\":\"2887\"}},\"id\":\"2886\",\"type\":\"GlyphRenderer\"},{\"attributes\":{},\"id\":\"2910\",\"type\":\"Selection\"},{\"attributes\":{},\"id\":\"2911\",\"type\":\"UnionRenderers\"},{\"attributes\":{},\"id\":\"2912\",\"type\":\"Selection\"},{\"attributes\":{},\"id\":\"2913\",\"type\":\"UnionRenderers\"},{\"attributes\":{\"months\":[0,2,4,6,8,10]},\"id\":\"2865\",\"type\":\"MonthsTicker\"},{\"attributes\":{\"label\":{\"value\":\"Spring cases\"},\"renderers\":[{\"id\":\"2886\"}]},\"id\":\"2914\",\"type\":\"LegendItem\"},{\"attributes\":{\"bottom_units\":\"screen\",\"fill_alpha\":0.5,\"fill_color\":\"lightgrey\",\"left_units\":\"screen\",\"level\":\"overlay\",\"line_alpha\":1.0,\"line_color\":\"black\",\"line_dash\":[4,4],\"line_width\":2,\"right_units\":\"screen\",\"top_units\":\"screen\"},\"id\":\"2833\",\"type\":\"BoxAnnotation\"},{\"attributes\":{\"data\":{\"x\":{\"__ndarray__\":\"AABAEchWd0IAAIDZCFl3QgAAwKFJW3dC\",\"dtype\":\"float64\",\"order\":\"little\",\"shape\":[3]},\"y\":{\"__ndarray__\":\"AAAAAADqq0CSJEmSJBe1QFVVVVXVBblA\",\"dtype\":\"float64\",\"order\":\"little\",\"shape\":[3]}},\"selected\":{\"id\":\"2956\"},\"selection_policy\":{\"id\":\"2957\"}},\"id\":\"2923\",\"type\":\"ColumnDataSource\"},{\"attributes\":{\"text\":\"Portugal cases evolution\"},\"id\":\"2810\",\"type\":\"Title\"},{\"attributes\":{},\"id\":\"2832\",\"type\":\"ResetTool\"},{\"attributes\":{},\"id\":\"2816\",\"type\":\"LinearScale\"},{\"attributes\":{},\"id\":\"2814\",\"type\":\"DataRange1d\"},{\"attributes\":{\"fill_alpha\":0.1,\"fill_color\":\"red\",\"x\":{\"field\":\"x\"},\"y1\":{\"field\":\"upper\"},\"y2\":{\"field\":\"lower\"}},\"id\":\"2964\",\"type\":\"VArea\"},{\"attributes\":{\"months\":[0,4,8]},\"id\":\"2866\",\"type\":\"MonthsTicker\"},{\"attributes\":{\"data_source\":{\"id\":\"2961\"},\"glyph\":{\"id\":\"2963\"},\"hover_glyph\":null,\"muted_glyph\":null,\"nonselection_glyph\":{\"id\":\"2964\"},\"selection_glyph\":null,\"view\":{\"id\":\"2966\"}},\"id\":\"2965\",\"type\":\"GlyphRenderer\"},{\"attributes\":{},\"id\":\"2869\",\"type\":\"Selection\"},{\"attributes\":{\"source\":{\"id\":\"2961\"}},\"id\":\"2966\",\"type\":\"CDSView\"},{\"attributes\":{},\"id\":\"2818\",\"type\":\"LinearScale\"},{\"attributes\":{\"formatter\":{\"id\":\"2854\"},\"ticker\":{\"id\":\"2821\"}},\"id\":\"2820\",\"type\":\"DatetimeAxis\"},{\"attributes\":{\"fill_alpha\":0.2,\"fill_color\":\"red\",\"x\":{\"field\":\"x\"},\"y1\":{\"field\":\"upper\"},\"y2\":{\"field\":\"lower\"}},\"id\":\"2963\",\"type\":\"VArea\"},{\"attributes\":{\"num_minor_ticks\":5,\"tickers\":[{\"id\":\"2857\"},{\"id\":\"2858\"},{\"id\":\"2859\"},{\"id\":\"2860\"},{\"id\":\"2861\"},{\"id\":\"2862\"},{\"id\":\"2863\"},{\"id\":\"2864\"},{\"id\":\"2865\"},{\"id\":\"2866\"},{\"id\":\"2867\"},{\"id\":\"2868\"}]},\"id\":\"2821\",\"type\":\"DatetimeTicker\"},{\"attributes\":{\"axis\":{\"id\":\"2820\"},\"ticker\":null},\"id\":\"2823\",\"type\":\"Grid\"},{\"attributes\":{\"data\":{\"lower\":{\"__ndarray__\":\"AAAAAAAAAAAAAAAAAAAAAAAAAAAAAAAAAAAAAAAAAAAAAAAAAAAAADzLBjv/F96/Kknfdfg8+T+gA+aU2i8yQOg//Ok9oWBA\",\"dtype\":\"float64\",\"order\":\"little\",\"shape\":[9]},\"upper\":{\"__ndarray__\":\"AAAAAAAAAAAAAAAAAAAAAAAAAAAAAAAAAAAAAAAAAAAAAAAAAAAAABhF5heSqvA/bTuNg4UhI0A9yFh/UoZYQOiWb+YX3XlA\",\"dtype\":\"float64\",\"order\":\"little\",\"shape\":[9]},\"x\":{\"__ndarray__\":\"AABAx6j8dkIAAICP6f52QgAAwFcqAXdCAAAAIGsDd0IAAEDoqwV3QgAAgLDsB3dCAADAeC0Kd0IAAABBbgx3QgAAQAmvDndC\",\"dtype\":\"float64\",\"order\":\"little\",\"shape\":[9]}},\"selected\":{\"id\":\"2869\"},\"selection_policy\":{\"id\":\"2870\"}},\"id\":\"2840\",\"type\":\"ColumnDataSource\"},{\"attributes\":{\"formatter\":{\"id\":\"2852\"},\"ticker\":{\"id\":\"2825\"}},\"id\":\"2824\",\"type\":\"LinearAxis\"},{\"attributes\":{\"source\":{\"id\":\"2967\"}},\"id\":\"2971\",\"type\":\"CDSView\"},{\"attributes\":{},\"id\":\"2825\",\"type\":\"BasicTicker\"},{\"attributes\":{\"line_color\":\"red\",\"x\":{\"field\":\"x\"},\"y\":{\"field\":\"y\"}},\"id\":\"2968\",\"type\":\"Line\"},{\"attributes\":{\"data\":{\"x\":{\"__ndarray__\":\"AABAx6j8dkIAAICP6f52QgAAwFcqAXdCAAAAIGsDd0IAAEDoqwV3QgAAgLDsB3dCAADAeC0Kd0IAAABBbgx3QgAAQAmvDndC\",\"dtype\":\"float64\",\"order\":\"little\",\"shape\":[9]},\"y\":{\"__ndarray__\":\"AAAAAAAAAAAAAAAAAAAAAAAAAAAAAAAAAAAAAAAAAAAAAAAAAAAAAJIkSZIkSdI/kiRJkiRJFkAlSZIkSRJNQG7btm3bFnFA\",\"dtype\":\"float64\",\"order\":\"little\",\"shape\":[9]}},\"selected\":{\"id\":\"2871\"},\"selection_policy\":{\"id\":\"2872\"}},\"id\":\"2846\",\"type\":\"ColumnDataSource\"},{\"attributes\":{\"axis\":{\"id\":\"2824\"},\"dimension\":1,\"ticker\":null},\"id\":\"2827\",\"type\":\"Grid\"},{\"attributes\":{\"data_source\":{\"id\":\"2840\"},\"glyph\":{\"id\":\"2842\"},\"hover_glyph\":null,\"muted_glyph\":null,\"nonselection_glyph\":{\"id\":\"2843\"},\"selection_glyph\":null,\"view\":{\"id\":\"2845\"}},\"id\":\"2844\",\"type\":\"GlyphRenderer\"},{\"attributes\":{\"line_alpha\":0.1,\"line_color\":\"red\",\"x\":{\"field\":\"x\"},\"y\":{\"field\":\"y\"}},\"id\":\"2969\",\"type\":\"Line\"},{\"attributes\":{\"data_source\":{\"id\":\"2967\"},\"glyph\":{\"id\":\"2968\"},\"hover_glyph\":null,\"muted_glyph\":null,\"nonselection_glyph\":{\"id\":\"2969\"},\"selection_glyph\":null,\"view\":{\"id\":\"2971\"}},\"id\":\"2970\",\"type\":\"GlyphRenderer\"},{\"attributes\":{\"label\":{\"value\":\"Summer cases\"},\"renderers\":[{\"id\":\"2970\"}]},\"id\":\"3006\",\"type\":\"LegendItem\"},{\"attributes\":{\"mantissas\":[1,2,5],\"max_interval\":500.0,\"num_minor_ticks\":0},\"id\":\"2857\",\"type\":\"AdaptiveTicker\"},{\"attributes\":{\"callback\":null,\"tooltips\":\"value: @y\"},\"id\":\"2828\",\"type\":\"HoverTool\"},{\"attributes\":{\"fill_alpha\":0.1,\"fill_color\":\"blue\",\"x\":{\"field\":\"x\"},\"y1\":{\"field\":\"upper\"},\"y2\":{\"field\":\"lower\"}},\"id\":\"2843\",\"type\":\"VArea\"},{\"attributes\":{},\"id\":\"2829\",\"type\":\"PanTool\"},{\"attributes\":{\"fill_alpha\":0.2,\"fill_color\":\"blue\",\"x\":{\"field\":\"x\"},\"y1\":{\"field\":\"upper\"},\"y2\":{\"field\":\"lower\"}},\"id\":\"2842\",\"type\":\"VArea\"},{\"attributes\":{\"active_drag\":\"auto\",\"active_inspect\":\"auto\",\"active_multi\":null,\"active_scroll\":\"auto\",\"active_tap\":\"auto\",\"tools\":[{\"id\":\"2828\"},{\"id\":\"2829\"},{\"id\":\"2830\"},{\"id\":\"2831\"},{\"id\":\"2832\"}]},\"id\":\"2834\",\"type\":\"Toolbar\"},{\"attributes\":{},\"id\":\"2830\",\"type\":\"WheelZoomTool\"},{\"attributes\":{\"source\":{\"id\":\"2840\"}},\"id\":\"2845\",\"type\":\"CDSView\"},{\"attributes\":{\"overlay\":{\"id\":\"2833\"}},\"id\":\"2831\",\"type\":\"BoxZoomTool\"},{\"attributes\":{},\"id\":\"2852\",\"type\":\"BasicTickFormatter\"},{\"attributes\":{\"source\":{\"id\":\"2846\"}},\"id\":\"2850\",\"type\":\"CDSView\"},{\"attributes\":{\"line_color\":\"blue\",\"x\":{\"field\":\"x\"},\"y\":{\"field\":\"y\"}},\"id\":\"2847\",\"type\":\"Line\"},{\"attributes\":{},\"id\":\"3005\",\"type\":\"UnionRenderers\"},{\"attributes\":{\"line_alpha\":0.1,\"line_color\":\"blue\",\"x\":{\"field\":\"x\"},\"y\":{\"field\":\"y\"}},\"id\":\"2848\",\"type\":\"Line\"},{\"attributes\":{},\"id\":\"3004\",\"type\":\"Selection\"},{\"attributes\":{\"data_source\":{\"id\":\"2846\"},\"glyph\":{\"id\":\"2847\"},\"hover_glyph\":null,\"muted_glyph\":null,\"nonselection_glyph\":{\"id\":\"2848\"},\"selection_glyph\":null,\"view\":{\"id\":\"2850\"}},\"id\":\"2849\",\"type\":\"GlyphRenderer\"},{\"attributes\":{\"base\":60,\"mantissas\":[1,2,5,10,15,20,30],\"max_interval\":1800000.0,\"min_interval\":1000.0,\"num_minor_ticks\":0},\"id\":\"2858\",\"type\":\"AdaptiveTicker\"},{\"attributes\":{\"base\":24,\"mantissas\":[1,2,4,6,8,12],\"max_interval\":43200000.0,\"min_interval\":3600000.0,\"num_minor_ticks\":0},\"id\":\"2859\",\"type\":\"AdaptiveTicker\"},{\"attributes\":{\"days\":[1,2,3,4,5,6,7,8,9,10,11,12,13,14,15,16,17,18,19,20,21,22,23,24,25,26,27,28,29,30,31]},\"id\":\"2860\",\"type\":\"DaysTicker\"},{\"attributes\":{\"days\":[1,4,7,10,13,16,19,22,25,28]},\"id\":\"2861\",\"type\":\"DaysTicker\"},{\"attributes\":{\"days\":[1,8,15,22]},\"id\":\"2862\",\"type\":\"DaysTicker\"},{\"attributes\":{\"days\":[1,15]},\"id\":\"2863\",\"type\":\"DaysTicker\"},{\"attributes\":{\"months\":[0,1,2,3,4,5,6,7,8,9,10,11]},\"id\":\"2864\",\"type\":\"MonthsTicker\"},{\"attributes\":{},\"id\":\"2870\",\"type\":\"UnionRenderers\"},{\"attributes\":{},\"id\":\"2868\",\"type\":\"YearsTicker\"},{\"attributes\":{},\"id\":\"2871\",\"type\":\"Selection\"},{\"attributes\":{},\"id\":\"2872\",\"type\":\"UnionRenderers\"},{\"attributes\":{\"items\":[{\"id\":\"2874\"},{\"id\":\"2914\"},{\"id\":\"2958\"},{\"id\":\"3006\"}]},\"id\":\"2873\",\"type\":\"Legend\"},{\"attributes\":{\"data\":{\"lower\":{\"__ndarray__\":\"6aOAMkIEcEBv7ts1DKtwQKexy7Be63BAav+E+cqmZEBtOQxHVw5iQFxsJC7Kol5AFmfJvcS8XkAWdn9IUqRhQKJazUsipmJAQzUuX7RkcEDm+Vz8fulyQFwwiDEMz35Ah1G/4+lbgEDdyJmEp3+BQMCgllKjYoNACvtQtwQtkECwhAluh5+cQAo8a3llc6NA\",\"dtype\":\"float64\",\"order\":\"little\",\"shape\":[18]},\"upper\":{\"__ndarray__\":\"8xLtqHTpekCRESTK8/R3QDUFoipYIn5AAe4YOgiodkBK43lc1PhxQBxcEjItE25Av94/6i/GbUBjIHdJsgRyQPjkPSOB0XBAvcrRoEs7eUDQc3667nF8QEDD8lRVb4VAnffSQF8WiUAjN2Z7WKCLQIrxjfbukY5ArHKK/2gml0Beq9b/qU+iQBoNJ6vjvqpA\",\"dtype\":\"float64\",\"order\":\"little\",\"shape\":[18]},\"x\":{\"__ndarray__\":\"AADA/Dkud0IAAADFejB3QgAAQI27MndCAACAVfw0d0IAAMAdPTd3QgAAAOZ9OXdCAABArr47d0IAAIB2/z13QgAAwD5AQHdCAAAAB4FCd0IAAEDPwUR3QgAAgJcCR3dCAADAX0NJd0IAAAAohEt3QgAAQPDETXdCAACAuAVQd0IAAMCARlJ3QgAAAEmHVHdC\",\"dtype\":\"float64\",\"order\":\"little\",\"shape\":[18]}},\"selected\":{\"id\":\"3002\"},\"selection_policy\":{\"id\":\"3003\"}},\"id\":\"2961\",\"type\":\"ColumnDataSource\"},{\"attributes\":{\"label\":{\"value\":\"Winter cases\"},\"renderers\":[{\"id\":\"2849\"}]},\"id\":\"2874\",\"type\":\"LegendItem\"},{\"attributes\":{\"months\":[0,6]},\"id\":\"2867\",\"type\":\"MonthsTicker\"},{\"attributes\":{},\"id\":\"3002\",\"type\":\"Selection\"}],\"root_ids\":[\"2809\"]},\"title\":\"Bokeh Application\",\"version\":\"2.2.3\"}};\n",
       "  var render_items = [{\"docid\":\"3882fda1-4600-4c93-8a01-c70dac52b7a5\",\"root_ids\":[\"2809\"],\"roots\":{\"2809\":\"0a4b764f-5e26-4f71-8d5b-8e7edd4bf98f\"}}];\n",
       "  root.Bokeh.embed.embed_items_notebook(docs_json, render_items);\n",
       "\n",
       "  }\n",
       "  if (root.Bokeh !== undefined) {\n",
       "    embed_document(root);\n",
       "  } else {\n",
       "    var attempts = 0;\n",
       "    var timer = setInterval(function(root) {\n",
       "      if (root.Bokeh !== undefined) {\n",
       "        clearInterval(timer);\n",
       "        embed_document(root);\n",
       "      } else {\n",
       "        attempts++;\n",
       "        if (attempts > 100) {\n",
       "          clearInterval(timer);\n",
       "          console.log(\"Bokeh: ERROR: Unable to run BokehJS code because BokehJS library is missing\");\n",
       "        }\n",
       "      }\n",
       "    }, 10, root)\n",
       "  }\n",
       "})(window);"
      ],
      "application/vnd.bokehjs_exec.v0+json": ""
     },
     "metadata": {
      "application/vnd.bokehjs_exec.v0+json": {
       "id": "2809"
      }
     },
     "output_type": "display_data"
    }
   ],
   "source": [
    "show(fig)"
   ]
  },
  {
   "cell_type": "markdown",
   "metadata": {},
   "source": [
    "### Lets just organize that code"
   ]
  },
  {
   "cell_type": "code",
   "execution_count": 47,
   "metadata": {},
   "outputs": [],
   "source": [
    "winter = pd.date_range(start='21/12/2019', end='20/03/2020')\n",
    "spring =pd.date_range(start='20/03/2020', end='20/06/2020')\n",
    "summer =pd.date_range(start='20/06/2020', end='22/10/2020')\n",
    "autumn = pd.date_range(start='22/10/2020', end='21/12/2020')\n",
    "\n",
    "colors = [\"blue\",\"orange\",\"red\",\"yellow\"]\n",
    "seasons = [winter,spring,summer,autumn]\n",
    "labels = [\"Winter\",\"Spring\",\"Summer\",\"Autumn\"]\n",
    "\n"
   ]
  },
  {
   "cell_type": "code",
   "execution_count": 48,
   "metadata": {},
   "outputs": [
    {
     "data": {
      "text/html": [
       "\n",
       "\n",
       "\n",
       "\n",
       "\n",
       "\n",
       "  <div class=\"bk-root\" id=\"21ccb841-9930-4876-bd51-8698b879dd04\" data-root-id=\"3298\"></div>\n"
      ]
     },
     "metadata": {},
     "output_type": "display_data"
    },
    {
     "data": {
      "application/javascript": [
       "(function(root) {\n",
       "  function embed_document(root) {\n",
       "    \n",
       "  var docs_json = {\"8c34773a-7488-4d9e-965f-b4ed06171021\":{\"roots\":{\"references\":[{\"attributes\":{\"below\":[{\"id\":\"3309\"}],\"center\":[{\"id\":\"3312\"},{\"id\":\"3316\"},{\"id\":\"3358\"}],\"left\":[{\"id\":\"3313\"}],\"plot_height\":500,\"renderers\":[{\"id\":\"3330\"},{\"id\":\"3335\"},{\"id\":\"3364\"},{\"id\":\"3369\"},{\"id\":\"3401\"},{\"id\":\"3406\"},{\"id\":\"3442\"},{\"id\":\"3447\"}],\"title\":{\"id\":\"3299\"},\"toolbar\":{\"id\":\"3321\"},\"x_range\":{\"id\":\"3301\"},\"x_scale\":{\"id\":\"3305\"},\"y_range\":{\"id\":\"3303\"},\"y_scale\":{\"id\":\"3307\"}},\"id\":\"3298\",\"subtype\":\"Figure\",\"type\":\"Plot\"},{\"attributes\":{\"data_source\":{\"id\":\"3360\"},\"glyph\":{\"id\":\"3362\"},\"hover_glyph\":null,\"muted_glyph\":null,\"nonselection_glyph\":{\"id\":\"3363\"},\"selection_glyph\":null,\"view\":{\"id\":\"3365\"}},\"id\":\"3364\",\"type\":\"GlyphRenderer\"},{\"attributes\":{\"fill_alpha\":0.1,\"fill_color\":\"orange\",\"x\":{\"field\":\"x\"},\"y1\":{\"field\":\"upper\"},\"y2\":{\"field\":\"lower\"}},\"id\":\"3363\",\"type\":\"VArea\"},{\"attributes\":{\"fill_alpha\":0.2,\"fill_color\":\"orange\",\"x\":{\"field\":\"x\"},\"y1\":{\"field\":\"upper\"},\"y2\":{\"field\":\"lower\"}},\"id\":\"3362\",\"type\":\"VArea\"},{\"attributes\":{\"source\":{\"id\":\"3360\"}},\"id\":\"3365\",\"type\":\"CDSView\"},{\"attributes\":{},\"id\":\"3392\",\"type\":\"Selection\"},{\"attributes\":{\"data\":{\"x\":{\"__ndarray__\":\"AACA0e8Qd0IAAMCZMBN3QgAAAGJxFXdCAABAKrIXd0IAAIDy8hl3QgAAwLozHHdCAAAAg3Qed0IAAEBLtSB3QgAAgBP2IndCAADA2zYld0IAAACkdyd3QgAAQGy4KXdCAACANPkrd0I=\",\"dtype\":\"float64\",\"order\":\"little\",\"shape\":[13]},\"y\":{\"__ndarray__\":\"btu2bduuhkCSJEmSJFGGQJIkSZIkWYZASZIkSZKMgUBu27Zt20Z6QEmSJEmSpGhA27Zt27a9c0AAAAAAACBrQAAAAAAAIGxAt23btm3bcEBu27Zt24Z1QAAAAAAAIHJAAAAAAABwdUA=\",\"dtype\":\"float64\",\"order\":\"little\",\"shape\":[13]}},\"selected\":{\"id\":\"3394\"},\"selection_policy\":{\"id\":\"3395\"}},\"id\":\"3366\",\"type\":\"ColumnDataSource\"},{\"attributes\":{\"source\":{\"id\":\"3444\"}},\"id\":\"3448\",\"type\":\"CDSView\"},{\"attributes\":{\"data_source\":{\"id\":\"3438\"},\"glyph\":{\"id\":\"3440\"},\"hover_glyph\":null,\"muted_glyph\":null,\"nonselection_glyph\":{\"id\":\"3441\"},\"selection_glyph\":null,\"view\":{\"id\":\"3443\"}},\"id\":\"3442\",\"type\":\"GlyphRenderer\"},{\"attributes\":{\"fill_alpha\":0.1,\"fill_color\":\"yellow\",\"x\":{\"field\":\"x\"},\"y1\":{\"field\":\"upper\"},\"y2\":{\"field\":\"lower\"}},\"id\":\"3441\",\"type\":\"VArea\"},{\"attributes\":{\"fill_alpha\":0.2,\"fill_color\":\"yellow\",\"x\":{\"field\":\"x\"},\"y1\":{\"field\":\"upper\"},\"y2\":{\"field\":\"lower\"}},\"id\":\"3440\",\"type\":\"VArea\"},{\"attributes\":{\"data_source\":{\"id\":\"3366\"},\"glyph\":{\"id\":\"3367\"},\"hover_glyph\":null,\"muted_glyph\":null,\"nonselection_glyph\":{\"id\":\"3368\"},\"selection_glyph\":null,\"view\":{\"id\":\"3370\"}},\"id\":\"3369\",\"type\":\"GlyphRenderer\"},{\"attributes\":{\"source\":{\"id\":\"3438\"}},\"id\":\"3443\",\"type\":\"CDSView\"},{\"attributes\":{\"source\":{\"id\":\"3366\"}},\"id\":\"3370\",\"type\":\"CDSView\"},{\"attributes\":{\"data\":{\"x\":{\"__ndarray__\":\"AABAEchWd0IAAIDZCFl3QgAAwKFJW3dC\",\"dtype\":\"float64\",\"order\":\"little\",\"shape\":[3]},\"y\":{\"__ndarray__\":\"AAAAAADqq0CSJEmSJBe1QFVVVVXVBblA\",\"dtype\":\"float64\",\"order\":\"little\",\"shape\":[3]}},\"selected\":{\"id\":\"3480\"},\"selection_policy\":{\"id\":\"3481\"}},\"id\":\"3444\",\"type\":\"ColumnDataSource\"},{\"attributes\":{},\"id\":\"3478\",\"type\":\"Selection\"},{\"attributes\":{\"line_alpha\":0.1,\"line_color\":\"orange\",\"x\":{\"field\":\"x\"},\"y\":{\"field\":\"y\"}},\"id\":\"3368\",\"type\":\"Line\"},{\"attributes\":{\"data_source\":{\"id\":\"3444\"},\"glyph\":{\"id\":\"3445\"},\"hover_glyph\":null,\"muted_glyph\":null,\"nonselection_glyph\":{\"id\":\"3446\"},\"selection_glyph\":null,\"view\":{\"id\":\"3448\"}},\"id\":\"3447\",\"type\":\"GlyphRenderer\"},{\"attributes\":{},\"id\":\"3393\",\"type\":\"UnionRenderers\"},{\"attributes\":{},\"id\":\"3394\",\"type\":\"Selection\"},{\"attributes\":{},\"id\":\"3479\",\"type\":\"UnionRenderers\"},{\"attributes\":{},\"id\":\"3395\",\"type\":\"UnionRenderers\"},{\"attributes\":{},\"id\":\"3480\",\"type\":\"Selection\"},{\"attributes\":{\"data\":{\"lower\":{\"__ndarray__\":\"6aOAMkIEcEBv7ts1DKtwQKexy7Be63BAav+E+cqmZEBtOQxHVw5iQFxsJC7Kol5AFmfJvcS8XkAWdn9IUqRhQKJazUsipmJAQzUuX7RkcEDm+Vz8fulyQFwwiDEMz35Ah1G/4+lbgEDdyJmEp3+BQMCgllKjYoNACvtQtwQtkECwhAluh5+cQAo8a3llc6NA\",\"dtype\":\"float64\",\"order\":\"little\",\"shape\":[18]},\"upper\":{\"__ndarray__\":\"8xLtqHTpekCRESTK8/R3QDUFoipYIn5AAe4YOgiodkBK43lc1PhxQBxcEjItE25Av94/6i/GbUBjIHdJsgRyQPjkPSOB0XBAvcrRoEs7eUDQc3667nF8QEDD8lRVb4VAnffSQF8WiUAjN2Z7WKCLQIrxjfbukY5ArHKK/2gml0Beq9b/qU+iQBoNJ6vjvqpA\",\"dtype\":\"float64\",\"order\":\"little\",\"shape\":[18]},\"x\":{\"__ndarray__\":\"AADA/Dkud0IAAADFejB3QgAAQI27MndCAACAVfw0d0IAAMAdPTd3QgAAAOZ9OXdCAABArr47d0IAAIB2/z13QgAAwD5AQHdCAAAAB4FCd0IAAEDPwUR3QgAAgJcCR3dCAADAX0NJd0IAAAAohEt3QgAAQPDETXdCAACAuAVQd0IAAMCARlJ3QgAAAEmHVHdC\",\"dtype\":\"float64\",\"order\":\"little\",\"shape\":[18]}},\"selected\":{\"id\":\"3433\"},\"selection_policy\":{\"id\":\"3434\"}},\"id\":\"3397\",\"type\":\"ColumnDataSource\"},{\"attributes\":{},\"id\":\"3481\",\"type\":\"UnionRenderers\"},{\"attributes\":{\"label\":{\"value\":\"Spring cases\"},\"renderers\":[{\"id\":\"3369\"}]},\"id\":\"3396\",\"type\":\"LegendItem\"},{\"attributes\":{\"line_color\":\"yellow\",\"x\":{\"field\":\"x\"},\"y\":{\"field\":\"y\"}},\"id\":\"3445\",\"type\":\"Line\"},{\"attributes\":{},\"id\":\"3320\",\"type\":\"ResetTool\"},{\"attributes\":{},\"id\":\"3318\",\"type\":\"PanTool\"},{\"attributes\":{\"data\":{\"lower\":{\"__ndarray__\":\"yr3Gfw1PpUAOAPyMpHavQBmjgulYirRA\",\"dtype\":\"float64\",\"order\":\"little\",\"shape\":[3]},\"upper\":{\"__ndarray__\":\"G6EcQHlCsUAdSRTe9nK6QJEHKMFRgb1A\",\"dtype\":\"float64\",\"order\":\"little\",\"shape\":[3]},\"x\":{\"__ndarray__\":\"AABAEchWd0IAAIDZCFl3QgAAwKFJW3dC\",\"dtype\":\"float64\",\"order\":\"little\",\"shape\":[3]}},\"selected\":{\"id\":\"3478\"},\"selection_policy\":{\"id\":\"3479\"}},\"id\":\"3438\",\"type\":\"ColumnDataSource\"},{\"attributes\":{\"line_alpha\":0.1,\"line_color\":\"red\",\"x\":{\"field\":\"x\"},\"y\":{\"field\":\"y\"}},\"id\":\"3405\",\"type\":\"Line\"},{\"attributes\":{\"fill_alpha\":0.2,\"fill_color\":\"red\",\"x\":{\"field\":\"x\"},\"y1\":{\"field\":\"upper\"},\"y2\":{\"field\":\"lower\"}},\"id\":\"3399\",\"type\":\"VArea\"},{\"attributes\":{\"data_source\":{\"id\":\"3397\"},\"glyph\":{\"id\":\"3399\"},\"hover_glyph\":null,\"muted_glyph\":null,\"nonselection_glyph\":{\"id\":\"3400\"},\"selection_glyph\":null,\"view\":{\"id\":\"3402\"}},\"id\":\"3401\",\"type\":\"GlyphRenderer\"},{\"attributes\":{\"fill_alpha\":0.1,\"fill_color\":\"red\",\"x\":{\"field\":\"x\"},\"y1\":{\"field\":\"upper\"},\"y2\":{\"field\":\"lower\"}},\"id\":\"3400\",\"type\":\"VArea\"},{\"attributes\":{\"active_drag\":\"auto\",\"active_inspect\":\"auto\",\"active_multi\":null,\"active_scroll\":\"auto\",\"active_tap\":\"auto\",\"tools\":[{\"id\":\"3317\"},{\"id\":\"3318\"},{\"id\":\"3319\"},{\"id\":\"3320\"}]},\"id\":\"3321\",\"type\":\"Toolbar\"},{\"attributes\":{},\"id\":\"3433\",\"type\":\"Selection\"},{\"attributes\":{\"source\":{\"id\":\"3397\"}},\"id\":\"3402\",\"type\":\"CDSView\"},{\"attributes\":{\"formatter\":{\"id\":\"3338\"},\"ticker\":{\"id\":\"3314\"}},\"id\":\"3313\",\"type\":\"LinearAxis\"},{\"attributes\":{\"axis\":{\"id\":\"3313\"},\"dimension\":1,\"ticker\":null},\"id\":\"3316\",\"type\":\"Grid\"},{\"attributes\":{\"data\":{\"x\":{\"__ndarray__\":\"AADA/Dkud0IAAADFejB3QgAAQI27MndCAACAVfw0d0IAAMAdPTd3QgAAAOZ9OXdCAABArr47d0IAAIB2/z13QgAAwD5AQHdCAAAAB4FCd0IAAEDPwUR3QgAAgJcCR3dCAADAX0NJd0IAAAAohEt3QgAAQPDETXdCAACAuAVQd0IAAMCARlJ3QgAAAEmHVHdC\",\"dtype\":\"float64\",\"order\":\"little\",\"shape\":[18]},\"y\":{\"__ndarray__\":\"btu2bdt2dUAAAAAAAFB0QG7btm3bhndA27Zt27Z9cEAAAAAAAABrQCVJkiRJsmZAJUmSJEmSZkBu27Zt29ZqQEmSJEmSJGpAAAAAAADQdEDbtm3btq13QLdt27Zta4JAkiRJkiS5hEAAAAAAAJCGQCVJkiRJ+ohA27Zt27apk0Dbtm3btk+gQJIkSZIkGadA\",\"dtype\":\"float64\",\"order\":\"little\",\"shape\":[18]}},\"selected\":{\"id\":\"3435\"},\"selection_policy\":{\"id\":\"3436\"}},\"id\":\"3403\",\"type\":\"ColumnDataSource\"},{\"attributes\":{\"callback\":null,\"tooltips\":\"value: @y\"},\"id\":\"3317\",\"type\":\"HoverTool\"},{\"attributes\":{\"source\":{\"id\":\"3403\"}},\"id\":\"3407\",\"type\":\"CDSView\"},{\"attributes\":{\"line_color\":\"red\",\"x\":{\"field\":\"x\"},\"y\":{\"field\":\"y\"}},\"id\":\"3404\",\"type\":\"Line\"},{\"attributes\":{\"data_source\":{\"id\":\"3403\"},\"glyph\":{\"id\":\"3404\"},\"hover_glyph\":null,\"muted_glyph\":null,\"nonselection_glyph\":{\"id\":\"3405\"},\"selection_glyph\":null,\"view\":{\"id\":\"3407\"}},\"id\":\"3406\",\"type\":\"GlyphRenderer\"},{\"attributes\":{\"dimensions\":\"width\"},\"id\":\"3319\",\"type\":\"WheelZoomTool\"},{\"attributes\":{},\"id\":\"3434\",\"type\":\"UnionRenderers\"},{\"attributes\":{},\"id\":\"3435\",\"type\":\"Selection\"},{\"attributes\":{},\"id\":\"3436\",\"type\":\"UnionRenderers\"},{\"attributes\":{\"label\":{\"value\":\"Summer cases\"},\"renderers\":[{\"id\":\"3406\"}]},\"id\":\"3437\",\"type\":\"LegendItem\"},{\"attributes\":{},\"id\":\"3314\",\"type\":\"BasicTicker\"},{\"attributes\":{\"data_source\":{\"id\":\"3326\"},\"glyph\":{\"id\":\"3328\"},\"hover_glyph\":null,\"muted_glyph\":null,\"nonselection_glyph\":{\"id\":\"3329\"},\"selection_glyph\":null,\"view\":{\"id\":\"3331\"}},\"id\":\"3330\",\"type\":\"GlyphRenderer\"},{\"attributes\":{\"data\":{\"lower\":{\"__ndarray__\":\"97da5X5QgEBxFJ4WiByCQKPpNCcXw3RAVLrMHjFnd0Br0MYzsFhwQNDhUQPK/y7AiuT2AN1iXUDYR0Nm/GtnQFMG8eCCtmVA7IzwjYCkakDaCqxmV/JwQObdypxsqm9A2quwQjcTckA=\",\"dtype\":\"float64\",\"order\":\"little\",\"shape\":[13]},\"upper\":{\"__ndarray__\":\"5f4S9jcNjUCzNPQNwYWKQCnqe8heKJFAaMfiAoxlh0A4c9NTgxqCQFghP5mQnHlAStpOO1sRgEAouLyZA9RuQNd8h4++RHFA+JS+JptkdEACrMF0Xxt6QA2RmrHJanRAJlRPvcjMeEA=\",\"dtype\":\"float64\",\"order\":\"little\",\"shape\":[13]},\"x\":{\"__ndarray__\":\"AACA0e8Qd0IAAMCZMBN3QgAAAGJxFXdCAABAKrIXd0IAAIDy8hl3QgAAwLozHHdCAAAAg3Qed0IAAEBLtSB3QgAAgBP2IndCAADA2zYld0IAAACkdyd3QgAAQGy4KXdCAACANPkrd0I=\",\"dtype\":\"float64\",\"order\":\"little\",\"shape\":[13]}},\"selected\":{\"id\":\"3392\"},\"selection_policy\":{\"id\":\"3393\"}},\"id\":\"3360\",\"type\":\"ColumnDataSource\"},{\"attributes\":{\"fill_alpha\":0.1,\"fill_color\":\"blue\",\"x\":{\"field\":\"x\"},\"y1\":{\"field\":\"upper\"},\"y2\":{\"field\":\"lower\"}},\"id\":\"3329\",\"type\":\"VArea\"},{\"attributes\":{\"fill_alpha\":0.2,\"fill_color\":\"blue\",\"x\":{\"field\":\"x\"},\"y1\":{\"field\":\"upper\"},\"y2\":{\"field\":\"lower\"}},\"id\":\"3328\",\"type\":\"VArea\"},{\"attributes\":{\"source\":{\"id\":\"3326\"}},\"id\":\"3331\",\"type\":\"CDSView\"},{\"attributes\":{\"data\":{\"x\":{\"__ndarray__\":\"AABAx6j8dkIAAICP6f52QgAAwFcqAXdCAAAAIGsDd0IAAEDoqwV3QgAAgLDsB3dCAADAeC0Kd0IAAABBbgx3QgAAQAmvDndC\",\"dtype\":\"float64\",\"order\":\"little\",\"shape\":[9]},\"y\":{\"__ndarray__\":\"AAAAAAAAAAAAAAAAAAAAAAAAAAAAAAAAAAAAAAAAAAAAAAAAAAAAAJIkSZIkSdI/kiRJkiRJFkAlSZIkSRJNQG7btm3bFnFA\",\"dtype\":\"float64\",\"order\":\"little\",\"shape\":[9]}},\"selected\":{\"id\":\"3356\"},\"selection_policy\":{\"id\":\"3357\"}},\"id\":\"3332\",\"type\":\"ColumnDataSource\"},{\"attributes\":{},\"id\":\"3338\",\"type\":\"BasicTickFormatter\"},{\"attributes\":{\"source\":{\"id\":\"3332\"}},\"id\":\"3336\",\"type\":\"CDSView\"},{\"attributes\":{\"line_color\":\"blue\",\"x\":{\"field\":\"x\"},\"y\":{\"field\":\"y\"}},\"id\":\"3333\",\"type\":\"Line\"},{\"attributes\":{\"line_alpha\":0.1,\"line_color\":\"blue\",\"x\":{\"field\":\"x\"},\"y\":{\"field\":\"y\"}},\"id\":\"3334\",\"type\":\"Line\"},{\"attributes\":{\"label\":{\"value\":\"Autumn cases\"},\"renderers\":[{\"id\":\"3447\"}]},\"id\":\"3482\",\"type\":\"LegendItem\"},{\"attributes\":{\"data_source\":{\"id\":\"3332\"},\"glyph\":{\"id\":\"3333\"},\"hover_glyph\":null,\"muted_glyph\":null,\"nonselection_glyph\":{\"id\":\"3334\"},\"selection_glyph\":null,\"view\":{\"id\":\"3336\"}},\"id\":\"3335\",\"type\":\"GlyphRenderer\"},{\"attributes\":{},\"id\":\"3340\",\"type\":\"DatetimeTickFormatter\"},{\"attributes\":{\"data\":{\"lower\":{\"__ndarray__\":\"AAAAAAAAAAAAAAAAAAAAAAAAAAAAAAAAAAAAAAAAAAAAAAAAAAAAADzLBjv/F96/Kknfdfg8+T+gA+aU2i8yQOg//Ok9oWBA\",\"dtype\":\"float64\",\"order\":\"little\",\"shape\":[9]},\"upper\":{\"__ndarray__\":\"AAAAAAAAAAAAAAAAAAAAAAAAAAAAAAAAAAAAAAAAAAAAAAAAAAAAABhF5heSqvA/bTuNg4UhI0A9yFh/UoZYQOiWb+YX3XlA\",\"dtype\":\"float64\",\"order\":\"little\",\"shape\":[9]},\"x\":{\"__ndarray__\":\"AABAx6j8dkIAAICP6f52QgAAwFcqAXdCAAAAIGsDd0IAAEDoqwV3QgAAgLDsB3dCAADAeC0Kd0IAAABBbgx3QgAAQAmvDndC\",\"dtype\":\"float64\",\"order\":\"little\",\"shape\":[9]}},\"selected\":{\"id\":\"3354\"},\"selection_policy\":{\"id\":\"3355\"}},\"id\":\"3326\",\"type\":\"ColumnDataSource\"},{\"attributes\":{\"mantissas\":[1,2,5],\"max_interval\":500.0,\"num_minor_ticks\":0},\"id\":\"3342\",\"type\":\"AdaptiveTicker\"},{\"attributes\":{\"base\":60,\"mantissas\":[1,2,5,10,15,20,30],\"max_interval\":1800000.0,\"min_interval\":1000.0,\"num_minor_ticks\":0},\"id\":\"3343\",\"type\":\"AdaptiveTicker\"},{\"attributes\":{\"base\":24,\"mantissas\":[1,2,4,6,8,12],\"max_interval\":43200000.0,\"min_interval\":3600000.0,\"num_minor_ticks\":0},\"id\":\"3344\",\"type\":\"AdaptiveTicker\"},{\"attributes\":{\"days\":[1,2,3,4,5,6,7,8,9,10,11,12,13,14,15,16,17,18,19,20,21,22,23,24,25,26,27,28,29,30,31]},\"id\":\"3345\",\"type\":\"DaysTicker\"},{\"attributes\":{\"days\":[1,4,7,10,13,16,19,22,25,28]},\"id\":\"3346\",\"type\":\"DaysTicker\"},{\"attributes\":{\"days\":[1,8,15,22]},\"id\":\"3347\",\"type\":\"DaysTicker\"},{\"attributes\":{\"days\":[1,15]},\"id\":\"3348\",\"type\":\"DaysTicker\"},{\"attributes\":{\"months\":[0,1,2,3,4,5,6,7,8,9,10,11]},\"id\":\"3349\",\"type\":\"MonthsTicker\"},{\"attributes\":{\"months\":[0,2,4,6,8,10]},\"id\":\"3350\",\"type\":\"MonthsTicker\"},{\"attributes\":{\"months\":[0,4,8]},\"id\":\"3351\",\"type\":\"MonthsTicker\"},{\"attributes\":{\"months\":[0,6]},\"id\":\"3352\",\"type\":\"MonthsTicker\"},{\"attributes\":{},\"id\":\"3353\",\"type\":\"YearsTicker\"},{\"attributes\":{\"text\":\"Portugal cases evolution\"},\"id\":\"3299\",\"type\":\"Title\"},{\"attributes\":{},\"id\":\"3354\",\"type\":\"Selection\"},{\"attributes\":{},\"id\":\"3301\",\"type\":\"DataRange1d\"},{\"attributes\":{},\"id\":\"3355\",\"type\":\"UnionRenderers\"},{\"attributes\":{},\"id\":\"3303\",\"type\":\"DataRange1d\"},{\"attributes\":{},\"id\":\"3356\",\"type\":\"Selection\"},{\"attributes\":{},\"id\":\"3305\",\"type\":\"LinearScale\"},{\"attributes\":{},\"id\":\"3357\",\"type\":\"UnionRenderers\"},{\"attributes\":{\"items\":[{\"id\":\"3359\"},{\"id\":\"3396\"},{\"id\":\"3437\"},{\"id\":\"3482\"}]},\"id\":\"3358\",\"type\":\"Legend\"},{\"attributes\":{},\"id\":\"3307\",\"type\":\"LinearScale\"},{\"attributes\":{\"formatter\":{\"id\":\"3340\"},\"ticker\":{\"id\":\"3310\"}},\"id\":\"3309\",\"type\":\"DatetimeAxis\"},{\"attributes\":{\"label\":{\"value\":\"Winter cases\"},\"renderers\":[{\"id\":\"3335\"}]},\"id\":\"3359\",\"type\":\"LegendItem\"},{\"attributes\":{\"num_minor_ticks\":5,\"tickers\":[{\"id\":\"3342\"},{\"id\":\"3343\"},{\"id\":\"3344\"},{\"id\":\"3345\"},{\"id\":\"3346\"},{\"id\":\"3347\"},{\"id\":\"3348\"},{\"id\":\"3349\"},{\"id\":\"3350\"},{\"id\":\"3351\"},{\"id\":\"3352\"},{\"id\":\"3353\"}]},\"id\":\"3310\",\"type\":\"DatetimeTicker\"},{\"attributes\":{\"axis\":{\"id\":\"3309\"},\"ticker\":null},\"id\":\"3312\",\"type\":\"Grid\"},{\"attributes\":{\"line_alpha\":0.1,\"line_color\":\"yellow\",\"x\":{\"field\":\"x\"},\"y\":{\"field\":\"y\"}},\"id\":\"3446\",\"type\":\"Line\"},{\"attributes\":{\"line_color\":\"orange\",\"x\":{\"field\":\"x\"},\"y\":{\"field\":\"y\"}},\"id\":\"3367\",\"type\":\"Line\"}],\"root_ids\":[\"3298\"]},\"title\":\"Bokeh Application\",\"version\":\"2.2.3\"}};\n",
       "  var render_items = [{\"docid\":\"8c34773a-7488-4d9e-965f-b4ed06171021\",\"root_ids\":[\"3298\"],\"roots\":{\"3298\":\"21ccb841-9930-4876-bd51-8698b879dd04\"}}];\n",
       "  root.Bokeh.embed.embed_items_notebook(docs_json, render_items);\n",
       "\n",
       "  }\n",
       "  if (root.Bokeh !== undefined) {\n",
       "    embed_document(root);\n",
       "  } else {\n",
       "    var attempts = 0;\n",
       "    var timer = setInterval(function(root) {\n",
       "      if (root.Bokeh !== undefined) {\n",
       "        clearInterval(timer);\n",
       "        embed_document(root);\n",
       "      } else {\n",
       "        attempts++;\n",
       "        if (attempts > 100) {\n",
       "          clearInterval(timer);\n",
       "          console.log(\"Bokeh: ERROR: Unable to run BokehJS code because BokehJS library is missing\");\n",
       "        }\n",
       "      }\n",
       "    }, 10, root)\n",
       "  }\n",
       "})(window);"
      ],
      "application/vnd.bokehjs_exec.v0+json": ""
     },
     "metadata": {
      "application/vnd.bokehjs_exec.v0+json": {
       "id": "3298"
      }
     },
     "output_type": "display_data"
    }
   ],
   "source": [
    "fig = figure(width= 600,height=500,tools=\"hover,pan,xwheel_zoom,reset\",title=\"{} cases evolution\".format(country),x_axis_type=\"datetime\",tooltips=\"value: @y\")\n",
    "\n",
    "for i in range(4):\n",
    "    mask = selected_country.index.isin(seasons[i])\n",
    "\n",
    "    season = selected_country[mask]\n",
    "    x = season.index\n",
    "    y = season[\"confirmed_cases\"][\"mean\"]\n",
    "    source = {\n",
    "        \"x\":x,\n",
    "        \"upper\":y + season[\"confirmed_cases\"][\"std\"],\n",
    "        \"lower\":y - season[\"confirmed_cases\"][\"std\"],\n",
    "    }\n",
    "    fig.varea(x=\"x\",y1= \"upper\", y2= \"lower\",color=colors[i],fill_alpha=0.2,source=source)\n",
    "    fig.line(x = x,y = y,legend_label=\"{} cases\".format(labels[i]),color=colors[i])\n",
    "\n",
    "\n",
    "show(fig)"
   ]
  },
  {
   "cell_type": "markdown",
   "metadata": {},
   "source": [
    "## The line should be continuous, right? How could we do this?\n",
    "* Change data\n",
    "* Add data\n"
   ]
  },
  {
   "cell_type": "code",
   "execution_count": 49,
   "metadata": {},
   "outputs": [],
   "source": [
    "country = \"Portugal\"\n",
    "mask = df[\"Country\"] ==country\n",
    "selected_country = df[mask]"
   ]
  },
  {
   "cell_type": "code",
   "execution_count": 50,
   "metadata": {},
   "outputs": [],
   "source": [
    "selected_country = selected_country.resample(\"7D\").agg([np.mean,np.sum,np.std])"
   ]
  },
  {
   "cell_type": "code",
   "execution_count": 51,
   "metadata": {},
   "outputs": [],
   "source": [
    "winter = pd.date_range(start='21/12/2019', end='20/03/2020')\n",
    "spring =pd.date_range(start='20/03/2020', end='20/06/2020')\n",
    "summer =pd.date_range(start='20/06/2020', end='22/10/2020')\n",
    "autumn = pd.date_range(start='22/10/2020', end='21/12/2020')\n",
    "\n",
    "\n",
    "colors = [\"blue\",\"orange\",\"red\",\"yellow\"]\n",
    "seasons = [winter,spring,summer,autumn]\n",
    "labels = [\"Winter\",\"Spring\",\"Summer\",\"Autumn\"]\n",
    "\n"
   ]
  },
  {
   "cell_type": "code",
   "execution_count": 52,
   "metadata": {},
   "outputs": [
    {
     "data": {
      "text/html": [
       "\n",
       "\n",
       "\n",
       "\n",
       "\n",
       "\n",
       "  <div class=\"bk-root\" id=\"5dfa09a4-62ec-437e-85e7-9c2e8900c8a0\" data-root-id=\"3800\"></div>\n"
      ]
     },
     "metadata": {},
     "output_type": "display_data"
    },
    {
     "data": {
      "application/javascript": [
       "(function(root) {\n",
       "  function embed_document(root) {\n",
       "    \n",
       "  var docs_json = {\"715b93db-91c3-473c-a553-98d83205220e\":{\"roots\":{\"references\":[{\"attributes\":{\"below\":[{\"id\":\"3811\"}],\"center\":[{\"id\":\"3814\"},{\"id\":\"3818\"},{\"id\":\"3860\"}],\"left\":[{\"id\":\"3815\"}],\"plot_height\":500,\"renderers\":[{\"id\":\"3832\"},{\"id\":\"3837\"},{\"id\":\"3866\"},{\"id\":\"3871\"},{\"id\":\"3903\"},{\"id\":\"3908\"},{\"id\":\"3944\"},{\"id\":\"3949\"}],\"title\":{\"id\":\"3801\"},\"toolbar\":{\"id\":\"3823\"},\"x_range\":{\"id\":\"3803\"},\"x_scale\":{\"id\":\"3807\"},\"y_range\":{\"id\":\"3805\"},\"y_scale\":{\"id\":\"3809\"}},\"id\":\"3800\",\"subtype\":\"Figure\",\"type\":\"Plot\"},{\"attributes\":{},\"id\":\"3840\",\"type\":\"BasicTickFormatter\"},{\"attributes\":{\"label\":{\"value\":\"Spring cases\"},\"renderers\":[{\"id\":\"3871\"}]},\"id\":\"3898\",\"type\":\"LegendItem\"},{\"attributes\":{},\"id\":\"3842\",\"type\":\"DatetimeTickFormatter\"},{\"attributes\":{\"data_source\":{\"id\":\"3946\"},\"glyph\":{\"id\":\"3947\"},\"hover_glyph\":null,\"muted_glyph\":null,\"nonselection_glyph\":{\"id\":\"3948\"},\"selection_glyph\":null,\"view\":{\"id\":\"3950\"}},\"id\":\"3949\",\"type\":\"GlyphRenderer\"},{\"attributes\":{\"base\":60,\"mantissas\":[1,2,5,10,15,20,30],\"max_interval\":1800000.0,\"min_interval\":1000.0,\"num_minor_ticks\":0},\"id\":\"3845\",\"type\":\"AdaptiveTicker\"},{\"attributes\":{\"data\":{\"lower\":{\"__ndarray__\":\"6aOAMkIEcEBv7ts1DKtwQKexy7Be63BAav+E+cqmZEBtOQxHVw5iQFxsJC7Kol5AFmfJvcS8XkAWdn9IUqRhQKJazUsipmJAQzUuX7RkcEDm+Vz8fulyQFwwiDEMz35Ah1G/4+lbgEDdyJmEp3+BQMCgllKjYoNACvtQtwQtkECwhAluh5+cQAo8a3llc6NA\",\"dtype\":\"float64\",\"order\":\"little\",\"shape\":[18]},\"upper\":{\"__ndarray__\":\"8xLtqHTpekCRESTK8/R3QDUFoipYIn5AAe4YOgiodkBK43lc1PhxQBxcEjItE25Av94/6i/GbUBjIHdJsgRyQPjkPSOB0XBAvcrRoEs7eUDQc3667nF8QEDD8lRVb4VAnffSQF8WiUAjN2Z7WKCLQIrxjfbukY5ArHKK/2gml0Beq9b/qU+iQBoNJ6vjvqpA\",\"dtype\":\"float64\",\"order\":\"little\",\"shape\":[18]},\"x\":{\"__ndarray__\":\"AADA/Dkud0IAAADFejB3QgAAQI27MndCAACAVfw0d0IAAMAdPTd3QgAAAOZ9OXdCAABArr47d0IAAIB2/z13QgAAwD5AQHdCAAAAB4FCd0IAAEDPwUR3QgAAgJcCR3dCAADAX0NJd0IAAAAohEt3QgAAQPDETXdCAACAuAVQd0IAAMCARlJ3QgAAAEmHVHdC\",\"dtype\":\"float64\",\"order\":\"little\",\"shape\":[18]}},\"selected\":{\"id\":\"3935\"},\"selection_policy\":{\"id\":\"3936\"}},\"id\":\"3899\",\"type\":\"ColumnDataSource\"},{\"attributes\":{\"base\":24,\"mantissas\":[1,2,4,6,8,12],\"max_interval\":43200000.0,\"min_interval\":3600000.0,\"num_minor_ticks\":0},\"id\":\"3846\",\"type\":\"AdaptiveTicker\"},{\"attributes\":{\"days\":[1,2,3,4,5,6,7,8,9,10,11,12,13,14,15,16,17,18,19,20,21,22,23,24,25,26,27,28,29,30,31]},\"id\":\"3847\",\"type\":\"DaysTicker\"},{\"attributes\":{\"days\":[1,4,7,10,13,16,19,22,25,28]},\"id\":\"3848\",\"type\":\"DaysTicker\"},{\"attributes\":{\"line_alpha\":0.1,\"line_color\":\"yellow\",\"x\":{\"field\":\"x\"},\"y\":{\"field\":\"y\"}},\"id\":\"3948\",\"type\":\"Line\"},{\"attributes\":{\"days\":[1,8,15,22]},\"id\":\"3849\",\"type\":\"DaysTicker\"},{\"attributes\":{\"data_source\":{\"id\":\"3899\"},\"glyph\":{\"id\":\"3901\"},\"hover_glyph\":null,\"muted_glyph\":null,\"nonselection_glyph\":{\"id\":\"3902\"},\"selection_glyph\":null,\"view\":{\"id\":\"3904\"}},\"id\":\"3903\",\"type\":\"GlyphRenderer\"},{\"attributes\":{\"fill_alpha\":0.1,\"fill_color\":\"red\",\"x\":{\"field\":\"x\"},\"y1\":{\"field\":\"upper\"},\"y2\":{\"field\":\"lower\"}},\"id\":\"3902\",\"type\":\"VArea\"},{\"attributes\":{\"days\":[1,15]},\"id\":\"3850\",\"type\":\"DaysTicker\"},{\"attributes\":{\"num_minor_ticks\":5,\"tickers\":[{\"id\":\"3844\"},{\"id\":\"3845\"},{\"id\":\"3846\"},{\"id\":\"3847\"},{\"id\":\"3848\"},{\"id\":\"3849\"},{\"id\":\"3850\"},{\"id\":\"3851\"},{\"id\":\"3852\"},{\"id\":\"3853\"},{\"id\":\"3854\"},{\"id\":\"3855\"}]},\"id\":\"3812\",\"type\":\"DatetimeTicker\"},{\"attributes\":{\"fill_alpha\":0.2,\"fill_color\":\"red\",\"x\":{\"field\":\"x\"},\"y1\":{\"field\":\"upper\"},\"y2\":{\"field\":\"lower\"}},\"id\":\"3901\",\"type\":\"VArea\"},{\"attributes\":{\"source\":{\"id\":\"3899\"}},\"id\":\"3904\",\"type\":\"CDSView\"},{\"attributes\":{\"months\":[0,1,2,3,4,5,6,7,8,9,10,11]},\"id\":\"3851\",\"type\":\"MonthsTicker\"},{\"attributes\":{\"months\":[0,2,4,6,8,10]},\"id\":\"3852\",\"type\":\"MonthsTicker\"},{\"attributes\":{\"data\":{\"x\":{\"__ndarray__\":\"AADA/Dkud0IAAADFejB3QgAAQI27MndCAACAVfw0d0IAAMAdPTd3QgAAAOZ9OXdCAABArr47d0IAAIB2/z13QgAAwD5AQHdCAAAAB4FCd0IAAEDPwUR3QgAAgJcCR3dCAADAX0NJd0IAAAAohEt3QgAAQPDETXdCAACAuAVQd0IAAMCARlJ3QgAAAEmHVHdC\",\"dtype\":\"float64\",\"order\":\"little\",\"shape\":[18]},\"y\":{\"__ndarray__\":\"btu2bdt2dUAAAAAAAFB0QG7btm3bhndA27Zt27Z9cEAAAAAAAABrQCVJkiRJsmZAJUmSJEmSZkBu27Zt29ZqQEmSJEmSJGpAAAAAAADQdEDbtm3btq13QLdt27Zta4JAkiRJkiS5hEAAAAAAAJCGQCVJkiRJ+ohA27Zt27apk0Dbtm3btk+gQJIkSZIkGadA\",\"dtype\":\"float64\",\"order\":\"little\",\"shape\":[18]}},\"selected\":{\"id\":\"3937\"},\"selection_policy\":{\"id\":\"3938\"}},\"id\":\"3905\",\"type\":\"ColumnDataSource\"},{\"attributes\":{\"months\":[0,4,8]},\"id\":\"3853\",\"type\":\"MonthsTicker\"},{\"attributes\":{},\"id\":\"3935\",\"type\":\"Selection\"},{\"attributes\":{\"source\":{\"id\":\"3905\"}},\"id\":\"3909\",\"type\":\"CDSView\"},{\"attributes\":{\"line_color\":\"red\",\"x\":{\"field\":\"x\"},\"y\":{\"field\":\"y\"}},\"id\":\"3906\",\"type\":\"Line\"},{\"attributes\":{\"months\":[0,6]},\"id\":\"3854\",\"type\":\"MonthsTicker\"},{\"attributes\":{\"line_alpha\":0.1,\"line_color\":\"red\",\"x\":{\"field\":\"x\"},\"y\":{\"field\":\"y\"}},\"id\":\"3907\",\"type\":\"Line\"},{\"attributes\":{},\"id\":\"3855\",\"type\":\"YearsTicker\"},{\"attributes\":{},\"id\":\"3856\",\"type\":\"Selection\"},{\"attributes\":{\"data_source\":{\"id\":\"3905\"},\"glyph\":{\"id\":\"3906\"},\"hover_glyph\":null,\"muted_glyph\":null,\"nonselection_glyph\":{\"id\":\"3907\"},\"selection_glyph\":null,\"view\":{\"id\":\"3909\"}},\"id\":\"3908\",\"type\":\"GlyphRenderer\"},{\"attributes\":{},\"id\":\"3857\",\"type\":\"UnionRenderers\"},{\"attributes\":{},\"id\":\"3858\",\"type\":\"Selection\"},{\"attributes\":{},\"id\":\"3936\",\"type\":\"UnionRenderers\"},{\"attributes\":{},\"id\":\"3859\",\"type\":\"UnionRenderers\"},{\"attributes\":{},\"id\":\"3937\",\"type\":\"Selection\"},{\"attributes\":{\"source\":{\"id\":\"3828\"}},\"id\":\"3833\",\"type\":\"CDSView\"},{\"attributes\":{\"items\":[{\"id\":\"3861\"},{\"id\":\"3898\"},{\"id\":\"3939\"},{\"id\":\"3984\"}]},\"id\":\"3860\",\"type\":\"Legend\"},{\"attributes\":{},\"id\":\"3938\",\"type\":\"UnionRenderers\"},{\"attributes\":{\"label\":{\"value\":\"Winter cases\"},\"renderers\":[{\"id\":\"3837\"}]},\"id\":\"3861\",\"type\":\"LegendItem\"},{\"attributes\":{\"label\":{\"value\":\"Summer cases\"},\"renderers\":[{\"id\":\"3908\"}]},\"id\":\"3939\",\"type\":\"LegendItem\"},{\"attributes\":{},\"id\":\"3980\",\"type\":\"Selection\"},{\"attributes\":{\"line_color\":\"yellow\",\"x\":{\"field\":\"x\"},\"y\":{\"field\":\"y\"}},\"id\":\"3947\",\"type\":\"Line\"},{\"attributes\":{\"data\":{\"lower\":{\"__ndarray__\":\"yr3Gfw1PpUAOAPyMpHavQBmjgulYirRA\",\"dtype\":\"float64\",\"order\":\"little\",\"shape\":[3]},\"upper\":{\"__ndarray__\":\"G6EcQHlCsUAdSRTe9nK6QJEHKMFRgb1A\",\"dtype\":\"float64\",\"order\":\"little\",\"shape\":[3]},\"x\":{\"__ndarray__\":\"AABAEchWd0IAAIDZCFl3QgAAwKFJW3dC\",\"dtype\":\"float64\",\"order\":\"little\",\"shape\":[3]}},\"selected\":{\"id\":\"3980\"},\"selection_policy\":{\"id\":\"3981\"}},\"id\":\"3940\",\"type\":\"ColumnDataSource\"},{\"attributes\":{\"data_source\":{\"id\":\"3862\"},\"glyph\":{\"id\":\"3864\"},\"hover_glyph\":null,\"muted_glyph\":null,\"nonselection_glyph\":{\"id\":\"3865\"},\"selection_glyph\":null,\"view\":{\"id\":\"3867\"}},\"id\":\"3866\",\"type\":\"GlyphRenderer\"},{\"attributes\":{\"fill_alpha\":0.1,\"fill_color\":\"orange\",\"x\":{\"field\":\"x\"},\"y1\":{\"field\":\"upper\"},\"y2\":{\"field\":\"lower\"}},\"id\":\"3865\",\"type\":\"VArea\"},{\"attributes\":{\"fill_alpha\":0.2,\"fill_color\":\"orange\",\"x\":{\"field\":\"x\"},\"y1\":{\"field\":\"upper\"},\"y2\":{\"field\":\"lower\"}},\"id\":\"3864\",\"type\":\"VArea\"},{\"attributes\":{\"source\":{\"id\":\"3862\"}},\"id\":\"3867\",\"type\":\"CDSView\"},{\"attributes\":{\"data_source\":{\"id\":\"3940\"},\"glyph\":{\"id\":\"3942\"},\"hover_glyph\":null,\"muted_glyph\":null,\"nonselection_glyph\":{\"id\":\"3943\"},\"selection_glyph\":null,\"view\":{\"id\":\"3945\"}},\"id\":\"3944\",\"type\":\"GlyphRenderer\"},{\"attributes\":{\"line_alpha\":0.1,\"line_color\":\"blue\",\"x\":{\"field\":\"x\"},\"y\":{\"field\":\"y\"}},\"id\":\"3836\",\"type\":\"Line\"},{\"attributes\":{\"text\":\"Portugal cases evolution\"},\"id\":\"3801\",\"type\":\"Title\"},{\"attributes\":{\"data\":{\"x\":{\"__ndarray__\":\"AACA0e8Qd0IAAMCZMBN3QgAAAGJxFXdCAABAKrIXd0IAAIDy8hl3QgAAwLozHHdCAAAAg3Qed0IAAEBLtSB3QgAAgBP2IndCAADA2zYld0IAAACkdyd3QgAAQGy4KXdCAACANPkrd0I=\",\"dtype\":\"float64\",\"order\":\"little\",\"shape\":[13]},\"y\":{\"__ndarray__\":\"btu2bduuhkCSJEmSJFGGQJIkSZIkWYZASZIkSZKMgUBu27Zt20Z6QEmSJEmSpGhA27Zt27a9c0AAAAAAACBrQAAAAAAAIGxAt23btm3bcEBu27Zt24Z1QAAAAAAAIHJAAAAAAABwdUA=\",\"dtype\":\"float64\",\"order\":\"little\",\"shape\":[13]}},\"selected\":{\"id\":\"3896\"},\"selection_policy\":{\"id\":\"3897\"}},\"id\":\"3868\",\"type\":\"ColumnDataSource\"},{\"attributes\":{\"fill_alpha\":0.1,\"fill_color\":\"yellow\",\"x\":{\"field\":\"x\"},\"y1\":{\"field\":\"upper\"},\"y2\":{\"field\":\"lower\"}},\"id\":\"3943\",\"type\":\"VArea\"},{\"attributes\":{\"fill_alpha\":0.2,\"fill_color\":\"yellow\",\"x\":{\"field\":\"x\"},\"y1\":{\"field\":\"upper\"},\"y2\":{\"field\":\"lower\"}},\"id\":\"3942\",\"type\":\"VArea\"},{\"attributes\":{},\"id\":\"3803\",\"type\":\"DataRange1d\"},{\"attributes\":{\"source\":{\"id\":\"3940\"}},\"id\":\"3945\",\"type\":\"CDSView\"},{\"attributes\":{},\"id\":\"3894\",\"type\":\"Selection\"},{\"attributes\":{\"source\":{\"id\":\"3868\"}},\"id\":\"3872\",\"type\":\"CDSView\"},{\"attributes\":{},\"id\":\"3805\",\"type\":\"DataRange1d\"},{\"attributes\":{\"line_color\":\"orange\",\"x\":{\"field\":\"x\"},\"y\":{\"field\":\"y\"}},\"id\":\"3869\",\"type\":\"Line\"},{\"attributes\":{\"data\":{\"x\":{\"__ndarray__\":\"AABAEchWd0IAAIDZCFl3QgAAwKFJW3dC\",\"dtype\":\"float64\",\"order\":\"little\",\"shape\":[3]},\"y\":{\"__ndarray__\":\"AAAAAADqq0CSJEmSJBe1QFVVVVXVBblA\",\"dtype\":\"float64\",\"order\":\"little\",\"shape\":[3]}},\"selected\":{\"id\":\"3982\"},\"selection_policy\":{\"id\":\"3983\"}},\"id\":\"3946\",\"type\":\"ColumnDataSource\"},{\"attributes\":{},\"id\":\"3807\",\"type\":\"LinearScale\"},{\"attributes\":{\"line_alpha\":0.1,\"line_color\":\"orange\",\"x\":{\"field\":\"x\"},\"y\":{\"field\":\"y\"}},\"id\":\"3870\",\"type\":\"Line\"},{\"attributes\":{\"source\":{\"id\":\"3946\"}},\"id\":\"3950\",\"type\":\"CDSView\"},{\"attributes\":{},\"id\":\"3809\",\"type\":\"LinearScale\"},{\"attributes\":{\"formatter\":{\"id\":\"3842\"},\"ticker\":{\"id\":\"3812\"}},\"id\":\"3811\",\"type\":\"DatetimeAxis\"},{\"attributes\":{\"data_source\":{\"id\":\"3868\"},\"glyph\":{\"id\":\"3869\"},\"hover_glyph\":null,\"muted_glyph\":null,\"nonselection_glyph\":{\"id\":\"3870\"},\"selection_glyph\":null,\"view\":{\"id\":\"3872\"}},\"id\":\"3871\",\"type\":\"GlyphRenderer\"},{\"attributes\":{\"axis\":{\"id\":\"3811\"},\"ticker\":null},\"id\":\"3814\",\"type\":\"Grid\"},{\"attributes\":{\"source\":{\"id\":\"3834\"}},\"id\":\"3838\",\"type\":\"CDSView\"},{\"attributes\":{},\"id\":\"3981\",\"type\":\"UnionRenderers\"},{\"attributes\":{},\"id\":\"3982\",\"type\":\"Selection\"},{\"attributes\":{\"data\":{\"lower\":{\"__ndarray__\":\"AAAAAAAAAAAAAAAAAAAAAAAAAAAAAAAAAAAAAAAAAAAAAAAAAAAAADzLBjv/F96/Kknfdfg8+T+gA+aU2i8yQOg//Ok9oWBA\",\"dtype\":\"float64\",\"order\":\"little\",\"shape\":[9]},\"upper\":{\"__ndarray__\":\"AAAAAAAAAAAAAAAAAAAAAAAAAAAAAAAAAAAAAAAAAAAAAAAAAAAAABhF5heSqvA/bTuNg4UhI0A9yFh/UoZYQOiWb+YX3XlA\",\"dtype\":\"float64\",\"order\":\"little\",\"shape\":[9]},\"x\":{\"__ndarray__\":\"AABAx6j8dkIAAICP6f52QgAAwFcqAXdCAAAAIGsDd0IAAEDoqwV3QgAAgLDsB3dCAADAeC0Kd0IAAABBbgx3QgAAQAmvDndC\",\"dtype\":\"float64\",\"order\":\"little\",\"shape\":[9]}},\"selected\":{\"id\":\"3856\"},\"selection_policy\":{\"id\":\"3857\"}},\"id\":\"3828\",\"type\":\"ColumnDataSource\"},{\"attributes\":{},\"id\":\"3895\",\"type\":\"UnionRenderers\"},{\"attributes\":{\"mantissas\":[1,2,5],\"max_interval\":500.0,\"num_minor_ticks\":0},\"id\":\"3844\",\"type\":\"AdaptiveTicker\"},{\"attributes\":{},\"id\":\"3896\",\"type\":\"Selection\"},{\"attributes\":{},\"id\":\"3983\",\"type\":\"UnionRenderers\"},{\"attributes\":{\"data_source\":{\"id\":\"3834\"},\"glyph\":{\"id\":\"3835\"},\"hover_glyph\":null,\"muted_glyph\":null,\"nonselection_glyph\":{\"id\":\"3836\"},\"selection_glyph\":null,\"view\":{\"id\":\"3838\"}},\"id\":\"3837\",\"type\":\"GlyphRenderer\"},{\"attributes\":{\"label\":{\"value\":\"Autumn cases\"},\"renderers\":[{\"id\":\"3949\"}]},\"id\":\"3984\",\"type\":\"LegendItem\"},{\"attributes\":{},\"id\":\"3897\",\"type\":\"UnionRenderers\"},{\"attributes\":{},\"id\":\"3822\",\"type\":\"ResetTool\"},{\"attributes\":{},\"id\":\"3820\",\"type\":\"PanTool\"},{\"attributes\":{\"data\":{\"x\":{\"__ndarray__\":\"AABAx6j8dkIAAICP6f52QgAAwFcqAXdCAAAAIGsDd0IAAEDoqwV3QgAAgLDsB3dCAADAeC0Kd0IAAABBbgx3QgAAQAmvDndC\",\"dtype\":\"float64\",\"order\":\"little\",\"shape\":[9]},\"y\":{\"__ndarray__\":\"AAAAAAAAAAAAAAAAAAAAAAAAAAAAAAAAAAAAAAAAAAAAAAAAAAAAAJIkSZIkSdI/kiRJkiRJFkAlSZIkSRJNQG7btm3bFnFA\",\"dtype\":\"float64\",\"order\":\"little\",\"shape\":[9]}},\"selected\":{\"id\":\"3858\"},\"selection_policy\":{\"id\":\"3859\"}},\"id\":\"3834\",\"type\":\"ColumnDataSource\"},{\"attributes\":{\"callback\":null,\"tooltips\":\"value: @y\"},\"id\":\"3819\",\"type\":\"HoverTool\"},{\"attributes\":{\"fill_alpha\":0.2,\"fill_color\":\"blue\",\"x\":{\"field\":\"x\"},\"y1\":{\"field\":\"upper\"},\"y2\":{\"field\":\"lower\"}},\"id\":\"3830\",\"type\":\"VArea\"},{\"attributes\":{\"dimensions\":\"width\"},\"id\":\"3821\",\"type\":\"WheelZoomTool\"},{\"attributes\":{\"active_drag\":\"auto\",\"active_inspect\":\"auto\",\"active_multi\":null,\"active_scroll\":\"auto\",\"active_tap\":\"auto\",\"tools\":[{\"id\":\"3819\"},{\"id\":\"3820\"},{\"id\":\"3821\"},{\"id\":\"3822\"}]},\"id\":\"3823\",\"type\":\"Toolbar\"},{\"attributes\":{\"fill_alpha\":0.1,\"fill_color\":\"blue\",\"x\":{\"field\":\"x\"},\"y1\":{\"field\":\"upper\"},\"y2\":{\"field\":\"lower\"}},\"id\":\"3831\",\"type\":\"VArea\"},{\"attributes\":{},\"id\":\"3816\",\"type\":\"BasicTicker\"},{\"attributes\":{\"data_source\":{\"id\":\"3828\"},\"glyph\":{\"id\":\"3830\"},\"hover_glyph\":null,\"muted_glyph\":null,\"nonselection_glyph\":{\"id\":\"3831\"},\"selection_glyph\":null,\"view\":{\"id\":\"3833\"}},\"id\":\"3832\",\"type\":\"GlyphRenderer\"},{\"attributes\":{\"axis\":{\"id\":\"3815\"},\"dimension\":1,\"ticker\":null},\"id\":\"3818\",\"type\":\"Grid\"},{\"attributes\":{\"line_color\":\"blue\",\"x\":{\"field\":\"x\"},\"y\":{\"field\":\"y\"}},\"id\":\"3835\",\"type\":\"Line\"},{\"attributes\":{\"formatter\":{\"id\":\"3840\"},\"ticker\":{\"id\":\"3816\"}},\"id\":\"3815\",\"type\":\"LinearAxis\"},{\"attributes\":{\"data\":{\"lower\":{\"__ndarray__\":\"97da5X5QgEBxFJ4WiByCQKPpNCcXw3RAVLrMHjFnd0Br0MYzsFhwQNDhUQPK/y7AiuT2AN1iXUDYR0Nm/GtnQFMG8eCCtmVA7IzwjYCkakDaCqxmV/JwQObdypxsqm9A2quwQjcTckA=\",\"dtype\":\"float64\",\"order\":\"little\",\"shape\":[13]},\"upper\":{\"__ndarray__\":\"5f4S9jcNjUCzNPQNwYWKQCnqe8heKJFAaMfiAoxlh0A4c9NTgxqCQFghP5mQnHlAStpOO1sRgEAouLyZA9RuQNd8h4++RHFA+JS+JptkdEACrMF0Xxt6QA2RmrHJanRAJlRPvcjMeEA=\",\"dtype\":\"float64\",\"order\":\"little\",\"shape\":[13]},\"x\":{\"__ndarray__\":\"AACA0e8Qd0IAAMCZMBN3QgAAAGJxFXdCAABAKrIXd0IAAIDy8hl3QgAAwLozHHdCAAAAg3Qed0IAAEBLtSB3QgAAgBP2IndCAADA2zYld0IAAACkdyd3QgAAQGy4KXdCAACANPkrd0I=\",\"dtype\":\"float64\",\"order\":\"little\",\"shape\":[13]}},\"selected\":{\"id\":\"3894\"},\"selection_policy\":{\"id\":\"3895\"}},\"id\":\"3862\",\"type\":\"ColumnDataSource\"}],\"root_ids\":[\"3800\"]},\"title\":\"Bokeh Application\",\"version\":\"2.2.3\"}};\n",
       "  var render_items = [{\"docid\":\"715b93db-91c3-473c-a553-98d83205220e\",\"root_ids\":[\"3800\"],\"roots\":{\"3800\":\"5dfa09a4-62ec-437e-85e7-9c2e8900c8a0\"}}];\n",
       "  root.Bokeh.embed.embed_items_notebook(docs_json, render_items);\n",
       "\n",
       "  }\n",
       "  if (root.Bokeh !== undefined) {\n",
       "    embed_document(root);\n",
       "  } else {\n",
       "    var attempts = 0;\n",
       "    var timer = setInterval(function(root) {\n",
       "      if (root.Bokeh !== undefined) {\n",
       "        clearInterval(timer);\n",
       "        embed_document(root);\n",
       "      } else {\n",
       "        attempts++;\n",
       "        if (attempts > 100) {\n",
       "          clearInterval(timer);\n",
       "          console.log(\"Bokeh: ERROR: Unable to run BokehJS code because BokehJS library is missing\");\n",
       "        }\n",
       "      }\n",
       "    }, 10, root)\n",
       "  }\n",
       "})(window);"
      ],
      "application/vnd.bokehjs_exec.v0+json": ""
     },
     "metadata": {
      "application/vnd.bokehjs_exec.v0+json": {
       "id": "3800"
      }
     },
     "output_type": "display_data"
    }
   ],
   "source": [
    "fig = figure(width= 600,height=500,tools=\"hover,pan,xwheel_zoom,reset\",title=\"{} cases evolution\".format(country),x_axis_type=\"datetime\",tooltips=\"value: @y\")\n",
    "\n",
    "for i in range(4):\n",
    "    mask = selected_country.index.isin(seasons[i])\n",
    "\n",
    "    season = selected_country[mask]\n",
    "    x = season.index\n",
    "    y = season[\"confirmed_cases\"][\"mean\"]\n",
    "    source = {\n",
    "        \"x\":x,\n",
    "        \"upper\":y + season[\"confirmed_cases\"][\"std\"],\n",
    "        \"lower\":y - season[\"confirmed_cases\"][\"std\"],\n",
    "    }\n",
    "    fig.varea(x=\"x\",y1= \"upper\", y2= \"lower\",color=colors[i],fill_alpha=0.2,source=source)\n",
    "    fig.line(x = x,y = y,legend_label=\"{} cases\".format(labels[i]),color=colors[i])\n",
    "\n",
    "\n",
    "show(fig)"
   ]
  },
  {
   "cell_type": "markdown",
   "metadata": {},
   "source": [
    "#### Uhm, since now we have 4 groups, 4 categories, what type of plots can we explore ?"
   ]
  },
  {
   "cell_type": "code",
   "execution_count": 53,
   "metadata": {},
   "outputs": [],
   "source": [
    "country = \"Portugal\"\n",
    "mask = df[\"Country\"] ==country\n",
    "selected_country = df[mask]\n",
    "#No need to resample at this point."
   ]
  },
  {
   "cell_type": "code",
   "execution_count": 54,
   "metadata": {},
   "outputs": [],
   "source": [
    "cases = []\n",
    "deaths = []\n",
    "for i in seasons:\n",
    "    mask = selected_country.index.isin(i)\n",
    "\n",
    "    season = selected_country[mask]\n",
    "    cases.append(season[\"confirmed_cases\"].sum())\n",
    "    deaths.append(season[\"deaths\"].sum())"
   ]
  },
  {
   "cell_type": "code",
   "execution_count": 55,
   "metadata": {},
   "outputs": [
    {
     "data": {
      "text/html": [
       "\n",
       "\n",
       "\n",
       "\n",
       "\n",
       "\n",
       "  <div class=\"bk-root\" id=\"dcf74ece-49a1-49c3-8eff-00b288e160e1\" data-root-id=\"4336\"></div>\n"
      ]
     },
     "metadata": {},
     "output_type": "display_data"
    },
    {
     "data": {
      "application/javascript": [
       "(function(root) {\n",
       "  function embed_document(root) {\n",
       "    \n",
       "  var docs_json = {\"306ec734-61e2-413f-8842-34d640db8564\":{\"roots\":{\"references\":[{\"attributes\":{\"below\":[{\"id\":\"4347\"}],\"center\":[{\"id\":\"4349\"},{\"id\":\"4353\"},{\"id\":\"4369\"}],\"left\":[{\"id\":\"4350\"}],\"plot_height\":450,\"renderers\":[{\"id\":\"4360\"}],\"title\":{\"id\":\"4337\"},\"toolbar\":{\"id\":\"4355\"},\"toolbar_location\":null,\"x_range\":{\"id\":\"4339\"},\"x_scale\":{\"id\":\"4343\"},\"y_range\":{\"id\":\"4341\"},\"y_scale\":{\"id\":\"4345\"}},\"id\":\"4336\",\"subtype\":\"Figure\",\"type\":\"Plot\"},{\"attributes\":{},\"id\":\"4351\",\"type\":\"BasicTicker\"},{\"attributes\":{\"formatter\":{\"id\":\"4365\"},\"ticker\":{\"id\":\"4348\"}},\"id\":\"4347\",\"type\":\"CategoricalAxis\"},{\"attributes\":{\"start\":0},\"id\":\"4341\",\"type\":\"DataRange1d\"},{\"attributes\":{},\"id\":\"4348\",\"type\":\"CategoricalTicker\"},{\"attributes\":{\"formatter\":{\"id\":\"4363\"},\"ticker\":{\"id\":\"4351\"}},\"id\":\"4350\",\"type\":\"LinearAxis\"},{\"attributes\":{\"axis\":{\"id\":\"4347\"},\"grid_line_color\":null,\"ticker\":null},\"id\":\"4349\",\"type\":\"Grid\"},{\"attributes\":{\"data\":{\"cases\":[1020.0,38056.0,71077.0,119401.0],\"color\":[\"blue\",\"orange\",\"red\",\"yellow\"],\"deaths\":[6.0,1525.0,718.0,1243.0],\"seasons\":[\"Winter\",\"Spring\",\"Summer\",\"Autumn\"]},\"selected\":{\"id\":\"4367\"},\"selection_policy\":{\"id\":\"4368\"}},\"id\":\"4335\",\"type\":\"ColumnDataSource\"},{\"attributes\":{},\"id\":\"4345\",\"type\":\"LinearScale\"},{\"attributes\":{},\"id\":\"4363\",\"type\":\"BasicTickFormatter\"},{\"attributes\":{},\"id\":\"4343\",\"type\":\"CategoricalScale\"},{\"attributes\":{\"fill_color\":{\"field\":\"color\"},\"line_color\":{\"field\":\"color\"},\"top\":{\"field\":\"cases\"},\"width\":{\"value\":0.9},\"x\":{\"field\":\"seasons\"}},\"id\":\"4358\",\"type\":\"VBar\"},{\"attributes\":{\"text\":\"Cases by season\"},\"id\":\"4337\",\"type\":\"Title\"},{\"attributes\":{\"callback\":null,\"tooltips\":\"@deaths | @cases\"},\"id\":\"4354\",\"type\":\"HoverTool\"},{\"attributes\":{\"data_source\":{\"id\":\"4335\"},\"glyph\":{\"id\":\"4358\"},\"hover_glyph\":null,\"muted_glyph\":null,\"nonselection_glyph\":{\"id\":\"4359\"},\"selection_glyph\":null,\"view\":{\"id\":\"4361\"}},\"id\":\"4360\",\"type\":\"GlyphRenderer\"},{\"attributes\":{},\"id\":\"4365\",\"type\":\"CategoricalTickFormatter\"},{\"attributes\":{\"factors\":[\"Winter\",\"Spring\",\"Summer\",\"Autumn\"]},\"id\":\"4339\",\"type\":\"FactorRange\"},{\"attributes\":{\"source\":{\"id\":\"4335\"}},\"id\":\"4361\",\"type\":\"CDSView\"},{\"attributes\":{\"fill_alpha\":{\"value\":0.1},\"fill_color\":{\"field\":\"color\"},\"line_alpha\":{\"value\":0.1},\"line_color\":{\"field\":\"color\"},\"top\":{\"field\":\"cases\"},\"width\":{\"value\":0.9},\"x\":{\"field\":\"seasons\"}},\"id\":\"4359\",\"type\":\"VBar\"},{\"attributes\":{\"items\":[{\"id\":\"4370\"}]},\"id\":\"4369\",\"type\":\"Legend\"},{\"attributes\":{\"active_drag\":\"auto\",\"active_inspect\":\"auto\",\"active_multi\":null,\"active_scroll\":\"auto\",\"active_tap\":\"auto\",\"tools\":[{\"id\":\"4354\"}]},\"id\":\"4355\",\"type\":\"Toolbar\"},{\"attributes\":{},\"id\":\"4368\",\"type\":\"UnionRenderers\"},{\"attributes\":{},\"id\":\"4367\",\"type\":\"Selection\"},{\"attributes\":{\"label\":{\"field\":\"seasons\"},\"renderers\":[{\"id\":\"4360\"}]},\"id\":\"4370\",\"type\":\"LegendItem\"},{\"attributes\":{\"axis\":{\"id\":\"4350\"},\"dimension\":1,\"ticker\":null},\"id\":\"4353\",\"type\":\"Grid\"}],\"root_ids\":[\"4336\"]},\"title\":\"Bokeh Application\",\"version\":\"2.2.3\"}};\n",
       "  var render_items = [{\"docid\":\"306ec734-61e2-413f-8842-34d640db8564\",\"root_ids\":[\"4336\"],\"roots\":{\"4336\":\"dcf74ece-49a1-49c3-8eff-00b288e160e1\"}}];\n",
       "  root.Bokeh.embed.embed_items_notebook(docs_json, render_items);\n",
       "\n",
       "  }\n",
       "  if (root.Bokeh !== undefined) {\n",
       "    embed_document(root);\n",
       "  } else {\n",
       "    var attempts = 0;\n",
       "    var timer = setInterval(function(root) {\n",
       "      if (root.Bokeh !== undefined) {\n",
       "        clearInterval(timer);\n",
       "        embed_document(root);\n",
       "      } else {\n",
       "        attempts++;\n",
       "        if (attempts > 100) {\n",
       "          clearInterval(timer);\n",
       "          console.log(\"Bokeh: ERROR: Unable to run BokehJS code because BokehJS library is missing\");\n",
       "        }\n",
       "      }\n",
       "    }, 10, root)\n",
       "  }\n",
       "})(window);"
      ],
      "application/vnd.bokehjs_exec.v0+json": ""
     },
     "metadata": {
      "application/vnd.bokehjs_exec.v0+json": {
       "id": "4336"
      }
     },
     "output_type": "display_data"
    }
   ],
   "source": [
    "source = ColumnDataSource(data=dict(seasons=labels, cases=cases, color=colors,deaths=deaths))\n",
    "\n",
    "p = figure(x_range=labels, plot_height=450, title=\"Cases by season\",\n",
    "           toolbar_location=None, tools=\"hover\",tooltips=\"@deaths | @cases\")\n",
    "\n",
    "p.vbar(x=\"seasons\", top=\"cases\", width=0.9,color=\"color\",legend_field=\"seasons\",source=source)\n",
    "\n",
    "p.xgrid.grid_line_color = None\n",
    "p.y_range.start = 0\n",
    "\n",
    "show(p)"
   ]
  },
  {
   "cell_type": "markdown",
   "metadata": {},
   "source": [
    "### These colors, yikes. \n",
    "\n",
    "### Cases are simply increasing, can we correlate them to seasons ?\n",
    "\n",
    "\n",
    "### No bueno, we can do better."
   ]
  },
  {
   "cell_type": "code",
   "execution_count": 56,
   "metadata": {},
   "outputs": [
    {
     "data": {
      "text/html": [
       "\n",
       "\n",
       "\n",
       "\n",
       "\n",
       "\n",
       "  <div class=\"bk-root\" id=\"75bde48d-915c-4f0b-b94a-23b537e13d1c\" data-root-id=\"4599\"></div>\n"
      ]
     },
     "metadata": {},
     "output_type": "display_data"
    },
    {
     "data": {
      "application/javascript": [
       "(function(root) {\n",
       "  function embed_document(root) {\n",
       "    \n",
       "  var docs_json = {\"0b16e765-a9fc-4cc0-b716-6b150e8f6dab\":{\"roots\":{\"references\":[{\"attributes\":{\"below\":[{\"id\":\"4610\"}],\"center\":[{\"id\":\"4612\"},{\"id\":\"4616\"},{\"id\":\"4637\"}],\"left\":[{\"id\":\"4613\"}],\"outline_line_color\":null,\"plot_height\":450,\"renderers\":[{\"id\":\"4628\"},{\"id\":\"4642\"}],\"title\":{\"id\":\"4600\"},\"toolbar\":{\"id\":\"4618\"},\"toolbar_location\":null,\"x_range\":{\"id\":\"4602\"},\"x_scale\":{\"id\":\"4606\"},\"y_range\":{\"id\":\"4604\"},\"y_scale\":{\"id\":\"4608\"}},\"id\":\"4599\",\"subtype\":\"Figure\",\"type\":\"Plot\"},{\"attributes\":{\"axis\":{\"id\":\"4613\"},\"dimension\":1,\"ticker\":null},\"id\":\"4616\",\"type\":\"Grid\"},{\"attributes\":{\"source\":{\"id\":\"4598\"}},\"id\":\"4643\",\"type\":\"CDSView\"},{\"attributes\":{\"data_source\":{\"id\":\"4598\"},\"glyph\":{\"id\":\"4640\"},\"hover_glyph\":null,\"muted_glyph\":null,\"name\":\"deaths\",\"nonselection_glyph\":{\"id\":\"4641\"},\"selection_glyph\":null,\"view\":{\"id\":\"4643\"}},\"id\":\"4642\",\"type\":\"GlyphRenderer\"},{\"attributes\":{\"active_drag\":\"auto\",\"active_inspect\":\"auto\",\"active_multi\":null,\"active_scroll\":\"auto\",\"active_tap\":\"auto\",\"tools\":[{\"id\":\"4617\"}]},\"id\":\"4618\",\"type\":\"Toolbar\"},{\"attributes\":{\"callback\":null,\"tooltips\":\"$y{0.}\"},\"id\":\"4617\",\"type\":\"HoverTool\"},{\"attributes\":{\"label\":{\"value\":\"deaths\"},\"renderers\":[{\"id\":\"4642\"}]},\"id\":\"4651\",\"type\":\"LegendItem\"},{\"attributes\":{},\"id\":\"4636\",\"type\":\"UnionRenderers\"},{\"attributes\":{\"bottom\":{\"expr\":{\"id\":\"4621\"}},\"fill_alpha\":{\"value\":0.1},\"fill_color\":{\"value\":\"blue\"},\"line_alpha\":{\"value\":0.1},\"line_color\":{\"value\":\"blue\"},\"top\":{\"expr\":{\"id\":\"4622\"}},\"width\":{\"value\":0.9},\"x\":{\"field\":\"seasons\"}},\"id\":\"4627\",\"type\":\"VBar\"},{\"attributes\":{\"use_scientific\":false},\"id\":\"4620\",\"type\":\"BasicTickFormatter\"},{\"attributes\":{\"bottom\":{\"expr\":{\"id\":\"4621\"}},\"fill_color\":{\"value\":\"blue\"},\"line_color\":{\"value\":\"blue\"},\"top\":{\"expr\":{\"id\":\"4622\"}},\"width\":{\"value\":0.9},\"x\":{\"field\":\"seasons\"}},\"id\":\"4626\",\"type\":\"VBar\"},{\"attributes\":{},\"id\":\"4633\",\"type\":\"CategoricalTickFormatter\"},{\"attributes\":{\"source\":{\"id\":\"4598\"}},\"id\":\"4629\",\"type\":\"CDSView\"},{\"attributes\":{\"data_source\":{\"id\":\"4598\"},\"glyph\":{\"id\":\"4626\"},\"hover_glyph\":null,\"muted_glyph\":null,\"name\":\"cases\",\"nonselection_glyph\":{\"id\":\"4627\"},\"selection_glyph\":null,\"view\":{\"id\":\"4629\"}},\"id\":\"4628\",\"type\":\"GlyphRenderer\"},{\"attributes\":{\"text\":\"Cases by season\"},\"id\":\"4600\",\"type\":\"Title\"},{\"attributes\":{\"fields\":[]},\"id\":\"4621\",\"type\":\"Stack\"},{\"attributes\":{\"fields\":[\"cases\"]},\"id\":\"4622\",\"type\":\"Stack\"},{\"attributes\":{\"factors\":[\"Winter\",\"Spring\",\"Summer\",\"Autumn\"],\"range_padding\":0.1},\"id\":\"4602\",\"type\":\"FactorRange\"},{\"attributes\":{\"fields\":[\"cases\"]},\"id\":\"4623\",\"type\":\"Stack\"},{\"attributes\":{\"start\":0},\"id\":\"4604\",\"type\":\"DataRange1d\"},{\"attributes\":{\"fields\":[\"cases\",\"deaths\"]},\"id\":\"4624\",\"type\":\"Stack\"},{\"attributes\":{},\"id\":\"4606\",\"type\":\"CategoricalScale\"},{\"attributes\":{},\"id\":\"4608\",\"type\":\"LinearScale\"},{\"attributes\":{},\"id\":\"4635\",\"type\":\"Selection\"},{\"attributes\":{\"formatter\":{\"id\":\"4633\"},\"minor_tick_line_color\":null,\"ticker\":{\"id\":\"4611\"}},\"id\":\"4610\",\"type\":\"CategoricalAxis\"},{\"attributes\":{\"items\":[{\"id\":\"4638\"},{\"id\":\"4651\"}],\"location\":\"top_left\",\"orientation\":\"horizontal\"},\"id\":\"4637\",\"type\":\"Legend\"},{\"attributes\":{},\"id\":\"4611\",\"type\":\"CategoricalTicker\"},{\"attributes\":{\"label\":{\"value\":\"cases\"},\"renderers\":[{\"id\":\"4628\"}]},\"id\":\"4638\",\"type\":\"LegendItem\"},{\"attributes\":{\"axis\":{\"id\":\"4610\"},\"grid_line_color\":null,\"ticker\":null},\"id\":\"4612\",\"type\":\"Grid\"},{\"attributes\":{\"bottom\":{\"expr\":{\"id\":\"4623\"}},\"fill_color\":{\"value\":\"red\"},\"line_color\":{\"value\":\"red\"},\"top\":{\"expr\":{\"id\":\"4624\"}},\"width\":{\"value\":0.9},\"x\":{\"field\":\"seasons\"}},\"id\":\"4640\",\"type\":\"VBar\"},{\"attributes\":{\"data\":{\"cases\":[1020.0,38056.0,71077.0,119401.0],\"deaths\":[6.0,1525.0,718.0,1243.0],\"seasons\":[\"Winter\",\"Spring\",\"Summer\",\"Autumn\"]},\"selected\":{\"id\":\"4635\"},\"selection_policy\":{\"id\":\"4636\"}},\"id\":\"4598\",\"type\":\"ColumnDataSource\"},{\"attributes\":{\"formatter\":{\"id\":\"4620\"},\"minor_tick_line_color\":null,\"ticker\":{\"id\":\"4614\"}},\"id\":\"4613\",\"type\":\"LinearAxis\"},{\"attributes\":{\"bottom\":{\"expr\":{\"id\":\"4623\"}},\"fill_alpha\":{\"value\":0.1},\"fill_color\":{\"value\":\"red\"},\"line_alpha\":{\"value\":0.1},\"line_color\":{\"value\":\"red\"},\"top\":{\"expr\":{\"id\":\"4624\"}},\"width\":{\"value\":0.9},\"x\":{\"field\":\"seasons\"}},\"id\":\"4641\",\"type\":\"VBar\"},{\"attributes\":{},\"id\":\"4614\",\"type\":\"BasicTicker\"}],\"root_ids\":[\"4599\"]},\"title\":\"Bokeh Application\",\"version\":\"2.2.3\"}};\n",
       "  var render_items = [{\"docid\":\"0b16e765-a9fc-4cc0-b716-6b150e8f6dab\",\"root_ids\":[\"4599\"],\"roots\":{\"4599\":\"75bde48d-915c-4f0b-b94a-23b537e13d1c\"}}];\n",
       "  root.Bokeh.embed.embed_items_notebook(docs_json, render_items);\n",
       "\n",
       "  }\n",
       "  if (root.Bokeh !== undefined) {\n",
       "    embed_document(root);\n",
       "  } else {\n",
       "    var attempts = 0;\n",
       "    var timer = setInterval(function(root) {\n",
       "      if (root.Bokeh !== undefined) {\n",
       "        clearInterval(timer);\n",
       "        embed_document(root);\n",
       "      } else {\n",
       "        attempts++;\n",
       "        if (attempts > 100) {\n",
       "          clearInterval(timer);\n",
       "          console.log(\"Bokeh: ERROR: Unable to run BokehJS code because BokehJS library is missing\");\n",
       "        }\n",
       "      }\n",
       "    }, 10, root)\n",
       "  }\n",
       "})(window);"
      ],
      "application/vnd.bokehjs_exec.v0+json": ""
     },
     "metadata": {
      "application/vnd.bokehjs_exec.v0+json": {
       "id": "4599"
      }
     },
     "output_type": "display_data"
    }
   ],
   "source": [
    "source = ColumnDataSource(data= {\n",
    "    \n",
    " \"seasons\":labels,\n",
    " \"cases\":cases,\n",
    " \"deaths\":deaths\n",
    "    \n",
    "})\n",
    "\n",
    "\n",
    "categories = [\"cases\",\"deaths\"]\n",
    "\n",
    "p = figure(x_range=labels, plot_height=450, title=\"Cases by season\",\n",
    "           toolbar_location=None, tools=\"hover\",tooltips=\"$y{0.}\")\n",
    "\n",
    "p.yaxis.formatter.use_scientific = False #Alert\n",
    "\n",
    "p.vbar_stack(categories,x=\"seasons\", width=0.9,legend_label=categories,source=source,color=[\"blue\",\"red\"])\n",
    "\n",
    "p.y_range.start = 0\n",
    "p.x_range.range_padding = 0.1\n",
    "p.xgrid.grid_line_color = None\n",
    "p.axis.minor_tick_line_color = None\n",
    "p.outline_line_color = None\n",
    "p.legend.location = \"top_left\"\n",
    "p.legend.orientation = \"horizontal\"\n",
    "show(p)"
   ]
  },
  {
   "cell_type": "markdown",
   "metadata": {},
   "source": [
    "### These colors are awful. I'll let you fix that later if you want."
   ]
  },
  {
   "source": [
    "_______\n",
    "### Lets try and use all of the data. \n",
    "\n",
    "#### Any idea what type of plot we could use to visualize the cases per day per country ?"
   ],
   "cell_type": "markdown",
   "metadata": {}
  },
  {
   "source": [
    "First we load the data from the original file. \n",
    "\n",
    "We do this because the original dataset is already formatted in the way we need."
   ],
   "cell_type": "markdown",
   "metadata": {}
  },
  {
   "cell_type": "code",
   "execution_count": 279,
   "metadata": {},
   "outputs": [],
   "source": [
    "data = pd.read_csv(\"covid_confirmed.csv\") "
   ]
  },
  {
   "source": [
    "Now, some necessary data manipulation."
   ],
   "cell_type": "markdown",
   "metadata": {}
  },
  {
   "cell_type": "code",
   "execution_count": 280,
   "metadata": {},
   "outputs": [],
   "source": [
    "data = data.drop([\"Province/State\",\"Lat\",\"Long\"],axis=1)"
   ]
  },
  {
   "cell_type": "code",
   "execution_count": 281,
   "metadata": {},
   "outputs": [],
   "source": [
    "data = data.groupby(\"Country/Region\").sum().reset_index().rename(columns={\"Country/Region\":\"Country\"}) "
   ]
  },
  {
   "cell_type": "code",
   "execution_count": 282,
   "metadata": {},
   "outputs": [],
   "source": [
    "data.Country = data.Country.astype(str)\n",
    "data = data.set_index('Country')\n",
    "data.columns.name = 'Days'\n"
   ]
  },
  {
   "cell_type": "code",
   "execution_count": 283,
   "metadata": {},
   "outputs": [],
   "source": [
    "data = data.diff(axis=1) #Get confirmed cases by day"
   ]
  },
  {
   "cell_type": "code",
   "execution_count": 284,
   "metadata": {},
   "outputs": [],
   "source": [
    "data = data.fillna(0)"
   ]
  },
  {
   "cell_type": "code",
   "execution_count": 301,
   "metadata": {},
   "outputs": [],
   "source": [
    "subset = data.head(10) #Select rows"
   ]
  },
  {
   "cell_type": "code",
   "execution_count": 313,
   "metadata": {},
   "outputs": [],
   "source": [
    "subset = subset.iloc[:, -50:] #Select columns\n"
   ]
  },
  {
   "source": [
    "### Heatmap\n",
    "In this case *confirmed_cases*map\n",
    "*For more info see [here](https://docs.bokeh.org/en/latest/docs/user_guide/categorical.html)*"
   ],
   "cell_type": "markdown",
   "metadata": {}
  },
  {
   "cell_type": "code",
   "execution_count": null,
   "metadata": {},
   "outputs": [],
   "source": [
    "import pandas as pd\n",
    "\n",
    "from bokeh.io import output_file, show\n",
    "from bokeh.models import (BasicTicker, ColorBar, ColumnDataSource,\n",
    "                          LinearColorMapper, PrintfTickFormatter,)\n",
    "from bokeh.plotting import figure\n",
    "from bokeh.transform import transform\n",
    "from bokeh.palettes import Inferno256\n"
   ]
  },
  {
   "cell_type": "code",
   "execution_count": 314,
   "metadata": {},
   "outputs": [
    {
     "data": {
      "text/html": [
       "\n",
       "\n",
       "\n",
       "\n",
       "\n",
       "\n",
       "  <div class=\"bk-root\" id=\"c4e1e7a5-d5b4-4531-b2a6-ad14eec22672\" data-root-id=\"21239\"></div>\n"
      ]
     },
     "metadata": {},
     "output_type": "display_data"
    },
    {
     "data": {
      "application/javascript": [
       "(function(root) {\n",
       "  function embed_document(root) {\n",
       "    \n",
       "  var docs_json = {\"810f6fd7-2ed1-4a28-80f1-86fd00344dcc\":{\"roots\":{\"references\":[{\"attributes\":{\"above\":[{\"id\":\"21250\"}],\"center\":[{\"id\":\"21252\"},{\"id\":\"21255\"}],\"left\":[{\"id\":\"21253\"}],\"plot_height\":700,\"plot_width\":1100,\"renderers\":[{\"id\":\"21267\"}],\"right\":[{\"id\":\"21271\"}],\"title\":{\"id\":\"21240\"},\"toolbar\":{\"id\":\"21260\"},\"x_range\":{\"id\":\"21242\"},\"x_scale\":{\"id\":\"21246\"},\"y_range\":{\"id\":\"21244\"},\"y_scale\":{\"id\":\"21248\"}},\"id\":\"21239\",\"subtype\":\"Figure\",\"type\":\"Plot\"},{\"attributes\":{\"active_drag\":\"auto\",\"active_inspect\":\"auto\",\"active_multi\":null,\"active_scroll\":\"auto\",\"active_tap\":\"auto\",\"tools\":[{\"id\":\"21256\"},{\"id\":\"21257\"},{\"id\":\"21258\"}]},\"id\":\"21260\",\"type\":\"Toolbar\"},{\"attributes\":{\"callback\":null,\"tooltips\":\"@Country @cases at @Days\"},\"id\":\"21256\",\"type\":\"HoverTool\"},{\"attributes\":{\"overlay\":{\"id\":\"21259\"}},\"id\":\"21257\",\"type\":\"BoxZoomTool\"},{\"attributes\":{\"factors\":[\"11/16/20\",\"11/15/20\",\"11/14/20\",\"11/13/20\",\"11/12/20\",\"11/11/20\",\"11/10/20\",\"11/9/20\",\"11/8/20\",\"11/7/20\",\"11/6/20\",\"11/5/20\",\"11/4/20\",\"11/3/20\",\"11/2/20\",\"11/1/20\",\"10/31/20\",\"10/30/20\",\"10/29/20\",\"10/28/20\",\"10/27/20\",\"10/26/20\",\"10/25/20\",\"10/24/20\",\"10/23/20\",\"10/22/20\",\"10/21/20\",\"10/20/20\",\"10/19/20\",\"10/18/20\",\"10/17/20\",\"10/16/20\",\"10/15/20\",\"10/14/20\",\"10/13/20\",\"10/12/20\",\"10/11/20\",\"10/10/20\",\"10/9/20\",\"10/8/20\",\"10/7/20\",\"10/6/20\",\"10/5/20\",\"10/4/20\",\"10/3/20\",\"10/2/20\",\"10/1/20\",\"9/30/20\",\"9/29/20\",\"9/28/20\"]},\"id\":\"21242\",\"type\":\"FactorRange\"},{\"attributes\":{\"high\":18326.0,\"low\":0.0,\"palette\":[\"#000003\",\"#000004\",\"#000006\",\"#010007\",\"#010109\",\"#01010B\",\"#02010E\",\"#020210\",\"#030212\",\"#040314\",\"#040316\",\"#050418\",\"#06041B\",\"#07051D\",\"#08061F\",\"#090621\",\"#0A0723\",\"#0B0726\",\"#0D0828\",\"#0E082A\",\"#0F092D\",\"#10092F\",\"#120A32\",\"#130A34\",\"#140B36\",\"#160B39\",\"#170B3B\",\"#190B3E\",\"#1A0B40\",\"#1C0C43\",\"#1D0C45\",\"#1F0C47\",\"#200C4A\",\"#220B4C\",\"#240B4E\",\"#260B50\",\"#270B52\",\"#290B54\",\"#2B0A56\",\"#2D0A58\",\"#2E0A5A\",\"#300A5C\",\"#32095D\",\"#34095F\",\"#350960\",\"#370961\",\"#390962\",\"#3B0964\",\"#3C0965\",\"#3E0966\",\"#400966\",\"#410967\",\"#430A68\",\"#450A69\",\"#460A69\",\"#480B6A\",\"#4A0B6A\",\"#4B0C6B\",\"#4D0C6B\",\"#4F0D6C\",\"#500D6C\",\"#520E6C\",\"#530E6D\",\"#550F6D\",\"#570F6D\",\"#58106D\",\"#5A116D\",\"#5B116E\",\"#5D126E\",\"#5F126E\",\"#60136E\",\"#62146E\",\"#63146E\",\"#65156E\",\"#66156E\",\"#68166E\",\"#6A176E\",\"#6B176E\",\"#6D186E\",\"#6E186E\",\"#70196E\",\"#72196D\",\"#731A6D\",\"#751B6D\",\"#761B6D\",\"#781C6D\",\"#7A1C6D\",\"#7B1D6C\",\"#7D1D6C\",\"#7E1E6C\",\"#801F6B\",\"#811F6B\",\"#83206B\",\"#85206A\",\"#86216A\",\"#88216A\",\"#892269\",\"#8B2269\",\"#8D2369\",\"#8E2468\",\"#902468\",\"#912567\",\"#932567\",\"#952666\",\"#962666\",\"#982765\",\"#992864\",\"#9B2864\",\"#9C2963\",\"#9E2963\",\"#A02A62\",\"#A12B61\",\"#A32B61\",\"#A42C60\",\"#A62C5F\",\"#A72D5F\",\"#A92E5E\",\"#AB2E5D\",\"#AC2F5C\",\"#AE305B\",\"#AF315B\",\"#B1315A\",\"#B23259\",\"#B43358\",\"#B53357\",\"#B73456\",\"#B83556\",\"#BA3655\",\"#BB3754\",\"#BD3753\",\"#BE3852\",\"#BF3951\",\"#C13A50\",\"#C23B4F\",\"#C43C4E\",\"#C53D4D\",\"#C73E4C\",\"#C83E4B\",\"#C93F4A\",\"#CB4049\",\"#CC4148\",\"#CD4247\",\"#CF4446\",\"#D04544\",\"#D14643\",\"#D24742\",\"#D44841\",\"#D54940\",\"#D64A3F\",\"#D74B3E\",\"#D94D3D\",\"#DA4E3B\",\"#DB4F3A\",\"#DC5039\",\"#DD5238\",\"#DE5337\",\"#DF5436\",\"#E05634\",\"#E25733\",\"#E35832\",\"#E45A31\",\"#E55B30\",\"#E65C2E\",\"#E65E2D\",\"#E75F2C\",\"#E8612B\",\"#E9622A\",\"#EA6428\",\"#EB6527\",\"#EC6726\",\"#ED6825\",\"#ED6A23\",\"#EE6C22\",\"#EF6D21\",\"#F06F1F\",\"#F0701E\",\"#F1721D\",\"#F2741C\",\"#F2751A\",\"#F37719\",\"#F37918\",\"#F47A16\",\"#F57C15\",\"#F57E14\",\"#F68012\",\"#F68111\",\"#F78310\",\"#F7850E\",\"#F8870D\",\"#F8880C\",\"#F88A0B\",\"#F98C09\",\"#F98E08\",\"#F99008\",\"#FA9107\",\"#FA9306\",\"#FA9506\",\"#FA9706\",\"#FB9906\",\"#FB9B06\",\"#FB9D06\",\"#FB9E07\",\"#FBA007\",\"#FBA208\",\"#FBA40A\",\"#FBA60B\",\"#FBA80D\",\"#FBAA0E\",\"#FBAC10\",\"#FBAE12\",\"#FBB014\",\"#FBB116\",\"#FBB318\",\"#FBB51A\",\"#FBB71C\",\"#FBB91E\",\"#FABB21\",\"#FABD23\",\"#FABF25\",\"#FAC128\",\"#F9C32A\",\"#F9C52C\",\"#F9C72F\",\"#F8C931\",\"#F8CB34\",\"#F8CD37\",\"#F7CF3A\",\"#F7D13C\",\"#F6D33F\",\"#F6D542\",\"#F5D745\",\"#F5D948\",\"#F4DB4B\",\"#F4DC4F\",\"#F3DE52\",\"#F3E056\",\"#F3E259\",\"#F2E45D\",\"#F2E660\",\"#F1E864\",\"#F1E968\",\"#F1EB6C\",\"#F1ED70\",\"#F1EE74\",\"#F1F079\",\"#F1F27D\",\"#F2F381\",\"#F2F485\",\"#F3F689\",\"#F4F78D\",\"#F5F891\",\"#F6FA95\",\"#F7FB99\",\"#F9FC9D\",\"#FAFDA0\",\"#FCFEA4\"]},\"id\":\"21238\",\"type\":\"LinearColorMapper\"},{\"attributes\":{\"text\":\"Covid Confirmed Cases\"},\"id\":\"21240\",\"type\":\"Title\"},{\"attributes\":{\"factors\":[\"Afghanistan\",\"Albania\",\"Algeria\",\"Andorra\",\"Angola\",\"Antigua and Barbuda\",\"Argentina\",\"Armenia\",\"Australia\",\"Austria\"]},\"id\":\"21244\",\"type\":\"FactorRange\"},{\"attributes\":{\"bottom_units\":\"screen\",\"fill_alpha\":0.5,\"fill_color\":\"lightgrey\",\"left_units\":\"screen\",\"level\":\"overlay\",\"line_alpha\":1.0,\"line_color\":\"black\",\"line_dash\":[4,4],\"line_width\":2,\"right_units\":\"screen\",\"top_units\":\"screen\"},\"id\":\"21259\",\"type\":\"BoxAnnotation\"},{\"attributes\":{\"source\":{\"id\":\"21237\"}},\"id\":\"21268\",\"type\":\"CDSView\"},{\"attributes\":{\"desired_num_ticks\":10},\"id\":\"21269\",\"type\":\"BasicTicker\"},{\"attributes\":{\"fill_alpha\":{\"value\":0.1},\"fill_color\":{\"field\":\"cases\",\"transform\":{\"id\":\"21238\"}},\"height\":{\"units\":\"data\",\"value\":1},\"line_alpha\":{\"value\":0.1},\"line_color\":{\"value\":null},\"width\":{\"units\":\"data\",\"value\":1},\"x\":{\"field\":\"Days\"},\"y\":{\"field\":\"Country\"}},\"id\":\"21266\",\"type\":\"Rect\"},{\"attributes\":{},\"id\":\"21258\",\"type\":\"PanTool\"},{\"attributes\":{\"fill_color\":{\"field\":\"cases\",\"transform\":{\"id\":\"21238\"}},\"height\":{\"units\":\"data\",\"value\":1},\"line_color\":{\"value\":null},\"width\":{\"units\":\"data\",\"value\":1},\"x\":{\"field\":\"Days\"},\"y\":{\"field\":\"Country\"}},\"id\":\"21265\",\"type\":\"Rect\"},{\"attributes\":{\"data_source\":{\"id\":\"21237\"},\"glyph\":{\"id\":\"21265\"},\"hover_glyph\":null,\"muted_glyph\":null,\"nonselection_glyph\":{\"id\":\"21266\"},\"selection_glyph\":null,\"view\":{\"id\":\"21268\"}},\"id\":\"21267\",\"type\":\"GlyphRenderer\"},{\"attributes\":{},\"id\":\"21246\",\"type\":\"CategoricalScale\"},{\"attributes\":{\"format\":\"%d\"},\"id\":\"21270\",\"type\":\"PrintfTickFormatter\"},{\"attributes\":{\"color_mapper\":{\"id\":\"21238\"},\"formatter\":{\"id\":\"21270\"},\"location\":[0,0],\"ticker\":{\"id\":\"21269\"}},\"id\":\"21271\",\"type\":\"ColorBar\"},{\"attributes\":{},\"id\":\"21248\",\"type\":\"CategoricalScale\"},{\"attributes\":{\"axis_line_color\":null,\"formatter\":{\"id\":\"21777\"},\"major_label_orientation\":1.0,\"major_label_standoff\":0,\"major_label_text_font_size\":\"7px\",\"major_tick_line_color\":null,\"ticker\":{\"id\":\"21251\"}},\"id\":\"21250\",\"type\":\"CategoricalAxis\"},{\"attributes\":{},\"id\":\"21775\",\"type\":\"CategoricalTickFormatter\"},{\"attributes\":{},\"id\":\"21251\",\"type\":\"CategoricalTicker\"},{\"attributes\":{},\"id\":\"21777\",\"type\":\"CategoricalTickFormatter\"},{\"attributes\":{},\"id\":\"21780\",\"type\":\"Selection\"},{\"attributes\":{\"axis\":{\"id\":\"21250\"},\"ticker\":null},\"id\":\"21252\",\"type\":\"Grid\"},{\"attributes\":{},\"id\":\"21781\",\"type\":\"UnionRenderers\"},{\"attributes\":{\"axis_line_color\":null,\"formatter\":{\"id\":\"21775\"},\"major_label_standoff\":0,\"major_label_text_font_size\":\"7px\",\"major_tick_line_color\":null,\"ticker\":{\"id\":\"21254\"}},\"id\":\"21253\",\"type\":\"CategoricalAxis\"},{\"attributes\":{},\"id\":\"21254\",\"type\":\"CategoricalTicker\"},{\"attributes\":{\"axis\":{\"id\":\"21253\"},\"dimension\":1,\"ticker\":null},\"id\":\"21255\",\"type\":\"Grid\"},{\"attributes\":{\"data\":{\"Country\":[\"Afghanistan\",\"Afghanistan\",\"Afghanistan\",\"Afghanistan\",\"Afghanistan\",\"Afghanistan\",\"Afghanistan\",\"Afghanistan\",\"Afghanistan\",\"Afghanistan\",\"Afghanistan\",\"Afghanistan\",\"Afghanistan\",\"Afghanistan\",\"Afghanistan\",\"Afghanistan\",\"Afghanistan\",\"Afghanistan\",\"Afghanistan\",\"Afghanistan\",\"Afghanistan\",\"Afghanistan\",\"Afghanistan\",\"Afghanistan\",\"Afghanistan\",\"Afghanistan\",\"Afghanistan\",\"Afghanistan\",\"Afghanistan\",\"Afghanistan\",\"Afghanistan\",\"Afghanistan\",\"Afghanistan\",\"Afghanistan\",\"Afghanistan\",\"Afghanistan\",\"Afghanistan\",\"Afghanistan\",\"Afghanistan\",\"Afghanistan\",\"Afghanistan\",\"Afghanistan\",\"Afghanistan\",\"Afghanistan\",\"Afghanistan\",\"Afghanistan\",\"Afghanistan\",\"Afghanistan\",\"Afghanistan\",\"Afghanistan\",\"Albania\",\"Albania\",\"Albania\",\"Albania\",\"Albania\",\"Albania\",\"Albania\",\"Albania\",\"Albania\",\"Albania\",\"Albania\",\"Albania\",\"Albania\",\"Albania\",\"Albania\",\"Albania\",\"Albania\",\"Albania\",\"Albania\",\"Albania\",\"Albania\",\"Albania\",\"Albania\",\"Albania\",\"Albania\",\"Albania\",\"Albania\",\"Albania\",\"Albania\",\"Albania\",\"Albania\",\"Albania\",\"Albania\",\"Albania\",\"Albania\",\"Albania\",\"Albania\",\"Albania\",\"Albania\",\"Albania\",\"Albania\",\"Albania\",\"Albania\",\"Albania\",\"Albania\",\"Albania\",\"Albania\",\"Albania\",\"Albania\",\"Albania\",\"Algeria\",\"Algeria\",\"Algeria\",\"Algeria\",\"Algeria\",\"Algeria\",\"Algeria\",\"Algeria\",\"Algeria\",\"Algeria\",\"Algeria\",\"Algeria\",\"Algeria\",\"Algeria\",\"Algeria\",\"Algeria\",\"Algeria\",\"Algeria\",\"Algeria\",\"Algeria\",\"Algeria\",\"Algeria\",\"Algeria\",\"Algeria\",\"Algeria\",\"Algeria\",\"Algeria\",\"Algeria\",\"Algeria\",\"Algeria\",\"Algeria\",\"Algeria\",\"Algeria\",\"Algeria\",\"Algeria\",\"Algeria\",\"Algeria\",\"Algeria\",\"Algeria\",\"Algeria\",\"Algeria\",\"Algeria\",\"Algeria\",\"Algeria\",\"Algeria\",\"Algeria\",\"Algeria\",\"Algeria\",\"Algeria\",\"Algeria\",\"Andorra\",\"Andorra\",\"Andorra\",\"Andorra\",\"Andorra\",\"Andorra\",\"Andorra\",\"Andorra\",\"Andorra\",\"Andorra\",\"Andorra\",\"Andorra\",\"Andorra\",\"Andorra\",\"Andorra\",\"Andorra\",\"Andorra\",\"Andorra\",\"Andorra\",\"Andorra\",\"Andorra\",\"Andorra\",\"Andorra\",\"Andorra\",\"Andorra\",\"Andorra\",\"Andorra\",\"Andorra\",\"Andorra\",\"Andorra\",\"Andorra\",\"Andorra\",\"Andorra\",\"Andorra\",\"Andorra\",\"Andorra\",\"Andorra\",\"Andorra\",\"Andorra\",\"Andorra\",\"Andorra\",\"Andorra\",\"Andorra\",\"Andorra\",\"Andorra\",\"Andorra\",\"Andorra\",\"Andorra\",\"Andorra\",\"Andorra\",\"Angola\",\"Angola\",\"Angola\",\"Angola\",\"Angola\",\"Angola\",\"Angola\",\"Angola\",\"Angola\",\"Angola\",\"Angola\",\"Angola\",\"Angola\",\"Angola\",\"Angola\",\"Angola\",\"Angola\",\"Angola\",\"Angola\",\"Angola\",\"Angola\",\"Angola\",\"Angola\",\"Angola\",\"Angola\",\"Angola\",\"Angola\",\"Angola\",\"Angola\",\"Angola\",\"Angola\",\"Angola\",\"Angola\",\"Angola\",\"Angola\",\"Angola\",\"Angola\",\"Angola\",\"Angola\",\"Angola\",\"Angola\",\"Angola\",\"Angola\",\"Angola\",\"Angola\",\"Angola\",\"Angola\",\"Angola\",\"Angola\",\"Angola\",\"Antigua and Barbuda\",\"Antigua and Barbuda\",\"Antigua and Barbuda\",\"Antigua and Barbuda\",\"Antigua and Barbuda\",\"Antigua and Barbuda\",\"Antigua and Barbuda\",\"Antigua and Barbuda\",\"Antigua and Barbuda\",\"Antigua and Barbuda\",\"Antigua and Barbuda\",\"Antigua and Barbuda\",\"Antigua and Barbuda\",\"Antigua and Barbuda\",\"Antigua and Barbuda\",\"Antigua and Barbuda\",\"Antigua and Barbuda\",\"Antigua and Barbuda\",\"Antigua and Barbuda\",\"Antigua and Barbuda\",\"Antigua and Barbuda\",\"Antigua and Barbuda\",\"Antigua and Barbuda\",\"Antigua and Barbuda\",\"Antigua and Barbuda\",\"Antigua and Barbuda\",\"Antigua and Barbuda\",\"Antigua and Barbuda\",\"Antigua and Barbuda\",\"Antigua and Barbuda\",\"Antigua and Barbuda\",\"Antigua and Barbuda\",\"Antigua and Barbuda\",\"Antigua and Barbuda\",\"Antigua and Barbuda\",\"Antigua and Barbuda\",\"Antigua and Barbuda\",\"Antigua and Barbuda\",\"Antigua and Barbuda\",\"Antigua and Barbuda\",\"Antigua and Barbuda\",\"Antigua and Barbuda\",\"Antigua and Barbuda\",\"Antigua and Barbuda\",\"Antigua and Barbuda\",\"Antigua and Barbuda\",\"Antigua and Barbuda\",\"Antigua and Barbuda\",\"Antigua and Barbuda\",\"Antigua and Barbuda\",\"Argentina\",\"Argentina\",\"Argentina\",\"Argentina\",\"Argentina\",\"Argentina\",\"Argentina\",\"Argentina\",\"Argentina\",\"Argentina\",\"Argentina\",\"Argentina\",\"Argentina\",\"Argentina\",\"Argentina\",\"Argentina\",\"Argentina\",\"Argentina\",\"Argentina\",\"Argentina\",\"Argentina\",\"Argentina\",\"Argentina\",\"Argentina\",\"Argentina\",\"Argentina\",\"Argentina\",\"Argentina\",\"Argentina\",\"Argentina\",\"Argentina\",\"Argentina\",\"Argentina\",\"Argentina\",\"Argentina\",\"Argentina\",\"Argentina\",\"Argentina\",\"Argentina\",\"Argentina\",\"Argentina\",\"Argentina\",\"Argentina\",\"Argentina\",\"Argentina\",\"Argentina\",\"Argentina\",\"Argentina\",\"Argentina\",\"Argentina\",\"Armenia\",\"Armenia\",\"Armenia\",\"Armenia\",\"Armenia\",\"Armenia\",\"Armenia\",\"Armenia\",\"Armenia\",\"Armenia\",\"Armenia\",\"Armenia\",\"Armenia\",\"Armenia\",\"Armenia\",\"Armenia\",\"Armenia\",\"Armenia\",\"Armenia\",\"Armenia\",\"Armenia\",\"Armenia\",\"Armenia\",\"Armenia\",\"Armenia\",\"Armenia\",\"Armenia\",\"Armenia\",\"Armenia\",\"Armenia\",\"Armenia\",\"Armenia\",\"Armenia\",\"Armenia\",\"Armenia\",\"Armenia\",\"Armenia\",\"Armenia\",\"Armenia\",\"Armenia\",\"Armenia\",\"Armenia\",\"Armenia\",\"Armenia\",\"Armenia\",\"Armenia\",\"Armenia\",\"Armenia\",\"Armenia\",\"Armenia\",\"Australia\",\"Australia\",\"Australia\",\"Australia\",\"Australia\",\"Australia\",\"Australia\",\"Australia\",\"Australia\",\"Australia\",\"Australia\",\"Australia\",\"Australia\",\"Australia\",\"Australia\",\"Australia\",\"Australia\",\"Australia\",\"Australia\",\"Australia\",\"Australia\",\"Australia\",\"Australia\",\"Australia\",\"Australia\",\"Australia\",\"Australia\",\"Australia\",\"Australia\",\"Australia\",\"Australia\",\"Australia\",\"Australia\",\"Australia\",\"Australia\",\"Australia\",\"Australia\",\"Australia\",\"Australia\",\"Australia\",\"Australia\",\"Australia\",\"Australia\",\"Australia\",\"Australia\",\"Australia\",\"Australia\",\"Australia\",\"Australia\",\"Australia\",\"Austria\",\"Austria\",\"Austria\",\"Austria\",\"Austria\",\"Austria\",\"Austria\",\"Austria\",\"Austria\",\"Austria\",\"Austria\",\"Austria\",\"Austria\",\"Austria\",\"Austria\",\"Austria\",\"Austria\",\"Austria\",\"Austria\",\"Austria\",\"Austria\",\"Austria\",\"Austria\",\"Austria\",\"Austria\",\"Austria\",\"Austria\",\"Austria\",\"Austria\",\"Austria\",\"Austria\",\"Austria\",\"Austria\",\"Austria\",\"Austria\",\"Austria\",\"Austria\",\"Austria\",\"Austria\",\"Austria\",\"Austria\",\"Austria\",\"Austria\",\"Austria\",\"Austria\",\"Austria\",\"Austria\",\"Austria\",\"Austria\",\"Austria\"],\"Days\":[\"9/28/20\",\"9/29/20\",\"9/30/20\",\"10/1/20\",\"10/2/20\",\"10/3/20\",\"10/4/20\",\"10/5/20\",\"10/6/20\",\"10/7/20\",\"10/8/20\",\"10/9/20\",\"10/10/20\",\"10/11/20\",\"10/12/20\",\"10/13/20\",\"10/14/20\",\"10/15/20\",\"10/16/20\",\"10/17/20\",\"10/18/20\",\"10/19/20\",\"10/20/20\",\"10/21/20\",\"10/22/20\",\"10/23/20\",\"10/24/20\",\"10/25/20\",\"10/26/20\",\"10/27/20\",\"10/28/20\",\"10/29/20\",\"10/30/20\",\"10/31/20\",\"11/1/20\",\"11/2/20\",\"11/3/20\",\"11/4/20\",\"11/5/20\",\"11/6/20\",\"11/7/20\",\"11/8/20\",\"11/9/20\",\"11/10/20\",\"11/11/20\",\"11/12/20\",\"11/13/20\",\"11/14/20\",\"11/15/20\",\"11/16/20\",\"9/28/20\",\"9/29/20\",\"9/30/20\",\"10/1/20\",\"10/2/20\",\"10/3/20\",\"10/4/20\",\"10/5/20\",\"10/6/20\",\"10/7/20\",\"10/8/20\",\"10/9/20\",\"10/10/20\",\"10/11/20\",\"10/12/20\",\"10/13/20\",\"10/14/20\",\"10/15/20\",\"10/16/20\",\"10/17/20\",\"10/18/20\",\"10/19/20\",\"10/20/20\",\"10/21/20\",\"10/22/20\",\"10/23/20\",\"10/24/20\",\"10/25/20\",\"10/26/20\",\"10/27/20\",\"10/28/20\",\"10/29/20\",\"10/30/20\",\"10/31/20\",\"11/1/20\",\"11/2/20\",\"11/3/20\",\"11/4/20\",\"11/5/20\",\"11/6/20\",\"11/7/20\",\"11/8/20\",\"11/9/20\",\"11/10/20\",\"11/11/20\",\"11/12/20\",\"11/13/20\",\"11/14/20\",\"11/15/20\",\"11/16/20\",\"9/28/20\",\"9/29/20\",\"9/30/20\",\"10/1/20\",\"10/2/20\",\"10/3/20\",\"10/4/20\",\"10/5/20\",\"10/6/20\",\"10/7/20\",\"10/8/20\",\"10/9/20\",\"10/10/20\",\"10/11/20\",\"10/12/20\",\"10/13/20\",\"10/14/20\",\"10/15/20\",\"10/16/20\",\"10/17/20\",\"10/18/20\",\"10/19/20\",\"10/20/20\",\"10/21/20\",\"10/22/20\",\"10/23/20\",\"10/24/20\",\"10/25/20\",\"10/26/20\",\"10/27/20\",\"10/28/20\",\"10/29/20\",\"10/30/20\",\"10/31/20\",\"11/1/20\",\"11/2/20\",\"11/3/20\",\"11/4/20\",\"11/5/20\",\"11/6/20\",\"11/7/20\",\"11/8/20\",\"11/9/20\",\"11/10/20\",\"11/11/20\",\"11/12/20\",\"11/13/20\",\"11/14/20\",\"11/15/20\",\"11/16/20\",\"9/28/20\",\"9/29/20\",\"9/30/20\",\"10/1/20\",\"10/2/20\",\"10/3/20\",\"10/4/20\",\"10/5/20\",\"10/6/20\",\"10/7/20\",\"10/8/20\",\"10/9/20\",\"10/10/20\",\"10/11/20\",\"10/12/20\",\"10/13/20\",\"10/14/20\",\"10/15/20\",\"10/16/20\",\"10/17/20\",\"10/18/20\",\"10/19/20\",\"10/20/20\",\"10/21/20\",\"10/22/20\",\"10/23/20\",\"10/24/20\",\"10/25/20\",\"10/26/20\",\"10/27/20\",\"10/28/20\",\"10/29/20\",\"10/30/20\",\"10/31/20\",\"11/1/20\",\"11/2/20\",\"11/3/20\",\"11/4/20\",\"11/5/20\",\"11/6/20\",\"11/7/20\",\"11/8/20\",\"11/9/20\",\"11/10/20\",\"11/11/20\",\"11/12/20\",\"11/13/20\",\"11/14/20\",\"11/15/20\",\"11/16/20\",\"9/28/20\",\"9/29/20\",\"9/30/20\",\"10/1/20\",\"10/2/20\",\"10/3/20\",\"10/4/20\",\"10/5/20\",\"10/6/20\",\"10/7/20\",\"10/8/20\",\"10/9/20\",\"10/10/20\",\"10/11/20\",\"10/12/20\",\"10/13/20\",\"10/14/20\",\"10/15/20\",\"10/16/20\",\"10/17/20\",\"10/18/20\",\"10/19/20\",\"10/20/20\",\"10/21/20\",\"10/22/20\",\"10/23/20\",\"10/24/20\",\"10/25/20\",\"10/26/20\",\"10/27/20\",\"10/28/20\",\"10/29/20\",\"10/30/20\",\"10/31/20\",\"11/1/20\",\"11/2/20\",\"11/3/20\",\"11/4/20\",\"11/5/20\",\"11/6/20\",\"11/7/20\",\"11/8/20\",\"11/9/20\",\"11/10/20\",\"11/11/20\",\"11/12/20\",\"11/13/20\",\"11/14/20\",\"11/15/20\",\"11/16/20\",\"9/28/20\",\"9/29/20\",\"9/30/20\",\"10/1/20\",\"10/2/20\",\"10/3/20\",\"10/4/20\",\"10/5/20\",\"10/6/20\",\"10/7/20\",\"10/8/20\",\"10/9/20\",\"10/10/20\",\"10/11/20\",\"10/12/20\",\"10/13/20\",\"10/14/20\",\"10/15/20\",\"10/16/20\",\"10/17/20\",\"10/18/20\",\"10/19/20\",\"10/20/20\",\"10/21/20\",\"10/22/20\",\"10/23/20\",\"10/24/20\",\"10/25/20\",\"10/26/20\",\"10/27/20\",\"10/28/20\",\"10/29/20\",\"10/30/20\",\"10/31/20\",\"11/1/20\",\"11/2/20\",\"11/3/20\",\"11/4/20\",\"11/5/20\",\"11/6/20\",\"11/7/20\",\"11/8/20\",\"11/9/20\",\"11/10/20\",\"11/11/20\",\"11/12/20\",\"11/13/20\",\"11/14/20\",\"11/15/20\",\"11/16/20\",\"9/28/20\",\"9/29/20\",\"9/30/20\",\"10/1/20\",\"10/2/20\",\"10/3/20\",\"10/4/20\",\"10/5/20\",\"10/6/20\",\"10/7/20\",\"10/8/20\",\"10/9/20\",\"10/10/20\",\"10/11/20\",\"10/12/20\",\"10/13/20\",\"10/14/20\",\"10/15/20\",\"10/16/20\",\"10/17/20\",\"10/18/20\",\"10/19/20\",\"10/20/20\",\"10/21/20\",\"10/22/20\",\"10/23/20\",\"10/24/20\",\"10/25/20\",\"10/26/20\",\"10/27/20\",\"10/28/20\",\"10/29/20\",\"10/30/20\",\"10/31/20\",\"11/1/20\",\"11/2/20\",\"11/3/20\",\"11/4/20\",\"11/5/20\",\"11/6/20\",\"11/7/20\",\"11/8/20\",\"11/9/20\",\"11/10/20\",\"11/11/20\",\"11/12/20\",\"11/13/20\",\"11/14/20\",\"11/15/20\",\"11/16/20\",\"9/28/20\",\"9/29/20\",\"9/30/20\",\"10/1/20\",\"10/2/20\",\"10/3/20\",\"10/4/20\",\"10/5/20\",\"10/6/20\",\"10/7/20\",\"10/8/20\",\"10/9/20\",\"10/10/20\",\"10/11/20\",\"10/12/20\",\"10/13/20\",\"10/14/20\",\"10/15/20\",\"10/16/20\",\"10/17/20\",\"10/18/20\",\"10/19/20\",\"10/20/20\",\"10/21/20\",\"10/22/20\",\"10/23/20\",\"10/24/20\",\"10/25/20\",\"10/26/20\",\"10/27/20\",\"10/28/20\",\"10/29/20\",\"10/30/20\",\"10/31/20\",\"11/1/20\",\"11/2/20\",\"11/3/20\",\"11/4/20\",\"11/5/20\",\"11/6/20\",\"11/7/20\",\"11/8/20\",\"11/9/20\",\"11/10/20\",\"11/11/20\",\"11/12/20\",\"11/13/20\",\"11/14/20\",\"11/15/20\",\"11/16/20\",\"9/28/20\",\"9/29/20\",\"9/30/20\",\"10/1/20\",\"10/2/20\",\"10/3/20\",\"10/4/20\",\"10/5/20\",\"10/6/20\",\"10/7/20\",\"10/8/20\",\"10/9/20\",\"10/10/20\",\"10/11/20\",\"10/12/20\",\"10/13/20\",\"10/14/20\",\"10/15/20\",\"10/16/20\",\"10/17/20\",\"10/18/20\",\"10/19/20\",\"10/20/20\",\"10/21/20\",\"10/22/20\",\"10/23/20\",\"10/24/20\",\"10/25/20\",\"10/26/20\",\"10/27/20\",\"10/28/20\",\"10/29/20\",\"10/30/20\",\"10/31/20\",\"11/1/20\",\"11/2/20\",\"11/3/20\",\"11/4/20\",\"11/5/20\",\"11/6/20\",\"11/7/20\",\"11/8/20\",\"11/9/20\",\"11/10/20\",\"11/11/20\",\"11/12/20\",\"11/13/20\",\"11/14/20\",\"11/15/20\",\"11/16/20\",\"9/28/20\",\"9/29/20\",\"9/30/20\",\"10/1/20\",\"10/2/20\",\"10/3/20\",\"10/4/20\",\"10/5/20\",\"10/6/20\",\"10/7/20\",\"10/8/20\",\"10/9/20\",\"10/10/20\",\"10/11/20\",\"10/12/20\",\"10/13/20\",\"10/14/20\",\"10/15/20\",\"10/16/20\",\"10/17/20\",\"10/18/20\",\"10/19/20\",\"10/20/20\",\"10/21/20\",\"10/22/20\",\"10/23/20\",\"10/24/20\",\"10/25/20\",\"10/26/20\",\"10/27/20\",\"10/28/20\",\"10/29/20\",\"10/30/20\",\"10/31/20\",\"11/1/20\",\"11/2/20\",\"11/3/20\",\"11/4/20\",\"11/5/20\",\"11/6/20\",\"11/7/20\",\"11/8/20\",\"11/9/20\",\"11/10/20\",\"11/11/20\",\"11/12/20\",\"11/13/20\",\"11/14/20\",\"11/15/20\",\"11/16/20\"],\"cases\":{\"__ndarray__\":\"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\",\"dtype\":\"float64\",\"order\":\"little\",\"shape\":[500]},\"index\":[0,1,2,3,4,5,6,7,8,9,10,11,12,13,14,15,16,17,18,19,20,21,22,23,24,25,26,27,28,29,30,31,32,33,34,35,36,37,38,39,40,41,42,43,44,45,46,47,48,49,50,51,52,53,54,55,56,57,58,59,60,61,62,63,64,65,66,67,68,69,70,71,72,73,74,75,76,77,78,79,80,81,82,83,84,85,86,87,88,89,90,91,92,93,94,95,96,97,98,99,100,101,102,103,104,105,106,107,108,109,110,111,112,113,114,115,116,117,118,119,120,121,122,123,124,125,126,127,128,129,130,131,132,133,134,135,136,137,138,139,140,141,142,143,144,145,146,147,148,149,150,151,152,153,154,155,156,157,158,159,160,161,162,163,164,165,166,167,168,169,170,171,172,173,174,175,176,177,178,179,180,181,182,183,184,185,186,187,188,189,190,191,192,193,194,195,196,197,198,199,200,201,202,203,204,205,206,207,208,209,210,211,212,213,214,215,216,217,218,219,220,221,222,223,224,225,226,227,228,229,230,231,232,233,234,235,236,237,238,239,240,241,242,243,244,245,246,247,248,249,250,251,252,253,254,255,256,257,258,259,260,261,262,263,264,265,266,267,268,269,270,271,272,273,274,275,276,277,278,279,280,281,282,283,284,285,286,287,288,289,290,291,292,293,294,295,296,297,298,299,300,301,302,303,304,305,306,307,308,309,310,311,312,313,314,315,316,317,318,319,320,321,322,323,324,325,326,327,328,329,330,331,332,333,334,335,336,337,338,339,340,341,342,343,344,345,346,347,348,349,350,351,352,353,354,355,356,357,358,359,360,361,362,363,364,365,366,367,368,369,370,371,372,373,374,375,376,377,378,379,380,381,382,383,384,385,386,387,388,389,390,391,392,393,394,395,396,397,398,399,400,401,402,403,404,405,406,407,408,409,410,411,412,413,414,415,416,417,418,419,420,421,422,423,424,425,426,427,428,429,430,431,432,433,434,435,436,437,438,439,440,441,442,443,444,445,446,447,448,449,450,451,452,453,454,455,456,457,458,459,460,461,462,463,464,465,466,467,468,469,470,471,472,473,474,475,476,477,478,479,480,481,482,483,484,485,486,487,488,489,490,491,492,493,494,495,496,497,498,499]},\"selected\":{\"id\":\"21780\"},\"selection_policy\":{\"id\":\"21781\"}},\"id\":\"21237\",\"type\":\"ColumnDataSource\"}],\"root_ids\":[\"21239\"]},\"title\":\"Bokeh Application\",\"version\":\"2.2.3\"}};\n",
       "  var render_items = [{\"docid\":\"810f6fd7-2ed1-4a28-80f1-86fd00344dcc\",\"root_ids\":[\"21239\"],\"roots\":{\"21239\":\"c4e1e7a5-d5b4-4531-b2a6-ad14eec22672\"}}];\n",
       "  root.Bokeh.embed.embed_items_notebook(docs_json, render_items);\n",
       "\n",
       "  }\n",
       "  if (root.Bokeh !== undefined) {\n",
       "    embed_document(root);\n",
       "  } else {\n",
       "    var attempts = 0;\n",
       "    var timer = setInterval(function(root) {\n",
       "      if (root.Bokeh !== undefined) {\n",
       "        clearInterval(timer);\n",
       "        embed_document(root);\n",
       "      } else {\n",
       "        attempts++;\n",
       "        if (attempts > 100) {\n",
       "          clearInterval(timer);\n",
       "          console.log(\"Bokeh: ERROR: Unable to run BokehJS code because BokehJS library is missing\");\n",
       "        }\n",
       "      }\n",
       "    }, 10, root)\n",
       "  }\n",
       "})(window);"
      ],
      "application/vnd.bokehjs_exec.v0+json": ""
     },
     "metadata": {
      "application/vnd.bokehjs_exec.v0+json": {
       "id": "21239"
      }
     },
     "output_type": "display_data"
    }
   ],
   "source": [
    "\n",
    "df = pd.DataFrame(subset.stack(), columns=['cases']).reset_index()\n",
    "\n",
    "\n",
    "\n",
    "source = ColumnDataSource(df)\n",
    "\n",
    "colors = Inferno256\n",
    "mapper = LinearColorMapper(palette=colors, low=df.cases.min(), high=df.cases.max())\n",
    "\n",
    "p = figure(plot_width=1100, plot_height=700, title=\"Covid Confirmed Cases\",\n",
    "           y_range=list(subset.index), x_range=list(reversed(subset.columns)),\n",
    "            tools=\"hover,box_zoom,pan\", x_axis_location=\"above\",tooltips=\"@Country @cases at @Days\")\n",
    "\n",
    "p.rect(x=\"Days\", y=\"Country\", width=1, height=1, source=source,\n",
    "       line_color=None, fill_color=transform('cases', mapper))\n",
    "\n",
    "color_bar = ColorBar(color_mapper=mapper, location=(0, 0),\n",
    "                     ticker=BasicTicker(desired_num_ticks=10),\n",
    "                     formatter=PrintfTickFormatter(format=\"%d\"))\n",
    "\n",
    "p.add_layout(color_bar, 'right')\n",
    "\n",
    "p.axis.axis_line_color = None\n",
    "p.axis.major_tick_line_color = None\n",
    "p.axis.major_label_text_font_size = \"7px\"\n",
    "p.axis.major_label_standoff = 0\n",
    "p.xaxis.major_label_orientation = 1.0\n",
    "\n",
    "show(p)"
   ]
  }
 ],
 "metadata": {
  "kernelspec": {
   "display_name": "Python 3",
   "language": "python",
   "name": "python3"
  },
  "language_info": {
   "codemirror_mode": {
    "name": "ipython",
    "version": 3
   },
   "file_extension": ".py",
   "mimetype": "text/x-python",
   "name": "python",
   "nbconvert_exporter": "python",
   "pygments_lexer": "ipython3",
   "version": "3.7.3-final"
  }
 },
 "nbformat": 4,
 "nbformat_minor": 4
}