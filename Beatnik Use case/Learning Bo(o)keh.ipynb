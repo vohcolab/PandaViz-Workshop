{
 "cells": [
  {
   "cell_type": "markdown",
   "metadata": {},
   "source": [
    "# Learning Module - Bokeh\n",
    "\n",
    "### Here we will show you how to use some of the basic functionalities of Bokeh, a python visualization library.\n",
    "Keep in mind that there are several other libraries, each one with their own pros and cons, and, as of now, none of them can be classified as the best overall.\n",
    "\n",
    "Bokeh, Plotly and Matplotlib are the most well known in data visualization but there's more.\n",
    "\n",
    "Some of these can be used to create rich and interactive visualizations that can be server directly to the end-user in a web-page (Bokeh is one of them)\n",
    "\n",
    "[Bokeh](https://docs.bokeh.org/en/latest/index.html) is open-source, which means that you can see how it is built, and you can also help built it!\n",
    "\n",
    "Bookmark [this](https://docs.bokeh.org/en/latest/docs/user_guide/plotting.html)."
   ]
  },
  {
   "cell_type": "markdown",
   "metadata": {},
   "source": [
    "In this module we will cover:\n",
    "* Basic data manipulation\n",
    "* Data Visualization with Bokeh\n",
    "    * Piecharts\n",
    "    * Scatter plots\n",
    "    * Line and Multi-Line plots\n",
    "    * Areas\n",
    "    * Annotations"
   ]
  },
  {
   "cell_type": "markdown",
   "metadata": {},
   "source": [
    "## Data !\n",
    "\n",
    "Let's use some covid data taken from Jonh Hopkin's University."
   ]
  },
  {
   "cell_type": "code",
   "execution_count": null,
   "metadata": {},
   "outputs": [],
   "source": [
    "import pandas as pd"
   ]
  },
  {
   "cell_type": "code",
   "execution_count": null,
   "metadata": {},
   "outputs": [],
   "source": [
    "df = pd.read_csv(\"https://raw.githubusercontent.com/vohcolab/PandaViz-Workshop/main/Beatnik%20Use%20case/covid19data_cleaned.csv\")"
   ]
  },
  {
   "cell_type": "code",
   "execution_count": null,
   "metadata": {},
   "outputs": [],
   "source": [
    "total = df.groupby(\"Country\").sum()"
   ]
  },
  {
   "cell_type": "code",
   "execution_count": null,
   "metadata": {},
   "outputs": [],
   "source": [
    "from bokeh.io import output_file, show\n",
    "from bokeh.palettes import Category20c,Turbo256\n",
    "from bokeh.plotting import figure\n",
    "from bokeh.transform import cumsum\n",
    "from bokeh.io import output_notebook\n",
    "\n",
    "from math import pi\n",
    "\n"
   ]
  },
  {
   "cell_type": "markdown",
   "metadata": {},
   "source": [
    "Run this so that the plots are shown here"
   ]
  },
  {
   "cell_type": "code",
   "execution_count": null,
   "metadata": {},
   "outputs": [],
   "source": [
    "output_notebook()"
   ]
  },
  {
   "cell_type": "markdown",
   "metadata": {},
   "source": [
    "## Ya'll like pies?\n",
    "#### Everybody likes pies. That was retorical.\n",
    "*I dont remember the last time I had one thou*"
   ]
  },
  {
   "cell_type": "code",
   "execution_count": null,
   "metadata": {},
   "outputs": [],
   "source": [
    "n = 15"
   ]
  },
  {
   "cell_type": "code",
   "execution_count": null,
   "metadata": {},
   "outputs": [],
   "source": [
    "n_largest = total[\"confirmed_cases\"].nlargest(n)"
   ]
  },
  {
   "cell_type": "markdown",
   "metadata": {},
   "source": [
    "We need data for the pie. \n",
    "\n",
    "Let us setup the recipe first."
   ]
  },
  {
   "cell_type": "code",
   "execution_count": null,
   "metadata": {},
   "outputs": [],
   "source": [
    "data = pd.Series(n_largest).reset_index(name='value').rename(columns={'index':'Country'})\n",
    "data['angle'] = data['value']/data['value'].sum() * 2*pi\n",
    "data['color'] = Category20c[n] #pick n colors from this pallete"
   ]
  },
  {
   "cell_type": "code",
   "execution_count": null,
   "metadata": {},
   "outputs": [],
   "source": [
    "data"
   ]
  },
  {
   "cell_type": "markdown",
   "metadata": {},
   "source": [
    "### Pie Chart!\n",
    "\n",
    "#### Not an actual pie, I am sorry."
   ]
  },
  {
   "cell_type": "markdown",
   "metadata": {},
   "source": [
    "#### Let's see the confirmed cases"
   ]
  },
  {
   "cell_type": "code",
   "execution_count": null,
   "metadata": {},
   "outputs": [],
   "source": [
    "p = figure(plot_height=350, title=\"Top {} Confirmed cases\".format(n), toolbar_location=None,\n",
    "           tools=\"hover\", tooltips=\"@Country: @value\", x_range=(-0.5, 1.0))\n",
    "\n",
    "p.wedge(x=0, y=1, radius=0.4,\n",
    "        start_angle=cumsum('angle', include_zero=True), end_angle=cumsum('angle'),\n",
    "        line_color=\"white\", fill_color='color', legend_field='Country', source=data)\n",
    "\n",
    "p.axis.axis_label=None\n",
    "p.axis.visible=False\n",
    "p.grid.grid_line_color = None\n",
    "show(p)"
   ]
  },
  {
   "cell_type": "markdown",
   "metadata": {},
   "source": [
    "## What about deaths?"
   ]
  },
  {
   "cell_type": "code",
   "execution_count": null,
   "metadata": {},
   "outputs": [],
   "source": [
    "n_largest = total[\"deaths\"].nlargest(n)\n",
    "data = pd.Series(n_largest).reset_index(name='value').rename(columns={'index':'Country'})\n",
    "data['angle'] = data['value']/data['value'].sum() * 2*pi\n",
    "data['color'] = Category20c[n] #Picking n colors from this palette"
   ]
  },
  {
   "cell_type": "code",
   "execution_count": null,
   "metadata": {},
   "outputs": [],
   "source": [
    "p = figure(plot_height=350, title=\"Top {} Deaths\".format(n), toolbar_location=None,\n",
    "           tools=\"hover\", tooltips=\"@Country: @value\", x_range=(-0.5, 1.0))\n",
    "\n",
    "p.wedge(x=0, y=1, radius=0.4,\n",
    "        start_angle=cumsum('angle', include_zero=True), end_angle=cumsum('angle'),\n",
    "        line_color=\"white\", fill_color='color', legend_field='Country', source=data)\n",
    "\n",
    "p.axis.axis_label=None\n",
    "p.axis.visible=False\n",
    "p.grid.grid_line_color = None\n",
    "\n",
    "show(p)"
   ]
  },
  {
   "cell_type": "markdown",
   "metadata": {},
   "source": [
    "### Apparently the countries with most confirmed cases are not always the ones with the most deaths...\n",
    "#### Why would that be?"
   ]
  },
  {
   "cell_type": "markdown",
   "metadata": {},
   "source": [
    "___"
   ]
  },
  {
   "cell_type": "markdown",
   "metadata": {},
   "source": [
    "## Now, since we got the basics of pie charts and data sources out of the way, let us just do a regular line."
   ]
  },
  {
   "cell_type": "markdown",
   "metadata": {},
   "source": [
    "### First lets pick a country to see the evolution of cases throughout time!"
   ]
  },
  {
   "cell_type": "code",
   "execution_count": null,
   "metadata": {},
   "outputs": [],
   "source": [
    "country = \"Portugal\""
   ]
  },
  {
   "cell_type": "code",
   "execution_count": null,
   "metadata": {},
   "outputs": [],
   "source": [
    "mask = df[\"Country\"] ==country"
   ]
  },
  {
   "cell_type": "code",
   "execution_count": null,
   "metadata": {},
   "outputs": [],
   "source": [
    "selected_country = df[mask]"
   ]
  },
  {
   "cell_type": "code",
   "execution_count": null,
   "metadata": {},
   "outputs": [],
   "source": [
    "fig = figure(width= 600,height=500,tools=\"hover,pan,wheel_zoom,box_zoom,reset\",title=\"{} cases evolution\".format(country),x_axis_type=\"datetime\",tooltips=\"value: @y\")"
   ]
  },
  {
   "cell_type": "code",
   "execution_count": null,
   "metadata": {},
   "outputs": [],
   "source": [
    "x = pd.to_datetime(selected_country[\"date\"])\n",
    "y = selected_country[\"confirmed_cases\"].astype(int)"
   ]
  },
  {
   "cell_type": "code",
   "execution_count": null,
   "metadata": {},
   "outputs": [],
   "source": [
    "fig.line(x = x,y = y,legend_label=\"Confirmed by Day\")"
   ]
  },
  {
   "cell_type": "code",
   "execution_count": null,
   "metadata": {},
   "outputs": [],
   "source": [
    "show(fig)"
   ]
  },
  {
   "cell_type": "markdown",
   "metadata": {},
   "source": [
    "## Feels a bit empty no?\n",
    "\n",
    "#### Lets correlate the cases to the deaths."
   ]
  },
  {
   "cell_type": "code",
   "execution_count": null,
   "metadata": {},
   "outputs": [],
   "source": [
    "y = selected_country[\"deaths\"].astype(int)"
   ]
  },
  {
   "cell_type": "code",
   "execution_count": null,
   "metadata": {},
   "outputs": [],
   "source": [
    "fig.line(x = x,y = y,legend_label=\"Death by Day\",color=\"red\")"
   ]
  },
  {
   "cell_type": "code",
   "execution_count": null,
   "metadata": {},
   "outputs": [],
   "source": [
    "show(fig)"
   ]
  },
  {
   "cell_type": "markdown",
   "metadata": {},
   "source": [
    "### Yet again, we still have space for more!\n",
    "#### Now let us add the cumulative data for both cases and deaths."
   ]
  },
  {
   "cell_type": "markdown",
   "metadata": {},
   "source": [
    "These lines share the same x, with bokeh we can simplify the way we do this.\n",
    "And this time we want to be able to zoom, but only on the x axis."
   ]
  },
  {
   "cell_type": "code",
   "execution_count": null,
   "metadata": {},
   "outputs": [],
   "source": [
    "total = selected_country[[\"confirmed_cases\",\"deaths\"]].cumsum()"
   ]
  },
  {
   "cell_type": "code",
   "execution_count": null,
   "metadata": {},
   "outputs": [],
   "source": [
    "y = total[\"deaths\"]\n",
    "\n",
    "fig.line(x = x,y = y,legend_label=\"Cumulative Death\",color=\"yellow\")\n",
    "\n",
    "y = total[\"confirmed_cases\"]\n",
    "fig.line(x = x,y = y,legend_label=\"Cumulative Cases\",color=\"orange\")\n",
    "\n",
    "show(fig)"
   ]
  },
  {
   "cell_type": "markdown",
   "metadata": {},
   "source": [
    "### Ok. Now it is to hard to make sense out of this.\n",
    "\n",
    "Lets keep thing neat and tidy, so that we dont overwhelm our end-users with a lot of information."
   ]
  },
  {
   "cell_type": "markdown",
   "metadata": {},
   "source": [
    "### As an alternative, lets try to plot both the deaths and confirmed cases, but as % variances of the day before."
   ]
  },
  {
   "cell_type": "code",
   "execution_count": null,
   "metadata": {},
   "outputs": [],
   "source": [
    "country = \"Portugal\"\n",
    "mask = df[\"Country\"] ==country\n",
    "selected_country = df[mask][[\"confirmed_cases\",\"deaths\"]].pct_change()\n",
    "fig = figure(width= 600,height=500,tools=\"hover,pan,wheel_zoom,reset\",title=\"{} cases evolution\".format(country),x_axis_type=\"datetime\",tooltips=\"value: @y\")\n",
    "x = selected_country.index\n",
    "y =selected_country[\"confirmed_cases\"]\n",
    "fig.line(x = x,y = y,legend_label=\"% difference per day\",color=\"orange\")\n",
    "y =selected_country[\"deaths\"]\n",
    "\n",
    "fig.line(x = x,y = y,legend_label=\"% difference per day\",color=\"red\")\n",
    "\n",
    "show(fig)\n"
   ]
  },
  {
   "cell_type": "markdown",
   "metadata": {},
   "source": [
    "### Might be an interesting view of the data. What do you think?\n",
    "\n",
    "___\n",
    "\n",
    "#### Lets use the absolute values. However, with less granularity. Let us see how Covid was increasing by week. (7D)"
   ]
  },
  {
   "cell_type": "code",
   "execution_count": null,
   "metadata": {},
   "outputs": [],
   "source": [
    "df.index = pd.to_datetime(df[\"date\"]) #Why do we need to do this ?"
   ]
  },
  {
   "cell_type": "code",
   "execution_count": null,
   "metadata": {},
   "outputs": [],
   "source": [
    "country = \"Portugal\"\n",
    "mask = df[\"Country\"] ==country\n",
    "selected_country = df[mask]"
   ]
  },
  {
   "cell_type": "code",
   "execution_count": null,
   "metadata": {},
   "outputs": [],
   "source": [
    "import numpy as np"
   ]
  },
  {
   "cell_type": "code",
   "execution_count": null,
   "metadata": {},
   "outputs": [],
   "source": [
    "selected_country"
   ]
  },
  {
   "cell_type": "code",
   "execution_count": null,
   "metadata": {},
   "outputs": [],
   "source": [
    "selected_country = selected_country.resample(\"7D\").agg([np.mean,np.sum,np.std])"
   ]
  },
  {
   "cell_type": "code",
   "execution_count": null,
   "metadata": {},
   "outputs": [],
   "source": [
    "x = selected_country.index\n",
    "y = selected_country[\"confirmed_cases\"][\"mean\"]"
   ]
  },
  {
   "cell_type": "code",
   "execution_count": null,
   "metadata": {},
   "outputs": [],
   "source": [
    "fig = figure(width= 600,height=500,tools=\"hover,pan,wheel_zoom,box_zoom,reset\",title=\"{} cases evolution\".format(country),x_axis_type=\"datetime\",tooltips=\"value: @y\")\n",
    "fig.line(x = x,y = y,legend_label=\"Mean confirmed by week\",color=\"orange\")\n",
    "show(fig)"
   ]
  },
  {
   "cell_type": "code",
   "execution_count": null,
   "metadata": {},
   "outputs": [],
   "source": [
    "conf_cases = selected_country[\"confirmed_cases\"]\n",
    "upper = conf_cases[\"mean\"] + conf_cases[\"std\"]\n",
    "lower = conf_cases[\"mean\"] - conf_cases[\"std\"]"
   ]
  },
  {
   "cell_type": "code",
   "execution_count": null,
   "metadata": {},
   "outputs": [],
   "source": [
    "source = { \"x\": x, \"upper\" :upper,\"lower\":lower}"
   ]
  },
  {
   "cell_type": "code",
   "execution_count": null,
   "metadata": {},
   "outputs": [],
   "source": [
    "from bokeh.models import Band, ColumnDataSource"
   ]
  },
  {
   "cell_type": "code",
   "execution_count": null,
   "metadata": {},
   "outputs": [],
   "source": [
    "band = Band(base=\"x\", lower=\"lower\", upper=\"upper\", source=ColumnDataSource(data=source), level='underlay',\n",
    "            fill_alpha=0.2, line_width=1, line_color='orange',fill_color=\"orange\")\n",
    "\n",
    "fig.add_layout(band) #we need to add this one explicitly..\n",
    "show(fig)"
   ]
  },
  {
   "cell_type": "code",
   "execution_count": null,
   "metadata": {},
   "outputs": [],
   "source": [
    "fig.varea(x=\"x\",y1= \"upper\", y2= \"lower\",legend_label=\"std\",color=\"orange\",fill_alpha=0.2,source=source) #This also works, but then I wouldnt be able to make a pun with bands."
   ]
  },
  {
   "cell_type": "markdown",
   "metadata": {},
   "source": [
    "### Lets do the same, but now, lets separate the data per season."
   ]
  },
  {
   "cell_type": "markdown",
   "metadata": {},
   "source": [
    "### Select seasons"
   ]
  },
  {
   "cell_type": "code",
   "execution_count": null,
   "metadata": {},
   "outputs": [],
   "source": [
    "#some of the possible params: start,end,periods,frequency\n",
    "winter = pd.date_range(start='21/12/2019', end='20/03/2020')\n",
    "spring =pd.date_range(start='20/03/2020', end='20/06/2020')\n",
    "summer =pd.date_range(start='20/06/2020', end='22/10/2020')\n",
    "autumn = pd.date_range(start='22/10/2020', end='21/12/2020')\n"
   ]
  },
  {
   "cell_type": "markdown",
   "metadata": {},
   "source": [
    "### Select the country"
   ]
  },
  {
   "cell_type": "code",
   "execution_count": null,
   "metadata": {},
   "outputs": [],
   "source": [
    "country = \"Portugal\"\n",
    "mask = df[\"Country\"] ==country\n",
    "selected_country = df[mask]"
   ]
  },
  {
   "cell_type": "code",
   "execution_count": null,
   "metadata": {},
   "outputs": [],
   "source": [
    "selected_country = selected_country.resample(\"7D\").agg([np.mean,np.sum,np.std])"
   ]
  },
  {
   "cell_type": "code",
   "execution_count": null,
   "metadata": {},
   "outputs": [],
   "source": [
    "fig = figure(width= 600,height=500,tools=\"hover,pan,wheel_zoom,box_zoom,reset\",title=\"{} cases evolution\".format(country),x_axis_type=\"datetime\",tooltips=\"value: @y\")"
   ]
  },
  {
   "cell_type": "code",
   "execution_count": null,
   "metadata": {},
   "outputs": [],
   "source": [
    "mask = selected_country.index.isin(winter)\n",
    "\n",
    "winter = selected_country[mask]\n",
    "x = winter.index\n",
    "y = winter[\"confirmed_cases\"][\"mean\"]\n",
    "source = {\n",
    "    \"x\":x,\n",
    "    \"upper\":y + winter[\"confirmed_cases\"][\"std\"],\n",
    "    \"lower\":y - winter[\"confirmed_cases\"][\"std\"],\n",
    "}\n",
    "fig.varea(x=\"x\",y1= \"upper\", y2= \"lower\",color=\"blue\",fill_alpha=0.2,source=source)\n",
    "fig.line(x = x,y = y,legend_label=\"Winter cases\",color=\"blue\")\n"
   ]
  },
  {
   "cell_type": "code",
   "execution_count": null,
   "metadata": {},
   "outputs": [],
   "source": [
    "mask = selected_country.index.isin(spring)\n",
    "\n",
    "spring = selected_country[mask]\n",
    "x = spring.index\n",
    "y = spring[\"confirmed_cases\"][\"mean\"]\n",
    "source = {\n",
    "    \"x\":x,\n",
    "    \"upper\":y + spring[\"confirmed_cases\"][\"std\"],\n",
    "    \"lower\":y - spring[\"confirmed_cases\"][\"std\"],\n",
    "}\n",
    "fig.varea(x=\"x\",y1= \"upper\", y2= \"lower\",color=\"orange\",fill_alpha=0.2,source=source)\n",
    "fig.line(x = x,y = y,legend_label=\"Spring cases\",color=\"orange\")\n"
   ]
  },
  {
   "cell_type": "code",
   "execution_count": null,
   "metadata": {},
   "outputs": [],
   "source": [
    "mask = selected_country.index.isin(autumn)\n",
    "\n",
    "autumn = selected_country[mask]\n",
    "x = autumn.index\n",
    "y = autumn[\"confirmed_cases\"][\"mean\"]\n",
    "source = {\n",
    "    \"x\":x,\n",
    "    \"upper\":y + autumn[\"confirmed_cases\"][\"std\"],\n",
    "    \"lower\":y - autumn[\"confirmed_cases\"][\"std\"],\n",
    "}\n",
    "fig.varea(x=\"x\",y1= \"upper\", y2= \"lower\",color=\"yellow\",fill_alpha=0.2,source=source) \n",
    "fig.line(x = x,y = y,legend_label=\"Autumn cases\",color=\"yellow\")\n"
   ]
  },
  {
   "cell_type": "code",
   "execution_count": null,
   "metadata": {},
   "outputs": [],
   "source": [
    "mask = selected_country.index.isin(summer)\n",
    "\n",
    "summer = selected_country[mask]\n",
    "x = summer.index\n",
    "y = summer[\"confirmed_cases\"][\"mean\"]\n",
    "source = {\n",
    "    \"x\":x,\n",
    "    \"upper\":y + summer[\"confirmed_cases\"][\"std\"],\n",
    "    \"lower\":y - summer[\"confirmed_cases\"][\"std\"],\n",
    "}\n",
    "fig.varea(x=\"x\",y1= \"upper\", y2= \"lower\",color=\"red\",fill_alpha=0.2,source=source)\n",
    "fig.line(x = x,y = y,legend_label=\"Summer cases\",color=\"red\")\n"
   ]
  },
  {
   "cell_type": "code",
   "execution_count": null,
   "metadata": {},
   "outputs": [],
   "source": [
    "show(fig)"
   ]
  },
  {
   "cell_type": "markdown",
   "metadata": {},
   "source": [
    "### Lets just organize that code"
   ]
  },
  {
   "cell_type": "code",
   "execution_count": null,
   "metadata": {},
   "outputs": [],
   "source": [
    "winter = pd.date_range(start='21/12/2019', end='20/03/2020')\n",
    "spring =pd.date_range(start='20/03/2020', end='20/06/2020')\n",
    "summer =pd.date_range(start='20/06/2020', end='22/10/2020')\n",
    "autumn = pd.date_range(start='22/10/2020', end='21/12/2020')\n",
    "\n",
    "colors = [\"blue\",\"orange\",\"red\",\"yellow\"]\n",
    "seasons = [winter,spring,summer,autumn]\n",
    "labels = [\"Winter\",\"Spring\",\"Summer\",\"Autumn\"]\n",
    "\n"
   ]
  },
  {
   "cell_type": "code",
   "execution_count": null,
   "metadata": {},
   "outputs": [],
   "source": [
    "fig = figure(width= 600,height=500,tools=\"hover,pan,xwheel_zoom,reset\",title=\"{} cases evolution\".format(country),x_axis_type=\"datetime\",tooltips=\"value: @y\")\n",
    "\n",
    "for i in range(4):\n",
    "    mask = selected_country.index.isin(seasons[i])\n",
    "\n",
    "    season = selected_country[mask]\n",
    "    x = season.index\n",
    "    y = season[\"confirmed_cases\"][\"mean\"]\n",
    "    source = {\n",
    "        \"x\":x,\n",
    "        \"upper\":y + season[\"confirmed_cases\"][\"std\"],\n",
    "        \"lower\":y - season[\"confirmed_cases\"][\"std\"],\n",
    "    }\n",
    "    fig.varea(x=\"x\",y1= \"upper\", y2= \"lower\",color=colors[i],fill_alpha=0.2,source=source)\n",
    "    fig.line(x = x,y = y,legend_label=\"{} cases\".format(labels[i]),color=colors[i])\n",
    "\n",
    "\n",
    "show(fig)"
   ]
  },
  {
   "cell_type": "markdown",
   "metadata": {},
   "source": [
    "## The line should be continuous, right? How could we do this?\n",
    "* Change data\n",
    "* Add data\n"
   ]
  },
  {
   "cell_type": "code",
   "execution_count": null,
   "metadata": {},
   "outputs": [],
   "source": [
    "country = \"Portugal\"\n",
    "mask = df[\"Country\"] ==country\n",
    "selected_country = df[mask]"
   ]
  },
  {
   "cell_type": "code",
   "execution_count": null,
   "metadata": {},
   "outputs": [],
   "source": [
    "selected_country = selected_country.resample(\"7D\").agg([np.mean,np.sum,np.std])"
   ]
  },
  {
   "cell_type": "code",
   "execution_count": null,
   "metadata": {},
   "outputs": [],
   "source": [
    "winter = pd.date_range(start='21/12/2019', end='20/03/2020')\n",
    "spring =pd.date_range(start='20/03/2020', end='20/06/2020')\n",
    "summer =pd.date_range(start='20/06/2020', end='22/10/2020')\n",
    "autumn = pd.date_range(start='22/10/2020', end='21/12/2020')\n",
    "\n",
    "\n",
    "colors = [\"blue\",\"orange\",\"red\",\"yellow\"]\n",
    "seasons = [winter,spring,summer,autumn]\n",
    "labels = [\"Winter\",\"Spring\",\"Summer\",\"Autumn\"]\n",
    "\n"
   ]
  },
  {
   "cell_type": "code",
   "execution_count": null,
   "metadata": {},
   "outputs": [],
   "source": [
    "fig = figure(width= 600,height=500,tools=\"hover,pan,xwheel_zoom,reset\",title=\"{} cases evolution\".format(country),x_axis_type=\"datetime\",tooltips=\"value: @y\")\n",
    "\n",
    "for i in range(4):\n",
    "    mask = selected_country.index.isin(seasons[i])\n",
    "\n",
    "    season = selected_country[mask]\n",
    "    x = season.index\n",
    "    y = season[\"confirmed_cases\"][\"mean\"]\n",
    "    source = {\n",
    "        \"x\":x,\n",
    "        \"upper\":y + season[\"confirmed_cases\"][\"std\"],\n",
    "        \"lower\":y - season[\"confirmed_cases\"][\"std\"],\n",
    "    }\n",
    "    fig.varea(x=\"x\",y1= \"upper\", y2= \"lower\",color=colors[i],fill_alpha=0.2,source=source)\n",
    "    fig.line(x = x,y = y,legend_label=\"{} cases\".format(labels[i]),color=colors[i])\n",
    "\n",
    "\n",
    "show(fig)"
   ]
  },
  {
   "cell_type": "markdown",
   "metadata": {},
   "source": [
    "#### Uhm, since now we have 4 groups, 4 categories, what type of plots can we explore ?"
   ]
  },
  {
   "cell_type": "code",
   "execution_count": null,
   "metadata": {},
   "outputs": [],
   "source": [
    "country = \"Portugal\"\n",
    "mask = df[\"Country\"] ==country\n",
    "selected_country = df[mask]\n",
    "#No need to resample at this point."
   ]
  },
  {
   "cell_type": "code",
   "execution_count": null,
   "metadata": {},
   "outputs": [],
   "source": [
    "cases = []\n",
    "deaths = []\n",
    "for i in seasons:\n",
    "    mask = selected_country.index.isin(i)\n",
    "\n",
    "    season = selected_country[mask]\n",
    "    cases.append(season[\"confirmed_cases\"].sum())\n",
    "    deaths.append(season[\"deaths\"].sum())"
   ]
  },
  {
   "cell_type": "code",
   "execution_count": null,
   "metadata": {},
   "outputs": [],
   "source": [
    "source = ColumnDataSource(data=dict(seasons=labels, cases=cases, color=colors,deaths=deaths))\n",
    "\n",
    "p = figure(x_range=labels, plot_height=450, title=\"Cases by season\",\n",
    "           toolbar_location=None, tools=\"hover\",tooltips=\"@deaths | @cases\")\n",
    "\n",
    "p.vbar(x=\"seasons\", top=\"cases\", width=0.9,color=\"color\",legend_field=\"seasons\",source=source)\n",
    "\n",
    "p.xgrid.grid_line_color = None\n",
    "p.y_range.start = 0\n",
    "\n",
    "show(p)"
   ]
  },
  {
   "cell_type": "markdown",
   "metadata": {},
   "source": [
    "### These colors, yikes. \n",
    "\n",
    "### Cases are simply increasing, can we correlate them to seasons ?\n",
    "\n",
    "\n",
    "### No bueno, we can do better."
   ]
  },
  {
   "cell_type": "code",
   "execution_count": null,
   "metadata": {},
   "outputs": [],
   "source": [
    "source = ColumnDataSource(data= {\n",
    "    \n",
    " \"seasons\":labels,\n",
    " \"cases\":cases,\n",
    " \"deaths\":deaths\n",
    "    \n",
    "})\n",
    "\n",
    "\n",
    "categories = [\"cases\",\"deaths\"]\n",
    "\n",
    "p = figure(x_range=labels, plot_height=450, title=\"Cases by season\",\n",
    "           toolbar_location=None, tools=\"hover\",tooltips=\"$y{0.}\")\n",
    "\n",
    "p.yaxis.formatter.use_scientific = False #Alert\n",
    "\n",
    "p.vbar_stack(categories,x=\"seasons\", width=0.9,legend_label=categories,source=source,color=[\"blue\",\"red\"])\n",
    "\n",
    "p.y_range.start = 0\n",
    "p.x_range.range_padding = 0.1\n",
    "p.xgrid.grid_line_color = None\n",
    "p.axis.minor_tick_line_color = None\n",
    "p.outline_line_color = None\n",
    "p.legend.location = \"top_left\"\n",
    "p.legend.orientation = \"horizontal\"\n",
    "show(p)"
   ]
  },
  {
   "cell_type": "markdown",
   "metadata": {},
   "source": [
    "### These colors are awful. I'll let you fix that later if you want."
   ]
  },
  {
   "cell_type": "markdown",
   "metadata": {},
   "source": [
    "_______\n",
    "### Lets try and use all of the data. \n",
    "\n",
    "#### Any idea what type of plot we could use to visualize the cases per day per country ?"
   ]
  },
  {
   "cell_type": "markdown",
   "metadata": {},
   "source": [
    "First we load the data from the original file. \n",
    "\n",
    "We do this because the original dataset is already formatted in the way we need."
   ]
  },
  {
   "cell_type": "code",
   "execution_count": null,
   "metadata": {},
   "outputs": [],
   "source": [
    "data = pd.read_csv(\"https://raw.githubusercontent.com/vohcolab/PandaViz-Workshop/main/Beatnik%20Use%20case/covid_confirmed.csv\") "
   ]
  },
  {
   "cell_type": "markdown",
   "metadata": {},
   "source": [
    "Now, some necessary data manipulation."
   ]
  },
  {
   "cell_type": "code",
   "execution_count": null,
   "metadata": {},
   "outputs": [],
   "source": [
    "data = data.drop([\"Province/State\",\"Lat\",\"Long\"],axis=1)"
   ]
  },
  {
   "cell_type": "code",
   "execution_count": null,
   "metadata": {},
   "outputs": [],
   "source": [
    "data = data.groupby(\"Country/Region\").sum().reset_index().rename(columns={\"Country/Region\":\"Country\"}) "
   ]
  },
  {
   "cell_type": "code",
   "execution_count": null,
   "metadata": {},
   "outputs": [],
   "source": [
    "data.Country = data.Country.astype(str)\n",
    "data = data.set_index('Country')\n",
    "data.columns.name = 'Days'\n"
   ]
  },
  {
   "cell_type": "code",
   "execution_count": null,
   "metadata": {},
   "outputs": [],
   "source": [
    "data = data.diff(axis=1) #Get confirmed cases by day"
   ]
  },
  {
   "cell_type": "code",
   "execution_count": null,
   "metadata": {},
   "outputs": [],
   "source": [
    "data = data.fillna(0)"
   ]
  },
  {
   "cell_type": "code",
   "execution_count": null,
   "metadata": {},
   "outputs": [],
   "source": [
    "subset = data.head(10) #Select rows"
   ]
  },
  {
   "cell_type": "code",
   "execution_count": null,
   "metadata": {},
   "outputs": [],
   "source": [
    "subset = subset.iloc[:, -50:] #Select columns\n"
   ]
  },
  {
   "cell_type": "markdown",
   "metadata": {},
   "source": [
    "### Heatmap\n",
    "In this case *confirmed_cases*map\n",
    "*For more info see [here](https://docs.bokeh.org/en/latest/docs/user_guide/categorical.html)*"
   ]
  },
  {
   "cell_type": "code",
   "execution_count": null,
   "metadata": {},
   "outputs": [],
   "source": [
    "import pandas as pd\n",
    "\n",
    "from bokeh.io import output_file, show\n",
    "from bokeh.models import (BasicTicker, ColorBar, ColumnDataSource,\n",
    "                          LinearColorMapper, PrintfTickFormatter,)\n",
    "from bokeh.plotting import figure\n",
    "from bokeh.transform import transform\n",
    "from bokeh.palettes import Inferno256\n"
   ]
  },
  {
   "cell_type": "code",
   "execution_count": null,
   "metadata": {},
   "outputs": [],
   "source": [
    "\n",
    "df = pd.DataFrame(subset.stack(), columns=['cases']).reset_index()\n",
    "\n",
    "\n",
    "\n",
    "source = ColumnDataSource(df)\n",
    "\n",
    "colors = Inferno256\n",
    "mapper = LinearColorMapper(palette=colors, low=df.cases.min(), high=df.cases.max())\n",
    "\n",
    "p = figure(plot_width=1100, plot_height=700, title=\"Covid Confirmed Cases\",\n",
    "           y_range=list(subset.index), x_range=list(reversed(subset.columns)),\n",
    "            tools=\"hover,box_zoom,pan\", x_axis_location=\"above\",tooltips=\"@Country @cases at @Days\")\n",
    "\n",
    "p.rect(x=\"Days\", y=\"Country\", width=1, height=1, source=source,\n",
    "       line_color=None, fill_color=transform('cases', mapper))\n",
    "\n",
    "color_bar = ColorBar(color_mapper=mapper, location=(0, 0),\n",
    "                     ticker=BasicTicker(desired_num_ticks=10),\n",
    "                     formatter=PrintfTickFormatter(format=\"%d\"))\n",
    "\n",
    "p.add_layout(color_bar, 'right')\n",
    "\n",
    "p.axis.axis_line_color = None\n",
    "p.axis.major_tick_line_color = None\n",
    "p.axis.major_label_text_font_size = \"7px\"\n",
    "p.axis.major_label_standoff = 0\n",
    "p.xaxis.major_label_orientation = 1.0\n",
    "\n",
    "show(p)"
   ]
  }
 ],
 "metadata": {
  "kernelspec": {
   "display_name": "Python 3",
   "language": "python",
   "name": "python3"
  },
  "language_info": {
   "codemirror_mode": {
    "name": "ipython",
    "version": 3
   },
   "file_extension": ".py",
   "mimetype": "text/x-python",
   "name": "python",
   "nbconvert_exporter": "python",
   "pygments_lexer": "ipython3",
   "version": "3.8.3"
  }
 },
 "nbformat": 4,
 "nbformat_minor": 4
}
