{
 "cells": [
  {
   "cell_type": "markdown",
   "metadata": {},
   "source": [
    "##  Intro to Bokeh: Exercise notebook\n",
    "In this notebook you'll practice the following:\n",
    "* Pandas masking\n",
    "* Pandas resampling\n",
    "* Visualization with Bokeh\n",
    "    * Line plots\n",
    "    * Multi-line plots\n",
    "    * Areas\n",
    "    * Annotations\n",
    "* Replicate Beatnik Dashboard."
   ]
  },
  {
   "cell_type": "markdown",
   "metadata": {
    "deletable": false,
    "editable": false
   },
   "source": [
    "All the necessary imports and so forth"
   ]
  },
  {
   "cell_type": "code",
   "execution_count": null,
   "metadata": {
    "deletable": false,
    "editable": false
   },
   "outputs": [],
   "source": [
    "import pandas as pd\n",
    "import numpy as np"
   ]
  },
  {
   "cell_type": "markdown",
   "metadata": {
    "deletable": false,
    "editable": false
   },
   "source": [
    "## Use Case\n",
    "#### You are given data of a patient that contains several biometric data, and a nurse asks you a way to visualize the heart rate of said patient across time.\n",
    "\n"
   ]
  },
  {
   "cell_type": "markdown",
   "metadata": {
    "deletable": false,
    "editable": false
   },
   "source": [
    "This type of data can be quasi-real-time, real-time or static.\n",
    "\n",
    "In this case, we have the data of a patient that is not longer being monitored. Hence, it is already in a nice and structured csv format.\n",
    "\n",
    "We already load the data for you, and now you are to follow the nurse requirements!\n",
    "Also, keep in mind that in the real world the requirements change constantly, so expect things to change as you go!\n",
    "\n",
    "*Note* The nurse may appear to be demanding... but trust me it is still less demanding than real life nurses and clients."
   ]
  },
  {
   "cell_type": "code",
   "execution_count": null,
   "metadata": {
    "deletable": false,
    "editable": false
   },
   "outputs": [],
   "source": [
    "path = \"https://raw.githubusercontent.com/vohcolab/PandaViz-Workshop/main/Beatnik%20Use%20case/patient.csv\" #.csv file of one patient\n",
    "df = pd.read_csv(path,index_col= 0) #Inspect the csv and read the docs to undersand why we had to set the param index_col = 0\n",
    "df.index = pd.to_datetime(df.index) #Why do we need to do this?"
   ]
  },
  {
   "cell_type": "markdown",
   "metadata": {
    "deletable": false,
    "editable": false
   },
   "source": [
    "With the data loaded, you inspect the file, to understand its structure."
   ]
  },
  {
   "cell_type": "code",
   "execution_count": null,
   "metadata": {
    "deletable": false,
    "editable": false
   },
   "outputs": [],
   "source": [
    "df"
   ]
  },
  {
   "cell_type": "code",
   "execution_count": null,
   "metadata": {
    "deletable": false,
    "editable": false
   },
   "outputs": [],
   "source": [
    "df.describe()"
   ]
  },
  {
   "cell_type": "code",
   "execution_count": null,
   "metadata": {
    "deletable": false,
    "editable": false
   },
   "outputs": [],
   "source": [
    "df.info()"
   ]
  },
  {
   "cell_type": "markdown",
   "metadata": {
    "deletable": false,
    "editable": false
   },
   "source": [
    "### Exercise 1:\n",
    "##### The nurse is only interested on the heart rate field for now."
   ]
  },
  {
   "cell_type": "code",
   "execution_count": null,
   "metadata": {},
   "outputs": [],
   "source": []
  },
  {
   "cell_type": "code",
   "execution_count": null,
   "metadata": {},
   "outputs": [],
   "source": []
  },
  {
   "cell_type": "markdown",
   "metadata": {
    "deletable": false,
    "editable": false
   },
   "source": [
    "### Exercise 2\n",
    "##### The nurse does not like lists, she just wants to wants to see the max, min and average of the patients heartrate."
   ]
  },
  {
   "cell_type": "code",
   "execution_count": null,
   "metadata": {},
   "outputs": [],
   "source": []
  },
  {
   "cell_type": "markdown",
   "metadata": {
    "deletable": false,
    "editable": false
   },
   "source": [
    "### Exercise 2.1\n",
    "##### The nurse is still not happy with the results, she is saying that she should be able to see these statistics by day.\n"
   ]
  },
  {
   "cell_type": "code",
   "execution_count": null,
   "metadata": {},
   "outputs": [],
   "source": []
  },
  {
   "cell_type": "markdown",
   "metadata": {
    "deletable": false,
    "editable": false
   },
   "source": [
    "### Exercise 2.2\n",
    "##### The nurse wants to see the max, min and average of the patients heart rate by 3H but only in the last 7 days of measures"
   ]
  },
  {
   "cell_type": "code",
   "execution_count": null,
   "metadata": {},
   "outputs": [],
   "source": [
    "#Create a mask with the 7 last days of measures"
   ]
  },
  {
   "cell_type": "code",
   "execution_count": null,
   "metadata": {},
   "outputs": [],
   "source": [
    "#Use the mask, resample by 3H and get the required info"
   ]
  },
  {
   "cell_type": "markdown",
   "metadata": {
    "deletable": false,
    "editable": false
   },
   "source": [
    "### Exercise 2.3\n",
    "##### The nurse wants to see the max, min and average of the patients heart rate by 3H, but only night time (Between 23 and 8)"
   ]
  },
  {
   "cell_type": "code",
   "execution_count": null,
   "metadata": {},
   "outputs": [],
   "source": [
    "#After 23 or before 8 it is night time. Create a mask that describes that.\n"
   ]
  },
  {
   "cell_type": "code",
   "execution_count": null,
   "metadata": {},
   "outputs": [],
   "source": [
    "#Use the mask, resample by 3H and get the required info"
   ]
  },
  {
   "cell_type": "markdown",
   "metadata": {
    "deletable": false,
    "editable": false
   },
   "source": [
    "*If there are any NaNs, just drop it like its hot!*"
   ]
  },
  {
   "cell_type": "code",
   "execution_count": null,
   "metadata": {
    "deletable": false,
    "editable": false
   },
   "outputs": [],
   "source": []
  },
  {
   "cell_type": "markdown",
   "metadata": {},
   "source": [
    "## Exercise 2.4\n",
    "### The nurse now wants to see both the day time and night time, but differentiated!\n",
    "*Use 3H as the resampling size*\n",
    "\n",
    "**Note** *Technically* all you need to do is group by day and night (Period).\n",
    "\n",
    "Keep in mind that sometimes it is easier to manipulate the data and create virtual columns, than try to work directly with the data that you have."
   ]
  },
  {
   "cell_type": "code",
   "execution_count": null,
   "metadata": {},
   "outputs": [],
   "source": [
    "#To help group"
   ]
  },
  {
   "cell_type": "code",
   "execution_count": null,
   "metadata": {},
   "outputs": [],
   "source": []
  },
  {
   "cell_type": "markdown",
   "metadata": {
    "deletable": false,
    "editable": false
   },
   "source": [
    "### Exercise 3.\n",
    "#### The nurse is complaining that she takes too long to read the numbers on a table, instead she wants too see pretty lines on a plot.\n",
    "Plot only exercises 2.1 and 2.2. Use DataFrames .plot() function for this.\n",
    "\n",
    "What is your takeaway from these plots?"
   ]
  },
  {
   "cell_type": "code",
   "execution_count": null,
   "metadata": {},
   "outputs": [],
   "source": []
  },
  {
   "cell_type": "code",
   "execution_count": null,
   "metadata": {},
   "outputs": [],
   "source": []
  },
  {
   "cell_type": "markdown",
   "metadata": {
    "deletable": false,
    "editable": false
   },
   "source": [
    "### Exercise 4\n",
    "#### The nurse is enjoying the plots, but she thinks that they are a bit hard to read.  \n",
    "##### Use Bokeh to enrich these visualizations!"
   ]
  },
  {
   "cell_type": "code",
   "execution_count": null,
   "metadata": {
    "deletable": false,
    "editable": false
   },
   "outputs": [],
   "source": [
    "from bokeh.plotting import figure,show\n",
    "from bokeh.io import output_notebook\n",
    "from bokeh.models import Legend,LegendItem,Range1d,ColumnDataSource,DatetimeTickFormatter, Text,LabelSet,DateRangeSlider,HoverTool,MultiLine,LinearAxis\n",
    "from bokeh.layouts import row,column\n",
    "output_notebook()"
   ]
  },
  {
   "cell_type": "markdown",
   "metadata": {},
   "source": [
    "### Exercise 4.1\n",
    "#### The nurse only wants the mean heartrate every 3H. Plot that."
   ]
  },
  {
   "cell_type": "code",
   "execution_count": null,
   "metadata": {},
   "outputs": [],
   "source": []
  },
  {
   "cell_type": "code",
   "execution_count": null,
   "metadata": {},
   "outputs": [],
   "source": []
  },
  {
   "cell_type": "code",
   "execution_count": null,
   "metadata": {},
   "outputs": [],
   "source": [
    "fig = figure(width=800,height=500,x_axis_type=\"datetime\",x_axis_label=\"Time\",y_axis_label=\"Heartrate\")\n"
   ]
  },
  {
   "cell_type": "code",
   "execution_count": null,
   "metadata": {},
   "outputs": [],
   "source": [
    "fig.line.... #TODO"
   ]
  },
  {
   "cell_type": "code",
   "execution_count": null,
   "metadata": {},
   "outputs": [],
   "source": [
    "show(fig)"
   ]
  },
  {
   "cell_type": "markdown",
   "metadata": {
    "deletable": false,
    "editable": false
   },
   "source": [
    "### Exercise 4.2\n",
    "#### The nurse now also wants to have the standard deviation present on the plot to understand how much it varies."
   ]
  },
  {
   "cell_type": "code",
   "execution_count": null,
   "metadata": {},
   "outputs": [],
   "source": [
    " #Compute the std(ddof=1) "
   ]
  },
  {
   "cell_type": "code",
   "execution_count": null,
   "metadata": {},
   "outputs": [],
   "source": [
    "fig.line....  #Add the computed std to the plot\n"
   ]
  },
  {
   "cell_type": "code",
   "execution_count": null,
   "metadata": {},
   "outputs": [],
   "source": [
    "show(fig)"
   ]
  },
  {
   "cell_type": "markdown",
   "metadata": {
    "deletable": false,
    "editable": false
   },
   "source": [
    "## Exercise 4.3\n",
    "#### The nurse does not like the previous plot. She suggests to put the standard deviation as an area around the mean.\n",
    "*You can keep using 3 hours as your sample*"
   ]
  },
  {
   "cell_type": "code",
   "execution_count": null,
   "metadata": {},
   "outputs": [],
   "source": []
  },
  {
   "cell_type": "code",
   "execution_count": null,
   "metadata": {
    "deletable": false
   },
   "outputs": [],
   "source": [
    "interval = (mean.index.min(),mean.index.max()) #"
   ]
  },
  {
   "cell_type": "code",
   "execution_count": null,
   "metadata": {
    "deletable": false,
    "editable": false
   },
   "outputs": [],
   "source": [
    "fig = figure(width=800,height=500,x_axis_type=\"datetime\",x_axis_label=\"Time\",y_axis_label=\"Heartrate\",x_range=Range1d(start = interval[0],end=interval[1],bounds=interval)) #What is this interval for?"
   ]
  },
  {
   "cell_type": "code",
   "execution_count": null,
   "metadata": {},
   "outputs": [],
   "source": [
    "#Add the heartrate line, you know the drill by now."
   ]
  },
  {
   "cell_type": "code",
   "execution_count": null,
   "metadata": {},
   "outputs": [],
   "source": []
  },
  {
   "cell_type": "code",
   "execution_count": null,
   "metadata": {},
   "outputs": [],
   "source": [
    "#Get the upper and lower bounds of the area\n"
   ]
  },
  {
   "cell_type": "code",
   "execution_count": null,
   "metadata": {},
   "outputs": [],
   "source": [
    "fig.varea...#TODO"
   ]
  },
  {
   "cell_type": "code",
   "execution_count": null,
   "metadata": {
    "deletable": false,
    "editable": false
   },
   "outputs": [],
   "source": [
    "fig.legend.click_policy=\"hide\" #What is this for?\n",
    "show(fig)"
   ]
  },
  {
   "cell_type": "markdown",
   "metadata": {
    "deletable": false,
    "editable": false
   },
   "source": [
    "#### Free-roam ! Play around with the previous code and try to figure out what is going on and answer the following questions!\n",
    "\n",
    "1. What is that interval variable used for?\n",
    "2. What happens if you add **tools=\"\"** to the parameters of figure?\n",
    "    1. What happens if you add hover, xwheel_zoom or pan to tools?\n",
    "3. Try to change 3H to 1H, 1S, 1M, etc. Try it out and see what happens to the data and respective plots\n",
    "\n",
    "Feel free to discuss any of these questions !"
   ]
  },
  {
   "cell_type": "raw",
   "metadata": {
    "deletable": false
   },
   "source": [
    "1."
   ]
  },
  {
   "cell_type": "raw",
   "metadata": {
    "deletable": false
   },
   "source": [
    "2."
   ]
  },
  {
   "cell_type": "raw",
   "metadata": {
    "deletable": false
   },
   "source": [
    "3."
   ]
  },
  {
   "cell_type": "markdown",
   "metadata": {
    "deletable": false,
    "editable": false
   },
   "source": [
    "### Exercise 5\n",
    "#### The nurse stikes again! Now, she wants the plot to differentiate day from night! \n",
    "##### Furthermore, she is interested mostly in the last week, so no need to show everything from the get go.\n",
    "* Day  = orange\n",
    "* night = blue\n",
    "\n",
    "You can add whatever tools you might want.\n",
    "\n",
    "*Hint* : Remember the learning books about plotting multiple lines.\n",
    "\n",
    "*Another hint*: A line can only have one color. The same happens for areas (varea)"
   ]
  },
  {
   "cell_type": "markdown",
   "metadata": {},
   "source": []
  },
  {
   "cell_type": "code",
   "execution_count": null,
   "metadata": {},
   "outputs": [],
   "source": []
  },
  {
   "cell_type": "markdown",
   "metadata": {},
   "source": [
    "### Should look similar to this\n",
    "But dont forget to add whatever tools you deem necessary and improve whatever you think it should be improved!\n",
    "\n",
    "*For example, a red line when y = 120 so its easier to see if any point is above this threshold*\n",
    "\n",
    "![bokeh_plot.png](wristband_plot.png)"
   ]
  },
  {
   "cell_type": "markdown",
   "metadata": {},
   "source": [
    "### The nurse loved the plot! But you know, as they say, give an hand and they want the whole arm..\n",
    "\n"
   ]
  },
  {
   "cell_type": "markdown",
   "metadata": {},
   "source": [
    "## Exercise 6\n",
    "### The nurse now wants to see scatter plots with the bpm, diastolic and systolic fields.\n",
    "#### Each scatter should have different colors!\n",
    "\n",
    "**Note** These measures are taken once, each day."
   ]
  },
  {
   "cell_type": "code",
   "execution_count": null,
   "metadata": {},
   "outputs": [],
   "source": [
    "#Select the data that you need.\n",
    "\n",
    " #Should you drop nans?"
   ]
  },
  {
   "cell_type": "code",
   "execution_count": null,
   "metadata": {},
   "outputs": [],
   "source": [
    "fig = figure(width=800,height=500,x_axis_type=\"datetime\",x_axis_label=\"Time\",y_axis_label=\"Values\",x_range=Range1d(start = interval[0],end=interval[1],bounds=interval),tools=\"hover,save\")"
   ]
  },
  {
   "cell_type": "code",
   "execution_count": null,
   "metadata": {},
   "outputs": [],
   "source": [
    "\n"
   ]
  },
  {
   "cell_type": "code",
   "execution_count": null,
   "metadata": {},
   "outputs": [],
   "source": [
    "show(fig)"
   ]
  },
  {
   "cell_type": "markdown",
   "metadata": {},
   "source": [
    "## Exercise 6.1\n",
    "#### The nurse doesnt need to see that much samples, resample it to 2 days (2D)."
   ]
  },
  {
   "cell_type": "code",
   "execution_count": null,
   "metadata": {},
   "outputs": [],
   "source": [
    "#resample\n",
    "bpm_2D = #TODO"
   ]
  },
  {
   "cell_type": "code",
   "execution_count": null,
   "metadata": {},
   "outputs": [],
   "source": []
  },
  {
   "cell_type": "code",
   "execution_count": null,
   "metadata": {},
   "outputs": [],
   "source": [
    "#TODO"
   ]
  },
  {
   "cell_type": "code",
   "execution_count": null,
   "metadata": {},
   "outputs": [],
   "source": []
  },
  {
   "cell_type": "code",
   "execution_count": null,
   "metadata": {},
   "outputs": [],
   "source": []
  },
  {
   "cell_type": "markdown",
   "metadata": {
    "deletable": false,
    "editable": false
   },
   "source": [
    "### The nurse thinks that it's uhmm, ugly. \n",
    "She gave the following suggestions:\n",
    "* Each value should be written in the plot as [text](https://docs.bokeh.org/en/latest/docs/user_guide/annotations.html).\n",
    "* BPM values should be plotted with circles\n",
    "* Diastolic and sistolic should be an area.\n",
    "\n",
    "\n",
    "*For text annotations look for LabelSet on the link above*\n"
   ]
  },
  {
   "cell_type": "code",
   "execution_count": null,
   "metadata": {},
   "outputs": [],
   "source": [
    "bpm = bpm.resample(\"1D\").mean()\n",
    " #Change the resample value if you want."
   ]
  },
  {
   "cell_type": "code",
   "execution_count": null,
   "metadata": {},
   "outputs": [],
   "source": []
  },
  {
   "cell_type": "markdown",
   "metadata": {
    "deletable": false,
    "editable": false
   },
   "source": [
    "## Exercise 7\n",
    "### The nurse now wants to correlate the heart rate (exercise 5) with the patient activity!\n",
    "\n",
    "##### Patient activity (steps) are recorded daily at day X, with the data of day X - 1. These data is always one day late! Keep that in mind.\n",
    "\n",
    "##### Think about how you can plot the step data.\n",
    "\n",
    "*Try with different resample values*\n"
   ]
  },
  {
   "cell_type": "code",
   "execution_count": null,
   "metadata": {},
   "outputs": [],
   "source": [
    "#Select the required fields and resample as you wish.\n"
   ]
  },
  {
   "cell_type": "code",
   "execution_count": null,
   "metadata": {},
   "outputs": [],
   "source": [
    "#Compute the mean and the std.\n"
   ]
  },
  {
   "cell_type": "code",
   "execution_count": null,
   "metadata": {
    "deletable": false
   },
   "outputs": [],
   "source": [
    "#mean[\"steps\"] = mean[\"steps\"].shift(periods=...) #Steps are one day late. Shift the steps back one day. The resampling value used changes the number of shifts needed!"
   ]
  },
  {
   "cell_type": "code",
   "execution_count": null,
   "metadata": {
    "deletable": false
   },
   "outputs": [],
   "source": [
    "fig = figure(width=800,height=500,x_axis_type=\"datetime\",x_axis_label=\"Time\",y_axis_label=\"Heartrate\",tools=\"pan,hover,xwheel_zoom,reset\") #Add bounds and a initial range of the 7 past days.\n"
   ]
  },
  {
   "cell_type": "markdown",
   "metadata": {
    "deletable": false,
    "editable": false
   },
   "source": [
    "*Hint* The x axis is time hence by default the width of a vbar is measured in miliseconds, where the default value is 1. If you want a vbar to occupy a whole day, transform ms to day."
   ]
  },
  {
   "cell_type": "code",
   "execution_count": null,
   "metadata": {},
   "outputs": [],
   "source": [
    "fig.line...\n",
    "fig.vbar...\n",
    "\n",
    "\n",
    "#You are free to try other plots."
   ]
  },
  {
   "cell_type": "code",
   "execution_count": null,
   "metadata": {},
   "outputs": [],
   "source": []
  },
  {
   "cell_type": "code",
   "execution_count": null,
   "metadata": {},
   "outputs": [],
   "source": [
    "fig.legend.click_policy=\"hide\" \n",
    "fig.line(mean.index,[120 for i in range(0,len(mean.index))],color=\"red\") # Above 120\n",
    "show(fig)"
   ]
  },
  {
   "cell_type": "markdown",
   "metadata": {
    "deletable": false,
    "editable": false
   },
   "source": [
    "*Hint* You are plotting measures with different ranges. Do not forget to normalize/standardize the steps, else the plot will be too hard to read!"
   ]
  },
  {
   "cell_type": "markdown",
   "metadata": {
    "deletable": false,
    "editable": false
   },
   "source": [
    "## Free roam !\n",
    "##### What would you improve here?\n",
    "##### Do you think this plot is any good for the nurse or doctors?\n",
    "##### How can you help the nurses work so that she/he can give better assistance to his/her patient?w\n",
    "##### How can you integrate the rest of the data ? \n",
    "##### There are more plots in the dashboard, can you do them ? Furthermore, can you [connect](https://docs.bokeh.org/en/latest/docs/user_guide/interaction/linking.html) them in any way? \n",
    "\n",
    "*Hints* For multiple plots you can use [layouts](https://docs.bokeh.org/en/latest/docs/user_guide/layout.html). You can place plots or any other Bokeh glyph in columns and rows, etc. "
   ]
  },
  {
   "cell_type": "code",
   "execution_count": null,
   "metadata": {},
   "outputs": [],
   "source": []
  },
  {
   "cell_type": "code",
   "execution_count": null,
   "metadata": {},
   "outputs": [],
   "source": []
  }
 ],
 "metadata": {
  "kernelspec": {
   "display_name": "Python 3",
   "language": "python",
   "name": "python3"
  },
  "language_info": {
   "codemirror_mode": {
    "name": "ipython",
    "version": 3
   },
   "file_extension": ".py",
   "mimetype": "text/x-python",
   "name": "python",
   "nbconvert_exporter": "python",
   "pygments_lexer": "ipython3",
   "version": "3.8.3"
  }
 },
 "nbformat": 4,
 "nbformat_minor": 4
}
