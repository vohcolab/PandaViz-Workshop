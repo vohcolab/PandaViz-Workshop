{
 "cells": [
  {
   "cell_type": "markdown",
   "metadata": {},
   "source": [
    "# Learning Module - Bokeh\n",
    "\n",
    "### Here we will show you how to use some of the basic functionalities of Bokeh, a python visualization library.\n",
    "Keep in mind that there are several other libraries, each one with their own pros and cons, and, as of now, none of them can be classified as the best overall.\n",
    "\n",
    "Bokeh, Plotly and Matplotlib are the most well known in data visualization but there's more.\n",
    "\n",
    "Some of these can be used to create rich and interactive visualizations that can be server directly to the end-user in a web-page (Bokeh is one of them)\n",
    "\n",
    "Bokeh is open-source, which means that you can see how it is built, and you can also help built it!"
   ]
  },
  {
   "cell_type": "markdown",
   "metadata": {},
   "source": [
    "## Data !\n",
    "\n",
    "Let's use some covid data taken from the Jonh Hopkin's University."
   ]
  },
  {
   "cell_type": "code",
   "execution_count": 2,
   "metadata": {},
   "outputs": [],
   "source": [
    "import pandas as pd"
   ]
  },
  {
   "cell_type": "code",
   "execution_count": 28,
   "metadata": {},
   "outputs": [],
   "source": [
    "df = pd.read_csv(\"covid19data_cleaned.csv\")"
   ]
  },
  {
   "cell_type": "code",
   "execution_count": 29,
   "metadata": {},
   "outputs": [],
   "source": [
    "cumusum = df.groupby(\"Country\").sum()"
   ]
  },
  {
   "cell_type": "code",
   "execution_count": 32,
   "metadata": {},
   "outputs": [],
   "source": [
    "from bokeh.io import output_file, show\n",
    "from bokeh.palettes import Category20c\n",
    "from bokeh.plotting import figure\n",
    "from bokeh.transform import cumsum\n",
    "from bokeh.io import output_notebook\n",
    "\n",
    "from math import pi\n",
    "\n"
   ]
  },
  {
   "cell_type": "markdown",
   "metadata": {},
   "source": [
    "Run this so that the plots are shown here"
   ]
  },
  {
   "cell_type": "code",
   "execution_count": 33,
   "metadata": {},
   "outputs": [
    {
     "data": {
      "text/html": [
       "\n",
       "    <div class=\"bk-root\">\n",
       "        <a href=\"https://bokeh.org\" target=\"_blank\" class=\"bk-logo bk-logo-small bk-logo-notebook\"></a>\n",
       "        <span id=\"1024\">Loading BokehJS ...</span>\n",
       "    </div>"
      ]
     },
     "metadata": {},
     "output_type": "display_data"
    },
    {
     "data": {
      "application/javascript": [
       "\n",
       "(function(root) {\n",
       "  function now() {\n",
       "    return new Date();\n",
       "  }\n",
       "\n",
       "  var force = true;\n",
       "\n",
       "  if (typeof root._bokeh_onload_callbacks === \"undefined\" || force === true) {\n",
       "    root._bokeh_onload_callbacks = [];\n",
       "    root._bokeh_is_loading = undefined;\n",
       "  }\n",
       "\n",
       "  var JS_MIME_TYPE = 'application/javascript';\n",
       "  var HTML_MIME_TYPE = 'text/html';\n",
       "  var EXEC_MIME_TYPE = 'application/vnd.bokehjs_exec.v0+json';\n",
       "  var CLASS_NAME = 'output_bokeh rendered_html';\n",
       "\n",
       "  /**\n",
       "   * Render data to the DOM node\n",
       "   */\n",
       "  function render(props, node) {\n",
       "    var script = document.createElement(\"script\");\n",
       "    node.appendChild(script);\n",
       "  }\n",
       "\n",
       "  /**\n",
       "   * Handle when an output is cleared or removed\n",
       "   */\n",
       "  function handleClearOutput(event, handle) {\n",
       "    var cell = handle.cell;\n",
       "\n",
       "    var id = cell.output_area._bokeh_element_id;\n",
       "    var server_id = cell.output_area._bokeh_server_id;\n",
       "    // Clean up Bokeh references\n",
       "    if (id != null && id in Bokeh.index) {\n",
       "      Bokeh.index[id].model.document.clear();\n",
       "      delete Bokeh.index[id];\n",
       "    }\n",
       "\n",
       "    if (server_id !== undefined) {\n",
       "      // Clean up Bokeh references\n",
       "      var cmd = \"from bokeh.io.state import curstate; print(curstate().uuid_to_server['\" + server_id + \"'].get_sessions()[0].document.roots[0]._id)\";\n",
       "      cell.notebook.kernel.execute(cmd, {\n",
       "        iopub: {\n",
       "          output: function(msg) {\n",
       "            var id = msg.content.text.trim();\n",
       "            if (id in Bokeh.index) {\n",
       "              Bokeh.index[id].model.document.clear();\n",
       "              delete Bokeh.index[id];\n",
       "            }\n",
       "          }\n",
       "        }\n",
       "      });\n",
       "      // Destroy server and session\n",
       "      var cmd = \"import bokeh.io.notebook as ion; ion.destroy_server('\" + server_id + \"')\";\n",
       "      cell.notebook.kernel.execute(cmd);\n",
       "    }\n",
       "  }\n",
       "\n",
       "  /**\n",
       "   * Handle when a new output is added\n",
       "   */\n",
       "  function handleAddOutput(event, handle) {\n",
       "    var output_area = handle.output_area;\n",
       "    var output = handle.output;\n",
       "\n",
       "    // limit handleAddOutput to display_data with EXEC_MIME_TYPE content only\n",
       "    if ((output.output_type != \"display_data\") || (!output.data.hasOwnProperty(EXEC_MIME_TYPE))) {\n",
       "      return\n",
       "    }\n",
       "\n",
       "    var toinsert = output_area.element.find(\".\" + CLASS_NAME.split(' ')[0]);\n",
       "\n",
       "    if (output.metadata[EXEC_MIME_TYPE][\"id\"] !== undefined) {\n",
       "      toinsert[toinsert.length - 1].firstChild.textContent = output.data[JS_MIME_TYPE];\n",
       "      // store reference to embed id on output_area\n",
       "      output_area._bokeh_element_id = output.metadata[EXEC_MIME_TYPE][\"id\"];\n",
       "    }\n",
       "    if (output.metadata[EXEC_MIME_TYPE][\"server_id\"] !== undefined) {\n",
       "      var bk_div = document.createElement(\"div\");\n",
       "      bk_div.innerHTML = output.data[HTML_MIME_TYPE];\n",
       "      var script_attrs = bk_div.children[0].attributes;\n",
       "      for (var i = 0; i < script_attrs.length; i++) {\n",
       "        toinsert[toinsert.length - 1].firstChild.setAttribute(script_attrs[i].name, script_attrs[i].value);\n",
       "        toinsert[toinsert.length - 1].firstChild.textContent = bk_div.children[0].textContent\n",
       "      }\n",
       "      // store reference to server id on output_area\n",
       "      output_area._bokeh_server_id = output.metadata[EXEC_MIME_TYPE][\"server_id\"];\n",
       "    }\n",
       "  }\n",
       "\n",
       "  function register_renderer(events, OutputArea) {\n",
       "\n",
       "    function append_mime(data, metadata, element) {\n",
       "      // create a DOM node to render to\n",
       "      var toinsert = this.create_output_subarea(\n",
       "        metadata,\n",
       "        CLASS_NAME,\n",
       "        EXEC_MIME_TYPE\n",
       "      );\n",
       "      this.keyboard_manager.register_events(toinsert);\n",
       "      // Render to node\n",
       "      var props = {data: data, metadata: metadata[EXEC_MIME_TYPE]};\n",
       "      render(props, toinsert[toinsert.length - 1]);\n",
       "      element.append(toinsert);\n",
       "      return toinsert\n",
       "    }\n",
       "\n",
       "    /* Handle when an output is cleared or removed */\n",
       "    events.on('clear_output.CodeCell', handleClearOutput);\n",
       "    events.on('delete.Cell', handleClearOutput);\n",
       "\n",
       "    /* Handle when a new output is added */\n",
       "    events.on('output_added.OutputArea', handleAddOutput);\n",
       "\n",
       "    /**\n",
       "     * Register the mime type and append_mime function with output_area\n",
       "     */\n",
       "    OutputArea.prototype.register_mime_type(EXEC_MIME_TYPE, append_mime, {\n",
       "      /* Is output safe? */\n",
       "      safe: true,\n",
       "      /* Index of renderer in `output_area.display_order` */\n",
       "      index: 0\n",
       "    });\n",
       "  }\n",
       "\n",
       "  // register the mime type if in Jupyter Notebook environment and previously unregistered\n",
       "  if (root.Jupyter !== undefined) {\n",
       "    var events = require('base/js/events');\n",
       "    var OutputArea = require('notebook/js/outputarea').OutputArea;\n",
       "\n",
       "    if (OutputArea.prototype.mime_types().indexOf(EXEC_MIME_TYPE) == -1) {\n",
       "      register_renderer(events, OutputArea);\n",
       "    }\n",
       "  }\n",
       "\n",
       "  \n",
       "  if (typeof (root._bokeh_timeout) === \"undefined\" || force === true) {\n",
       "    root._bokeh_timeout = Date.now() + 5000;\n",
       "    root._bokeh_failed_load = false;\n",
       "  }\n",
       "\n",
       "  var NB_LOAD_WARNING = {'data': {'text/html':\n",
       "     \"<div style='background-color: #fdd'>\\n\"+\n",
       "     \"<p>\\n\"+\n",
       "     \"BokehJS does not appear to have successfully loaded. If loading BokehJS from CDN, this \\n\"+\n",
       "     \"may be due to a slow or bad network connection. Possible fixes:\\n\"+\n",
       "     \"</p>\\n\"+\n",
       "     \"<ul>\\n\"+\n",
       "     \"<li>re-rerun `output_notebook()` to attempt to load from CDN again, or</li>\\n\"+\n",
       "     \"<li>use INLINE resources instead, as so:</li>\\n\"+\n",
       "     \"</ul>\\n\"+\n",
       "     \"<code>\\n\"+\n",
       "     \"from bokeh.resources import INLINE\\n\"+\n",
       "     \"output_notebook(resources=INLINE)\\n\"+\n",
       "     \"</code>\\n\"+\n",
       "     \"</div>\"}};\n",
       "\n",
       "  function display_loaded() {\n",
       "    var el = document.getElementById(\"1024\");\n",
       "    if (el != null) {\n",
       "      el.textContent = \"BokehJS is loading...\";\n",
       "    }\n",
       "    if (root.Bokeh !== undefined) {\n",
       "      if (el != null) {\n",
       "        el.textContent = \"BokehJS \" + root.Bokeh.version + \" successfully loaded.\";\n",
       "      }\n",
       "    } else if (Date.now() < root._bokeh_timeout) {\n",
       "      setTimeout(display_loaded, 100)\n",
       "    }\n",
       "  }\n",
       "\n",
       "\n",
       "  function run_callbacks() {\n",
       "    try {\n",
       "      root._bokeh_onload_callbacks.forEach(function(callback) {\n",
       "        if (callback != null)\n",
       "          callback();\n",
       "      });\n",
       "    } finally {\n",
       "      delete root._bokeh_onload_callbacks\n",
       "    }\n",
       "    console.debug(\"Bokeh: all callbacks have finished\");\n",
       "  }\n",
       "\n",
       "  function load_libs(css_urls, js_urls, callback) {\n",
       "    if (css_urls == null) css_urls = [];\n",
       "    if (js_urls == null) js_urls = [];\n",
       "\n",
       "    root._bokeh_onload_callbacks.push(callback);\n",
       "    if (root._bokeh_is_loading > 0) {\n",
       "      console.debug(\"Bokeh: BokehJS is being loaded, scheduling callback at\", now());\n",
       "      return null;\n",
       "    }\n",
       "    if (js_urls == null || js_urls.length === 0) {\n",
       "      run_callbacks();\n",
       "      return null;\n",
       "    }\n",
       "    console.debug(\"Bokeh: BokehJS not loaded, scheduling load and callback at\", now());\n",
       "    root._bokeh_is_loading = css_urls.length + js_urls.length;\n",
       "\n",
       "    function on_load() {\n",
       "      root._bokeh_is_loading--;\n",
       "      if (root._bokeh_is_loading === 0) {\n",
       "        console.debug(\"Bokeh: all BokehJS libraries/stylesheets loaded\");\n",
       "        run_callbacks()\n",
       "      }\n",
       "    }\n",
       "\n",
       "    function on_error() {\n",
       "      console.error(\"failed to load \" + url);\n",
       "    }\n",
       "\n",
       "    for (var i = 0; i < css_urls.length; i++) {\n",
       "      var url = css_urls[i];\n",
       "      const element = document.createElement(\"link\");\n",
       "      element.onload = on_load;\n",
       "      element.onerror = on_error;\n",
       "      element.rel = \"stylesheet\";\n",
       "      element.type = \"text/css\";\n",
       "      element.href = url;\n",
       "      console.debug(\"Bokeh: injecting link tag for BokehJS stylesheet: \", url);\n",
       "      document.body.appendChild(element);\n",
       "    }\n",
       "\n",
       "    const hashes = {\"https://cdn.bokeh.org/bokeh/release/bokeh-2.2.3.min.js\": \"T2yuo9Oe71Cz/I4X9Ac5+gpEa5a8PpJCDlqKYO0CfAuEszu1JrXLl8YugMqYe3sM\", \"https://cdn.bokeh.org/bokeh/release/bokeh-widgets-2.2.3.min.js\": \"98GDGJ0kOMCUMUePhksaQ/GYgB3+NH9h996V88sh3aOiUNX3N+fLXAtry6xctSZ6\", \"https://cdn.bokeh.org/bokeh/release/bokeh-tables-2.2.3.min.js\": \"89bArO+nlbP3sgakeHjCo1JYxYR5wufVgA3IbUvDY+K7w4zyxJqssu7wVnfeKCq8\"};\n",
       "\n",
       "    for (var i = 0; i < js_urls.length; i++) {\n",
       "      var url = js_urls[i];\n",
       "      var element = document.createElement('script');\n",
       "      element.onload = on_load;\n",
       "      element.onerror = on_error;\n",
       "      element.async = false;\n",
       "      element.src = url;\n",
       "      if (url in hashes) {\n",
       "        element.crossOrigin = \"anonymous\";\n",
       "        element.integrity = \"sha384-\" + hashes[url];\n",
       "      }\n",
       "      console.debug(\"Bokeh: injecting script tag for BokehJS library: \", url);\n",
       "      document.head.appendChild(element);\n",
       "    }\n",
       "  };\n",
       "\n",
       "  function inject_raw_css(css) {\n",
       "    const element = document.createElement(\"style\");\n",
       "    element.appendChild(document.createTextNode(css));\n",
       "    document.body.appendChild(element);\n",
       "  }\n",
       "\n",
       "  \n",
       "  var js_urls = [\"https://cdn.bokeh.org/bokeh/release/bokeh-2.2.3.min.js\", \"https://cdn.bokeh.org/bokeh/release/bokeh-widgets-2.2.3.min.js\", \"https://cdn.bokeh.org/bokeh/release/bokeh-tables-2.2.3.min.js\"];\n",
       "  var css_urls = [];\n",
       "  \n",
       "\n",
       "  var inline_js = [\n",
       "    function(Bokeh) {\n",
       "      Bokeh.set_log_level(\"info\");\n",
       "    },\n",
       "    function(Bokeh) {\n",
       "    \n",
       "    \n",
       "    }\n",
       "  ];\n",
       "\n",
       "  function run_inline_js() {\n",
       "    \n",
       "    if (root.Bokeh !== undefined || force === true) {\n",
       "      \n",
       "    for (var i = 0; i < inline_js.length; i++) {\n",
       "      inline_js[i].call(root, root.Bokeh);\n",
       "    }\n",
       "    if (force === true) {\n",
       "        display_loaded();\n",
       "      }} else if (Date.now() < root._bokeh_timeout) {\n",
       "      setTimeout(run_inline_js, 100);\n",
       "    } else if (!root._bokeh_failed_load) {\n",
       "      console.log(\"Bokeh: BokehJS failed to load within specified timeout.\");\n",
       "      root._bokeh_failed_load = true;\n",
       "    } else if (force !== true) {\n",
       "      var cell = $(document.getElementById(\"1024\")).parents('.cell').data().cell;\n",
       "      cell.output_area.append_execute_result(NB_LOAD_WARNING)\n",
       "    }\n",
       "\n",
       "  }\n",
       "\n",
       "  if (root._bokeh_is_loading === 0) {\n",
       "    console.debug(\"Bokeh: BokehJS loaded, going straight to plotting\");\n",
       "    run_inline_js();\n",
       "  } else {\n",
       "    load_libs(css_urls, js_urls, function() {\n",
       "      console.debug(\"Bokeh: BokehJS plotting callback run at\", now());\n",
       "      run_inline_js();\n",
       "    });\n",
       "  }\n",
       "}(window));"
      ],
      "application/vnd.bokehjs_load.v0+json": "\n(function(root) {\n  function now() {\n    return new Date();\n  }\n\n  var force = true;\n\n  if (typeof root._bokeh_onload_callbacks === \"undefined\" || force === true) {\n    root._bokeh_onload_callbacks = [];\n    root._bokeh_is_loading = undefined;\n  }\n\n  \n\n  \n  if (typeof (root._bokeh_timeout) === \"undefined\" || force === true) {\n    root._bokeh_timeout = Date.now() + 5000;\n    root._bokeh_failed_load = false;\n  }\n\n  var NB_LOAD_WARNING = {'data': {'text/html':\n     \"<div style='background-color: #fdd'>\\n\"+\n     \"<p>\\n\"+\n     \"BokehJS does not appear to have successfully loaded. If loading BokehJS from CDN, this \\n\"+\n     \"may be due to a slow or bad network connection. Possible fixes:\\n\"+\n     \"</p>\\n\"+\n     \"<ul>\\n\"+\n     \"<li>re-rerun `output_notebook()` to attempt to load from CDN again, or</li>\\n\"+\n     \"<li>use INLINE resources instead, as so:</li>\\n\"+\n     \"</ul>\\n\"+\n     \"<code>\\n\"+\n     \"from bokeh.resources import INLINE\\n\"+\n     \"output_notebook(resources=INLINE)\\n\"+\n     \"</code>\\n\"+\n     \"</div>\"}};\n\n  function display_loaded() {\n    var el = document.getElementById(\"1024\");\n    if (el != null) {\n      el.textContent = \"BokehJS is loading...\";\n    }\n    if (root.Bokeh !== undefined) {\n      if (el != null) {\n        el.textContent = \"BokehJS \" + root.Bokeh.version + \" successfully loaded.\";\n      }\n    } else if (Date.now() < root._bokeh_timeout) {\n      setTimeout(display_loaded, 100)\n    }\n  }\n\n\n  function run_callbacks() {\n    try {\n      root._bokeh_onload_callbacks.forEach(function(callback) {\n        if (callback != null)\n          callback();\n      });\n    } finally {\n      delete root._bokeh_onload_callbacks\n    }\n    console.debug(\"Bokeh: all callbacks have finished\");\n  }\n\n  function load_libs(css_urls, js_urls, callback) {\n    if (css_urls == null) css_urls = [];\n    if (js_urls == null) js_urls = [];\n\n    root._bokeh_onload_callbacks.push(callback);\n    if (root._bokeh_is_loading > 0) {\n      console.debug(\"Bokeh: BokehJS is being loaded, scheduling callback at\", now());\n      return null;\n    }\n    if (js_urls == null || js_urls.length === 0) {\n      run_callbacks();\n      return null;\n    }\n    console.debug(\"Bokeh: BokehJS not loaded, scheduling load and callback at\", now());\n    root._bokeh_is_loading = css_urls.length + js_urls.length;\n\n    function on_load() {\n      root._bokeh_is_loading--;\n      if (root._bokeh_is_loading === 0) {\n        console.debug(\"Bokeh: all BokehJS libraries/stylesheets loaded\");\n        run_callbacks()\n      }\n    }\n\n    function on_error() {\n      console.error(\"failed to load \" + url);\n    }\n\n    for (var i = 0; i < css_urls.length; i++) {\n      var url = css_urls[i];\n      const element = document.createElement(\"link\");\n      element.onload = on_load;\n      element.onerror = on_error;\n      element.rel = \"stylesheet\";\n      element.type = \"text/css\";\n      element.href = url;\n      console.debug(\"Bokeh: injecting link tag for BokehJS stylesheet: \", url);\n      document.body.appendChild(element);\n    }\n\n    const hashes = {\"https://cdn.bokeh.org/bokeh/release/bokeh-2.2.3.min.js\": \"T2yuo9Oe71Cz/I4X9Ac5+gpEa5a8PpJCDlqKYO0CfAuEszu1JrXLl8YugMqYe3sM\", \"https://cdn.bokeh.org/bokeh/release/bokeh-widgets-2.2.3.min.js\": \"98GDGJ0kOMCUMUePhksaQ/GYgB3+NH9h996V88sh3aOiUNX3N+fLXAtry6xctSZ6\", \"https://cdn.bokeh.org/bokeh/release/bokeh-tables-2.2.3.min.js\": \"89bArO+nlbP3sgakeHjCo1JYxYR5wufVgA3IbUvDY+K7w4zyxJqssu7wVnfeKCq8\"};\n\n    for (var i = 0; i < js_urls.length; i++) {\n      var url = js_urls[i];\n      var element = document.createElement('script');\n      element.onload = on_load;\n      element.onerror = on_error;\n      element.async = false;\n      element.src = url;\n      if (url in hashes) {\n        element.crossOrigin = \"anonymous\";\n        element.integrity = \"sha384-\" + hashes[url];\n      }\n      console.debug(\"Bokeh: injecting script tag for BokehJS library: \", url);\n      document.head.appendChild(element);\n    }\n  };\n\n  function inject_raw_css(css) {\n    const element = document.createElement(\"style\");\n    element.appendChild(document.createTextNode(css));\n    document.body.appendChild(element);\n  }\n\n  \n  var js_urls = [\"https://cdn.bokeh.org/bokeh/release/bokeh-2.2.3.min.js\", \"https://cdn.bokeh.org/bokeh/release/bokeh-widgets-2.2.3.min.js\", \"https://cdn.bokeh.org/bokeh/release/bokeh-tables-2.2.3.min.js\"];\n  var css_urls = [];\n  \n\n  var inline_js = [\n    function(Bokeh) {\n      Bokeh.set_log_level(\"info\");\n    },\n    function(Bokeh) {\n    \n    \n    }\n  ];\n\n  function run_inline_js() {\n    \n    if (root.Bokeh !== undefined || force === true) {\n      \n    for (var i = 0; i < inline_js.length; i++) {\n      inline_js[i].call(root, root.Bokeh);\n    }\n    if (force === true) {\n        display_loaded();\n      }} else if (Date.now() < root._bokeh_timeout) {\n      setTimeout(run_inline_js, 100);\n    } else if (!root._bokeh_failed_load) {\n      console.log(\"Bokeh: BokehJS failed to load within specified timeout.\");\n      root._bokeh_failed_load = true;\n    } else if (force !== true) {\n      var cell = $(document.getElementById(\"1024\")).parents('.cell').data().cell;\n      cell.output_area.append_execute_result(NB_LOAD_WARNING)\n    }\n\n  }\n\n  if (root._bokeh_is_loading === 0) {\n    console.debug(\"Bokeh: BokehJS loaded, going straight to plotting\");\n    run_inline_js();\n  } else {\n    load_libs(css_urls, js_urls, function() {\n      console.debug(\"Bokeh: BokehJS plotting callback run at\", now());\n      run_inline_js();\n    });\n  }\n}(window));"
     },
     "metadata": {},
     "output_type": "display_data"
    }
   ],
   "source": [
    "output_notebook()"
   ]
  },
  {
   "cell_type": "markdown",
   "metadata": {},
   "source": [
    "## Ya'll like pies?\n",
    "#### Everybody likes pies. That was retorical.\n",
    "*I dont remember the last time I had one thou*"
   ]
  },
  {
   "cell_type": "code",
   "execution_count": 50,
   "metadata": {},
   "outputs": [],
   "source": [
    "n = 15"
   ]
  },
  {
   "cell_type": "code",
   "execution_count": 51,
   "metadata": {},
   "outputs": [],
   "source": [
    "n_largest = cumusum[\"confirmed_cases\"].nlargest(n)\n"
   ]
  },
  {
   "cell_type": "markdown",
   "metadata": {},
   "source": [
    "We need data for the pie. \n",
    "\n",
    "Let us setup the recipe first."
   ]
  },
  {
   "cell_type": "code",
   "execution_count": 52,
   "metadata": {},
   "outputs": [],
   "source": [
    "data = pd.Series(n_largest).reset_index(name='value').rename(columns={'index':'Country'})\n",
    "data['angle'] = data['value']/data['value'].sum() * 2*pi\n",
    "data['color'] = Category20c[n]"
   ]
  },
  {
   "cell_type": "code",
   "execution_count": 53,
   "metadata": {},
   "outputs": [
    {
     "data": {
      "text/html": [
       "<div>\n",
       "<style scoped>\n",
       "    .dataframe tbody tr th:only-of-type {\n",
       "        vertical-align: middle;\n",
       "    }\n",
       "\n",
       "    .dataframe tbody tr th {\n",
       "        vertical-align: top;\n",
       "    }\n",
       "\n",
       "    .dataframe thead th {\n",
       "        text-align: right;\n",
       "    }\n",
       "</style>\n",
       "<table border=\"1\" class=\"dataframe\">\n",
       "  <thead>\n",
       "    <tr style=\"text-align: right;\">\n",
       "      <th></th>\n",
       "      <th>Country</th>\n",
       "      <th>value</th>\n",
       "      <th>angle</th>\n",
       "      <th>color</th>\n",
       "    </tr>\n",
       "  </thead>\n",
       "  <tbody>\n",
       "    <tr>\n",
       "      <th>0</th>\n",
       "      <td>US</td>\n",
       "      <td>11202979.0</td>\n",
       "      <td>1.723609</td>\n",
       "      <td>#3182bd</td>\n",
       "    </tr>\n",
       "    <tr>\n",
       "      <th>1</th>\n",
       "      <td>India</td>\n",
       "      <td>8873541.0</td>\n",
       "      <td>1.365219</td>\n",
       "      <td>#6baed6</td>\n",
       "    </tr>\n",
       "    <tr>\n",
       "      <th>2</th>\n",
       "      <td>Brazil</td>\n",
       "      <td>5876464.0</td>\n",
       "      <td>0.904110</td>\n",
       "      <td>#9ecae1</td>\n",
       "    </tr>\n",
       "    <tr>\n",
       "      <th>3</th>\n",
       "      <td>France</td>\n",
       "      <td>2041293.0</td>\n",
       "      <td>0.314059</td>\n",
       "      <td>#c6dbef</td>\n",
       "    </tr>\n",
       "    <tr>\n",
       "      <th>4</th>\n",
       "      <td>Russia</td>\n",
       "      <td>1932711.0</td>\n",
       "      <td>0.297353</td>\n",
       "      <td>#e6550d</td>\n",
       "    </tr>\n",
       "    <tr>\n",
       "      <th>5</th>\n",
       "      <td>Spain</td>\n",
       "      <td>1496864.0</td>\n",
       "      <td>0.230297</td>\n",
       "      <td>#fd8d3c</td>\n",
       "    </tr>\n",
       "    <tr>\n",
       "      <th>6</th>\n",
       "      <td>United Kingdom</td>\n",
       "      <td>1394299.0</td>\n",
       "      <td>0.214517</td>\n",
       "      <td>#fdae6b</td>\n",
       "    </tr>\n",
       "    <tr>\n",
       "      <th>7</th>\n",
       "      <td>Argentina</td>\n",
       "      <td>1318384.0</td>\n",
       "      <td>0.202837</td>\n",
       "      <td>#fdd0a2</td>\n",
       "    </tr>\n",
       "    <tr>\n",
       "      <th>8</th>\n",
       "      <td>Italy</td>\n",
       "      <td>1205881.0</td>\n",
       "      <td>0.185528</td>\n",
       "      <td>#31a354</td>\n",
       "    </tr>\n",
       "    <tr>\n",
       "      <th>9</th>\n",
       "      <td>Colombia</td>\n",
       "      <td>1205217.0</td>\n",
       "      <td>0.185426</td>\n",
       "      <td>#74c476</td>\n",
       "    </tr>\n",
       "    <tr>\n",
       "      <th>10</th>\n",
       "      <td>Mexico</td>\n",
       "      <td>1009396.0</td>\n",
       "      <td>0.155298</td>\n",
       "      <td>#a1d99b</td>\n",
       "    </tr>\n",
       "    <tr>\n",
       "      <th>11</th>\n",
       "      <td>Peru</td>\n",
       "      <td>937011.0</td>\n",
       "      <td>0.144162</td>\n",
       "      <td>#c7e9c0</td>\n",
       "    </tr>\n",
       "    <tr>\n",
       "      <th>12</th>\n",
       "      <td>Germany</td>\n",
       "      <td>817526.0</td>\n",
       "      <td>0.125779</td>\n",
       "      <td>#756bb1</td>\n",
       "    </tr>\n",
       "    <tr>\n",
       "      <th>13</th>\n",
       "      <td>Iran</td>\n",
       "      <td>775121.0</td>\n",
       "      <td>0.119254</td>\n",
       "      <td>#9e9ac8</td>\n",
       "    </tr>\n",
       "    <tr>\n",
       "      <th>14</th>\n",
       "      <td>South Africa</td>\n",
       "      <td>752269.0</td>\n",
       "      <td>0.115739</td>\n",
       "      <td>#bcbddc</td>\n",
       "    </tr>\n",
       "  </tbody>\n",
       "</table>\n",
       "</div>"
      ],
      "text/plain": [
       "           Country       value     angle    color\n",
       "0               US  11202979.0  1.723609  #3182bd\n",
       "1            India   8873541.0  1.365219  #6baed6\n",
       "2           Brazil   5876464.0  0.904110  #9ecae1\n",
       "3           France   2041293.0  0.314059  #c6dbef\n",
       "4           Russia   1932711.0  0.297353  #e6550d\n",
       "5            Spain   1496864.0  0.230297  #fd8d3c\n",
       "6   United Kingdom   1394299.0  0.214517  #fdae6b\n",
       "7        Argentina   1318384.0  0.202837  #fdd0a2\n",
       "8            Italy   1205881.0  0.185528  #31a354\n",
       "9         Colombia   1205217.0  0.185426  #74c476\n",
       "10          Mexico   1009396.0  0.155298  #a1d99b\n",
       "11            Peru    937011.0  0.144162  #c7e9c0\n",
       "12         Germany    817526.0  0.125779  #756bb1\n",
       "13            Iran    775121.0  0.119254  #9e9ac8\n",
       "14    South Africa    752269.0  0.115739  #bcbddc"
      ]
     },
     "execution_count": 53,
     "metadata": {},
     "output_type": "execute_result"
    }
   ],
   "source": [
    "data"
   ]
  },
  {
   "cell_type": "markdown",
   "metadata": {},
   "source": [
    "### Pie Chart!\n",
    "\n",
    "#### Not an actual pie, I am sorry."
   ]
  },
  {
   "cell_type": "code",
   "execution_count": 58,
   "metadata": {},
   "outputs": [
    {
     "data": {
      "text/html": [
       "\n",
       "\n",
       "\n",
       "\n",
       "\n",
       "\n",
       "  <div class=\"bk-root\" id=\"fd6107f6-146e-4013-9d3f-6721168782db\" data-root-id=\"2150\"></div>\n"
      ]
     },
     "metadata": {},
     "output_type": "display_data"
    },
    {
     "data": {
      "application/javascript": [
       "(function(root) {\n",
       "  function embed_document(root) {\n",
       "    \n",
       "  var docs_json = {\"69be0cdd-ff54-49a6-a8c4-0ed6c7744deb\":{\"roots\":{\"references\":[{\"attributes\":{\"below\":[{\"id\":\"2161\"}],\"center\":[{\"id\":\"2164\"},{\"id\":\"2168\"},{\"id\":\"2187\"}],\"left\":[{\"id\":\"2165\"}],\"plot_height\":350,\"renderers\":[{\"id\":\"2178\"}],\"title\":{\"id\":\"2151\"},\"toolbar\":{\"id\":\"2170\"},\"toolbar_location\":null,\"x_range\":{\"id\":\"2153\"},\"x_scale\":{\"id\":\"2157\"},\"y_range\":{\"id\":\"2155\"},\"y_scale\":{\"id\":\"2159\"}},\"id\":\"2150\",\"subtype\":\"Figure\",\"type\":\"Plot\"},{\"attributes\":{},\"id\":\"2186\",\"type\":\"Selection\"},{\"attributes\":{\"items\":[{\"id\":\"2188\"}]},\"id\":\"2187\",\"type\":\"Legend\"},{\"attributes\":{},\"id\":\"2181\",\"type\":\"BasicTickFormatter\"},{\"attributes\":{\"label\":{\"field\":\"Country\"},\"renderers\":[{\"id\":\"2178\"}]},\"id\":\"2188\",\"type\":\"LegendItem\"},{\"attributes\":{\"end_angle\":{\"expr\":{\"id\":\"2173\"},\"units\":\"rad\"},\"fill_color\":{\"field\":\"color\"},\"line_color\":{\"value\":\"white\"},\"radius\":{\"units\":\"data\",\"value\":0.4},\"start_angle\":{\"expr\":{\"id\":\"2172\"},\"units\":\"rad\"},\"x\":{\"value\":0},\"y\":{\"value\":1}},\"id\":\"2176\",\"type\":\"Wedge\"},{\"attributes\":{\"callback\":null,\"tooltips\":\"@Country: @value\"},\"id\":\"2169\",\"type\":\"HoverTool\"},{\"attributes\":{\"field\":\"angle\"},\"id\":\"2173\",\"type\":\"CumSum\"},{\"attributes\":{\"field\":\"angle\",\"include_zero\":true},\"id\":\"2172\",\"type\":\"CumSum\"},{\"attributes\":{\"start\":-0.5},\"id\":\"2153\",\"type\":\"Range1d\"},{\"attributes\":{\"text\":\"Top 15 Confirmed\"},\"id\":\"2151\",\"type\":\"Title\"},{\"attributes\":{\"active_drag\":\"auto\",\"active_inspect\":\"auto\",\"active_multi\":null,\"active_scroll\":\"auto\",\"active_tap\":\"auto\",\"tools\":[{\"id\":\"2169\"}]},\"id\":\"2170\",\"type\":\"Toolbar\"},{\"attributes\":{},\"id\":\"2159\",\"type\":\"LinearScale\"},{\"attributes\":{\"axis_label\":null,\"formatter\":{\"id\":\"2183\"},\"ticker\":{\"id\":\"2162\"},\"visible\":false},\"id\":\"2161\",\"type\":\"LinearAxis\"},{\"attributes\":{},\"id\":\"2157\",\"type\":\"LinearScale\"},{\"attributes\":{},\"id\":\"2155\",\"type\":\"DataRange1d\"},{\"attributes\":{},\"id\":\"2162\",\"type\":\"BasicTicker\"},{\"attributes\":{\"axis_label\":null,\"formatter\":{\"id\":\"2181\"},\"ticker\":{\"id\":\"2166\"},\"visible\":false},\"id\":\"2165\",\"type\":\"LinearAxis\"},{\"attributes\":{\"source\":{\"id\":\"2174\"}},\"id\":\"2179\",\"type\":\"CDSView\"},{\"attributes\":{},\"id\":\"2183\",\"type\":\"BasicTickFormatter\"},{\"attributes\":{},\"id\":\"2166\",\"type\":\"BasicTicker\"},{\"attributes\":{\"data_source\":{\"id\":\"2174\"},\"glyph\":{\"id\":\"2176\"},\"hover_glyph\":null,\"muted_glyph\":null,\"nonselection_glyph\":{\"id\":\"2177\"},\"selection_glyph\":null,\"view\":{\"id\":\"2179\"}},\"id\":\"2178\",\"type\":\"GlyphRenderer\"},{\"attributes\":{\"axis\":{\"id\":\"2161\"},\"grid_line_color\":null,\"ticker\":null},\"id\":\"2164\",\"type\":\"Grid\"},{\"attributes\":{\"end_angle\":{\"expr\":{\"id\":\"2173\"},\"units\":\"rad\"},\"fill_alpha\":{\"value\":0.1},\"fill_color\":{\"field\":\"color\"},\"line_alpha\":{\"value\":0.1},\"line_color\":{\"value\":\"white\"},\"radius\":{\"units\":\"data\",\"value\":0.4},\"start_angle\":{\"expr\":{\"id\":\"2172\"},\"units\":\"rad\"},\"x\":{\"value\":0},\"y\":{\"value\":1}},\"id\":\"2177\",\"type\":\"Wedge\"},{\"attributes\":{\"data\":{\"Country\":[\"US\",\"Brazil\",\"India\",\"Mexico\",\"United Kingdom\",\"Italy\",\"France\",\"Iran\",\"Spain\",\"Argentina\",\"Peru\",\"Colombia\",\"Russia\",\"South Africa\",\"Indonesia\"],\"angle\":{\"__ndarray__\":\"SgPWVGDU9z+psuDl1wDwPy91BvkGKek/n6p55FIP4z/SUU7apiTUP3TnjjRXotE/v5ARQgdm0T+We+bDxy/QPymLaos70M8/Jnuj6keNyz9VjBAdXCvLP0rQYd5bZMo/UuXZ4jyXyT8jG1gX2FS/P1smPWaFl7c/\",\"dtype\":\"float64\",\"order\":\"little\",\"shape\":[15]},\"color\":[\"#3182bd\",\"#6baed6\",\"#9ecae1\",\"#c6dbef\",\"#e6550d\",\"#fd8d3c\",\"#fdae6b\",\"#fdd0a2\",\"#31a354\",\"#74c476\",\"#a1d99b\",\"#c7e9c0\",\"#756bb1\",\"#9e9ac8\",\"#bcbddc\"],\"index\":[0,1,2,3,4,5,6,7,8,9,10,11,12,13,14],\"value\":{\"__ndarray__\":\"AAAAABAtDkEAAAAA8EMEQQAAAABw3P9AAAAAANAi+EAAAAAAAILpQAAAAACgVOZAAAAAAEAI5kAAAAAAYH/kQAAAAACgJORAAAAAAOBx4UAAAAAA4DPhQAAAAADgteBAAAAAAAA04EAAAAAAgNbTQAAAAAAA4M1A\",\"dtype\":\"float64\",\"order\":\"little\",\"shape\":[15]}},\"selected\":{\"id\":\"2186\"},\"selection_policy\":{\"id\":\"2185\"}},\"id\":\"2174\",\"type\":\"ColumnDataSource\"},{\"attributes\":{\"axis\":{\"id\":\"2165\"},\"dimension\":1,\"grid_line_color\":null,\"ticker\":null},\"id\":\"2168\",\"type\":\"Grid\"},{\"attributes\":{},\"id\":\"2185\",\"type\":\"UnionRenderers\"}],\"root_ids\":[\"2150\"]},\"title\":\"Bokeh Application\",\"version\":\"2.2.3\"}};\n",
       "  var render_items = [{\"docid\":\"69be0cdd-ff54-49a6-a8c4-0ed6c7744deb\",\"root_ids\":[\"2150\"],\"roots\":{\"2150\":\"fd6107f6-146e-4013-9d3f-6721168782db\"}}];\n",
       "  root.Bokeh.embed.embed_items_notebook(docs_json, render_items);\n",
       "\n",
       "  }\n",
       "  if (root.Bokeh !== undefined) {\n",
       "    embed_document(root);\n",
       "  } else {\n",
       "    var attempts = 0;\n",
       "    var timer = setInterval(function(root) {\n",
       "      if (root.Bokeh !== undefined) {\n",
       "        clearInterval(timer);\n",
       "        embed_document(root);\n",
       "      } else {\n",
       "        attempts++;\n",
       "        if (attempts > 100) {\n",
       "          clearInterval(timer);\n",
       "          console.log(\"Bokeh: ERROR: Unable to run BokehJS code because BokehJS library is missing\");\n",
       "        }\n",
       "      }\n",
       "    }, 10, root)\n",
       "  }\n",
       "})(window);"
      ],
      "application/vnd.bokehjs_exec.v0+json": ""
     },
     "metadata": {
      "application/vnd.bokehjs_exec.v0+json": {
       "id": "2150"
      }
     },
     "output_type": "display_data"
    }
   ],
   "source": [
    "p = figure(plot_height=350, title=\"Top {} Confirmed\".format(n), toolbar_location=None,\n",
    "           tools=\"hover\", tooltips=\"@Country: @value\", x_range=(-0.5, 1.0))\n",
    "\n",
    "p.wedge(x=0, y=1, radius=0.4,\n",
    "        start_angle=cumsum('angle', include_zero=True), end_angle=cumsum('angle'),\n",
    "        line_color=\"white\", fill_color='color', legend_field='Country', source=data)\n",
    "\n",
    "p.axis.axis_label=None\n",
    "p.axis.visible=False\n",
    "p.grid.grid_line_color = None\n",
    "show(p)"
   ]
  },
  {
   "cell_type": "markdown",
   "metadata": {},
   "source": [
    "Now, we add a line and show the plot"
   ]
  },
  {
   "cell_type": "code",
   "execution_count": 56,
   "metadata": {},
   "outputs": [],
   "source": [
    "n_largest = cumusum[\"deaths\"].nlargest(n)\n",
    "data = pd.Series(n_largest).reset_index(name='value').rename(columns={'index':'Country'})\n",
    "data['angle'] = data['value']/data['value'].sum() * 2*pi\n",
    "data['color'] = Category20c[n]"
   ]
  },
  {
   "cell_type": "code",
   "execution_count": 59,
   "metadata": {},
   "outputs": [
    {
     "data": {
      "text/html": [
       "\n",
       "\n",
       "\n",
       "\n",
       "\n",
       "\n",
       "  <div class=\"bk-root\" id=\"d1a22d66-7dc1-49a1-b4b4-1b4792fc7d96\" data-root-id=\"2301\"></div>\n"
      ]
     },
     "metadata": {},
     "output_type": "display_data"
    },
    {
     "data": {
      "application/javascript": [
       "(function(root) {\n",
       "  function embed_document(root) {\n",
       "    \n",
       "  var docs_json = {\"d03b55fc-747a-4160-bc29-6170221a42ee\":{\"roots\":{\"references\":[{\"attributes\":{\"below\":[{\"id\":\"2312\"}],\"center\":[{\"id\":\"2315\"},{\"id\":\"2319\"},{\"id\":\"2338\"}],\"left\":[{\"id\":\"2316\"}],\"plot_height\":350,\"renderers\":[{\"id\":\"2329\"}],\"title\":{\"id\":\"2302\"},\"toolbar\":{\"id\":\"2321\"},\"toolbar_location\":null,\"x_range\":{\"id\":\"2304\"},\"x_scale\":{\"id\":\"2308\"},\"y_range\":{\"id\":\"2306\"},\"y_scale\":{\"id\":\"2310\"}},\"id\":\"2301\",\"subtype\":\"Figure\",\"type\":\"Plot\"},{\"attributes\":{\"axis_label\":null,\"formatter\":{\"id\":\"2332\"},\"ticker\":{\"id\":\"2317\"},\"visible\":false},\"id\":\"2316\",\"type\":\"LinearAxis\"},{\"attributes\":{},\"id\":\"2317\",\"type\":\"BasicTicker\"},{\"attributes\":{\"axis\":{\"id\":\"2312\"},\"grid_line_color\":null,\"ticker\":null},\"id\":\"2315\",\"type\":\"Grid\"},{\"attributes\":{\"items\":[{\"id\":\"2339\"}]},\"id\":\"2338\",\"type\":\"Legend\"},{\"attributes\":{\"active_drag\":\"auto\",\"active_inspect\":\"auto\",\"active_multi\":null,\"active_scroll\":\"auto\",\"active_tap\":\"auto\",\"tools\":[{\"id\":\"2320\"}]},\"id\":\"2321\",\"type\":\"Toolbar\"},{\"attributes\":{},\"id\":\"2306\",\"type\":\"DataRange1d\"},{\"attributes\":{\"callback\":null,\"tooltips\":\"@Country: @value\"},\"id\":\"2320\",\"type\":\"HoverTool\"},{\"attributes\":{},\"id\":\"2308\",\"type\":\"LinearScale\"},{\"attributes\":{},\"id\":\"2334\",\"type\":\"BasicTickFormatter\"},{\"attributes\":{\"start\":-0.5},\"id\":\"2304\",\"type\":\"Range1d\"},{\"attributes\":{\"data_source\":{\"id\":\"2325\"},\"glyph\":{\"id\":\"2327\"},\"hover_glyph\":null,\"muted_glyph\":null,\"nonselection_glyph\":{\"id\":\"2328\"},\"selection_glyph\":null,\"view\":{\"id\":\"2330\"}},\"id\":\"2329\",\"type\":\"GlyphRenderer\"},{\"attributes\":{\"text\":\"Top 15 Deaths\"},\"id\":\"2302\",\"type\":\"Title\"},{\"attributes\":{\"field\":\"angle\",\"include_zero\":true},\"id\":\"2323\",\"type\":\"CumSum\"},{\"attributes\":{\"axis\":{\"id\":\"2316\"},\"dimension\":1,\"grid_line_color\":null,\"ticker\":null},\"id\":\"2319\",\"type\":\"Grid\"},{\"attributes\":{\"data\":{\"Country\":[\"US\",\"Brazil\",\"India\",\"Mexico\",\"United Kingdom\",\"Italy\",\"France\",\"Iran\",\"Spain\",\"Argentina\",\"Peru\",\"Colombia\",\"Russia\",\"South Africa\",\"Indonesia\"],\"angle\":{\"__ndarray__\":\"SgPWVGDU9z+psuDl1wDwPy91BvkGKek/n6p55FIP4z/SUU7apiTUP3TnjjRXotE/v5ARQgdm0T+We+bDxy/QPymLaos70M8/Jnuj6keNyz9VjBAdXCvLP0rQYd5bZMo/UuXZ4jyXyT8jG1gX2FS/P1smPWaFl7c/\",\"dtype\":\"float64\",\"order\":\"little\",\"shape\":[15]},\"color\":[\"#3182bd\",\"#6baed6\",\"#9ecae1\",\"#c6dbef\",\"#e6550d\",\"#fd8d3c\",\"#fdae6b\",\"#fdd0a2\",\"#31a354\",\"#74c476\",\"#a1d99b\",\"#c7e9c0\",\"#756bb1\",\"#9e9ac8\",\"#bcbddc\"],\"index\":[0,1,2,3,4,5,6,7,8,9,10,11,12,13,14],\"value\":{\"__ndarray__\":\"AAAAABAtDkEAAAAA8EMEQQAAAABw3P9AAAAAANAi+EAAAAAAAILpQAAAAACgVOZAAAAAAEAI5kAAAAAAYH/kQAAAAACgJORAAAAAAOBx4UAAAAAA4DPhQAAAAADgteBAAAAAAAA04EAAAAAAgNbTQAAAAAAA4M1A\",\"dtype\":\"float64\",\"order\":\"little\",\"shape\":[15]}},\"selected\":{\"id\":\"2337\"},\"selection_policy\":{\"id\":\"2336\"}},\"id\":\"2325\",\"type\":\"ColumnDataSource\"},{\"attributes\":{\"label\":{\"field\":\"Country\"},\"renderers\":[{\"id\":\"2329\"}]},\"id\":\"2339\",\"type\":\"LegendItem\"},{\"attributes\":{},\"id\":\"2337\",\"type\":\"Selection\"},{\"attributes\":{\"field\":\"angle\"},\"id\":\"2324\",\"type\":\"CumSum\"},{\"attributes\":{\"end_angle\":{\"expr\":{\"id\":\"2324\"},\"units\":\"rad\"},\"fill_alpha\":{\"value\":0.1},\"fill_color\":{\"field\":\"color\"},\"line_alpha\":{\"value\":0.1},\"line_color\":{\"value\":\"white\"},\"radius\":{\"units\":\"data\",\"value\":0.4},\"start_angle\":{\"expr\":{\"id\":\"2323\"},\"units\":\"rad\"},\"x\":{\"value\":0},\"y\":{\"value\":1}},\"id\":\"2328\",\"type\":\"Wedge\"},{\"attributes\":{},\"id\":\"2310\",\"type\":\"LinearScale\"},{\"attributes\":{\"source\":{\"id\":\"2325\"}},\"id\":\"2330\",\"type\":\"CDSView\"},{\"attributes\":{},\"id\":\"2336\",\"type\":\"UnionRenderers\"},{\"attributes\":{},\"id\":\"2313\",\"type\":\"BasicTicker\"},{\"attributes\":{},\"id\":\"2332\",\"type\":\"BasicTickFormatter\"},{\"attributes\":{\"axis_label\":null,\"formatter\":{\"id\":\"2334\"},\"ticker\":{\"id\":\"2313\"},\"visible\":false},\"id\":\"2312\",\"type\":\"LinearAxis\"},{\"attributes\":{\"end_angle\":{\"expr\":{\"id\":\"2324\"},\"units\":\"rad\"},\"fill_color\":{\"field\":\"color\"},\"line_color\":{\"value\":\"white\"},\"radius\":{\"units\":\"data\",\"value\":0.4},\"start_angle\":{\"expr\":{\"id\":\"2323\"},\"units\":\"rad\"},\"x\":{\"value\":0},\"y\":{\"value\":1}},\"id\":\"2327\",\"type\":\"Wedge\"}],\"root_ids\":[\"2301\"]},\"title\":\"Bokeh Application\",\"version\":\"2.2.3\"}};\n",
       "  var render_items = [{\"docid\":\"d03b55fc-747a-4160-bc29-6170221a42ee\",\"root_ids\":[\"2301\"],\"roots\":{\"2301\":\"d1a22d66-7dc1-49a1-b4b4-1b4792fc7d96\"}}];\n",
       "  root.Bokeh.embed.embed_items_notebook(docs_json, render_items);\n",
       "\n",
       "  }\n",
       "  if (root.Bokeh !== undefined) {\n",
       "    embed_document(root);\n",
       "  } else {\n",
       "    var attempts = 0;\n",
       "    var timer = setInterval(function(root) {\n",
       "      if (root.Bokeh !== undefined) {\n",
       "        clearInterval(timer);\n",
       "        embed_document(root);\n",
       "      } else {\n",
       "        attempts++;\n",
       "        if (attempts > 100) {\n",
       "          clearInterval(timer);\n",
       "          console.log(\"Bokeh: ERROR: Unable to run BokehJS code because BokehJS library is missing\");\n",
       "        }\n",
       "      }\n",
       "    }, 10, root)\n",
       "  }\n",
       "})(window);"
      ],
      "application/vnd.bokehjs_exec.v0+json": ""
     },
     "metadata": {
      "application/vnd.bokehjs_exec.v0+json": {
       "id": "2301"
      }
     },
     "output_type": "display_data"
    }
   ],
   "source": [
    "\n",
    "\n",
    "p = figure(plot_height=350, title=\"Top {} Deaths\".format(n), toolbar_location=None,\n",
    "           tools=\"hover\", tooltips=\"@Country: @value\", x_range=(-0.5, 1.0))\n",
    "\n",
    "p.wedge(x=0, y=1, radius=0.4,\n",
    "        start_angle=cumsum('angle', include_zero=True), end_angle=cumsum('angle'),\n",
    "        line_color=\"white\", fill_color='color', legend_field='Country', source=data)\n",
    "\n",
    "p.axis.axis_label=None\n",
    "p.axis.visible=False\n",
    "p.grid.grid_line_color = None\n",
    "\n",
    "show(p)"
   ]
  },
  {
   "cell_type": "markdown",
   "metadata": {},
   "source": [
    "## Now, since we got the basics of pie charts and data sources out of the way, let us just do a regular line."
   ]
  },
  {
   "cell_type": "markdown",
   "metadata": {},
   "source": [
    "### First lets pick a country to see its evolution of cases throughout time!"
   ]
  },
  {
   "cell_type": "code",
   "execution_count": 135,
   "metadata": {},
   "outputs": [],
   "source": [
    "country = \"Portugal\""
   ]
  },
  {
   "cell_type": "code",
   "execution_count": 136,
   "metadata": {},
   "outputs": [],
   "source": [
    "mask = df[\"Country\"] ==country"
   ]
  },
  {
   "cell_type": "code",
   "execution_count": 137,
   "metadata": {},
   "outputs": [],
   "source": [
    "selected_country = df[mask]"
   ]
  },
  {
   "cell_type": "code",
   "execution_count": 173,
   "metadata": {},
   "outputs": [],
   "source": [
    "fig = figure(width= 600,height=500,tools=\"hover,pan,wheel_zoom,box_zoom,reset\",title=\"{} cases evolution\".format(country),x_axis_type=\"datetime\",tooltips=\"value: @y\")"
   ]
  },
  {
   "cell_type": "code",
   "execution_count": 174,
   "metadata": {},
   "outputs": [],
   "source": [
    "x = pd.to_datetime(selected_country[\"date\"])\n",
    "y = selected_country[\"confirmed_cases\"].astype(int)"
   ]
  },
  {
   "cell_type": "code",
   "execution_count": 175,
   "metadata": {},
   "outputs": [
    {
     "data": {
      "text/html": [
       "<div style=\"display: table;\"><div style=\"display: table-row;\"><div style=\"display: table-cell;\"><b title=\"bokeh.models.renderers.GlyphRenderer\">GlyphRenderer</b>(</div><div style=\"display: table-cell;\">id&nbsp;=&nbsp;'20403', <span id=\"20428\" style=\"cursor: pointer;\">&hellip;)</span></div></div><div class=\"20427\" style=\"display: none;\"><div style=\"display: table-cell;\"></div><div style=\"display: table-cell;\">data_source&nbsp;=&nbsp;ColumnDataSource(id='20400', ...),</div></div><div class=\"20427\" style=\"display: none;\"><div style=\"display: table-cell;\"></div><div style=\"display: table-cell;\">glyph&nbsp;=&nbsp;Line(id='20401', ...),</div></div><div class=\"20427\" style=\"display: none;\"><div style=\"display: table-cell;\"></div><div style=\"display: table-cell;\">hover_glyph&nbsp;=&nbsp;None,</div></div><div class=\"20427\" style=\"display: none;\"><div style=\"display: table-cell;\"></div><div style=\"display: table-cell;\">js_event_callbacks&nbsp;=&nbsp;{},</div></div><div class=\"20427\" style=\"display: none;\"><div style=\"display: table-cell;\"></div><div style=\"display: table-cell;\">js_property_callbacks&nbsp;=&nbsp;{},</div></div><div class=\"20427\" style=\"display: none;\"><div style=\"display: table-cell;\"></div><div style=\"display: table-cell;\">level&nbsp;=&nbsp;'glyph',</div></div><div class=\"20427\" style=\"display: none;\"><div style=\"display: table-cell;\"></div><div style=\"display: table-cell;\">muted&nbsp;=&nbsp;False,</div></div><div class=\"20427\" style=\"display: none;\"><div style=\"display: table-cell;\"></div><div style=\"display: table-cell;\">muted_glyph&nbsp;=&nbsp;None,</div></div><div class=\"20427\" style=\"display: none;\"><div style=\"display: table-cell;\"></div><div style=\"display: table-cell;\">name&nbsp;=&nbsp;None,</div></div><div class=\"20427\" style=\"display: none;\"><div style=\"display: table-cell;\"></div><div style=\"display: table-cell;\">nonselection_glyph&nbsp;=&nbsp;Line(id='20402', ...),</div></div><div class=\"20427\" style=\"display: none;\"><div style=\"display: table-cell;\"></div><div style=\"display: table-cell;\">selection_glyph&nbsp;=&nbsp;None,</div></div><div class=\"20427\" style=\"display: none;\"><div style=\"display: table-cell;\"></div><div style=\"display: table-cell;\">subscribed_events&nbsp;=&nbsp;[],</div></div><div class=\"20427\" style=\"display: none;\"><div style=\"display: table-cell;\"></div><div style=\"display: table-cell;\">tags&nbsp;=&nbsp;[],</div></div><div class=\"20427\" style=\"display: none;\"><div style=\"display: table-cell;\"></div><div style=\"display: table-cell;\">view&nbsp;=&nbsp;CDSView(id='20404', ...),</div></div><div class=\"20427\" style=\"display: none;\"><div style=\"display: table-cell;\"></div><div style=\"display: table-cell;\">visible&nbsp;=&nbsp;True,</div></div><div class=\"20427\" style=\"display: none;\"><div style=\"display: table-cell;\"></div><div style=\"display: table-cell;\">x_range_name&nbsp;=&nbsp;'default',</div></div><div class=\"20427\" style=\"display: none;\"><div style=\"display: table-cell;\"></div><div style=\"display: table-cell;\">y_range_name&nbsp;=&nbsp;'default')</div></div></div>\n",
       "<script>\n",
       "(function() {\n",
       "  var expanded = false;\n",
       "  var ellipsis = document.getElementById(\"20428\");\n",
       "  ellipsis.addEventListener(\"click\", function() {\n",
       "    var rows = document.getElementsByClassName(\"20427\");\n",
       "    for (var i = 0; i < rows.length; i++) {\n",
       "      var el = rows[i];\n",
       "      el.style.display = expanded ? \"none\" : \"table-row\";\n",
       "    }\n",
       "    ellipsis.innerHTML = expanded ? \"&hellip;)\" : \"&lsaquo;&lsaquo;&lsaquo;\";\n",
       "    expanded = !expanded;\n",
       "  });\n",
       "})();\n",
       "</script>\n"
      ],
      "text/plain": [
       "GlyphRenderer(id='20403', ...)"
      ]
     },
     "execution_count": 175,
     "metadata": {},
     "output_type": "execute_result"
    }
   ],
   "source": [
    "fig.line(x = x,y = y,legend_label=\"Confirmed by Day\")"
   ]
  },
  {
   "cell_type": "code",
   "execution_count": 176,
   "metadata": {},
   "outputs": [
    {
     "data": {
      "text/html": [
       "\n",
       "\n",
       "\n",
       "\n",
       "\n",
       "\n",
       "  <div class=\"bk-root\" id=\"d09d865f-30ef-4c36-8fbb-51b5935365a3\" data-root-id=\"20369\"></div>\n"
      ]
     },
     "metadata": {},
     "output_type": "display_data"
    },
    {
     "data": {
      "application/javascript": [
       "(function(root) {\n",
       "  function embed_document(root) {\n",
       "    \n",
       "  var docs_json = {\"e8004242-d63d-4a8b-8d3d-32652378aceb\":{\"roots\":{\"references\":[{\"attributes\":{\"below\":[{\"id\":\"20380\"}],\"center\":[{\"id\":\"20383\"},{\"id\":\"20387\"},{\"id\":\"20425\"}],\"left\":[{\"id\":\"20384\"}],\"plot_height\":500,\"renderers\":[{\"id\":\"20403\"}],\"title\":{\"id\":\"20370\"},\"toolbar\":{\"id\":\"20394\"},\"x_range\":{\"id\":\"20372\"},\"x_scale\":{\"id\":\"20376\"},\"y_range\":{\"id\":\"20374\"},\"y_scale\":{\"id\":\"20378\"}},\"id\":\"20369\",\"subtype\":\"Figure\",\"type\":\"Plot\"},{\"attributes\":{\"overlay\":{\"id\":\"20393\"}},\"id\":\"20391\",\"type\":\"BoxZoomTool\"},{\"attributes\":{},\"id\":\"20390\",\"type\":\"WheelZoomTool\"},{\"attributes\":{},\"id\":\"20411\",\"type\":\"Selection\"},{\"attributes\":{},\"id\":\"20423\",\"type\":\"YearsTicker\"},{\"attributes\":{},\"id\":\"20392\",\"type\":\"ResetTool\"},{\"attributes\":{},\"id\":\"20385\",\"type\":\"BasicTicker\"},{\"attributes\":{\"active_drag\":\"auto\",\"active_inspect\":\"auto\",\"active_multi\":null,\"active_scroll\":\"auto\",\"active_tap\":\"auto\",\"tools\":[{\"id\":\"20388\"},{\"id\":\"20389\"},{\"id\":\"20390\"},{\"id\":\"20391\"},{\"id\":\"20392\"}]},\"id\":\"20394\",\"type\":\"Toolbar\"},{\"attributes\":{},\"id\":\"20389\",\"type\":\"PanTool\"},{\"attributes\":{\"mantissas\":[1,2,5],\"max_interval\":500.0,\"num_minor_ticks\":0},\"id\":\"20412\",\"type\":\"AdaptiveTicker\"},{\"attributes\":{\"bottom_units\":\"screen\",\"fill_alpha\":0.5,\"fill_color\":\"lightgrey\",\"left_units\":\"screen\",\"level\":\"overlay\",\"line_alpha\":1.0,\"line_color\":\"black\",\"line_dash\":[4,4],\"line_width\":2,\"right_units\":\"screen\",\"top_units\":\"screen\"},\"id\":\"20393\",\"type\":\"BoxAnnotation\"},{\"attributes\":{\"base\":60,\"mantissas\":[1,2,5,10,15,20,30],\"max_interval\":1800000.0,\"min_interval\":1000.0,\"num_minor_ticks\":0},\"id\":\"20413\",\"type\":\"AdaptiveTicker\"},{\"attributes\":{\"label\":{\"value\":\"Confirmed by Day\"},\"renderers\":[{\"id\":\"20403\"}]},\"id\":\"20426\",\"type\":\"LegendItem\"},{\"attributes\":{\"axis\":{\"id\":\"20384\"},\"dimension\":1,\"ticker\":null},\"id\":\"20387\",\"type\":\"Grid\"},{\"attributes\":{\"base\":24,\"mantissas\":[1,2,4,6,8,12],\"max_interval\":43200000.0,\"min_interval\":3600000.0,\"num_minor_ticks\":0},\"id\":\"20414\",\"type\":\"AdaptiveTicker\"},{\"attributes\":{\"days\":[1,2,3,4,5,6,7,8,9,10,11,12,13,14,15,16,17,18,19,20,21,22,23,24,25,26,27,28,29,30,31]},\"id\":\"20415\",\"type\":\"DaysTicker\"},{\"attributes\":{},\"id\":\"20374\",\"type\":\"DataRange1d\"},{\"attributes\":{\"days\":[1,4,7,10,13,16,19,22,25,28]},\"id\":\"20416\",\"type\":\"DaysTicker\"},{\"attributes\":{\"axis\":{\"id\":\"20380\"},\"ticker\":null},\"id\":\"20383\",\"type\":\"Grid\"},{\"attributes\":{\"text\":\"Portugal cases evolution\"},\"id\":\"20370\",\"type\":\"Title\"},{\"attributes\":{\"days\":[1,8,15,22]},\"id\":\"20417\",\"type\":\"DaysTicker\"},{\"attributes\":{\"formatter\":{\"id\":\"20406\"},\"ticker\":{\"id\":\"20385\"}},\"id\":\"20384\",\"type\":\"LinearAxis\"},{\"attributes\":{\"days\":[1,15]},\"id\":\"20418\",\"type\":\"DaysTicker\"},{\"attributes\":{\"data\":{\"x\":{\"__ndarray__\":\"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\",\"dtype\":\"float64\",\"order\":\"little\",\"shape\":[300]},\"y\":{\"__ndarray__\":\"AAAAAAAAAAAAAAAAAAAAAAAAAAAAAAAAAAAAAAAAAAAAAAAAAAAAAAAAAAAAAAAAAAAAAAAAAAAAAAAAAAAAAAAAAAAAAAAAAAAAAAAAAAAAAAAAAAAAAAAAAAAAAAAAAAAAAAAAAAAAAAAAAAAAAAAAAAAAAAAAAAAAAAAAAAAAAAAAAAAAAAAAAAAAAAAAAAAAAAAAAAAAAAAAAAAAAAIAAAAAAAAAAwAAAAMAAAAFAAAABwAAAAoAAAAAAAAACwAAABIAAAAAAAAANQAAADkAAABMAAAAVgAAAHUAAAAAAAAAUQEAAOsAAAAEAQAAQAEAAMwBAAAuAQAAeQIAACUCAADUAgAAhgMAABgDAAC+AQAACwQAACgDAAAPAwAAVAMAAH4CAADyAgAAxAEAAMgCAAC7AgAALwMAAOwFAAADAgAAVgIAAF0BAAACAgAAgwIAAO4CAAC1AAAAlwIAAAkCAACRAgAABAIAAFsCAABzAQAAvAEAAFMCAADYAQAAowAAACcBAAC3AAAAHAIAADIBAABf////XAAAAPIAAACyAAAA4AEAABUCAAApAgAAigAAAK8AAABiAAAA6gAAANsAAAC7AAAACAEAAOMAAADiAAAArQAAAN8AAADkAAAA/AAAACABAAAPAQAAmAAAAKUAAADbAAAAHQEAADABAABeAQAAAQEAACkBAADIAAAAwwAAAG4BAABLAQAAeQEAAH4BAABWAQAAwAAAAKUBAAAmAQAANgEAAA4BAAAbAQAA4wAAAFoBAAAsAQAAUAEAAKEBAAB3AQAAeQEAACQBAAADAQAAWQEAAG8BAAA3AQAAwwEAAEMBAADJAQAACgEAAOUAAAA5AQAASAEAAHYBAACdAQAASAEAAOgAAAAfAQAAuwEAAKIBAACSAQAAHgIAACMBAAAyAQAA6QAAAHcBAABTAQAAOAEAADkBAAD2AAAAhwAAAH8AAAD8AAAA5QAAADkBAAAHAQAA0QAAAIcAAABvAAAAywAAAP8AAADMAAAA7gAAAJkAAABqAAAAcAAAAKcAAADVAAAAIgEAALoAAACDAAAAnQAAAHgAAAAWAQAARQEAAOsAAADGAAAAeQAAAIQAAADWAAAA/QAAACMBAADbAAAA8QAAAJEAAAB7AAAAwAAAAGoBAACPAQAAkQEAAHYBAABAAQAA9AAAAOcAAACGAQAAogEAAJYBAADmAQAAOwEAAPkAAACEAQAAhgIAAEkCAACvAgAA8QEAAKECAABlAgAAqQEAAF0CAAACAwAADAMAAFEDAAAoAgAAbwIAAM8BAAAiAwAAswIAAIMDAAB0AwAAmQIAAKkBAACwAgAAOQMAAFYDAAB4AwAAwwMAAIgDAADeAgAAqwEAALADAAD+BAAAcgUAAG4GAABCBAAA4QQAALgEAAAYCAAANQgAADAKAABpCAAAQAcAAJ0HAABUBwAA5wkAAMYMAABTCwAAVQ4AABEKAACPCQAA4wwAAHgPAACAEAAAMBIAAKcPAAD2CwAAygkAACQKAABJHQAAOhEAAK4VAADwGQAAmBYAAAAQAADpDgAARxMAAM8WAAD9GQAAyhkAAJMXAACzIAAA\",\"dtype\":\"int32\",\"order\":\"little\",\"shape\":[300]}},\"selected\":{\"id\":\"20411\"},\"selection_policy\":{\"id\":\"20410\"}},\"id\":\"20400\",\"type\":\"ColumnDataSource\"},{\"attributes\":{},\"id\":\"20372\",\"type\":\"DataRange1d\"},{\"attributes\":{\"months\":[0,1,2,3,4,5,6,7,8,9,10,11]},\"id\":\"20419\",\"type\":\"MonthsTicker\"},{\"attributes\":{\"months\":[0,2,4,6,8,10]},\"id\":\"20420\",\"type\":\"MonthsTicker\"},{\"attributes\":{\"formatter\":{\"id\":\"20408\"},\"ticker\":{\"id\":\"20381\"}},\"id\":\"20380\",\"type\":\"DatetimeAxis\"},{\"attributes\":{\"source\":{\"id\":\"20400\"}},\"id\":\"20404\",\"type\":\"CDSView\"},{\"attributes\":{\"months\":[0,4,8]},\"id\":\"20421\",\"type\":\"MonthsTicker\"},{\"attributes\":{\"line_alpha\":0.1,\"line_color\":\"#1f77b4\",\"x\":{\"field\":\"x\"},\"y\":{\"field\":\"y\"}},\"id\":\"20402\",\"type\":\"Line\"},{\"attributes\":{\"months\":[0,6]},\"id\":\"20422\",\"type\":\"MonthsTicker\"},{\"attributes\":{\"data_source\":{\"id\":\"20400\"},\"glyph\":{\"id\":\"20401\"},\"hover_glyph\":null,\"muted_glyph\":null,\"nonselection_glyph\":{\"id\":\"20402\"},\"selection_glyph\":null,\"view\":{\"id\":\"20404\"}},\"id\":\"20403\",\"type\":\"GlyphRenderer\"},{\"attributes\":{\"callback\":null,\"tooltips\":\"value: @y\"},\"id\":\"20388\",\"type\":\"HoverTool\"},{\"attributes\":{},\"id\":\"20376\",\"type\":\"LinearScale\"},{\"attributes\":{\"items\":[{\"id\":\"20426\"}]},\"id\":\"20425\",\"type\":\"Legend\"},{\"attributes\":{\"line_color\":\"#1f77b4\",\"x\":{\"field\":\"x\"},\"y\":{\"field\":\"y\"}},\"id\":\"20401\",\"type\":\"Line\"},{\"attributes\":{},\"id\":\"20378\",\"type\":\"LinearScale\"},{\"attributes\":{},\"id\":\"20406\",\"type\":\"BasicTickFormatter\"},{\"attributes\":{\"num_minor_ticks\":5,\"tickers\":[{\"id\":\"20412\"},{\"id\":\"20413\"},{\"id\":\"20414\"},{\"id\":\"20415\"},{\"id\":\"20416\"},{\"id\":\"20417\"},{\"id\":\"20418\"},{\"id\":\"20419\"},{\"id\":\"20420\"},{\"id\":\"20421\"},{\"id\":\"20422\"},{\"id\":\"20423\"}]},\"id\":\"20381\",\"type\":\"DatetimeTicker\"},{\"attributes\":{},\"id\":\"20408\",\"type\":\"DatetimeTickFormatter\"},{\"attributes\":{},\"id\":\"20410\",\"type\":\"UnionRenderers\"}],\"root_ids\":[\"20369\"]},\"title\":\"Bokeh Application\",\"version\":\"2.2.3\"}};\n",
       "  var render_items = [{\"docid\":\"e8004242-d63d-4a8b-8d3d-32652378aceb\",\"root_ids\":[\"20369\"],\"roots\":{\"20369\":\"d09d865f-30ef-4c36-8fbb-51b5935365a3\"}}];\n",
       "  root.Bokeh.embed.embed_items_notebook(docs_json, render_items);\n",
       "\n",
       "  }\n",
       "  if (root.Bokeh !== undefined) {\n",
       "    embed_document(root);\n",
       "  } else {\n",
       "    var attempts = 0;\n",
       "    var timer = setInterval(function(root) {\n",
       "      if (root.Bokeh !== undefined) {\n",
       "        clearInterval(timer);\n",
       "        embed_document(root);\n",
       "      } else {\n",
       "        attempts++;\n",
       "        if (attempts > 100) {\n",
       "          clearInterval(timer);\n",
       "          console.log(\"Bokeh: ERROR: Unable to run BokehJS code because BokehJS library is missing\");\n",
       "        }\n",
       "      }\n",
       "    }, 10, root)\n",
       "  }\n",
       "})(window);"
      ],
      "application/vnd.bokehjs_exec.v0+json": ""
     },
     "metadata": {
      "application/vnd.bokehjs_exec.v0+json": {
       "id": "20369"
      }
     },
     "output_type": "display_data"
    }
   ],
   "source": [
    "show(fig)"
   ]
  },
  {
   "cell_type": "markdown",
   "metadata": {},
   "source": [
    "## Still a bit to simple right? \n",
    "\n",
    "#### Lets correlate the cases to the deaths."
   ]
  },
  {
   "cell_type": "code",
   "execution_count": 177,
   "metadata": {},
   "outputs": [],
   "source": [
    "y = selected_country[\"deaths\"].astype(int)"
   ]
  },
  {
   "cell_type": "code",
   "execution_count": 178,
   "metadata": {},
   "outputs": [
    {
     "data": {
      "text/html": [
       "<div style=\"display: table;\"><div style=\"display: table-row;\"><div style=\"display: table-cell;\"><b title=\"bokeh.models.renderers.GlyphRenderer\">GlyphRenderer</b>(</div><div style=\"display: table-cell;\">id&nbsp;=&nbsp;'20873', <span id=\"21585\" style=\"cursor: pointer;\">&hellip;)</span></div></div><div class=\"21584\" style=\"display: none;\"><div style=\"display: table-cell;\"></div><div style=\"display: table-cell;\">data_source&nbsp;=&nbsp;ColumnDataSource(id='20870', ...),</div></div><div class=\"21584\" style=\"display: none;\"><div style=\"display: table-cell;\"></div><div style=\"display: table-cell;\">glyph&nbsp;=&nbsp;Line(id='20871', ...),</div></div><div class=\"21584\" style=\"display: none;\"><div style=\"display: table-cell;\"></div><div style=\"display: table-cell;\">hover_glyph&nbsp;=&nbsp;None,</div></div><div class=\"21584\" style=\"display: none;\"><div style=\"display: table-cell;\"></div><div style=\"display: table-cell;\">js_event_callbacks&nbsp;=&nbsp;{},</div></div><div class=\"21584\" style=\"display: none;\"><div style=\"display: table-cell;\"></div><div style=\"display: table-cell;\">js_property_callbacks&nbsp;=&nbsp;{},</div></div><div class=\"21584\" style=\"display: none;\"><div style=\"display: table-cell;\"></div><div style=\"display: table-cell;\">level&nbsp;=&nbsp;'glyph',</div></div><div class=\"21584\" style=\"display: none;\"><div style=\"display: table-cell;\"></div><div style=\"display: table-cell;\">muted&nbsp;=&nbsp;False,</div></div><div class=\"21584\" style=\"display: none;\"><div style=\"display: table-cell;\"></div><div style=\"display: table-cell;\">muted_glyph&nbsp;=&nbsp;None,</div></div><div class=\"21584\" style=\"display: none;\"><div style=\"display: table-cell;\"></div><div style=\"display: table-cell;\">name&nbsp;=&nbsp;None,</div></div><div class=\"21584\" style=\"display: none;\"><div style=\"display: table-cell;\"></div><div style=\"display: table-cell;\">nonselection_glyph&nbsp;=&nbsp;Line(id='20872', ...),</div></div><div class=\"21584\" style=\"display: none;\"><div style=\"display: table-cell;\"></div><div style=\"display: table-cell;\">selection_glyph&nbsp;=&nbsp;None,</div></div><div class=\"21584\" style=\"display: none;\"><div style=\"display: table-cell;\"></div><div style=\"display: table-cell;\">subscribed_events&nbsp;=&nbsp;[],</div></div><div class=\"21584\" style=\"display: none;\"><div style=\"display: table-cell;\"></div><div style=\"display: table-cell;\">tags&nbsp;=&nbsp;[],</div></div><div class=\"21584\" style=\"display: none;\"><div style=\"display: table-cell;\"></div><div style=\"display: table-cell;\">view&nbsp;=&nbsp;CDSView(id='20874', ...),</div></div><div class=\"21584\" style=\"display: none;\"><div style=\"display: table-cell;\"></div><div style=\"display: table-cell;\">visible&nbsp;=&nbsp;True,</div></div><div class=\"21584\" style=\"display: none;\"><div style=\"display: table-cell;\"></div><div style=\"display: table-cell;\">x_range_name&nbsp;=&nbsp;'default',</div></div><div class=\"21584\" style=\"display: none;\"><div style=\"display: table-cell;\"></div><div style=\"display: table-cell;\">y_range_name&nbsp;=&nbsp;'default')</div></div></div>\n",
       "<script>\n",
       "(function() {\n",
       "  var expanded = false;\n",
       "  var ellipsis = document.getElementById(\"21585\");\n",
       "  ellipsis.addEventListener(\"click\", function() {\n",
       "    var rows = document.getElementsByClassName(\"21584\");\n",
       "    for (var i = 0; i < rows.length; i++) {\n",
       "      var el = rows[i];\n",
       "      el.style.display = expanded ? \"none\" : \"table-row\";\n",
       "    }\n",
       "    ellipsis.innerHTML = expanded ? \"&hellip;)\" : \"&lsaquo;&lsaquo;&lsaquo;\";\n",
       "    expanded = !expanded;\n",
       "  });\n",
       "})();\n",
       "</script>\n"
      ],
      "text/plain": [
       "GlyphRenderer(id='20873', ...)"
      ]
     },
     "execution_count": 178,
     "metadata": {},
     "output_type": "execute_result"
    }
   ],
   "source": [
    "fig.line(x = x,y = y,legend_label=\"Death by Day\",color=\"red\")"
   ]
  },
  {
   "cell_type": "code",
   "execution_count": 179,
   "metadata": {},
   "outputs": [
    {
     "data": {
      "text/html": [
       "\n",
       "\n",
       "\n",
       "\n",
       "\n",
       "\n",
       "  <div class=\"bk-root\" id=\"bcc54f7f-f092-4831-a3dd-db05e2a27b0b\" data-root-id=\"20369\"></div>\n"
      ]
     },
     "metadata": {},
     "output_type": "display_data"
    },
    {
     "data": {
      "application/javascript": [
       "(function(root) {\n",
       "  function embed_document(root) {\n",
       "    \n",
       "  var docs_json = {\"1ef6b155-166a-4b6d-9735-ef333cf57ab2\":{\"roots\":{\"references\":[{\"attributes\":{\"below\":[{\"id\":\"20380\"}],\"center\":[{\"id\":\"20383\"},{\"id\":\"20387\"},{\"id\":\"20425\"}],\"left\":[{\"id\":\"20384\"}],\"plot_height\":500,\"renderers\":[{\"id\":\"20403\"},{\"id\":\"20873\"}],\"title\":{\"id\":\"20370\"},\"toolbar\":{\"id\":\"20394\"},\"x_range\":{\"id\":\"20372\"},\"x_scale\":{\"id\":\"20376\"},\"y_range\":{\"id\":\"20374\"},\"y_scale\":{\"id\":\"20378\"}},\"id\":\"20369\",\"subtype\":\"Figure\",\"type\":\"Plot\"},{\"attributes\":{\"overlay\":{\"id\":\"20393\"}},\"id\":\"20391\",\"type\":\"BoxZoomTool\"},{\"attributes\":{},\"id\":\"20390\",\"type\":\"WheelZoomTool\"},{\"attributes\":{},\"id\":\"20411\",\"type\":\"Selection\"},{\"attributes\":{},\"id\":\"20423\",\"type\":\"YearsTicker\"},{\"attributes\":{},\"id\":\"20392\",\"type\":\"ResetTool\"},{\"attributes\":{},\"id\":\"20385\",\"type\":\"BasicTicker\"},{\"attributes\":{\"source\":{\"id\":\"20870\"}},\"id\":\"20874\",\"type\":\"CDSView\"},{\"attributes\":{\"active_drag\":\"auto\",\"active_inspect\":\"auto\",\"active_multi\":null,\"active_scroll\":\"auto\",\"active_tap\":\"auto\",\"tools\":[{\"id\":\"20388\"},{\"id\":\"20389\"},{\"id\":\"20390\"},{\"id\":\"20391\"},{\"id\":\"20392\"}]},\"id\":\"20394\",\"type\":\"Toolbar\"},{\"attributes\":{\"line_alpha\":0.1,\"line_color\":\"red\",\"x\":{\"field\":\"x\"},\"y\":{\"field\":\"y\"}},\"id\":\"20872\",\"type\":\"Line\"},{\"attributes\":{},\"id\":\"20389\",\"type\":\"PanTool\"},{\"attributes\":{\"mantissas\":[1,2,5],\"max_interval\":500.0,\"num_minor_ticks\":0},\"id\":\"20412\",\"type\":\"AdaptiveTicker\"},{\"attributes\":{\"data_source\":{\"id\":\"20870\"},\"glyph\":{\"id\":\"20871\"},\"hover_glyph\":null,\"muted_glyph\":null,\"nonselection_glyph\":{\"id\":\"20872\"},\"selection_glyph\":null,\"view\":{\"id\":\"20874\"}},\"id\":\"20873\",\"type\":\"GlyphRenderer\"},{\"attributes\":{\"bottom_units\":\"screen\",\"fill_alpha\":0.5,\"fill_color\":\"lightgrey\",\"left_units\":\"screen\",\"level\":\"overlay\",\"line_alpha\":1.0,\"line_color\":\"black\",\"line_dash\":[4,4],\"line_width\":2,\"right_units\":\"screen\",\"top_units\":\"screen\"},\"id\":\"20393\",\"type\":\"BoxAnnotation\"},{\"attributes\":{\"base\":60,\"mantissas\":[1,2,5,10,15,20,30],\"max_interval\":1800000.0,\"min_interval\":1000.0,\"num_minor_ticks\":0},\"id\":\"20413\",\"type\":\"AdaptiveTicker\"},{\"attributes\":{\"label\":{\"value\":\"Confirmed by Day\"},\"renderers\":[{\"id\":\"20403\"}]},\"id\":\"20426\",\"type\":\"LegendItem\"},{\"attributes\":{\"line_color\":\"red\",\"x\":{\"field\":\"x\"},\"y\":{\"field\":\"y\"}},\"id\":\"20871\",\"type\":\"Line\"},{\"attributes\":{\"axis\":{\"id\":\"20384\"},\"dimension\":1,\"ticker\":null},\"id\":\"20387\",\"type\":\"Grid\"},{\"attributes\":{\"base\":24,\"mantissas\":[1,2,4,6,8,12],\"max_interval\":43200000.0,\"min_interval\":3600000.0,\"num_minor_ticks\":0},\"id\":\"20414\",\"type\":\"AdaptiveTicker\"},{\"attributes\":{\"days\":[1,2,3,4,5,6,7,8,9,10,11,12,13,14,15,16,17,18,19,20,21,22,23,24,25,26,27,28,29,30,31]},\"id\":\"20415\",\"type\":\"DaysTicker\"},{\"attributes\":{},\"id\":\"21204\",\"type\":\"Selection\"},{\"attributes\":{},\"id\":\"20374\",\"type\":\"DataRange1d\"},{\"attributes\":{\"days\":[1,4,7,10,13,16,19,22,25,28]},\"id\":\"20416\",\"type\":\"DaysTicker\"},{\"attributes\":{\"axis\":{\"id\":\"20380\"},\"ticker\":null},\"id\":\"20383\",\"type\":\"Grid\"},{\"attributes\":{\"text\":\"Portugal cases evolution\"},\"id\":\"20370\",\"type\":\"Title\"},{\"attributes\":{\"days\":[1,8,15,22]},\"id\":\"20417\",\"type\":\"DaysTicker\"},{\"attributes\":{\"formatter\":{\"id\":\"20406\"},\"ticker\":{\"id\":\"20385\"}},\"id\":\"20384\",\"type\":\"LinearAxis\"},{\"attributes\":{\"days\":[1,15]},\"id\":\"20418\",\"type\":\"DaysTicker\"},{\"attributes\":{\"data\":{\"x\":{\"__ndarray__\":\"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\",\"dtype\":\"float64\",\"order\":\"little\",\"shape\":[300]},\"y\":{\"__ndarray__\":\"AAAAAAAAAAAAAAAAAAAAAAAAAAAAAAAAAAAAAAAAAAAAAAAAAAAAAAAAAAAAAAAAAAAAAAAAAAAAAAAAAAAAAAAAAAAAAAAAAAAAAAAAAAAAAAAAAAAAAAAAAAAAAAAAAAAAAAAAAAAAAAAAAAAAAAAAAAAAAAAAAAAAAAAAAAAAAAAAAAAAAAAAAAAAAAAAAAAAAAAAAAAAAAAAAAAAAAIAAAAAAAAAAwAAAAMAAAAFAAAABwAAAAoAAAAAAAAACwAAABIAAAAAAAAANQAAADkAAABMAAAAVgAAAHUAAAAAAAAAUQEAAOsAAAAEAQAAQAEAAMwBAAAuAQAAeQIAACUCAADUAgAAhgMAABgDAAC+AQAACwQAACgDAAAPAwAAVAMAAH4CAADyAgAAxAEAAMgCAAC7AgAALwMAAOwFAAADAgAAVgIAAF0BAAACAgAAgwIAAO4CAAC1AAAAlwIAAAkCAACRAgAABAIAAFsCAABzAQAAvAEAAFMCAADYAQAAowAAACcBAAC3AAAAHAIAADIBAABf////XAAAAPIAAACyAAAA4AEAABUCAAApAgAAigAAAK8AAABiAAAA6gAAANsAAAC7AAAACAEAAOMAAADiAAAArQAAAN8AAADkAAAA/AAAACABAAAPAQAAmAAAAKUAAADbAAAAHQEAADABAABeAQAAAQEAACkBAADIAAAAwwAAAG4BAABLAQAAeQEAAH4BAABWAQAAwAAAAKUBAAAmAQAANgEAAA4BAAAbAQAA4wAAAFoBAAAsAQAAUAEAAKEBAAB3AQAAeQEAACQBAAADAQAAWQEAAG8BAAA3AQAAwwEAAEMBAADJAQAACgEAAOUAAAA5AQAASAEAAHYBAACdAQAASAEAAOgAAAAfAQAAuwEAAKIBAACSAQAAHgIAACMBAAAyAQAA6QAAAHcBAABTAQAAOAEAADkBAAD2AAAAhwAAAH8AAAD8AAAA5QAAADkBAAAHAQAA0QAAAIcAAABvAAAAywAAAP8AAADMAAAA7gAAAJkAAABqAAAAcAAAAKcAAADVAAAAIgEAALoAAACDAAAAnQAAAHgAAAAWAQAARQEAAOsAAADGAAAAeQAAAIQAAADWAAAA/QAAACMBAADbAAAA8QAAAJEAAAB7AAAAwAAAAGoBAACPAQAAkQEAAHYBAABAAQAA9AAAAOcAAACGAQAAogEAAJYBAADmAQAAOwEAAPkAAACEAQAAhgIAAEkCAACvAgAA8QEAAKECAABlAgAAqQEAAF0CAAACAwAADAMAAFEDAAAoAgAAbwIAAM8BAAAiAwAAswIAAIMDAAB0AwAAmQIAAKkBAACwAgAAOQMAAFYDAAB4AwAAwwMAAIgDAADeAgAAqwEAALADAAD+BAAAcgUAAG4GAABCBAAA4QQAALgEAAAYCAAANQgAADAKAABpCAAAQAcAAJ0HAABUBwAA5wkAAMYMAABTCwAAVQ4AABEKAACPCQAA4wwAAHgPAACAEAAAMBIAAKcPAAD2CwAAygkAACQKAABJHQAAOhEAAK4VAADwGQAAmBYAAAAQAADpDgAARxMAAM8WAAD9GQAAyhkAAJMXAACzIAAA\",\"dtype\":\"int32\",\"order\":\"little\",\"shape\":[300]}},\"selected\":{\"id\":\"20411\"},\"selection_policy\":{\"id\":\"20410\"}},\"id\":\"20400\",\"type\":\"ColumnDataSource\"},{\"attributes\":{},\"id\":\"20372\",\"type\":\"DataRange1d\"},{\"attributes\":{\"months\":[0,1,2,3,4,5,6,7,8,9,10,11]},\"id\":\"20419\",\"type\":\"MonthsTicker\"},{\"attributes\":{\"label\":{\"value\":\"Death by Day\"},\"renderers\":[{\"id\":\"20873\"}]},\"id\":\"21240\",\"type\":\"LegendItem\"},{\"attributes\":{\"months\":[0,2,4,6,8,10]},\"id\":\"20420\",\"type\":\"MonthsTicker\"},{\"attributes\":{\"formatter\":{\"id\":\"20408\"},\"ticker\":{\"id\":\"20381\"}},\"id\":\"20380\",\"type\":\"DatetimeAxis\"},{\"attributes\":{\"source\":{\"id\":\"20400\"}},\"id\":\"20404\",\"type\":\"CDSView\"},{\"attributes\":{\"months\":[0,4,8]},\"id\":\"20421\",\"type\":\"MonthsTicker\"},{\"attributes\":{\"line_alpha\":0.1,\"line_color\":\"#1f77b4\",\"x\":{\"field\":\"x\"},\"y\":{\"field\":\"y\"}},\"id\":\"20402\",\"type\":\"Line\"},{\"attributes\":{\"data\":{\"x\":{\"__ndarray__\":\"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\",\"dtype\":\"float64\",\"order\":\"little\",\"shape\":[300]},\"y\":{\"__ndarray__\":\"AAAAAAAAAAAAAAAAAAAAAAAAAAAAAAAAAAAAAAAAAAAAAAAAAAAAAAAAAAAAAAAAAAAAAAAAAAAAAAAAAAAAAAAAAAAAAAAAAAAAAAAAAAAAAAAAAAAAAAAAAAAAAAAAAAAAAAAAAAAAAAAAAAAAAAAAAAAAAAAAAAAAAAAAAAAAAAAAAAAAAAAAAAAAAAAAAAAAAAAAAAAAAAAAAAAAAAAAAAAAAAAAAAAAAAAAAAAAAAAAAAAAAAAAAAAAAAAAAAAAAAAAAAAAAAAAAAAAAAAAAAAAAAAAAAAAAAEAAAABAAAAAQAAAAMAAAAGAAAAAgAAAAkAAAAKAAAACgAAABEAAAAQAAAAGAAAABMAAAAVAAAAFAAAABsAAAAWAAAAJQAAABQAAAAdAAAAEAAAACIAAAAjAAAAHQAAABoAAAAjAAAAIgAAAB8AAAAgAAAAIAAAAB4AAAAcAAAAHgAAABsAAAAVAAAAGwAAABcAAAAjAAAAIgAAABoAAAAXAAAAGQAAABQAAAAZAAAAEAAAABIAAAAQAAAAFAAAABQAAAALAAAADwAAABAAAAAJAAAADAAAAAkAAAAJAAAAEwAAAAwAAAAJAAAABgAAAA0AAAAPAAAADQAAABAAAAAQAAAADgAAAAwAAAANAAAADgAAAA4AAAAMAAAADgAAAA0AAAAOAAAADQAAAA4AAAAOAAAADAAAAAsAAAAIAAAACgAAAAkAAAAFAAAABgAAAAcAAAAFAAAABwAAAAEAAAAHAAAABQAAAAMAAAACAAAAAQAAAAEAAAADAAAAAQAAAAIAAAAEAAAABgAAAAMAAAAGAAAABgAAAAYAAAADAAAABAAAAAgAAAADAAAACAAAAAsAAAAHAAAACQAAAAYAAAAJAAAAAgAAAA0AAAACAAAACAAAAAYAAAACAAAABgAAAAgAAAADAAAAAwAAAAIAAAAFAAAAAgAAAAYAAAAFAAAAAwAAAAcAAAAEAAAAAQAAAAIAAAADAAAAAwAAAAIAAAAIAAAAAgAAAAEAAAAAAAAAAQAAAAEAAAADAAAAAwAAAAQAAAAGAAAAAwAAAAIAAAADAAAABgAAAAIAAAADAAAAAwAAAAEAAAAFAAAAAgAAAAIAAAAEAAAAAgAAAAIAAAAFAAAABAAAAAIAAAACAAAABgAAAAMAAAABAAAAAwAAAAIAAAADAAAAAgAAAAQAAAAFAAAAAgAAAAMAAAADAAAAAwAAAAMAAAADAAAABQAAAAcAAAAEAAAABAAAAAMAAAAKAAAABgAAAAUAAAANAAAACAAAAAUAAAADAAAAAwAAAAUAAAAIAAAACQAAAAQAAAAGAAAACAAAAAYAAAAGAAAADAAAAAoAAAANAAAADgAAAAgAAAAKAAAADAAAAAUAAAANAAAADgAAABAAAAAHAAAACwAAABUAAAANAAAAEwAAABEAAAAPAAAAEAAAABAAAAAfAAAAFQAAABMAAAAbAAAAHAAAABgAAAAhAAAAKAAAACcAAAAlAAAALgAAAC0AAAA7AAAALgAAADQAAAA4AAAAMAAAAD8AAAA+AAAAUgAAAE4AAABFAAAANwAAAEwAAABbAAAA\",\"dtype\":\"int32\",\"order\":\"little\",\"shape\":[300]}},\"selected\":{\"id\":\"21204\"},\"selection_policy\":{\"id\":\"21203\"}},\"id\":\"20870\",\"type\":\"ColumnDataSource\"},{\"attributes\":{\"months\":[0,6]},\"id\":\"20422\",\"type\":\"MonthsTicker\"},{\"attributes\":{\"data_source\":{\"id\":\"20400\"},\"glyph\":{\"id\":\"20401\"},\"hover_glyph\":null,\"muted_glyph\":null,\"nonselection_glyph\":{\"id\":\"20402\"},\"selection_glyph\":null,\"view\":{\"id\":\"20404\"}},\"id\":\"20403\",\"type\":\"GlyphRenderer\"},{\"attributes\":{\"callback\":null,\"tooltips\":\"value: @y\"},\"id\":\"20388\",\"type\":\"HoverTool\"},{\"attributes\":{},\"id\":\"20376\",\"type\":\"LinearScale\"},{\"attributes\":{\"items\":[{\"id\":\"20426\"},{\"id\":\"21240\"}]},\"id\":\"20425\",\"type\":\"Legend\"},{\"attributes\":{\"line_color\":\"#1f77b4\",\"x\":{\"field\":\"x\"},\"y\":{\"field\":\"y\"}},\"id\":\"20401\",\"type\":\"Line\"},{\"attributes\":{},\"id\":\"20378\",\"type\":\"LinearScale\"},{\"attributes\":{},\"id\":\"20406\",\"type\":\"BasicTickFormatter\"},{\"attributes\":{\"num_minor_ticks\":5,\"tickers\":[{\"id\":\"20412\"},{\"id\":\"20413\"},{\"id\":\"20414\"},{\"id\":\"20415\"},{\"id\":\"20416\"},{\"id\":\"20417\"},{\"id\":\"20418\"},{\"id\":\"20419\"},{\"id\":\"20420\"},{\"id\":\"20421\"},{\"id\":\"20422\"},{\"id\":\"20423\"}]},\"id\":\"20381\",\"type\":\"DatetimeTicker\"},{\"attributes\":{},\"id\":\"20408\",\"type\":\"DatetimeTickFormatter\"},{\"attributes\":{},\"id\":\"21203\",\"type\":\"UnionRenderers\"},{\"attributes\":{},\"id\":\"20410\",\"type\":\"UnionRenderers\"}],\"root_ids\":[\"20369\"]},\"title\":\"Bokeh Application\",\"version\":\"2.2.3\"}};\n",
       "  var render_items = [{\"docid\":\"1ef6b155-166a-4b6d-9735-ef333cf57ab2\",\"root_ids\":[\"20369\"],\"roots\":{\"20369\":\"bcc54f7f-f092-4831-a3dd-db05e2a27b0b\"}}];\n",
       "  root.Bokeh.embed.embed_items_notebook(docs_json, render_items);\n",
       "\n",
       "  }\n",
       "  if (root.Bokeh !== undefined) {\n",
       "    embed_document(root);\n",
       "  } else {\n",
       "    var attempts = 0;\n",
       "    var timer = setInterval(function(root) {\n",
       "      if (root.Bokeh !== undefined) {\n",
       "        clearInterval(timer);\n",
       "        embed_document(root);\n",
       "      } else {\n",
       "        attempts++;\n",
       "        if (attempts > 100) {\n",
       "          clearInterval(timer);\n",
       "          console.log(\"Bokeh: ERROR: Unable to run BokehJS code because BokehJS library is missing\");\n",
       "        }\n",
       "      }\n",
       "    }, 10, root)\n",
       "  }\n",
       "})(window);"
      ],
      "application/vnd.bokehjs_exec.v0+json": ""
     },
     "metadata": {
      "application/vnd.bokehjs_exec.v0+json": {
       "id": "20369"
      }
     },
     "output_type": "display_data"
    }
   ],
   "source": [
    "show(fig)"
   ]
  },
  {
   "cell_type": "markdown",
   "metadata": {},
   "source": [
    "### Yet again, we still have space for more!\n",
    "#### Now let us add the cumulative data for both cases and deaths."
   ]
  },
  {
   "cell_type": "markdown",
   "metadata": {},
   "source": [
    "These lines share the same x, with bokeh we can simplify the way we do this.\n",
    "And this time we want to be able to zoom, but only on the x axis."
   ]
  },
  {
   "cell_type": "code",
   "execution_count": 180,
   "metadata": {},
   "outputs": [],
   "source": [
    "cumsum_selected = selected_country[[\"confirmed_cases\",\"deaths\"]].cumsum()"
   ]
  },
  {
   "cell_type": "code",
   "execution_count": null,
   "metadata": {},
   "outputs": [],
   "source": []
  },
  {
   "cell_type": "code",
   "execution_count": 181,
   "metadata": {},
   "outputs": [
    {
     "data": {
      "text/html": [
       "\n",
       "\n",
       "\n",
       "\n",
       "\n",
       "\n",
       "  <div class=\"bk-root\" id=\"58a4f0e5-d0ff-4dbb-a3ec-b576a5c267a5\" data-root-id=\"20369\"></div>\n"
      ]
     },
     "metadata": {},
     "output_type": "display_data"
    },
    {
     "data": {
      "application/javascript": [
       "(function(root) {\n",
       "  function embed_document(root) {\n",
       "    \n",
       "  var docs_json = {\"c739828f-cdf4-4f8a-af5a-0db94e82d481\":{\"roots\":{\"references\":[{\"attributes\":{\"below\":[{\"id\":\"20380\"}],\"center\":[{\"id\":\"20383\"},{\"id\":\"20387\"},{\"id\":\"20425\"}],\"left\":[{\"id\":\"20384\"}],\"plot_height\":500,\"renderers\":[{\"id\":\"20403\"},{\"id\":\"20873\"},{\"id\":\"21699\"},{\"id\":\"22419\"}],\"title\":{\"id\":\"20370\"},\"toolbar\":{\"id\":\"20394\"},\"x_range\":{\"id\":\"20372\"},\"x_scale\":{\"id\":\"20376\"},\"y_range\":{\"id\":\"20374\"},\"y_scale\":{\"id\":\"20378\"}},\"id\":\"20369\",\"subtype\":\"Figure\",\"type\":\"Plot\"},{\"attributes\":{\"line_alpha\":0.1,\"line_color\":\"orange\",\"x\":{\"field\":\"x\"},\"y\":{\"field\":\"y\"}},\"id\":\"22418\",\"type\":\"Line\"},{\"attributes\":{\"overlay\":{\"id\":\"20393\"}},\"id\":\"20391\",\"type\":\"BoxZoomTool\"},{\"attributes\":{},\"id\":\"20390\",\"type\":\"WheelZoomTool\"},{\"attributes\":{},\"id\":\"20411\",\"type\":\"Selection\"},{\"attributes\":{},\"id\":\"22031\",\"type\":\"UnionRenderers\"},{\"attributes\":{},\"id\":\"20423\",\"type\":\"YearsTicker\"},{\"attributes\":{},\"id\":\"20392\",\"type\":\"ResetTool\"},{\"attributes\":{},\"id\":\"20385\",\"type\":\"BasicTicker\"},{\"attributes\":{\"source\":{\"id\":\"20870\"}},\"id\":\"20874\",\"type\":\"CDSView\"},{\"attributes\":{\"active_drag\":\"auto\",\"active_inspect\":\"auto\",\"active_multi\":null,\"active_scroll\":\"auto\",\"active_tap\":\"auto\",\"tools\":[{\"id\":\"20388\"},{\"id\":\"20389\"},{\"id\":\"20390\"},{\"id\":\"20391\"},{\"id\":\"20392\"}]},\"id\":\"20394\",\"type\":\"Toolbar\"},{\"attributes\":{\"line_alpha\":0.1,\"line_color\":\"red\",\"x\":{\"field\":\"x\"},\"y\":{\"field\":\"y\"}},\"id\":\"20872\",\"type\":\"Line\"},{\"attributes\":{\"source\":{\"id\":\"21696\"}},\"id\":\"21700\",\"type\":\"CDSView\"},{\"attributes\":{},\"id\":\"20389\",\"type\":\"PanTool\"},{\"attributes\":{\"mantissas\":[1,2,5],\"max_interval\":500.0,\"num_minor_ticks\":0},\"id\":\"20412\",\"type\":\"AdaptiveTicker\"},{\"attributes\":{\"data_source\":{\"id\":\"20870\"},\"glyph\":{\"id\":\"20871\"},\"hover_glyph\":null,\"muted_glyph\":null,\"nonselection_glyph\":{\"id\":\"20872\"},\"selection_glyph\":null,\"view\":{\"id\":\"20874\"}},\"id\":\"20873\",\"type\":\"GlyphRenderer\"},{\"attributes\":{\"data\":{\"x\":{\"__ndarray__\":\"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\",\"dtype\":\"float64\",\"order\":\"little\",\"shape\":[300]},\"y\":{\"__ndarray__\":\"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\",\"dtype\":\"float64\",\"order\":\"little\",\"shape\":[300]}},\"selected\":{\"id\":\"22754\"},\"selection_policy\":{\"id\":\"22753\"}},\"id\":\"22416\",\"type\":\"ColumnDataSource\"},{\"attributes\":{\"bottom_units\":\"screen\",\"fill_alpha\":0.5,\"fill_color\":\"lightgrey\",\"left_units\":\"screen\",\"level\":\"overlay\",\"line_alpha\":1.0,\"line_color\":\"black\",\"line_dash\":[4,4],\"line_width\":2,\"right_units\":\"screen\",\"top_units\":\"screen\"},\"id\":\"20393\",\"type\":\"BoxAnnotation\"},{\"attributes\":{\"base\":60,\"mantissas\":[1,2,5,10,15,20,30],\"max_interval\":1800000.0,\"min_interval\":1000.0,\"num_minor_ticks\":0},\"id\":\"20413\",\"type\":\"AdaptiveTicker\"},{\"attributes\":{\"label\":{\"value\":\"Confirmed by Day\"},\"renderers\":[{\"id\":\"20403\"}]},\"id\":\"20426\",\"type\":\"LegendItem\"},{\"attributes\":{\"line_color\":\"red\",\"x\":{\"field\":\"x\"},\"y\":{\"field\":\"y\"}},\"id\":\"20871\",\"type\":\"Line\"},{\"attributes\":{},\"id\":\"22032\",\"type\":\"Selection\"},{\"attributes\":{\"axis\":{\"id\":\"20384\"},\"dimension\":1,\"ticker\":null},\"id\":\"20387\",\"type\":\"Grid\"},{\"attributes\":{\"base\":24,\"mantissas\":[1,2,4,6,8,12],\"max_interval\":43200000.0,\"min_interval\":3600000.0,\"num_minor_ticks\":0},\"id\":\"20414\",\"type\":\"AdaptiveTicker\"},{\"attributes\":{\"label\":{\"value\":\"Cumulative Cases\"},\"renderers\":[{\"id\":\"22419\"}]},\"id\":\"22794\",\"type\":\"LegendItem\"},{\"attributes\":{},\"id\":\"22753\",\"type\":\"UnionRenderers\"},{\"attributes\":{\"days\":[1,2,3,4,5,6,7,8,9,10,11,12,13,14,15,16,17,18,19,20,21,22,23,24,25,26,27,28,29,30,31]},\"id\":\"20415\",\"type\":\"DaysTicker\"},{\"attributes\":{},\"id\":\"21204\",\"type\":\"Selection\"},{\"attributes\":{},\"id\":\"20374\",\"type\":\"DataRange1d\"},{\"attributes\":{\"days\":[1,4,7,10,13,16,19,22,25,28]},\"id\":\"20416\",\"type\":\"DaysTicker\"},{\"attributes\":{\"axis\":{\"id\":\"20380\"},\"ticker\":null},\"id\":\"20383\",\"type\":\"Grid\"},{\"attributes\":{\"data\":{\"x\":{\"__ndarray__\":\"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\",\"dtype\":\"float64\",\"order\":\"little\",\"shape\":[300]},\"y\":{\"__ndarray__\":\"AAAAAAAAAAAAAAAAAAAAAAAAAAAAAAAAAAAAAAAAAAAAAAAAAAAAAAAAAAAAAAAAAAAAAAAAAAAAAAAAAAAAAAAAAAAAAAAAAAAAAAAAAAAAAAAAAAAAAAAAAAAAAAAAAAAAAAAAAAAAAAAAAAAAAAAAAAAAAAAAAAAAAAAAAAAAAAAAAAAAAAAAAAAAAAAAAAAAAAAAAAAAAAAAAAAAAAAAAAAAAAAAAAAAAAAAAAAAAAAAAAAAAAAAAAAAAAAAAAAAAAAAAAAAAAAAAAAAAAAAAAAAAAAAAAAAAAAAAAAAAAAAAAAAAAAAAAAAAAAAAAAAAAAAAAAAAAAAAAAAAAAAAAAAAAAAAAAAAAAAAAAAAAAAAAAAAAAAAAAAAAAAAAAAAAAAAAAAAAAAAAAAAAAAAAAAAAAAAAAAAAAAAAAAAAAAAAAAAAAAAAAAAAAAAAAAAAAAAAAAAAAAAAAAAAAAAAAAAAAAAAAAAAAAAAAAAAAAAAAAAAAAAAAAAAAAAAAAAAAAAAAAAAAAAAAAAAAAAAAAAAAAAAAAAAAAAAAAAAAAAAAAAAAAAAAAAAAAAAAAAAAAAAAAAAAAAADwPwAAAAAAAABAAAAAAAAACEAAAAAAAAAYQAAAAAAAAChAAAAAAAAALEAAAAAAAAA3QAAAAAAAgEBAAAAAAACARUAAAAAAAABOQAAAAAAAAFNAAAAAAAAAWUAAAAAAAMBdQAAAAAAAgGFAAAAAAAAAZEAAAAAAAGBnQAAAAAAAIGpAAAAAAADAbkAAAAAAAKBwQAAAAAAAcHJAAAAAAABwc0AAAAAAAJB1QAAAAAAAwHdAAAAAAACQeUAAAAAAADB7QAAAAAAAYH1AAAAAAACAf0AAAAAAALiAQAAAAAAAuIFAAAAAAAC4gkAAAAAAAKiDQAAAAAAAiIRAAAAAAAB4hUAAAAAAAFCGQAAAAAAA+IZAAAAAAADQh0AAAAAAAIiIQAAAAAAAoIlAAAAAAACwikAAAAAAAICLQAAAAAAAOIxAAAAAAAAAjUAAAAAAAKCNQAAAAAAAaI5AAAAAAADojkAAAAAAAHiPQAAAAAAA+I9AAAAAAABMkEAAAAAAAJyQQAAAAAAAyJBAAAAAAAAEkUAAAAAAAESRQAAAAAAAaJFAAAAAAACYkUAAAAAAALyRQAAAAAAA4JFAAAAAAAAskkAAAAAAAFySQAAAAAAAgJJAAAAAAACYkkAAAAAAAMySQAAAAAAACJNAAAAAAAA8k0AAAAAAAHyTQAAAAAAAvJNAAAAAAAD0k0AAAAAAACSUQAAAAAAAWJRAAAAAAACQlEAAAAAAAMiUQAAAAAAA+JRAAAAAAAAwlUAAAAAAAGSVQAAAAAAAnJVAAAAAAADQlUAAAAAAAAiWQAAAAAAAQJZAAAAAAABwlkAAAAAAAJyWQAAAAAAAvJZAAAAAAADklkAAAAAAAAiXQAAAAAAAHJdAAAAAAAA0l0AAAAAAAFCXQAAAAAAAZJdAAAAAAACAl0AAAAAAAISXQAAAAAAAoJdAAAAAAAC0l0AAAAAAAMCXQAAAAAAAyJdAAAAAAADMl0AAAAAAANCXQAAAAAAA3JdAAAAAAADgl0AAAAAAAOiXQAAAAAAA+JdAAAAAAAAQmEAAAAAAAByYQAAAAAAANJhAAAAAAABMmEAAAAAAAGSYQAAAAAAAcJhAAAAAAACAmEAAAAAAAKCYQAAAAAAArJhAAAAAAADMmEAAAAAAAPiYQAAAAAAAFJlAAAAAAAA4mUAAAAAAAFCZQAAAAAAAdJlAAAAAAAB8mUAAAAAAALCZQAAAAAAAuJlAAAAAAADYmUAAAAAAAPCZQAAAAAAA+JlAAAAAAAAQmkAAAAAAADCaQAAAAAAAPJpAAAAAAABImkAAAAAAAFCaQAAAAAAAZJpAAAAAAABsmkAAAAAAAISaQAAAAAAAmJpAAAAAAACkmkAAAAAAAMCaQAAAAAAA0JpAAAAAAADUmkAAAAAAANyaQAAAAAAA6JpAAAAAAAD0mkAAAAAAAPyaQAAAAAAAHJtAAAAAAAAkm0AAAAAAACibQAAAAAAAKJtAAAAAAAAsm0AAAAAAADCbQAAAAAAAPJtAAAAAAABIm0AAAAAAAFibQAAAAAAAcJtAAAAAAAB8m0AAAAAAAISbQAAAAAAAkJtAAAAAAACom0AAAAAAALCbQAAAAAAAvJtAAAAAAADIm0AAAAAAAMybQAAAAAAA4JtAAAAAAADom0AAAAAAAPCbQAAAAAAAAJxAAAAAAAAInEAAAAAAABCcQAAAAAAAJJxAAAAAAAA0nEAAAAAAADycQAAAAAAARJxAAAAAAABcnEAAAAAAAGicQAAAAAAAbJxAAAAAAAB4nEAAAAAAAICcQAAAAAAAjJxAAAAAAACUnEAAAAAAAKScQAAAAAAAuJxAAAAAAADAnEAAAAAAAMycQAAAAAAA2JxAAAAAAADknEAAAAAAAPCcQAAAAAAA/JxAAAAAAAAQnUAAAAAAACydQAAAAAAAPJ1AAAAAAABMnUAAAAAAAFidQAAAAAAAgJ1AAAAAAACYnUAAAAAAAKydQAAAAAAA4J1AAAAAAAAAnkAAAAAAABSeQAAAAAAAIJ5AAAAAAAAsnkAAAAAAAECeQAAAAAAAYJ5AAAAAAACEnkAAAAAAAJSeQAAAAAAArJ5AAAAAAADMnkAAAAAAAOSeQAAAAAAA/J5AAAAAAAAsn0AAAAAAAFSfQAAAAAAAiJ9AAAAAAADAn0AAAAAAAOCfQAAAAAAABKBAAAAAAAAcoEAAAAAAACagQAAAAAAAQKBAAAAAAABcoEAAAAAAAHygQAAAAAAAiqBAAAAAAACgoEAAAAAAAMqgQAAAAAAA5KBAAAAAAAAKoUAAAAAAACyhQAAAAAAASqFAAAAAAABqoUAAAAAAAIqhQAAAAAAAyKFAAAAAAADyoUAAAAAAABiiQAAAAAAATqJAAAAAAACGokAAAAAAALaiQAAAAAAA+KJAAAAAAABIo0AAAAAAAJajQAAAAAAA4KNAAAAAAAA8pEAAAAAAAJakQAAAAAAADKVAAAAAAABopUAAAAAAANClQAAAAAAAQKZAAAAAAACgpkAAAAAAAB6nQAAAAAAAmqdAAAAAAAA+qEAAAAAAANqoQAAAAAAAZKlAAAAAAADSqUAAAAAAAGqqQAAAAAAAIKtA\",\"dtype\":\"float64\",\"order\":\"little\",\"shape\":[300]}},\"selected\":{\"id\":\"22032\"},\"selection_policy\":{\"id\":\"22031\"}},\"id\":\"21696\",\"type\":\"ColumnDataSource\"},{\"attributes\":{\"line_color\":\"orange\",\"x\":{\"field\":\"x\"},\"y\":{\"field\":\"y\"}},\"id\":\"22417\",\"type\":\"Line\"},{\"attributes\":{\"label\":{\"value\":\"Cumulative Death\"},\"renderers\":[{\"id\":\"21699\"}]},\"id\":\"22070\",\"type\":\"LegendItem\"},{\"attributes\":{\"text\":\"Portugal cases evolution\"},\"id\":\"20370\",\"type\":\"Title\"},{\"attributes\":{\"days\":[1,8,15,22]},\"id\":\"20417\",\"type\":\"DaysTicker\"},{\"attributes\":{\"formatter\":{\"id\":\"20406\"},\"ticker\":{\"id\":\"20385\"}},\"id\":\"20384\",\"type\":\"LinearAxis\"},{\"attributes\":{\"days\":[1,15]},\"id\":\"20418\",\"type\":\"DaysTicker\"},{\"attributes\":{\"data\":{\"x\":{\"__ndarray__\":\"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\",\"dtype\":\"float64\",\"order\":\"little\",\"shape\":[300]},\"y\":{\"__ndarray__\":\"AAAAAAAAAAAAAAAAAAAAAAAAAAAAAAAAAAAAAAAAAAAAAAAAAAAAAAAAAAAAAAAAAAAAAAAAAAAAAAAAAAAAAAAAAAAAAAAAAAAAAAAAAAAAAAAAAAAAAAAAAAAAAAAAAAAAAAAAAAAAAAAAAAAAAAAAAAAAAAAAAAAAAAAAAAAAAAAAAAAAAAAAAAAAAAAAAAAAAAAAAAAAAAAAAAAAAAIAAAAAAAAAAwAAAAMAAAAFAAAABwAAAAoAAAAAAAAACwAAABIAAAAAAAAANQAAADkAAABMAAAAVgAAAHUAAAAAAAAAUQEAAOsAAAAEAQAAQAEAAMwBAAAuAQAAeQIAACUCAADUAgAAhgMAABgDAAC+AQAACwQAACgDAAAPAwAAVAMAAH4CAADyAgAAxAEAAMgCAAC7AgAALwMAAOwFAAADAgAAVgIAAF0BAAACAgAAgwIAAO4CAAC1AAAAlwIAAAkCAACRAgAABAIAAFsCAABzAQAAvAEAAFMCAADYAQAAowAAACcBAAC3AAAAHAIAADIBAABf////XAAAAPIAAACyAAAA4AEAABUCAAApAgAAigAAAK8AAABiAAAA6gAAANsAAAC7AAAACAEAAOMAAADiAAAArQAAAN8AAADkAAAA/AAAACABAAAPAQAAmAAAAKUAAADbAAAAHQEAADABAABeAQAAAQEAACkBAADIAAAAwwAAAG4BAABLAQAAeQEAAH4BAABWAQAAwAAAAKUBAAAmAQAANgEAAA4BAAAbAQAA4wAAAFoBAAAsAQAAUAEAAKEBAAB3AQAAeQEAACQBAAADAQAAWQEAAG8BAAA3AQAAwwEAAEMBAADJAQAACgEAAOUAAAA5AQAASAEAAHYBAACdAQAASAEAAOgAAAAfAQAAuwEAAKIBAACSAQAAHgIAACMBAAAyAQAA6QAAAHcBAABTAQAAOAEAADkBAAD2AAAAhwAAAH8AAAD8AAAA5QAAADkBAAAHAQAA0QAAAIcAAABvAAAAywAAAP8AAADMAAAA7gAAAJkAAABqAAAAcAAAAKcAAADVAAAAIgEAALoAAACDAAAAnQAAAHgAAAAWAQAARQEAAOsAAADGAAAAeQAAAIQAAADWAAAA/QAAACMBAADbAAAA8QAAAJEAAAB7AAAAwAAAAGoBAACPAQAAkQEAAHYBAABAAQAA9AAAAOcAAACGAQAAogEAAJYBAADmAQAAOwEAAPkAAACEAQAAhgIAAEkCAACvAgAA8QEAAKECAABlAgAAqQEAAF0CAAACAwAADAMAAFEDAAAoAgAAbwIAAM8BAAAiAwAAswIAAIMDAAB0AwAAmQIAAKkBAACwAgAAOQMAAFYDAAB4AwAAwwMAAIgDAADeAgAAqwEAALADAAD+BAAAcgUAAG4GAABCBAAA4QQAALgEAAAYCAAANQgAADAKAABpCAAAQAcAAJ0HAABUBwAA5wkAAMYMAABTCwAAVQ4AABEKAACPCQAA4wwAAHgPAACAEAAAMBIAAKcPAAD2CwAAygkAACQKAABJHQAAOhEAAK4VAADwGQAAmBYAAAAQAADpDgAARxMAAM8WAAD9GQAAyhkAAJMXAACzIAAA\",\"dtype\":\"int32\",\"order\":\"little\",\"shape\":[300]}},\"selected\":{\"id\":\"20411\"},\"selection_policy\":{\"id\":\"20410\"}},\"id\":\"20400\",\"type\":\"ColumnDataSource\"},{\"attributes\":{},\"id\":\"20372\",\"type\":\"DataRange1d\"},{\"attributes\":{\"line_color\":\"yellow\",\"x\":{\"field\":\"x\"},\"y\":{\"field\":\"y\"}},\"id\":\"21697\",\"type\":\"Line\"},{\"attributes\":{},\"id\":\"20408\",\"type\":\"DatetimeTickFormatter\"},{\"attributes\":{\"months\":[0,1,2,3,4,5,6,7,8,9,10,11]},\"id\":\"20419\",\"type\":\"MonthsTicker\"},{\"attributes\":{\"label\":{\"value\":\"Death by Day\"},\"renderers\":[{\"id\":\"20873\"}]},\"id\":\"21240\",\"type\":\"LegendItem\"},{\"attributes\":{\"months\":[0,2,4,6,8,10]},\"id\":\"20420\",\"type\":\"MonthsTicker\"},{\"attributes\":{\"formatter\":{\"id\":\"20408\"},\"ticker\":{\"id\":\"20381\"}},\"id\":\"20380\",\"type\":\"DatetimeAxis\"},{\"attributes\":{\"source\":{\"id\":\"20400\"}},\"id\":\"20404\",\"type\":\"CDSView\"},{\"attributes\":{\"months\":[0,4,8]},\"id\":\"20421\",\"type\":\"MonthsTicker\"},{\"attributes\":{\"line_alpha\":0.1,\"line_color\":\"#1f77b4\",\"x\":{\"field\":\"x\"},\"y\":{\"field\":\"y\"}},\"id\":\"20402\",\"type\":\"Line\"},{\"attributes\":{\"data\":{\"x\":{\"__ndarray__\":\"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\",\"dtype\":\"float64\",\"order\":\"little\",\"shape\":[300]},\"y\":{\"__ndarray__\":\"AAAAAAAAAAAAAAAAAAAAAAAAAAAAAAAAAAAAAAAAAAAAAAAAAAAAAAAAAAAAAAAAAAAAAAAAAAAAAAAAAAAAAAAAAAAAAAAAAAAAAAAAAAAAAAAAAAAAAAAAAAAAAAAAAAAAAAAAAAAAAAAAAAAAAAAAAAAAAAAAAAAAAAAAAAAAAAAAAAAAAAAAAAAAAAAAAAAAAAAAAAAAAAAAAAAAAAAAAAAAAAAAAAAAAAAAAAAAAAAAAAAAAAAAAAAAAAAAAAAAAAAAAAAAAAAAAAAAAAAAAAAAAAAAAAAAAAEAAAABAAAAAQAAAAMAAAAGAAAAAgAAAAkAAAAKAAAACgAAABEAAAAQAAAAGAAAABMAAAAVAAAAFAAAABsAAAAWAAAAJQAAABQAAAAdAAAAEAAAACIAAAAjAAAAHQAAABoAAAAjAAAAIgAAAB8AAAAgAAAAIAAAAB4AAAAcAAAAHgAAABsAAAAVAAAAGwAAABcAAAAjAAAAIgAAABoAAAAXAAAAGQAAABQAAAAZAAAAEAAAABIAAAAQAAAAFAAAABQAAAALAAAADwAAABAAAAAJAAAADAAAAAkAAAAJAAAAEwAAAAwAAAAJAAAABgAAAA0AAAAPAAAADQAAABAAAAAQAAAADgAAAAwAAAANAAAADgAAAA4AAAAMAAAADgAAAA0AAAAOAAAADQAAAA4AAAAOAAAADAAAAAsAAAAIAAAACgAAAAkAAAAFAAAABgAAAAcAAAAFAAAABwAAAAEAAAAHAAAABQAAAAMAAAACAAAAAQAAAAEAAAADAAAAAQAAAAIAAAAEAAAABgAAAAMAAAAGAAAABgAAAAYAAAADAAAABAAAAAgAAAADAAAACAAAAAsAAAAHAAAACQAAAAYAAAAJAAAAAgAAAA0AAAACAAAACAAAAAYAAAACAAAABgAAAAgAAAADAAAAAwAAAAIAAAAFAAAAAgAAAAYAAAAFAAAAAwAAAAcAAAAEAAAAAQAAAAIAAAADAAAAAwAAAAIAAAAIAAAAAgAAAAEAAAAAAAAAAQAAAAEAAAADAAAAAwAAAAQAAAAGAAAAAwAAAAIAAAADAAAABgAAAAIAAAADAAAAAwAAAAEAAAAFAAAAAgAAAAIAAAAEAAAAAgAAAAIAAAAFAAAABAAAAAIAAAACAAAABgAAAAMAAAABAAAAAwAAAAIAAAADAAAAAgAAAAQAAAAFAAAAAgAAAAMAAAADAAAAAwAAAAMAAAADAAAABQAAAAcAAAAEAAAABAAAAAMAAAAKAAAABgAAAAUAAAANAAAACAAAAAUAAAADAAAAAwAAAAUAAAAIAAAACQAAAAQAAAAGAAAACAAAAAYAAAAGAAAADAAAAAoAAAANAAAADgAAAAgAAAAKAAAADAAAAAUAAAANAAAADgAAABAAAAAHAAAACwAAABUAAAANAAAAEwAAABEAAAAPAAAAEAAAABAAAAAfAAAAFQAAABMAAAAbAAAAHAAAABgAAAAhAAAAKAAAACcAAAAlAAAALgAAAC0AAAA7AAAALgAAADQAAAA4AAAAMAAAAD8AAAA+AAAAUgAAAE4AAABFAAAANwAAAEwAAABbAAAA\",\"dtype\":\"int32\",\"order\":\"little\",\"shape\":[300]}},\"selected\":{\"id\":\"21204\"},\"selection_policy\":{\"id\":\"21203\"}},\"id\":\"20870\",\"type\":\"ColumnDataSource\"},{\"attributes\":{\"data_source\":{\"id\":\"21696\"},\"glyph\":{\"id\":\"21697\"},\"hover_glyph\":null,\"muted_glyph\":null,\"nonselection_glyph\":{\"id\":\"21698\"},\"selection_glyph\":null,\"view\":{\"id\":\"21700\"}},\"id\":\"21699\",\"type\":\"GlyphRenderer\"},{\"attributes\":{\"months\":[0,6]},\"id\":\"20422\",\"type\":\"MonthsTicker\"},{\"attributes\":{\"data_source\":{\"id\":\"20400\"},\"glyph\":{\"id\":\"20401\"},\"hover_glyph\":null,\"muted_glyph\":null,\"nonselection_glyph\":{\"id\":\"20402\"},\"selection_glyph\":null,\"view\":{\"id\":\"20404\"}},\"id\":\"20403\",\"type\":\"GlyphRenderer\"},{\"attributes\":{\"callback\":null,\"tooltips\":\"value: @y\"},\"id\":\"20388\",\"type\":\"HoverTool\"},{\"attributes\":{\"data_source\":{\"id\":\"22416\"},\"glyph\":{\"id\":\"22417\"},\"hover_glyph\":null,\"muted_glyph\":null,\"nonselection_glyph\":{\"id\":\"22418\"},\"selection_glyph\":null,\"view\":{\"id\":\"22420\"}},\"id\":\"22419\",\"type\":\"GlyphRenderer\"},{\"attributes\":{},\"id\":\"20376\",\"type\":\"LinearScale\"},{\"attributes\":{\"line_alpha\":0.1,\"line_color\":\"yellow\",\"x\":{\"field\":\"x\"},\"y\":{\"field\":\"y\"}},\"id\":\"21698\",\"type\":\"Line\"},{\"attributes\":{\"items\":[{\"id\":\"20426\"},{\"id\":\"21240\"},{\"id\":\"22070\"},{\"id\":\"22794\"}]},\"id\":\"20425\",\"type\":\"Legend\"},{\"attributes\":{\"line_color\":\"#1f77b4\",\"x\":{\"field\":\"x\"},\"y\":{\"field\":\"y\"}},\"id\":\"20401\",\"type\":\"Line\"},{\"attributes\":{},\"id\":\"20378\",\"type\":\"LinearScale\"},{\"attributes\":{},\"id\":\"20406\",\"type\":\"BasicTickFormatter\"},{\"attributes\":{\"num_minor_ticks\":5,\"tickers\":[{\"id\":\"20412\"},{\"id\":\"20413\"},{\"id\":\"20414\"},{\"id\":\"20415\"},{\"id\":\"20416\"},{\"id\":\"20417\"},{\"id\":\"20418\"},{\"id\":\"20419\"},{\"id\":\"20420\"},{\"id\":\"20421\"},{\"id\":\"20422\"},{\"id\":\"20423\"}]},\"id\":\"20381\",\"type\":\"DatetimeTicker\"},{\"attributes\":{},\"id\":\"22754\",\"type\":\"Selection\"},{\"attributes\":{\"source\":{\"id\":\"22416\"}},\"id\":\"22420\",\"type\":\"CDSView\"},{\"attributes\":{},\"id\":\"21203\",\"type\":\"UnionRenderers\"},{\"attributes\":{},\"id\":\"20410\",\"type\":\"UnionRenderers\"}],\"root_ids\":[\"20369\"]},\"title\":\"Bokeh Application\",\"version\":\"2.2.3\"}};\n",
       "  var render_items = [{\"docid\":\"c739828f-cdf4-4f8a-af5a-0db94e82d481\",\"root_ids\":[\"20369\"],\"roots\":{\"20369\":\"58a4f0e5-d0ff-4dbb-a3ec-b576a5c267a5\"}}];\n",
       "  root.Bokeh.embed.embed_items_notebook(docs_json, render_items);\n",
       "\n",
       "  }\n",
       "  if (root.Bokeh !== undefined) {\n",
       "    embed_document(root);\n",
       "  } else {\n",
       "    var attempts = 0;\n",
       "    var timer = setInterval(function(root) {\n",
       "      if (root.Bokeh !== undefined) {\n",
       "        clearInterval(timer);\n",
       "        embed_document(root);\n",
       "      } else {\n",
       "        attempts++;\n",
       "        if (attempts > 100) {\n",
       "          clearInterval(timer);\n",
       "          console.log(\"Bokeh: ERROR: Unable to run BokehJS code because BokehJS library is missing\");\n",
       "        }\n",
       "      }\n",
       "    }, 10, root)\n",
       "  }\n",
       "})(window);"
      ],
      "application/vnd.bokehjs_exec.v0+json": ""
     },
     "metadata": {
      "application/vnd.bokehjs_exec.v0+json": {
       "id": "20369"
      }
     },
     "output_type": "display_data"
    }
   ],
   "source": [
    "y = cumsum_selected[\"deaths\"]\n",
    "\n",
    "fig.line(x = x,y = y,legend_label=\"Cumulative Death\",color=\"yellow\")\n",
    "\n",
    "y = cumsum_selected[\"confirmed_cases\"]\n",
    "fig.line(x = x,y = y,legend_label=\"Cumulative Cases\",color=\"orange\")\n",
    "\n",
    "show(fig)"
   ]
  },
  {
   "cell_type": "markdown",
   "metadata": {},
   "source": [
    "### Ok. Now it is to hard to make sense out of this.\n",
    "\n",
    "Lets keep thing neat and tidy, so that we dont overwhelm our end-users with a lot of information."
   ]
  },
  {
   "cell_type": "markdown",
   "metadata": {},
   "source": [
    "### Lets do the same, but with less granularity. Let us see how Covid was increasing by week. (7D)"
   ]
  },
  {
   "cell_type": "code",
   "execution_count": 243,
   "metadata": {},
   "outputs": [],
   "source": [
    "country = \"Portugal\"\n",
    "mask = df[\"Country\"] ==country\n",
    "selected_country = df[mask]"
   ]
  },
  {
   "cell_type": "code",
   "execution_count": 244,
   "metadata": {},
   "outputs": [
    {
     "ename": "TypeError",
     "evalue": "Only valid with DatetimeIndex, TimedeltaIndex or PeriodIndex, but got an instance of 'Int64Index'",
     "output_type": "error",
     "traceback": [
      "\u001b[1;31m---------------------------------------------------------------------------\u001b[0m",
      "\u001b[1;31mTypeError\u001b[0m                                 Traceback (most recent call last)",
      "\u001b[1;32m<ipython-input-244-c99405b9c116>\u001b[0m in \u001b[0;36m<module>\u001b[1;34m\u001b[0m\n\u001b[1;32m----> 1\u001b[1;33m \u001b[0mselected_country\u001b[0m \u001b[1;33m=\u001b[0m \u001b[0mselected_country\u001b[0m\u001b[1;33m.\u001b[0m\u001b[0mresample\u001b[0m\u001b[1;33m(\u001b[0m\u001b[1;34m\"2D\"\u001b[0m\u001b[1;33m)\u001b[0m \u001b[1;31m#Attention check.\u001b[0m\u001b[1;33m\u001b[0m\u001b[1;33m\u001b[0m\u001b[0m\n\u001b[0m",
      "\u001b[1;32m~\\AppData\\Roaming\\Python\\Python37\\site-packages\\pandas\\core\\generic.py\u001b[0m in \u001b[0;36mresample\u001b[1;34m(self, rule, axis, closed, label, convention, kind, loffset, base, on, level)\u001b[0m\n\u001b[0;32m   8113\u001b[0m             \u001b[0mbase\u001b[0m\u001b[1;33m=\u001b[0m\u001b[0mbase\u001b[0m\u001b[1;33m,\u001b[0m\u001b[1;33m\u001b[0m\u001b[1;33m\u001b[0m\u001b[0m\n\u001b[0;32m   8114\u001b[0m             \u001b[0mkey\u001b[0m\u001b[1;33m=\u001b[0m\u001b[0mon\u001b[0m\u001b[1;33m,\u001b[0m\u001b[1;33m\u001b[0m\u001b[1;33m\u001b[0m\u001b[0m\n\u001b[1;32m-> 8115\u001b[1;33m             \u001b[0mlevel\u001b[0m\u001b[1;33m=\u001b[0m\u001b[0mlevel\u001b[0m\u001b[1;33m,\u001b[0m\u001b[1;33m\u001b[0m\u001b[1;33m\u001b[0m\u001b[0m\n\u001b[0m\u001b[0;32m   8116\u001b[0m         )\n\u001b[0;32m   8117\u001b[0m \u001b[1;33m\u001b[0m\u001b[0m\n",
      "\u001b[1;32m~\\AppData\\Roaming\\Python\\Python37\\site-packages\\pandas\\core\\resample.py\u001b[0m in \u001b[0;36mresample\u001b[1;34m(obj, kind, **kwds)\u001b[0m\n\u001b[0;32m   1268\u001b[0m     \"\"\"\n\u001b[0;32m   1269\u001b[0m     \u001b[0mtg\u001b[0m \u001b[1;33m=\u001b[0m \u001b[0mTimeGrouper\u001b[0m\u001b[1;33m(\u001b[0m\u001b[1;33m**\u001b[0m\u001b[0mkwds\u001b[0m\u001b[1;33m)\u001b[0m\u001b[1;33m\u001b[0m\u001b[1;33m\u001b[0m\u001b[0m\n\u001b[1;32m-> 1270\u001b[1;33m     \u001b[1;32mreturn\u001b[0m \u001b[0mtg\u001b[0m\u001b[1;33m.\u001b[0m\u001b[0m_get_resampler\u001b[0m\u001b[1;33m(\u001b[0m\u001b[0mobj\u001b[0m\u001b[1;33m,\u001b[0m \u001b[0mkind\u001b[0m\u001b[1;33m=\u001b[0m\u001b[0mkind\u001b[0m\u001b[1;33m)\u001b[0m\u001b[1;33m\u001b[0m\u001b[1;33m\u001b[0m\u001b[0m\n\u001b[0m\u001b[0;32m   1271\u001b[0m \u001b[1;33m\u001b[0m\u001b[0m\n\u001b[0;32m   1272\u001b[0m \u001b[1;33m\u001b[0m\u001b[0m\n",
      "\u001b[1;32m~\\AppData\\Roaming\\Python\\Python37\\site-packages\\pandas\\core\\resample.py\u001b[0m in \u001b[0;36m_get_resampler\u001b[1;34m(self, obj, kind)\u001b[0m\n\u001b[0;32m   1402\u001b[0m \u001b[1;33m\u001b[0m\u001b[0m\n\u001b[0;32m   1403\u001b[0m         raise TypeError(\n\u001b[1;32m-> 1404\u001b[1;33m             \u001b[1;34m\"Only valid with DatetimeIndex, \"\u001b[0m\u001b[1;33m\u001b[0m\u001b[1;33m\u001b[0m\u001b[0m\n\u001b[0m\u001b[0;32m   1405\u001b[0m             \u001b[1;34m\"TimedeltaIndex or PeriodIndex, \"\u001b[0m\u001b[1;33m\u001b[0m\u001b[1;33m\u001b[0m\u001b[0m\n\u001b[0;32m   1406\u001b[0m             \u001b[1;34mf\"but got an instance of '{type(ax).__name__}'\"\u001b[0m\u001b[1;33m\u001b[0m\u001b[1;33m\u001b[0m\u001b[0m\n",
      "\u001b[1;31mTypeError\u001b[0m: Only valid with DatetimeIndex, TimedeltaIndex or PeriodIndex, but got an instance of 'Int64Index'"
     ]
    }
   ],
   "source": [
    "selected_country = selected_country.resample(\"2D\") #Attention check."
   ]
  },
  {
   "cell_type": "code",
   "execution_count": 245,
   "metadata": {},
   "outputs": [],
   "source": [
    "selected_country.index = pd.to_datetime(selected_country[\"date\"])"
   ]
  },
  {
   "cell_type": "code",
   "execution_count": 246,
   "metadata": {},
   "outputs": [],
   "source": [
    "import numpy as np"
   ]
  },
  {
   "cell_type": "code",
   "execution_count": 247,
   "metadata": {},
   "outputs": [],
   "source": [
    "selected_country = selected_country.resample(\"7D\").agg([np.mean,np.sum,np.std])"
   ]
  },
  {
   "cell_type": "code",
   "execution_count": 248,
   "metadata": {},
   "outputs": [],
   "source": [
    "x = selected_country.index\n",
    "y = selected_country[\"confirmed_cases\"][\"mean\"]"
   ]
  },
  {
   "cell_type": "code",
   "execution_count": 261,
   "metadata": {},
   "outputs": [
    {
     "data": {
      "text/html": [
       "\n",
       "\n",
       "\n",
       "\n",
       "\n",
       "\n",
       "  <div class=\"bk-root\" id=\"74de53a2-93d4-4433-936e-a131e7f424c3\" data-root-id=\"29338\"></div>\n"
      ]
     },
     "metadata": {},
     "output_type": "display_data"
    },
    {
     "data": {
      "application/javascript": [
       "(function(root) {\n",
       "  function embed_document(root) {\n",
       "    \n",
       "  var docs_json = {\"117bc631-67cd-47d5-96a4-905a6fa56027\":{\"roots\":{\"references\":[{\"attributes\":{\"below\":[{\"id\":\"29349\"}],\"center\":[{\"id\":\"29352\"},{\"id\":\"29356\"},{\"id\":\"29394\"}],\"left\":[{\"id\":\"29353\"}],\"plot_height\":500,\"renderers\":[{\"id\":\"29372\"}],\"title\":{\"id\":\"29339\"},\"toolbar\":{\"id\":\"29363\"},\"x_range\":{\"id\":\"29341\"},\"x_scale\":{\"id\":\"29345\"},\"y_range\":{\"id\":\"29343\"},\"y_scale\":{\"id\":\"29347\"}},\"id\":\"29338\",\"subtype\":\"Figure\",\"type\":\"Plot\"},{\"attributes\":{},\"id\":\"29380\",\"type\":\"Selection\"},{\"attributes\":{\"axis\":{\"id\":\"29353\"},\"dimension\":1,\"ticker\":null},\"id\":\"29356\",\"type\":\"Grid\"},{\"attributes\":{\"months\":[0,4,8]},\"id\":\"29390\",\"type\":\"MonthsTicker\"},{\"attributes\":{\"text\":\"Portugal cases evolution\"},\"id\":\"29339\",\"type\":\"Title\"},{\"attributes\":{\"data_source\":{\"id\":\"29369\"},\"glyph\":{\"id\":\"29370\"},\"hover_glyph\":null,\"muted_glyph\":null,\"nonselection_glyph\":{\"id\":\"29371\"},\"selection_glyph\":null,\"view\":{\"id\":\"29373\"}},\"id\":\"29372\",\"type\":\"GlyphRenderer\"},{\"attributes\":{\"callback\":null,\"tooltips\":\"value: @y\"},\"id\":\"29357\",\"type\":\"HoverTool\"},{\"attributes\":{\"formatter\":{\"id\":\"29375\"},\"ticker\":{\"id\":\"29354\"}},\"id\":\"29353\",\"type\":\"LinearAxis\"},{\"attributes\":{},\"id\":\"29341\",\"type\":\"DataRange1d\"},{\"attributes\":{},\"id\":\"29358\",\"type\":\"PanTool\"},{\"attributes\":{\"axis\":{\"id\":\"29349\"},\"ticker\":null},\"id\":\"29352\",\"type\":\"Grid\"},{\"attributes\":{\"base\":24,\"mantissas\":[1,2,4,6,8,12],\"max_interval\":43200000.0,\"min_interval\":3600000.0,\"num_minor_ticks\":0},\"id\":\"29383\",\"type\":\"AdaptiveTicker\"},{\"attributes\":{},\"id\":\"29343\",\"type\":\"DataRange1d\"},{\"attributes\":{},\"id\":\"29359\",\"type\":\"WheelZoomTool\"},{\"attributes\":{\"mantissas\":[1,2,5],\"max_interval\":500.0,\"num_minor_ticks\":0},\"id\":\"29381\",\"type\":\"AdaptiveTicker\"},{\"attributes\":{\"days\":[1,8,15,22]},\"id\":\"29386\",\"type\":\"DaysTicker\"},{\"attributes\":{\"line_color\":\"orange\",\"x\":{\"field\":\"x\"},\"y\":{\"field\":\"y\"}},\"id\":\"29370\",\"type\":\"Line\"},{\"attributes\":{\"overlay\":{\"id\":\"29362\"}},\"id\":\"29360\",\"type\":\"BoxZoomTool\"},{\"attributes\":{\"days\":[1,2,3,4,5,6,7,8,9,10,11,12,13,14,15,16,17,18,19,20,21,22,23,24,25,26,27,28,29,30,31]},\"id\":\"29384\",\"type\":\"DaysTicker\"},{\"attributes\":{},\"id\":\"29361\",\"type\":\"ResetTool\"},{\"attributes\":{},\"id\":\"29377\",\"type\":\"DatetimeTickFormatter\"},{\"attributes\":{},\"id\":\"29345\",\"type\":\"LinearScale\"},{\"attributes\":{\"active_drag\":\"auto\",\"active_inspect\":\"auto\",\"active_multi\":null,\"active_scroll\":\"auto\",\"active_tap\":\"auto\",\"tools\":[{\"id\":\"29357\"},{\"id\":\"29358\"},{\"id\":\"29359\"},{\"id\":\"29360\"},{\"id\":\"29361\"}]},\"id\":\"29363\",\"type\":\"Toolbar\"},{\"attributes\":{\"days\":[1,15]},\"id\":\"29387\",\"type\":\"DaysTicker\"},{\"attributes\":{\"months\":[0,2,4,6,8,10]},\"id\":\"29389\",\"type\":\"MonthsTicker\"},{\"attributes\":{\"bottom_units\":\"screen\",\"fill_alpha\":0.5,\"fill_color\":\"lightgrey\",\"left_units\":\"screen\",\"level\":\"overlay\",\"line_alpha\":1.0,\"line_color\":\"black\",\"line_dash\":[4,4],\"line_width\":2,\"right_units\":\"screen\",\"top_units\":\"screen\"},\"id\":\"29362\",\"type\":\"BoxAnnotation\"},{\"attributes\":{},\"id\":\"29379\",\"type\":\"UnionRenderers\"},{\"attributes\":{},\"id\":\"29354\",\"type\":\"BasicTicker\"},{\"attributes\":{\"days\":[1,4,7,10,13,16,19,22,25,28]},\"id\":\"29385\",\"type\":\"DaysTicker\"},{\"attributes\":{},\"id\":\"29347\",\"type\":\"LinearScale\"},{\"attributes\":{\"line_alpha\":0.1,\"line_color\":\"orange\",\"x\":{\"field\":\"x\"},\"y\":{\"field\":\"y\"}},\"id\":\"29371\",\"type\":\"Line\"},{\"attributes\":{\"base\":60,\"mantissas\":[1,2,5,10,15,20,30],\"max_interval\":1800000.0,\"min_interval\":1000.0,\"num_minor_ticks\":0},\"id\":\"29382\",\"type\":\"AdaptiveTicker\"},{\"attributes\":{\"months\":[0,6]},\"id\":\"29391\",\"type\":\"MonthsTicker\"},{\"attributes\":{\"source\":{\"id\":\"29369\"}},\"id\":\"29373\",\"type\":\"CDSView\"},{\"attributes\":{\"items\":[{\"id\":\"29395\"}]},\"id\":\"29394\",\"type\":\"Legend\"},{\"attributes\":{},\"id\":\"29392\",\"type\":\"YearsTicker\"},{\"attributes\":{},\"id\":\"29375\",\"type\":\"BasicTickFormatter\"},{\"attributes\":{\"formatter\":{\"id\":\"29377\"},\"ticker\":{\"id\":\"29350\"}},\"id\":\"29349\",\"type\":\"DatetimeAxis\"},{\"attributes\":{\"label\":{\"value\":\"Mean confirmed by week\"},\"renderers\":[{\"id\":\"29372\"}]},\"id\":\"29395\",\"type\":\"LegendItem\"},{\"attributes\":{\"months\":[0,1,2,3,4,5,6,7,8,9,10,11]},\"id\":\"29388\",\"type\":\"MonthsTicker\"},{\"attributes\":{\"num_minor_ticks\":5,\"tickers\":[{\"id\":\"29381\"},{\"id\":\"29382\"},{\"id\":\"29383\"},{\"id\":\"29384\"},{\"id\":\"29385\"},{\"id\":\"29386\"},{\"id\":\"29387\"},{\"id\":\"29388\"},{\"id\":\"29389\"},{\"id\":\"29390\"},{\"id\":\"29391\"},{\"id\":\"29392\"}]},\"id\":\"29350\",\"type\":\"DatetimeTicker\"},{\"attributes\":{\"data\":{\"x\":{\"__ndarray__\":\"AABAx6j8dkIAAICP6f52QgAAwFcqAXdCAAAAIGsDd0IAAEDoqwV3QgAAgLDsB3dCAADAeC0Kd0IAAABBbgx3QgAAQAmvDndCAACA0e8Qd0IAAMCZMBN3QgAAAGJxFXdCAABAKrIXd0IAAIDy8hl3QgAAwLozHHdCAAAAg3Qed0IAAEBLtSB3QgAAgBP2IndCAADA2zYld0IAAACkdyd3QgAAQGy4KXdCAACANPkrd0IAAMD8OS53QgAAAMV6MHdCAABAjbsyd0IAAIBV/DR3QgAAwB09N3dCAAAA5n05d0IAAECuvjt3QgAAgHb/PXdCAADAPkBAd0IAAAAHgUJ3QgAAQM/BRHdCAACAlwJHd0IAAMBfQ0l3QgAAACiES3dCAABA8MRNd0IAAIC4BVB3QgAAwIBGUndCAAAASYdUd0IAAEARyFZ3QgAAgNkIWXdCAADAoUlbd0I=\",\"dtype\":\"float64\",\"order\":\"little\",\"shape\":[43]},\"y\":{\"__ndarray__\":\"AAAAAAAAAAAAAAAAAAAAAAAAAAAAAAAAAAAAAAAAAAAAAAAAAAAAAJIkSZIkSdI/kiRJkiRJFkAlSZIkSRJNQG7btm3bFnFAbtu2bduuhkCSJEmSJFGGQJIkSZIkWYZASZIkSZKMgUBu27Zt20Z6QEmSJEmSpGhA27Zt27a9c0AAAAAAACBrQAAAAAAAIGxAt23btm3bcEBu27Zt24Z1QAAAAAAAIHJAAAAAAABwdUBu27Zt23Z1QAAAAAAAUHRAbtu2bduGd0Dbtm3btn1wQAAAAAAAAGtAJUmSJEmyZkAlSZIkSZJmQG7btm3b1mpASZIkSZIkakAAAAAAANB0QNu2bdu2rXdAt23btm1rgkCSJEmSJLmEQAAAAAAAkIZAJUmSJEn6iEDbtm3btqmTQNu2bdu2T6BAkiRJkiQZp0AAAAAAAOqrQJIkSZIkF7VAVVVVVdUFuUA=\",\"dtype\":\"float64\",\"order\":\"little\",\"shape\":[43]}},\"selected\":{\"id\":\"29380\"},\"selection_policy\":{\"id\":\"29379\"}},\"id\":\"29369\",\"type\":\"ColumnDataSource\"}],\"root_ids\":[\"29338\"]},\"title\":\"Bokeh Application\",\"version\":\"2.2.3\"}};\n",
       "  var render_items = [{\"docid\":\"117bc631-67cd-47d5-96a4-905a6fa56027\",\"root_ids\":[\"29338\"],\"roots\":{\"29338\":\"74de53a2-93d4-4433-936e-a131e7f424c3\"}}];\n",
       "  root.Bokeh.embed.embed_items_notebook(docs_json, render_items);\n",
       "\n",
       "  }\n",
       "  if (root.Bokeh !== undefined) {\n",
       "    embed_document(root);\n",
       "  } else {\n",
       "    var attempts = 0;\n",
       "    var timer = setInterval(function(root) {\n",
       "      if (root.Bokeh !== undefined) {\n",
       "        clearInterval(timer);\n",
       "        embed_document(root);\n",
       "      } else {\n",
       "        attempts++;\n",
       "        if (attempts > 100) {\n",
       "          clearInterval(timer);\n",
       "          console.log(\"Bokeh: ERROR: Unable to run BokehJS code because BokehJS library is missing\");\n",
       "        }\n",
       "      }\n",
       "    }, 10, root)\n",
       "  }\n",
       "})(window);"
      ],
      "application/vnd.bokehjs_exec.v0+json": ""
     },
     "metadata": {
      "application/vnd.bokehjs_exec.v0+json": {
       "id": "29338"
      }
     },
     "output_type": "display_data"
    }
   ],
   "source": [
    "fig = figure(width= 600,height=500,tools=\"hover,pan,wheel_zoom,box_zoom,reset\",title=\"{} cases evolution\".format(country),x_axis_type=\"datetime\",tooltips=\"value: @y\")\n",
    "fig.line(x = x,y = y,legend_label=\"Mean confirmed by week\",color=\"orange\")\n",
    "show(fig)"
   ]
  },
  {
   "cell_type": "code",
   "execution_count": 262,
   "metadata": {},
   "outputs": [],
   "source": [
    "conf_cases = selected_country[\"confirmed_cases\"]\n",
    "upper = conf_cases[\"mean\"] + conf_cases[\"std\"]\n",
    "lower = conf_cases[\"mean\"] - conf_cases[\"std\"]"
   ]
  },
  {
   "cell_type": "code",
   "execution_count": 263,
   "metadata": {},
   "outputs": [],
   "source": [
    "source = { \"x\": x, \"upper\" :upper,\"lower\":lower}"
   ]
  },
  {
   "cell_type": "code",
   "execution_count": 267,
   "metadata": {},
   "outputs": [],
   "source": [
    "from bokeh.models import Band, ColumnDataSource"
   ]
  },
  {
   "cell_type": "code",
   "execution_count": 265,
   "metadata": {},
   "outputs": [
    {
     "data": {
      "text/html": [
       "\n",
       "\n",
       "\n",
       "\n",
       "\n",
       "\n",
       "  <div class=\"bk-root\" id=\"d84af8d5-aaec-4996-ae42-8f66e5410c64\" data-root-id=\"29338\"></div>\n"
      ]
     },
     "metadata": {},
     "output_type": "display_data"
    },
    {
     "data": {
      "application/javascript": [
       "(function(root) {\n",
       "  function embed_document(root) {\n",
       "    \n",
       "  var docs_json = {\"17aa6807-a6a7-4861-ad26-ba43b5afedf0\":{\"roots\":{\"references\":[{\"attributes\":{\"below\":[{\"id\":\"29349\"}],\"center\":[{\"id\":\"29352\"},{\"id\":\"29356\"},{\"id\":\"29394\"},{\"id\":\"29938\"}],\"left\":[{\"id\":\"29353\"}],\"plot_height\":500,\"renderers\":[{\"id\":\"29372\"}],\"title\":{\"id\":\"29339\"},\"toolbar\":{\"id\":\"29363\"},\"x_range\":{\"id\":\"29341\"},\"x_scale\":{\"id\":\"29345\"},\"y_range\":{\"id\":\"29343\"},\"y_scale\":{\"id\":\"29347\"}},\"id\":\"29338\",\"subtype\":\"Figure\",\"type\":\"Plot\"},{\"attributes\":{},\"id\":\"29380\",\"type\":\"Selection\"},{\"attributes\":{\"axis\":{\"id\":\"29353\"},\"dimension\":1,\"ticker\":null},\"id\":\"29356\",\"type\":\"Grid\"},{\"attributes\":{\"data\":{\"lower\":{\"__ndarray__\":\"AAAAAAAAAAAAAAAAAAAAAAAAAAAAAAAAAAAAAAAAAAAAAAAAAAAAADzLBjv/F96/Kknfdfg8+T+gA+aU2i8yQOg//Ok9oWBA97da5X5QgEBxFJ4WiByCQKPpNCcXw3RAVLrMHjFnd0Br0MYzsFhwQNDhUQPK/y7AiuT2AN1iXUDYR0Nm/GtnQFMG8eCCtmVA7IzwjYCkakDaCqxmV/JwQObdypxsqm9A2quwQjcTckDpo4AyQgRwQG/u2zUMq3BAp7HLsF7rcEBq/4T5yqZkQG05DEdXDmJAXGwkLsqiXkAWZ8m9xLxeQBZ2f0hSpGFAolrNSyKmYkBDNS5ftGRwQOb5XPx+6XJAXDCIMQzPfkCHUb/j6VuAQN3ImYSnf4FAwKCWUqNig0AK+1C3BC2QQLCECW6Hn5xACjxreWVzo0DKvcZ/DU+lQA4A/Iykdq9AGaOC6ViKtEA=\",\"dtype\":\"float64\",\"order\":\"little\",\"shape\":[43]},\"upper\":{\"__ndarray__\":\"AAAAAAAAAAAAAAAAAAAAAAAAAAAAAAAAAAAAAAAAAAAAAAAAAAAAABhF5heSqvA/bTuNg4UhI0A9yFh/UoZYQOiWb+YX3XlA5f4S9jcNjUCzNPQNwYWKQCnqe8heKJFAaMfiAoxlh0A4c9NTgxqCQFghP5mQnHlAStpOO1sRgEAouLyZA9RuQNd8h4++RHFA+JS+JptkdEACrMF0Xxt6QA2RmrHJanRAJlRPvcjMeEDzEu2odOl6QJERJMrz9HdANQWiKlgifkAB7hg6CKh2QErjeVzU+HFAHFwSMi0TbkC/3j/qL8ZtQGMgd0myBHJA+OQ9I4HRcEC9ytGgSzt5QNBzfrrucXxAQMPyVFVvhUCd99JAXxaJQCM3ZntYoItAivGN9u6RjkCscor/aCaXQF6r1v+pT6JAGg0nq+O+qkAboRxAeUKxQB1JFN72crpAkQcowVGBvUA=\",\"dtype\":\"float64\",\"order\":\"little\",\"shape\":[43]},\"x\":{\"__ndarray__\":\"AABAx6j8dkIAAICP6f52QgAAwFcqAXdCAAAAIGsDd0IAAEDoqwV3QgAAgLDsB3dCAADAeC0Kd0IAAABBbgx3QgAAQAmvDndCAACA0e8Qd0IAAMCZMBN3QgAAAGJxFXdCAABAKrIXd0IAAIDy8hl3QgAAwLozHHdCAAAAg3Qed0IAAEBLtSB3QgAAgBP2IndCAADA2zYld0IAAACkdyd3QgAAQGy4KXdCAACANPkrd0IAAMD8OS53QgAAAMV6MHdCAABAjbsyd0IAAIBV/DR3QgAAwB09N3dCAAAA5n05d0IAAECuvjt3QgAAgHb/PXdCAADAPkBAd0IAAAAHgUJ3QgAAQM/BRHdCAACAlwJHd0IAAMBfQ0l3QgAAACiES3dCAABA8MRNd0IAAIC4BVB3QgAAwIBGUndCAAAASYdUd0IAAEARyFZ3QgAAgNkIWXdCAADAoUlbd0I=\",\"dtype\":\"float64\",\"order\":\"little\",\"shape\":[43]}},\"selected\":{\"id\":\"30369\"},\"selection_policy\":{\"id\":\"30368\"}},\"id\":\"29937\",\"type\":\"ColumnDataSource\"},{\"attributes\":{\"months\":[0,4,8]},\"id\":\"29390\",\"type\":\"MonthsTicker\"},{\"attributes\":{\"text\":\"Portugal cases evolution\"},\"id\":\"29339\",\"type\":\"Title\"},{\"attributes\":{\"data_source\":{\"id\":\"29369\"},\"glyph\":{\"id\":\"29370\"},\"hover_glyph\":null,\"muted_glyph\":null,\"nonselection_glyph\":{\"id\":\"29371\"},\"selection_glyph\":null,\"view\":{\"id\":\"29373\"}},\"id\":\"29372\",\"type\":\"GlyphRenderer\"},{\"attributes\":{\"callback\":null,\"tooltips\":\"value: @y\"},\"id\":\"29357\",\"type\":\"HoverTool\"},{\"attributes\":{},\"id\":\"30368\",\"type\":\"UnionRenderers\"},{\"attributes\":{\"formatter\":{\"id\":\"29375\"},\"ticker\":{\"id\":\"29354\"}},\"id\":\"29353\",\"type\":\"LinearAxis\"},{\"attributes\":{},\"id\":\"29341\",\"type\":\"DataRange1d\"},{\"attributes\":{},\"id\":\"29358\",\"type\":\"PanTool\"},{\"attributes\":{\"axis\":{\"id\":\"29349\"},\"ticker\":null},\"id\":\"29352\",\"type\":\"Grid\"},{\"attributes\":{\"base\":24,\"mantissas\":[1,2,4,6,8,12],\"max_interval\":43200000.0,\"min_interval\":3600000.0,\"num_minor_ticks\":0},\"id\":\"29383\",\"type\":\"AdaptiveTicker\"},{\"attributes\":{},\"id\":\"29343\",\"type\":\"DataRange1d\"},{\"attributes\":{},\"id\":\"29359\",\"type\":\"WheelZoomTool\"},{\"attributes\":{\"mantissas\":[1,2,5],\"max_interval\":500.0,\"num_minor_ticks\":0},\"id\":\"29381\",\"type\":\"AdaptiveTicker\"},{\"attributes\":{\"days\":[1,8,15,22]},\"id\":\"29386\",\"type\":\"DaysTicker\"},{\"attributes\":{\"line_color\":\"orange\",\"x\":{\"field\":\"x\"},\"y\":{\"field\":\"y\"}},\"id\":\"29370\",\"type\":\"Line\"},{\"attributes\":{\"overlay\":{\"id\":\"29362\"}},\"id\":\"29360\",\"type\":\"BoxZoomTool\"},{\"attributes\":{\"days\":[1,2,3,4,5,6,7,8,9,10,11,12,13,14,15,16,17,18,19,20,21,22,23,24,25,26,27,28,29,30,31]},\"id\":\"29384\",\"type\":\"DaysTicker\"},{\"attributes\":{},\"id\":\"29361\",\"type\":\"ResetTool\"},{\"attributes\":{},\"id\":\"29377\",\"type\":\"DatetimeTickFormatter\"},{\"attributes\":{},\"id\":\"29345\",\"type\":\"LinearScale\"},{\"attributes\":{\"active_drag\":\"auto\",\"active_inspect\":\"auto\",\"active_multi\":null,\"active_scroll\":\"auto\",\"active_tap\":\"auto\",\"tools\":[{\"id\":\"29357\"},{\"id\":\"29358\"},{\"id\":\"29359\"},{\"id\":\"29360\"},{\"id\":\"29361\"}]},\"id\":\"29363\",\"type\":\"Toolbar\"},{\"attributes\":{},\"id\":\"30369\",\"type\":\"Selection\"},{\"attributes\":{\"days\":[1,15]},\"id\":\"29387\",\"type\":\"DaysTicker\"},{\"attributes\":{\"months\":[0,2,4,6,8,10]},\"id\":\"29389\",\"type\":\"MonthsTicker\"},{\"attributes\":{\"bottom_units\":\"screen\",\"fill_alpha\":0.5,\"fill_color\":\"lightgrey\",\"left_units\":\"screen\",\"level\":\"overlay\",\"line_alpha\":1.0,\"line_color\":\"black\",\"line_dash\":[4,4],\"line_width\":2,\"right_units\":\"screen\",\"top_units\":\"screen\"},\"id\":\"29362\",\"type\":\"BoxAnnotation\"},{\"attributes\":{\"base\":{\"field\":\"x\",\"units\":\"data\"},\"fill_alpha\":0.2,\"fill_color\":\"orange\",\"level\":\"underlay\",\"line_color\":\"orange\",\"lower\":{\"field\":\"lower\",\"units\":\"data\"},\"source\":{\"id\":\"29937\"},\"upper\":{\"field\":\"upper\",\"units\":\"data\"}},\"id\":\"29938\",\"type\":\"Band\"},{\"attributes\":{},\"id\":\"29379\",\"type\":\"UnionRenderers\"},{\"attributes\":{},\"id\":\"29354\",\"type\":\"BasicTicker\"},{\"attributes\":{\"days\":[1,4,7,10,13,16,19,22,25,28]},\"id\":\"29385\",\"type\":\"DaysTicker\"},{\"attributes\":{},\"id\":\"29347\",\"type\":\"LinearScale\"},{\"attributes\":{\"line_alpha\":0.1,\"line_color\":\"orange\",\"x\":{\"field\":\"x\"},\"y\":{\"field\":\"y\"}},\"id\":\"29371\",\"type\":\"Line\"},{\"attributes\":{\"base\":60,\"mantissas\":[1,2,5,10,15,20,30],\"max_interval\":1800000.0,\"min_interval\":1000.0,\"num_minor_ticks\":0},\"id\":\"29382\",\"type\":\"AdaptiveTicker\"},{\"attributes\":{\"months\":[0,6]},\"id\":\"29391\",\"type\":\"MonthsTicker\"},{\"attributes\":{\"source\":{\"id\":\"29369\"}},\"id\":\"29373\",\"type\":\"CDSView\"},{\"attributes\":{\"items\":[{\"id\":\"29395\"}]},\"id\":\"29394\",\"type\":\"Legend\"},{\"attributes\":{},\"id\":\"29392\",\"type\":\"YearsTicker\"},{\"attributes\":{},\"id\":\"29375\",\"type\":\"BasicTickFormatter\"},{\"attributes\":{\"formatter\":{\"id\":\"29377\"},\"ticker\":{\"id\":\"29350\"}},\"id\":\"29349\",\"type\":\"DatetimeAxis\"},{\"attributes\":{\"label\":{\"value\":\"Mean confirmed by week\"},\"renderers\":[{\"id\":\"29372\"}]},\"id\":\"29395\",\"type\":\"LegendItem\"},{\"attributes\":{\"months\":[0,1,2,3,4,5,6,7,8,9,10,11]},\"id\":\"29388\",\"type\":\"MonthsTicker\"},{\"attributes\":{\"num_minor_ticks\":5,\"tickers\":[{\"id\":\"29381\"},{\"id\":\"29382\"},{\"id\":\"29383\"},{\"id\":\"29384\"},{\"id\":\"29385\"},{\"id\":\"29386\"},{\"id\":\"29387\"},{\"id\":\"29388\"},{\"id\":\"29389\"},{\"id\":\"29390\"},{\"id\":\"29391\"},{\"id\":\"29392\"}]},\"id\":\"29350\",\"type\":\"DatetimeTicker\"},{\"attributes\":{\"data\":{\"x\":{\"__ndarray__\":\"AABAx6j8dkIAAICP6f52QgAAwFcqAXdCAAAAIGsDd0IAAEDoqwV3QgAAgLDsB3dCAADAeC0Kd0IAAABBbgx3QgAAQAmvDndCAACA0e8Qd0IAAMCZMBN3QgAAAGJxFXdCAABAKrIXd0IAAIDy8hl3QgAAwLozHHdCAAAAg3Qed0IAAEBLtSB3QgAAgBP2IndCAADA2zYld0IAAACkdyd3QgAAQGy4KXdCAACANPkrd0IAAMD8OS53QgAAAMV6MHdCAABAjbsyd0IAAIBV/DR3QgAAwB09N3dCAAAA5n05d0IAAECuvjt3QgAAgHb/PXdCAADAPkBAd0IAAAAHgUJ3QgAAQM/BRHdCAACAlwJHd0IAAMBfQ0l3QgAAACiES3dCAABA8MRNd0IAAIC4BVB3QgAAwIBGUndCAAAASYdUd0IAAEARyFZ3QgAAgNkIWXdCAADAoUlbd0I=\",\"dtype\":\"float64\",\"order\":\"little\",\"shape\":[43]},\"y\":{\"__ndarray__\":\"AAAAAAAAAAAAAAAAAAAAAAAAAAAAAAAAAAAAAAAAAAAAAAAAAAAAAJIkSZIkSdI/kiRJkiRJFkAlSZIkSRJNQG7btm3bFnFAbtu2bduuhkCSJEmSJFGGQJIkSZIkWYZASZIkSZKMgUBu27Zt20Z6QEmSJEmSpGhA27Zt27a9c0AAAAAAACBrQAAAAAAAIGxAt23btm3bcEBu27Zt24Z1QAAAAAAAIHJAAAAAAABwdUBu27Zt23Z1QAAAAAAAUHRAbtu2bduGd0Dbtm3btn1wQAAAAAAAAGtAJUmSJEmyZkAlSZIkSZJmQG7btm3b1mpASZIkSZIkakAAAAAAANB0QNu2bdu2rXdAt23btm1rgkCSJEmSJLmEQAAAAAAAkIZAJUmSJEn6iEDbtm3btqmTQNu2bdu2T6BAkiRJkiQZp0AAAAAAAOqrQJIkSZIkF7VAVVVVVdUFuUA=\",\"dtype\":\"float64\",\"order\":\"little\",\"shape\":[43]}},\"selected\":{\"id\":\"29380\"},\"selection_policy\":{\"id\":\"29379\"}},\"id\":\"29369\",\"type\":\"ColumnDataSource\"}],\"root_ids\":[\"29338\"]},\"title\":\"Bokeh Application\",\"version\":\"2.2.3\"}};\n",
       "  var render_items = [{\"docid\":\"17aa6807-a6a7-4861-ad26-ba43b5afedf0\",\"root_ids\":[\"29338\"],\"roots\":{\"29338\":\"d84af8d5-aaec-4996-ae42-8f66e5410c64\"}}];\n",
       "  root.Bokeh.embed.embed_items_notebook(docs_json, render_items);\n",
       "\n",
       "  }\n",
       "  if (root.Bokeh !== undefined) {\n",
       "    embed_document(root);\n",
       "  } else {\n",
       "    var attempts = 0;\n",
       "    var timer = setInterval(function(root) {\n",
       "      if (root.Bokeh !== undefined) {\n",
       "        clearInterval(timer);\n",
       "        embed_document(root);\n",
       "      } else {\n",
       "        attempts++;\n",
       "        if (attempts > 100) {\n",
       "          clearInterval(timer);\n",
       "          console.log(\"Bokeh: ERROR: Unable to run BokehJS code because BokehJS library is missing\");\n",
       "        }\n",
       "      }\n",
       "    }, 10, root)\n",
       "  }\n",
       "})(window);"
      ],
      "application/vnd.bokehjs_exec.v0+json": ""
     },
     "metadata": {
      "application/vnd.bokehjs_exec.v0+json": {
       "id": "29338"
      }
     },
     "output_type": "display_data"
    }
   ],
   "source": [
    "band = Band(base=\"x\", lower=\"lower\", upper=\"upper\", source=ColumnDataSource(data=source), level='underlay',\n",
    "            fill_alpha=0.2, line_width=1, line_color='orange',fill_color=\"orange\")\n",
    "\n",
    "fig.add_layout(band) #we need to add this one explicitly..\n",
    "show(fig)"
   ]
  },
  {
   "cell_type": "code",
   "execution_count": null,
   "metadata": {},
   "outputs": [],
   "source": [
    "fig.varea(x=\"x\",y1= \"upper\", y2= \"lower\",legend_label=\"std\",color=\"orange\",fill_alpha=0.2,source=source) #This also works, but then I wouldnt be able to make a pun with bands."
   ]
  }
 ],
 "metadata": {
  "kernelspec": {
   "display_name": "Python 3",
   "language": "python",
   "name": "python3"
  },
  "language_info": {
   "codemirror_mode": {
    "name": "ipython",
    "version": 3
   },
   "file_extension": ".py",
   "mimetype": "text/x-python",
   "name": "python",
   "nbconvert_exporter": "python",
   "pygments_lexer": "ipython3",
   "version": "3.7.3"
  }
 },
 "nbformat": 4,
 "nbformat_minor": 4
}
