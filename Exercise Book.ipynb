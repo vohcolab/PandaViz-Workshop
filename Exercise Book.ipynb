{
 "cells": [
  {
   "cell_type": "markdown",
   "metadata": {},
   "source": [
    "All the necessary imports and so forth"
   ]
  },
  {
   "cell_type": "code",
   "execution_count": 133,
   "metadata": {},
   "outputs": [],
   "source": [
    "import pandas as pd\n",
    "import numpy as np"
   ]
  },
  {
   "cell_type": "markdown",
   "metadata": {},
   "source": [
    "## Use Case\n",
    "#### You are given given data of a patient that contains several biometric data, and a nurse asks you a way to visualize the heart rate of said patient across time.\n",
    "\n"
   ]
  },
  {
   "cell_type": "markdown",
   "metadata": {},
   "source": [
    "This type of data can be quasi-real-time, real-time or static.\n",
    "\n",
    "In this case, we have the data of a patient that is not longer being monitored. Hence, it is already in a nice and structured csv format.\n",
    "\n",
    "We already load the data for you, but you are to follow the nurse requirements!\n",
    "Also, keep in mind that in the real world the requirements change constantly, so expect things to change as you go!"
   ]
  },
  {
   "cell_type": "code",
   "execution_count": 134,
   "metadata": {},
   "outputs": [],
   "source": [
    "path = \"patient.csv\" #.csv file of one patient\n",
    "df = pd.read_csv(path,index_col= 0) #Inspect the csv and read the docs to undersand why we had to set the param index_col = 0\n",
    "df.index = pd.to_datetime(df.index) #Why do we need to do this?"
   ]
  },
  {
   "cell_type": "markdown",
   "metadata": {},
   "source": [
    "With the data loaded, you inspect the file, to understand its structure."
   ]
  },
  {
   "cell_type": "code",
   "execution_count": 135,
   "metadata": {},
   "outputs": [
    {
     "data": {
      "text/html": [
       "<div>\n",
       "<style scoped>\n",
       "    .dataframe tbody tr th:only-of-type {\n",
       "        vertical-align: middle;\n",
       "    }\n",
       "\n",
       "    .dataframe tbody tr th {\n",
       "        vertical-align: top;\n",
       "    }\n",
       "\n",
       "    .dataframe thead th {\n",
       "        text-align: right;\n",
       "    }\n",
       "</style>\n",
       "<table border=\"1\" class=\"dataframe\">\n",
       "  <thead>\n",
       "    <tr style=\"text-align: right;\">\n",
       "      <th></th>\n",
       "      <th>steps</th>\n",
       "      <th>heartrate</th>\n",
       "      <th>Weight</th>\n",
       "      <th>bpm</th>\n",
       "      <th>diastolic</th>\n",
       "      <th>irreghr</th>\n",
       "      <th>systolic</th>\n",
       "    </tr>\n",
       "  </thead>\n",
       "  <tbody>\n",
       "    <tr>\n",
       "      <th>2020-07-20 14:29:52.111</th>\n",
       "      <td>NaN</td>\n",
       "      <td>NaN</td>\n",
       "      <td>86.5</td>\n",
       "      <td>NaN</td>\n",
       "      <td>NaN</td>\n",
       "      <td>NaN</td>\n",
       "      <td>NaN</td>\n",
       "    </tr>\n",
       "    <tr>\n",
       "      <th>2020-07-20 14:35:15.963</th>\n",
       "      <td>NaN</td>\n",
       "      <td>NaN</td>\n",
       "      <td>NaN</td>\n",
       "      <td>69.0</td>\n",
       "      <td>84.0</td>\n",
       "      <td>0.0</td>\n",
       "      <td>125.0</td>\n",
       "    </tr>\n",
       "    <tr>\n",
       "      <th>2020-07-20 14:45:00.000</th>\n",
       "      <td>NaN</td>\n",
       "      <td>73.0</td>\n",
       "      <td>NaN</td>\n",
       "      <td>NaN</td>\n",
       "      <td>NaN</td>\n",
       "      <td>NaN</td>\n",
       "      <td>NaN</td>\n",
       "    </tr>\n",
       "    <tr>\n",
       "      <th>2020-07-20 14:47:00.000</th>\n",
       "      <td>NaN</td>\n",
       "      <td>55.0</td>\n",
       "      <td>NaN</td>\n",
       "      <td>NaN</td>\n",
       "      <td>NaN</td>\n",
       "      <td>NaN</td>\n",
       "      <td>NaN</td>\n",
       "    </tr>\n",
       "    <tr>\n",
       "      <th>2020-07-20 14:49:00.000</th>\n",
       "      <td>NaN</td>\n",
       "      <td>73.0</td>\n",
       "      <td>NaN</td>\n",
       "      <td>NaN</td>\n",
       "      <td>NaN</td>\n",
       "      <td>NaN</td>\n",
       "      <td>NaN</td>\n",
       "    </tr>\n",
       "    <tr>\n",
       "      <th>...</th>\n",
       "      <td>...</td>\n",
       "      <td>...</td>\n",
       "      <td>...</td>\n",
       "      <td>...</td>\n",
       "      <td>...</td>\n",
       "      <td>...</td>\n",
       "      <td>...</td>\n",
       "    </tr>\n",
       "    <tr>\n",
       "      <th>2020-08-18 15:16:00.000</th>\n",
       "      <td>NaN</td>\n",
       "      <td>45.0</td>\n",
       "      <td>NaN</td>\n",
       "      <td>NaN</td>\n",
       "      <td>NaN</td>\n",
       "      <td>NaN</td>\n",
       "      <td>NaN</td>\n",
       "    </tr>\n",
       "    <tr>\n",
       "      <th>2020-08-18 15:26:00.000</th>\n",
       "      <td>NaN</td>\n",
       "      <td>68.0</td>\n",
       "      <td>NaN</td>\n",
       "      <td>NaN</td>\n",
       "      <td>NaN</td>\n",
       "      <td>NaN</td>\n",
       "      <td>NaN</td>\n",
       "    </tr>\n",
       "    <tr>\n",
       "      <th>2020-08-18 15:36:00.000</th>\n",
       "      <td>NaN</td>\n",
       "      <td>67.0</td>\n",
       "      <td>NaN</td>\n",
       "      <td>NaN</td>\n",
       "      <td>NaN</td>\n",
       "      <td>NaN</td>\n",
       "      <td>NaN</td>\n",
       "    </tr>\n",
       "    <tr>\n",
       "      <th>2020-08-18 15:46:00.000</th>\n",
       "      <td>NaN</td>\n",
       "      <td>69.0</td>\n",
       "      <td>NaN</td>\n",
       "      <td>NaN</td>\n",
       "      <td>NaN</td>\n",
       "      <td>NaN</td>\n",
       "      <td>NaN</td>\n",
       "    </tr>\n",
       "    <tr>\n",
       "      <th>2020-08-18 15:56:00.000</th>\n",
       "      <td>NaN</td>\n",
       "      <td>65.0</td>\n",
       "      <td>NaN</td>\n",
       "      <td>NaN</td>\n",
       "      <td>NaN</td>\n",
       "      <td>NaN</td>\n",
       "      <td>NaN</td>\n",
       "    </tr>\n",
       "  </tbody>\n",
       "</table>\n",
       "<p>8867 rows × 7 columns</p>\n",
       "</div>"
      ],
      "text/plain": [
       "                         steps  heartrate  Weight   bpm  diastolic  irreghr  \\\n",
       "2020-07-20 14:29:52.111    NaN        NaN    86.5   NaN        NaN      NaN   \n",
       "2020-07-20 14:35:15.963    NaN        NaN     NaN  69.0       84.0      0.0   \n",
       "2020-07-20 14:45:00.000    NaN       73.0     NaN   NaN        NaN      NaN   \n",
       "2020-07-20 14:47:00.000    NaN       55.0     NaN   NaN        NaN      NaN   \n",
       "2020-07-20 14:49:00.000    NaN       73.0     NaN   NaN        NaN      NaN   \n",
       "...                        ...        ...     ...   ...        ...      ...   \n",
       "2020-08-18 15:16:00.000    NaN       45.0     NaN   NaN        NaN      NaN   \n",
       "2020-08-18 15:26:00.000    NaN       68.0     NaN   NaN        NaN      NaN   \n",
       "2020-08-18 15:36:00.000    NaN       67.0     NaN   NaN        NaN      NaN   \n",
       "2020-08-18 15:46:00.000    NaN       69.0     NaN   NaN        NaN      NaN   \n",
       "2020-08-18 15:56:00.000    NaN       65.0     NaN   NaN        NaN      NaN   \n",
       "\n",
       "                         systolic  \n",
       "2020-07-20 14:29:52.111       NaN  \n",
       "2020-07-20 14:35:15.963     125.0  \n",
       "2020-07-20 14:45:00.000       NaN  \n",
       "2020-07-20 14:47:00.000       NaN  \n",
       "2020-07-20 14:49:00.000       NaN  \n",
       "...                           ...  \n",
       "2020-08-18 15:16:00.000       NaN  \n",
       "2020-08-18 15:26:00.000       NaN  \n",
       "2020-08-18 15:36:00.000       NaN  \n",
       "2020-08-18 15:46:00.000       NaN  \n",
       "2020-08-18 15:56:00.000       NaN  \n",
       "\n",
       "[8867 rows x 7 columns]"
      ]
     },
     "execution_count": 135,
     "metadata": {},
     "output_type": "execute_result"
    }
   ],
   "source": [
    "df"
   ]
  },
  {
   "cell_type": "markdown",
   "metadata": {},
   "source": [
    "### Exercise 1:\n",
    "##### The nurse is only interested on the heart rate field."
   ]
  },
  {
   "cell_type": "code",
   "execution_count": 106,
   "metadata": {},
   "outputs": [],
   "source": [
    "heart_rate = df[\"heartrate\"]"
   ]
  },
  {
   "cell_type": "code",
   "execution_count": 107,
   "metadata": {},
   "outputs": [
    {
     "data": {
      "text/plain": [
       "2020-07-20 14:29:52.111     NaN\n",
       "2020-07-20 14:35:15.963     NaN\n",
       "2020-07-20 14:45:00.000    73.0\n",
       "2020-07-20 14:47:00.000    55.0\n",
       "2020-07-20 14:49:00.000    73.0\n",
       "                           ... \n",
       "2020-08-18 15:16:00.000    45.0\n",
       "2020-08-18 15:26:00.000    68.0\n",
       "2020-08-18 15:36:00.000    67.0\n",
       "2020-08-18 15:46:00.000    69.0\n",
       "2020-08-18 15:56:00.000    65.0\n",
       "Name: heartrate, Length: 8867, dtype: float64"
      ]
     },
     "execution_count": 107,
     "metadata": {},
     "output_type": "execute_result"
    }
   ],
   "source": [
    "heart_rate"
   ]
  },
  {
   "cell_type": "markdown",
   "metadata": {},
   "source": [
    "### Exercise 2\n",
    "##### The nurse wants to see the max, min and average of the patients heartrate"
   ]
  },
  {
   "cell_type": "code",
   "execution_count": 108,
   "metadata": {},
   "outputs": [
    {
     "data": {
      "text/plain": [
       "amin     41.000000\n",
       "amax    169.000000\n",
       "mean     64.026193\n",
       "Name: heartrate, dtype: float64"
      ]
     },
     "execution_count": 108,
     "metadata": {},
     "output_type": "execute_result"
    }
   ],
   "source": [
    "heart_rate.agg([np.min,np.max,np.mean])"
   ]
  },
  {
   "cell_type": "markdown",
   "metadata": {},
   "source": [
    "### Exercise 2.1\n",
    "##### The nurse wants to know the max, min and average of the patients heart rate by day"
   ]
  },
  {
   "cell_type": "code",
   "execution_count": 110,
   "metadata": {},
   "outputs": [
    {
     "data": {
      "text/html": [
       "<div>\n",
       "<style scoped>\n",
       "    .dataframe tbody tr th:only-of-type {\n",
       "        vertical-align: middle;\n",
       "    }\n",
       "\n",
       "    .dataframe tbody tr th {\n",
       "        vertical-align: top;\n",
       "    }\n",
       "\n",
       "    .dataframe thead th {\n",
       "        text-align: right;\n",
       "    }\n",
       "</style>\n",
       "<table border=\"1\" class=\"dataframe\">\n",
       "  <thead>\n",
       "    <tr style=\"text-align: right;\">\n",
       "      <th></th>\n",
       "      <th>amin</th>\n",
       "      <th>amax</th>\n",
       "      <th>mean</th>\n",
       "    </tr>\n",
       "  </thead>\n",
       "  <tbody>\n",
       "    <tr>\n",
       "      <th>2020-07-20</th>\n",
       "      <td>44.0</td>\n",
       "      <td>101.0</td>\n",
       "      <td>76.948718</td>\n",
       "    </tr>\n",
       "    <tr>\n",
       "      <th>2020-07-21</th>\n",
       "      <td>44.0</td>\n",
       "      <td>98.0</td>\n",
       "      <td>70.250000</td>\n",
       "    </tr>\n",
       "    <tr>\n",
       "      <th>2020-07-22</th>\n",
       "      <td>41.0</td>\n",
       "      <td>135.0</td>\n",
       "      <td>65.167213</td>\n",
       "    </tr>\n",
       "    <tr>\n",
       "      <th>2020-07-23</th>\n",
       "      <td>46.0</td>\n",
       "      <td>155.0</td>\n",
       "      <td>66.514851</td>\n",
       "    </tr>\n",
       "    <tr>\n",
       "      <th>2020-07-24</th>\n",
       "      <td>46.0</td>\n",
       "      <td>111.0</td>\n",
       "      <td>61.446667</td>\n",
       "    </tr>\n",
       "    <tr>\n",
       "      <th>2020-07-25</th>\n",
       "      <td>47.0</td>\n",
       "      <td>147.0</td>\n",
       "      <td>64.865801</td>\n",
       "    </tr>\n",
       "    <tr>\n",
       "      <th>2020-07-26</th>\n",
       "      <td>51.0</td>\n",
       "      <td>114.0</td>\n",
       "      <td>62.252632</td>\n",
       "    </tr>\n",
       "    <tr>\n",
       "      <th>2020-07-27</th>\n",
       "      <td>49.0</td>\n",
       "      <td>129.0</td>\n",
       "      <td>60.962963</td>\n",
       "    </tr>\n",
       "    <tr>\n",
       "      <th>2020-07-28</th>\n",
       "      <td>45.0</td>\n",
       "      <td>99.0</td>\n",
       "      <td>62.797414</td>\n",
       "    </tr>\n",
       "    <tr>\n",
       "      <th>2020-07-29</th>\n",
       "      <td>45.0</td>\n",
       "      <td>131.0</td>\n",
       "      <td>64.834711</td>\n",
       "    </tr>\n",
       "    <tr>\n",
       "      <th>2020-07-30</th>\n",
       "      <td>43.0</td>\n",
       "      <td>102.0</td>\n",
       "      <td>66.187500</td>\n",
       "    </tr>\n",
       "    <tr>\n",
       "      <th>2020-07-31</th>\n",
       "      <td>42.0</td>\n",
       "      <td>102.0</td>\n",
       "      <td>64.654545</td>\n",
       "    </tr>\n",
       "    <tr>\n",
       "      <th>2020-08-01</th>\n",
       "      <td>43.0</td>\n",
       "      <td>102.0</td>\n",
       "      <td>64.210366</td>\n",
       "    </tr>\n",
       "    <tr>\n",
       "      <th>2020-08-02</th>\n",
       "      <td>42.0</td>\n",
       "      <td>113.0</td>\n",
       "      <td>62.983498</td>\n",
       "    </tr>\n",
       "    <tr>\n",
       "      <th>2020-08-03</th>\n",
       "      <td>50.0</td>\n",
       "      <td>93.0</td>\n",
       "      <td>60.376384</td>\n",
       "    </tr>\n",
       "    <tr>\n",
       "      <th>2020-08-04</th>\n",
       "      <td>47.0</td>\n",
       "      <td>118.0</td>\n",
       "      <td>60.775000</td>\n",
       "    </tr>\n",
       "    <tr>\n",
       "      <th>2020-08-05</th>\n",
       "      <td>45.0</td>\n",
       "      <td>114.0</td>\n",
       "      <td>63.059801</td>\n",
       "    </tr>\n",
       "    <tr>\n",
       "      <th>2020-08-06</th>\n",
       "      <td>42.0</td>\n",
       "      <td>106.0</td>\n",
       "      <td>64.328729</td>\n",
       "    </tr>\n",
       "    <tr>\n",
       "      <th>2020-08-07</th>\n",
       "      <td>48.0</td>\n",
       "      <td>121.0</td>\n",
       "      <td>60.892442</td>\n",
       "    </tr>\n",
       "    <tr>\n",
       "      <th>2020-08-08</th>\n",
       "      <td>41.0</td>\n",
       "      <td>113.0</td>\n",
       "      <td>61.423977</td>\n",
       "    </tr>\n",
       "    <tr>\n",
       "      <th>2020-08-09</th>\n",
       "      <td>50.0</td>\n",
       "      <td>115.0</td>\n",
       "      <td>63.623932</td>\n",
       "    </tr>\n",
       "    <tr>\n",
       "      <th>2020-08-10</th>\n",
       "      <td>46.0</td>\n",
       "      <td>99.0</td>\n",
       "      <td>64.122995</td>\n",
       "    </tr>\n",
       "    <tr>\n",
       "      <th>2020-08-11</th>\n",
       "      <td>43.0</td>\n",
       "      <td>169.0</td>\n",
       "      <td>63.487179</td>\n",
       "    </tr>\n",
       "    <tr>\n",
       "      <th>2020-08-12</th>\n",
       "      <td>43.0</td>\n",
       "      <td>93.0</td>\n",
       "      <td>61.889807</td>\n",
       "    </tr>\n",
       "    <tr>\n",
       "      <th>2020-08-13</th>\n",
       "      <td>44.0</td>\n",
       "      <td>147.0</td>\n",
       "      <td>64.396694</td>\n",
       "    </tr>\n",
       "    <tr>\n",
       "      <th>2020-08-14</th>\n",
       "      <td>41.0</td>\n",
       "      <td>147.0</td>\n",
       "      <td>64.009585</td>\n",
       "    </tr>\n",
       "    <tr>\n",
       "      <th>2020-08-15</th>\n",
       "      <td>42.0</td>\n",
       "      <td>140.0</td>\n",
       "      <td>64.086420</td>\n",
       "    </tr>\n",
       "    <tr>\n",
       "      <th>2020-08-16</th>\n",
       "      <td>42.0</td>\n",
       "      <td>155.0</td>\n",
       "      <td>68.003215</td>\n",
       "    </tr>\n",
       "    <tr>\n",
       "      <th>2020-08-17</th>\n",
       "      <td>44.0</td>\n",
       "      <td>141.0</td>\n",
       "      <td>67.346260</td>\n",
       "    </tr>\n",
       "    <tr>\n",
       "      <th>2020-08-18</th>\n",
       "      <td>45.0</td>\n",
       "      <td>99.0</td>\n",
       "      <td>68.422794</td>\n",
       "    </tr>\n",
       "  </tbody>\n",
       "</table>\n",
       "</div>"
      ],
      "text/plain": [
       "            amin   amax       mean\n",
       "2020-07-20  44.0  101.0  76.948718\n",
       "2020-07-21  44.0   98.0  70.250000\n",
       "2020-07-22  41.0  135.0  65.167213\n",
       "2020-07-23  46.0  155.0  66.514851\n",
       "2020-07-24  46.0  111.0  61.446667\n",
       "2020-07-25  47.0  147.0  64.865801\n",
       "2020-07-26  51.0  114.0  62.252632\n",
       "2020-07-27  49.0  129.0  60.962963\n",
       "2020-07-28  45.0   99.0  62.797414\n",
       "2020-07-29  45.0  131.0  64.834711\n",
       "2020-07-30  43.0  102.0  66.187500\n",
       "2020-07-31  42.0  102.0  64.654545\n",
       "2020-08-01  43.0  102.0  64.210366\n",
       "2020-08-02  42.0  113.0  62.983498\n",
       "2020-08-03  50.0   93.0  60.376384\n",
       "2020-08-04  47.0  118.0  60.775000\n",
       "2020-08-05  45.0  114.0  63.059801\n",
       "2020-08-06  42.0  106.0  64.328729\n",
       "2020-08-07  48.0  121.0  60.892442\n",
       "2020-08-08  41.0  113.0  61.423977\n",
       "2020-08-09  50.0  115.0  63.623932\n",
       "2020-08-10  46.0   99.0  64.122995\n",
       "2020-08-11  43.0  169.0  63.487179\n",
       "2020-08-12  43.0   93.0  61.889807\n",
       "2020-08-13  44.0  147.0  64.396694\n",
       "2020-08-14  41.0  147.0  64.009585\n",
       "2020-08-15  42.0  140.0  64.086420\n",
       "2020-08-16  42.0  155.0  68.003215\n",
       "2020-08-17  44.0  141.0  67.346260\n",
       "2020-08-18  45.0   99.0  68.422794"
      ]
     },
     "execution_count": 110,
     "metadata": {},
     "output_type": "execute_result"
    }
   ],
   "source": [
    "heart_rate.resample(\"1D\").agg([np.min,np.max,np.mean])"
   ]
  },
  {
   "cell_type": "markdown",
   "metadata": {},
   "source": [
    "### Exercise 2.2\n",
    "##### The nurse wants to see the max, min and average of the patients heart rate by 3H but only in the last 7 days of measures"
   ]
  },
  {
   "cell_type": "code",
   "execution_count": 124,
   "metadata": {},
   "outputs": [],
   "source": [
    "mask = (heart_rate.index.max() - heart_rate.index).days <=7\n"
   ]
  },
  {
   "cell_type": "code",
   "execution_count": 127,
   "metadata": {},
   "outputs": [
    {
     "data": {
      "text/html": [
       "<div>\n",
       "<style scoped>\n",
       "    .dataframe tbody tr th:only-of-type {\n",
       "        vertical-align: middle;\n",
       "    }\n",
       "\n",
       "    .dataframe tbody tr th {\n",
       "        vertical-align: top;\n",
       "    }\n",
       "\n",
       "    .dataframe thead th {\n",
       "        text-align: right;\n",
       "    }\n",
       "</style>\n",
       "<table border=\"1\" class=\"dataframe\">\n",
       "  <thead>\n",
       "    <tr style=\"text-align: right;\">\n",
       "      <th></th>\n",
       "      <th>amin</th>\n",
       "      <th>amax</th>\n",
       "      <th>mean</th>\n",
       "    </tr>\n",
       "  </thead>\n",
       "  <tbody>\n",
       "    <tr>\n",
       "      <th>2020-08-10 15:00:00</th>\n",
       "      <td>63.0</td>\n",
       "      <td>87.0</td>\n",
       "      <td>71.107143</td>\n",
       "    </tr>\n",
       "    <tr>\n",
       "      <th>2020-08-10 18:00:00</th>\n",
       "      <td>63.0</td>\n",
       "      <td>99.0</td>\n",
       "      <td>76.176471</td>\n",
       "    </tr>\n",
       "    <tr>\n",
       "      <th>2020-08-10 21:00:00</th>\n",
       "      <td>49.0</td>\n",
       "      <td>75.0</td>\n",
       "      <td>64.555556</td>\n",
       "    </tr>\n",
       "    <tr>\n",
       "      <th>2020-08-11 00:00:00</th>\n",
       "      <td>51.0</td>\n",
       "      <td>70.0</td>\n",
       "      <td>57.540000</td>\n",
       "    </tr>\n",
       "    <tr>\n",
       "      <th>2020-08-11 03:00:00</th>\n",
       "      <td>46.0</td>\n",
       "      <td>82.0</td>\n",
       "      <td>53.950000</td>\n",
       "    </tr>\n",
       "    <tr>\n",
       "      <th>...</th>\n",
       "      <td>...</td>\n",
       "      <td>...</td>\n",
       "      <td>...</td>\n",
       "    </tr>\n",
       "    <tr>\n",
       "      <th>2020-08-18 03:00:00</th>\n",
       "      <td>52.0</td>\n",
       "      <td>75.0</td>\n",
       "      <td>66.566667</td>\n",
       "    </tr>\n",
       "    <tr>\n",
       "      <th>2020-08-18 06:00:00</th>\n",
       "      <td>56.0</td>\n",
       "      <td>87.0</td>\n",
       "      <td>67.878788</td>\n",
       "    </tr>\n",
       "    <tr>\n",
       "      <th>2020-08-18 09:00:00</th>\n",
       "      <td>57.0</td>\n",
       "      <td>99.0</td>\n",
       "      <td>75.956522</td>\n",
       "    </tr>\n",
       "    <tr>\n",
       "      <th>2020-08-18 12:00:00</th>\n",
       "      <td>57.0</td>\n",
       "      <td>86.0</td>\n",
       "      <td>75.444444</td>\n",
       "    </tr>\n",
       "    <tr>\n",
       "      <th>2020-08-18 15:00:00</th>\n",
       "      <td>45.0</td>\n",
       "      <td>69.0</td>\n",
       "      <td>62.333333</td>\n",
       "    </tr>\n",
       "  </tbody>\n",
       "</table>\n",
       "<p>65 rows × 3 columns</p>\n",
       "</div>"
      ],
      "text/plain": [
       "                     amin  amax       mean\n",
       "2020-08-10 15:00:00  63.0  87.0  71.107143\n",
       "2020-08-10 18:00:00  63.0  99.0  76.176471\n",
       "2020-08-10 21:00:00  49.0  75.0  64.555556\n",
       "2020-08-11 00:00:00  51.0  70.0  57.540000\n",
       "2020-08-11 03:00:00  46.0  82.0  53.950000\n",
       "...                   ...   ...        ...\n",
       "2020-08-18 03:00:00  52.0  75.0  66.566667\n",
       "2020-08-18 06:00:00  56.0  87.0  67.878788\n",
       "2020-08-18 09:00:00  57.0  99.0  75.956522\n",
       "2020-08-18 12:00:00  57.0  86.0  75.444444\n",
       "2020-08-18 15:00:00  45.0  69.0  62.333333\n",
       "\n",
       "[65 rows x 3 columns]"
      ]
     },
     "execution_count": 127,
     "metadata": {},
     "output_type": "execute_result"
    }
   ],
   "source": [
    "heart_rate.loc[mask].resample(\"3H\").agg([np.min,np.max,np.mean])"
   ]
  },
  {
   "cell_type": "markdown",
   "metadata": {},
   "source": [
    "### Exercise 2.3\n",
    "##### The nurse wants to see the max, min and average of the patients heart rate by 3H, but ignoring night time (Between 23 and 8)"
   ]
  },
  {
   "cell_type": "code",
   "execution_count": 129,
   "metadata": {},
   "outputs": [],
   "source": [
    "mask = (heart_rate.index.hour >=23) | (heart_rate.index.hour <=8)"
   ]
  },
  {
   "cell_type": "code",
   "execution_count": 130,
   "metadata": {},
   "outputs": [
    {
     "data": {
      "text/html": [
       "<div>\n",
       "<style scoped>\n",
       "    .dataframe tbody tr th:only-of-type {\n",
       "        vertical-align: middle;\n",
       "    }\n",
       "\n",
       "    .dataframe tbody tr th {\n",
       "        vertical-align: top;\n",
       "    }\n",
       "\n",
       "    .dataframe thead th {\n",
       "        text-align: right;\n",
       "    }\n",
       "</style>\n",
       "<table border=\"1\" class=\"dataframe\">\n",
       "  <thead>\n",
       "    <tr style=\"text-align: right;\">\n",
       "      <th></th>\n",
       "      <th>amin</th>\n",
       "      <th>amax</th>\n",
       "      <th>mean</th>\n",
       "    </tr>\n",
       "  </thead>\n",
       "  <tbody>\n",
       "    <tr>\n",
       "      <th>2020-07-20 21:00:00</th>\n",
       "      <td>64.0</td>\n",
       "      <td>95.0</td>\n",
       "      <td>78.500000</td>\n",
       "    </tr>\n",
       "    <tr>\n",
       "      <th>2020-07-21 00:00:00</th>\n",
       "      <td>61.0</td>\n",
       "      <td>86.0</td>\n",
       "      <td>66.465517</td>\n",
       "    </tr>\n",
       "    <tr>\n",
       "      <th>2020-07-21 03:00:00</th>\n",
       "      <td>59.0</td>\n",
       "      <td>70.0</td>\n",
       "      <td>63.473684</td>\n",
       "    </tr>\n",
       "    <tr>\n",
       "      <th>2020-07-21 06:00:00</th>\n",
       "      <td>60.0</td>\n",
       "      <td>98.0</td>\n",
       "      <td>67.805556</td>\n",
       "    </tr>\n",
       "    <tr>\n",
       "      <th>2020-07-21 09:00:00</th>\n",
       "      <td>NaN</td>\n",
       "      <td>NaN</td>\n",
       "      <td>NaN</td>\n",
       "    </tr>\n",
       "    <tr>\n",
       "      <th>...</th>\n",
       "      <td>...</td>\n",
       "      <td>...</td>\n",
       "      <td>...</td>\n",
       "    </tr>\n",
       "    <tr>\n",
       "      <th>2020-08-17 18:00:00</th>\n",
       "      <td>NaN</td>\n",
       "      <td>NaN</td>\n",
       "      <td>NaN</td>\n",
       "    </tr>\n",
       "    <tr>\n",
       "      <th>2020-08-17 21:00:00</th>\n",
       "      <td>56.0</td>\n",
       "      <td>68.0</td>\n",
       "      <td>63.500000</td>\n",
       "    </tr>\n",
       "    <tr>\n",
       "      <th>2020-08-18 00:00:00</th>\n",
       "      <td>50.0</td>\n",
       "      <td>76.0</td>\n",
       "      <td>67.550725</td>\n",
       "    </tr>\n",
       "    <tr>\n",
       "      <th>2020-08-18 03:00:00</th>\n",
       "      <td>52.0</td>\n",
       "      <td>75.0</td>\n",
       "      <td>66.566667</td>\n",
       "    </tr>\n",
       "    <tr>\n",
       "      <th>2020-08-18 06:00:00</th>\n",
       "      <td>56.0</td>\n",
       "      <td>87.0</td>\n",
       "      <td>67.878788</td>\n",
       "    </tr>\n",
       "  </tbody>\n",
       "</table>\n",
       "<p>228 rows × 3 columns</p>\n",
       "</div>"
      ],
      "text/plain": [
       "                     amin  amax       mean\n",
       "2020-07-20 21:00:00  64.0  95.0  78.500000\n",
       "2020-07-21 00:00:00  61.0  86.0  66.465517\n",
       "2020-07-21 03:00:00  59.0  70.0  63.473684\n",
       "2020-07-21 06:00:00  60.0  98.0  67.805556\n",
       "2020-07-21 09:00:00   NaN   NaN        NaN\n",
       "...                   ...   ...        ...\n",
       "2020-08-17 18:00:00   NaN   NaN        NaN\n",
       "2020-08-17 21:00:00  56.0  68.0  63.500000\n",
       "2020-08-18 00:00:00  50.0  76.0  67.550725\n",
       "2020-08-18 03:00:00  52.0  75.0  66.566667\n",
       "2020-08-18 06:00:00  56.0  87.0  67.878788\n",
       "\n",
       "[228 rows x 3 columns]"
      ]
     },
     "execution_count": 130,
     "metadata": {},
     "output_type": "execute_result"
    }
   ],
   "source": [
    "heart_rate.loc[mask].resample(\"3H\").agg([np.min,np.max,np.mean])"
   ]
  },
  {
   "cell_type": "markdown",
   "metadata": {},
   "source": [
    "### Exercise 3.\n",
    "#### The nurse is complaining that she takes too long to read the numbers on a table, instead she wants a graphic.\n",
    "Plot only exercises 2.1 and 2.2"
   ]
  },
  {
   "cell_type": "code",
   "execution_count": 132,
   "metadata": {},
   "outputs": [
    {
     "data": {
      "text/plain": [
       "<matplotlib.axes._subplots.AxesSubplot at 0x27f03e97e80>"
      ]
     },
     "execution_count": 132,
     "metadata": {},
     "output_type": "execute_result"
    },
    {
     "data": {
      "image/png": "[encoded data removed]",
      "text/plain": [
       "<Figure size 432x288 with 1 Axes>"
      ]
     },
     "metadata": {
      "needs_background": "light"
     },
     "output_type": "display_data"
    }
   ],
   "source": [
    "heart_rate.resample(\"1D\").agg([np.min,np.max,np.mean]).plot()"
   ]
  },
  {
   "cell_type": "code",
   "execution_count": 131,
   "metadata": {},
   "outputs": [
    {
     "data": {
      "text/plain": [
       "<matplotlib.axes._subplots.AxesSubplot at 0x27f03df04a8>"
      ]
     },
     "execution_count": 131,
     "metadata": {},
     "output_type": "execute_result"
    },
    {
     "data": {
      "image/png": "[encoded data removed]",
      "text/plain": [
       "<Figure size 432x288 with 1 Axes>"
      ]
     },
     "metadata": {
      "needs_background": "light"
     },
     "output_type": "display_data"
    }
   ],
   "source": [
    "heart_rate.loc[mask].resample(\"3H\").agg([np.min,np.max,np.mean]).plot()"
   ]
  },
  {
   "cell_type": "markdown",
   "metadata": {},
   "source": [
    "### Exercise 4\n",
    "#### The nurse is enjoying the plots, but she thinks that they are a bit hard to read.  \n",
    "##### Use Bokeh to enrich these visualizations!"
   ]
  },
  {
   "cell_type": "code",
   "execution_count": 188,
   "metadata": {},
   "outputs": [
    {
     "ename": "ImportError",
     "evalue": "cannot import name 'Range1D' from 'bokeh.models' (C:\\Users\\msdc1\\Anaconda3\\lib\\site-packages\\bokeh\\models\\__init__.py)",
     "output_type": "error",
     "traceback": [
      "\u001b[1;31m---------------------------------------------------------------------------\u001b[0m",
      "\u001b[1;31mImportError\u001b[0m                               Traceback (most recent call last)",
      "\u001b[1;32m<ipython-input-188-7cc5a0d1eb6b>\u001b[0m in \u001b[0;36m<module>\u001b[1;34m\u001b[0m\n\u001b[0;32m      1\u001b[0m \u001b[1;32mfrom\u001b[0m \u001b[0mbokeh\u001b[0m\u001b[1;33m.\u001b[0m\u001b[0mplotting\u001b[0m \u001b[1;32mimport\u001b[0m \u001b[0mfigure\u001b[0m\u001b[1;33m,\u001b[0m\u001b[0mshow\u001b[0m\u001b[1;33m\u001b[0m\u001b[1;33m\u001b[0m\u001b[0m\n\u001b[0;32m      2\u001b[0m \u001b[1;32mfrom\u001b[0m \u001b[0mbokeh\u001b[0m\u001b[1;33m.\u001b[0m\u001b[0mio\u001b[0m \u001b[1;32mimport\u001b[0m \u001b[0moutput_notebook\u001b[0m\u001b[1;33m\u001b[0m\u001b[1;33m\u001b[0m\u001b[0m\n\u001b[1;32m----> 3\u001b[1;33m \u001b[1;32mfrom\u001b[0m \u001b[0mbokeh\u001b[0m\u001b[1;33m.\u001b[0m\u001b[0mmodels\u001b[0m \u001b[1;32mimport\u001b[0m \u001b[0mRange1D\u001b[0m\u001b[1;33m,\u001b[0m\u001b[0mLegend\u001b[0m\u001b[1;33m,\u001b[0m\u001b[0mLegendItem\u001b[0m\u001b[1;33m,\u001b[0m\u001b[0mRange1d\u001b[0m\u001b[1;33m,\u001b[0m\u001b[0mColumnDataSource\u001b[0m\u001b[1;33m,\u001b[0m\u001b[0mDatetimeTickFormatter\u001b[0m\u001b[1;33m,\u001b[0m \u001b[0mText\u001b[0m\u001b[1;33m,\u001b[0m\u001b[0mLabelSet\u001b[0m\u001b[1;33m,\u001b[0m\u001b[0mDateRangeSlider\u001b[0m\u001b[1;33m,\u001b[0m\u001b[0mHoverTool\u001b[0m\u001b[1;33m,\u001b[0m\u001b[0mMultiLine\u001b[0m\u001b[1;33m,\u001b[0m\u001b[0mLinearAxis\u001b[0m\u001b[1;33m\u001b[0m\u001b[1;33m\u001b[0m\u001b[0m\n\u001b[0m\u001b[0;32m      4\u001b[0m \u001b[1;32mfrom\u001b[0m \u001b[0mbokeh\u001b[0m\u001b[1;33m.\u001b[0m\u001b[0mlayouts\u001b[0m \u001b[1;32mimport\u001b[0m \u001b[0mrow\u001b[0m\u001b[1;33m,\u001b[0m\u001b[0mcolumn\u001b[0m\u001b[1;33m\u001b[0m\u001b[1;33m\u001b[0m\u001b[0m\n\u001b[0;32m      5\u001b[0m \u001b[0moutput_notebook\u001b[0m\u001b[1;33m(\u001b[0m\u001b[1;33m)\u001b[0m\u001b[1;33m\u001b[0m\u001b[1;33m\u001b[0m\u001b[0m\n",
      "\u001b[1;31mImportError\u001b[0m: cannot import name 'Range1D' from 'bokeh.models' (C:\\Users\\msdc1\\Anaconda3\\lib\\site-packages\\bokeh\\models\\__init__.py)"
     ]
    }
   ],
   "source": [
    "from bokeh.plotting import figure,show\n",
    "from bokeh.io import output_notebook\n",
    "from bokeh.models import Legend,LegendItem,Range1d,ColumnDataSource,DatetimeTickFormatter, Text,LabelSet,DateRangeSlider,HoverTool,MultiLine,LinearAxis\n",
    "from bokeh.layouts import row,column\n",
    "output_notebook()"
   ]
  },
  {
   "cell_type": "markdown",
   "metadata": {},
   "source": [
    "### Exercise 4.1\n",
    "#### The nurse wants to visualize the mean of the heart rate each 3H."
   ]
  },
  {
   "cell_type": "code",
   "execution_count": 166,
   "metadata": {},
   "outputs": [],
   "source": [
    "res = heart_rate.resample(\"3H\").mean()"
   ]
  },
  {
   "cell_type": "code",
   "execution_count": 167,
   "metadata": {},
   "outputs": [
    {
     "data": {
      "text/html": [
       "\n",
       "\n",
       "\n",
       "\n",
       "\n",
       "\n",
       "  <div class=\"bk-root\" id=\"269fdb36-7587-4b9c-a876-c2addaae7383\" data-root-id=\"3405\"></div>\n"
      ]
     },
     "metadata": {},
     "output_type": "display_data"
    },
    {
     "data": {
      "application/javascript": [
       "(function(root) {\n",
       "  function embed_document(root) {\n",
       "    \n",
       "  var docs_json = {\"a70dc9a2-1463-463e-87db-5dcd74ec6e0f\":{\"roots\":{\"references\":[{\"attributes\":{\"below\":[{\"id\":\"3414\"}],\"center\":[{\"id\":\"3417\"},{\"id\":\"3421\"},{\"id\":\"3459\"}],\"left\":[{\"id\":\"3418\"}],\"plot_height\":500,\"plot_width\":800,\"renderers\":[{\"id\":\"3438\"}],\"title\":{\"id\":\"3441\"},\"toolbar\":{\"id\":\"3428\"},\"x_range\":{\"id\":\"3406\"},\"x_scale\":{\"id\":\"3410\"},\"y_range\":{\"id\":\"3408\"},\"y_scale\":{\"id\":\"3412\"}},\"id\":\"3405\",\"subtype\":\"Figure\",\"type\":\"Plot\"},{\"attributes\":{\"axis_label\":\"Time\",\"formatter\":{\"id\":\"3443\"},\"ticker\":{\"id\":\"3415\"}},\"id\":\"3414\",\"type\":\"DatetimeAxis\"},{\"attributes\":{},\"id\":\"3410\",\"type\":\"LinearScale\"},{\"attributes\":{\"months\":[0,6]},\"id\":\"3457\",\"type\":\"MonthsTicker\"},{\"attributes\":{},\"id\":\"3408\",\"type\":\"DataRange1d\"},{\"attributes\":{\"num_minor_ticks\":5,\"tickers\":[{\"id\":\"3447\"},{\"id\":\"3448\"},{\"id\":\"3449\"},{\"id\":\"3450\"},{\"id\":\"3451\"},{\"id\":\"3452\"},{\"id\":\"3453\"},{\"id\":\"3454\"},{\"id\":\"3455\"},{\"id\":\"3456\"},{\"id\":\"3457\"},{\"id\":\"3458\"}]},\"id\":\"3415\",\"type\":\"DatetimeTicker\"},{\"attributes\":{},\"id\":\"3458\",\"type\":\"YearsTicker\"},{\"attributes\":{\"days\":[1,2,3,4,5,6,7,8,9,10,11,12,13,14,15,16,17,18,19,20,21,22,23,24,25,26,27,28,29,30,31]},\"id\":\"3450\",\"type\":\"DaysTicker\"},{\"attributes\":{\"axis\":{\"id\":\"3414\"},\"ticker\":null},\"id\":\"3417\",\"type\":\"Grid\"},{\"attributes\":{\"items\":[{\"id\":\"3460\"}]},\"id\":\"3459\",\"type\":\"Legend\"},{\"attributes\":{\"axis_label\":\"Heartrate\",\"formatter\":{\"id\":\"3445\"},\"ticker\":{\"id\":\"3419\"}},\"id\":\"3418\",\"type\":\"LinearAxis\"},{\"attributes\":{\"line_color\":\"orange\",\"x\":{\"field\":\"x\"},\"y\":{\"field\":\"y\"}},\"id\":\"3436\",\"type\":\"Line\"},{\"attributes\":{\"label\":{\"value\":\"mean\"},\"renderers\":[{\"id\":\"3438\"}]},\"id\":\"3460\",\"type\":\"LegendItem\"},{\"attributes\":{\"base\":24,\"mantissas\":[1,2,4,6,8,12],\"max_interval\":43200000.0,\"min_interval\":3600000.0,\"num_minor_ticks\":0},\"id\":\"3449\",\"type\":\"AdaptiveTicker\"},{\"attributes\":{\"line_alpha\":0.1,\"line_color\":\"orange\",\"x\":{\"field\":\"x\"},\"y\":{\"field\":\"y\"}},\"id\":\"3437\",\"type\":\"Line\"},{\"attributes\":{},\"id\":\"3443\",\"type\":\"DatetimeTickFormatter\"},{\"attributes\":{},\"id\":\"3419\",\"type\":\"BasicTicker\"},{\"attributes\":{\"bottom_units\":\"screen\",\"fill_alpha\":0.5,\"fill_color\":\"lightgrey\",\"left_units\":\"screen\",\"level\":\"overlay\",\"line_alpha\":1.0,\"line_color\":\"black\",\"line_dash\":[4,4],\"line_width\":2,\"render_mode\":\"css\",\"right_units\":\"screen\",\"top_units\":\"screen\"},\"id\":\"3446\",\"type\":\"BoxAnnotation\"},{\"attributes\":{\"days\":[1,4,7,10,13,16,19,22,25,28]},\"id\":\"3451\",\"type\":\"DaysTicker\"},{\"attributes\":{\"axis\":{\"id\":\"3418\"},\"dimension\":1,\"ticker\":null},\"id\":\"3421\",\"type\":\"Grid\"},{\"attributes\":{},\"id\":\"3615\",\"type\":\"Selection\"},{\"attributes\":{},\"id\":\"3406\",\"type\":\"DataRange1d\"},{\"attributes\":{\"days\":[1,8,15,22]},\"id\":\"3452\",\"type\":\"DaysTicker\"},{\"attributes\":{\"months\":[0,2,4,6,8,10]},\"id\":\"3455\",\"type\":\"MonthsTicker\"},{\"attributes\":{\"days\":[1,15]},\"id\":\"3453\",\"type\":\"DaysTicker\"},{\"attributes\":{},\"id\":\"3412\",\"type\":\"LinearScale\"},{\"attributes\":{},\"id\":\"3422\",\"type\":\"PanTool\"},{\"attributes\":{\"mantissas\":[1,2,5],\"max_interval\":500.0,\"num_minor_ticks\":0},\"id\":\"3447\",\"type\":\"AdaptiveTicker\"},{\"attributes\":{},\"id\":\"3423\",\"type\":\"WheelZoomTool\"},{\"attributes\":{\"overlay\":{\"id\":\"3446\"}},\"id\":\"3424\",\"type\":\"BoxZoomTool\"},{\"attributes\":{},\"id\":\"3425\",\"type\":\"SaveTool\"},{\"attributes\":{\"data\":{\"x\":{\"__ndarray__\":\"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\",\"dtype\":\"float64\",\"shape\":[234]},\"y\":{\"__ndarray__\":\"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\",\"dtype\":\"float64\",\"shape\":[234]}},\"selected\":{\"id\":\"3615\"},\"selection_policy\":{\"id\":\"3614\"}},\"id\":\"3435\",\"type\":\"ColumnDataSource\"},{\"attributes\":{},\"id\":\"3426\",\"type\":\"ResetTool\"},{\"attributes\":{},\"id\":\"3427\",\"type\":\"HelpTool\"},{\"attributes\":{},\"id\":\"3614\",\"type\":\"UnionRenderers\"},{\"attributes\":{\"source\":{\"id\":\"3435\"}},\"id\":\"3439\",\"type\":\"CDSView\"},{\"attributes\":{\"active_drag\":\"auto\",\"active_inspect\":\"auto\",\"active_multi\":null,\"active_scroll\":\"auto\",\"active_tap\":\"auto\",\"tools\":[{\"id\":\"3422\"},{\"id\":\"3423\"},{\"id\":\"3424\"},{\"id\":\"3425\"},{\"id\":\"3426\"},{\"id\":\"3427\"}]},\"id\":\"3428\",\"type\":\"Toolbar\"},{\"attributes\":{\"text\":\"\"},\"id\":\"3441\",\"type\":\"Title\"},{\"attributes\":{},\"id\":\"3445\",\"type\":\"BasicTickFormatter\"},{\"attributes\":{\"months\":[0,1,2,3,4,5,6,7,8,9,10,11]},\"id\":\"3454\",\"type\":\"MonthsTicker\"},{\"attributes\":{\"base\":60,\"mantissas\":[1,2,5,10,15,20,30],\"max_interval\":1800000.0,\"min_interval\":1000.0,\"num_minor_ticks\":0},\"id\":\"3448\",\"type\":\"AdaptiveTicker\"},{\"attributes\":{\"data_source\":{\"id\":\"3435\"},\"glyph\":{\"id\":\"3436\"},\"hover_glyph\":null,\"muted_glyph\":null,\"nonselection_glyph\":{\"id\":\"3437\"},\"selection_glyph\":null,\"view\":{\"id\":\"3439\"}},\"id\":\"3438\",\"type\":\"GlyphRenderer\"},{\"attributes\":{\"months\":[0,4,8]},\"id\":\"3456\",\"type\":\"MonthsTicker\"}],\"root_ids\":[\"3405\"]},\"title\":\"Bokeh Application\",\"version\":\"2.0.0\"}};\n",
       "  var render_items = [{\"docid\":\"a70dc9a2-1463-463e-87db-5dcd74ec6e0f\",\"root_ids\":[\"3405\"],\"roots\":{\"3405\":\"269fdb36-7587-4b9c-a876-c2addaae7383\"}}];\n",
       "  root.Bokeh.embed.embed_items_notebook(docs_json, render_items);\n",
       "\n",
       "  }\n",
       "  if (root.Bokeh !== undefined) {\n",
       "    embed_document(root);\n",
       "  } else {\n",
       "    var attempts = 0;\n",
       "    var timer = setInterval(function(root) {\n",
       "      if (root.Bokeh !== undefined) {\n",
       "        clearInterval(timer);\n",
       "        embed_document(root);\n",
       "      } else {\n",
       "        attempts++;\n",
       "        if (attempts > 100) {\n",
       "          clearInterval(timer);\n",
       "          console.log(\"Bokeh: ERROR: Unable to run BokehJS code because BokehJS library is missing\");\n",
       "        }\n",
       "      }\n",
       "    }, 10, root)\n",
       "  }\n",
       "})(window);"
      ],
      "application/vnd.bokehjs_exec.v0+json": ""
     },
     "metadata": {
      "application/vnd.bokehjs_exec.v0+json": {
       "id": "3405"
      }
     },
     "output_type": "display_data"
    }
   ],
   "source": [
    "fig = figure(width=800,height=500,x_axis_type=\"datetime\",x_axis_label=\"Time\",y_axis_label=\"Heartrate\")\n",
    "fig.line(res.keys(),res.values,legend_label=\"mean\",color=\"orange\")\n",
    "show(fig)"
   ]
  },
  {
   "cell_type": "markdown",
   "metadata": {},
   "source": [
    "### Exercise 4.2\n",
    "#### THe nurse now also wants to have the standard deviation present on the plot to understand how much it varies."
   ]
  },
  {
   "cell_type": "code",
   "execution_count": 168,
   "metadata": {},
   "outputs": [],
   "source": [
    "res = heart_rate.resample(\"3H\").std(ddof=0)"
   ]
  },
  {
   "cell_type": "code",
   "execution_count": 169,
   "metadata": {},
   "outputs": [
    {
     "data": {
      "text/html": [
       "\n",
       "\n",
       "\n",
       "\n",
       "\n",
       "\n",
       "  <div class=\"bk-root\" id=\"5879e36f-0802-4abc-ba53-9fa083a2db0e\" data-root-id=\"3405\"></div>\n"
      ]
     },
     "metadata": {},
     "output_type": "display_data"
    },
    {
     "data": {
      "application/javascript": [
       "(function(root) {\n",
       "  function embed_document(root) {\n",
       "    \n",
       "  var docs_json = {\"c4547123-24c1-4965-a8b0-e28bf516f008\":{\"roots\":{\"references\":[{\"attributes\":{\"below\":[{\"id\":\"3414\"}],\"center\":[{\"id\":\"3417\"},{\"id\":\"3421\"},{\"id\":\"3459\"}],\"left\":[{\"id\":\"3418\"}],\"plot_height\":500,\"plot_width\":800,\"renderers\":[{\"id\":\"3438\"},{\"id\":\"3745\"}],\"title\":{\"id\":\"3441\"},\"toolbar\":{\"id\":\"3428\"},\"x_range\":{\"id\":\"3406\"},\"x_scale\":{\"id\":\"3410\"},\"y_range\":{\"id\":\"3408\"},\"y_scale\":{\"id\":\"3412\"}},\"id\":\"3405\",\"subtype\":\"Figure\",\"type\":\"Plot\"},{\"attributes\":{\"axis_label\":\"Time\",\"formatter\":{\"id\":\"3443\"},\"ticker\":{\"id\":\"3415\"}},\"id\":\"3414\",\"type\":\"DatetimeAxis\"},{\"attributes\":{},\"id\":\"3410\",\"type\":\"LinearScale\"},{\"attributes\":{\"months\":[0,6]},\"id\":\"3457\",\"type\":\"MonthsTicker\"},{\"attributes\":{},\"id\":\"3408\",\"type\":\"DataRange1d\"},{\"attributes\":{\"num_minor_ticks\":5,\"tickers\":[{\"id\":\"3447\"},{\"id\":\"3448\"},{\"id\":\"3449\"},{\"id\":\"3450\"},{\"id\":\"3451\"},{\"id\":\"3452\"},{\"id\":\"3453\"},{\"id\":\"3454\"},{\"id\":\"3455\"},{\"id\":\"3456\"},{\"id\":\"3457\"},{\"id\":\"3458\"}]},\"id\":\"3415\",\"type\":\"DatetimeTicker\"},{\"attributes\":{},\"id\":\"3458\",\"type\":\"YearsTicker\"},{\"attributes\":{},\"id\":\"3924\",\"type\":\"Selection\"},{\"attributes\":{\"line_color\":\"orange\",\"x\":{\"field\":\"x\"},\"y\":{\"field\":\"y\"}},\"id\":\"3743\",\"type\":\"Line\"},{\"attributes\":{\"days\":[1,2,3,4,5,6,7,8,9,10,11,12,13,14,15,16,17,18,19,20,21,22,23,24,25,26,27,28,29,30,31]},\"id\":\"3450\",\"type\":\"DaysTicker\"},{\"attributes\":{\"axis\":{\"id\":\"3414\"},\"ticker\":null},\"id\":\"3417\",\"type\":\"Grid\"},{\"attributes\":{\"items\":[{\"id\":\"3460\"}]},\"id\":\"3459\",\"type\":\"Legend\"},{\"attributes\":{\"axis_label\":\"Heartrate\",\"formatter\":{\"id\":\"3445\"},\"ticker\":{\"id\":\"3419\"}},\"id\":\"3418\",\"type\":\"LinearAxis\"},{\"attributes\":{\"line_color\":\"orange\",\"x\":{\"field\":\"x\"},\"y\":{\"field\":\"y\"}},\"id\":\"3436\",\"type\":\"Line\"},{\"attributes\":{\"label\":{\"value\":\"mean\"},\"renderers\":[{\"id\":\"3438\"},{\"id\":\"3745\"}]},\"id\":\"3460\",\"type\":\"LegendItem\"},{\"attributes\":{\"base\":24,\"mantissas\":[1,2,4,6,8,12],\"max_interval\":43200000.0,\"min_interval\":3600000.0,\"num_minor_ticks\":0},\"id\":\"3449\",\"type\":\"AdaptiveTicker\"},{\"attributes\":{\"line_alpha\":0.1,\"line_color\":\"orange\",\"x\":{\"field\":\"x\"},\"y\":{\"field\":\"y\"}},\"id\":\"3437\",\"type\":\"Line\"},{\"attributes\":{},\"id\":\"3443\",\"type\":\"DatetimeTickFormatter\"},{\"attributes\":{},\"id\":\"3419\",\"type\":\"BasicTicker\"},{\"attributes\":{\"bottom_units\":\"screen\",\"fill_alpha\":0.5,\"fill_color\":\"lightgrey\",\"left_units\":\"screen\",\"level\":\"overlay\",\"line_alpha\":1.0,\"line_color\":\"black\",\"line_dash\":[4,4],\"line_width\":2,\"render_mode\":\"css\",\"right_units\":\"screen\",\"top_units\":\"screen\"},\"id\":\"3446\",\"type\":\"BoxAnnotation\"},{\"attributes\":{\"days\":[1,4,7,10,13,16,19,22,25,28]},\"id\":\"3451\",\"type\":\"DaysTicker\"},{\"attributes\":{\"axis\":{\"id\":\"3418\"},\"dimension\":1,\"ticker\":null},\"id\":\"3421\",\"type\":\"Grid\"},{\"attributes\":{},\"id\":\"3615\",\"type\":\"Selection\"},{\"attributes\":{},\"id\":\"3406\",\"type\":\"DataRange1d\"},{\"attributes\":{\"days\":[1,8,15,22]},\"id\":\"3452\",\"type\":\"DaysTicker\"},{\"attributes\":{\"months\":[0,2,4,6,8,10]},\"id\":\"3455\",\"type\":\"MonthsTicker\"},{\"attributes\":{\"data\":{\"x\":{\"__ndarray__\":\"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\",\"dtype\":\"float64\",\"shape\":[234]},\"y\":{\"__ndarray__\":\"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\",\"dtype\":\"float64\",\"shape\":[234]}},\"selected\":{\"id\":\"3924\"},\"selection_policy\":{\"id\":\"3923\"}},\"id\":\"3742\",\"type\":\"ColumnDataSource\"},{\"attributes\":{\"days\":[1,15]},\"id\":\"3453\",\"type\":\"DaysTicker\"},{\"attributes\":{},\"id\":\"3412\",\"type\":\"LinearScale\"},{\"attributes\":{},\"id\":\"3422\",\"type\":\"PanTool\"},{\"attributes\":{\"mantissas\":[1,2,5],\"max_interval\":500.0,\"num_minor_ticks\":0},\"id\":\"3447\",\"type\":\"AdaptiveTicker\"},{\"attributes\":{},\"id\":\"3423\",\"type\":\"WheelZoomTool\"},{\"attributes\":{\"overlay\":{\"id\":\"3446\"}},\"id\":\"3424\",\"type\":\"BoxZoomTool\"},{\"attributes\":{},\"id\":\"3425\",\"type\":\"SaveTool\"},{\"attributes\":{\"data\":{\"x\":{\"__ndarray__\":\"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\",\"dtype\":\"float64\",\"shape\":[234]},\"y\":{\"__ndarray__\":\"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\",\"dtype\":\"float64\",\"shape\":[234]}},\"selected\":{\"id\":\"3615\"},\"selection_policy\":{\"id\":\"3614\"}},\"id\":\"3435\",\"type\":\"ColumnDataSource\"},{\"attributes\":{},\"id\":\"3426\",\"type\":\"ResetTool\"},{\"attributes\":{\"source\":{\"id\":\"3742\"}},\"id\":\"3746\",\"type\":\"CDSView\"},{\"attributes\":{},\"id\":\"3427\",\"type\":\"HelpTool\"},{\"attributes\":{},\"id\":\"3614\",\"type\":\"UnionRenderers\"},{\"attributes\":{\"source\":{\"id\":\"3435\"}},\"id\":\"3439\",\"type\":\"CDSView\"},{\"attributes\":{\"active_drag\":\"auto\",\"active_inspect\":\"auto\",\"active_multi\":null,\"active_scroll\":\"auto\",\"active_tap\":\"auto\",\"tools\":[{\"id\":\"3422\"},{\"id\":\"3423\"},{\"id\":\"3424\"},{\"id\":\"3425\"},{\"id\":\"3426\"},{\"id\":\"3427\"}]},\"id\":\"3428\",\"type\":\"Toolbar\"},{\"attributes\":{\"text\":\"\"},\"id\":\"3441\",\"type\":\"Title\"},{\"attributes\":{\"data_source\":{\"id\":\"3742\"},\"glyph\":{\"id\":\"3743\"},\"hover_glyph\":null,\"muted_glyph\":null,\"nonselection_glyph\":{\"id\":\"3744\"},\"selection_glyph\":null,\"view\":{\"id\":\"3746\"}},\"id\":\"3745\",\"type\":\"GlyphRenderer\"},{\"attributes\":{},\"id\":\"3445\",\"type\":\"BasicTickFormatter\"},{\"attributes\":{\"months\":[0,1,2,3,4,5,6,7,8,9,10,11]},\"id\":\"3454\",\"type\":\"MonthsTicker\"},{\"attributes\":{\"line_alpha\":0.1,\"line_color\":\"orange\",\"x\":{\"field\":\"x\"},\"y\":{\"field\":\"y\"}},\"id\":\"3744\",\"type\":\"Line\"},{\"attributes\":{\"base\":60,\"mantissas\":[1,2,5,10,15,20,30],\"max_interval\":1800000.0,\"min_interval\":1000.0,\"num_minor_ticks\":0},\"id\":\"3448\",\"type\":\"AdaptiveTicker\"},{\"attributes\":{},\"id\":\"3923\",\"type\":\"UnionRenderers\"},{\"attributes\":{\"data_source\":{\"id\":\"3435\"},\"glyph\":{\"id\":\"3436\"},\"hover_glyph\":null,\"muted_glyph\":null,\"nonselection_glyph\":{\"id\":\"3437\"},\"selection_glyph\":null,\"view\":{\"id\":\"3439\"}},\"id\":\"3438\",\"type\":\"GlyphRenderer\"},{\"attributes\":{\"months\":[0,4,8]},\"id\":\"3456\",\"type\":\"MonthsTicker\"}],\"root_ids\":[\"3405\"]},\"title\":\"Bokeh Application\",\"version\":\"2.0.0\"}};\n",
       "  var render_items = [{\"docid\":\"c4547123-24c1-4965-a8b0-e28bf516f008\",\"root_ids\":[\"3405\"],\"roots\":{\"3405\":\"5879e36f-0802-4abc-ba53-9fa083a2db0e\"}}];\n",
       "  root.Bokeh.embed.embed_items_notebook(docs_json, render_items);\n",
       "\n",
       "  }\n",
       "  if (root.Bokeh !== undefined) {\n",
       "    embed_document(root);\n",
       "  } else {\n",
       "    var attempts = 0;\n",
       "    var timer = setInterval(function(root) {\n",
       "      if (root.Bokeh !== undefined) {\n",
       "        clearInterval(timer);\n",
       "        embed_document(root);\n",
       "      } else {\n",
       "        attempts++;\n",
       "        if (attempts > 100) {\n",
       "          clearInterval(timer);\n",
       "          console.log(\"Bokeh: ERROR: Unable to run BokehJS code because BokehJS library is missing\");\n",
       "        }\n",
       "      }\n",
       "    }, 10, root)\n",
       "  }\n",
       "})(window);"
      ],
      "application/vnd.bokehjs_exec.v0+json": ""
     },
     "metadata": {
      "application/vnd.bokehjs_exec.v0+json": {
       "id": "3405"
      }
     },
     "output_type": "display_data"
    }
   ],
   "source": [
    "fig.line(res.keys(),res.values,legend_label=\"mean\",color=\"orange\")\n",
    "show(fig)"
   ]
  },
  {
   "cell_type": "markdown",
   "metadata": {},
   "source": [
    "## Exercise 4.3\n",
    "#### The nurse can not use this plot. She suggests to put the standard deviation as an area around the mean."
   ]
  },
  {
   "cell_type": "code",
   "execution_count": 177,
   "metadata": {},
   "outputs": [],
   "source": [
    "mean = heart_rate.resample(\"3H\").mean()"
   ]
  },
  {
   "cell_type": "code",
   "execution_count": 186,
   "metadata": {},
   "outputs": [],
   "source": [
    "interval = (mean.keys().min(),mean.keys().max())"
   ]
  },
  {
   "cell_type": "code",
   "execution_count": 190,
   "metadata": {},
   "outputs": [
    {
     "data": {
      "text/html": [
       "<div style=\"display: table;\"><div style=\"display: table-row;\"><div style=\"display: table-cell;\"><b title=\"bokeh.models.renderers.GlyphRenderer\">GlyphRenderer</b>(</div><div style=\"display: table-cell;\">id&nbsp;=&nbsp;'5225', <span id=\"5249\" style=\"cursor: pointer;\">&hellip;)</span></div></div><div class=\"5248\" style=\"display: none;\"><div style=\"display: table-cell;\"></div><div style=\"display: table-cell;\">data_source&nbsp;=&nbsp;ColumnDataSource(id='5222', ...),</div></div><div class=\"5248\" style=\"display: none;\"><div style=\"display: table-cell;\"></div><div style=\"display: table-cell;\">glyph&nbsp;=&nbsp;Line(id='5223', ...),</div></div><div class=\"5248\" style=\"display: none;\"><div style=\"display: table-cell;\"></div><div style=\"display: table-cell;\">hover_glyph&nbsp;=&nbsp;None,</div></div><div class=\"5248\" style=\"display: none;\"><div style=\"display: table-cell;\"></div><div style=\"display: table-cell;\">js_event_callbacks&nbsp;=&nbsp;{},</div></div><div class=\"5248\" style=\"display: none;\"><div style=\"display: table-cell;\"></div><div style=\"display: table-cell;\">js_property_callbacks&nbsp;=&nbsp;{},</div></div><div class=\"5248\" style=\"display: none;\"><div style=\"display: table-cell;\"></div><div style=\"display: table-cell;\">level&nbsp;=&nbsp;'glyph',</div></div><div class=\"5248\" style=\"display: none;\"><div style=\"display: table-cell;\"></div><div style=\"display: table-cell;\">muted&nbsp;=&nbsp;False,</div></div><div class=\"5248\" style=\"display: none;\"><div style=\"display: table-cell;\"></div><div style=\"display: table-cell;\">muted_glyph&nbsp;=&nbsp;None,</div></div><div class=\"5248\" style=\"display: none;\"><div style=\"display: table-cell;\"></div><div style=\"display: table-cell;\">name&nbsp;=&nbsp;None,</div></div><div class=\"5248\" style=\"display: none;\"><div style=\"display: table-cell;\"></div><div style=\"display: table-cell;\">nonselection_glyph&nbsp;=&nbsp;Line(id='5224', ...),</div></div><div class=\"5248\" style=\"display: none;\"><div style=\"display: table-cell;\"></div><div style=\"display: table-cell;\">selection_glyph&nbsp;=&nbsp;None,</div></div><div class=\"5248\" style=\"display: none;\"><div style=\"display: table-cell;\"></div><div style=\"display: table-cell;\">subscribed_events&nbsp;=&nbsp;[],</div></div><div class=\"5248\" style=\"display: none;\"><div style=\"display: table-cell;\"></div><div style=\"display: table-cell;\">tags&nbsp;=&nbsp;[],</div></div><div class=\"5248\" style=\"display: none;\"><div style=\"display: table-cell;\"></div><div style=\"display: table-cell;\">view&nbsp;=&nbsp;CDSView(id='5226', ...),</div></div><div class=\"5248\" style=\"display: none;\"><div style=\"display: table-cell;\"></div><div style=\"display: table-cell;\">visible&nbsp;=&nbsp;True,</div></div><div class=\"5248\" style=\"display: none;\"><div style=\"display: table-cell;\"></div><div style=\"display: table-cell;\">x_range_name&nbsp;=&nbsp;'default',</div></div><div class=\"5248\" style=\"display: none;\"><div style=\"display: table-cell;\"></div><div style=\"display: table-cell;\">y_range_name&nbsp;=&nbsp;'default')</div></div></div>\n",
       "<script>\n",
       "(function() {\n",
       "  var expanded = false;\n",
       "  var ellipsis = document.getElementById(\"5249\");\n",
       "  ellipsis.addEventListener(\"click\", function() {\n",
       "    var rows = document.getElementsByClassName(\"5248\");\n",
       "    for (var i = 0; i < rows.length; i++) {\n",
       "      var el = rows[i];\n",
       "      el.style.display = expanded ? \"none\" : \"table-row\";\n",
       "    }\n",
       "    ellipsis.innerHTML = expanded ? \"&hellip;)\" : \"&lsaquo;&lsaquo;&lsaquo;\";\n",
       "    expanded = !expanded;\n",
       "  });\n",
       "})();\n",
       "</script>\n"
      ],
      "text/plain": [
       "GlyphRenderer(id='5225', ...)"
      ]
     },
     "execution_count": 190,
     "metadata": {},
     "output_type": "execute_result"
    }
   ],
   "source": [
    "fig = figure(width=800,height=500,x_axis_type=\"datetime\",x_axis_label=\"Time\",y_axis_label=\"Heartrate\",x_range=Range1d(start = interval[0],end=interval[1],bounds=interval))\n",
    "fig.line(mean.keys(),mean.values,legend_label=\"mean\",color=\"orange\")\n"
   ]
  },
  {
   "cell_type": "code",
   "execution_count": 191,
   "metadata": {},
   "outputs": [],
   "source": [
    "std = heart_rate.resample(\"3H\").std(ddof=0)"
   ]
  },
  {
   "cell_type": "code",
   "execution_count": 192,
   "metadata": {},
   "outputs": [],
   "source": [
    "upper = mean+std\n",
    "lower = mean-std"
   ]
  },
  {
   "cell_type": "code",
   "execution_count": 193,
   "metadata": {},
   "outputs": [
    {
     "data": {
      "text/html": [
       "<div style=\"display: table;\"><div style=\"display: table-row;\"><div style=\"display: table-cell;\"><b title=\"bokeh.models.renderers.GlyphRenderer\">GlyphRenderer</b>(</div><div style=\"display: table-cell;\">id&nbsp;=&nbsp;'5253', <span id=\"5278\" style=\"cursor: pointer;\">&hellip;)</span></div></div><div class=\"5277\" style=\"display: none;\"><div style=\"display: table-cell;\"></div><div style=\"display: table-cell;\">data_source&nbsp;=&nbsp;ColumnDataSource(id='5250', ...),</div></div><div class=\"5277\" style=\"display: none;\"><div style=\"display: table-cell;\"></div><div style=\"display: table-cell;\">glyph&nbsp;=&nbsp;VArea(id='5251', ...),</div></div><div class=\"5277\" style=\"display: none;\"><div style=\"display: table-cell;\"></div><div style=\"display: table-cell;\">hover_glyph&nbsp;=&nbsp;None,</div></div><div class=\"5277\" style=\"display: none;\"><div style=\"display: table-cell;\"></div><div style=\"display: table-cell;\">js_event_callbacks&nbsp;=&nbsp;{},</div></div><div class=\"5277\" style=\"display: none;\"><div style=\"display: table-cell;\"></div><div style=\"display: table-cell;\">js_property_callbacks&nbsp;=&nbsp;{},</div></div><div class=\"5277\" style=\"display: none;\"><div style=\"display: table-cell;\"></div><div style=\"display: table-cell;\">level&nbsp;=&nbsp;'glyph',</div></div><div class=\"5277\" style=\"display: none;\"><div style=\"display: table-cell;\"></div><div style=\"display: table-cell;\">muted&nbsp;=&nbsp;False,</div></div><div class=\"5277\" style=\"display: none;\"><div style=\"display: table-cell;\"></div><div style=\"display: table-cell;\">muted_glyph&nbsp;=&nbsp;None,</div></div><div class=\"5277\" style=\"display: none;\"><div style=\"display: table-cell;\"></div><div style=\"display: table-cell;\">name&nbsp;=&nbsp;None,</div></div><div class=\"5277\" style=\"display: none;\"><div style=\"display: table-cell;\"></div><div style=\"display: table-cell;\">nonselection_glyph&nbsp;=&nbsp;VArea(id='5252', ...),</div></div><div class=\"5277\" style=\"display: none;\"><div style=\"display: table-cell;\"></div><div style=\"display: table-cell;\">selection_glyph&nbsp;=&nbsp;None,</div></div><div class=\"5277\" style=\"display: none;\"><div style=\"display: table-cell;\"></div><div style=\"display: table-cell;\">subscribed_events&nbsp;=&nbsp;[],</div></div><div class=\"5277\" style=\"display: none;\"><div style=\"display: table-cell;\"></div><div style=\"display: table-cell;\">tags&nbsp;=&nbsp;[],</div></div><div class=\"5277\" style=\"display: none;\"><div style=\"display: table-cell;\"></div><div style=\"display: table-cell;\">view&nbsp;=&nbsp;CDSView(id='5254', ...),</div></div><div class=\"5277\" style=\"display: none;\"><div style=\"display: table-cell;\"></div><div style=\"display: table-cell;\">visible&nbsp;=&nbsp;True,</div></div><div class=\"5277\" style=\"display: none;\"><div style=\"display: table-cell;\"></div><div style=\"display: table-cell;\">x_range_name&nbsp;=&nbsp;'default',</div></div><div class=\"5277\" style=\"display: none;\"><div style=\"display: table-cell;\"></div><div style=\"display: table-cell;\">y_range_name&nbsp;=&nbsp;'default')</div></div></div>\n",
       "<script>\n",
       "(function() {\n",
       "  var expanded = false;\n",
       "  var ellipsis = document.getElementById(\"5278\");\n",
       "  ellipsis.addEventListener(\"click\", function() {\n",
       "    var rows = document.getElementsByClassName(\"5277\");\n",
       "    for (var i = 0; i < rows.length; i++) {\n",
       "      var el = rows[i];\n",
       "      el.style.display = expanded ? \"none\" : \"table-row\";\n",
       "    }\n",
       "    ellipsis.innerHTML = expanded ? \"&hellip;)\" : \"&lsaquo;&lsaquo;&lsaquo;\";\n",
       "    expanded = !expanded;\n",
       "  });\n",
       "})();\n",
       "</script>\n"
      ],
      "text/plain": [
       "GlyphRenderer(id='5253', ...)"
      ]
     },
     "execution_count": 193,
     "metadata": {},
     "output_type": "execute_result"
    }
   ],
   "source": [
    "fig.varea(x=mean.keys(),y1= upper, y2= lower,legend_label=\"std\",color=\"orange\",fill_alpha=0.2)"
   ]
  },
  {
   "cell_type": "code",
   "execution_count": 194,
   "metadata": {},
   "outputs": [
    {
     "data": {
      "text/html": [
       "\n",
       "\n",
       "\n",
       "\n",
       "\n",
       "\n",
       "  <div class=\"bk-root\" id=\"a7714f74-ec1f-4f1a-843a-891f9e58e211\" data-root-id=\"5193\"></div>\n"
      ]
     },
     "metadata": {},
     "output_type": "display_data"
    },
    {
     "data": {
      "application/javascript": [
       "(function(root) {\n",
       "  function embed_document(root) {\n",
       "    \n",
       "  var docs_json = {\"6743bb9f-2219-4b16-bcc0-760a4d3bc52d\":{\"roots\":{\"references\":[{\"attributes\":{\"below\":[{\"id\":\"5201\"}],\"center\":[{\"id\":\"5204\"},{\"id\":\"5208\"},{\"id\":\"5246\"}],\"left\":[{\"id\":\"5205\"}],\"plot_height\":500,\"plot_width\":800,\"renderers\":[{\"id\":\"5225\"},{\"id\":\"5253\"}],\"title\":{\"id\":\"5228\"},\"toolbar\":{\"id\":\"5215\"},\"x_range\":{\"id\":\"5192\"},\"x_scale\":{\"id\":\"5197\"},\"y_range\":{\"id\":\"5195\"},\"y_scale\":{\"id\":\"5199\"}},\"id\":\"5193\",\"subtype\":\"Figure\",\"type\":\"Plot\"},{\"attributes\":{\"base\":60,\"mantissas\":[1,2,5,10,15,20,30],\"max_interval\":1800000.0,\"min_interval\":1000.0,\"num_minor_ticks\":0},\"id\":\"5235\",\"type\":\"AdaptiveTicker\"},{\"attributes\":{},\"id\":\"5275\",\"type\":\"Selection\"},{\"attributes\":{\"text\":\"\"},\"id\":\"5228\",\"type\":\"Title\"},{\"attributes\":{},\"id\":\"5230\",\"type\":\"DatetimeTickFormatter\"},{\"attributes\":{\"data\":{\"x\":{\"__ndarray__\":\"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\",\"dtype\":\"float64\",\"shape\":[234]},\"y1\":{\"__ndarray__\":\"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\",\"dtype\":\"float64\",\"shape\":[234]},\"y2\":{\"__ndarray__\":\"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\",\"dtype\":\"float64\",\"shape\":[234]}},\"selected\":{\"id\":\"5504\"},\"selection_policy\":{\"id\":\"5503\"}},\"id\":\"5250\",\"type\":\"ColumnDataSource\"},{\"attributes\":{\"mantissas\":[1,2,5],\"max_interval\":500.0,\"num_minor_ticks\":0},\"id\":\"5234\",\"type\":\"AdaptiveTicker\"},{\"attributes\":{},\"id\":\"5209\",\"type\":\"PanTool\"},{\"attributes\":{},\"id\":\"5210\",\"type\":\"WheelZoomTool\"},{\"attributes\":{\"months\":[0,1,2,3,4,5,6,7,8,9,10,11]},\"id\":\"5241\",\"type\":\"MonthsTicker\"},{\"attributes\":{\"overlay\":{\"id\":\"5233\"}},\"id\":\"5211\",\"type\":\"BoxZoomTool\"},{\"attributes\":{\"months\":[0,6]},\"id\":\"5244\",\"type\":\"MonthsTicker\"},{\"attributes\":{},\"id\":\"5212\",\"type\":\"SaveTool\"},{\"attributes\":{\"data\":{\"x\":{\"__ndarray__\":\"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\",\"dtype\":\"float64\",\"shape\":[234]},\"y\":{\"__ndarray__\":\"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\",\"dtype\":\"float64\",\"shape\":[234]}},\"selected\":{\"id\":\"5275\"},\"selection_policy\":{\"id\":\"5274\"}},\"id\":\"5222\",\"type\":\"ColumnDataSource\"},{\"attributes\":{\"months\":[0,2,4,6,8,10]},\"id\":\"5242\",\"type\":\"MonthsTicker\"},{\"attributes\":{\"bounds\":[1595246400000.0,1597762800000.0],\"end\":1597762800000.0,\"start\":1595246400000.0},\"id\":\"5192\",\"type\":\"Range1d\"},{\"attributes\":{\"days\":[1,15]},\"id\":\"5240\",\"type\":\"DaysTicker\"},{\"attributes\":{},\"id\":\"5213\",\"type\":\"ResetTool\"},{\"attributes\":{},\"id\":\"5214\",\"type\":\"HelpTool\"},{\"attributes\":{\"active_drag\":\"auto\",\"active_inspect\":\"auto\",\"active_multi\":null,\"active_scroll\":\"auto\",\"active_tap\":\"auto\",\"tools\":[{\"id\":\"5209\"},{\"id\":\"5210\"},{\"id\":\"5211\"},{\"id\":\"5212\"},{\"id\":\"5213\"},{\"id\":\"5214\"}]},\"id\":\"5215\",\"type\":\"Toolbar\"},{\"attributes\":{},\"id\":\"5503\",\"type\":\"UnionRenderers\"},{\"attributes\":{},\"id\":\"5195\",\"type\":\"DataRange1d\"},{\"attributes\":{\"data_source\":{\"id\":\"5250\"},\"glyph\":{\"id\":\"5251\"},\"hover_glyph\":null,\"muted_glyph\":null,\"nonselection_glyph\":{\"id\":\"5252\"},\"selection_glyph\":null,\"view\":{\"id\":\"5254\"}},\"id\":\"5253\",\"type\":\"GlyphRenderer\"},{\"attributes\":{\"label\":{\"value\":\"std\"},\"renderers\":[{\"id\":\"5253\"}]},\"id\":\"5276\",\"type\":\"LegendItem\"},{\"attributes\":{},\"id\":\"5197\",\"type\":\"LinearScale\"},{\"attributes\":{\"source\":{\"id\":\"5250\"}},\"id\":\"5254\",\"type\":\"CDSView\"},{\"attributes\":{\"fill_alpha\":0.1,\"fill_color\":\"orange\",\"x\":{\"field\":\"x\"},\"y1\":{\"field\":\"y1\"},\"y2\":{\"field\":\"y2\"}},\"id\":\"5252\",\"type\":\"VArea\"},{\"attributes\":{\"base\":24,\"mantissas\":[1,2,4,6,8,12],\"max_interval\":43200000.0,\"min_interval\":3600000.0,\"num_minor_ticks\":0},\"id\":\"5236\",\"type\":\"AdaptiveTicker\"},{\"attributes\":{},\"id\":\"5199\",\"type\":\"LinearScale\"},{\"attributes\":{},\"id\":\"5274\",\"type\":\"UnionRenderers\"},{\"attributes\":{\"click_policy\":\"hide\",\"items\":[{\"id\":\"5247\"},{\"id\":\"5276\"}]},\"id\":\"5246\",\"type\":\"Legend\"},{\"attributes\":{\"label\":{\"value\":\"mean\"},\"renderers\":[{\"id\":\"5225\"}]},\"id\":\"5247\",\"type\":\"LegendItem\"},{\"attributes\":{},\"id\":\"5504\",\"type\":\"Selection\"},{\"attributes\":{\"axis_label\":\"Time\",\"formatter\":{\"id\":\"5230\"},\"ticker\":{\"id\":\"5202\"}},\"id\":\"5201\",\"type\":\"DatetimeAxis\"},{\"attributes\":{\"months\":[0,4,8]},\"id\":\"5243\",\"type\":\"MonthsTicker\"},{\"attributes\":{\"num_minor_ticks\":5,\"tickers\":[{\"id\":\"5234\"},{\"id\":\"5235\"},{\"id\":\"5236\"},{\"id\":\"5237\"},{\"id\":\"5238\"},{\"id\":\"5239\"},{\"id\":\"5240\"},{\"id\":\"5241\"},{\"id\":\"5242\"},{\"id\":\"5243\"},{\"id\":\"5244\"},{\"id\":\"5245\"}]},\"id\":\"5202\",\"type\":\"DatetimeTicker\"},{\"attributes\":{},\"id\":\"5245\",\"type\":\"YearsTicker\"},{\"attributes\":{\"fill_alpha\":0.2,\"fill_color\":\"orange\",\"x\":{\"field\":\"x\"},\"y1\":{\"field\":\"y1\"},\"y2\":{\"field\":\"y2\"}},\"id\":\"5251\",\"type\":\"VArea\"},{\"attributes\":{\"axis\":{\"id\":\"5201\"},\"ticker\":null},\"id\":\"5204\",\"type\":\"Grid\"},{\"attributes\":{\"days\":[1,2,3,4,5,6,7,8,9,10,11,12,13,14,15,16,17,18,19,20,21,22,23,24,25,26,27,28,29,30,31]},\"id\":\"5237\",\"type\":\"DaysTicker\"},{\"attributes\":{\"days\":[1,4,7,10,13,16,19,22,25,28]},\"id\":\"5238\",\"type\":\"DaysTicker\"},{\"attributes\":{\"axis_label\":\"Heartrate\",\"formatter\":{\"id\":\"5232\"},\"ticker\":{\"id\":\"5206\"}},\"id\":\"5205\",\"type\":\"LinearAxis\"},{\"attributes\":{\"line_alpha\":0.1,\"line_color\":\"orange\",\"x\":{\"field\":\"x\"},\"y\":{\"field\":\"y\"}},\"id\":\"5224\",\"type\":\"Line\"},{\"attributes\":{\"days\":[1,8,15,22]},\"id\":\"5239\",\"type\":\"DaysTicker\"},{\"attributes\":{},\"id\":\"5206\",\"type\":\"BasicTicker\"},{\"attributes\":{\"line_color\":\"orange\",\"x\":{\"field\":\"x\"},\"y\":{\"field\":\"y\"}},\"id\":\"5223\",\"type\":\"Line\"},{\"attributes\":{\"data_source\":{\"id\":\"5222\"},\"glyph\":{\"id\":\"5223\"},\"hover_glyph\":null,\"muted_glyph\":null,\"nonselection_glyph\":{\"id\":\"5224\"},\"selection_glyph\":null,\"view\":{\"id\":\"5226\"}},\"id\":\"5225\",\"type\":\"GlyphRenderer\"},{\"attributes\":{\"axis\":{\"id\":\"5205\"},\"dimension\":1,\"ticker\":null},\"id\":\"5208\",\"type\":\"Grid\"},{\"attributes\":{\"source\":{\"id\":\"5222\"}},\"id\":\"5226\",\"type\":\"CDSView\"},{\"attributes\":{},\"id\":\"5232\",\"type\":\"BasicTickFormatter\"},{\"attributes\":{\"bottom_units\":\"screen\",\"fill_alpha\":0.5,\"fill_color\":\"lightgrey\",\"left_units\":\"screen\",\"level\":\"overlay\",\"line_alpha\":1.0,\"line_color\":\"black\",\"line_dash\":[4,4],\"line_width\":2,\"render_mode\":\"css\",\"right_units\":\"screen\",\"top_units\":\"screen\"},\"id\":\"5233\",\"type\":\"BoxAnnotation\"}],\"root_ids\":[\"5193\"]},\"title\":\"Bokeh Application\",\"version\":\"2.0.0\"}};\n",
       "  var render_items = [{\"docid\":\"6743bb9f-2219-4b16-bcc0-760a4d3bc52d\",\"root_ids\":[\"5193\"],\"roots\":{\"5193\":\"a7714f74-ec1f-4f1a-843a-891f9e58e211\"}}];\n",
       "  root.Bokeh.embed.embed_items_notebook(docs_json, render_items);\n",
       "\n",
       "  }\n",
       "  if (root.Bokeh !== undefined) {\n",
       "    embed_document(root);\n",
       "  } else {\n",
       "    var attempts = 0;\n",
       "    var timer = setInterval(function(root) {\n",
       "      if (root.Bokeh !== undefined) {\n",
       "        clearInterval(timer);\n",
       "        embed_document(root);\n",
       "      } else {\n",
       "        attempts++;\n",
       "        if (attempts > 100) {\n",
       "          clearInterval(timer);\n",
       "          console.log(\"Bokeh: ERROR: Unable to run BokehJS code because BokehJS library is missing\");\n",
       "        }\n",
       "      }\n",
       "    }, 10, root)\n",
       "  }\n",
       "})(window);"
      ],
      "application/vnd.bokehjs_exec.v0+json": ""
     },
     "metadata": {
      "application/vnd.bokehjs_exec.v0+json": {
       "id": "5193"
      }
     },
     "output_type": "display_data"
    }
   ],
   "source": [
    "fig.legend.click_policy=\"hide\" #What is this for?\n",
    "show(fig)"
   ]
  },
  {
   "cell_type": "markdown",
   "metadata": {},
   "source": [
    "#### Free-roam ! Play around with the previous code and try to figure out what is going on and answer the following questions!\n",
    "\n",
    "1. What is that interval variable used for?\n",
    "2. What happens if you add **tools=\"\"** to the parameters of figure?\n",
    "3. Try to change 3H to 1H, 1S, 1M, etc. Try stuff and see what happens to the data and respective plots\n",
    "\n",
    "Feel free to discuss with us any of these questions !"
   ]
  },
  {
   "cell_type": "raw",
   "metadata": {},
   "source": [
    "1."
   ]
  },
  {
   "cell_type": "raw",
   "metadata": {},
   "source": [
    "2."
   ]
  },
  {
   "cell_type": "raw",
   "metadata": {},
   "source": [
    "3."
   ]
  },
  {
   "cell_type": "markdown",
   "metadata": {},
   "source": [
    "### Exercise 5\n",
    "#### The nurse stikes again! Now, she wants the plot to differentiate day from night! \n",
    "Day  = orange\n",
    "night = blue\n",
    "\n",
    "*Hint* Remember the learning books about plotting multiple lines.\n",
    "\n",
    "*Another hint* A line can only have one color. The same happens for "
   ]
  },
  {
   "cell_type": "code",
   "execution_count": null,
   "metadata": {},
   "outputs": [],
   "source": []
  }
 ],
 "metadata": {
  "kernelspec": {
   "display_name": "Python 3",
   "language": "python",
   "name": "python3"
  },
  "language_info": {
   "codemirror_mode": {
    "name": "ipython",
    "version": 3
   },
   "file_extension": ".py",
   "mimetype": "text/x-python",
   "name": "python",
   "nbconvert_exporter": "python",
   "pygments_lexer": "ipython3",
   "version": "3.7.3"
  }
 },
 "nbformat": 4,
 "nbformat_minor": 4
}
