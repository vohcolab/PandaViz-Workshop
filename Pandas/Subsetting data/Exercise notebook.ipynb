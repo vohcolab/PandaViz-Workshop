{
 "cells": [
  {
   "cell_type": "markdown",
   "metadata": {
    "deletable": false,
    "editable": true,
    "nbgrader": {
     "grade": false,
     "grade_id": "cell-63aee61ad7c5ad78",
     "locked": true,
     "schema_version": 1,
     "solution": false
    }
   },
   "source": [
    "# Subsetting data: Exercise notebook\n",
    "\n",
    "In this notebook you'll practice the following:\n",
    "- Setting pandas Dataframe index\n",
    "- Selecting columns (brackets and dot notation)\n",
    "- Selecting rows (loc and iloc)\n",
    "- Subsetting on conditions\n",
    "- Removing and Adding columns"
   ]
  },
  {
   "cell_type": "code",
   "execution_count": 34,
   "metadata": {
    "deletable": false,
    "editable": true,
    "nbgrader": {
     "grade": false,
     "grade_id": "cell-c4fc286960a67c7f",
     "locked": true,
     "schema_version": 1,
     "solution": false
    }
   },
   "outputs": [],
   "source": [
    "import pandas as pd"
   ]
  },
  {
   "cell_type": "markdown",
   "metadata": {
    "deletable": false,
    "editable": true,
    "nbgrader": {
     "grade": false,
     "grade_id": "cell-1dc0734066ab2665",
     "locked": true,
     "schema_version": 1,
     "solution": false
    }
   },
   "source": [
    "For these exercices we will be using a zomato dataset containing the description and ratings of several restaurants.\n",
    "\n",
    "In each exercise, you'll be asked to implement a function. In order to test it before you submit the assignement, add a new cell and call the function to inspect it's output."
   ]
  },
  {
   "cell_type": "code",
   "execution_count": 36,
   "metadata": {
    "deletable": false,
    "editable": true,
    "nbgrader": {
     "grade": false,
     "grade_id": "cell-0a59c17d9c2a28bf",
     "locked": true,
     "schema_version": 1,
     "solution": false
    }
   },
   "outputs": [
    {
     "data": {
      "text/html": [
       "<div>\n",
       "<style scoped>\n",
       "    .dataframe tbody tr th:only-of-type {\n",
       "        vertical-align: middle;\n",
       "    }\n",
       "\n",
       "    .dataframe tbody tr th {\n",
       "        vertical-align: top;\n",
       "    }\n",
       "\n",
       "    .dataframe thead th {\n",
       "        text-align: right;\n",
       "    }\n",
       "</style>\n",
       "<table border=\"1\" class=\"dataframe\">\n",
       "  <thead>\n",
       "    <tr style=\"text-align: right;\">\n",
       "      <th></th>\n",
       "      <th>YearStart</th>\n",
       "      <th>YearEnd</th>\n",
       "      <th>LocationAbbr</th>\n",
       "      <th>LocationDesc</th>\n",
       "      <th>DataSource</th>\n",
       "      <th>Topic</th>\n",
       "      <th>Question</th>\n",
       "      <th>DataValueUnit</th>\n",
       "      <th>DataValueType</th>\n",
       "      <th>DataValue</th>\n",
       "      <th>...</th>\n",
       "      <th>HighConfidenceLimit</th>\n",
       "      <th>StratificationCategory1</th>\n",
       "      <th>Stratification1</th>\n",
       "      <th>GeoLocation</th>\n",
       "      <th>LocationID</th>\n",
       "      <th>TopicID</th>\n",
       "      <th>QuestionID</th>\n",
       "      <th>DataValueTypeID</th>\n",
       "      <th>StratificationCategoryID1</th>\n",
       "      <th>StratificationID1</th>\n",
       "    </tr>\n",
       "  </thead>\n",
       "  <tbody>\n",
       "    <tr>\n",
       "      <th>0</th>\n",
       "      <td>2017</td>\n",
       "      <td>2017</td>\n",
       "      <td>RI</td>\n",
       "      <td>Rhode Island</td>\n",
       "      <td>YRBSS</td>\n",
       "      <td>Tobacco</td>\n",
       "      <td>Current smokeless tobacco use among youth</td>\n",
       "      <td>%</td>\n",
       "      <td>Crude Prevalence</td>\n",
       "      <td>8.0</td>\n",
       "      <td>...</td>\n",
       "      <td>12.3</td>\n",
       "      <td>Gender</td>\n",
       "      <td>Male</td>\n",
       "      <td>(41.70828019300046, -71.52247031399963)</td>\n",
       "      <td>44</td>\n",
       "      <td>TOB</td>\n",
       "      <td>TOB2_1</td>\n",
       "      <td>CRDPREV</td>\n",
       "      <td>GENDER</td>\n",
       "      <td>GENM</td>\n",
       "    </tr>\n",
       "    <tr>\n",
       "      <th>1</th>\n",
       "      <td>2013</td>\n",
       "      <td>2013</td>\n",
       "      <td>MS</td>\n",
       "      <td>Mississippi</td>\n",
       "      <td>BRFSS</td>\n",
       "      <td>Arthritis</td>\n",
       "      <td>Fair or poor health among adults aged &gt;= 18 ye...</td>\n",
       "      <td>%</td>\n",
       "      <td>Crude Prevalence</td>\n",
       "      <td>46.9</td>\n",
       "      <td>...</td>\n",
       "      <td>51.6</td>\n",
       "      <td>Gender</td>\n",
       "      <td>Male</td>\n",
       "      <td>(32.745510099000455, -89.53803082499968)</td>\n",
       "      <td>28</td>\n",
       "      <td>ART</td>\n",
       "      <td>ART4_0</td>\n",
       "      <td>CRDPREV</td>\n",
       "      <td>GENDER</td>\n",
       "      <td>GENM</td>\n",
       "    </tr>\n",
       "    <tr>\n",
       "      <th>2</th>\n",
       "      <td>2016</td>\n",
       "      <td>2016</td>\n",
       "      <td>KY</td>\n",
       "      <td>Kentucky</td>\n",
       "      <td>BRFSS</td>\n",
       "      <td>Cancer</td>\n",
       "      <td>Papanicolaou smear use among adult women aged ...</td>\n",
       "      <td>%</td>\n",
       "      <td>Age-adjusted Prevalence</td>\n",
       "      <td>76.9</td>\n",
       "      <td>...</td>\n",
       "      <td>88.3</td>\n",
       "      <td>Race/Ethnicity</td>\n",
       "      <td>Multiracial, non-Hispanic</td>\n",
       "      <td>(37.645970271000465, -84.77497104799966)</td>\n",
       "      <td>21</td>\n",
       "      <td>CAN</td>\n",
       "      <td>CAN2_1</td>\n",
       "      <td>AGEADJPREV</td>\n",
       "      <td>RACE</td>\n",
       "      <td>MRC</td>\n",
       "    </tr>\n",
       "    <tr>\n",
       "      <th>3</th>\n",
       "      <td>2015</td>\n",
       "      <td>2015</td>\n",
       "      <td>KS</td>\n",
       "      <td>Kansas</td>\n",
       "      <td>BRFSS</td>\n",
       "      <td>Tobacco</td>\n",
       "      <td>Quit attempts in the past year among current s...</td>\n",
       "      <td>%</td>\n",
       "      <td>Age-adjusted Prevalence</td>\n",
       "      <td>53.2</td>\n",
       "      <td>...</td>\n",
       "      <td>56.0</td>\n",
       "      <td>Gender</td>\n",
       "      <td>Male</td>\n",
       "      <td>(38.34774030000045, -98.20078122699965)</td>\n",
       "      <td>20</td>\n",
       "      <td>TOB</td>\n",
       "      <td>TOB3_0</td>\n",
       "      <td>AGEADJPREV</td>\n",
       "      <td>GENDER</td>\n",
       "      <td>GENM</td>\n",
       "    </tr>\n",
       "    <tr>\n",
       "      <th>4</th>\n",
       "      <td>2015</td>\n",
       "      <td>2015</td>\n",
       "      <td>ND</td>\n",
       "      <td>North Dakota</td>\n",
       "      <td>ACS 1-Year Estimates</td>\n",
       "      <td>Overarching Conditions</td>\n",
       "      <td>Poverty</td>\n",
       "      <td>%</td>\n",
       "      <td>Crude Prevalence</td>\n",
       "      <td>8.9</td>\n",
       "      <td>...</td>\n",
       "      <td>9.6</td>\n",
       "      <td>Race/Ethnicity</td>\n",
       "      <td>White, non-Hispanic</td>\n",
       "      <td>(47.47531977900047, -100.11842104899966)</td>\n",
       "      <td>38</td>\n",
       "      <td>OVC</td>\n",
       "      <td>OVC3_1</td>\n",
       "      <td>CRDPREV</td>\n",
       "      <td>RACE</td>\n",
       "      <td>WHT</td>\n",
       "    </tr>\n",
       "  </tbody>\n",
       "</table>\n",
       "<p>5 rows × 24 columns</p>\n",
       "</div>"
      ],
      "text/plain": [
       "   YearStart  YearEnd LocationAbbr  LocationDesc            DataSource  \\\n",
       "0       2017     2017           RI  Rhode Island                 YRBSS   \n",
       "1       2013     2013           MS   Mississippi                 BRFSS   \n",
       "2       2016     2016           KY      Kentucky                 BRFSS   \n",
       "3       2015     2015           KS        Kansas                 BRFSS   \n",
       "4       2015     2015           ND  North Dakota  ACS 1-Year Estimates   \n",
       "\n",
       "                    Topic                                           Question  \\\n",
       "0                 Tobacco          Current smokeless tobacco use among youth   \n",
       "1               Arthritis  Fair or poor health among adults aged >= 18 ye...   \n",
       "2                  Cancer  Papanicolaou smear use among adult women aged ...   \n",
       "3                 Tobacco  Quit attempts in the past year among current s...   \n",
       "4  Overarching Conditions                                            Poverty   \n",
       "\n",
       "  DataValueUnit            DataValueType DataValue  ...  HighConfidenceLimit  \\\n",
       "0             %         Crude Prevalence       8.0  ...                 12.3   \n",
       "1             %         Crude Prevalence      46.9  ...                 51.6   \n",
       "2             %  Age-adjusted Prevalence      76.9  ...                 88.3   \n",
       "3             %  Age-adjusted Prevalence      53.2  ...                 56.0   \n",
       "4             %         Crude Prevalence       8.9  ...                  9.6   \n",
       "\n",
       "  StratificationCategory1            Stratification1  \\\n",
       "0                  Gender                       Male   \n",
       "1                  Gender                       Male   \n",
       "2          Race/Ethnicity  Multiracial, non-Hispanic   \n",
       "3                  Gender                       Male   \n",
       "4          Race/Ethnicity        White, non-Hispanic   \n",
       "\n",
       "                                GeoLocation  LocationID TopicID QuestionID  \\\n",
       "0   (41.70828019300046, -71.52247031399963)          44     TOB     TOB2_1   \n",
       "1  (32.745510099000455, -89.53803082499968)          28     ART     ART4_0   \n",
       "2  (37.645970271000465, -84.77497104799966)          21     CAN     CAN2_1   \n",
       "3   (38.34774030000045, -98.20078122699965)          20     TOB     TOB3_0   \n",
       "4  (47.47531977900047, -100.11842104899966)          38     OVC     OVC3_1   \n",
       "\n",
       "  DataValueTypeID  StratificationCategoryID1 StratificationID1  \n",
       "0         CRDPREV                     GENDER              GENM  \n",
       "1         CRDPREV                     GENDER              GENM  \n",
       "2      AGEADJPREV                       RACE               MRC  \n",
       "3      AGEADJPREV                     GENDER              GENM  \n",
       "4         CRDPREV                       RACE               WHT  \n",
       "\n",
       "[5 rows x 24 columns]"
      ]
     },
     "execution_count": 36,
     "metadata": {},
     "output_type": "execute_result"
    }
   ],
   "source": [
    "# Read restaurants dataset and set restaurant name column as index\n",
    "df = pd.read_csv('data/U.S._Chronic_Disease_Indicators__CDI_cleaned.csv', low_memory=False)\n",
    "\n",
    "# Show first 5 lines\n",
    "df.head(5)"
   ]
  },
  {
   "cell_type": "markdown",
   "metadata": {
    "deletable": false,
    "editable": true,
    "nbgrader": {
     "grade": false,
     "grade_id": "cell-986fc6db0e7fb3e8",
     "locked": true,
     "schema_version": 1,
     "solution": false
    }
   },
   "source": [
    "## Exercise 1\n",
    "\n",
    "Selecting columns\n",
    "\n",
    "Select the column __*city*__."
   ]
  },
  {
   "cell_type": "code",
   "execution_count": null,
   "metadata": {
    "deletable": false,
    "nbgrader": {
     "grade": false,
     "grade_id": "exercice_1",
     "locked": false,
     "schema_version": 1,
     "solution": true
    }
   },
   "outputs": [],
   "source": [
    "def exercise_1(df):\n",
    "    \"\"\" \n",
    "    Select the column city of the DataFrame\n",
    "    \n",
    "    Args:\n",
    "        df (pd.DataFrame): the input DataFrame\n",
    "\n",
    "    Returns:\n",
    "        (pd.Series): city column\n",
    "\n",
    "    \"\"\"\n",
    "    \n",
    "    # YOUR CODE HERE\n",
    "    raise NotImplementedError()\n",
    "    "
   ]
  },
  {
   "cell_type": "code",
   "execution_count": null,
   "metadata": {
    "deletable": false,
    "editable": true,
    "nbgrader": {
     "grade": true,
     "grade_id": "exercice_1_corect",
     "locked": true,
     "points": 1.5,
     "schema_version": 1,
     "solution": false
    }
   },
   "outputs": [],
   "source": [
    "# This cell is what will test your code, please ignore it!\n",
    "df_test = exercise_1(restaurants)\n",
    "assert isinstance(df_test, pd.Series)\n",
    "assert df_test.name == 'city'\n",
    "assert df_test.shape[0] == restaurants.shape[0]\n",
    "#pd.testing.assert_series_equal(df_test, df_true)"
   ]
  },
  {
   "cell_type": "markdown",
   "metadata": {},
   "source": [
    "## Exercise 2\n",
    "\n",
    "Selecting columns.\n",
    "\n",
    "Select columns __*aggregate_rating*__ and __*average_cost_for_two*__."
   ]
  },
  {
   "cell_type": "code",
   "execution_count": null,
   "metadata": {
    "deletable": false,
    "nbgrader": {
     "grade": false,
     "grade_id": "exercice_2",
     "locked": false,
     "schema_version": 1,
     "solution": true
    }
   },
   "outputs": [],
   "source": [
    "def exercise_2(df):\n",
    "    \"\"\" \n",
    "    Select columns aggregate_rating and average_cost_for_two\n",
    "    \n",
    "    Args:\n",
    "        df (pd.DataFrame): the input DataFrame\n",
    "\n",
    "    Returns:\n",
    "        (pd.DataFrame): aggregate_rating and average_cost_for_two columns\n",
    "\n",
    "    \"\"\"\n",
    "    # YOUR CODE HERE\n",
    "    raise NotImplementedError()"
   ]
  },
  {
   "cell_type": "code",
   "execution_count": null,
   "metadata": {
    "deletable": false,
    "editable": true,
    "nbgrader": {
     "grade": true,
     "grade_id": "exercice_2_correct",
     "locked": true,
     "points": 1.5,
     "schema_version": 1,
     "solution": false
    }
   },
   "outputs": [],
   "source": [
    "# This cell is what will test your code, please ignore it!\n",
    "df_test = exercise_2(restaurants)\n",
    "assert isinstance(exercise_2(restaurants), pd.DataFrame)\n",
    "assert df_test.columns.tolist() == ['aggregate_rating', 'average_cost_for_two']\n",
    "assert df_test.shape[0] == restaurants.shape[0]"
   ]
  },
  {
   "cell_type": "markdown",
   "metadata": {},
   "source": [
    "## Exercise 3\n",
    "Selecting rows.\n",
    "\n",
    "Select the **78th**, the **156th** and the **390th** rows."
   ]
  },
  {
   "cell_type": "code",
   "execution_count": null,
   "metadata": {
    "deletable": false,
    "nbgrader": {
     "grade": false,
     "grade_id": "exercice_3",
     "locked": false,
     "schema_version": 1,
     "solution": true
    }
   },
   "outputs": [],
   "source": [
    "def exercise_3(df):\n",
    "    \"\"\" \n",
    "    Select the 78, the 156 and the 390 rows\n",
    "    \n",
    "    Args:\n",
    "        df (pd.DataFrame): the input DataFrame\n",
    "\n",
    "    Returns:\n",
    "        (pd.DataFrame): subsetted df\n",
    "\n",
    "    \"\"\"\n",
    "    \n",
    "    # YOUR CODE HERE\n",
    "    raise NotImplementedError()"
   ]
  },
  {
   "cell_type": "code",
   "execution_count": null,
   "metadata": {
    "deletable": false,
    "editable": true,
    "nbgrader": {
     "grade": true,
     "grade_id": "exercice_3_correct",
     "locked": true,
     "points": 1.5,
     "schema_version": 1,
     "solution": false
    }
   },
   "outputs": [],
   "source": [
    "# This cell is what will test your code, please ignore it!\n",
    "df_test = exercise_3(restaurants)\n",
    "assert isinstance(df_test, pd.DataFrame)\n",
    "assert df_test.shape[1] == restaurants.shape[1]\n",
    "assert df_test.index.values.tolist() == [6114650, 8302994, 17836438]"
   ]
  },
  {
   "cell_type": "markdown",
   "metadata": {
    "deletable": false,
    "editable": true,
    "nbgrader": {
     "grade": false,
     "grade_id": "cell-cf9e255f531d08cf",
     "locked": true,
     "schema_version": 1,
     "solution": false
    }
   },
   "source": [
    "## Exercise 4\n",
    "Selecting rows and columns\n",
    "\n",
    "Select columns __*aggregate_rating*__  and __*restaurant name*__  for restaurants whose **id** is __8202867__ or __16553285__."
   ]
  },
  {
   "cell_type": "code",
   "execution_count": null,
   "metadata": {
    "deletable": false,
    "nbgrader": {
     "grade": false,
     "grade_id": "exercise_4",
     "locked": false,
     "schema_version": 1,
     "solution": true
    }
   },
   "outputs": [],
   "source": [
    "def exercise_4(df):\n",
    "    \"\"\" \n",
    "    Select columns aggregate_rating and restaurant name for rooms 8202867 and 16553285\n",
    "    \n",
    "    Args:\n",
    "        df (pd.DataFrame): the input DataFrame\n",
    "\n",
    "    Returns:\n",
    "        (pd.DataFrame): subsetted df\n",
    "\n",
    "    \"\"\"\n",
    "    \n",
    "    # YOUR CODE HERE\n",
    "    raise NotImplementedError()"
   ]
  },
  {
   "cell_type": "code",
   "execution_count": null,
   "metadata": {
    "deletable": false,
    "editable": true,
    "nbgrader": {
     "grade": true,
     "grade_id": "exercise_4_correct",
     "locked": true,
     "points": 2,
     "schema_version": 1,
     "solution": false
    }
   },
   "outputs": [],
   "source": [
    "# This cell is what will test your code, please ignore it!\n",
    "df_test = exercise_4(restaurants)\n",
    "assert isinstance(df_test, pd.DataFrame)\n",
    "assert df_test.index.values.tolist() == [8202867, 16553285]\n",
    "assert df_test.columns.tolist() == ['aggregate_rating', 'restaurant name']"
   ]
  },
  {
   "cell_type": "markdown",
   "metadata": {
    "deletable": false,
    "editable": true,
    "nbgrader": {
     "grade": false,
     "grade_id": "cell-2a00e05ad6de7869",
     "locked": true,
     "schema_version": 1,
     "solution": false
    }
   },
   "source": [
    "## Exercise 5\n",
    "Using the __mask__ function\n",
    "\n",
    "Use the mask function to hide all the restaurants in London."
   ]
  },
  {
   "cell_type": "code",
   "execution_count": null,
   "metadata": {
    "deletable": false,
    "nbgrader": {
     "grade": false,
     "grade_id": "exercice_5",
     "locked": false,
     "schema_version": 1,
     "solution": true
    }
   },
   "outputs": [],
   "source": [
    "def exercise_5(df):\n",
    "    \"\"\" \n",
    "    Use the mask function to hide all the restaurants in London\n",
    "    \n",
    "    Args:\n",
    "        df (pd.DataFrame): the input DataFrame\n",
    "\n",
    "    Returns:\n",
    "        (pd.DataFrame): df with hidden (NaN) rows\n",
    "\n",
    "    \"\"\"\n",
    "    # YOUR CODE HERE\n",
    "    raise NotImplementedError()"
   ]
  },
  {
   "cell_type": "code",
   "execution_count": null,
   "metadata": {
    "deletable": false,
    "editable": true,
    "nbgrader": {
     "grade": true,
     "grade_id": "exercise_5_correct",
     "locked": true,
     "points": 1.5,
     "schema_version": 1,
     "solution": false
    }
   },
   "outputs": [],
   "source": [
    "# This cell is what will test your code, please ignore it!\n",
    "df_test = exercise_5(restaurants)\n",
    "assert isinstance(df_test, pd.DataFrame)\n",
    "assert df_test.shape == restaurants.shape\n",
    "assert sum(df_test.city=='London') == 0"
   ]
  },
  {
   "cell_type": "markdown",
   "metadata": {},
   "source": [
    "## Exercise 6\n",
    "Using the __where__ function\n",
    "\n",
    "Use the where function to hide all the restaurants that **do not have table booking**."
   ]
  },
  {
   "cell_type": "code",
   "execution_count": null,
   "metadata": {
    "deletable": false,
    "nbgrader": {
     "grade": false,
     "grade_id": "exercise_6",
     "locked": false,
     "schema_version": 1,
     "solution": true
    }
   },
   "outputs": [],
   "source": [
    "def exercise_6(df):\n",
    "    \"\"\" \n",
    "    Use the where function to hide all the restaurants that do not have table booking\n",
    "    \n",
    "    Args:\n",
    "        df (pd.DataFrame): the input DataFrame\n",
    "\n",
    "    Returns:\n",
    "        (pd.DataFrame): df with hidden (NaN) rows\n",
    "\n",
    "    \"\"\"\n",
    "    \n",
    "    \n",
    "    # YOUR CODE HERE\n",
    "    raise NotImplementedError()"
   ]
  },
  {
   "cell_type": "code",
   "execution_count": null,
   "metadata": {
    "deletable": false,
    "editable": true,
    "nbgrader": {
     "grade": true,
     "grade_id": "exercise_6_correct",
     "locked": true,
     "points": 1.5,
     "schema_version": 1,
     "solution": false
    }
   },
   "outputs": [],
   "source": [
    "# This cell is what will test your code, please ignore it!\n",
    "df_test = exercise_6(restaurants)\n",
    "assert isinstance(df_test, pd.DataFrame)\n",
    "assert df_test.shape == restaurants.shape\n",
    "assert sum(df_test.has_table_booking==0) == 0"
   ]
  },
  {
   "cell_type": "markdown",
   "metadata": {
    "deletable": false,
    "editable": true,
    "nbgrader": {
     "grade": false,
     "grade_id": "cell-d1d81e24a5119351",
     "locked": true,
     "schema_version": 1,
     "solution": false
    }
   },
   "source": [
    "## Exercise 7\n",
    "Using slice operation.\n",
    "\n",
    "Use the slice operation to pick the **restaurants** whose **id** are between **6122300** and **6130000**.\n"
   ]
  },
  {
   "cell_type": "code",
   "execution_count": null,
   "metadata": {
    "deletable": false,
    "nbgrader": {
     "grade": false,
     "grade_id": "exercice_7",
     "locked": false,
     "schema_version": 1,
     "solution": true
    }
   },
   "outputs": [],
   "source": [
    "def exercise_7(df):\n",
    "    \"\"\" \n",
    "    Use the slice operation to pick all restaurants whose id is between 6122300 and 6130000.\n",
    "    \n",
    "    Args:\n",
    "        df (pd.DataFrame): the input DataFrame\n",
    "\n",
    "    Returns:\n",
    "        (pd.DataFrame): df subset of rows\n",
    "\n",
    "    \"\"\"\n",
    "    \n",
    "    # YOUR CODE HERE\n",
    "    raise NotImplementedError()"
   ]
  },
  {
   "cell_type": "code",
   "execution_count": null,
   "metadata": {
    "deletable": false,
    "editable": true,
    "nbgrader": {
     "grade": true,
     "grade_id": "exercice_7_correct",
     "locked": true,
     "points": 1.5,
     "schema_version": 1,
     "solution": false
    }
   },
   "outputs": [],
   "source": [
    "# This cell is what will test your code, please ignore it!\n",
    "df_test = exercise_7(restaurants)\n",
    "assert isinstance(df_test, pd.DataFrame)\n",
    "assert df_test.index.values.tolist() == [6122355, 6124820, 6125672, 6127163]\n",
    "assert df_test.columns.tolist() == restaurants.columns.tolist()"
   ]
  },
  {
   "cell_type": "markdown",
   "metadata": {
    "deletable": false,
    "editable": true,
    "nbgrader": {
     "grade": false,
     "grade_id": "cell-4ce398405164b68c",
     "locked": true,
     "schema_version": 1,
     "solution": false
    }
   },
   "source": [
    "## Exercise 8\n",
    "Picking a tasty ice cream for Maria!\n",
    "\n",
    "Maria has been working in Rome (Roma in portuguese) for two months now. Summer is just starting and she would like to try one of the famous ice creams that Italy is known for. She wants to try the best that Rome has to offer and so she is only picking an ice cream shop with a rating bigger than 4.5\n",
    "\n",
    "Find the options that fullfill these criteria. Select only the following columns:\n",
    "**neighbourhood**,\n",
    "**aggregate_rating**,\n",
    "**votes**,\n",
    "**average_cost_for_two**"
   ]
  },
  {
   "cell_type": "code",
   "execution_count": null,
   "metadata": {
    "deletable": false,
    "nbgrader": {
     "grade": false,
     "grade_id": "exercice_8",
     "locked": false,
     "schema_version": 1,
     "solution": true
    }
   },
   "outputs": [],
   "source": [
    "def exercise_8(df):\n",
    "    \"\"\" \n",
    "    Pick an Ice Cream Shop for Maria.\n",
    "    \n",
    "    Args:\n",
    "        df (pd.DataFrame): the input DataFrame\n",
    "\n",
    "    Returns:\n",
    "        (pd.DataFrame): subsetted df\n",
    "\n",
    "    \"\"\"\n",
    "    # YOUR CODE HERE\n",
    "    raise NotImplementedError()"
   ]
  },
  {
   "cell_type": "code",
   "execution_count": null,
   "metadata": {
    "deletable": false,
    "editable": true,
    "nbgrader": {
     "grade": true,
     "grade_id": "exercice_8_correct",
     "locked": true,
     "points": 2,
     "schema_version": 1,
     "solution": false
    }
   },
   "outputs": [],
   "source": [
    "# This cell is what will test your code, please ignore it!\n",
    "df_test = exercise_8(restaurants)\n",
    "assert isinstance(df_test, pd.DataFrame)\n",
    "assert len(df_test.columns) == 4\n",
    "assert len(df_test.index) == 3\n",
    "assert sum(df_test.votes) == 483\n",
    "assert round(sum(df_test.aggregate_rating),1) == 14.5\n",
    "assert sum(df_test.average_cost_for_two) == 52\n",
    "assert 'Veneto' in df_test.neighbourhood.values"
   ]
  },
  {
   "cell_type": "markdown",
   "metadata": {
    "deletable": false,
    "editable": true,
    "nbgrader": {
     "grade": false,
     "grade_id": "cell-c3ea67ba48876252",
     "locked": true,
     "schema_version": 1,
     "solution": false
    }
   },
   "source": [
    "## Exercise 9\n",
    "\n",
    "__Find a restaurant for Toni!__\n",
    "\n",
    "Toni is visiting Porto with  a friend and they really want to get some nice food next Saturday night. They have a total budget of 50€ and they want a restaurant with a rating bigger than 4.5. As their hotel is near Baixa neighbourhood they would prefer to pick a restaurant close by. \n",
    "\n",
    "Find the options that fullfill Tony criteria.\n",
    "\n",
    "In the end, present only the **restaurant name**, **neighbourhood**, **aggregate_rating**, **average_cost_for_two** and the **has_table_booking**."
   ]
  },
  {
   "cell_type": "code",
   "execution_count": null,
   "metadata": {
    "deletable": false,
    "nbgrader": {
     "grade": false,
     "grade_id": "exercice_9",
     "locked": false,
     "schema_version": 1,
     "solution": true
    }
   },
   "outputs": [],
   "source": [
    "def exercise_9(df):\n",
    "    \"\"\" \n",
    "    Pick a restaurant for Toni and his friend\n",
    "    \n",
    "    Args:\n",
    "        df (pd.DataFrame): the input DataFrame\n",
    "\n",
    "    Returns:\n",
    "        (pd.DataFrame): subsetted df\n",
    "\n",
    "    \"\"\"\n",
    "    # YOUR CODE HERE\n",
    "    raise NotImplementedError()"
   ]
  },
  {
   "cell_type": "code",
   "execution_count": null,
   "metadata": {
    "deletable": false,
    "editable": true,
    "nbgrader": {
     "grade": true,
     "grade_id": "exercice_9_correct",
     "locked": true,
     "points": 2,
     "schema_version": 1,
     "solution": false
    }
   },
   "outputs": [],
   "source": [
    "# This cell is what will test your code, please ignore it!\n",
    "df_test = exercise_9(restaurants)\n",
    "assert isinstance(df_test, pd.DataFrame)\n",
    "assert len(df_test.columns) == 5\n",
    "assert len(df_test.index) == 6\n",
    "assert 'Miss Pavlova' in df_test['restaurant name'].values\n",
    "assert round(sum(df_test.aggregate_rating),1) == 28.3\n",
    "assert sum(df_test.has_table_booking) == 2\n",
    "assert sum(df_test.average_cost_for_two) == 195\n",
    "assert sum(df_test.neighbourhood == 'Baixa') == 6"
   ]
  },
  {
   "cell_type": "markdown",
   "metadata": {
    "deletable": false,
    "editable": true,
    "nbgrader": {
     "grade": false,
     "grade_id": "cell-4ccac3fa748e29d4",
     "locked": true,
     "schema_version": 1,
     "solution": false
    }
   },
   "source": [
    "##  Exercise 10\n",
    "Working with dataframe index.\n",
    "\n",
    "Set column __*restaurant name*__ as index and sort it.\n",
    "Make sure you keep the old index as column in the resulting dataframe"
   ]
  },
  {
   "cell_type": "code",
   "execution_count": null,
   "metadata": {
    "deletable": false,
    "nbgrader": {
     "grade": false,
     "grade_id": "exercice_10",
     "locked": false,
     "schema_version": 1,
     "solution": true
    }
   },
   "outputs": [],
   "source": [
    "def exercise_10(df):\n",
    "    \"\"\" \n",
    "    Set column restaurant name as index. Keep old index as column in the new dataframe\n",
    "    Sort the index.\n",
    "    \n",
    "    Args:\n",
    "        beers (pd.DataFrame): the input DataFrame\n",
    "\n",
    "    Returns:\n",
    "        beers (pd.DataFrame): the transformed DataFrame\n",
    "\n",
    "    \"\"\"\n",
    "    \n",
    "    # YOUR CODE HERE\n",
    "    raise NotImplementedError()\n"
   ]
  },
  {
   "cell_type": "code",
   "execution_count": null,
   "metadata": {
    "deletable": false,
    "editable": true,
    "nbgrader": {
     "grade": true,
     "grade_id": "exercice_10_correct",
     "locked": true,
     "points": 2,
     "schema_version": 1,
     "solution": false
    }
   },
   "outputs": [],
   "source": [
    "df_test= exercise_10(restaurants)\n",
    "assert isinstance(df_test, pd.DataFrame)\n",
    "assert df_test.index.name == 'restaurant name'\n",
    "assert 'restaurant id' in df_test.columns.tolist()\n",
    "assert df_test.index.values[0] == '100 Montaditos' and df_test.index.values[-1] == 'daTerra'"
   ]
  },
  {
   "cell_type": "markdown",
   "metadata": {
    "deletable": false,
    "editable": true,
    "nbgrader": {
     "grade": false,
     "grade_id": "cell-4212e90aa62ae782",
     "locked": true,
     "schema_version": 1,
     "solution": false
    }
   },
   "source": [
    "## Exercise 11\n",
    "\n",
    "Adding columns\n",
    "\n",
    "Add a column with the the average cost for 10 people and name it __*average_cost_for_ten*__\n",
    "\n",
    "Add a column with the photo_count per vote and name it __*photo_count_per_vote*__"
   ]
  },
  {
   "cell_type": "code",
   "execution_count": null,
   "metadata": {
    "deletable": false,
    "nbgrader": {
     "grade": false,
     "grade_id": "exercise_11",
     "locked": false,
     "schema_version": 1,
     "solution": true
    }
   },
   "outputs": [],
   "source": [
    "def exercise_11(df):\n",
    "    \"\"\" \n",
    "    Add a column average_cost_for_ten and column photo_count_per_vote\n",
    "    \n",
    "    Args:\n",
    "        beers (pd.DataFrame): the input DataFrame\n",
    "\n",
    "    Returns:\n",
    "        beers (pd.DataFrame): DataFrame with 2 extra columns\n",
    "\n",
    "    \"\"\"\n",
    "    \n",
    "    # YOUR CODE HERE\n",
    "    raise NotImplementedError()"
   ]
  },
  {
   "cell_type": "code",
   "execution_count": null,
   "metadata": {
    "deletable": false,
    "editable": true,
    "nbgrader": {
     "grade": true,
     "grade_id": "exercise_11_correct",
     "locked": true,
     "points": 1.5,
     "schema_version": 1,
     "solution": false
    }
   },
   "outputs": [],
   "source": [
    "assert isinstance(exercise_11(restaurants), pd.DataFrame)\n",
    "df_test= exercise_11(restaurants)\n",
    "df_true=restaurants\n",
    "df_true['average_cost_for_ten'] = df_true['average_cost_for_two']*5\n",
    "df_true['photo_count_per_vote'] = df_true['photo_count']/df_true['votes']\n",
    "pd.testing.assert_frame_equal(df_test, df_true)"
   ]
  },
  {
   "cell_type": "markdown",
   "metadata": {
    "deletable": false,
    "editable": true,
    "nbgrader": {
     "grade": false,
     "grade_id": "cell-1555eb3c48fdd797",
     "locked": true,
     "schema_version": 1,
     "solution": false
    }
   },
   "source": [
    "## Exercice 12\n",
    "Dropping columns\n",
    "\n",
    "Drop the columns __*timings*__ and __*has_online_delivery*__."
   ]
  },
  {
   "cell_type": "code",
   "execution_count": null,
   "metadata": {
    "deletable": false,
    "nbgrader": {
     "grade": false,
     "grade_id": "exercice_12",
     "locked": false,
     "schema_version": 1,
     "solution": true
    }
   },
   "outputs": [],
   "source": [
    "def exercise_12(df):\n",
    "    \"\"\" \n",
    "    Drop columns timmings and has_online_delivery\n",
    "    \n",
    "    Args:\n",
    "        beers (pd.DataFrame): the input DataFrame\n",
    "\n",
    "    Returns:\n",
    "        beers (pd.DataFrame): the transformed DataFrame\n",
    "\n",
    "    \"\"\"\n",
    "    \n",
    "    # YOUR CODE HERE\n",
    "    raise NotImplementedError()"
   ]
  },
  {
   "cell_type": "code",
   "execution_count": null,
   "metadata": {
    "deletable": false,
    "editable": true,
    "nbgrader": {
     "grade": true,
     "grade_id": "exercise_12_correct",
     "locked": true,
     "points": 1.5,
     "schema_version": 1,
     "solution": false
    }
   },
   "outputs": [],
   "source": [
    "df_test = exercise_12(restaurants)\n",
    "assert isinstance(df_test, pd.DataFrame)\n",
    "assert ['timings','has_online_delivery'] not in df_test.columns.tolist()\n",
    "assert df_test.shape[0] == restaurants.shape[0]\n",
    "assert df_test.shape[1] == restaurants.shape[1]-2"
   ]
  }
 ],
 "metadata": {
  "kernelspec": {
   "display_name": "Python 3",
   "language": "python",
   "name": "python3"
  },
  "language_info": {
   "codemirror_mode": {
    "name": "ipython",
    "version": 3
   },
   "file_extension": ".py",
   "mimetype": "text/x-python",
   "name": "python",
   "nbconvert_exporter": "python",
   "pygments_lexer": "ipython3",
   "version": "3.8.3"
  }
 },
 "nbformat": 4,
 "nbformat_minor": 4
}
