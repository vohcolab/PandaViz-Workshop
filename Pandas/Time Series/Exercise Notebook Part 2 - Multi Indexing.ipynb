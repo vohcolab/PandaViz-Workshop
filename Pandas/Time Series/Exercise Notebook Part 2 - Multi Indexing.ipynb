{
 "cells": [
  {
   "cell_type": "code",
   "execution_count": null,
   "metadata": {},
   "outputs": [],
   "source": [
    "%matplotlib inline\n",
    "\n",
    "import hashlib\n",
    "import pandas as pd\n",
    "import matplotlib.pyplot as plt\n",
    "\n",
    "idx = pd.IndexSlice"
   ]
  },
  {
   "cell_type": "code",
   "execution_count": null,
   "metadata": {},
   "outputs": [],
   "source": [
    "df = pd.read_csv('https://raw.githubusercontent.com/vohcolab/PandaViz-Workshop/main/Pandas/Time%20Series/data/covid19data.csv')\n",
    "df.head()"
   ]
  },
  {
   "cell_type": "markdown",
   "metadata": {},
   "source": [
    "## Exercise 1) Multi Indexing\n",
    "\n",
    "Convert the date column to datetime and make an index with [date,Country]. Don't forget to sort the index!"
   ]
  },
  {
   "cell_type": "code",
   "execution_count": null,
   "metadata": {},
   "outputs": [],
   "source": [
    "data = df.copy()\n",
    "\n",
    "# data['date'] = ...\n",
    "# data = ...\n",
    "# data = ..."
   ]
  },
  {
   "cell_type": "code",
   "execution_count": null,
   "metadata": {},
   "outputs": [],
   "source": [
    "data['date'] = pd.to_datetime(data.date, infer_datetime_format=True)\n",
    "data = data.set_index(['date', 'Country'])\n",
    "data = data.sort_index()"
   ]
  },
  {
   "cell_type": "code",
   "execution_count": null,
   "metadata": {},
   "outputs": [],
   "source": [
    "data.head(5)"
   ]
  },
  {
   "cell_type": "code",
   "execution_count": null,
   "metadata": {},
   "outputs": [],
   "source": [
    "expected_hash = 'e0a979cf8955d1e01188e855301a73abba801de72f4a402a85abb547e65c5d21'\n",
    "assert hashlib.sha256(str(data.head(5)).encode()).hexdigest() == expected_hash\n",
    "assert hashlib.sha256(str(data.index.dtype).encode()).hexdigest() == '2958d416d08aa5a472d7b509036cb7eafd542add84527e66a145ea64cb4cdc75'"
   ]
  },
  {
   "cell_type": "markdown",
   "metadata": {},
   "source": [
    "## Exercise 2) Subsetting"
   ]
  },
  {
   "cell_type": "markdown",
   "metadata": {},
   "source": [
    "#### Exercise 2.1) What day was it when the daily deaths was highest in Panama?\n",
    "\n",
    "The answer should be a timestamp"
   ]
  },
  {
   "cell_type": "code",
   "execution_count": null,
   "metadata": {},
   "outputs": [],
   "source": [
    "# panama_highest_daily_death_count = ..."
   ]
  },
  {
   "cell_type": "code",
   "execution_count": null,
   "metadata": {},
   "outputs": [],
   "source": [
    "expected_hash = 'ed0c76c6b39b295bd9fdf73e0bc2bd6b8323d78a900524132dd549cb346f3ccc'\n",
    "\n",
    "assert hashlib.sha256(str(panama_highest_daily_death_count).encode()).hexdigest() == expected_hash"
   ]
  },
  {
   "cell_type": "markdown",
   "metadata": {},
   "source": [
    "#### Exercise 2.2) In October 31st, what were the top 5 countries whose confirmed cases rose the most since the day before?"
   ]
  },
  {
   "cell_type": "code",
   "execution_count": null,
   "metadata": {},
   "outputs": [],
   "source": [
    "# top5countries_highest_variation_confirmed_cases = ..."
   ]
  },
  {
   "cell_type": "code",
   "execution_count": null,
   "metadata": {},
   "outputs": [],
   "source": [
    "expected_hash = '4de492257a7ec8ff74ca976f169d81a9a22cc9db957c857d07d70499b66a013e'\n",
    "\n",
    "assert hashlib.sha256(str(top5countries_highest_variation_confirmed_cases).encode()).hexdigest() == expected_hash"
   ]
  },
  {
   "cell_type": "code",
   "execution_count": null,
   "metadata": {},
   "outputs": [],
   "source": []
  },
  {
   "cell_type": "markdown",
   "metadata": {},
   "source": [
    "#### Exercise 2.3) best day of the week to go for a walk?\n",
    "\n",
    "It's September at the moment. You and your friends are visiting Spain and are wondering what day of the week is safest to go take a long walk through the city. So you decide to check throughout the whole of August which day of the week has had the least number of daily new confirmed cases in total.\n",
    "\n",
    "_hint_ you may want to first add a new column with the weekday's name"
   ]
  },
  {
   "cell_type": "code",
   "execution_count": null,
   "metadata": {},
   "outputs": [],
   "source": [
    "# ToDo \n",
    "\n",
    "# weekday = <--- expecting a just a string with the weekday's name with the first letter Capital."
   ]
  },
  {
   "cell_type": "code",
   "execution_count": null,
   "metadata": {},
   "outputs": [],
   "source": [
    "expected_hash = '7d8af1de1262f150187d5938bf649d6c35726970685f916d1ec6392a801b9762'\n",
    "\n",
    "assert hashlib.sha256(str(weekday).encode()).hexdigest() == expected_hash"
   ]
  },
  {
   "cell_type": "markdown",
   "metadata": {},
   "source": [
    "## Exercise 3"
   ]
  },
  {
   "cell_type": "markdown",
   "metadata": {},
   "source": [
    "#### Exercise 3.1) Top 3 countries with all-time most confirmed cases"
   ]
  },
  {
   "cell_type": "markdown",
   "metadata": {},
   "source": [
    "The answer should be a series format with the index being the 3 countries and the values being the total number of confirmed cases"
   ]
  },
  {
   "cell_type": "code",
   "execution_count": null,
   "metadata": {},
   "outputs": [],
   "source": [
    "# top3_most_confirmed = ..."
   ]
  },
  {
   "cell_type": "code",
   "execution_count": null,
   "metadata": {},
   "outputs": [],
   "source": [
    "expected_hash = '6338b0768beea9ce516a65ad49bf9d6b18fd9fa6ccb1f14dc62881ee4caa2ac3'\n",
    "\n",
    "assert hashlib.sha256(str(top3_most_confirmed).encode()).hexdigest() == expected_hash"
   ]
  },
  {
   "cell_type": "markdown",
   "metadata": {},
   "source": [
    "#### Exercise 3.2) What's the country where the percentage change of deaths is smallest from  November 2nd to the 3rd?\n",
    "\n",
    "\n",
    "The answer should be a string."
   ]
  },
  {
   "cell_type": "code",
   "execution_count": null,
   "metadata": {},
   "outputs": [],
   "source": [
    "# country_smallest_death_variation = ..."
   ]
  },
  {
   "cell_type": "code",
   "execution_count": null,
   "metadata": {},
   "outputs": [],
   "source": [
    "#data.index.get_level_values(1).tolist()"
   ]
  },
  {
   "cell_type": "code",
   "execution_count": null,
   "metadata": {},
   "outputs": [],
   "source": [
    "expected_hash = '71e9eb10755c8232974d186a560f7658a1ccbdd3097877dfa1ad3436af90d46a'\n",
    "\n",
    "assert hashlib.sha256(str(country_smallest_death_variation).encode()).hexdigest() == expected_hash"
   ]
  },
  {
   "cell_type": "markdown",
   "metadata": {},
   "source": [
    "## Extras - Plotting"
   ]
  },
  {
   "cell_type": "markdown",
   "metadata": {},
   "source": [
    "You've reach the end. Congratulations! As a reward I'll show you one more trick you can do with plotting in time series."
   ]
  },
  {
   "cell_type": "markdown",
   "metadata": {},
   "source": [
    "We can compare data across countries in a very nice way in Pandas. Let's Compare Portugal's with Italy's."
   ]
  },
  {
   "cell_type": "code",
   "execution_count": null,
   "metadata": {},
   "outputs": [],
   "source": [
    "plt.figure(figsize=(12,6))\n",
    "portugal_data = data.loc[idx['October 2020', 'Portugal'], 'deaths'].pct_change()\n",
    "italy_data = data.loc[idx['October 2020', 'Italy'], 'deaths'].pct_change()\n",
    "\n",
    "portugal_data.plot(label='Portugal')\n",
    "italy_data.plot(label='Italy')\n",
    "plt.title('Daily deaths percentage change for October 2020', fontsize=20)\n",
    "plt.legend()"
   ]
  },
  {
   "cell_type": "code",
   "execution_count": null,
   "metadata": {},
   "outputs": [],
   "source": []
  }
 ],
 "metadata": {
  "kernelspec": {
   "display_name": "Python 3",
   "language": "python",
   "name": "python3"
  },
  "language_info": {
   "codemirror_mode": {
    "name": "ipython",
    "version": 3
   },
   "file_extension": ".py",
   "mimetype": "text/x-python",
   "name": "python",
   "nbconvert_exporter": "python",
   "pygments_lexer": "ipython3",
   "version": "3.8.3"
  }
 },
 "nbformat": 4,
 "nbformat_minor": 4
}
