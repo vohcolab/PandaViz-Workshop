{
 "cells": [
  {
   "cell_type": "code",
   "execution_count": null,
   "metadata": {},
   "outputs": [],
   "source": [
    "%matplotlib inline\n",
    "\n",
    "import hashlib\n",
    "import pandas as pd\n",
    "import matplotlib.pyplot as plt\n",
    "\n",
    "idx = pd.IndexSlice"
   ]
  },
  {
   "cell_type": "code",
   "execution_count": null,
   "metadata": {},
   "outputs": [],
   "source": [
    "data_path = 'https://raw.githubusercontent.com/vohcolab/PandaViz-Workshop/main/Pandas/Time%20Series/data/covid19data.csv'\n",
    "df = pd.read_csv(data_path)\n",
    "df.head()"
   ]
  },
  {
   "cell_type": "markdown",
   "metadata": {},
   "source": [
    "## Exercise 1) Multi Indexing\n",
    "\n",
    "Convert the date column to datetime and make an index with [date,Country]. Don't forget to sort the index!"
   ]
  },
  {
   "cell_type": "code",
   "execution_count": null,
   "metadata": {},
   "outputs": [],
   "source": [
    "data = df.copy()\n",
    "\n",
    "data['date'] = pd.to_datetime(data['date'], infer_datetime_format=True)\n",
    "data = data.set_index(['date', 'Country'])\n",
    "data = data.sort_index()"
   ]
  },
  {
   "cell_type": "code",
   "execution_count": null,
   "metadata": {},
   "outputs": [],
   "source": [
    "data.head(5)"
   ]
  },
  {
   "cell_type": "code",
   "execution_count": null,
   "metadata": {},
   "outputs": [],
   "source": [
    "expected_hash = 'e0a979cf8955d1e01188e855301a73abba801de72f4a402a85abb547e65c5d21'\n",
    "assert hashlib.sha256(str(data.head(5)).encode()).hexdigest() == expected_hash\n",
    "assert hashlib.sha256(str(data.index.dtype).encode()).hexdigest() == '2958d416d08aa5a472d7b509036cb7eafd542add84527e66a145ea64cb4cdc75'"
   ]
  },
  {
   "cell_type": "markdown",
   "metadata": {},
   "source": [
    "## Exercise 2) Subsetting"
   ]
  },
  {
   "cell_type": "markdown",
   "metadata": {},
   "source": [
    "#### Exercise 2.1) What day of the month was it when the daily deaths was highest in Panama?\n",
    "\n",
    "The answer should be a timestamp"
   ]
  },
  {
   "cell_type": "code",
   "execution_count": null,
   "metadata": {},
   "outputs": [],
   "source": [
    "panama_highest_daily_death_count = data.loc[idx[:,'Panama'],'deaths'].idxmax()[0]\n",
    "# explanation\n",
    "# data is already daily\n",
    "# .idxmax() returns the index with highest deaths\n",
    "# however our index is double-index remeber? so we have something of the form\n",
    "# (timestamp,location). that's why we then access the first element with [0]"
   ]
  },
  {
   "cell_type": "code",
   "execution_count": null,
   "metadata": {},
   "outputs": [],
   "source": [
    "panama_highest_daily_death_count"
   ]
  },
  {
   "cell_type": "code",
   "execution_count": null,
   "metadata": {},
   "outputs": [],
   "source": [
    "expected_hash = '6f36f9238aa16925dac6ab834afccaddcc3a7487b0e9c868f5c47416f83d3036'\n",
    "\n",
    "assert hashlib.sha256(str(panama_highest_daily_death_count).encode()).hexdigest() == expected_hash"
   ]
  },
  {
   "cell_type": "markdown",
   "metadata": {},
   "source": [
    "#### Exercise 2.2) In October 31st, what were the top 5 countries whose confirmed cases rose the most since the day before?\n",
    "\n",
    "result must be an Index type"
   ]
  },
  {
   "cell_type": "code",
   "execution_count": null,
   "metadata": {},
   "outputs": [],
   "source": [
    "top5 = data.loc[idx['Oct 31st 2020',:],'confirmed_cases'].nlargest(5).index.get_level_values('Country')"
   ]
  },
  {
   "cell_type": "code",
   "execution_count": null,
   "metadata": {},
   "outputs": [],
   "source": [
    "top5"
   ]
  },
  {
   "cell_type": "code",
   "execution_count": null,
   "metadata": {},
   "outputs": [],
   "source": [
    "expected_hash = '7bc8a29be43a8beddc2b8fe5585c2bb7c89930695f80d5e0ce852b01c9789b4d'\n",
    "\n",
    "assert hashlib.sha256(str(top5).encode()).hexdigest() == expected_hash"
   ]
  },
  {
   "cell_type": "markdown",
   "metadata": {},
   "source": [
    "#### Exercise 2.3) best day of the week to go for a walk?\n",
    "\n",
    "It's September at the moment. You and your friends are visiting Spain and are wondering what day of the week is safest to go take a long walk through the city. So you decide to check throughout the whole of August which day of the week has had the least number of daily new confirmed cases in total.\n",
    "\n",
    "_hint_ you may want to first add a new column with the weekday's name"
   ]
  },
  {
   "cell_type": "code",
   "execution_count": null,
   "metadata": {},
   "outputs": [],
   "source": [
    "data_v2 = data.copy()\n",
    "data_v2['weekday'] = data_v2.index.get_level_values('date').day_name()\n",
    "weekday = data_v2.loc[idx['August 2020'], ['confirmed_cases','weekday']].groupby('weekday').sum().idxmin().values[0]\n",
    "# create weekday column so that we can group by it\n",
    "# idxmin() for weekday with least confirmed_cases\n",
    "# values[0] to get the final weekday string\n",
    "# PS: try removing \"values[0]\" to see what you get"
   ]
  },
  {
   "cell_type": "code",
   "execution_count": null,
   "metadata": {},
   "outputs": [],
   "source": [
    "weekday"
   ]
  },
  {
   "cell_type": "code",
   "execution_count": null,
   "metadata": {},
   "outputs": [],
   "source": [
    "expected_hash = '7d8af1de1262f150187d5938bf649d6c35726970685f916d1ec6392a801b9762'\n",
    "\n",
    "assert hashlib.sha256(str(weekday).encode()).hexdigest() == expected_hash"
   ]
  },
  {
   "cell_type": "markdown",
   "metadata": {},
   "source": [
    "## Exercise 3"
   ]
  },
  {
   "cell_type": "markdown",
   "metadata": {},
   "source": [
    "#### Exercise 3.1) Top 3 countries with all-time most confirmed cases"
   ]
  },
  {
   "cell_type": "markdown",
   "metadata": {},
   "source": [
    "The answer should be a list with the 3 countries presented in descending order according to their all-time confirmed cases"
   ]
  },
  {
   "cell_type": "code",
   "execution_count": null,
   "metadata": {},
   "outputs": [],
   "source": [
    "top3_most_confirmed = data.groupby('Country').sum().nlargest(3, columns='confirmed_cases').index.tolist()"
   ]
  },
  {
   "cell_type": "code",
   "execution_count": null,
   "metadata": {},
   "outputs": [],
   "source": [
    "top3_most_confirmed"
   ]
  },
  {
   "cell_type": "code",
   "execution_count": null,
   "metadata": {},
   "outputs": [],
   "source": [
    "expected_hash = '2639a1aee85cdd11e6f24f3a7e0f9c5ca9a23d8d6907d2f2f30c38a63197b9c2'\n",
    "\n",
    "assert hashlib.sha256(str(top3_most_confirmed).encode()).hexdigest() == expected_hash"
   ]
  },
  {
   "cell_type": "markdown",
   "metadata": {},
   "source": [
    "#### Exercise 3.2) What's the country where the percentage change of deaths is smallest from  November 2nd to the 3rd?\n",
    "\n",
    "\n",
    "The answer should be a string."
   ]
  },
  {
   "cell_type": "code",
   "execution_count": null,
   "metadata": {},
   "outputs": [],
   "source": [
    "interval = slice('November 2nd 2020', 'November 3rd 2020')\n",
    "country_smallest_death_variation = data.loc[idx[interval,:], 'deaths'].pct_change().idxmin()[1]"
   ]
  },
  {
   "cell_type": "code",
   "execution_count": null,
   "metadata": {},
   "outputs": [],
   "source": [
    "country_smallest_death_variation"
   ]
  },
  {
   "cell_type": "code",
   "execution_count": null,
   "metadata": {},
   "outputs": [],
   "source": [
    "expected_hash = '71e9eb10755c8232974d186a560f7658a1ccbdd3097877dfa1ad3436af90d46a'\n",
    "\n",
    "assert hashlib.sha256(str(country_smallest_death_variation).encode()).hexdigest() == expected_hash"
   ]
  },
  {
   "cell_type": "markdown",
   "metadata": {},
   "source": [
    "## Plotting multiple timeseries"
   ]
  },
  {
   "cell_type": "markdown",
   "metadata": {},
   "source": [
    "You've reach the end. Congratulations! As a reward I'll show you one more trick you can do with plotting in time series."
   ]
  },
  {
   "cell_type": "markdown",
   "metadata": {},
   "source": [
    "We can compare data across countries in a very nice way in Pandas. Let's Compare Portugal's with Italy's."
   ]
  },
  {
   "cell_type": "code",
   "execution_count": null,
   "metadata": {},
   "outputs": [],
   "source": [
    "plt.figure(figsize=(14,6))\n",
    "\n",
    "october = 'October 2020'\n",
    "portugal_data = data.loc[idx[october, 'Portugal'], 'deaths'].pct_change()\n",
    "italy_data = data.loc[idx[october, 'Italy'], 'deaths'].pct_change()\n",
    "\n",
    "portugal_data.plot(label='Portugal')\n",
    "italy_data.plot(label='Italy')\n",
    "plt.title('Daily deaths percentage change for October 2020', fontsize=20)\n",
    "plt.legend()"
   ]
  },
  {
   "cell_type": "markdown",
   "metadata": {},
   "source": [
    "hum the x axis is a bit weird..\n",
    "\n",
    "We wanted to have just the dates, but because we have a double index the x axis also includes the country alongside each date. Which is redundant because we already know which countries we are talking about. \n",
    "\n",
    "Lets fix that!"
   ]
  },
  {
   "cell_type": "code",
   "execution_count": null,
   "metadata": {},
   "outputs": [],
   "source": [
    "plt.figure(figsize=(14,6))\n",
    "\n",
    "october = 'October 2020'\n",
    "portugal_data = data.loc[idx[october, 'Portugal'], 'deaths'].pct_change()\n",
    "italy_data = data.loc[idx[october, 'Italy'], 'deaths'].pct_change()\n",
    "\n",
    "# fix index\n",
    "portugal_data_fixed, italy_data_fixed = portugal_data.copy(), italy_data.copy()\n",
    "portugal_data_fixed.index = portugal_data_fixed.index.droplevel('Country') # simply drop country from index and keep only dates\n",
    "italy_data_fixed.index = italy_data_fixed.index.droplevel('Country') # simply drop country from index and keep only dates\n",
    "\n",
    "portugal_data_fixed.plot(label='Portugal')\n",
    "italy_data_fixed.plot(label='Italy')\n",
    "plt.title('Daily deaths percentage change for October 2020', fontsize=20)\n",
    "plt.legend()"
   ]
  },
  {
   "cell_type": "code",
   "execution_count": null,
   "metadata": {},
   "outputs": [],
   "source": []
  }
 ],
 "metadata": {
  "kernelspec": {
   "display_name": "Python 3",
   "language": "python",
   "name": "python3"
  },
  "language_info": {
   "codemirror_mode": {
    "name": "ipython",
    "version": 3
   },
   "file_extension": ".py",
   "mimetype": "text/x-python",
   "name": "python",
   "nbconvert_exporter": "python",
   "pygments_lexer": "ipython3",
   "version": "3.8.3"
  }
 },
 "nbformat": 4,
 "nbformat_minor": 4
}
