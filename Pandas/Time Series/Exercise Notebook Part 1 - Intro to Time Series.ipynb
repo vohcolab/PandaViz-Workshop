{
 "cells": [
  {
   "cell_type": "code",
   "execution_count": null,
   "metadata": {},
   "outputs": [],
   "source": [
    "import matplotlib.pyplot as plt\n",
    "import pandas as pd\n",
    "%matplotlib inline "
   ]
  },
  {
   "cell_type": "code",
   "execution_count": null,
   "metadata": {},
   "outputs": [],
   "source": [
    "data_raw = pd.read_csv('https://raw.githubusercontent.com/vohcolab/PandaViz-Workshop/main/Pandas/Time%20Series/data/covid19dataPortugal.csv')\n",
    "data_raw.head(5)"
   ]
  },
  {
   "cell_type": "markdown",
   "metadata": {},
   "source": [
    "# Exercise 1 : Index and datetime\n",
    "\n",
    "Turn the date column to datetime, set it as index and sort the index."
   ]
  },
  {
   "cell_type": "code",
   "execution_count": null,
   "metadata": {},
   "outputs": [],
   "source": [
    "# We expect the solution to be a dataframe\n",
    "\n",
    "data = data_raw.copy() # copies the contents of data_raw into a new variable\n",
    "\n",
    "#data['date'] =\n",
    "#data =\n",
    "#data =            # Don't forget best practices\n",
    "\n",
    "# YOUR CODE HERE\n",
    "raise NotImplementedError()"
   ]
  },
  {
   "cell_type": "code",
   "execution_count": null,
   "metadata": {},
   "outputs": [],
   "source": [
    "expected_hash = '8aed642bf5118b9d3c859bd4be35ecac75b6e873cce34e7b6f554b06f75550d7'\n",
    "assert hashlib.sha256(str(data.iloc[0].deaths).encode()).hexdigest() == expected_hash\n",
    "assert hashlib.sha256(str(data.index.dtype).encode()).hexdigest() == '261738f2e43a1c47a16f043b46deb993943d61f4a2bbe5ef4b03c3fb1af362b5'"
   ]
  },
  {
   "cell_type": "code",
   "execution_count": null,
   "metadata": {},
   "outputs": [],
   "source": [
    "hashlib.sha256(str(worst_day).encode()).hexdigest()"
   ]
  },
  {
   "cell_type": "markdown",
   "metadata": {},
   "source": [
    "# Exercise 2: Working with timestamps"
   ]
  },
  {
   "cell_type": "markdown",
   "metadata": {},
   "source": [
    "#### Exercise 2.1) Day with most deaths"
   ]
  },
  {
   "cell_type": "code",
   "execution_count": null,
   "metadata": {},
   "outputs": [],
   "source": [
    "# hint: the answer should be a timestamp\n",
    "\n",
    "#worst_day =\n",
    "\n",
    "# YOUR CODE HERE\n",
    "#raise NotImplementedError()"
   ]
  },
  {
   "cell_type": "code",
   "execution_count": null,
   "metadata": {},
   "outputs": [],
   "source": [
    "expected_hash = '7c3185b857e1103d2e9aed349c3797c03510902dea53857bbb05e0ede17441d1'\n",
    "assert hashlib.sha256(str(worst_day).encode()).hexdigest() == expected_hash"
   ]
  },
  {
   "cell_type": "markdown",
   "metadata": {},
   "source": [
    "#### 2.2) Tuesday with most confirmed cases"
   ]
  },
  {
   "cell_type": "code",
   "execution_count": null,
   "metadata": {},
   "outputs": [],
   "source": [
    "# worst_tuesday_cases = ..."
   ]
  },
  {
   "cell_type": "code",
   "execution_count": null,
   "metadata": {},
   "outputs": [],
   "source": [
    "expected_hash = 'ed0cfdeed24c0a3cde2783625c6af8e952f2be2989d74dfc0762d844d4727cd0'\n",
    "\n",
    "assert hashlib.sha256(str(worst_tuesday_cases).encode()).hexdigest() == expected_hash"
   ]
  },
  {
   "cell_type": "markdown",
   "metadata": {},
   "source": [
    "## Exercise 3: Time series methods"
   ]
  },
  {
   "cell_type": "markdown",
   "metadata": {},
   "source": [
    "#### 3.1) A new high since the summer started\n",
    "\n",
    "It's The first week of October. Most students are back to having classes, and Summer vacations are officially over. Your friend comes up to you and says \"this week has been the worst week with most deaths since the 1st of July. I believe we need to start being more careful now\".\n",
    "\n",
    "To confirm if what your friend is saying is true, compute the deadliest week of the covid data from the 1st of July up until the first week of october (including), and confirm if it actually turns out to be the first week of October."
   ]
  },
  {
   "cell_type": "code",
   "execution_count": null,
   "metadata": {},
   "outputs": [],
   "source": [
    "# assume the first week of october ends on the 4th. (For grading purposes)\n",
    "\n",
    "# weekly_high = ..."
   ]
  },
  {
   "cell_type": "code",
   "execution_count": null,
   "metadata": {},
   "outputs": [],
   "source": [
    "expected_hash = '290519bb74966f3ebeab68bcb3b51550f6954f65918ee48c805aea3a8e4a4422'\n",
    "\n",
    "assert hashlib.sha256(str(weekly_high).encode()).hexdigest() == expected_hash"
   ]
  },
  {
   "cell_type": "markdown",
   "metadata": {},
   "source": [
    "#### 3.2) Is it getting better?\n",
    "\n",
    "Summer is reaching the half point now and rumors says that the number of daily new confirmed cases has been decreasing for 4 days now. Can you confirm that?\n",
    "\n",
    "It's currently the 29th of August, and you are asked to return the variation of daily confirmed cases of the past 4 days, excluding today.\n",
    "\n",
    "_hint_: be wary of the order of operations that you are going to use\n"
   ]
  },
  {
   "cell_type": "code",
   "execution_count": null,
   "metadata": {},
   "outputs": [],
   "source": [
    "# past4days = ..."
   ]
  },
  {
   "cell_type": "code",
   "execution_count": null,
   "metadata": {},
   "outputs": [],
   "source": [
    "expected_hash = '02477d3b0d28f69f12939d60ae4a9511601b586a266dbf7b226ea9df60b39b27'\n",
    "\n",
    "assert hashlib.sha256(str(past4days).encode()).hexdigest() == expected_hash"
   ]
  },
  {
   "cell_type": "markdown",
   "metadata": {},
   "source": [
    "#### 3.3) Let's get the trend\n",
    "\n",
    "\n",
    "It's currently October the 20th and you want to understand the current trend on how the death cases are evolving, without being distracted by noise. You decide to use data from the beginning of October up to today (excluding because today's data hasn't arrived yet).\n",
    "\n",
    "Use a window of 7 days and compute the deaths' trend from the total number of deaths inside the window. "
   ]
  },
  {
   "cell_type": "code",
   "execution_count": null,
   "metadata": {},
   "outputs": [],
   "source": [
    "# trend_deaths_october_so_far = ..."
   ]
  },
  {
   "cell_type": "markdown",
   "metadata": {},
   "source": [
    "Would you like to plot it?"
   ]
  },
  {
   "cell_type": "code",
   "execution_count": null,
   "metadata": {},
   "outputs": [],
   "source": [
    "# trend_deaths_october_so_far <-- complete this line of code to plot the data"
   ]
  },
  {
   "cell_type": "code",
   "execution_count": null,
   "metadata": {},
   "outputs": [],
   "source": [
    "expected_hash = 'b081e55e0d73f174701421ea7d8268bab267ec7a4310cefbb8491092dc9759e8'\n",
    "\n",
    "assert hashlib.sha256(str(trend_deaths_october_so_far).encode()).hexdigest() == expected_hash"
   ]
  }
 ],
 "metadata": {
  "kernelspec": {
   "display_name": "Python 3",
   "language": "python",
   "name": "python3"
  },
  "language_info": {
   "codemirror_mode": {
    "name": "ipython",
    "version": 3
   },
   "file_extension": ".py",
   "mimetype": "text/x-python",
   "name": "python",
   "nbconvert_exporter": "python",
   "pygments_lexer": "ipython3",
   "version": "3.8.3"
  }
 },
 "nbformat": 4,
 "nbformat_minor": 4
}
